{
 "cells": [
  {
   "cell_type": "markdown",
   "metadata": {},
   "source": [
    "# **Training MARS Hourglass Pose Estimator**"
   ]
  },
  {
   "cell_type": "markdown",
   "metadata": {},
   "source": [
    "### Required Arguments\n",
    "* **tfrecords**: path to the binary file(s) that contain your training set. If multiple files, separate with commas.\n",
    "* **logdir**: path to directory where summary and checkpoint files will be stored.\n",
    "* **cfg**: path to training configuration file.\n",
    "\n",
    "The example below assumes the current working directory is the `multibox_detector` directory, which contains `train.py`. To train the multibox detector with the required arguments, simply replace the areas indicated below with the appropriate paths.\n",
    "\n",
    "### Outputs\n",
    "Saves model checkpoint files to `logdir` directory."
   ]
  },
  {
   "cell_type": "code",
   "execution_count": null,
   "metadata": {},
   "outputs": [],
   "source": [
    "from train import *\n",
    "from config import parse_config_file\n",
    "\n",
    "# Paths\n",
    "cfg_path = '/path/to/your/config/file'\n",
    "log_dir = '/path/to/your/log/dir'\n",
    "tfrecord_path = '/path/to/your/tfrecords'\n",
    "\n",
    "# Parse configuration file\n",
    "cfg = parse_config_file(cfg_path)\n",
    "\n",
    "# Actually run the training.\n",
    "train(\n",
    "     tfrecords=[tfrecord_path],\n",
    "     logdir=log_dir,\n",
    "     cfg=cfg\n",
    "     )"
   ]
  },
  {
   "cell_type": "markdown",
   "metadata": {},
   "source": [
    "# **Visualizing Input Data**\n",
    "### Required Arguments\n",
    "* **tfrecords**: path to the binary file(s) that contain your training set. If multiple files, separate with commas in list form.\n",
    "* **cfg**: path to training configuration file.\n",
    "\n",
    "### Outputs\n",
    "Displays in terminal the cropped mouse images with keypoints overlayed.\n"
   ]
  },
  {
   "cell_type": "code",
   "execution_count": null,
   "metadata": {},
   "outputs": [],
   "source": [
    "from visualize_inputs import *\n",
    "from config import parse_config_file\n",
    "\n",
    "# Paths\n",
    "cfg_path = '/path/to/your/config/file'\n",
    "tfrecord_path = '/path/to/your/tfrecords'\n",
    "\n",
    "# Parse configuration file\n",
    "cfg = parse_config_file(cfg_path)\n",
    "\n",
    "# Call visualization function\n",
    "visualize(\n",
    "    tfrecords=[tfrecord_path],\n",
    "    cfg=cfg\n",
    "    )"
   ]
  },
  {
   "cell_type": "markdown",
   "metadata": {},
   "source": [
    "# **Evaluating Pose Estimator**\n",
    "### Required Arguments\n",
    "* **tfrecords**: path to the binary file(s) that contain your validation set. If multiple files, separate with commas in list form.\n",
    "* **cfg**: path to validation configuration file.\n",
    "\n",
    "### Outputs\n",
    "Displays summary of model performance on the validation set to the terminal."
   ]
  },
  {
   "cell_type": "code",
   "execution_count": null,
   "metadata": {},
   "outputs": [],
   "source": [
    "from eval import *\n",
    "from config import parse_config_file\n",
    "\n",
    "# Paths\n",
    "cfg_path = '/path/to/your/config/file'\n",
    "tfrecords_path = '/path/to/your/tfrecords'\n",
    "checkpoint_path = '/path/to/your/model/checkpoint/'\n",
    "summary_dir = '/path/to/your/summary/dir'\n",
    "\n",
    "# Parse configuration file\n",
    "cfg = parse_config_file(cfg_path)\n",
    "\n",
    "eval(\n",
    "  tfrecords=[tfrecords_path],\n",
    "  checkpoint_path=checkpoint_path,\n",
    "  summary_dir = summary_dir,\n",
    "  max_iterations = 1,\n",
    "  cfg=cfg\n",
    ")"
   ]
  },
  {
   "cell_type": "markdown",
   "metadata": {},
   "source": [
    "# **Testing Pose Estimator**\n",
    "### Required Arguments\n",
    "* **tfrecords**: path to the binary file(s) that contain your validation set. If multiple files, separate with commas in list form.\n",
    "* **checkpoint_path**: Path to directory where the checkpoint files are stored.\n",
    "* **save_dir**: Path to the directory where the results will be saved.\n",
    "* **max_iterations**: Maximum number of iterations to run. Set to 0 to run on all records.\n",
    "* **iterations_per_record**: The number of iterations to store in a tfrecord file before creating another one.\n",
    "* **cfg**: path to validation configuration file.\n",
    "\n",
    "### Outputs\n",
    "Saves `heatmap_results-0-0.json` summary file to `save_dir`."
   ]
  },
  {
   "cell_type": "code",
   "execution_count": null,
   "metadata": {},
   "outputs": [],
   "source": [
    "from detect import *\n",
    "from config import parse_config_file\n",
    "\n",
    "# Paths\n",
    "cfg_path = '/path/to/your/config/file'\n",
    "tfrecords_path = '/path/to/your/tfrecords'\n",
    "checkpoint_path = '/path/to/your/model/checkpoint/'\n",
    "save_dir = '/path/to/your/save/dir'\n",
    "\n",
    "# Parse configuration file\n",
    "cfg = parse_config_file(cfg_path)\n",
    "\n",
    "# Run detection\n",
    "detect(\n",
    "  tfrecords=[tfrecords_path],\n",
    "  checkpoint_path=checkpoint_path,\n",
    "  save_dir = save_dir,\n",
    "  max_iterations = 1,\n",
    "  iterations_per_record = 1,\n",
    "  cfg=cfg\n",
    ")"
   ]
  },
  {
   "cell_type": "markdown",
   "metadata": {},
   "source": [
    "# **Visualizing Pose Estimator**\n",
    "### Required Arguments\n",
    "* **tfrecords**: path to the binary file(s) that contain your validation set. If multiple files, separate with commas in list form.\n",
    "* **checkpoint_path**: Path to directory where the checkpoint files are stored.\n",
    "* **cfg**: path to validation configuration file.\n",
    "\n",
    "### Outputs\n",
    "Displays detection visualizations in terminal."
   ]
  },
  {
   "cell_type": "code",
   "execution_count": null,
   "metadata": {},
   "outputs": [],
   "source": [
    "from config import parse_config_file\n",
    "from plot_pose_confs import *\n",
    "\n",
    "# Paths\n",
    "cfg_path = '/path/to/your/config/file'\n",
    "tfrecords_path = '/path/to/your/tfrecords'\n",
    "checkpoint_path = '/path/to/your/model/checkpoint/'\n",
    "save_dir = '/path/to/your/save/dir'\n",
    "\n",
    "# Parse configuration file\n",
    "cfg = parse_config_file(cfg_path)\n",
    "\n",
    "# Visualize detections\n",
    "detect(\n",
    "  tfrecords=[tfrecords_path],\n",
    "  checkpoint_path=checkpoint_path,\n",
    "  cfg=cfg,\n",
    "  save_dir=save_dir\n",
    ")"
   ]
  }
 ],
 "metadata": {
  "kernelspec": {
   "display_name": "Python [conda env:draft_mars_dev]",
   "language": "python",
   "name": "conda-env-draft_mars_dev-py"
  },
  "language_info": {
   "codemirror_mode": {
    "name": "ipython",
    "version": 3
   },
   "file_extension": ".py",
   "mimetype": "text/x-python",
   "name": "python",
   "nbconvert_exporter": "python",
   "pygments_lexer": "ipython3",
   "version": "3.7.8"
  }
 },
 "nbformat": 4,
 "nbformat_minor": 4
}
