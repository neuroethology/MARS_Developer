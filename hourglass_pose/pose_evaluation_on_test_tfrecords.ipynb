{
 "cells": [
  {
   "cell_type": "markdown",
   "metadata": {},
   "source": [
    "This notebook will use evaluation code to make some plots of MARS's performance on test data."
   ]
  },
  {
   "cell_type": "code",
   "execution_count": 1,
   "metadata": {},
   "outputs": [
    {
     "name": "stdout",
     "output_type": "stream",
     "text": [
      "WARNING:tensorflow:\n",
      "The TensorFlow contrib module will not be included in TensorFlow 2.0.\n",
      "For more information, please see:\n",
      "  * https://github.com/tensorflow/community/blob/master/rfcs/20180907-contrib-sunset.md\n",
      "  * https://github.com/tensorflow/addons\n",
      "  * https://github.com/tensorflow/io (for I/O related ops)\n",
      "If you depend on functionality not listed there, please file an issue.\n",
      "\n"
     ]
    }
   ],
   "source": [
    "from evaluation import eval"
   ]
  },
  {
   "cell_type": "code",
   "execution_count": 6,
   "metadata": {},
   "outputs": [],
   "source": [
    "from config import parse_config_file\n",
    "\n",
    "config = parse_config_file(cfg)"
   ]
  },
  {
   "cell_type": "code",
   "execution_count": 7,
   "metadata": {},
   "outputs": [
    {
     "data": {
      "text/plain": [
       "{'RANDOM_SEED': 1.0,\n",
       " 'SESSION_CONFIG': {'PER_PROCESS_GPU_MEMORY_FRACTION': 0.85},\n",
       " 'PARTS': {'NUM_PARTS': 7,\n",
       "  'PART_LOSS_ALPHA': 100,\n",
       "  'VIS_LOSS_ALPHA': 100,\n",
       "  'LEFT_RIGHT_PAIRS': [[2, 1], [5, 4]],\n",
       "  'NAMES': ['nose tip',\n",
       "   'right ear',\n",
       "   'left ear',\n",
       "   'neck',\n",
       "   'right side body',\n",
       "   'left side body',\n",
       "   'tail base'],\n",
       "  'COLORS': ['yellow',\n",
       "   'orange',\n",
       "   'red',\n",
       "   'snow',\n",
       "   'magenta',\n",
       "   'blueviolet',\n",
       "   'green'],\n",
       "  'SYMBOLS': ['o', 'o', 'o', 'o', 'o', 'o', 'o'],\n",
       "  'SIGMAS': [1.5, 2.0, 2.0, 3.0, 3.0, 3.0, 3.0],\n",
       "  'SCALE_SIGMAS_BY_AREA': False},\n",
       " 'HEATMAP_SIZE': 64,\n",
       " 'INPUT_SIZE': 256,\n",
       " 'LOOSE_BBOX_CROP': True,\n",
       " 'LOOSE_BBOX_PAD_FACTOR': 0.65,\n",
       " 'DO_RANDOM_PADDING': False,\n",
       " 'RANDOM_PADDING_FREQ': 1.0,\n",
       " 'DO_RANDOM_BLURRING': True,\n",
       " 'RANDOM_BLUR_FREQ': 1.0,\n",
       " 'MAX_BLUR': 2,\n",
       " 'DO_RANDOM_NOISE': False,\n",
       " 'RANDOM_NOISE_FREQ': 1.0,\n",
       " 'RANDOM_NOISE_SCALE': 0.0125,\n",
       " 'DO_RANDOM_ROTATION': False,\n",
       " 'RANDOM_ROTATION_FREQ': 1.0,\n",
       " 'DO_JPEG_ARTIFACTS': False,\n",
       " 'RANDOM_JPEG_FREQ': 1.0,\n",
       " 'RANDOM_JPEG_QUALITY_MIN': 25,\n",
       " 'RANDOM_JPEG_QUALITY_MAX': 26,\n",
       " 'DO_RANDOM_FLIP_LEFT_RIGHT': False,\n",
       " 'DO_RANDOM_BBOX_SHIFT': 0.0,\n",
       " 'RANDOM_BBOX_SHIFT_EXTENT': 4,\n",
       " 'DO_COLOR_DISTORTION': 0.0,\n",
       " 'COLOR_DISTORT_FAST': False,\n",
       " 'NUM_INPUT_THREADS': 4,\n",
       " 'BATCH_SIZE': 8,\n",
       " 'NUM_TRAIN_EXAMPLES': 12750,\n",
       " 'NUM_TRAIN_ITERATIONS': 300000,\n",
       " 'QUEUE_CAPACITY': 2000,\n",
       " 'QUEUE_MIN': 200,\n",
       " 'LEARNING_RATE_DECAY_TYPE': 'fixed',\n",
       " 'INITIAL_LEARNING_RATE': 0.00025,\n",
       " 'END_LEARNING_RATE': 0.0001,\n",
       " 'LABEL_SMOOTHING': 0.0,\n",
       " 'NUM_EPOCHS_PER_DELAY': 33,\n",
       " 'LEARNING_RATE_DECAY_FACTOR': 0.2,\n",
       " 'LEARNING_RATE_STAIRCASE': True,\n",
       " 'OPTIMIZER': 'rmsprop',\n",
       " 'OPTIMIZER_EPSILON': 1.0,\n",
       " 'ADADELTA_RHO': 0.95,\n",
       " 'ADAGRAD_INITIAL_ACCUMULATOR_VALUE': 0.1,\n",
       " 'ADAM_BETA1': 0.9,\n",
       " 'ADAM_BETA2': 0.99,\n",
       " 'FTRL_LEARNING_RATE_POWER': -0.5,\n",
       " 'FTRL_INITIAL_ACCUMULATOR_VALUE': 0.1,\n",
       " 'FTRL_L1': 0.0,\n",
       " 'FTRL_L2': 0.0,\n",
       " 'MOMENTUM': 0.0,\n",
       " 'RMSPROP_DECAY': 0.9,\n",
       " 'RMSPROP_MOMENTUM': 0,\n",
       " 'RMSPROP_EPSILON': 1.0,\n",
       " 'BATCHNORM_MOVING_AVERAGE_DECAY': 0.9997,\n",
       " 'BATCHNORM_EPSILON': 0.001,\n",
       " 'DROPOUT_KEEP_PROB': 0.8,\n",
       " 'MOVING_AVERAGE_DECAY': 0.9999,\n",
       " 'WEIGHT_DECAY': 4e-05,\n",
       " 'BACKGROUND_HEATMAPS': {'ADD_TARGET_LEFT_RIGHT_PAIRS': False,\n",
       "  'ADD_NON_TARGET_PARTS': False,\n",
       "  'NON_TARGET_INCLUDE_OCCLUDED': False,\n",
       "  'ADD_NON_TARGET_LEFT_RIGHT_PAIRS': False},\n",
       " 'LOSS': {'USE_SCALED_BACKGROUND': False,\n",
       "  'SCALE_FACTORS': [1.0, 0.5, 0.25, 0.125, 0.0625, 0.03125, 0.015625, 0],\n",
       "  'USE_BACKGROUND_AS_COST_MATRIX': False,\n",
       "  'COST_MATRIX_SCALE': 1.0,\n",
       "  'NO_BACKGROUND': True},\n",
       " 'SAVE_SUMMARY_SECS': 30,\n",
       " 'SAVE_INTERVAL_SECS': 1800,\n",
       " 'MAX_TO_KEEP': 10000,\n",
       " 'KEEP_CHECKPOINT_EVERY_N_HOURS': 2,\n",
       " 'LOG_EVERY_N_STEPS': 10}"
      ]
     },
     "execution_count": 7,
     "metadata": {},
     "output_type": "execute_result"
    }
   ],
   "source": [
    "config"
   ]
  },
  {
   "cell_type": "code",
   "execution_count": 4,
   "metadata": {},
   "outputs": [
    {
     "ename": "ValueError",
     "evalue": "Shape () must have rank at least 1",
     "output_type": "error",
     "traceback": [
      "\u001b[1;31m---------------------------------------------------------------------------\u001b[0m",
      "\u001b[1;31mValueError\u001b[0m                                Traceback (most recent call last)",
      "\u001b[1;32m<ipython-input-4-83c359fe77c7>\u001b[0m in \u001b[0;36m<module>\u001b[1;34m\u001b[0m\n\u001b[0;32m      9\u001b[0m \u001b[1;33m\u001b[0m\u001b[0m\n\u001b[0;32m     10\u001b[0m eval.eval(test_tf_records, checkpoint_path, summary_dir, cfg,\n\u001b[1;32m---> 11\u001b[1;33m           show_heatmaps=show_heatmaps, show_layer_heatmaps=show_layer_heatmaps)\n\u001b[0m",
      "\u001b[1;32m~\\Documents\\GitHub\\MARS_Developer\\hourglass_pose\\evaluation\\eval.py\u001b[0m in \u001b[0;36meval\u001b[1;34m(tfrecords, checkpoint_path, summary_dir, cfg, max_iterations, show_heatmaps, show_layer_heatmaps, prep_cocoEval)\u001b[0m\n\u001b[0;32m    268\u001b[0m       \u001b[0mcapacity\u001b[0m \u001b[1;33m=\u001b[0m \u001b[0mcfg\u001b[0m\u001b[1;33m.\u001b[0m\u001b[0mQUEUE_CAPACITY\u001b[0m\u001b[1;33m,\u001b[0m\u001b[1;33m\u001b[0m\u001b[1;33m\u001b[0m\u001b[0m\n\u001b[0;32m    269\u001b[0m       \u001b[0mshuffle_batch\u001b[0m\u001b[1;33m=\u001b[0m\u001b[1;32mTrue\u001b[0m\u001b[1;33m,\u001b[0m\u001b[1;33m\u001b[0m\u001b[1;33m\u001b[0m\u001b[0m\n\u001b[1;32m--> 270\u001b[1;33m       \u001b[0mcfg\u001b[0m\u001b[1;33m=\u001b[0m\u001b[0mcfg\u001b[0m\u001b[1;33m\u001b[0m\u001b[1;33m\u001b[0m\u001b[0m\n\u001b[0m\u001b[0;32m    271\u001b[0m     )\n\u001b[0;32m    272\u001b[0m \u001b[1;33m\u001b[0m\u001b[0m\n",
      "\u001b[1;32m~\\Documents\\GitHub\\MARS_Developer\\hourglass_pose\\evaluation\\eval_inputs.py\u001b[0m in \u001b[0;36minput_nodes\u001b[1;34m(tfrecords, num_parts, num_epochs, batch_size, num_threads, shuffle_batch, capacity, cfg)\u001b[0m\n\u001b[0;32m     21\u001b[0m             \u001b[0mtfrecords\u001b[0m\u001b[1;33m,\u001b[0m\u001b[1;33m\u001b[0m\u001b[1;33m\u001b[0m\u001b[0m\n\u001b[0;32m     22\u001b[0m             \u001b[0mnum_epochs\u001b[0m\u001b[1;33m=\u001b[0m\u001b[0mnum_epochs\u001b[0m\u001b[1;33m,\u001b[0m\u001b[1;33m\u001b[0m\u001b[1;33m\u001b[0m\u001b[0m\n\u001b[1;32m---> 23\u001b[1;33m             \u001b[0mshuffle\u001b[0m\u001b[1;33m=\u001b[0m\u001b[0mshuffle_batch\u001b[0m\u001b[1;33m\u001b[0m\u001b[1;33m\u001b[0m\u001b[0m\n\u001b[0m\u001b[0;32m     24\u001b[0m         )\n\u001b[0;32m     25\u001b[0m \u001b[1;33m\u001b[0m\u001b[0m\n",
      "\u001b[1;32m~\\AppData\\Roaming\\Python\\Python37\\site-packages\\tensorflow_core\\python\\util\\deprecation.py\u001b[0m in \u001b[0;36mnew_func\u001b[1;34m(*args, **kwargs)\u001b[0m\n\u001b[0;32m    322\u001b[0m               \u001b[1;34m'in a future version'\u001b[0m \u001b[1;32mif\u001b[0m \u001b[0mdate\u001b[0m \u001b[1;32mis\u001b[0m \u001b[1;32mNone\u001b[0m \u001b[1;32melse\u001b[0m \u001b[1;33m(\u001b[0m\u001b[1;34m'after %s'\u001b[0m \u001b[1;33m%\u001b[0m \u001b[0mdate\u001b[0m\u001b[1;33m)\u001b[0m\u001b[1;33m,\u001b[0m\u001b[1;33m\u001b[0m\u001b[1;33m\u001b[0m\u001b[0m\n\u001b[0;32m    323\u001b[0m               instructions)\n\u001b[1;32m--> 324\u001b[1;33m       \u001b[1;32mreturn\u001b[0m \u001b[0mfunc\u001b[0m\u001b[1;33m(\u001b[0m\u001b[1;33m*\u001b[0m\u001b[0margs\u001b[0m\u001b[1;33m,\u001b[0m \u001b[1;33m**\u001b[0m\u001b[0mkwargs\u001b[0m\u001b[1;33m)\u001b[0m\u001b[1;33m\u001b[0m\u001b[1;33m\u001b[0m\u001b[0m\n\u001b[0m\u001b[0;32m    325\u001b[0m     return tf_decorator.make_decorator(\n\u001b[0;32m    326\u001b[0m         \u001b[0mfunc\u001b[0m\u001b[1;33m,\u001b[0m \u001b[0mnew_func\u001b[0m\u001b[1;33m,\u001b[0m \u001b[1;34m'deprecated'\u001b[0m\u001b[1;33m,\u001b[0m\u001b[1;33m\u001b[0m\u001b[1;33m\u001b[0m\u001b[0m\n",
      "\u001b[1;32m~\\AppData\\Roaming\\Python\\Python37\\site-packages\\tensorflow_core\\python\\training\\input.py\u001b[0m in \u001b[0;36mstring_input_producer\u001b[1;34m(string_tensor, num_epochs, shuffle, seed, capacity, shared_name, name, cancel_op)\u001b[0m\n\u001b[0;32m    275\u001b[0m         \u001b[0mname\u001b[0m\u001b[1;33m=\u001b[0m\u001b[0mname\u001b[0m\u001b[1;33m,\u001b[0m\u001b[1;33m\u001b[0m\u001b[1;33m\u001b[0m\u001b[0m\n\u001b[0;32m    276\u001b[0m         \u001b[0msummary_name\u001b[0m\u001b[1;33m=\u001b[0m\u001b[1;34m\"fraction_of_%d_full\"\u001b[0m \u001b[1;33m%\u001b[0m \u001b[0mcapacity\u001b[0m\u001b[1;33m,\u001b[0m\u001b[1;33m\u001b[0m\u001b[1;33m\u001b[0m\u001b[0m\n\u001b[1;32m--> 277\u001b[1;33m         cancel_op=cancel_op)\n\u001b[0m\u001b[0;32m    278\u001b[0m \u001b[1;33m\u001b[0m\u001b[0m\n\u001b[0;32m    279\u001b[0m \u001b[1;33m\u001b[0m\u001b[0m\n",
      "\u001b[1;32m~\\AppData\\Roaming\\Python\\Python37\\site-packages\\tensorflow_core\\python\\util\\deprecation.py\u001b[0m in \u001b[0;36mnew_func\u001b[1;34m(*args, **kwargs)\u001b[0m\n\u001b[0;32m    322\u001b[0m               \u001b[1;34m'in a future version'\u001b[0m \u001b[1;32mif\u001b[0m \u001b[0mdate\u001b[0m \u001b[1;32mis\u001b[0m \u001b[1;32mNone\u001b[0m \u001b[1;32melse\u001b[0m \u001b[1;33m(\u001b[0m\u001b[1;34m'after %s'\u001b[0m \u001b[1;33m%\u001b[0m \u001b[0mdate\u001b[0m\u001b[1;33m)\u001b[0m\u001b[1;33m,\u001b[0m\u001b[1;33m\u001b[0m\u001b[1;33m\u001b[0m\u001b[0m\n\u001b[0;32m    323\u001b[0m               instructions)\n\u001b[1;32m--> 324\u001b[1;33m       \u001b[1;32mreturn\u001b[0m \u001b[0mfunc\u001b[0m\u001b[1;33m(\u001b[0m\u001b[1;33m*\u001b[0m\u001b[0margs\u001b[0m\u001b[1;33m,\u001b[0m \u001b[1;33m**\u001b[0m\u001b[0mkwargs\u001b[0m\u001b[1;33m)\u001b[0m\u001b[1;33m\u001b[0m\u001b[1;33m\u001b[0m\u001b[0m\n\u001b[0m\u001b[0;32m    325\u001b[0m     return tf_decorator.make_decorator(\n\u001b[0;32m    326\u001b[0m         \u001b[0mfunc\u001b[0m\u001b[1;33m,\u001b[0m \u001b[0mnew_func\u001b[0m\u001b[1;33m,\u001b[0m \u001b[1;34m'deprecated'\u001b[0m\u001b[1;33m,\u001b[0m\u001b[1;33m\u001b[0m\u001b[1;33m\u001b[0m\u001b[0m\n",
      "\u001b[1;32m~\\AppData\\Roaming\\Python\\Python37\\site-packages\\tensorflow_core\\python\\training\\input.py\u001b[0m in \u001b[0;36minput_producer\u001b[1;34m(input_tensor, element_shape, num_epochs, shuffle, seed, capacity, shared_name, summary_name, name, cancel_op)\u001b[0m\n\u001b[0;32m    193\u001b[0m                                 \u001b[0mshapes\u001b[0m\u001b[1;33m=\u001b[0m\u001b[1;33m[\u001b[0m\u001b[0melement_shape\u001b[0m\u001b[1;33m]\u001b[0m\u001b[1;33m,\u001b[0m\u001b[1;33m\u001b[0m\u001b[1;33m\u001b[0m\u001b[0m\n\u001b[0;32m    194\u001b[0m                                 shared_name=shared_name, name=name)\n\u001b[1;32m--> 195\u001b[1;33m     \u001b[0menq\u001b[0m \u001b[1;33m=\u001b[0m \u001b[0mq\u001b[0m\u001b[1;33m.\u001b[0m\u001b[0menqueue_many\u001b[0m\u001b[1;33m(\u001b[0m\u001b[1;33m[\u001b[0m\u001b[0minput_tensor\u001b[0m\u001b[1;33m]\u001b[0m\u001b[1;33m)\u001b[0m\u001b[1;33m\u001b[0m\u001b[1;33m\u001b[0m\u001b[0m\n\u001b[0m\u001b[0;32m    196\u001b[0m     queue_runner.add_queue_runner(\n\u001b[0;32m    197\u001b[0m         queue_runner.QueueRunner(\n",
      "\u001b[1;32m~\\AppData\\Roaming\\Python\\Python37\\site-packages\\tensorflow_core\\python\\ops\\data_flow_ops.py\u001b[0m in \u001b[0;36menqueue_many\u001b[1;34m(self, vals, name)\u001b[0m\n\u001b[0;32m    385\u001b[0m       \u001b[1;31m# compatible with both TF v1 TensorShape behavior and TF v2 behavior.\u001b[0m\u001b[1;33m\u001b[0m\u001b[1;33m\u001b[0m\u001b[1;33m\u001b[0m\u001b[0m\n\u001b[0;32m    386\u001b[0m       batch_dim = tensor_shape.dimension_value(\n\u001b[1;32m--> 387\u001b[1;33m           vals[0].get_shape().with_rank_at_least(1)[0])\n\u001b[0m\u001b[0;32m    388\u001b[0m       \u001b[0mbatch_dim\u001b[0m \u001b[1;33m=\u001b[0m \u001b[0mtensor_shape\u001b[0m\u001b[1;33m.\u001b[0m\u001b[0mDimension\u001b[0m\u001b[1;33m(\u001b[0m\u001b[0mbatch_dim\u001b[0m\u001b[1;33m)\u001b[0m\u001b[1;33m\u001b[0m\u001b[1;33m\u001b[0m\u001b[0m\n\u001b[0;32m    389\u001b[0m       \u001b[1;32mfor\u001b[0m \u001b[0mval\u001b[0m\u001b[1;33m,\u001b[0m \u001b[0mshape\u001b[0m \u001b[1;32min\u001b[0m \u001b[0mzip\u001b[0m\u001b[1;33m(\u001b[0m\u001b[0mvals\u001b[0m\u001b[1;33m,\u001b[0m \u001b[0mself\u001b[0m\u001b[1;33m.\u001b[0m\u001b[0m_shapes\u001b[0m\u001b[1;33m)\u001b[0m\u001b[1;33m:\u001b[0m\u001b[1;33m\u001b[0m\u001b[1;33m\u001b[0m\u001b[0m\n",
      "\u001b[1;32m~\\AppData\\Roaming\\Python\\Python37\\site-packages\\tensorflow_core\\python\\framework\\tensor_shape.py\u001b[0m in \u001b[0;36mwith_rank_at_least\u001b[1;34m(self, rank)\u001b[0m\n\u001b[0;32m   1030\u001b[0m     \"\"\"\n\u001b[0;32m   1031\u001b[0m     \u001b[1;32mif\u001b[0m \u001b[0mself\u001b[0m\u001b[1;33m.\u001b[0m\u001b[0mrank\u001b[0m \u001b[1;32mis\u001b[0m \u001b[1;32mnot\u001b[0m \u001b[1;32mNone\u001b[0m \u001b[1;32mand\u001b[0m \u001b[0mself\u001b[0m\u001b[1;33m.\u001b[0m\u001b[0mrank\u001b[0m \u001b[1;33m<\u001b[0m \u001b[0mrank\u001b[0m\u001b[1;33m:\u001b[0m\u001b[1;33m\u001b[0m\u001b[1;33m\u001b[0m\u001b[0m\n\u001b[1;32m-> 1032\u001b[1;33m       \u001b[1;32mraise\u001b[0m \u001b[0mValueError\u001b[0m\u001b[1;33m(\u001b[0m\u001b[1;34m\"Shape %s must have rank at least %d\"\u001b[0m \u001b[1;33m%\u001b[0m \u001b[1;33m(\u001b[0m\u001b[0mself\u001b[0m\u001b[1;33m,\u001b[0m \u001b[0mrank\u001b[0m\u001b[1;33m)\u001b[0m\u001b[1;33m)\u001b[0m\u001b[1;33m\u001b[0m\u001b[1;33m\u001b[0m\u001b[0m\n\u001b[0m\u001b[0;32m   1033\u001b[0m     \u001b[1;32melse\u001b[0m\u001b[1;33m:\u001b[0m\u001b[1;33m\u001b[0m\u001b[1;33m\u001b[0m\u001b[0m\n\u001b[0;32m   1034\u001b[0m       \u001b[1;32mreturn\u001b[0m \u001b[0mself\u001b[0m\u001b[1;33m\u001b[0m\u001b[1;33m\u001b[0m\u001b[0m\n",
      "\u001b[1;31mValueError\u001b[0m: Shape () must have rank at least 1"
     ]
    }
   ],
   "source": [
    "test_tf_records = 'D:\\\\MARS_data\\\\tfrecords\\\\tfrecords_pose_top\\\\test_dataset'\n",
    "checkpoint_path = 'X:\\\\cristina_code_original\\\\results_keypoints\\\\top_fixed\\\\done'\n",
    "summary_dir = 'D:\\\\MARS_eval_test\\\\'\n",
    "cfg = 'X:\\\\cristina_code_original\\\\results_keypoints\\\\top_fixed\\\\config_test.yaml'\n",
    "\n",
    "# these are optional inputs to eval- set to True if you would like it to generate heatmaps of all keypoints:\n",
    "show_heatmaps=False       # heatmaps from final layer only\n",
    "show_layer_heatmaps=False # show heatmaps from all layers of the stacked hourglass\n",
    "\n",
    "eval.eval(test_tf_records, checkpoint_path, summary_dir, cfg,\n",
    "          show_heatmaps=show_heatmaps, show_layer_heatmaps=show_layer_heatmaps)"
   ]
  }
 ],
 "metadata": {
  "kernelspec": {
   "display_name": "mars",
   "language": "python",
   "name": "mars"
  },
  "language_info": {
   "codemirror_mode": {
    "name": "ipython",
    "version": 3
   },
   "file_extension": ".py",
   "mimetype": "text/x-python",
   "name": "python",
   "nbconvert_exporter": "python",
   "pygments_lexer": "ipython3",
   "version": "3.7.8"
  }
 },
 "nbformat": 4,
 "nbformat_minor": 2
}
