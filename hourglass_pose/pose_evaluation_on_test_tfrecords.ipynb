{
 "cells": [
  {
   "cell_type": "markdown",
   "metadata": {},
   "source": [
    "This notebook will use evaluation code to make some plots of MARS's performance on test data."
   ]
  },
  {
   "cell_type": "code",
   "execution_count": 1,
   "metadata": {},
   "outputs": [
    {
     "name": "stdout",
     "output_type": "stream",
     "text": [
      "WARNING:tensorflow:\n",
      "The TensorFlow contrib module will not be included in TensorFlow 2.0.\n",
      "For more information, please see:\n",
      "  * https://github.com/tensorflow/community/blob/master/rfcs/20180907-contrib-sunset.md\n",
      "  * https://github.com/tensorflow/addons\n",
      "  * https://github.com/tensorflow/io (for I/O related ops)\n",
      "If you depend on functionality not listed there, please file an issue.\n",
      "\n"
     ]
    }
   ],
   "source": [
    "from evaluation import eval\n",
    "import os\n",
    "import json"
   ]
  },
  {
   "cell_type": "code",
   "execution_count": 3,
   "metadata": {},
   "outputs": [
    {
     "name": "stdout",
     "output_type": "stream",
     "text": [
      "['nose tip', 'right ear', 'left ear', 'neck', 'right side body', 'left side body', 'tail base']\n"
     ]
    }
   ],
   "source": [
    "summary_dir = 'D:\\\\MARS_eval_test\\\\'\n",
    "config = 'D:\\\\MARS_data\\\\tfrecords\\\\tfrecords_pose_top\\\\config_test.yaml'\n",
    "cfg = eval.parse_config_file(config)\n",
    "parts = cfg['PARTS']['NAMES']\n",
    "print(parts)\n",
    "\n",
    "with open(os.path.join(summary_dir,'MARS_results_CoCo.json')) as jsonfile:\n",
    "    data = json.load(jsonfile)"
   ]
  },
  {
   "cell_type": "code",
   "execution_count": 5,
   "metadata": {},
   "outputs": [
    {
     "name": "stdout",
     "output_type": "stream",
     "text": [
      "creating index...\n",
      "index created!\n",
      "Loading and preparing results...\n",
      "DONE (t=0.00s)\n",
      "creating index...\n",
      "index created!\n",
      "Running per image evaluation...\n",
      "Evaluate annotation type *keypoints*\n"
     ]
    },
    {
     "ename": "TypeError",
     "evalue": "unsupported operand type(s) for ** or pow(): 'list' and 'int'",
     "output_type": "error",
     "traceback": [
      "\u001b[1;31m---------------------------------------------------------------------------\u001b[0m",
      "\u001b[1;31mTypeError\u001b[0m                                 Traceback (most recent call last)",
      "\u001b[1;32m<ipython-input-5-3bbace654c5b>\u001b[0m in \u001b[0;36m<module>\u001b[1;34m\u001b[0m\n\u001b[1;32m----> 1\u001b[1;33m \u001b[0meval\u001b[0m\u001b[1;33m.\u001b[0m\u001b[0meval_coco\u001b[0m\u001b[1;33m(\u001b[0m\u001b[0mgt_keypoints\u001b[0m\u001b[1;33m=\u001b[0m\u001b[0mdata\u001b[0m\u001b[1;33m[\u001b[0m\u001b[1;34m'gt_keypoints'\u001b[0m\u001b[1;33m]\u001b[0m\u001b[1;33m,\u001b[0m \u001b[0mpred_keypoints\u001b[0m\u001b[1;33m=\u001b[0m\u001b[0mdata\u001b[0m\u001b[1;33m[\u001b[0m\u001b[1;34m'pred_keypoints'\u001b[0m\u001b[1;33m]\u001b[0m\u001b[1;33m,\u001b[0m \u001b[0mparts\u001b[0m\u001b[1;33m=\u001b[0m\u001b[0mparts\u001b[0m\u001b[1;33m)\u001b[0m\u001b[1;33m\u001b[0m\u001b[1;33m\u001b[0m\u001b[0m\n\u001b[0m",
      "\u001b[1;32m~\\Documents\\GitHub\\MARS_Developer\\hourglass_pose\\evaluation\\eval.py\u001b[0m in \u001b[0;36meval_coco\u001b[1;34m(infile, gt_keypoints, pred_keypoints, parts)\u001b[0m\n\u001b[0;32m     51\u001b[0m   \u001b[1;31m# Actually perform the evaluation.\u001b[0m\u001b[1;33m\u001b[0m\u001b[1;33m\u001b[0m\u001b[1;33m\u001b[0m\u001b[0m\n\u001b[0;32m     52\u001b[0m   \u001b[0mcocoEval\u001b[0m \u001b[1;33m=\u001b[0m \u001b[0mCOCOeval\u001b[0m\u001b[1;33m(\u001b[0m\u001b[0mgt_coco\u001b[0m\u001b[1;33m,\u001b[0m \u001b[0mpred_coco\u001b[0m\u001b[1;33m,\u001b[0m \u001b[0miouType\u001b[0m\u001b[1;33m=\u001b[0m\u001b[1;34m'keypoints'\u001b[0m\u001b[1;33m,\u001b[0m \u001b[0msigmaType\u001b[0m\u001b[1;33m=\u001b[0m\u001b[1;34m'MARS_top'\u001b[0m\u001b[1;33m,\u001b[0m \u001b[0museParts\u001b[0m\u001b[1;33m=\u001b[0m\u001b[0mparts\u001b[0m\u001b[1;33m)\u001b[0m\u001b[1;33m\u001b[0m\u001b[1;33m\u001b[0m\u001b[0m\n\u001b[1;32m---> 53\u001b[1;33m   \u001b[0mcocoEval\u001b[0m\u001b[1;33m.\u001b[0m\u001b[0mevaluate\u001b[0m\u001b[1;33m(\u001b[0m\u001b[1;33m)\u001b[0m\u001b[1;33m\u001b[0m\u001b[1;33m\u001b[0m\u001b[0m\n\u001b[0m\u001b[0;32m     54\u001b[0m   \u001b[0mcocoEval\u001b[0m\u001b[1;33m.\u001b[0m\u001b[0maccumulate\u001b[0m\u001b[1;33m(\u001b[0m\u001b[1;33m)\u001b[0m\u001b[1;33m\u001b[0m\u001b[1;33m\u001b[0m\u001b[0m\n\u001b[0;32m     55\u001b[0m   \u001b[0mcocoEval\u001b[0m\u001b[1;33m.\u001b[0m\u001b[0msummarize\u001b[0m\u001b[1;33m(\u001b[0m\u001b[1;33m)\u001b[0m\u001b[1;33m\u001b[0m\u001b[1;33m\u001b[0m\u001b[0m\n",
      "\u001b[1;32m~\\miniconda3\\envs\\mars\\lib\\site-packages\\MARSeval\\cocoeval.py\u001b[0m in \u001b[0;36mevaluate\u001b[1;34m(self)\u001b[0m\n\u001b[0;32m    153\u001b[0m             \u001b[0mcomputeIoU\u001b[0m \u001b[1;33m=\u001b[0m \u001b[0mself\u001b[0m\u001b[1;33m.\u001b[0m\u001b[0mcomputeOks\u001b[0m\u001b[1;33m\u001b[0m\u001b[1;33m\u001b[0m\u001b[0m\n\u001b[0;32m    154\u001b[0m         self.ious = {(imgId, catId): computeIoU(imgId, catId) \\\n\u001b[1;32m--> 155\u001b[1;33m                         \u001b[1;32mfor\u001b[0m \u001b[0mimgId\u001b[0m \u001b[1;32min\u001b[0m \u001b[0mp\u001b[0m\u001b[1;33m.\u001b[0m\u001b[0mimgIds\u001b[0m\u001b[1;33m\u001b[0m\u001b[1;33m\u001b[0m\u001b[0m\n\u001b[0m\u001b[0;32m    156\u001b[0m                         for catId in catIds}\n\u001b[0;32m    157\u001b[0m \u001b[1;33m\u001b[0m\u001b[0m\n",
      "\u001b[1;32m~\\miniconda3\\envs\\mars\\lib\\site-packages\\MARSeval\\cocoeval.py\u001b[0m in \u001b[0;36m<dictcomp>\u001b[1;34m(.0)\u001b[0m\n\u001b[0;32m    154\u001b[0m         self.ious = {(imgId, catId): computeIoU(imgId, catId) \\\n\u001b[0;32m    155\u001b[0m                         \u001b[1;32mfor\u001b[0m \u001b[0mimgId\u001b[0m \u001b[1;32min\u001b[0m \u001b[0mp\u001b[0m\u001b[1;33m.\u001b[0m\u001b[0mimgIds\u001b[0m\u001b[1;33m\u001b[0m\u001b[1;33m\u001b[0m\u001b[0m\n\u001b[1;32m--> 156\u001b[1;33m                         for catId in catIds}\n\u001b[0m\u001b[0;32m    157\u001b[0m \u001b[1;33m\u001b[0m\u001b[0m\n\u001b[0;32m    158\u001b[0m         \u001b[0mevaluateImg\u001b[0m \u001b[1;33m=\u001b[0m \u001b[0mself\u001b[0m\u001b[1;33m.\u001b[0m\u001b[0mevaluateImg\u001b[0m\u001b[1;33m\u001b[0m\u001b[1;33m\u001b[0m\u001b[0m\n",
      "\u001b[1;32m~\\miniconda3\\envs\\mars\\lib\\site-packages\\MARSeval\\cocoeval.py\u001b[0m in \u001b[0;36mcomputeOks\u001b[1;34m(self, imgId, catId)\u001b[0m\n\u001b[0;32m    210\u001b[0m         \u001b[0mious\u001b[0m \u001b[1;33m=\u001b[0m \u001b[0mnp\u001b[0m\u001b[1;33m.\u001b[0m\u001b[0mzeros\u001b[0m\u001b[1;33m(\u001b[0m\u001b[1;33m(\u001b[0m\u001b[0mlen\u001b[0m\u001b[1;33m(\u001b[0m\u001b[0mdts\u001b[0m\u001b[1;33m)\u001b[0m\u001b[1;33m,\u001b[0m \u001b[0mlen\u001b[0m\u001b[1;33m(\u001b[0m\u001b[0mgts\u001b[0m\u001b[1;33m)\u001b[0m\u001b[1;33m)\u001b[0m\u001b[1;33m)\u001b[0m\u001b[1;33m\u001b[0m\u001b[1;33m\u001b[0m\u001b[0m\n\u001b[0;32m    211\u001b[0m         \u001b[0msigmas\u001b[0m \u001b[1;33m=\u001b[0m \u001b[0mp\u001b[0m\u001b[1;33m.\u001b[0m\u001b[0mkpt_oks_sigmas\u001b[0m\u001b[1;33m\u001b[0m\u001b[1;33m\u001b[0m\u001b[0m\n\u001b[1;32m--> 212\u001b[1;33m         \u001b[0mvars\u001b[0m \u001b[1;33m=\u001b[0m \u001b[1;33m(\u001b[0m\u001b[0msigmas\u001b[0m \u001b[1;33m*\u001b[0m \u001b[1;36m2\u001b[0m\u001b[1;33m)\u001b[0m\u001b[1;33m**\u001b[0m\u001b[1;36m2\u001b[0m\u001b[1;33m\u001b[0m\u001b[1;33m\u001b[0m\u001b[0m\n\u001b[0m\u001b[0;32m    213\u001b[0m         \u001b[1;31m# compute oks between each detection and ground truth object\u001b[0m\u001b[1;33m\u001b[0m\u001b[1;33m\u001b[0m\u001b[1;33m\u001b[0m\u001b[0m\n\u001b[0;32m    214\u001b[0m         \u001b[1;32mfor\u001b[0m \u001b[0mj\u001b[0m\u001b[1;33m,\u001b[0m \u001b[0mgt\u001b[0m \u001b[1;32min\u001b[0m \u001b[0menumerate\u001b[0m\u001b[1;33m(\u001b[0m\u001b[0mgts\u001b[0m\u001b[1;33m)\u001b[0m\u001b[1;33m:\u001b[0m\u001b[1;33m\u001b[0m\u001b[1;33m\u001b[0m\u001b[0m\n",
      "\u001b[1;31mTypeError\u001b[0m: unsupported operand type(s) for ** or pow(): 'list' and 'int'"
     ]
    }
   ],
   "source": [
    "eval.eval_coco(gt_keypoints=data['gt_keypoints'], pred_keypoints=data['pred_keypoints'], parts=parts)"
   ]
  },
  {
   "cell_type": "code",
   "execution_count": null,
   "metadata": {},
   "outputs": [
    {
     "name": "stdout",
     "output_type": "stream",
     "text": [
      "X:\\cristina_code_original\\results_keypoints\\top_fixed\n",
      "is now:X:\\cristina_code_original\\results_keypoints\\top_fixed\\model.ckpt-700000\n",
      "INFO:tensorflow:Restoring parameters from X:\\cristina_code_original\\results_keypoints\\top_fixed\\model.ckpt-700000\n"
     ]
    }
   ],
   "source": [
    "tfrecords = ['D:\\\\MARS_data\\\\tfrecords\\\\tfrecords_pose_top\\\\test_dataset-00000-of-00001']\n",
    "checkpoint_path = 'X:\\\\cristina_code_original\\\\results_keypoints\\\\top_fixed'\n",
    "summary_dir = 'D:\\\\MARS_eval_test\\\\'\n",
    "config = 'D:\\\\MARS_data\\\\tfrecords\\\\tfrecords_pose_top\\\\config_test.yaml'\n",
    "\n",
    "# these are optional inputs to eval- set to True if you would like it to generate heatmaps of all keypoints:\n",
    "max_iterations=0          # only run on the first X images (set to 0 to run on all data)- useful for debugging\n",
    "show_heatmaps=False       # heatmaps from final layer only\n",
    "show_layer_heatmaps=False # show heatmaps from all layers of the stacked hourglass\n",
    "\n",
    "\n",
    "\n",
    "eval.eval(tfrecords, checkpoint_path, summary_dir, config,\n",
    "          max_iterations=2, show_heatmaps=show_heatmaps, show_layer_heatmaps=show_layer_heatmaps)"
   ]
  },
  {
   "cell_type": "code",
   "execution_count": null,
   "metadata": {},
   "outputs": [],
   "source": []
  }
 ],
 "metadata": {
  "kernelspec": {
   "display_name": "mars",
   "language": "python",
   "name": "mars"
  }
 },
 "nbformat": 4,
 "nbformat_minor": 2
}
