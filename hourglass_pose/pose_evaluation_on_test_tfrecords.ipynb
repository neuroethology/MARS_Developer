{
 "cells": [
  {
   "cell_type": "markdown",
   "metadata": {},
   "source": [
    "This notebook will use evaluation code to make some plots of MARS's performance on test data."
   ]
  },
  {
   "cell_type": "code",
   "execution_count": 1,
   "metadata": {},
   "outputs": [
    {
     "name": "stdout",
     "output_type": "stream",
     "text": [
      "WARNING:tensorflow:\n",
      "The TensorFlow contrib module will not be included in TensorFlow 2.0.\n",
      "For more information, please see:\n",
      "  * https://github.com/tensorflow/community/blob/master/rfcs/20180907-contrib-sunset.md\n",
      "  * https://github.com/tensorflow/addons\n",
      "  * https://github.com/tensorflow/io (for I/O related ops)\n",
      "If you depend on functionality not listed there, please file an issue.\n",
      "\n"
     ]
    }
   ],
   "source": [
    "from evaluation import eval"
   ]
  },
  {
   "cell_type": "code",
   "execution_count": 12,
   "metadata": {},
   "outputs": [],
   "source": [
    "import tensorflow.compat.v1 as tf\n",
    "from evaluation import eval_inputs as inputs"
   ]
  },
  {
   "cell_type": "code",
   "execution_count": null,
   "metadata": {},
   "outputs": [],
   "source": [
    "tfrecords = ['D:\\\\MARS_data\\\\tfrecords\\\\tfrecords_pose_top\\\\test_dataset-00000-of-00001']\n",
    "checkpoint_path = 'X:\\\\cristina_code_original\\\\results_keypoints\\\\top_fixed'\n",
    "summary_dir = 'D:\\\\MARS_eval_test\\\\'\n",
    "config = 'D:\\\\MARS_data\\\\tfrecords\\\\tfrecords_pose_top\\\\config_test.yaml'\n",
    "\n",
    "# these are optional inputs to eval- set to True if you would like it to generate heatmaps of all keypoints:\n",
    "show_heatmaps=False       # heatmaps from final layer only\n",
    "show_layer_heatmaps=False # show heatmaps from all layers of the stacked hourglass\n",
    "\n",
    "\n",
    "\n",
    "eval.eval(tfrecords, checkpoint_path, summary_dir, config,\n",
    "          show_heatmaps=show_heatmaps, show_layer_heatmaps=show_layer_heatmaps)"
   ]
  }
 ],
 "metadata": {
  "kernelspec": {
   "display_name": "mars",
   "language": "python",
   "name": "mars"
  },
  "language_info": {
   "codemirror_mode": {
    "name": "ipython",
    "version": 3
   },
   "file_extension": ".py",
   "mimetype": "text/x-python",
   "name": "python",
   "nbconvert_exporter": "python",
   "pygments_lexer": "ipython3",
   "version": "3.7.8"
  }
 },
 "nbformat": 4,
 "nbformat_minor": 2
}
