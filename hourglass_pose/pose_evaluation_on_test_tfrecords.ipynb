{
 "cells": [
  {
   "cell_type": "markdown",
   "metadata": {},
   "source": [
    "This notebook will use evaluation code to make some plots of MARS's performance on test data."
   ]
  },
  {
   "cell_type": "code",
   "execution_count": 1,
   "metadata": {},
   "outputs": [
    {
     "name": "stdout",
     "output_type": "stream",
     "text": [
      "WARNING:tensorflow:\n",
      "The TensorFlow contrib module will not be included in TensorFlow 2.0.\n",
      "For more information, please see:\n",
      "  * https://github.com/tensorflow/community/blob/master/rfcs/20180907-contrib-sunset.md\n",
      "  * https://github.com/tensorflow/addons\n",
      "  * https://github.com/tensorflow/io (for I/O related ops)\n",
      "If you depend on functionality not listed there, please file an issue.\n",
      "\n"
     ]
    }
   ],
   "source": [
    "%matplotlib inline\n",
    "\n",
    "from evaluation import evaluation\n",
    "import os\n",
    "import json\n",
    "import numpy as np\n",
    "import matplotlib.pyplot as plt\n",
    "import seaborn as sns"
   ]
  },
  {
   "cell_type": "markdown",
   "metadata": {},
   "source": [
    "First, we need to run our trained model on the test set. For this you'll need:\n",
    "* the path to the test tfrecord\n",
    "* the path to the trained model checkpoint\n",
    "* the path to `config_test.yaml`\n",
    "* the path to a directory where you'd like your summary figures/files to be saved"
   ]
  },
  {
   "cell_type": "code",
   "execution_count": null,
   "metadata": {},
   "outputs": [
    {
     "name": "stdout",
     "output_type": "stream",
     "text": [
      "X:\\cristina_code_original\\results_keypoints\\top_fixed\n",
      "is now:X:\\cristina_code_original\\results_keypoints\\top_fixed\\model.ckpt-539952\n",
      "INFO:tensorflow:Restoring parameters from X:\\cristina_code_original\\results_keypoints\\top_fixed\\model.ckpt-539952\n",
      "Found model for global step: 539952\n",
      "Step: 0, Time/image network (ms): 608.7\n",
      "Step: 1, Time/image network (ms): 378.2\n",
      "Step: 2, Time/image network (ms): 374.7\n",
      "Step: 3, Time/image network (ms): 381.2\n",
      "Step: 4, Time/image network (ms): 373.3\n",
      "Step: 5, Time/image network (ms): 356.7\n"
     ]
    }
   ],
   "source": [
    "# tfrecords       = ['P:\\\\cristina_code_original\\\\tfrecords\\\\test_dataset-00000-of-00001']\n",
    "# checkpoint_path = 'P:\\\\cristina_code_original\\\\results_keypoints\\\\top_fixed'\n",
    "# summary_dir     = 'P:\\\\MARS_eval_test\\\\'\n",
    "# config          = 'P:\\\\cristina_code_original\\\\config_files\\\\config_test.yaml'\n",
    "\n",
    "tfrecords       = ['D:\\\\MARS_data\\\\tfrecords\\\\tfrecords_pose_top\\\\test_dataset-00000-of-00001']\n",
    "checkpoint_path = 'X:\\\\cristina_code_original\\\\results_keypoints\\\\top_fixed'\n",
    "summary_dir     = 'D:\\\\MARS_eval_test\\\\top\\\\'\n",
    "config          = 'D:\\\\MARS_data\\\\tfrecords\\\\tfrecords_pose_top\\\\config_test.yaml'\n",
    "\n",
    "# tfrecords       = ['D:\\\\MARS_data\\\\tfrecords\\\\tfrecords_pose_front\\\\test_dataset-00000-of-00001']\n",
    "# checkpoint_path = 'X:\\\\cristina_code_original\\\\results_keypoints\\\\front'\n",
    "# summary_dir     = 'D:\\\\MARS_eval_test\\\\front\\\\'\n",
    "# config          = 'D:\\\\MARS_data\\\\tfrecords\\\\tfrecords_pose_front\\\\config_test.yaml'\n",
    "\n",
    "# optional inputs\n",
    "view                = 'top'    # top or front camera\n",
    "max_iterations      = 0        # only run on the first X images (set to 0 to run on all data)- useful for debugging\n",
    "prep_cocoEval       = True     # whether to save evaluation results for future analysis with MARSeval\n",
    "\n",
    "evaluation.process_tfrecord(tfrecords, checkpoint_path, summary_dir, config,\n",
    "                            view=view,\n",
    "                            max_iterations=max_iterations,\n",
    "                            prep_cocoEval=prep_cocoEval)"
   ]
  },
  {
   "cell_type": "markdown",
   "metadata": {},
   "source": [
    "Okay now let's look at our performance:"
   ]
  },
  {
   "cell_type": "code",
   "execution_count": null,
   "metadata": {},
   "outputs": [],
   "source": [
    "fid = summary_dir + 'MARS_performance_pose.json'\n",
    "\n",
    "coco = evaluation.eval_coco(fid)\n",
    "coco=coco[0] # all-keypoints evaluation\n",
    "oks=[]\n",
    "for i in coco.params.imgIds:\n",
    "    oks.append(coco.computeOks(i,1)[0][0])\n",
    "    \n",
    "coco = evaluation.eval_coco(fid,fixedSigma='narrow')\n",
    "oks2=[]\n",
    "for i in coco.params.imgIds:\n",
    "    oks2.append(coco.computeOks(i,1)[0][0])\n",
    "\n",
    "# sc=0.05\n",
    "# sns.kdeplot(oks, bw=sc)\n",
    "# sns.kdeplot(oks2, bw=sc)\n",
    "\n",
    "# sns.ecdfplot(oks)\n",
    "# sns.ecdfplot(oks2)\n",
    "\n",
    "counts,bins=np.histogram(oks,20,(0,1))\n",
    "plt.bar(bins[1:],counts,0.9/20)\n",
    "\n",
    "counts,bins=np.histogram(oks2,20,(0,1))\n",
    "plt.bar(bins[1:],counts,0.9/20)\n",
    "\n",
    "plt.savefig(summary_dir + 'OKS_compare_bar.pdf')"
   ]
  }
 ],
 "metadata": {
  "kernelspec": {
   "display_name": "mars",
   "language": "python",
   "name": "mars"
  },
  "language_info": {
   "codemirror_mode": {
    "name": "ipython",
    "version": 3
   },
   "file_extension": ".py",
   "mimetype": "text/x-python",
   "name": "python",
   "nbconvert_exporter": "python",
   "pygments_lexer": "ipython3",
   "version": "3.7.8"
  }
 },
 "nbformat": 4,
 "nbformat_minor": 2
}
