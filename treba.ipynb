{
 "cells": [
  {
   "cell_type": "code",
   "execution_count": 16,
   "id": "553a757a",
   "metadata": {},
   "outputs": [],
   "source": [
    "import numpy as np\n",
    "import json"
   ]
  },
  {
   "cell_type": "code",
   "execution_count": 17,
   "id": "7a8afea4",
   "metadata": {},
   "outputs": [],
   "source": [
    "project_path = '/media/storage/ryan/data'\n",
    "\n",
    "\n",
    "with open(project_path + '/task1_classic_classification/taskprog_features_task1_train.json') as f:\n",
    "    data = json.load(f)"
   ]
  },
  {
   "cell_type": "code",
   "execution_count": 23,
   "id": "4c1e0efc",
   "metadata": {},
   "outputs": [
    {
     "data": {
      "text/plain": [
       "(21364, 32)"
      ]
     },
     "execution_count": 23,
     "metadata": {},
     "output_type": "execute_result"
    }
   ],
   "source": [
    "np.asarray(data['annotator-id_0']['task1/train/mouse001_task1_annotator1']['features']).shape"
   ]
  },
  {
   "cell_type": "code",
   "execution_count": 12,
   "id": "f2868092",
   "metadata": {},
   "outputs": [
    {
     "data": {
      "text/plain": [
       "(2, 21364, 158)"
      ]
     },
     "execution_count": 12,
     "metadata": {},
     "output_type": "execute_result"
    }
   ],
   "source": [
    "full_test[\"data_smooth\"].shape"
   ]
  },
  {
   "cell_type": "code",
   "execution_count": 13,
   "id": "955fceb6",
   "metadata": {},
   "outputs": [
    {
     "data": {
      "text/plain": [
       "(21364, 2, 2, 7)"
      ]
     },
     "execution_count": 13,
     "metadata": {},
     "output_type": "execute_result"
    }
   ],
   "source": [
    "full_test[\"keypoints\"].shape"
   ]
  },
  {
   "cell_type": "code",
   "execution_count": null,
   "id": "52256378",
   "metadata": {},
   "outputs": [],
   "source": []
  }
 ],
 "metadata": {
  "kernelspec": {
   "display_name": "Python 3 (ipykernel)",
   "language": "python",
   "name": "python3"
  },
  "language_info": {
   "codemirror_mode": {
    "name": "ipython",
    "version": 3
   },
   "file_extension": ".py",
   "mimetype": "text/x-python",
   "name": "python",
   "nbconvert_exporter": "python",
   "pygments_lexer": "ipython3",
   "version": "3.7.8"
  }
 },
 "nbformat": 4,
 "nbformat_minor": 5
}
