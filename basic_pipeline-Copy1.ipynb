{
 "cells": [
  {
   "cell_type": "code",
   "execution_count": 1,
   "id": "7d8b2f09",
   "metadata": {},
   "outputs": [],
   "source": [
    "import numpy as np\n",
    "import json\n",
    "import os\n",
    "import copy\n",
    "import joblib"
   ]
  },
  {
   "cell_type": "markdown",
   "id": "334d08e1",
   "metadata": {},
   "source": [
    "Create a new project."
   ]
  },
  {
   "cell_type": "code",
   "execution_count": 2,
   "id": "95a91fc2",
   "metadata": {},
   "outputs": [
    {
     "name": "stdout",
     "output_type": "stream",
     "text": [
      "A project named mabe_challenge already exists at this location. Please delete it or choose a different name.\n"
     ]
    }
   ],
   "source": [
    "from create_new_project import *\n",
    "\n",
    "location = '/media/storage/ryan/'\n",
    "name = 'mabe_challenge'\n",
    "\n",
    "create_new_project(location, name)"
   ]
  },
  {
   "cell_type": "markdown",
   "id": "24d744b8",
   "metadata": {},
   "source": [
    "The AI Crowd test dataset contains many distractor, so this cell filters out the relevant test set by matching sequences with the test set hosted on CaltechDATA."
   ]
  },
  {
   "cell_type": "code",
   "execution_count": null,
   "id": "a9d753f8",
   "metadata": {},
   "outputs": [],
   "source": [
    "# calms21 test set downloaded from https://data.caltech.edu/records/1991\n",
    "with open(\"./data/calms21_task1_test.json\") as f:\n",
    "    data = json.load(f)\n",
    "\n",
    "# test set from MABe challenge\n",
    "full_test = np.load(\"./data/test-release.npy\", allow_pickle=True).item()\n",
    "\n",
    "\n",
    "# looks for matches\n",
    "correspondence_dictionary = {}\n",
    "\n",
    "keys_list = list(full_test[\"sequences\"].keys())\n",
    "\n",
    "for sequence_key in keys_list:\n",
    "    n_frames = full_test[\"sequences\"][sequence_key]['keypoints'].shape[0]\n",
    "    match = False\n",
    "    for sequence_key_1 in data.keys():\n",
    "        temp_keypoints = np.asarray(data[sequence_key_1][\"keypoints\"])\n",
    "        if (temp_keypoints.shape[0] == n_frames) and np.array_equal(temp_keypoints[0], full_test[\"sequences\"][sequence_key]['keypoints'][0]):\n",
    "            print(\"match found\")\n",
    "            match = True\n",
    "            correspondence_dictionary[sequence_key_1] = sequence_key\n",
    "            full_test[\"sequences\"][sequence_key][\"annotations\"] = np.asarray(data[sequence_key_1][\"annotations\"])\n",
    "    if match is False:\n",
    "        full_test[\"sequences\"].pop(sequence_key)\n",
    "\n",
    "# Save new test set\n",
    "np.save(\"./data/full-test.npy\", full_test)"
   ]
  },
  {
   "cell_type": "code",
   "execution_count": 7,
   "id": "e98eb508",
   "metadata": {},
   "outputs": [],
   "source": [
    "# Loading data\n",
    "train = np.load('../data/train.npy',allow_pickle=True).item()\n",
    "test = np.load('../data/full-test.npy',allow_pickle=True).item()\n",
    "sample_submission = np.load('../data/sample-submission.npy',allow_pickle=True).item()"
   ]
  },
  {
   "cell_type": "markdown",
   "id": "5937c7e2",
   "metadata": {},
   "source": [
    "The data downloaded from the AI Crowd challenge needs to be converted into a suitable format for MARS_Developer. Bounding boxes need to be added to the data, and the data needs to be saved as a json instead of a npy."
   ]
  },
  {
   "cell_type": "code",
   "execution_count": 4,
   "id": "6ef7901a",
   "metadata": {},
   "outputs": [],
   "source": [
    "def pad_bbox(bbox_1, bbox_2, min_b, max_b, pad_percentage=0.0):\n",
    "    '''Pad the edges of a bounding box by a given amount.'''\n",
    "    # Get the length of the side\n",
    "    bbox_l = (bbox_2*1.0 - bbox_1*1.0)\n",
    "\n",
    "    # Compute the tentative padding length\n",
    "    pad_tentative = pad_percentage*bbox_l/2.\n",
    "\n",
    "    # Compute the maximum feasible padding amounts\n",
    "    right_max = max_b - bbox_2\n",
    "    left_max = bbox_1 - min_b\n",
    "\n",
    "    # Restrict the pad to what's feasible.\n",
    "    pad = np.minimum(right_max, left_max)\n",
    "    pad = np.minimum(pad, pad_tentative)\n",
    "\n",
    "    # Add the padding\n",
    "    new_bbox_1 = bbox_1 - pad\n",
    "    new_bbox_2 = bbox_2 + pad\n",
    "\n",
    "    # Rectify the bounding boxes to be feasible (Shouldn't be necessary)\n",
    "    new_bbox_1 = (np.maximum(new_bbox_1, min_b))\n",
    "    new_bbox_2 = (np.minimum(new_bbox_2, max_b))\n",
    "\n",
    "    return [new_bbox_1, new_bbox_2]\n",
    "\n",
    "def convert_npy_to_json(data):\n",
    "    converted = {}\n",
    "    if \"vocabulary\" in data.keys():\n",
    "        converted[\"vocabulary\"] = data[\"vocabulary\"]\n",
    "    else:\n",
    "        converted[\"vocabulary\"] = {'attack': 0, 'investigation': 1, 'mount': 2, 'other': 3};\n",
    "    converted[\"sequences\"] = {}\n",
    "    converted[\"sequences\"][\"mabe_challenge\"] = data[\"sequences\"]\n",
    "    for seq_id in data[\"sequences\"]:\n",
    "        keypoints = data[\"sequences\"][seq_id][\"keypoints\"]\n",
    "        np.shape(np.concatenate((np.amin(keypoints, axis=3), np.amax(keypoints, axis=3)), axis=2))\n",
    "        bbox = np.concatenate((np.amin(keypoints, axis=3), np.amax(keypoints, axis=3)), axis=2)\n",
    "        bbox[:, :, (0, 2)] /= 1024\n",
    "        bbox[:, :, (1, 3)] /= 570\n",
    "\n",
    "        for i in range(bbox.shape[0]):\n",
    "            for j in range(bbox.shape[1]):\n",
    "                bbox[i, j, (0, 2)] = pad_bbox(bbox[i, j, 0], bbox[i, j, 2], 0, 1, 0.25)\n",
    "                bbox[i, j, (1, 3)] = pad_bbox(bbox[i, j, 1], bbox[i, j, 3], 0, 1, 0.25)\n",
    "        converted[\"sequences\"][\"mabe_challenge\"][seq_id][\"bbox\"] = np.moveaxis(bbox,0, -1).tolist()\n",
    "        converted[\"sequences\"][\"mabe_challenge\"][seq_id][\"keypoints\"] = data[\"sequences\"][seq_id][\"keypoints\"].tolist()\n",
    "        if \"annotations\" in data[\"sequences\"][seq_id].keys():\n",
    "            converted[\"sequences\"][\"mabe_challenge\"][seq_id][\"annotations\"] = data[\"sequences\"][seq_id][\"annotations\"].tolist()\n",
    "        converted[\"sequences\"][\"mabe_challenge\"][seq_id] = [converted[\"sequences\"][\"mabe_challenge\"][seq_id]]\n",
    "    return converted\n",
    "        \n",
    "def get_nth_key(dictionary, n=0):\n",
    "    if n < 0:\n",
    "        n += len(dictionary)\n",
    "    for i, key in enumerate(dictionary.keys()):\n",
    "        if i == n:\n",
    "            return key\n",
    "    raise IndexError(\"dictionary index out of range\") \n"
   ]
  },
  {
   "cell_type": "code",
   "execution_count": 10,
   "id": "ea6644be",
   "metadata": {},
   "outputs": [],
   "source": [
    "train_json = convert_npy_to_json(train)\n",
    "\n",
    "with open('/media/storage/ryan/mabe_challenge/behavior/behavior_jsons/train_data.json', 'w') as f:\n",
    "    json.dump(train_json, f)"
   ]
  },
  {
   "cell_type": "code",
   "execution_count": 8,
   "id": "5355671e",
   "metadata": {
    "scrolled": true
   },
   "outputs": [
    {
     "name": "stdout",
     "output_type": "stream",
     "text": [
      "0\n",
      "1\n",
      "2\n",
      "3\n",
      "4\n",
      "5\n",
      "6\n",
      "7\n",
      "8\n",
      "9\n",
      "10\n",
      "11\n",
      "12\n",
      "13\n",
      "14\n",
      "15\n",
      "16\n",
      "17\n",
      "18\n",
      "19\n",
      "20\n",
      "21\n",
      "22\n"
     ]
    }
   ],
   "source": [
    "# When the test set is too large,  you can choose to save it in batches, which allows you to parallelize\n",
    "# feature extraction.\n",
    "\n",
    "save_test_as_batch = False\n",
    "\n",
    "if save_test_as_batch is False:\n",
    "    test_json = convert_npy_to_json(test)\n",
    "\n",
    "    with open('/media/storage/ryan/mabe_challenge/behavior/behavior_jsons/test_data.json', 'w') as f:\n",
    "        json.dump(test_json, f)\n",
    "\n",
    "else:\n",
    "    batch_size = 20\n",
    "\n",
    "    start_index = 0\n",
    "    count = 0\n",
    "\n",
    "    while(start_index < len(test[\"sequences\"].keys())):\n",
    "        print(count)\n",
    "        end_index = start_index + batch_size\n",
    "        if end_index > len(test[\"sequences\"].keys()):\n",
    "            end_index = len(test[\"sequences\"].keys())\n",
    "\n",
    "        test_subset = copy.deepcopy(test)\n",
    "        temp_sequences = {}\n",
    "        for index in range(start_index, end_index):\n",
    "            key = get_nth_key(test_subset[\"sequences\"], index)\n",
    "            temp_sequences[key] = copy.deepcopy(test_subset[\"sequences\"][key])\n",
    "\n",
    "        test_subset[\"sequences\"] = temp_sequences\n",
    "\n",
    "        test_json = convert_npy_to_json(test_subset)\n",
    "        with open('/media/storage/ryan/mabe_challenge/behavior/behavior_jsons/test_' + str(count) + '_data.json', 'w') as f:\n",
    "            json.dump(test_json, f)\n",
    "\n",
    "        count += 1\n",
    "        start_index = end_index"
   ]
  },
  {
   "cell_type": "markdown",
   "id": "6aa957c0",
   "metadata": {},
   "source": [
    "Next, extract the features."
   ]
  },
  {
   "cell_type": "code",
   "execution_count": 1,
   "id": "e11e5804",
   "metadata": {
    "scrolled": true
   },
   "outputs": [
    {
     "name": "stderr",
     "output_type": "stream",
     "text": [
      "[Parallel(n_jobs=1)]: Using backend SequentialBackend with 1 concurrent workers.\n"
     ]
    },
    {
     "name": "stdout",
     "output_type": "stream",
     "text": [
      "test video 1/27: 025c8b569d clip 1/1\n",
      "test video 2/27: 6e4cde7339 clip 1/1\n",
      "test video 3/27: ea06d579e1 clip 1/1\n",
      "test video 4/27: 2816fb0bb4 clip 1/1\n",
      "test video 5/27: 2cf0ac8d47 clip 1/1\n",
      "test video 6/27: b48828025a clip 1/1\n",
      "test video 7/27: a551d64c26 clip 1/1\n",
      "test video 8/27: 1bdc7982c7 clip 1/1\n",
      "test video 9/27: ce21d7bc40 clip 1/1\n",
      "test video 10/27: 39249040dc clip 1/1\n",
      "test video 11/27: ef4c3f99da clip 1/1\n",
      "test video 12/27: ecbb280da9 clip 1/1\n",
      "test video 13/27: b5a740ee6d clip 1/1\n",
      "test video 14/27: f61a0cce95 clip 1/1\n",
      "test video 15/27: 1de5903e9f clip 1/1\n",
      "test video 16/27: a6a3a3add1 clip 1/1\n",
      "test video 17/27: 29d7b4b95b clip 1/1\n",
      "test video 18/27: bc892b9dc9 clip 1/1\n",
      "test video 19/27: 2218a2ff1d clip 1/1\n",
      "test video 20/27: a9523f56aa clip 1/1\n",
      "test video 21/27: d7d14dd77a clip 1/1\n",
      "test video 22/27: b9279ee3a6 clip 1/1\n",
      "test video 23/27: 32ebc68b03 clip 1/1\n",
      "test video 24/27: fc32cfce7f clip 1/1\n",
      "test video 25/27: 6a7e58d018 clip 1/1\n",
      "test video 26/27: 7e706a42b4 clip 1/1\n",
      "test video 27/27: f8b6e70bb9 clip 1/1\n"
     ]
    },
    {
     "name": "stderr",
     "output_type": "stream",
     "text": [
      "[Parallel(n_jobs=1)]: Done   1 out of   1 | elapsed: 92.0min remaining:    0.0s\n",
      "[Parallel(n_jobs=1)]: Done   1 out of   1 | elapsed: 92.0min finished\n"
     ]
    }
   ],
   "source": [
    "from behavior_classification import MARS_feature_extractor\n",
    "from joblib import Parallel, delayed\n",
    "\n",
    "project_path = '/media/storage/ryan/mabe_challenge'\n",
    "\n",
    "MARS_feature_extractor.extract_features(project_path, sets_to_process = [\"train\", \"test\"], n_jobs=1, verbose=10)\n",
    "os.rename(\"/media/storage/ryan/mabe_challenge/behavior/behavior_jsons/train_features.json\", \"/media/storage/ryan/mabe_challenge/behavior/behavior_jsons/complete_train_features.json\")"
   ]
  },
  {
   "cell_type": "markdown",
   "id": "cd54c667",
   "metadata": {},
   "source": [
    "A validation set is necessary for early stopping during training. The next cells creates a random validation set from the complete training features. The size of the validation set can be set by changing the variable val_ratio"
   ]
  },
  {
   "cell_type": "code",
   "execution_count": null,
   "id": "d00cfecb",
   "metadata": {},
   "outputs": [],
   "source": [
    "# create validation set\n",
    "import json\n",
    "import numpy as np\n",
    "import copy \n",
    "\n",
    "val_ratio = 0.35 #initial tests used 0.1\n",
    "\n",
    "with open(\"/media/storage/ryan/mabe_challenge/behavior/behavior_jsons/complete_train_featuresan.json\") as f:\n",
    "    t = json.load(f)\n",
    "    \n",
    "total_frames = 0\n",
    "for seq_name in t[\"sequences\"][\"mabe_challenge\"].keys():\n",
    "    total_frames += len(t[\"sequences\"][\"mabe_challenge\"][seq_name][0][\"annotations\"])\n",
    "\n",
    "import random\n",
    "import copy\n",
    "random.seed(42)\n",
    "seq_names = list(t[\"sequences\"][\"mabe_challenge\"].keys())\n",
    "random.shuffle(seq_names)\n",
    "\n",
    "\n",
    "val_size = 0\n",
    "\n",
    "v = {}\n",
    "v[\"vocabulary\"] = copy.deepcopy(t[\"vocabulary\"])\n",
    "v[\"feature_names\"] = copy.deepcopy(t[\"feature_names\"])\n",
    "v[\"sequences\"] = {}\n",
    "v[\"sequences\"][\"mabe_challenge\"] = {}\n",
    "\n",
    "seq_index = 0\n",
    "\n",
    "while(val_size <= val_ratio * total_frames):\n",
    "    v[\"sequences\"][\"mabe_challenge\"][seq_names[seq_index]] = copy.deepcopy(t[\"sequences\"][\"mabe_challenge\"][seq_names[seq_index]])\n",
    "    t[\"sequences\"][\"mabe_challenge\"].pop(seq_names[seq_index])\n",
    "    \n",
    "    \n",
    "    val_size += len(v[\"sequences\"][\"mabe_challenge\"][seq_names[seq_index]][0][\"annotations\"])\n",
    "    seq_index += 1\n",
    "\n",
    "with open(\"/media/storage/ryan/mabe_challenge/behavior/behavior_jsons/val_features.json\", 'w') as f:\n",
    "    json.dump(v, f)\n",
    "\n",
    "with open(\"/media/storage/ryan/mabe_challenge/behavior/behavior_jsons/train_features.json\", 'w') as f:\n",
    "    json.dump(t, f)"
   ]
  },
  {
   "cell_type": "markdown",
   "id": "4408bd77",
   "metadata": {},
   "source": [
    "Train classifier and evaluate performance."
   ]
  },
  {
   "cell_type": "code",
   "execution_count": 1,
   "id": "90003b42",
   "metadata": {
    "scrolled": true
   },
   "outputs": [
    {
     "name": "stdout",
     "output_type": "stream",
     "text": [
      "loading training data...\n"
     ]
    },
    {
     "name": "stderr",
     "output_type": "stream",
     "text": [
      "Filtering sequence 0/40    0% --  [Elapsed Time: 0:00:00] |  | (ETA:  --:--:--) \r"
     ]
    },
    {
     "name": "stdout",
     "output_type": "stream",
     "text": [
      "sorting features and applying filters...\n"
     ]
    },
    {
     "name": "stderr",
     "output_type": "stream",
     "text": [
      "Filtering sequence 40/40  100% --  [Elapsed Time: 0:06:13] |##| (Time: 0:06:13) \n"
     ]
    },
    {
     "name": "stdout",
     "output_type": "stream",
     "text": [
      "done!\n",
      "\n",
      "loading validation data...\n"
     ]
    },
    {
     "name": "stderr",
     "output_type": "stream",
     "text": [
      "Filtering sequence 0/30    0% --  [Elapsed Time: 0:00:00] |  | (ETA:  --:--:--) \r"
     ]
    },
    {
     "name": "stdout",
     "output_type": "stream",
     "text": [
      "sorting features and applying filters...\n"
     ]
    },
    {
     "name": "stderr",
     "output_type": "stream",
     "text": [
      "Filtering sequence 30/30  100% --  [Elapsed Time: 0:03:23] |##| (Time: 0:03:23) \n"
     ]
    },
    {
     "name": "stdout",
     "output_type": "stream",
     "text": [
      "done!\n",
      "\n",
      "loaded training data: 327181 X 3408 - ['attack', 'investigation', 'mount', 'other'] \n",
      "Training classifier: MABE_CHALLENGE_CAT_ES20_WND/\n",
      "######################### attack #########################\n",
      "training using 7900 positive frames (107 bouts)\n",
      "fitting preprocessing parameters...\n",
      "fitting clf for attack\n",
      "    training set: 7900 positive / 327181 total (2 %)\n",
      "    eval set: 6143 positive / 180557 total (3 %)\n",
      "  + early stopping\n",
      "Learning rate set to 0.132453\n",
      "0:\tlearn: 0.3729262\ttest: 0.3839656\tbest: 0.3839656 (0)\ttotal: 383ms\tremaining: 6m 22s\n",
      "1:\tlearn: 0.2334810\ttest: 0.2493025\tbest: 0.2493025 (1)\ttotal: 695ms\tremaining: 5m 46s\n",
      "2:\tlearn: 0.1368833\ttest: 0.1565412\tbest: 0.1565412 (2)\ttotal: 995ms\tremaining: 5m 30s\n",
      "3:\tlearn: 0.0954179\ttest: 0.1179722\tbest: 0.1179722 (3)\ttotal: 1.34s\tremaining: 5m 34s\n",
      "4:\tlearn: 0.0729300\ttest: 0.0981883\tbest: 0.0981883 (4)\ttotal: 1.69s\tremaining: 5m 35s\n",
      "5:\tlearn: 0.0600154\ttest: 0.0883075\tbest: 0.0883075 (5)\ttotal: 2.01s\tremaining: 5m 32s\n",
      "6:\tlearn: 0.0534919\ttest: 0.0833090\tbest: 0.0833090 (6)\ttotal: 2.31s\tremaining: 5m 28s\n",
      "7:\tlearn: 0.0486381\ttest: 0.0810273\tbest: 0.0810273 (7)\ttotal: 2.62s\tremaining: 5m 24s\n",
      "8:\tlearn: 0.0445131\ttest: 0.0787734\tbest: 0.0787734 (8)\ttotal: 2.93s\tremaining: 5m 22s\n",
      "9:\tlearn: 0.0414601\ttest: 0.0770997\tbest: 0.0770997 (9)\ttotal: 3.23s\tremaining: 5m 19s\n",
      "10:\tlearn: 0.0396896\ttest: 0.0764462\tbest: 0.0764462 (10)\ttotal: 3.51s\tremaining: 5m 15s\n",
      "11:\tlearn: 0.0371586\ttest: 0.0758983\tbest: 0.0758983 (11)\ttotal: 3.78s\tremaining: 5m 10s\n",
      "12:\tlearn: 0.0354654\ttest: 0.0754337\tbest: 0.0754337 (12)\ttotal: 4.08s\tremaining: 5m 9s\n",
      "13:\tlearn: 0.0345996\ttest: 0.0755116\tbest: 0.0754337 (12)\ttotal: 4.34s\tremaining: 5m 5s\n",
      "14:\tlearn: 0.0332121\ttest: 0.0756560\tbest: 0.0754337 (12)\ttotal: 4.66s\tremaining: 5m 5s\n",
      "15:\tlearn: 0.0317514\ttest: 0.0759357\tbest: 0.0754337 (12)\ttotal: 4.95s\tremaining: 5m 4s\n",
      "16:\tlearn: 0.0303672\ttest: 0.0755363\tbest: 0.0754337 (12)\ttotal: 5.26s\tremaining: 5m 4s\n",
      "17:\tlearn: 0.0292254\ttest: 0.0760424\tbest: 0.0754337 (12)\ttotal: 5.53s\tremaining: 5m 1s\n",
      "18:\tlearn: 0.0283140\ttest: 0.0766560\tbest: 0.0754337 (12)\ttotal: 5.83s\tremaining: 5m 1s\n",
      "19:\tlearn: 0.0272927\ttest: 0.0762126\tbest: 0.0754337 (12)\ttotal: 6.17s\tremaining: 5m 2s\n",
      "20:\tlearn: 0.0267364\ttest: 0.0764416\tbest: 0.0754337 (12)\ttotal: 6.43s\tremaining: 5m\n",
      "21:\tlearn: 0.0260474\ttest: 0.0763395\tbest: 0.0754337 (12)\ttotal: 6.73s\tremaining: 4m 59s\n",
      "22:\tlearn: 0.0253126\ttest: 0.0762068\tbest: 0.0754337 (12)\ttotal: 7.05s\tremaining: 4m 59s\n",
      "23:\tlearn: 0.0245320\ttest: 0.0761292\tbest: 0.0754337 (12)\ttotal: 7.38s\tremaining: 5m\n",
      "24:\tlearn: 0.0239583\ttest: 0.0761377\tbest: 0.0754337 (12)\ttotal: 7.66s\tremaining: 4m 58s\n",
      "25:\tlearn: 0.0235123\ttest: 0.0761310\tbest: 0.0754337 (12)\ttotal: 7.93s\tremaining: 4m 57s\n",
      "26:\tlearn: 0.0229906\ttest: 0.0764517\tbest: 0.0754337 (12)\ttotal: 8.21s\tremaining: 4m 55s\n",
      "27:\tlearn: 0.0225952\ttest: 0.0764125\tbest: 0.0754337 (12)\ttotal: 8.48s\tremaining: 4m 54s\n",
      "28:\tlearn: 0.0221783\ttest: 0.0762493\tbest: 0.0754337 (12)\ttotal: 8.74s\tremaining: 4m 52s\n",
      "29:\tlearn: 0.0218367\ttest: 0.0765452\tbest: 0.0754337 (12)\ttotal: 8.99s\tremaining: 4m 50s\n",
      "30:\tlearn: 0.0213876\ttest: 0.0767216\tbest: 0.0754337 (12)\ttotal: 9.26s\tremaining: 4m 49s\n",
      "31:\tlearn: 0.0211192\ttest: 0.0770171\tbest: 0.0754337 (12)\ttotal: 9.51s\tremaining: 4m 47s\n",
      "32:\tlearn: 0.0205435\ttest: 0.0769079\tbest: 0.0754337 (12)\ttotal: 9.81s\tremaining: 4m 47s\n",
      "Stopped by overfitting detector  (20 iterations wait)\n",
      "\n",
      "bestTest = 0.07543368677\n",
      "bestIteration = 12\n",
      "\n",
      "Shrink model to first 13 iterations.\n",
      "evaluating on the training set...\n",
      "fitting HMM smoother...\n",
      "fitting forward-backward smoother...\n"
     ]
    },
    {
     "name": "stderr",
     "output_type": "stream",
     "text": [
      "/home/roton/miniconda3/envs/mars/lib/python3.7/site-packages/sklearn/utils/validation.py:70: FutureWarning: Pass threshold=0.5 as keyword args. From version 0.25 passing these as positional arguments will result in an error\n",
      "  FutureWarning)\n"
     ]
    },
    {
     "name": "stdout",
     "output_type": "stream",
     "text": [
      "HMM label smoothing training took 4.25 mins\n",
      "performance on training set:\n",
      "P: 0.8927, R: 0.6300, F1: 0.7387    attack\n",
      "done training!\n",
      "######################### investigation #########################\n",
      "training using 104748 positive frames (1217 bouts)\n",
      "fitting preprocessing parameters...\n",
      "fitting clf for investigation\n",
      "    training set: 104748 positive / 327181 total (32 %)\n",
      "    eval set: 41875 positive / 180557 total (23 %)\n",
      "  + early stopping\n",
      "Learning rate set to 0.132453\n",
      "0:\tlearn: 0.5382246\ttest: 0.5374632\tbest: 0.5374632 (0)\ttotal: 408ms\tremaining: 6m 47s\n",
      "1:\tlearn: 0.4455773\ttest: 0.4484195\tbest: 0.4484195 (1)\ttotal: 723ms\tremaining: 6m\n",
      "2:\tlearn: 0.3826695\ttest: 0.3898405\tbest: 0.3898405 (2)\ttotal: 1.04s\tremaining: 5m 47s\n",
      "3:\tlearn: 0.3380780\ttest: 0.3494778\tbest: 0.3494778 (3)\ttotal: 1.39s\tremaining: 5m 45s\n",
      "4:\tlearn: 0.3059344\ttest: 0.3200365\tbest: 0.3200365 (4)\ttotal: 1.71s\tremaining: 5m 40s\n",
      "5:\tlearn: 0.2826898\ttest: 0.2995768\tbest: 0.2995768 (5)\ttotal: 2.06s\tremaining: 5m 40s\n",
      "6:\tlearn: 0.2666910\ttest: 0.2865351\tbest: 0.2865351 (6)\ttotal: 2.36s\tremaining: 5m 34s\n",
      "7:\tlearn: 0.2535885\ttest: 0.2753791\tbest: 0.2753791 (7)\ttotal: 2.68s\tremaining: 5m 32s\n",
      "8:\tlearn: 0.2458623\ttest: 0.2703488\tbest: 0.2703488 (8)\ttotal: 2.99s\tremaining: 5m 29s\n",
      "9:\tlearn: 0.2382730\ttest: 0.2637816\tbest: 0.2637816 (9)\ttotal: 3.31s\tremaining: 5m 27s\n",
      "10:\tlearn: 0.2313476\ttest: 0.2581270\tbest: 0.2581270 (10)\ttotal: 3.63s\tremaining: 5m 26s\n",
      "11:\tlearn: 0.2248907\ttest: 0.2540222\tbest: 0.2540222 (11)\ttotal: 3.97s\tremaining: 5m 26s\n",
      "12:\tlearn: 0.2205077\ttest: 0.2507069\tbest: 0.2507069 (12)\ttotal: 4.29s\tremaining: 5m 25s\n",
      "13:\tlearn: 0.2173279\ttest: 0.2484286\tbest: 0.2484286 (13)\ttotal: 4.6s\tremaining: 5m 24s\n",
      "14:\tlearn: 0.2128348\ttest: 0.2453939\tbest: 0.2453939 (14)\ttotal: 4.89s\tremaining: 5m 21s\n",
      "15:\tlearn: 0.2098651\ttest: 0.2437570\tbest: 0.2437570 (15)\ttotal: 5.18s\tremaining: 5m 18s\n",
      "16:\tlearn: 0.2072100\ttest: 0.2424563\tbest: 0.2424563 (16)\ttotal: 5.49s\tremaining: 5m 17s\n",
      "17:\tlearn: 0.2044942\ttest: 0.2415947\tbest: 0.2415947 (17)\ttotal: 5.79s\tremaining: 5m 16s\n",
      "18:\tlearn: 0.2023948\ttest: 0.2412837\tbest: 0.2412837 (18)\ttotal: 6.11s\tremaining: 5m 15s\n",
      "19:\tlearn: 0.2002877\ttest: 0.2403343\tbest: 0.2403343 (19)\ttotal: 6.44s\tremaining: 5m 15s\n",
      "20:\tlearn: 0.1987395\ttest: 0.2394900\tbest: 0.2394900 (20)\ttotal: 6.73s\tremaining: 5m 13s\n",
      "21:\tlearn: 0.1969245\ttest: 0.2387818\tbest: 0.2387818 (21)\ttotal: 7.01s\tremaining: 5m 11s\n",
      "22:\tlearn: 0.1949792\ttest: 0.2377480\tbest: 0.2377480 (22)\ttotal: 7.29s\tremaining: 5m 9s\n",
      "23:\tlearn: 0.1935927\ttest: 0.2374838\tbest: 0.2374838 (23)\ttotal: 7.63s\tremaining: 5m 10s\n",
      "24:\tlearn: 0.1919120\ttest: 0.2370686\tbest: 0.2370686 (24)\ttotal: 7.92s\tremaining: 5m 8s\n",
      "25:\tlearn: 0.1907834\ttest: 0.2365161\tbest: 0.2365161 (25)\ttotal: 8.19s\tremaining: 5m 6s\n",
      "26:\tlearn: 0.1897016\ttest: 0.2363325\tbest: 0.2363325 (26)\ttotal: 8.48s\tremaining: 5m 5s\n",
      "27:\tlearn: 0.1884864\ttest: 0.2354875\tbest: 0.2354875 (27)\ttotal: 8.79s\tremaining: 5m 5s\n",
      "28:\tlearn: 0.1876314\ttest: 0.2349535\tbest: 0.2349535 (28)\ttotal: 9.11s\tremaining: 5m 5s\n",
      "29:\tlearn: 0.1865610\ttest: 0.2347099\tbest: 0.2347099 (29)\ttotal: 9.39s\tremaining: 5m 3s\n",
      "30:\tlearn: 0.1853717\ttest: 0.2342811\tbest: 0.2342811 (30)\ttotal: 9.69s\tremaining: 5m 2s\n",
      "31:\tlearn: 0.1846708\ttest: 0.2338765\tbest: 0.2338765 (31)\ttotal: 9.96s\tremaining: 5m 1s\n",
      "32:\tlearn: 0.1835913\ttest: 0.2333231\tbest: 0.2333231 (32)\ttotal: 10.3s\tremaining: 5m\n",
      "33:\tlearn: 0.1824750\ttest: 0.2325857\tbest: 0.2325857 (33)\ttotal: 10.6s\tremaining: 5m 1s\n",
      "34:\tlearn: 0.1812723\ttest: 0.2321979\tbest: 0.2321979 (34)\ttotal: 10.9s\tremaining: 5m\n",
      "35:\tlearn: 0.1804219\ttest: 0.2321003\tbest: 0.2321003 (35)\ttotal: 11.2s\tremaining: 5m\n",
      "36:\tlearn: 0.1795793\ttest: 0.2320287\tbest: 0.2320287 (36)\ttotal: 11.5s\tremaining: 4m 59s\n",
      "37:\tlearn: 0.1788403\ttest: 0.2319458\tbest: 0.2319458 (37)\ttotal: 11.8s\tremaining: 4m 58s\n",
      "38:\tlearn: 0.1780157\ttest: 0.2319635\tbest: 0.2319458 (37)\ttotal: 12.1s\tremaining: 4m 58s\n",
      "39:\tlearn: 0.1774386\ttest: 0.2325638\tbest: 0.2319458 (37)\ttotal: 12.4s\tremaining: 4m 56s\n",
      "40:\tlearn: 0.1767472\ttest: 0.2323456\tbest: 0.2319458 (37)\ttotal: 12.7s\tremaining: 4m 56s\n",
      "41:\tlearn: 0.1760836\ttest: 0.2322852\tbest: 0.2319458 (37)\ttotal: 12.9s\tremaining: 4m 55s\n",
      "42:\tlearn: 0.1752727\ttest: 0.2324154\tbest: 0.2319458 (37)\ttotal: 13.2s\tremaining: 4m 54s\n",
      "43:\tlearn: 0.1747573\ttest: 0.2324100\tbest: 0.2319458 (37)\ttotal: 13.6s\tremaining: 4m 54s\n",
      "44:\tlearn: 0.1739338\ttest: 0.2324100\tbest: 0.2319458 (37)\ttotal: 13.9s\tremaining: 4m 54s\n",
      "45:\tlearn: 0.1732918\ttest: 0.2323589\tbest: 0.2319458 (37)\ttotal: 14.2s\tremaining: 4m 53s\n",
      "46:\tlearn: 0.1724482\ttest: 0.2323076\tbest: 0.2319458 (37)\ttotal: 14.5s\tremaining: 4m 53s\n",
      "47:\tlearn: 0.1717935\ttest: 0.2321599\tbest: 0.2319458 (37)\ttotal: 14.7s\tremaining: 4m 52s\n",
      "48:\tlearn: 0.1709665\ttest: 0.2318716\tbest: 0.2318716 (48)\ttotal: 15s\tremaining: 4m 51s\n",
      "49:\tlearn: 0.1704123\ttest: 0.2313564\tbest: 0.2313564 (49)\ttotal: 15.3s\tremaining: 4m 50s\n",
      "50:\tlearn: 0.1698966\ttest: 0.2312077\tbest: 0.2312077 (50)\ttotal: 15.6s\tremaining: 4m 50s\n",
      "51:\tlearn: 0.1693359\ttest: 0.2310341\tbest: 0.2310341 (51)\ttotal: 15.9s\tremaining: 4m 49s\n",
      "52:\tlearn: 0.1687457\ttest: 0.2310428\tbest: 0.2310341 (51)\ttotal: 16.1s\tremaining: 4m 48s\n",
      "53:\tlearn: 0.1681066\ttest: 0.2311276\tbest: 0.2310341 (51)\ttotal: 16.4s\tremaining: 4m 48s\n",
      "54:\tlearn: 0.1671226\ttest: 0.2310856\tbest: 0.2310341 (51)\ttotal: 16.8s\tremaining: 4m 48s\n",
      "55:\tlearn: 0.1665121\ttest: 0.2307685\tbest: 0.2307685 (55)\ttotal: 17.1s\tremaining: 4m 47s\n",
      "56:\tlearn: 0.1659060\ttest: 0.2309830\tbest: 0.2307685 (55)\ttotal: 17.3s\tremaining: 4m 46s\n",
      "57:\tlearn: 0.1654555\ttest: 0.2310540\tbest: 0.2307685 (55)\ttotal: 17.6s\tremaining: 4m 46s\n",
      "58:\tlearn: 0.1650156\ttest: 0.2308635\tbest: 0.2307685 (55)\ttotal: 17.9s\tremaining: 4m 45s\n",
      "59:\tlearn: 0.1645501\ttest: 0.2310404\tbest: 0.2307685 (55)\ttotal: 18.2s\tremaining: 4m 44s\n",
      "60:\tlearn: 0.1640233\ttest: 0.2310820\tbest: 0.2307685 (55)\ttotal: 18.5s\tremaining: 4m 44s\n",
      "61:\tlearn: 0.1633485\ttest: 0.2307732\tbest: 0.2307685 (55)\ttotal: 18.8s\tremaining: 4m 44s\n",
      "62:\tlearn: 0.1629030\ttest: 0.2308730\tbest: 0.2307685 (55)\ttotal: 19.1s\tremaining: 4m 43s\n",
      "63:\tlearn: 0.1623745\ttest: 0.2300470\tbest: 0.2300470 (63)\ttotal: 19.4s\tremaining: 4m 43s\n",
      "64:\tlearn: 0.1617864\ttest: 0.2300437\tbest: 0.2300437 (64)\ttotal: 19.7s\tremaining: 4m 43s\n",
      "65:\tlearn: 0.1611528\ttest: 0.2299505\tbest: 0.2299505 (65)\ttotal: 20s\tremaining: 4m 42s\n",
      "66:\tlearn: 0.1605392\ttest: 0.2297108\tbest: 0.2297108 (66)\ttotal: 20.3s\tremaining: 4m 42s\n",
      "67:\tlearn: 0.1598192\ttest: 0.2294374\tbest: 0.2294374 (67)\ttotal: 20.6s\tremaining: 4m 42s\n",
      "68:\tlearn: 0.1593932\ttest: 0.2293750\tbest: 0.2293750 (68)\ttotal: 20.9s\tremaining: 4m 41s\n",
      "69:\tlearn: 0.1589958\ttest: 0.2293091\tbest: 0.2293091 (69)\ttotal: 21.2s\tremaining: 4m 41s\n",
      "70:\tlearn: 0.1584923\ttest: 0.2295187\tbest: 0.2293091 (69)\ttotal: 21.4s\tremaining: 4m 40s\n",
      "71:\tlearn: 0.1578760\ttest: 0.2293336\tbest: 0.2293091 (69)\ttotal: 21.8s\tremaining: 4m 40s\n",
      "72:\tlearn: 0.1574118\ttest: 0.2294460\tbest: 0.2293091 (69)\ttotal: 22.1s\tremaining: 4m 40s\n",
      "73:\tlearn: 0.1569852\ttest: 0.2291938\tbest: 0.2291938 (73)\ttotal: 22.4s\tremaining: 4m 40s\n",
      "74:\tlearn: 0.1565086\ttest: 0.2293388\tbest: 0.2291938 (73)\ttotal: 22.7s\tremaining: 4m 40s\n",
      "75:\tlearn: 0.1560808\ttest: 0.2293781\tbest: 0.2291938 (73)\ttotal: 23s\tremaining: 4m 40s\n",
      "76:\tlearn: 0.1554699\ttest: 0.2294786\tbest: 0.2291938 (73)\ttotal: 23.4s\tremaining: 4m 40s\n",
      "77:\tlearn: 0.1548629\ttest: 0.2292111\tbest: 0.2291938 (73)\ttotal: 23.6s\tremaining: 4m 39s\n",
      "78:\tlearn: 0.1543978\ttest: 0.2292593\tbest: 0.2291938 (73)\ttotal: 24s\tremaining: 4m 39s\n",
      "79:\tlearn: 0.1538763\ttest: 0.2292735\tbest: 0.2291938 (73)\ttotal: 24.3s\tremaining: 4m 39s\n",
      "80:\tlearn: 0.1533687\ttest: 0.2290866\tbest: 0.2290866 (80)\ttotal: 24.6s\tremaining: 4m 39s\n",
      "81:\tlearn: 0.1528683\ttest: 0.2289173\tbest: 0.2289173 (81)\ttotal: 24.9s\tremaining: 4m 38s\n",
      "82:\tlearn: 0.1524587\ttest: 0.2286824\tbest: 0.2286824 (82)\ttotal: 25.2s\tremaining: 4m 38s\n",
      "83:\tlearn: 0.1519479\ttest: 0.2284227\tbest: 0.2284227 (83)\ttotal: 25.5s\tremaining: 4m 38s\n",
      "84:\tlearn: 0.1514864\ttest: 0.2284282\tbest: 0.2284227 (83)\ttotal: 25.9s\tremaining: 4m 38s\n",
      "85:\tlearn: 0.1511154\ttest: 0.2283233\tbest: 0.2283233 (85)\ttotal: 26.2s\tremaining: 4m 38s\n",
      "86:\tlearn: 0.1507570\ttest: 0.2283864\tbest: 0.2283233 (85)\ttotal: 26.5s\tremaining: 4m 37s\n",
      "87:\tlearn: 0.1504302\ttest: 0.2288148\tbest: 0.2283233 (85)\ttotal: 26.8s\tremaining: 4m 38s\n"
     ]
    },
    {
     "name": "stdout",
     "output_type": "stream",
     "text": [
      "88:\tlearn: 0.1499724\ttest: 0.2289836\tbest: 0.2283233 (85)\ttotal: 27.2s\tremaining: 4m 38s\n",
      "89:\tlearn: 0.1495625\ttest: 0.2289154\tbest: 0.2283233 (85)\ttotal: 27.5s\tremaining: 4m 37s\n",
      "90:\tlearn: 0.1491605\ttest: 0.2293901\tbest: 0.2283233 (85)\ttotal: 27.8s\tremaining: 4m 37s\n",
      "91:\tlearn: 0.1486202\ttest: 0.2291564\tbest: 0.2283233 (85)\ttotal: 28.1s\tremaining: 4m 37s\n",
      "92:\tlearn: 0.1482766\ttest: 0.2294048\tbest: 0.2283233 (85)\ttotal: 28.4s\tremaining: 4m 37s\n",
      "93:\tlearn: 0.1480032\ttest: 0.2292392\tbest: 0.2283233 (85)\ttotal: 28.7s\tremaining: 4m 36s\n",
      "94:\tlearn: 0.1475877\ttest: 0.2293141\tbest: 0.2283233 (85)\ttotal: 29s\tremaining: 4m 36s\n",
      "95:\tlearn: 0.1472279\ttest: 0.2295038\tbest: 0.2283233 (85)\ttotal: 29.3s\tremaining: 4m 35s\n",
      "96:\tlearn: 0.1468053\ttest: 0.2298042\tbest: 0.2283233 (85)\ttotal: 29.6s\tremaining: 4m 35s\n",
      "97:\tlearn: 0.1463765\ttest: 0.2296997\tbest: 0.2283233 (85)\ttotal: 29.9s\tremaining: 4m 35s\n",
      "98:\tlearn: 0.1459440\ttest: 0.2296969\tbest: 0.2283233 (85)\ttotal: 30.2s\tremaining: 4m 34s\n",
      "99:\tlearn: 0.1455427\ttest: 0.2301692\tbest: 0.2283233 (85)\ttotal: 30.5s\tremaining: 4m 34s\n",
      "100:\tlearn: 0.1451539\ttest: 0.2301722\tbest: 0.2283233 (85)\ttotal: 30.8s\tremaining: 4m 33s\n",
      "101:\tlearn: 0.1446803\ttest: 0.2304748\tbest: 0.2283233 (85)\ttotal: 31.1s\tremaining: 4m 33s\n",
      "102:\tlearn: 0.1440669\ttest: 0.2302805\tbest: 0.2283233 (85)\ttotal: 31.4s\tremaining: 4m 33s\n",
      "103:\tlearn: 0.1437391\ttest: 0.2302550\tbest: 0.2283233 (85)\ttotal: 31.8s\tremaining: 4m 33s\n",
      "104:\tlearn: 0.1432643\ttest: 0.2302331\tbest: 0.2283233 (85)\ttotal: 32.1s\tremaining: 4m 33s\n",
      "105:\tlearn: 0.1428123\ttest: 0.2301155\tbest: 0.2283233 (85)\ttotal: 32.4s\tremaining: 4m 33s\n",
      "Stopped by overfitting detector  (20 iterations wait)\n",
      "\n",
      "bestTest = 0.2283233231\n",
      "bestIteration = 85\n",
      "\n",
      "Shrink model to first 86 iterations.\n",
      "evaluating on the training set...\n",
      "fitting HMM smoother...\n",
      "fitting forward-backward smoother...\n"
     ]
    },
    {
     "name": "stderr",
     "output_type": "stream",
     "text": [
      "/home/roton/miniconda3/envs/mars/lib/python3.7/site-packages/sklearn/utils/validation.py:70: FutureWarning: Pass threshold=0.5 as keyword args. From version 0.25 passing these as positional arguments will result in an error\n",
      "  FutureWarning)\n"
     ]
    },
    {
     "name": "stdout",
     "output_type": "stream",
     "text": [
      "HMM label smoothing training took 4.22 mins\n",
      "performance on training set:\n",
      "P: 0.8982, R: 0.9264, F1: 0.9121    investigation\n",
      "done training!\n",
      "######################### mount #########################\n",
      "training using 15232 positive frames (144 bouts)\n",
      "fitting preprocessing parameters...\n",
      "fitting clf for mount\n",
      "    training set: 15232 positive / 327181 total (4 %)\n",
      "    eval set: 13390 positive / 180557 total (7 %)\n",
      "  + early stopping\n",
      "Learning rate set to 0.132453\n",
      "0:\tlearn: 0.3466646\ttest: 0.3689965\tbest: 0.3689965 (0)\ttotal: 324ms\tremaining: 5m 23s\n",
      "1:\tlearn: 0.1903525\ttest: 0.2233605\tbest: 0.2233605 (1)\ttotal: 619ms\tremaining: 5m 9s\n",
      "2:\tlearn: 0.1150681\ttest: 0.1514015\tbest: 0.1514015 (2)\ttotal: 911ms\tremaining: 5m 2s\n",
      "3:\tlearn: 0.0784462\ttest: 0.1163313\tbest: 0.1163313 (3)\ttotal: 1.22s\tremaining: 5m 4s\n",
      "4:\tlearn: 0.0609918\ttest: 0.1001915\tbest: 0.1001915 (4)\ttotal: 1.53s\tremaining: 5m 3s\n",
      "5:\tlearn: 0.0511087\ttest: 0.0911890\tbest: 0.0911890 (5)\ttotal: 1.83s\tremaining: 5m 4s\n",
      "6:\tlearn: 0.0444453\ttest: 0.0854163\tbest: 0.0854163 (6)\ttotal: 2.14s\tremaining: 5m 3s\n",
      "7:\tlearn: 0.0401022\ttest: 0.0814015\tbest: 0.0814015 (7)\ttotal: 2.42s\tremaining: 4m 59s\n",
      "8:\tlearn: 0.0365017\ttest: 0.0778581\tbest: 0.0778581 (8)\ttotal: 2.68s\tremaining: 4m 54s\n",
      "9:\tlearn: 0.0343820\ttest: 0.0765815\tbest: 0.0765815 (9)\ttotal: 2.96s\tremaining: 4m 52s\n",
      "10:\tlearn: 0.0321711\ttest: 0.0749164\tbest: 0.0749164 (10)\ttotal: 3.24s\tremaining: 4m 51s\n",
      "11:\tlearn: 0.0307526\ttest: 0.0744337\tbest: 0.0744337 (11)\ttotal: 3.5s\tremaining: 4m 48s\n",
      "12:\tlearn: 0.0296895\ttest: 0.0738909\tbest: 0.0738909 (12)\ttotal: 3.77s\tremaining: 4m 46s\n",
      "13:\tlearn: 0.0284397\ttest: 0.0737908\tbest: 0.0737908 (13)\ttotal: 4.05s\tremaining: 4m 45s\n",
      "14:\tlearn: 0.0275373\ttest: 0.0729519\tbest: 0.0729519 (14)\ttotal: 4.32s\tremaining: 4m 43s\n",
      "15:\tlearn: 0.0268938\ttest: 0.0724154\tbest: 0.0724154 (15)\ttotal: 4.59s\tremaining: 4m 42s\n",
      "16:\tlearn: 0.0260686\ttest: 0.0719704\tbest: 0.0719704 (16)\ttotal: 4.86s\tremaining: 4m 41s\n",
      "17:\tlearn: 0.0256713\ttest: 0.0719991\tbest: 0.0719704 (16)\ttotal: 5.1s\tremaining: 4m 38s\n",
      "18:\tlearn: 0.0251550\ttest: 0.0720614\tbest: 0.0719704 (16)\ttotal: 5.37s\tremaining: 4m 37s\n",
      "19:\tlearn: 0.0245585\ttest: 0.0722081\tbest: 0.0719704 (16)\ttotal: 5.63s\tremaining: 4m 35s\n",
      "20:\tlearn: 0.0241180\ttest: 0.0721539\tbest: 0.0719704 (16)\ttotal: 5.89s\tremaining: 4m 34s\n",
      "21:\tlearn: 0.0235547\ttest: 0.0718582\tbest: 0.0718582 (21)\ttotal: 6.16s\tremaining: 4m 33s\n",
      "22:\tlearn: 0.0230423\ttest: 0.0715775\tbest: 0.0715775 (22)\ttotal: 6.42s\tremaining: 4m 32s\n",
      "23:\tlearn: 0.0227186\ttest: 0.0713731\tbest: 0.0713731 (23)\ttotal: 6.68s\tremaining: 4m 31s\n",
      "24:\tlearn: 0.0223676\ttest: 0.0713196\tbest: 0.0713196 (24)\ttotal: 6.98s\tremaining: 4m 32s\n",
      "25:\tlearn: 0.0220170\ttest: 0.0712000\tbest: 0.0712000 (25)\ttotal: 7.25s\tremaining: 4m 31s\n",
      "26:\tlearn: 0.0216934\ttest: 0.0712197\tbest: 0.0712000 (25)\ttotal: 7.55s\tremaining: 4m 32s\n",
      "27:\tlearn: 0.0212923\ttest: 0.0714937\tbest: 0.0712000 (25)\ttotal: 7.85s\tremaining: 4m 32s\n",
      "28:\tlearn: 0.0209545\ttest: 0.0714372\tbest: 0.0712000 (25)\ttotal: 8.11s\tremaining: 4m 31s\n",
      "29:\tlearn: 0.0207534\ttest: 0.0714167\tbest: 0.0712000 (25)\ttotal: 8.35s\tremaining: 4m 29s\n",
      "30:\tlearn: 0.0204618\ttest: 0.0714613\tbest: 0.0712000 (25)\ttotal: 8.63s\tremaining: 4m 29s\n",
      "31:\tlearn: 0.0200469\ttest: 0.0713787\tbest: 0.0712000 (25)\ttotal: 8.92s\tremaining: 4m 29s\n",
      "32:\tlearn: 0.0198502\ttest: 0.0716218\tbest: 0.0712000 (25)\ttotal: 9.2s\tremaining: 4m 29s\n",
      "33:\tlearn: 0.0195459\ttest: 0.0715570\tbest: 0.0712000 (25)\ttotal: 9.47s\tremaining: 4m 29s\n",
      "34:\tlearn: 0.0192541\ttest: 0.0717537\tbest: 0.0712000 (25)\ttotal: 9.74s\tremaining: 4m 28s\n",
      "35:\tlearn: 0.0190725\ttest: 0.0717145\tbest: 0.0712000 (25)\ttotal: 9.99s\tremaining: 4m 27s\n",
      "36:\tlearn: 0.0188359\ttest: 0.0716460\tbest: 0.0712000 (25)\ttotal: 10.3s\tremaining: 4m 27s\n",
      "37:\tlearn: 0.0185762\ttest: 0.0715218\tbest: 0.0712000 (25)\ttotal: 10.6s\tremaining: 4m 27s\n",
      "38:\tlearn: 0.0184448\ttest: 0.0714643\tbest: 0.0712000 (25)\ttotal: 10.8s\tremaining: 4m 25s\n",
      "39:\tlearn: 0.0181946\ttest: 0.0715548\tbest: 0.0712000 (25)\ttotal: 11s\tremaining: 4m 25s\n",
      "40:\tlearn: 0.0179197\ttest: 0.0716531\tbest: 0.0712000 (25)\ttotal: 11.3s\tremaining: 4m 24s\n",
      "41:\tlearn: 0.0176412\ttest: 0.0716867\tbest: 0.0712000 (25)\ttotal: 11.6s\tremaining: 4m 24s\n",
      "42:\tlearn: 0.0174032\ttest: 0.0718760\tbest: 0.0712000 (25)\ttotal: 11.9s\tremaining: 4m 24s\n",
      "43:\tlearn: 0.0172077\ttest: 0.0719242\tbest: 0.0712000 (25)\ttotal: 12.2s\tremaining: 4m 24s\n",
      "44:\tlearn: 0.0170542\ttest: 0.0718793\tbest: 0.0712000 (25)\ttotal: 12.4s\tremaining: 4m 23s\n",
      "45:\tlearn: 0.0168173\ttest: 0.0716248\tbest: 0.0712000 (25)\ttotal: 12.7s\tremaining: 4m 22s\n",
      "Stopped by overfitting detector  (20 iterations wait)\n",
      "\n",
      "bestTest = 0.07120001233\n",
      "bestIteration = 25\n",
      "\n",
      "Shrink model to first 26 iterations.\n",
      "evaluating on the training set...\n",
      "fitting HMM smoother...\n",
      "fitting forward-backward smoother...\n"
     ]
    },
    {
     "name": "stderr",
     "output_type": "stream",
     "text": [
      "/home/roton/miniconda3/envs/mars/lib/python3.7/site-packages/sklearn/utils/validation.py:70: FutureWarning: Pass threshold=0.5 as keyword args. From version 0.25 passing these as positional arguments will result in an error\n",
      "  FutureWarning)\n"
     ]
    },
    {
     "name": "stdout",
     "output_type": "stream",
     "text": [
      "HMM label smoothing training took 4.18 mins\n",
      "performance on training set:\n",
      "P: 0.9526, R: 0.9087, F1: 0.9301    mount\n",
      "done training!\n",
      "######################### other #########################\n",
      "training using 199301 positive frames (1147 bouts)\n",
      "fitting preprocessing parameters...\n",
      "fitting clf for other\n",
      "    training set: 199301 positive / 327181 total (60 %)\n",
      "    eval set: 119149 positive / 180557 total (65 %)\n",
      "  + early stopping\n",
      "Learning rate set to 0.132453\n",
      "0:\tlearn: 0.5237573\ttest: 0.5248117\tbest: 0.5248117 (0)\ttotal: 362ms\tremaining: 6m 1s\n",
      "1:\tlearn: 0.4161515\ttest: 0.4180548\tbest: 0.4180548 (1)\ttotal: 700ms\tremaining: 5m 49s\n",
      "2:\tlearn: 0.3456817\ttest: 0.3508274\tbest: 0.3508274 (2)\ttotal: 1.03s\tremaining: 5m 43s\n",
      "3:\tlearn: 0.2958563\ttest: 0.3043909\tbest: 0.3043909 (3)\ttotal: 1.42s\tremaining: 5m 52s\n",
      "4:\tlearn: 0.2646881\ttest: 0.2760773\tbest: 0.2760773 (4)\ttotal: 1.75s\tremaining: 5m 49s\n",
      "5:\tlearn: 0.2417991\ttest: 0.2546077\tbest: 0.2546077 (5)\ttotal: 2.09s\tremaining: 5m 46s\n",
      "6:\tlearn: 0.2262344\ttest: 0.2413809\tbest: 0.2413809 (6)\ttotal: 2.41s\tremaining: 5m 41s\n",
      "7:\tlearn: 0.2135024\ttest: 0.2310656\tbest: 0.2310656 (7)\ttotal: 2.73s\tremaining: 5m 38s\n",
      "8:\tlearn: 0.2040925\ttest: 0.2234731\tbest: 0.2234731 (8)\ttotal: 3.1s\tremaining: 5m 41s\n",
      "9:\tlearn: 0.1961594\ttest: 0.2176130\tbest: 0.2176130 (9)\ttotal: 3.42s\tremaining: 5m 39s\n",
      "10:\tlearn: 0.1907357\ttest: 0.2136274\tbest: 0.2136274 (10)\ttotal: 3.76s\tremaining: 5m 37s\n",
      "11:\tlearn: 0.1856526\ttest: 0.2098104\tbest: 0.2098104 (11)\ttotal: 4.06s\tremaining: 5m 34s\n",
      "12:\tlearn: 0.1828073\ttest: 0.2086018\tbest: 0.2086018 (12)\ttotal: 4.38s\tremaining: 5m 32s\n",
      "13:\tlearn: 0.1782909\ttest: 0.2052770\tbest: 0.2052770 (13)\ttotal: 4.73s\tremaining: 5m 32s\n",
      "14:\tlearn: 0.1756683\ttest: 0.2034599\tbest: 0.2034599 (14)\ttotal: 5.03s\tremaining: 5m 30s\n",
      "15:\tlearn: 0.1739431\ttest: 0.2027129\tbest: 0.2027129 (15)\ttotal: 5.33s\tremaining: 5m 27s\n",
      "16:\tlearn: 0.1720510\ttest: 0.2020567\tbest: 0.2020567 (16)\ttotal: 5.59s\tremaining: 5m 23s\n",
      "17:\tlearn: 0.1700180\ttest: 0.2008819\tbest: 0.2008819 (17)\ttotal: 5.89s\tremaining: 5m 21s\n",
      "18:\tlearn: 0.1682898\ttest: 0.2004304\tbest: 0.2004304 (18)\ttotal: 6.21s\tremaining: 5m 20s\n",
      "19:\tlearn: 0.1667801\ttest: 0.1999179\tbest: 0.1999179 (19)\ttotal: 6.5s\tremaining: 5m 18s\n",
      "20:\tlearn: 0.1656397\ttest: 0.1995406\tbest: 0.1995406 (20)\ttotal: 6.77s\tremaining: 5m 15s\n",
      "21:\tlearn: 0.1641684\ttest: 0.1988446\tbest: 0.1988446 (21)\ttotal: 7.1s\tremaining: 5m 15s\n",
      "22:\tlearn: 0.1630010\ttest: 0.1981483\tbest: 0.1981483 (22)\ttotal: 7.42s\tremaining: 5m 15s\n",
      "23:\tlearn: 0.1615393\ttest: 0.1973975\tbest: 0.1973975 (23)\ttotal: 7.76s\tremaining: 5m 15s\n",
      "24:\tlearn: 0.1606576\ttest: 0.1971209\tbest: 0.1971209 (24)\ttotal: 8.03s\tremaining: 5m 13s\n",
      "25:\tlearn: 0.1596699\ttest: 0.1971328\tbest: 0.1971209 (24)\ttotal: 8.29s\tremaining: 5m 10s\n",
      "26:\tlearn: 0.1585994\ttest: 0.1968617\tbest: 0.1968617 (26)\ttotal: 8.57s\tremaining: 5m 8s\n",
      "27:\tlearn: 0.1576078\ttest: 0.1968198\tbest: 0.1968198 (27)\ttotal: 8.87s\tremaining: 5m 7s\n",
      "28:\tlearn: 0.1567286\ttest: 0.1965170\tbest: 0.1965170 (28)\ttotal: 9.21s\tremaining: 5m 8s\n",
      "29:\tlearn: 0.1559277\ttest: 0.1965341\tbest: 0.1965170 (28)\ttotal: 9.53s\tremaining: 5m 8s\n",
      "30:\tlearn: 0.1551478\ttest: 0.1963737\tbest: 0.1963737 (30)\ttotal: 9.8s\tremaining: 5m 6s\n",
      "31:\tlearn: 0.1544336\ttest: 0.1962837\tbest: 0.1962837 (31)\ttotal: 10.1s\tremaining: 5m 4s\n",
      "32:\tlearn: 0.1534644\ttest: 0.1961514\tbest: 0.1961514 (32)\ttotal: 10.4s\tremaining: 5m 5s\n",
      "33:\tlearn: 0.1525384\ttest: 0.1957610\tbest: 0.1957610 (33)\ttotal: 10.8s\tremaining: 5m 5s\n",
      "34:\tlearn: 0.1517387\ttest: 0.1956169\tbest: 0.1956169 (34)\ttotal: 11s\tremaining: 5m 4s\n",
      "35:\tlearn: 0.1510108\ttest: 0.1951936\tbest: 0.1951936 (35)\ttotal: 11.4s\tremaining: 5m 4s\n",
      "36:\tlearn: 0.1502152\ttest: 0.1950018\tbest: 0.1950018 (36)\ttotal: 11.7s\tremaining: 5m 4s\n",
      "37:\tlearn: 0.1495115\ttest: 0.1950772\tbest: 0.1950018 (36)\ttotal: 12s\tremaining: 5m 4s\n",
      "38:\tlearn: 0.1490433\ttest: 0.1949634\tbest: 0.1949634 (38)\ttotal: 12.3s\tremaining: 5m 2s\n",
      "39:\tlearn: 0.1481364\ttest: 0.1949593\tbest: 0.1949593 (39)\ttotal: 12.6s\tremaining: 5m 3s\n",
      "40:\tlearn: 0.1476106\ttest: 0.1951541\tbest: 0.1949593 (39)\ttotal: 12.9s\tremaining: 5m 1s\n",
      "41:\tlearn: 0.1469593\ttest: 0.1952543\tbest: 0.1949593 (39)\ttotal: 13.2s\tremaining: 5m\n",
      "42:\tlearn: 0.1465245\ttest: 0.1950778\tbest: 0.1949593 (39)\ttotal: 13.4s\tremaining: 4m 58s\n",
      "43:\tlearn: 0.1460976\ttest: 0.1950832\tbest: 0.1949593 (39)\ttotal: 13.7s\tremaining: 4m 57s\n",
      "44:\tlearn: 0.1456865\ttest: 0.1952317\tbest: 0.1949593 (39)\ttotal: 13.9s\tremaining: 4m 56s\n",
      "45:\tlearn: 0.1452178\ttest: 0.1950793\tbest: 0.1949593 (39)\ttotal: 14.2s\tremaining: 4m 55s\n",
      "46:\tlearn: 0.1447463\ttest: 0.1948867\tbest: 0.1948867 (46)\ttotal: 14.5s\tremaining: 4m 54s\n",
      "47:\tlearn: 0.1442148\ttest: 0.1951285\tbest: 0.1948867 (46)\ttotal: 14.9s\tremaining: 4m 54s\n",
      "48:\tlearn: 0.1434920\ttest: 0.1950861\tbest: 0.1948867 (46)\ttotal: 15.2s\tremaining: 4m 55s\n",
      "49:\tlearn: 0.1428980\ttest: 0.1950777\tbest: 0.1948867 (46)\ttotal: 15.5s\tremaining: 4m 54s\n",
      "50:\tlearn: 0.1424743\ttest: 0.1950308\tbest: 0.1948867 (46)\ttotal: 15.8s\tremaining: 4m 53s\n",
      "51:\tlearn: 0.1420667\ttest: 0.1951533\tbest: 0.1948867 (46)\ttotal: 16s\tremaining: 4m 51s\n",
      "52:\tlearn: 0.1416146\ttest: 0.1951964\tbest: 0.1948867 (46)\ttotal: 16.3s\tremaining: 4m 51s\n",
      "53:\tlearn: 0.1411168\ttest: 0.1950628\tbest: 0.1948867 (46)\ttotal: 16.6s\tremaining: 4m 50s\n",
      "54:\tlearn: 0.1406422\ttest: 0.1951291\tbest: 0.1948867 (46)\ttotal: 16.8s\tremaining: 4m 49s\n",
      "55:\tlearn: 0.1400369\ttest: 0.1951653\tbest: 0.1948867 (46)\ttotal: 17.1s\tremaining: 4m 48s\n",
      "56:\tlearn: 0.1394385\ttest: 0.1954938\tbest: 0.1948867 (46)\ttotal: 17.4s\tremaining: 4m 48s\n",
      "57:\tlearn: 0.1389996\ttest: 0.1953349\tbest: 0.1948867 (46)\ttotal: 17.7s\tremaining: 4m 47s\n",
      "58:\tlearn: 0.1384775\ttest: 0.1953084\tbest: 0.1948867 (46)\ttotal: 18s\tremaining: 4m 47s\n",
      "59:\tlearn: 0.1380343\ttest: 0.1949114\tbest: 0.1948867 (46)\ttotal: 18.3s\tremaining: 4m 46s\n",
      "60:\tlearn: 0.1375280\ttest: 0.1949198\tbest: 0.1948867 (46)\ttotal: 18.6s\tremaining: 4m 45s\n",
      "61:\tlearn: 0.1370436\ttest: 0.1952573\tbest: 0.1948867 (46)\ttotal: 18.9s\tremaining: 4m 45s\n",
      "62:\tlearn: 0.1367761\ttest: 0.1952280\tbest: 0.1948867 (46)\ttotal: 19.1s\tremaining: 4m 44s\n",
      "63:\tlearn: 0.1363249\ttest: 0.1950451\tbest: 0.1948867 (46)\ttotal: 19.4s\tremaining: 4m 44s\n",
      "64:\tlearn: 0.1358868\ttest: 0.1951441\tbest: 0.1948867 (46)\ttotal: 19.7s\tremaining: 4m 43s\n",
      "65:\tlearn: 0.1353864\ttest: 0.1950968\tbest: 0.1948867 (46)\ttotal: 20s\tremaining: 4m 43s\n",
      "66:\tlearn: 0.1349365\ttest: 0.1949963\tbest: 0.1948867 (46)\ttotal: 20.3s\tremaining: 4m 43s\n",
      "Stopped by overfitting detector  (20 iterations wait)\n",
      "\n",
      "bestTest = 0.1948867478\n",
      "bestIteration = 46\n",
      "\n",
      "Shrink model to first 47 iterations.\n",
      "evaluating on the training set...\n",
      "fitting HMM smoother...\n",
      "fitting forward-backward smoother...\n"
     ]
    },
    {
     "name": "stderr",
     "output_type": "stream",
     "text": [
      "/home/roton/miniconda3/envs/mars/lib/python3.7/site-packages/sklearn/utils/validation.py:70: FutureWarning: Pass threshold=0.5 as keyword args. From version 0.25 passing these as positional arguments will result in an error\n",
      "  FutureWarning)\n"
     ]
    },
    {
     "name": "stdout",
     "output_type": "stream",
     "text": [
      "HMM label smoothing training took 4.19 mins\n",
      "performance on training set:\n",
      "P: 0.9662, R: 0.9432, F1: 0.9545    other\n",
      "done training!\n",
      "complete training took 47.23 mins\n",
      "3458.681285381317\n"
     ]
    }
   ],
   "source": [
    "from behavior_classification import MARS_train_test\n",
    "import time\n",
    "\n",
    "project_path = '/media/storage/ryan/mabe_challenge'\n",
    "\n",
    "start = time.time()\n",
    "results = MARS_train_test.train_classifier(project_path, ['attack','investigation','mount', 'other'])\n",
    "end = time.time()\n",
    "print(end-start)"
   ]
  },
  {
   "cell_type": "code",
   "execution_count": 2,
   "id": "eea08167",
   "metadata": {},
   "outputs": [
    {
     "name": "stdout",
     "output_type": "stream",
     "text": [
      "loading test data...\n"
     ]
    },
    {
     "name": "stderr",
     "output_type": "stream",
     "text": [
      "Filtering sequence 0/27    0% --  [Elapsed Time: 0:00:00] |  | (ETA:  --:--:--) \r"
     ]
    },
    {
     "name": "stdout",
     "output_type": "stream",
     "text": [
      "sorting features and applying filters...\n"
     ]
    },
    {
     "name": "stderr",
     "output_type": "stream",
     "text": [
      "Filtering sequence 27/27  100% --  [Elapsed Time: 0:07:04] |##| (Time: 0:07:04) \n"
     ]
    },
    {
     "name": "stdout",
     "output_type": "stream",
     "text": [
      "done!\n",
      "\n",
      "loaded test data: 364826 X 3408 - ['mount', 'attack', 'investigation', 'other'] \n",
      "loading classifiers from /media/storage/ryan/mabe_challenge/behavior/trained_classifiers/mabe_challenge_cat_es20_wnd/\n",
      "n_classes = 4\n",
      "{'attack': 0, 'investigation': 1, 'mount': 2, 'other': 3}\n",
      "predicting attack...\n",
      "inference took 321.59 sec\n",
      "predicting investigation...\n",
      "inference took 319.32 sec\n",
      "predicting mount...\n",
      "inference took 330.19 sec\n",
      "predicting other...\n",
      "inference took 326.72 sec\n",
      " \n",
      "Classifier performance:\n",
      "              attack   investigation   mount     other    \n",
      "  Precision:   0.901     0.837     0.933     0.923    \n",
      "     Recall:   0.594     0.85      0.861     0.956    \n",
      "   F1 Score:   0.716     0.843     0.896     0.939    \n",
      "1813.8037424087524\n"
     ]
    }
   ],
   "source": [
    "from behavior_classification import MARS_train_test\n",
    "import time\n",
    "\n",
    "project_path = '/media/storage/ryan/mabe_challenge'\n",
    "\n",
    "start = time.time()\n",
    "MARS_train_test.test_classifier(project_path, ['attack','investigation','mount', 'other'])\n",
    "end = time.time()\n",
    "print(end-start)"
   ]
  },
  {
   "cell_type": "markdown",
   "id": "bbcada1c",
   "metadata": {},
   "source": [
    "## Experiments\n",
    "\n",
    "The following cells examine the effects of different training set sizes on model performance."
   ]
  },
  {
   "cell_type": "code",
   "execution_count": 17,
   "id": "fb1c232d",
   "metadata": {},
   "outputs": [
    {
     "name": "stdout",
     "output_type": "stream",
     "text": [
      "Shuffle: 0\n",
      "Loop: 0\n",
      "val set size: 3041\n",
      "training set size: 5763.0\n",
      "loading training data...\n"
     ]
    },
    {
     "name": "stderr",
     "output_type": "stream",
     "text": [
      "Filtering sequence 0/1    0% --  [Elapsed Time: 0:00:00] |   | (ETA:  --:--:--) \r"
     ]
    },
    {
     "name": "stdout",
     "output_type": "stream",
     "text": [
      "sorting features and applying filters...\n"
     ]
    },
    {
     "name": "stderr",
     "output_type": "stream",
     "text": [
      "Filtering sequence 1/1  100% --  [Elapsed Time: 0:00:06] |####| (Time: 0:00:06) \n"
     ]
    },
    {
     "name": "stdout",
     "output_type": "stream",
     "text": [
      "done!\n",
      "\n",
      "loading validation data...\n"
     ]
    },
    {
     "name": "stderr",
     "output_type": "stream",
     "text": [
      "Filtering sequence 0/1    0% --  [Elapsed Time: 0:00:00] |   | (ETA:  --:--:--) \r"
     ]
    },
    {
     "name": "stdout",
     "output_type": "stream",
     "text": [
      "sorting features and applying filters...\n"
     ]
    },
    {
     "name": "stderr",
     "output_type": "stream",
     "text": [
      "Filtering sequence 1/1  100% --  [Elapsed Time: 0:00:03] |####| (Time: 0:00:03) \n"
     ]
    },
    {
     "name": "stdout",
     "output_type": "stream",
     "text": [
      "done!\n",
      "\n",
      "loaded training data: 5763 X 3408 - ['investigation'] \n",
      "Training classifier: MABE_CHALLENGE_LGT_ES20_WND/\n",
      "######################### investigation #########################\n",
      "training using 1635 positive frames (23 bouts)\n",
      "fitting preprocessing parameters...\n",
      "fitting clf for investigation\n",
      "    training set: 1635 positive / 5763 total (28 %)\n",
      "    eval set: 427 positive / 3041 total (14 %)\n",
      "  + early stopping\n"
     ]
    },
    {
     "name": "stderr",
     "output_type": "stream",
     "text": [
      "/home/roton/miniconda3/envs/mars/lib/python3.7/site-packages/lightgbm/sklearn.py:726: UserWarning: 'early_stopping_rounds' argument is deprecated and will be removed in a future release of LightGBM. Pass 'early_stopping()' callback via 'callbacks' argument instead.\n",
      "  _log_warning(\"'early_stopping_rounds' argument is deprecated and will be removed in a future release of LightGBM. \"\n",
      "/home/roton/miniconda3/envs/mars/lib/python3.7/site-packages/lightgbm/sklearn.py:736: UserWarning: 'verbose' argument is deprecated and will be removed in a future release of LightGBM. Pass 'log_evaluation()' callback via 'callbacks' argument instead.\n",
      "  _log_warning(\"'verbose' argument is deprecated and will be removed in a future release of LightGBM. \"\n"
     ]
    },
    {
     "name": "stdout",
     "output_type": "stream",
     "text": [
      "[1]\tvalid_0's binary_logloss: 0.423251\n",
      "[2]\tvalid_0's binary_logloss: 0.392969\n",
      "[3]\tvalid_0's binary_logloss: 0.360448\n",
      "[4]\tvalid_0's binary_logloss: 0.334774\n",
      "[5]\tvalid_0's binary_logloss: 0.316141\n",
      "[6]\tvalid_0's binary_logloss: 0.301904\n",
      "[7]\tvalid_0's binary_logloss: 0.287515\n",
      "[8]\tvalid_0's binary_logloss: 0.270583\n",
      "[9]\tvalid_0's binary_logloss: 0.260796\n",
      "[10]\tvalid_0's binary_logloss: 0.245979\n",
      "[11]\tvalid_0's binary_logloss: 0.234349\n",
      "[12]\tvalid_0's binary_logloss: 0.229045\n",
      "[13]\tvalid_0's binary_logloss: 0.223208\n",
      "[14]\tvalid_0's binary_logloss: 0.218591\n",
      "[15]\tvalid_0's binary_logloss: 0.210053\n",
      "[16]\tvalid_0's binary_logloss: 0.20113\n",
      "[17]\tvalid_0's binary_logloss: 0.191833\n",
      "[18]\tvalid_0's binary_logloss: 0.183952\n",
      "[19]\tvalid_0's binary_logloss: 0.178637\n",
      "[20]\tvalid_0's binary_logloss: 0.171156\n",
      "[21]\tvalid_0's binary_logloss: 0.168974\n",
      "[22]\tvalid_0's binary_logloss: 0.162321\n",
      "[23]\tvalid_0's binary_logloss: 0.157374\n",
      "[24]\tvalid_0's binary_logloss: 0.153295\n",
      "[25]\tvalid_0's binary_logloss: 0.150646\n",
      "[26]\tvalid_0's binary_logloss: 0.148099\n",
      "[27]\tvalid_0's binary_logloss: 0.146432\n",
      "[28]\tvalid_0's binary_logloss: 0.142635\n",
      "[29]\tvalid_0's binary_logloss: 0.13893\n",
      "[30]\tvalid_0's binary_logloss: 0.13502\n",
      "[31]\tvalid_0's binary_logloss: 0.131532\n",
      "[32]\tvalid_0's binary_logloss: 0.127669\n",
      "[33]\tvalid_0's binary_logloss: 0.123188\n",
      "[34]\tvalid_0's binary_logloss: 0.122584\n",
      "[35]\tvalid_0's binary_logloss: 0.121982\n",
      "[36]\tvalid_0's binary_logloss: 0.121758\n",
      "[37]\tvalid_0's binary_logloss: 0.119621\n",
      "[38]\tvalid_0's binary_logloss: 0.119098\n",
      "[39]\tvalid_0's binary_logloss: 0.116844\n",
      "[40]\tvalid_0's binary_logloss: 0.11629\n",
      "[41]\tvalid_0's binary_logloss: 0.11551\n",
      "[42]\tvalid_0's binary_logloss: 0.116344\n",
      "[43]\tvalid_0's binary_logloss: 0.117264\n",
      "[44]\tvalid_0's binary_logloss: 0.116792\n",
      "[45]\tvalid_0's binary_logloss: 0.118039\n",
      "[46]\tvalid_0's binary_logloss: 0.119672\n",
      "[47]\tvalid_0's binary_logloss: 0.117121\n",
      "[48]\tvalid_0's binary_logloss: 0.1185\n",
      "[49]\tvalid_0's binary_logloss: 0.115803\n",
      "[50]\tvalid_0's binary_logloss: 0.114532\n",
      "[51]\tvalid_0's binary_logloss: 0.115388\n",
      "[52]\tvalid_0's binary_logloss: 0.115719\n",
      "[53]\tvalid_0's binary_logloss: 0.115816\n",
      "[54]\tvalid_0's binary_logloss: 0.116774\n",
      "[55]\tvalid_0's binary_logloss: 0.118199\n",
      "[56]\tvalid_0's binary_logloss: 0.119013\n",
      "[57]\tvalid_0's binary_logloss: 0.119992\n",
      "[58]\tvalid_0's binary_logloss: 0.118398\n",
      "[59]\tvalid_0's binary_logloss: 0.118071\n",
      "[60]\tvalid_0's binary_logloss: 0.118929\n",
      "[61]\tvalid_0's binary_logloss: 0.118349\n",
      "[62]\tvalid_0's binary_logloss: 0.119516\n",
      "[63]\tvalid_0's binary_logloss: 0.120388\n",
      "[64]\tvalid_0's binary_logloss: 0.121816\n",
      "[65]\tvalid_0's binary_logloss: 0.122809\n",
      "[66]\tvalid_0's binary_logloss: 0.123855\n",
      "[67]\tvalid_0's binary_logloss: 0.123623\n",
      "[68]\tvalid_0's binary_logloss: 0.124647\n",
      "[69]\tvalid_0's binary_logloss: 0.125787\n",
      "[70]\tvalid_0's binary_logloss: 0.125437\n",
      "evaluating on the training set...\n",
      "fitting HMM smoother...\n",
      "fitting forward-backward smoother...\n",
      "HMM label smoothing training took 0.00 mins\n",
      "performance on training set:\n",
      "P: 0.9957, R: 0.9914, F1: 0.9936    investigation\n",
      "done training!\n",
      "complete training took 1.88 mins\n"
     ]
    },
    {
     "name": "stderr",
     "output_type": "stream",
     "text": [
      "/home/roton/miniconda3/envs/mars/lib/python3.7/site-packages/sklearn/utils/validation.py:70: FutureWarning: Pass threshold=0.5 as keyword args. From version 0.25 passing these as positional arguments will result in an error\n",
      "  FutureWarning)\n"
     ]
    },
    {
     "name": "stdout",
     "output_type": "stream",
     "text": [
      "loading test data...\n"
     ]
    },
    {
     "name": "stderr",
     "output_type": "stream",
     "text": [
      "Filtering sequence 0/27    0% --  [Elapsed Time: 0:00:00] |  | (ETA:  --:--:--) \r"
     ]
    },
    {
     "name": "stdout",
     "output_type": "stream",
     "text": [
      "sorting features and applying filters...\n"
     ]
    },
    {
     "name": "stderr",
     "output_type": "stream",
     "text": [
      "Filtering sequence 27/27  100% --  [Elapsed Time: 0:09:48] |##| (Time: 0:09:48) \n"
     ]
    },
    {
     "name": "stdout",
     "output_type": "stream",
     "text": [
      "done!\n",
      "\n",
      "loaded test data: 364826 X 3408 - ['investigation'] \n",
      "loading classifiers from /media/storage/ryan/mabe_challenge/behavior/trained_classifiers/mabe_challenge_lgt_es20_wnd/\n",
      "n_classes = 4\n",
      "{'attack': 0, 'investigation': 1, 'mount': 2, 'other': 3}\n",
      "predicting investigation...\n",
      "inference took 48.71 sec\n",
      " \n",
      "Classifier performance:\n"
     ]
    },
    {
     "name": "stderr",
     "output_type": "stream",
     "text": [
      "/home/roton/miniconda3/envs/mars/lib/python3.7/site-packages/sklearn/metrics/_classification.py:1221: UndefinedMetricWarning: Precision and F-score are ill-defined and being set to 0.0 in labels with no predicted samples. Use `zero_division` parameter to control this behavior.\n",
      "  _warn_prf(average, modifier, msg_start, len(result))\n",
      "/home/roton/miniconda3/envs/mars/lib/python3.7/site-packages/sklearn/metrics/_classification.py:1221: UndefinedMetricWarning: Recall and F-score are ill-defined and being set to 0.0 in labels with no true samples. Use `zero_division` parameter to control this behavior.\n",
      "  _warn_prf(average, modifier, msg_start, len(result))\n"
     ]
    },
    {
     "name": "stdout",
     "output_type": "stream",
     "text": [
      "              attack   investigation   other    \n",
      "  Precision:    0.0      0.623      0.0     \n",
      "     Recall:    0.0      0.816      0.0     \n",
      "   F1 Score:    0.0      0.706      0.0     \n",
      "Loop: 1\n",
      "val set size: 3041\n",
      "training set size: 10023.0\n",
      "loading training data...\n"
     ]
    },
    {
     "name": "stderr",
     "output_type": "stream",
     "text": [
      "Filtering sequence 0/2    0% --  [Elapsed Time: 0:00:00] |   | (ETA:  --:--:--) \r"
     ]
    },
    {
     "name": "stdout",
     "output_type": "stream",
     "text": [
      "sorting features and applying filters...\n"
     ]
    },
    {
     "name": "stderr",
     "output_type": "stream",
     "text": [
      "Filtering sequence 2/2  100% --  [Elapsed Time: 0:00:11] |####| (Time: 0:00:11) \n"
     ]
    },
    {
     "name": "stdout",
     "output_type": "stream",
     "text": [
      "done!\n",
      "\n",
      "loading validation data...\n"
     ]
    },
    {
     "name": "stderr",
     "output_type": "stream",
     "text": [
      "Filtering sequence 0/1    0% --  [Elapsed Time: 0:00:00] |   | (ETA:  --:--:--) \r"
     ]
    },
    {
     "name": "stdout",
     "output_type": "stream",
     "text": [
      "sorting features and applying filters...\n"
     ]
    },
    {
     "name": "stderr",
     "output_type": "stream",
     "text": [
      "Filtering sequence 1/1  100% --  [Elapsed Time: 0:00:03] |####| (Time: 0:00:03) \n"
     ]
    },
    {
     "name": "stdout",
     "output_type": "stream",
     "text": [
      "done!\n",
      "\n",
      "loaded training data: 10023 X 3408 - ['investigation'] \n",
      "Training classifier: MABE_CHALLENGE_LGT_ES20_WND/\n",
      "######################### investigation #########################\n",
      "training using 2800 positive frames (40 bouts)\n",
      "fitting preprocessing parameters...\n",
      "fitting clf for investigation\n",
      "    training set: 2800 positive / 10023 total (27 %)\n",
      "    eval set: 427 positive / 3041 total (14 %)\n",
      "  + early stopping\n"
     ]
    },
    {
     "name": "stderr",
     "output_type": "stream",
     "text": [
      "/home/roton/miniconda3/envs/mars/lib/python3.7/site-packages/lightgbm/sklearn.py:726: UserWarning: 'early_stopping_rounds' argument is deprecated and will be removed in a future release of LightGBM. Pass 'early_stopping()' callback via 'callbacks' argument instead.\n",
      "  _log_warning(\"'early_stopping_rounds' argument is deprecated and will be removed in a future release of LightGBM. \"\n",
      "/home/roton/miniconda3/envs/mars/lib/python3.7/site-packages/lightgbm/sklearn.py:736: UserWarning: 'verbose' argument is deprecated and will be removed in a future release of LightGBM. Pass 'log_evaluation()' callback via 'callbacks' argument instead.\n",
      "  _log_warning(\"'verbose' argument is deprecated and will be removed in a future release of LightGBM. \"\n"
     ]
    },
    {
     "name": "stdout",
     "output_type": "stream",
     "text": [
      "[1]\tvalid_0's binary_logloss: 0.414953\n",
      "[2]\tvalid_0's binary_logloss: 0.389742\n",
      "[3]\tvalid_0's binary_logloss: 0.360582\n",
      "[4]\tvalid_0's binary_logloss: 0.335132\n",
      "[5]\tvalid_0's binary_logloss: 0.315315\n",
      "[6]\tvalid_0's binary_logloss: 0.295116\n",
      "[7]\tvalid_0's binary_logloss: 0.276807\n",
      "[8]\tvalid_0's binary_logloss: 0.263527\n",
      "[9]\tvalid_0's binary_logloss: 0.248331\n",
      "[10]\tvalid_0's binary_logloss: 0.235875\n",
      "[11]\tvalid_0's binary_logloss: 0.221175\n",
      "[12]\tvalid_0's binary_logloss: 0.211924\n",
      "[13]\tvalid_0's binary_logloss: 0.203047\n",
      "[14]\tvalid_0's binary_logloss: 0.193919\n",
      "[15]\tvalid_0's binary_logloss: 0.189911\n",
      "[16]\tvalid_0's binary_logloss: 0.181796\n",
      "[17]\tvalid_0's binary_logloss: 0.173165\n",
      "[18]\tvalid_0's binary_logloss: 0.168222\n",
      "[19]\tvalid_0's binary_logloss: 0.161275\n",
      "[20]\tvalid_0's binary_logloss: 0.156573\n",
      "[21]\tvalid_0's binary_logloss: 0.150454\n",
      "[22]\tvalid_0's binary_logloss: 0.144844\n",
      "[23]\tvalid_0's binary_logloss: 0.14107\n",
      "[24]\tvalid_0's binary_logloss: 0.137179\n",
      "[25]\tvalid_0's binary_logloss: 0.131201\n",
      "[26]\tvalid_0's binary_logloss: 0.128309\n",
      "[27]\tvalid_0's binary_logloss: 0.124637\n",
      "[28]\tvalid_0's binary_logloss: 0.123843\n",
      "[29]\tvalid_0's binary_logloss: 0.122549\n",
      "[30]\tvalid_0's binary_logloss: 0.119692\n",
      "[31]\tvalid_0's binary_logloss: 0.117607\n",
      "[32]\tvalid_0's binary_logloss: 0.115515\n",
      "[33]\tvalid_0's binary_logloss: 0.113746\n",
      "[34]\tvalid_0's binary_logloss: 0.113384\n",
      "[35]\tvalid_0's binary_logloss: 0.112263\n",
      "[36]\tvalid_0's binary_logloss: 0.112164\n",
      "[37]\tvalid_0's binary_logloss: 0.111813\n",
      "[38]\tvalid_0's binary_logloss: 0.108374\n",
      "[39]\tvalid_0's binary_logloss: 0.107006\n",
      "[40]\tvalid_0's binary_logloss: 0.106703\n",
      "[41]\tvalid_0's binary_logloss: 0.106811\n",
      "[42]\tvalid_0's binary_logloss: 0.106884\n",
      "[43]\tvalid_0's binary_logloss: 0.106928\n",
      "[44]\tvalid_0's binary_logloss: 0.107156\n",
      "[45]\tvalid_0's binary_logloss: 0.107162\n",
      "[46]\tvalid_0's binary_logloss: 0.107211\n",
      "[47]\tvalid_0's binary_logloss: 0.107479\n",
      "[48]\tvalid_0's binary_logloss: 0.107426\n",
      "[49]\tvalid_0's binary_logloss: 0.107342\n",
      "[50]\tvalid_0's binary_logloss: 0.106345\n",
      "[51]\tvalid_0's binary_logloss: 0.106148\n",
      "[52]\tvalid_0's binary_logloss: 0.105857\n",
      "[53]\tvalid_0's binary_logloss: 0.106366\n",
      "[54]\tvalid_0's binary_logloss: 0.105229\n",
      "[55]\tvalid_0's binary_logloss: 0.103131\n",
      "[56]\tvalid_0's binary_logloss: 0.103166\n",
      "[57]\tvalid_0's binary_logloss: 0.103372\n",
      "[58]\tvalid_0's binary_logloss: 0.10346\n",
      "[59]\tvalid_0's binary_logloss: 0.103501\n",
      "[60]\tvalid_0's binary_logloss: 0.103357\n",
      "[61]\tvalid_0's binary_logloss: 0.102818\n",
      "[62]\tvalid_0's binary_logloss: 0.103803\n",
      "[63]\tvalid_0's binary_logloss: 0.104572\n",
      "[64]\tvalid_0's binary_logloss: 0.105867\n",
      "[65]\tvalid_0's binary_logloss: 0.105295\n",
      "[66]\tvalid_0's binary_logloss: 0.105437\n",
      "[67]\tvalid_0's binary_logloss: 0.104799\n",
      "[68]\tvalid_0's binary_logloss: 0.104313\n",
      "[69]\tvalid_0's binary_logloss: 0.105136\n",
      "[70]\tvalid_0's binary_logloss: 0.104828\n",
      "[71]\tvalid_0's binary_logloss: 0.104125\n",
      "[72]\tvalid_0's binary_logloss: 0.103924\n",
      "[73]\tvalid_0's binary_logloss: 0.101881\n",
      "[74]\tvalid_0's binary_logloss: 0.102217\n",
      "[75]\tvalid_0's binary_logloss: 0.101936\n",
      "[76]\tvalid_0's binary_logloss: 0.102823\n",
      "[77]\tvalid_0's binary_logloss: 0.101961\n",
      "[78]\tvalid_0's binary_logloss: 0.101806\n",
      "[79]\tvalid_0's binary_logloss: 0.102735\n",
      "[80]\tvalid_0's binary_logloss: 0.102755\n",
      "[81]\tvalid_0's binary_logloss: 0.101511\n",
      "[82]\tvalid_0's binary_logloss: 0.102684\n",
      "[83]\tvalid_0's binary_logloss: 0.102374\n",
      "[84]\tvalid_0's binary_logloss: 0.10118\n",
      "[85]\tvalid_0's binary_logloss: 0.101668\n",
      "[86]\tvalid_0's binary_logloss: 0.101974\n",
      "[87]\tvalid_0's binary_logloss: 0.103603\n",
      "[88]\tvalid_0's binary_logloss: 0.10431\n",
      "[89]\tvalid_0's binary_logloss: 0.103069\n",
      "[90]\tvalid_0's binary_logloss: 0.104751\n",
      "[91]\tvalid_0's binary_logloss: 0.104636\n",
      "[92]\tvalid_0's binary_logloss: 0.104403\n",
      "[93]\tvalid_0's binary_logloss: 0.103744\n",
      "[94]\tvalid_0's binary_logloss: 0.103492\n",
      "[95]\tvalid_0's binary_logloss: 0.104166\n",
      "[96]\tvalid_0's binary_logloss: 0.104779\n",
      "[97]\tvalid_0's binary_logloss: 0.103553\n",
      "[98]\tvalid_0's binary_logloss: 0.103107\n",
      "[99]\tvalid_0's binary_logloss: 0.103053\n",
      "[100]\tvalid_0's binary_logloss: 0.103468\n",
      "[101]\tvalid_0's binary_logloss: 0.104025\n",
      "[102]\tvalid_0's binary_logloss: 0.105527\n",
      "[103]\tvalid_0's binary_logloss: 0.106742\n",
      "[104]\tvalid_0's binary_logloss: 0.105732\n",
      "evaluating on the training set...\n",
      "fitting HMM smoother...\n",
      "fitting forward-backward smoother...\n",
      "HMM label smoothing training took 0.01 mins\n",
      "performance on training set:\n",
      "P: 0.9975, R: 0.9907, F1: 0.9941    investigation\n",
      "done training!\n",
      "complete training took 1.14 mins\n",
      "loading test data...\n"
     ]
    },
    {
     "name": "stderr",
     "output_type": "stream",
     "text": [
      "/home/roton/miniconda3/envs/mars/lib/python3.7/site-packages/sklearn/utils/validation.py:70: FutureWarning: Pass threshold=0.5 as keyword args. From version 0.25 passing these as positional arguments will result in an error\n",
      "  FutureWarning)\n",
      "Filtering sequence 0/27    0% --  [Elapsed Time: 0:00:00] |  | (ETA:  --:--:--) \r"
     ]
    },
    {
     "name": "stdout",
     "output_type": "stream",
     "text": [
      "sorting features and applying filters...\n"
     ]
    },
    {
     "name": "stderr",
     "output_type": "stream",
     "text": [
      "Filtering sequence 27/27  100% --  [Elapsed Time: 0:06:43] |##| (Time: 0:06:43) \n"
     ]
    },
    {
     "name": "stdout",
     "output_type": "stream",
     "text": [
      "done!\n",
      "\n",
      "loaded test data: 364826 X 3408 - ['investigation'] \n",
      "loading classifiers from /media/storage/ryan/mabe_challenge/behavior/trained_classifiers/mabe_challenge_lgt_es20_wnd/\n",
      "n_classes = 4\n",
      "{'attack': 0, 'investigation': 1, 'mount': 2, 'other': 3}\n",
      "predicting investigation...\n",
      "inference took 51.48 sec\n",
      " \n",
      "Classifier performance:\n",
      "              attack   investigation   other    \n",
      "  Precision:    0.0      0.64       0.0     \n",
      "     Recall:    0.0      0.843      0.0     \n",
      "   F1 Score:    0.0      0.728      0.0     \n"
     ]
    },
    {
     "name": "stderr",
     "output_type": "stream",
     "text": [
      "/home/roton/miniconda3/envs/mars/lib/python3.7/site-packages/sklearn/metrics/_classification.py:1221: UndefinedMetricWarning: Precision and F-score are ill-defined and being set to 0.0 in labels with no predicted samples. Use `zero_division` parameter to control this behavior.\n",
      "  _warn_prf(average, modifier, msg_start, len(result))\n",
      "/home/roton/miniconda3/envs/mars/lib/python3.7/site-packages/sklearn/metrics/_classification.py:1221: UndefinedMetricWarning: Recall and F-score are ill-defined and being set to 0.0 in labels with no true samples. Use `zero_division` parameter to control this behavior.\n",
      "  _warn_prf(average, modifier, msg_start, len(result))\n"
     ]
    },
    {
     "name": "stdout",
     "output_type": "stream",
     "text": [
      "Loop: 2\n",
      "val set size: 3041\n",
      "training set size: 26175.0\n",
      "loading training data...\n"
     ]
    },
    {
     "name": "stderr",
     "output_type": "stream",
     "text": [
      "Filtering sequence 0/4    0% --  [Elapsed Time: 0:00:00] |   | (ETA:  --:--:--) \r"
     ]
    },
    {
     "name": "stdout",
     "output_type": "stream",
     "text": [
      "sorting features and applying filters...\n"
     ]
    },
    {
     "name": "stderr",
     "output_type": "stream",
     "text": [
      "Filtering sequence 4/4  100% --  [Elapsed Time: 0:00:26] |####| (Time: 0:00:26) \n"
     ]
    },
    {
     "name": "stdout",
     "output_type": "stream",
     "text": [
      "done!\n",
      "\n",
      "loading validation data...\n"
     ]
    },
    {
     "name": "stderr",
     "output_type": "stream",
     "text": [
      "Filtering sequence 0/1    0% --  [Elapsed Time: 0:00:00] |   | (ETA:  --:--:--) \r"
     ]
    },
    {
     "name": "stdout",
     "output_type": "stream",
     "text": [
      "sorting features and applying filters...\n"
     ]
    },
    {
     "name": "stderr",
     "output_type": "stream",
     "text": [
      "Filtering sequence 1/1  100% --  [Elapsed Time: 0:00:03] |####| (Time: 0:00:03) \n"
     ]
    },
    {
     "name": "stdout",
     "output_type": "stream",
     "text": [
      "done!\n",
      "\n",
      "loaded training data: 26175 X 3408 - ['investigation'] \n",
      "Training classifier: MABE_CHALLENGE_LGT_ES20_WND/\n",
      "######################### investigation #########################\n",
      "training using 7103 positive frames (96 bouts)\n",
      "fitting preprocessing parameters...\n",
      "fitting clf for investigation\n",
      "    training set: 7103 positive / 26175 total (27 %)\n",
      "    eval set: 427 positive / 3041 total (14 %)\n",
      "  + early stopping\n"
     ]
    },
    {
     "name": "stderr",
     "output_type": "stream",
     "text": [
      "/home/roton/miniconda3/envs/mars/lib/python3.7/site-packages/lightgbm/sklearn.py:726: UserWarning: 'early_stopping_rounds' argument is deprecated and will be removed in a future release of LightGBM. Pass 'early_stopping()' callback via 'callbacks' argument instead.\n",
      "  _log_warning(\"'early_stopping_rounds' argument is deprecated and will be removed in a future release of LightGBM. \"\n",
      "/home/roton/miniconda3/envs/mars/lib/python3.7/site-packages/lightgbm/sklearn.py:736: UserWarning: 'verbose' argument is deprecated and will be removed in a future release of LightGBM. Pass 'log_evaluation()' callback via 'callbacks' argument instead.\n",
      "  _log_warning(\"'verbose' argument is deprecated and will be removed in a future release of LightGBM. \"\n"
     ]
    },
    {
     "name": "stdout",
     "output_type": "stream",
     "text": [
      "[1]\tvalid_0's binary_logloss: 0.416802\n",
      "[2]\tvalid_0's binary_logloss: 0.383416\n",
      "[3]\tvalid_0's binary_logloss: 0.353788\n",
      "[4]\tvalid_0's binary_logloss: 0.330445\n",
      "[5]\tvalid_0's binary_logloss: 0.307772\n",
      "[6]\tvalid_0's binary_logloss: 0.293064\n",
      "[7]\tvalid_0's binary_logloss: 0.27415\n",
      "[8]\tvalid_0's binary_logloss: 0.259069\n",
      "[9]\tvalid_0's binary_logloss: 0.244624\n",
      "[10]\tvalid_0's binary_logloss: 0.234158\n",
      "[11]\tvalid_0's binary_logloss: 0.225285\n",
      "[12]\tvalid_0's binary_logloss: 0.214947\n",
      "[13]\tvalid_0's binary_logloss: 0.207462\n",
      "[14]\tvalid_0's binary_logloss: 0.203053\n",
      "[15]\tvalid_0's binary_logloss: 0.196547\n",
      "[16]\tvalid_0's binary_logloss: 0.190879\n",
      "[17]\tvalid_0's binary_logloss: 0.185402\n",
      "[18]\tvalid_0's binary_logloss: 0.181349\n",
      "[19]\tvalid_0's binary_logloss: 0.177873\n",
      "[20]\tvalid_0's binary_logloss: 0.17432\n",
      "[21]\tvalid_0's binary_logloss: 0.170223\n",
      "[22]\tvalid_0's binary_logloss: 0.1679\n",
      "[23]\tvalid_0's binary_logloss: 0.167184\n",
      "[24]\tvalid_0's binary_logloss: 0.163841\n",
      "[25]\tvalid_0's binary_logloss: 0.161985\n",
      "[26]\tvalid_0's binary_logloss: 0.158094\n",
      "[27]\tvalid_0's binary_logloss: 0.156081\n",
      "[28]\tvalid_0's binary_logloss: 0.15314\n",
      "[29]\tvalid_0's binary_logloss: 0.151432\n",
      "[30]\tvalid_0's binary_logloss: 0.14927\n",
      "[31]\tvalid_0's binary_logloss: 0.147193\n",
      "[32]\tvalid_0's binary_logloss: 0.146032\n",
      "[33]\tvalid_0's binary_logloss: 0.144396\n",
      "[34]\tvalid_0's binary_logloss: 0.142742\n",
      "[35]\tvalid_0's binary_logloss: 0.141137\n",
      "[36]\tvalid_0's binary_logloss: 0.140371\n",
      "[37]\tvalid_0's binary_logloss: 0.139748\n",
      "[38]\tvalid_0's binary_logloss: 0.137597\n",
      "[39]\tvalid_0's binary_logloss: 0.135867\n",
      "[40]\tvalid_0's binary_logloss: 0.136061\n",
      "[41]\tvalid_0's binary_logloss: 0.134354\n",
      "[42]\tvalid_0's binary_logloss: 0.132758\n",
      "[43]\tvalid_0's binary_logloss: 0.133241\n",
      "[44]\tvalid_0's binary_logloss: 0.132717\n",
      "[45]\tvalid_0's binary_logloss: 0.132925\n",
      "[46]\tvalid_0's binary_logloss: 0.130999\n",
      "[47]\tvalid_0's binary_logloss: 0.130489\n",
      "[48]\tvalid_0's binary_logloss: 0.129404\n",
      "[49]\tvalid_0's binary_logloss: 0.128415\n",
      "[50]\tvalid_0's binary_logloss: 0.128716\n",
      "[51]\tvalid_0's binary_logloss: 0.128701\n",
      "[52]\tvalid_0's binary_logloss: 0.128194\n",
      "[53]\tvalid_0's binary_logloss: 0.127285\n",
      "[54]\tvalid_0's binary_logloss: 0.126381\n",
      "[55]\tvalid_0's binary_logloss: 0.126578\n",
      "[56]\tvalid_0's binary_logloss: 0.125688\n",
      "[57]\tvalid_0's binary_logloss: 0.125486\n",
      "[58]\tvalid_0's binary_logloss: 0.12517\n",
      "[59]\tvalid_0's binary_logloss: 0.124286\n",
      "[60]\tvalid_0's binary_logloss: 0.123526\n",
      "[61]\tvalid_0's binary_logloss: 0.122879\n",
      "[62]\tvalid_0's binary_logloss: 0.124833\n",
      "[63]\tvalid_0's binary_logloss: 0.12434\n",
      "[64]\tvalid_0's binary_logloss: 0.125294\n",
      "[65]\tvalid_0's binary_logloss: 0.126015\n",
      "[66]\tvalid_0's binary_logloss: 0.125633\n",
      "[67]\tvalid_0's binary_logloss: 0.126406\n",
      "[68]\tvalid_0's binary_logloss: 0.128003\n",
      "[69]\tvalid_0's binary_logloss: 0.128335\n",
      "[70]\tvalid_0's binary_logloss: 0.12782\n",
      "[71]\tvalid_0's binary_logloss: 0.126726\n",
      "[72]\tvalid_0's binary_logloss: 0.127214\n",
      "[73]\tvalid_0's binary_logloss: 0.127444\n",
      "[74]\tvalid_0's binary_logloss: 0.129058\n",
      "[75]\tvalid_0's binary_logloss: 0.12839\n",
      "[76]\tvalid_0's binary_logloss: 0.12835\n",
      "[77]\tvalid_0's binary_logloss: 0.128271\n",
      "[78]\tvalid_0's binary_logloss: 0.128752\n",
      "[79]\tvalid_0's binary_logloss: 0.128195\n",
      "[80]\tvalid_0's binary_logloss: 0.128866\n",
      "[81]\tvalid_0's binary_logloss: 0.128769\n",
      "evaluating on the training set...\n",
      "fitting HMM smoother...\n",
      "fitting forward-backward smoother...\n",
      "HMM label smoothing training took 0.01 mins\n",
      "performance on training set:\n",
      "P: 0.9963, R: 0.9925, F1: 0.9944    investigation\n",
      "done training!\n",
      "complete training took 2.51 mins\n",
      "loading test data...\n"
     ]
    },
    {
     "name": "stderr",
     "output_type": "stream",
     "text": [
      "/home/roton/miniconda3/envs/mars/lib/python3.7/site-packages/sklearn/utils/validation.py:70: FutureWarning: Pass threshold=0.5 as keyword args. From version 0.25 passing these as positional arguments will result in an error\n",
      "  FutureWarning)\n",
      "Filtering sequence 0/27    0% --  [Elapsed Time: 0:00:00] |  | (ETA:  --:--:--) \r"
     ]
    },
    {
     "name": "stdout",
     "output_type": "stream",
     "text": [
      "sorting features and applying filters...\n"
     ]
    },
    {
     "name": "stderr",
     "output_type": "stream",
     "text": [
      "Filtering sequence 27/27  100% --  [Elapsed Time: 0:06:51] |##| (Time: 0:06:51) \n"
     ]
    },
    {
     "name": "stdout",
     "output_type": "stream",
     "text": [
      "done!\n",
      "\n",
      "loaded test data: 364826 X 3408 - ['investigation'] \n",
      "loading classifiers from /media/storage/ryan/mabe_challenge/behavior/trained_classifiers/mabe_challenge_lgt_es20_wnd/\n",
      "n_classes = 4\n",
      "{'attack': 0, 'investigation': 1, 'mount': 2, 'other': 3}\n",
      "predicting investigation...\n",
      "inference took 52.78 sec\n",
      " \n",
      "Classifier performance:\n"
     ]
    },
    {
     "name": "stderr",
     "output_type": "stream",
     "text": [
      "/home/roton/miniconda3/envs/mars/lib/python3.7/site-packages/sklearn/metrics/_classification.py:1221: UndefinedMetricWarning: Precision and F-score are ill-defined and being set to 0.0 in labels with no predicted samples. Use `zero_division` parameter to control this behavior.\n",
      "  _warn_prf(average, modifier, msg_start, len(result))\n",
      "/home/roton/miniconda3/envs/mars/lib/python3.7/site-packages/sklearn/metrics/_classification.py:1221: UndefinedMetricWarning: Recall and F-score are ill-defined and being set to 0.0 in labels with no true samples. Use `zero_division` parameter to control this behavior.\n",
      "  _warn_prf(average, modifier, msg_start, len(result))\n"
     ]
    },
    {
     "name": "stdout",
     "output_type": "stream",
     "text": [
      "              attack   investigation   other    \n",
      "  Precision:    0.0      0.773      0.0     \n",
      "     Recall:    0.0      0.754      0.0     \n",
      "   F1 Score:    0.0      0.764      0.0     \n",
      "Loop: 3\n",
      "val set size: 8804\n",
      "training set size: 33634.0\n",
      "loading training data...\n"
     ]
    },
    {
     "name": "stderr",
     "output_type": "stream",
     "text": [
      "Filtering sequence 0/4    0% --  [Elapsed Time: 0:00:00] |   | (ETA:  --:--:--) \r"
     ]
    },
    {
     "name": "stdout",
     "output_type": "stream",
     "text": [
      "sorting features and applying filters...\n"
     ]
    },
    {
     "name": "stderr",
     "output_type": "stream",
     "text": [
      "Filtering sequence 4/4  100% --  [Elapsed Time: 0:00:37] |####| (Time: 0:00:37) \n"
     ]
    },
    {
     "name": "stdout",
     "output_type": "stream",
     "text": [
      "done!\n",
      "\n",
      "loading validation data...\n"
     ]
    },
    {
     "name": "stderr",
     "output_type": "stream",
     "text": [
      "Filtering sequence 0/2    0% --  [Elapsed Time: 0:00:00] |   | (ETA:  --:--:--) \r"
     ]
    },
    {
     "name": "stdout",
     "output_type": "stream",
     "text": [
      "sorting features and applying filters...\n"
     ]
    },
    {
     "name": "stderr",
     "output_type": "stream",
     "text": [
      "Filtering sequence 2/2  100% --  [Elapsed Time: 0:00:09] |####| (Time: 0:00:09) \n"
     ]
    },
    {
     "name": "stdout",
     "output_type": "stream",
     "text": [
      "done!\n",
      "\n",
      "loaded training data: 33634 X 3408 - ['investigation'] \n",
      "Training classifier: MABE_CHALLENGE_LGT_ES20_WND/\n",
      "######################### investigation #########################\n",
      "training using 7287 positive frames (113 bouts)\n",
      "fitting preprocessing parameters...\n",
      "fitting clf for investigation\n",
      "    training set: 7287 positive / 33634 total (21 %)\n",
      "    eval set: 2062 positive / 8804 total (23 %)\n",
      "  + early stopping\n"
     ]
    },
    {
     "name": "stderr",
     "output_type": "stream",
     "text": [
      "/home/roton/miniconda3/envs/mars/lib/python3.7/site-packages/lightgbm/sklearn.py:726: UserWarning: 'early_stopping_rounds' argument is deprecated and will be removed in a future release of LightGBM. Pass 'early_stopping()' callback via 'callbacks' argument instead.\n",
      "  _log_warning(\"'early_stopping_rounds' argument is deprecated and will be removed in a future release of LightGBM. \"\n",
      "/home/roton/miniconda3/envs/mars/lib/python3.7/site-packages/lightgbm/sklearn.py:736: UserWarning: 'verbose' argument is deprecated and will be removed in a future release of LightGBM. Pass 'log_evaluation()' callback via 'callbacks' argument instead.\n",
      "  _log_warning(\"'verbose' argument is deprecated and will be removed in a future release of LightGBM. \"\n"
     ]
    },
    {
     "name": "stdout",
     "output_type": "stream",
     "text": [
      "[1]\tvalid_0's binary_logloss: 0.493745\n",
      "[2]\tvalid_0's binary_logloss: 0.451515\n",
      "[3]\tvalid_0's binary_logloss: 0.419238\n",
      "[4]\tvalid_0's binary_logloss: 0.396131\n",
      "[5]\tvalid_0's binary_logloss: 0.373892\n",
      "[6]\tvalid_0's binary_logloss: 0.358156\n",
      "[7]\tvalid_0's binary_logloss: 0.340701\n",
      "[8]\tvalid_0's binary_logloss: 0.328651\n",
      "[9]\tvalid_0's binary_logloss: 0.317933\n",
      "[10]\tvalid_0's binary_logloss: 0.307827\n",
      "[11]\tvalid_0's binary_logloss: 0.297439\n",
      "[12]\tvalid_0's binary_logloss: 0.289988\n",
      "[13]\tvalid_0's binary_logloss: 0.284306\n",
      "[14]\tvalid_0's binary_logloss: 0.277898\n",
      "[15]\tvalid_0's binary_logloss: 0.272364\n",
      "[16]\tvalid_0's binary_logloss: 0.267285\n",
      "[17]\tvalid_0's binary_logloss: 0.262845\n",
      "[18]\tvalid_0's binary_logloss: 0.259341\n",
      "[19]\tvalid_0's binary_logloss: 0.256681\n",
      "[20]\tvalid_0's binary_logloss: 0.254925\n",
      "[21]\tvalid_0's binary_logloss: 0.250446\n",
      "[22]\tvalid_0's binary_logloss: 0.248116\n",
      "[23]\tvalid_0's binary_logloss: 0.246899\n",
      "[24]\tvalid_0's binary_logloss: 0.244095\n",
      "[25]\tvalid_0's binary_logloss: 0.241162\n",
      "[26]\tvalid_0's binary_logloss: 0.238443\n",
      "[27]\tvalid_0's binary_logloss: 0.238374\n",
      "[28]\tvalid_0's binary_logloss: 0.237746\n",
      "[29]\tvalid_0's binary_logloss: 0.237351\n",
      "[30]\tvalid_0's binary_logloss: 0.238161\n",
      "[31]\tvalid_0's binary_logloss: 0.237243\n",
      "[32]\tvalid_0's binary_logloss: 0.236325\n",
      "[33]\tvalid_0's binary_logloss: 0.236385\n",
      "[34]\tvalid_0's binary_logloss: 0.235974\n",
      "[35]\tvalid_0's binary_logloss: 0.235805\n",
      "[36]\tvalid_0's binary_logloss: 0.235435\n",
      "[37]\tvalid_0's binary_logloss: 0.236457\n",
      "[38]\tvalid_0's binary_logloss: 0.236779\n",
      "[39]\tvalid_0's binary_logloss: 0.237553\n",
      "[40]\tvalid_0's binary_logloss: 0.236474\n",
      "[41]\tvalid_0's binary_logloss: 0.235908\n",
      "[42]\tvalid_0's binary_logloss: 0.235327\n",
      "[43]\tvalid_0's binary_logloss: 0.234472\n",
      "[44]\tvalid_0's binary_logloss: 0.234555\n",
      "[45]\tvalid_0's binary_logloss: 0.234145\n",
      "[46]\tvalid_0's binary_logloss: 0.234403\n",
      "[47]\tvalid_0's binary_logloss: 0.234856\n",
      "[48]\tvalid_0's binary_logloss: 0.234664\n",
      "[49]\tvalid_0's binary_logloss: 0.236235\n",
      "[50]\tvalid_0's binary_logloss: 0.236207\n",
      "[51]\tvalid_0's binary_logloss: 0.236595\n",
      "[52]\tvalid_0's binary_logloss: 0.236585\n",
      "[53]\tvalid_0's binary_logloss: 0.237372\n",
      "[54]\tvalid_0's binary_logloss: 0.237608\n",
      "[55]\tvalid_0's binary_logloss: 0.237575\n",
      "[56]\tvalid_0's binary_logloss: 0.237994\n",
      "[57]\tvalid_0's binary_logloss: 0.238156\n",
      "[58]\tvalid_0's binary_logloss: 0.238077\n",
      "[59]\tvalid_0's binary_logloss: 0.238738\n",
      "[60]\tvalid_0's binary_logloss: 0.239198\n",
      "[61]\tvalid_0's binary_logloss: 0.239535\n",
      "[62]\tvalid_0's binary_logloss: 0.24084\n",
      "[63]\tvalid_0's binary_logloss: 0.242231\n",
      "[64]\tvalid_0's binary_logloss: 0.243696\n",
      "[65]\tvalid_0's binary_logloss: 0.245083\n",
      "evaluating on the training set...\n",
      "fitting HMM smoother...\n",
      "fitting forward-backward smoother...\n",
      "HMM label smoothing training took 0.02 mins\n",
      "performance on training set:\n",
      "P: 0.9894, R: 0.9841, F1: 0.9867    investigation\n",
      "done training!\n",
      "complete training took 1.87 mins\n",
      "loading test data...\n"
     ]
    },
    {
     "name": "stderr",
     "output_type": "stream",
     "text": [
      "/home/roton/miniconda3/envs/mars/lib/python3.7/site-packages/sklearn/utils/validation.py:70: FutureWarning: Pass threshold=0.5 as keyword args. From version 0.25 passing these as positional arguments will result in an error\n",
      "  FutureWarning)\n",
      "Filtering sequence 0/27    0% --  [Elapsed Time: 0:00:00] |  | (ETA:  --:--:--) \r"
     ]
    },
    {
     "name": "stdout",
     "output_type": "stream",
     "text": [
      "sorting features and applying filters...\n"
     ]
    },
    {
     "name": "stderr",
     "output_type": "stream",
     "text": [
      "Filtering sequence 27/27  100% --  [Elapsed Time: 0:06:22] |##| (Time: 0:06:22) \n"
     ]
    },
    {
     "name": "stdout",
     "output_type": "stream",
     "text": [
      "done!\n",
      "\n",
      "loaded test data: 364826 X 3408 - ['investigation'] \n",
      "loading classifiers from /media/storage/ryan/mabe_challenge/behavior/trained_classifiers/mabe_challenge_lgt_es20_wnd/\n",
      "n_classes = 4\n",
      "{'attack': 0, 'investigation': 1, 'mount': 2, 'other': 3}\n",
      "predicting investigation...\n",
      "inference took 51.99 sec\n",
      " \n",
      "Classifier performance:\n"
     ]
    },
    {
     "name": "stderr",
     "output_type": "stream",
     "text": [
      "/home/roton/miniconda3/envs/mars/lib/python3.7/site-packages/sklearn/metrics/_classification.py:1221: UndefinedMetricWarning: Precision and F-score are ill-defined and being set to 0.0 in labels with no predicted samples. Use `zero_division` parameter to control this behavior.\n",
      "  _warn_prf(average, modifier, msg_start, len(result))\n",
      "/home/roton/miniconda3/envs/mars/lib/python3.7/site-packages/sklearn/metrics/_classification.py:1221: UndefinedMetricWarning: Recall and F-score are ill-defined and being set to 0.0 in labels with no true samples. Use `zero_division` parameter to control this behavior.\n",
      "  _warn_prf(average, modifier, msg_start, len(result))\n"
     ]
    },
    {
     "name": "stdout",
     "output_type": "stream",
     "text": [
      "              attack   investigation   other    \n",
      "  Precision:    0.0      0.85       0.0     \n",
      "     Recall:    0.0      0.66       0.0     \n",
      "   F1 Score:    0.0      0.743      0.0     \n",
      "Loop: 4\n",
      "val set size: 8804\n",
      "training set size: 42300.0\n",
      "loading training data...\n"
     ]
    },
    {
     "name": "stderr",
     "output_type": "stream",
     "text": [
      "Filtering sequence 0/5    0% --  [Elapsed Time: 0:00:00] |   | (ETA:  --:--:--) \r"
     ]
    },
    {
     "name": "stdout",
     "output_type": "stream",
     "text": [
      "sorting features and applying filters...\n"
     ]
    },
    {
     "name": "stderr",
     "output_type": "stream",
     "text": [
      "Filtering sequence 5/5  100% --  [Elapsed Time: 0:00:36] |####| (Time: 0:00:36) \n"
     ]
    },
    {
     "name": "stdout",
     "output_type": "stream",
     "text": [
      "done!\n",
      "\n",
      "loading validation data...\n"
     ]
    },
    {
     "name": "stderr",
     "output_type": "stream",
     "text": [
      "Filtering sequence 0/2    0% --  [Elapsed Time: 0:00:00] |   | (ETA:  --:--:--) \r"
     ]
    },
    {
     "name": "stdout",
     "output_type": "stream",
     "text": [
      "sorting features and applying filters...\n"
     ]
    },
    {
     "name": "stderr",
     "output_type": "stream",
     "text": [
      "Filtering sequence 2/2  100% --  [Elapsed Time: 0:00:07] |####| (Time: 0:00:07) \n"
     ]
    },
    {
     "name": "stdout",
     "output_type": "stream",
     "text": [
      "done!\n",
      "\n",
      "loaded training data: 42300 X 3408 - ['investigation'] \n",
      "Training classifier: MABE_CHALLENGE_LGT_ES20_WND/\n",
      "######################### investigation #########################\n",
      "training using 10577 positive frames (141 bouts)\n",
      "fitting preprocessing parameters...\n",
      "fitting clf for investigation\n",
      "    training set: 10577 positive / 42300 total (25 %)\n",
      "    eval set: 2062 positive / 8804 total (23 %)\n",
      "  + early stopping\n"
     ]
    },
    {
     "name": "stderr",
     "output_type": "stream",
     "text": [
      "/home/roton/miniconda3/envs/mars/lib/python3.7/site-packages/lightgbm/sklearn.py:726: UserWarning: 'early_stopping_rounds' argument is deprecated and will be removed in a future release of LightGBM. Pass 'early_stopping()' callback via 'callbacks' argument instead.\n",
      "  _log_warning(\"'early_stopping_rounds' argument is deprecated and will be removed in a future release of LightGBM. \"\n",
      "/home/roton/miniconda3/envs/mars/lib/python3.7/site-packages/lightgbm/sklearn.py:736: UserWarning: 'verbose' argument is deprecated and will be removed in a future release of LightGBM. Pass 'log_evaluation()' callback via 'callbacks' argument instead.\n",
      "  _log_warning(\"'verbose' argument is deprecated and will be removed in a future release of LightGBM. \"\n"
     ]
    },
    {
     "name": "stdout",
     "output_type": "stream",
     "text": [
      "[1]\tvalid_0's binary_logloss: 0.496772\n",
      "[2]\tvalid_0's binary_logloss: 0.459789\n",
      "[3]\tvalid_0's binary_logloss: 0.428899\n",
      "[4]\tvalid_0's binary_logloss: 0.406612\n",
      "[5]\tvalid_0's binary_logloss: 0.387455\n",
      "[6]\tvalid_0's binary_logloss: 0.367479\n",
      "[7]\tvalid_0's binary_logloss: 0.352531\n",
      "[8]\tvalid_0's binary_logloss: 0.338043\n",
      "[9]\tvalid_0's binary_logloss: 0.32806\n",
      "[10]\tvalid_0's binary_logloss: 0.319381\n",
      "[11]\tvalid_0's binary_logloss: 0.310969\n",
      "[12]\tvalid_0's binary_logloss: 0.303384\n",
      "[13]\tvalid_0's binary_logloss: 0.29741\n",
      "[14]\tvalid_0's binary_logloss: 0.290717\n",
      "[15]\tvalid_0's binary_logloss: 0.28421\n",
      "[16]\tvalid_0's binary_logloss: 0.279099\n",
      "[17]\tvalid_0's binary_logloss: 0.27469\n",
      "[18]\tvalid_0's binary_logloss: 0.271569\n",
      "[19]\tvalid_0's binary_logloss: 0.267171\n",
      "[20]\tvalid_0's binary_logloss: 0.264168\n",
      "[21]\tvalid_0's binary_logloss: 0.261195\n",
      "[22]\tvalid_0's binary_logloss: 0.258379\n",
      "[23]\tvalid_0's binary_logloss: 0.256897\n",
      "[24]\tvalid_0's binary_logloss: 0.25641\n",
      "[25]\tvalid_0's binary_logloss: 0.255311\n",
      "[26]\tvalid_0's binary_logloss: 0.252157\n",
      "[27]\tvalid_0's binary_logloss: 0.250158\n",
      "[28]\tvalid_0's binary_logloss: 0.249249\n",
      "[29]\tvalid_0's binary_logloss: 0.248011\n",
      "[30]\tvalid_0's binary_logloss: 0.248549\n",
      "[31]\tvalid_0's binary_logloss: 0.247966\n",
      "[32]\tvalid_0's binary_logloss: 0.247491\n",
      "[33]\tvalid_0's binary_logloss: 0.245859\n",
      "[34]\tvalid_0's binary_logloss: 0.245999\n",
      "[35]\tvalid_0's binary_logloss: 0.247369\n",
      "[36]\tvalid_0's binary_logloss: 0.246877\n",
      "[37]\tvalid_0's binary_logloss: 0.248389\n",
      "[38]\tvalid_0's binary_logloss: 0.250101\n",
      "[39]\tvalid_0's binary_logloss: 0.248302\n",
      "[40]\tvalid_0's binary_logloss: 0.248874\n",
      "[41]\tvalid_0's binary_logloss: 0.24935\n",
      "[42]\tvalid_0's binary_logloss: 0.249552\n",
      "[43]\tvalid_0's binary_logloss: 0.25166\n",
      "[44]\tvalid_0's binary_logloss: 0.251826\n",
      "[45]\tvalid_0's binary_logloss: 0.253965\n",
      "[46]\tvalid_0's binary_logloss: 0.253628\n",
      "[47]\tvalid_0's binary_logloss: 0.253118\n",
      "[48]\tvalid_0's binary_logloss: 0.253899\n",
      "[49]\tvalid_0's binary_logloss: 0.254538\n",
      "[50]\tvalid_0's binary_logloss: 0.255628\n",
      "[51]\tvalid_0's binary_logloss: 0.255464\n",
      "[52]\tvalid_0's binary_logloss: 0.255405\n",
      "[53]\tvalid_0's binary_logloss: 0.254604\n",
      "evaluating on the training set...\n",
      "fitting HMM smoother...\n",
      "fitting forward-backward smoother...\n",
      "HMM label smoothing training took 0.02 mins\n",
      "performance on training set:\n",
      "P: 0.9707, R: 0.9727, F1: 0.9717    investigation\n",
      "done training!\n",
      "complete training took 1.60 mins\n"
     ]
    },
    {
     "name": "stderr",
     "output_type": "stream",
     "text": [
      "/home/roton/miniconda3/envs/mars/lib/python3.7/site-packages/sklearn/utils/validation.py:70: FutureWarning: Pass threshold=0.5 as keyword args. From version 0.25 passing these as positional arguments will result in an error\n",
      "  FutureWarning)\n"
     ]
    },
    {
     "name": "stdout",
     "output_type": "stream",
     "text": [
      "loading test data...\n"
     ]
    },
    {
     "name": "stderr",
     "output_type": "stream",
     "text": [
      "Filtering sequence 0/27    0% --  [Elapsed Time: 0:00:00] |  | (ETA:  --:--:--) \r"
     ]
    },
    {
     "name": "stdout",
     "output_type": "stream",
     "text": [
      "sorting features and applying filters...\n"
     ]
    },
    {
     "name": "stderr",
     "output_type": "stream",
     "text": [
      "Filtering sequence 27/27  100% --  [Elapsed Time: 0:06:15] |##| (Time: 0:06:15) \n"
     ]
    },
    {
     "name": "stdout",
     "output_type": "stream",
     "text": [
      "done!\n",
      "\n",
      "loaded test data: 364826 X 3408 - ['investigation'] \n",
      "loading classifiers from /media/storage/ryan/mabe_challenge/behavior/trained_classifiers/mabe_challenge_lgt_es20_wnd/\n",
      "n_classes = 4\n",
      "{'attack': 0, 'investigation': 1, 'mount': 2, 'other': 3}\n",
      "predicting investigation...\n",
      "inference took 49.91 sec\n",
      " \n",
      "Classifier performance:\n"
     ]
    },
    {
     "name": "stderr",
     "output_type": "stream",
     "text": [
      "/home/roton/miniconda3/envs/mars/lib/python3.7/site-packages/sklearn/metrics/_classification.py:1221: UndefinedMetricWarning: Precision and F-score are ill-defined and being set to 0.0 in labels with no predicted samples. Use `zero_division` parameter to control this behavior.\n",
      "  _warn_prf(average, modifier, msg_start, len(result))\n",
      "/home/roton/miniconda3/envs/mars/lib/python3.7/site-packages/sklearn/metrics/_classification.py:1221: UndefinedMetricWarning: Recall and F-score are ill-defined and being set to 0.0 in labels with no true samples. Use `zero_division` parameter to control this behavior.\n",
      "  _warn_prf(average, modifier, msg_start, len(result))\n"
     ]
    },
    {
     "name": "stdout",
     "output_type": "stream",
     "text": [
      "              attack   investigation   other    \n",
      "  Precision:    0.0      0.834      0.0     \n",
      "     Recall:    0.0      0.707      0.0     \n",
      "   F1 Score:    0.0      0.765      0.0     \n",
      "Loop: 5\n",
      "val set size: 13064\n",
      "training set size: 93236.0\n",
      "loading training data...\n"
     ]
    },
    {
     "name": "stderr",
     "output_type": "stream",
     "text": [
      "Filtering sequence 0/12    0% --  [Elapsed Time: 0:00:00] |  | (ETA:  --:--:--) \r"
     ]
    },
    {
     "name": "stdout",
     "output_type": "stream",
     "text": [
      "sorting features and applying filters...\n"
     ]
    },
    {
     "name": "stderr",
     "output_type": "stream",
     "text": [
      "Filtering sequence 12/12  100% --  [Elapsed Time: 0:01:21] |##| (Time: 0:01:21) \n"
     ]
    },
    {
     "name": "stdout",
     "output_type": "stream",
     "text": [
      "done!\n",
      "\n",
      "loading validation data...\n"
     ]
    },
    {
     "name": "stderr",
     "output_type": "stream",
     "text": [
      "Filtering sequence 0/3    0% --  [Elapsed Time: 0:00:00] |   | (ETA:  --:--:--) \r"
     ]
    },
    {
     "name": "stdout",
     "output_type": "stream",
     "text": [
      "sorting features and applying filters...\n"
     ]
    },
    {
     "name": "stderr",
     "output_type": "stream",
     "text": [
      "Filtering sequence 3/3  100% --  [Elapsed Time: 0:00:10] |####| (Time: 0:00:10) \n"
     ]
    },
    {
     "name": "stdout",
     "output_type": "stream",
     "text": [
      "done!\n",
      "\n",
      "loaded training data: 93236 X 3408 - ['investigation'] \n",
      "Training classifier: MABE_CHALLENGE_LGT_ES20_WND/\n",
      "######################### investigation #########################\n",
      "training using 24629 positive frames (344 bouts)\n",
      "fitting preprocessing parameters...\n",
      "fitting clf for investigation\n",
      "    training set: 24629 positive / 93236 total (26 %)\n",
      "    eval set: 3227 positive / 13064 total (24 %)\n",
      "  + early stopping\n"
     ]
    },
    {
     "name": "stderr",
     "output_type": "stream",
     "text": [
      "/home/roton/miniconda3/envs/mars/lib/python3.7/site-packages/lightgbm/sklearn.py:726: UserWarning: 'early_stopping_rounds' argument is deprecated and will be removed in a future release of LightGBM. Pass 'early_stopping()' callback via 'callbacks' argument instead.\n",
      "  _log_warning(\"'early_stopping_rounds' argument is deprecated and will be removed in a future release of LightGBM. \"\n",
      "/home/roton/miniconda3/envs/mars/lib/python3.7/site-packages/lightgbm/sklearn.py:736: UserWarning: 'verbose' argument is deprecated and will be removed in a future release of LightGBM. Pass 'log_evaluation()' callback via 'callbacks' argument instead.\n",
      "  _log_warning(\"'verbose' argument is deprecated and will be removed in a future release of LightGBM. \"\n"
     ]
    },
    {
     "name": "stdout",
     "output_type": "stream",
     "text": [
      "[1]\tvalid_0's binary_logloss: 0.505109\n",
      "[2]\tvalid_0's binary_logloss: 0.462749\n",
      "[3]\tvalid_0's binary_logloss: 0.430607\n",
      "[4]\tvalid_0's binary_logloss: 0.406276\n",
      "[5]\tvalid_0's binary_logloss: 0.38236\n",
      "[6]\tvalid_0's binary_logloss: 0.362229\n",
      "[7]\tvalid_0's binary_logloss: 0.344359\n",
      "[8]\tvalid_0's binary_logloss: 0.331567\n",
      "[9]\tvalid_0's binary_logloss: 0.319217\n",
      "[10]\tvalid_0's binary_logloss: 0.309843\n",
      "[11]\tvalid_0's binary_logloss: 0.300493\n",
      "[12]\tvalid_0's binary_logloss: 0.291594\n",
      "[13]\tvalid_0's binary_logloss: 0.285594\n",
      "[14]\tvalid_0's binary_logloss: 0.280527\n",
      "[15]\tvalid_0's binary_logloss: 0.27579\n",
      "[16]\tvalid_0's binary_logloss: 0.269561\n",
      "[17]\tvalid_0's binary_logloss: 0.265057\n",
      "[18]\tvalid_0's binary_logloss: 0.259622\n",
      "[19]\tvalid_0's binary_logloss: 0.255662\n",
      "[20]\tvalid_0's binary_logloss: 0.254617\n",
      "[21]\tvalid_0's binary_logloss: 0.250539\n",
      "[22]\tvalid_0's binary_logloss: 0.247972\n",
      "[23]\tvalid_0's binary_logloss: 0.245461\n",
      "[24]\tvalid_0's binary_logloss: 0.243559\n",
      "[25]\tvalid_0's binary_logloss: 0.240594\n",
      "[26]\tvalid_0's binary_logloss: 0.239796\n",
      "[27]\tvalid_0's binary_logloss: 0.237619\n",
      "[28]\tvalid_0's binary_logloss: 0.23609\n",
      "[29]\tvalid_0's binary_logloss: 0.233929\n",
      "[30]\tvalid_0's binary_logloss: 0.233572\n",
      "[31]\tvalid_0's binary_logloss: 0.233137\n",
      "[32]\tvalid_0's binary_logloss: 0.232648\n",
      "[33]\tvalid_0's binary_logloss: 0.231599\n",
      "[34]\tvalid_0's binary_logloss: 0.231121\n",
      "[35]\tvalid_0's binary_logloss: 0.229919\n",
      "[36]\tvalid_0's binary_logloss: 0.229212\n",
      "[37]\tvalid_0's binary_logloss: 0.229044\n",
      "[38]\tvalid_0's binary_logloss: 0.22809\n",
      "[39]\tvalid_0's binary_logloss: 0.227231\n",
      "[40]\tvalid_0's binary_logloss: 0.227587\n",
      "[41]\tvalid_0's binary_logloss: 0.227254\n",
      "[42]\tvalid_0's binary_logloss: 0.227337\n",
      "[43]\tvalid_0's binary_logloss: 0.226273\n",
      "[44]\tvalid_0's binary_logloss: 0.226148\n",
      "[45]\tvalid_0's binary_logloss: 0.226054\n",
      "[46]\tvalid_0's binary_logloss: 0.226055\n",
      "[47]\tvalid_0's binary_logloss: 0.226171\n",
      "[48]\tvalid_0's binary_logloss: 0.226656\n",
      "[49]\tvalid_0's binary_logloss: 0.225802\n",
      "[50]\tvalid_0's binary_logloss: 0.226436\n",
      "[51]\tvalid_0's binary_logloss: 0.226366\n",
      "[52]\tvalid_0's binary_logloss: 0.226754\n",
      "[53]\tvalid_0's binary_logloss: 0.226285\n",
      "[54]\tvalid_0's binary_logloss: 0.226591\n",
      "[55]\tvalid_0's binary_logloss: 0.227706\n",
      "[56]\tvalid_0's binary_logloss: 0.2275\n",
      "[57]\tvalid_0's binary_logloss: 0.226712\n",
      "[58]\tvalid_0's binary_logloss: 0.227337\n",
      "[59]\tvalid_0's binary_logloss: 0.227199\n",
      "[60]\tvalid_0's binary_logloss: 0.226895\n",
      "[61]\tvalid_0's binary_logloss: 0.227828\n",
      "[62]\tvalid_0's binary_logloss: 0.227549\n",
      "[63]\tvalid_0's binary_logloss: 0.229006\n",
      "[64]\tvalid_0's binary_logloss: 0.228747\n",
      "[65]\tvalid_0's binary_logloss: 0.230894\n",
      "[66]\tvalid_0's binary_logloss: 0.231744\n",
      "[67]\tvalid_0's binary_logloss: 0.232187\n",
      "[68]\tvalid_0's binary_logloss: 0.2317\n",
      "[69]\tvalid_0's binary_logloss: 0.231515\n",
      "evaluating on the training set...\n",
      "fitting HMM smoother...\n",
      "fitting forward-backward smoother...\n"
     ]
    },
    {
     "name": "stderr",
     "output_type": "stream",
     "text": [
      "/home/roton/miniconda3/envs/mars/lib/python3.7/site-packages/sklearn/utils/validation.py:70: FutureWarning: Pass threshold=0.5 as keyword args. From version 0.25 passing these as positional arguments will result in an error\n",
      "  FutureWarning)\n"
     ]
    },
    {
     "name": "stdout",
     "output_type": "stream",
     "text": [
      "HMM label smoothing training took 0.04 mins\n",
      "performance on training set:\n",
      "P: 0.9514, R: 0.9472, F1: 0.9493    investigation\n",
      "done training!\n",
      "complete training took 1.29 mins\n",
      "loading test data...\n"
     ]
    },
    {
     "name": "stderr",
     "output_type": "stream",
     "text": [
      "Filtering sequence 0/27    0% --  [Elapsed Time: 0:00:00] |  | (ETA:  --:--:--) \r"
     ]
    },
    {
     "name": "stdout",
     "output_type": "stream",
     "text": [
      "sorting features and applying filters...\n"
     ]
    },
    {
     "name": "stderr",
     "output_type": "stream",
     "text": [
      "Filtering sequence 27/27  100% --  [Elapsed Time: 0:05:44] |##| (Time: 0:05:44) \n"
     ]
    },
    {
     "name": "stdout",
     "output_type": "stream",
     "text": [
      "done!\n",
      "\n",
      "loaded test data: 364826 X 3408 - ['investigation'] \n",
      "loading classifiers from /media/storage/ryan/mabe_challenge/behavior/trained_classifiers/mabe_challenge_lgt_es20_wnd/\n",
      "n_classes = 4\n",
      "{'attack': 0, 'investigation': 1, 'mount': 2, 'other': 3}\n",
      "predicting investigation...\n",
      "inference took 51.31 sec\n",
      " \n",
      "Classifier performance:\n"
     ]
    },
    {
     "name": "stderr",
     "output_type": "stream",
     "text": [
      "/home/roton/miniconda3/envs/mars/lib/python3.7/site-packages/sklearn/metrics/_classification.py:1221: UndefinedMetricWarning: Precision and F-score are ill-defined and being set to 0.0 in labels with no predicted samples. Use `zero_division` parameter to control this behavior.\n",
      "  _warn_prf(average, modifier, msg_start, len(result))\n",
      "/home/roton/miniconda3/envs/mars/lib/python3.7/site-packages/sklearn/metrics/_classification.py:1221: UndefinedMetricWarning: Recall and F-score are ill-defined and being set to 0.0 in labels with no true samples. Use `zero_division` parameter to control this behavior.\n",
      "  _warn_prf(average, modifier, msg_start, len(result))\n"
     ]
    },
    {
     "name": "stdout",
     "output_type": "stream",
     "text": [
      "              attack   investigation   other    \n",
      "  Precision:    0.0      0.841      0.0     \n",
      "     Recall:    0.0      0.766      0.0     \n",
      "   F1 Score:    0.0      0.802      0.0     \n",
      "Loop: 6\n",
      "val set size: 19191\n",
      "training set size: 134878.0\n",
      "loading training data...\n"
     ]
    },
    {
     "name": "stderr",
     "output_type": "stream",
     "text": [
      "Filtering sequence 0/21    0% --  [Elapsed Time: 0:00:00] |  | (ETA:  --:--:--) \r"
     ]
    },
    {
     "name": "stdout",
     "output_type": "stream",
     "text": [
      "sorting features and applying filters...\n"
     ]
    },
    {
     "name": "stderr",
     "output_type": "stream",
     "text": [
      "Filtering sequence 21/21  100% --  [Elapsed Time: 0:01:48] |##| (Time: 0:01:48) \n"
     ]
    },
    {
     "name": "stdout",
     "output_type": "stream",
     "text": [
      "done!\n",
      "\n",
      "loading validation data...\n"
     ]
    },
    {
     "name": "stderr",
     "output_type": "stream",
     "text": [
      "Filtering sequence 0/4    0% --  [Elapsed Time: 0:00:00] |   | (ETA:  --:--:--) \r"
     ]
    },
    {
     "name": "stdout",
     "output_type": "stream",
     "text": [
      "sorting features and applying filters...\n"
     ]
    },
    {
     "name": "stderr",
     "output_type": "stream",
     "text": [
      "Filtering sequence 4/4  100% --  [Elapsed Time: 0:00:16] |####| (Time: 0:00:16) \n"
     ]
    },
    {
     "name": "stdout",
     "output_type": "stream",
     "text": [
      "done!\n",
      "\n",
      "loaded training data: 134878 X 3408 - ['investigation'] \n",
      "Training classifier: MABE_CHALLENGE_LGT_ES20_WND/\n",
      "######################### investigation #########################\n",
      "training using 32475 positive frames (506 bouts)\n",
      "fitting preprocessing parameters...\n",
      "fitting clf for investigation\n",
      "    training set: 32475 positive / 134878 total (24 %)\n",
      "    eval set: 5423 positive / 19191 total (28 %)\n",
      "  + early stopping\n"
     ]
    },
    {
     "name": "stderr",
     "output_type": "stream",
     "text": [
      "/home/roton/miniconda3/envs/mars/lib/python3.7/site-packages/lightgbm/sklearn.py:726: UserWarning: 'early_stopping_rounds' argument is deprecated and will be removed in a future release of LightGBM. Pass 'early_stopping()' callback via 'callbacks' argument instead.\n",
      "  _log_warning(\"'early_stopping_rounds' argument is deprecated and will be removed in a future release of LightGBM. \"\n",
      "/home/roton/miniconda3/envs/mars/lib/python3.7/site-packages/lightgbm/sklearn.py:736: UserWarning: 'verbose' argument is deprecated and will be removed in a future release of LightGBM. Pass 'log_evaluation()' callback via 'callbacks' argument instead.\n",
      "  _log_warning(\"'verbose' argument is deprecated and will be removed in a future release of LightGBM. \"\n"
     ]
    },
    {
     "name": "stdout",
     "output_type": "stream",
     "text": [
      "[1]\tvalid_0's binary_logloss: 0.539001\n",
      "[2]\tvalid_0's binary_logloss: 0.494747\n",
      "[3]\tvalid_0's binary_logloss: 0.457078\n",
      "[4]\tvalid_0's binary_logloss: 0.426744\n",
      "[5]\tvalid_0's binary_logloss: 0.402078\n",
      "[6]\tvalid_0's binary_logloss: 0.380606\n",
      "[7]\tvalid_0's binary_logloss: 0.361715\n",
      "[8]\tvalid_0's binary_logloss: 0.345045\n",
      "[9]\tvalid_0's binary_logloss: 0.331983\n",
      "[10]\tvalid_0's binary_logloss: 0.319389\n",
      "[11]\tvalid_0's binary_logloss: 0.308934\n",
      "[12]\tvalid_0's binary_logloss: 0.299126\n",
      "[13]\tvalid_0's binary_logloss: 0.289686\n",
      "[14]\tvalid_0's binary_logloss: 0.283007\n",
      "[15]\tvalid_0's binary_logloss: 0.274951\n",
      "[16]\tvalid_0's binary_logloss: 0.269258\n",
      "[17]\tvalid_0's binary_logloss: 0.263545\n",
      "[18]\tvalid_0's binary_logloss: 0.258918\n",
      "[19]\tvalid_0's binary_logloss: 0.254299\n",
      "[20]\tvalid_0's binary_logloss: 0.250072\n",
      "[21]\tvalid_0's binary_logloss: 0.246192\n",
      "[22]\tvalid_0's binary_logloss: 0.242935\n",
      "[23]\tvalid_0's binary_logloss: 0.239847\n",
      "[24]\tvalid_0's binary_logloss: 0.237792\n",
      "[25]\tvalid_0's binary_logloss: 0.235226\n",
      "[26]\tvalid_0's binary_logloss: 0.233433\n",
      "[27]\tvalid_0's binary_logloss: 0.23137\n",
      "[28]\tvalid_0's binary_logloss: 0.229995\n",
      "[29]\tvalid_0's binary_logloss: 0.228241\n",
      "[30]\tvalid_0's binary_logloss: 0.226355\n",
      "[31]\tvalid_0's binary_logloss: 0.224502\n",
      "[32]\tvalid_0's binary_logloss: 0.223314\n",
      "[33]\tvalid_0's binary_logloss: 0.222175\n",
      "[34]\tvalid_0's binary_logloss: 0.221838\n",
      "[35]\tvalid_0's binary_logloss: 0.220424\n",
      "[36]\tvalid_0's binary_logloss: 0.220126\n",
      "[37]\tvalid_0's binary_logloss: 0.219983\n",
      "[38]\tvalid_0's binary_logloss: 0.219822\n",
      "[39]\tvalid_0's binary_logloss: 0.219164\n",
      "[40]\tvalid_0's binary_logloss: 0.218853\n",
      "[41]\tvalid_0's binary_logloss: 0.218682\n",
      "[42]\tvalid_0's binary_logloss: 0.218366\n",
      "[43]\tvalid_0's binary_logloss: 0.217398\n",
      "[44]\tvalid_0's binary_logloss: 0.217415\n",
      "[45]\tvalid_0's binary_logloss: 0.216585\n",
      "[46]\tvalid_0's binary_logloss: 0.215798\n",
      "[47]\tvalid_0's binary_logloss: 0.215944\n",
      "[48]\tvalid_0's binary_logloss: 0.215482\n",
      "[49]\tvalid_0's binary_logloss: 0.215546\n",
      "[50]\tvalid_0's binary_logloss: 0.215345\n",
      "[51]\tvalid_0's binary_logloss: 0.215321\n",
      "[52]\tvalid_0's binary_logloss: 0.215113\n",
      "[53]\tvalid_0's binary_logloss: 0.214251\n",
      "[54]\tvalid_0's binary_logloss: 0.213738\n",
      "[55]\tvalid_0's binary_logloss: 0.2139\n",
      "[56]\tvalid_0's binary_logloss: 0.213181\n",
      "[57]\tvalid_0's binary_logloss: 0.212695\n",
      "[58]\tvalid_0's binary_logloss: 0.212538\n",
      "[59]\tvalid_0's binary_logloss: 0.21217\n",
      "[60]\tvalid_0's binary_logloss: 0.21266\n",
      "[61]\tvalid_0's binary_logloss: 0.212627\n",
      "[62]\tvalid_0's binary_logloss: 0.213025\n",
      "[63]\tvalid_0's binary_logloss: 0.212953\n",
      "[64]\tvalid_0's binary_logloss: 0.213203\n",
      "[65]\tvalid_0's binary_logloss: 0.213348\n",
      "[66]\tvalid_0's binary_logloss: 0.213803\n",
      "[67]\tvalid_0's binary_logloss: 0.213581\n",
      "[68]\tvalid_0's binary_logloss: 0.213813\n",
      "[69]\tvalid_0's binary_logloss: 0.214134\n",
      "[70]\tvalid_0's binary_logloss: 0.214167\n",
      "[71]\tvalid_0's binary_logloss: 0.213881\n",
      "[72]\tvalid_0's binary_logloss: 0.214059\n",
      "[73]\tvalid_0's binary_logloss: 0.21304\n",
      "[74]\tvalid_0's binary_logloss: 0.212946\n",
      "[75]\tvalid_0's binary_logloss: 0.212533\n",
      "[76]\tvalid_0's binary_logloss: 0.212979\n",
      "[77]\tvalid_0's binary_logloss: 0.21278\n",
      "[78]\tvalid_0's binary_logloss: 0.213174\n",
      "[79]\tvalid_0's binary_logloss: 0.213239\n",
      "evaluating on the training set...\n",
      "fitting HMM smoother...\n",
      "fitting forward-backward smoother...\n"
     ]
    },
    {
     "name": "stderr",
     "output_type": "stream",
     "text": [
      "/home/roton/miniconda3/envs/mars/lib/python3.7/site-packages/sklearn/utils/validation.py:70: FutureWarning: Pass threshold=0.5 as keyword args. From version 0.25 passing these as positional arguments will result in an error\n",
      "  FutureWarning)\n"
     ]
    },
    {
     "name": "stdout",
     "output_type": "stream",
     "text": [
      "HMM label smoothing training took 0.07 mins\n",
      "performance on training set:\n",
      "P: 0.9342, R: 0.9275, F1: 0.9308    investigation\n",
      "done training!\n",
      "complete training took 2.72 mins\n",
      "loading test data...\n"
     ]
    },
    {
     "name": "stderr",
     "output_type": "stream",
     "text": [
      "Filtering sequence 0/27    0% --  [Elapsed Time: 0:00:00] |  | (ETA:  --:--:--) \r"
     ]
    },
    {
     "name": "stdout",
     "output_type": "stream",
     "text": [
      "sorting features and applying filters...\n"
     ]
    },
    {
     "name": "stderr",
     "output_type": "stream",
     "text": [
      "Filtering sequence 27/27  100% --  [Elapsed Time: 0:04:56] |##| (Time: 0:04:56) \n"
     ]
    },
    {
     "name": "stdout",
     "output_type": "stream",
     "text": [
      "done!\n",
      "\n",
      "loaded test data: 364826 X 3408 - ['investigation'] \n",
      "loading classifiers from /media/storage/ryan/mabe_challenge/behavior/trained_classifiers/mabe_challenge_lgt_es20_wnd/\n",
      "n_classes = 4\n",
      "{'attack': 0, 'investigation': 1, 'mount': 2, 'other': 3}\n",
      "predicting investigation...\n",
      "inference took 49.56 sec\n",
      " \n",
      "Classifier performance:\n"
     ]
    },
    {
     "name": "stderr",
     "output_type": "stream",
     "text": [
      "/home/roton/miniconda3/envs/mars/lib/python3.7/site-packages/sklearn/metrics/_classification.py:1221: UndefinedMetricWarning: Precision and F-score are ill-defined and being set to 0.0 in labels with no predicted samples. Use `zero_division` parameter to control this behavior.\n",
      "  _warn_prf(average, modifier, msg_start, len(result))\n",
      "/home/roton/miniconda3/envs/mars/lib/python3.7/site-packages/sklearn/metrics/_classification.py:1221: UndefinedMetricWarning: Recall and F-score are ill-defined and being set to 0.0 in labels with no true samples. Use `zero_division` parameter to control this behavior.\n",
      "  _warn_prf(average, modifier, msg_start, len(result))\n"
     ]
    },
    {
     "name": "stdout",
     "output_type": "stream",
     "text": [
      "              attack   investigation   other    \n",
      "  Precision:    0.0      0.858      0.0     \n",
      "     Recall:    0.0      0.753      0.0     \n",
      "   F1 Score:    0.0      0.802      0.0     \n",
      "Loop: 7\n",
      "val set size: 29216\n",
      "training set size: 187401.0\n",
      "loading training data...\n"
     ]
    },
    {
     "name": "stderr",
     "output_type": "stream",
     "text": [
      "Filtering sequence 0/27    0% --  [Elapsed Time: 0:00:00] |  | (ETA:  --:--:--) \r"
     ]
    },
    {
     "name": "stdout",
     "output_type": "stream",
     "text": [
      "sorting features and applying filters...\n"
     ]
    },
    {
     "name": "stderr",
     "output_type": "stream",
     "text": [
      "Filtering sequence 27/27  100% --  [Elapsed Time: 0:02:29] |##| (Time: 0:02:29) \n"
     ]
    },
    {
     "name": "stdout",
     "output_type": "stream",
     "text": [
      "done!\n",
      "\n",
      "loading validation data...\n"
     ]
    },
    {
     "name": "stderr",
     "output_type": "stream",
     "text": [
      "Filtering sequence 0/5    0% --  [Elapsed Time: 0:00:00] |   | (ETA:  --:--:--) \r"
     ]
    },
    {
     "name": "stdout",
     "output_type": "stream",
     "text": [
      "sorting features and applying filters...\n"
     ]
    },
    {
     "name": "stderr",
     "output_type": "stream",
     "text": [
      "Filtering sequence 5/5  100% --  [Elapsed Time: 0:00:23] |####| (Time: 0:00:23) \n"
     ]
    },
    {
     "name": "stdout",
     "output_type": "stream",
     "text": [
      "done!\n",
      "\n",
      "loaded training data: 187401 X 3408 - ['investigation'] \n",
      "Training classifier: MABE_CHALLENGE_LGT_ES20_WND/\n",
      "######################### investigation #########################\n",
      "training using 49827 positive frames (695 bouts)\n",
      "fitting preprocessing parameters...\n",
      "fitting clf for investigation\n",
      "    training set: 49827 positive / 187401 total (26 %)\n",
      "    eval set: 7530 positive / 29216 total (25 %)\n",
      "  + early stopping\n"
     ]
    },
    {
     "name": "stderr",
     "output_type": "stream",
     "text": [
      "/home/roton/miniconda3/envs/mars/lib/python3.7/site-packages/lightgbm/sklearn.py:726: UserWarning: 'early_stopping_rounds' argument is deprecated and will be removed in a future release of LightGBM. Pass 'early_stopping()' callback via 'callbacks' argument instead.\n",
      "  _log_warning(\"'early_stopping_rounds' argument is deprecated and will be removed in a future release of LightGBM. \"\n",
      "/home/roton/miniconda3/envs/mars/lib/python3.7/site-packages/lightgbm/sklearn.py:736: UserWarning: 'verbose' argument is deprecated and will be removed in a future release of LightGBM. Pass 'log_evaluation()' callback via 'callbacks' argument instead.\n",
      "  _log_warning(\"'verbose' argument is deprecated and will be removed in a future release of LightGBM. \"\n"
     ]
    },
    {
     "name": "stdout",
     "output_type": "stream",
     "text": [
      "[1]\tvalid_0's binary_logloss: 0.5144\n",
      "[2]\tvalid_0's binary_logloss: 0.472446\n",
      "[3]\tvalid_0's binary_logloss: 0.437316\n",
      "[4]\tvalid_0's binary_logloss: 0.40835\n",
      "[5]\tvalid_0's binary_logloss: 0.383737\n",
      "[6]\tvalid_0's binary_logloss: 0.366136\n",
      "[7]\tvalid_0's binary_logloss: 0.349888\n",
      "[8]\tvalid_0's binary_logloss: 0.335058\n",
      "[9]\tvalid_0's binary_logloss: 0.320985\n",
      "[10]\tvalid_0's binary_logloss: 0.310459\n",
      "[11]\tvalid_0's binary_logloss: 0.299729\n",
      "[12]\tvalid_0's binary_logloss: 0.29078\n",
      "[13]\tvalid_0's binary_logloss: 0.282724\n",
      "[14]\tvalid_0's binary_logloss: 0.276114\n",
      "[15]\tvalid_0's binary_logloss: 0.270374\n",
      "[16]\tvalid_0's binary_logloss: 0.26487\n",
      "[17]\tvalid_0's binary_logloss: 0.259726\n",
      "[18]\tvalid_0's binary_logloss: 0.255108\n",
      "[19]\tvalid_0's binary_logloss: 0.250988\n",
      "[20]\tvalid_0's binary_logloss: 0.247286\n",
      "[21]\tvalid_0's binary_logloss: 0.243858\n",
      "[22]\tvalid_0's binary_logloss: 0.240817\n",
      "[23]\tvalid_0's binary_logloss: 0.238262\n",
      "[24]\tvalid_0's binary_logloss: 0.236188\n",
      "[25]\tvalid_0's binary_logloss: 0.234097\n",
      "[26]\tvalid_0's binary_logloss: 0.232441\n",
      "[27]\tvalid_0's binary_logloss: 0.230578\n",
      "[28]\tvalid_0's binary_logloss: 0.229063\n",
      "[29]\tvalid_0's binary_logloss: 0.227375\n",
      "[30]\tvalid_0's binary_logloss: 0.226137\n",
      "[31]\tvalid_0's binary_logloss: 0.224953\n",
      "[32]\tvalid_0's binary_logloss: 0.224657\n",
      "[33]\tvalid_0's binary_logloss: 0.223605\n",
      "[34]\tvalid_0's binary_logloss: 0.223587\n",
      "[35]\tvalid_0's binary_logloss: 0.223448\n",
      "[36]\tvalid_0's binary_logloss: 0.222593\n",
      "[37]\tvalid_0's binary_logloss: 0.221855\n",
      "[38]\tvalid_0's binary_logloss: 0.221559\n",
      "[39]\tvalid_0's binary_logloss: 0.220585\n",
      "[40]\tvalid_0's binary_logloss: 0.220681\n",
      "[41]\tvalid_0's binary_logloss: 0.219843\n",
      "[42]\tvalid_0's binary_logloss: 0.219605\n",
      "[43]\tvalid_0's binary_logloss: 0.219667\n",
      "[44]\tvalid_0's binary_logloss: 0.219467\n",
      "[45]\tvalid_0's binary_logloss: 0.220051\n",
      "[46]\tvalid_0's binary_logloss: 0.219638\n",
      "[47]\tvalid_0's binary_logloss: 0.219163\n",
      "[48]\tvalid_0's binary_logloss: 0.218572\n",
      "[49]\tvalid_0's binary_logloss: 0.218323\n",
      "[50]\tvalid_0's binary_logloss: 0.21833\n",
      "[51]\tvalid_0's binary_logloss: 0.233256\n",
      "[52]\tvalid_0's binary_logloss: 0.233027\n",
      "[53]\tvalid_0's binary_logloss: 0.232652\n",
      "[54]\tvalid_0's binary_logloss: 0.232504\n",
      "[55]\tvalid_0's binary_logloss: 0.232289\n",
      "[56]\tvalid_0's binary_logloss: 0.231943\n",
      "[57]\tvalid_0's binary_logloss: 0.232062\n",
      "[58]\tvalid_0's binary_logloss: 0.231759\n",
      "[59]\tvalid_0's binary_logloss: 0.231555\n",
      "[60]\tvalid_0's binary_logloss: 0.231378\n",
      "[61]\tvalid_0's binary_logloss: 0.231133\n",
      "[62]\tvalid_0's binary_logloss: 0.231148\n",
      "[63]\tvalid_0's binary_logloss: 0.231398\n",
      "[64]\tvalid_0's binary_logloss: 0.231504\n",
      "[65]\tvalid_0's binary_logloss: 0.231543\n",
      "[66]\tvalid_0's binary_logloss: 0.231182\n",
      "[67]\tvalid_0's binary_logloss: 0.231208\n",
      "[68]\tvalid_0's binary_logloss: 0.230729\n",
      "[69]\tvalid_0's binary_logloss: 0.230708\n",
      "evaluating on the training set...\n",
      "fitting HMM smoother...\n",
      "fitting forward-backward smoother...\n"
     ]
    },
    {
     "name": "stderr",
     "output_type": "stream",
     "text": [
      "/home/roton/miniconda3/envs/mars/lib/python3.7/site-packages/sklearn/utils/validation.py:70: FutureWarning: Pass threshold=0.5 as keyword args. From version 0.25 passing these as positional arguments will result in an error\n",
      "  FutureWarning)\n"
     ]
    },
    {
     "name": "stdout",
     "output_type": "stream",
     "text": [
      "HMM label smoothing training took 0.10 mins\n",
      "performance on training set:\n",
      "P: 0.9180, R: 0.9167, F1: 0.9173    investigation\n",
      "done training!\n",
      "complete training took 1.96 mins\n",
      "loading test data...\n"
     ]
    },
    {
     "name": "stderr",
     "output_type": "stream",
     "text": [
      "Filtering sequence 0/27    0% --  [Elapsed Time: 0:00:00] |  | (ETA:  --:--:--) \r"
     ]
    },
    {
     "name": "stdout",
     "output_type": "stream",
     "text": [
      "sorting features and applying filters...\n"
     ]
    },
    {
     "name": "stderr",
     "output_type": "stream",
     "text": [
      "Filtering sequence 27/27  100% --  [Elapsed Time: 0:04:57] |##| (Time: 0:04:57) \n"
     ]
    },
    {
     "name": "stdout",
     "output_type": "stream",
     "text": [
      "done!\n",
      "\n",
      "loaded test data: 364826 X 3408 - ['investigation'] \n",
      "loading classifiers from /media/storage/ryan/mabe_challenge/behavior/trained_classifiers/mabe_challenge_lgt_es20_wnd/\n",
      "n_classes = 4\n",
      "{'attack': 0, 'investigation': 1, 'mount': 2, 'other': 3}\n",
      "predicting investigation...\n",
      "inference took 52.87 sec\n",
      " \n",
      "Classifier performance:\n"
     ]
    },
    {
     "name": "stderr",
     "output_type": "stream",
     "text": [
      "/home/roton/miniconda3/envs/mars/lib/python3.7/site-packages/sklearn/metrics/_classification.py:1221: UndefinedMetricWarning: Precision and F-score are ill-defined and being set to 0.0 in labels with no predicted samples. Use `zero_division` parameter to control this behavior.\n",
      "  _warn_prf(average, modifier, msg_start, len(result))\n",
      "/home/roton/miniconda3/envs/mars/lib/python3.7/site-packages/sklearn/metrics/_classification.py:1221: UndefinedMetricWarning: Recall and F-score are ill-defined and being set to 0.0 in labels with no true samples. Use `zero_division` parameter to control this behavior.\n",
      "  _warn_prf(average, modifier, msg_start, len(result))\n"
     ]
    },
    {
     "name": "stdout",
     "output_type": "stream",
     "text": [
      "              attack   investigation   other    \n",
      "  Precision:    0.0      0.852      0.0     \n",
      "     Recall:    0.0      0.79       0.0     \n",
      "   F1 Score:    0.0      0.82       0.0     \n",
      "Loop: 8\n",
      "val set size: 29216\n",
      "training set size: 228376.0\n",
      "loading training data...\n"
     ]
    },
    {
     "name": "stderr",
     "output_type": "stream",
     "text": [
      "Filtering sequence 0/32    0% --  [Elapsed Time: 0:00:00] |  | (ETA:  --:--:--) \r"
     ]
    },
    {
     "name": "stdout",
     "output_type": "stream",
     "text": [
      "sorting features and applying filters...\n"
     ]
    },
    {
     "name": "stderr",
     "output_type": "stream",
     "text": [
      "Filtering sequence 32/32  100% --  [Elapsed Time: 0:03:06] |##| (Time: 0:03:06) \n"
     ]
    },
    {
     "name": "stdout",
     "output_type": "stream",
     "text": [
      "done!\n",
      "\n",
      "loading validation data...\n"
     ]
    },
    {
     "name": "stderr",
     "output_type": "stream",
     "text": [
      "Filtering sequence 0/5    0% --  [Elapsed Time: 0:00:00] |   | (ETA:  --:--:--) \r"
     ]
    },
    {
     "name": "stdout",
     "output_type": "stream",
     "text": [
      "sorting features and applying filters...\n"
     ]
    },
    {
     "name": "stderr",
     "output_type": "stream",
     "text": [
      "Filtering sequence 5/5  100% --  [Elapsed Time: 0:00:22] |####| (Time: 0:00:22) \n"
     ]
    },
    {
     "name": "stdout",
     "output_type": "stream",
     "text": [
      "done!\n",
      "\n",
      "loaded training data: 228376 X 3408 - ['investigation'] \n",
      "Training classifier: MABE_CHALLENGE_LGT_ES20_WND/\n",
      "######################### investigation #########################\n",
      "training using 59219 positive frames (859 bouts)\n",
      "fitting preprocessing parameters...\n",
      "fitting clf for investigation\n",
      "    training set: 59219 positive / 228376 total (25 %)\n",
      "    eval set: 7530 positive / 29216 total (25 %)\n",
      "  + early stopping\n"
     ]
    },
    {
     "name": "stderr",
     "output_type": "stream",
     "text": [
      "/home/roton/miniconda3/envs/mars/lib/python3.7/site-packages/lightgbm/sklearn.py:726: UserWarning: 'early_stopping_rounds' argument is deprecated and will be removed in a future release of LightGBM. Pass 'early_stopping()' callback via 'callbacks' argument instead.\n",
      "  _log_warning(\"'early_stopping_rounds' argument is deprecated and will be removed in a future release of LightGBM. \"\n",
      "/home/roton/miniconda3/envs/mars/lib/python3.7/site-packages/lightgbm/sklearn.py:736: UserWarning: 'verbose' argument is deprecated and will be removed in a future release of LightGBM. Pass 'log_evaluation()' callback via 'callbacks' argument instead.\n",
      "  _log_warning(\"'verbose' argument is deprecated and will be removed in a future release of LightGBM. \"\n"
     ]
    },
    {
     "name": "stdout",
     "output_type": "stream",
     "text": [
      "[1]\tvalid_0's binary_logloss: 0.515009\n",
      "[2]\tvalid_0's binary_logloss: 0.473429\n",
      "[3]\tvalid_0's binary_logloss: 0.439002\n",
      "[4]\tvalid_0's binary_logloss: 0.409822\n",
      "[5]\tvalid_0's binary_logloss: 0.384821\n",
      "[6]\tvalid_0's binary_logloss: 0.363714\n",
      "[7]\tvalid_0's binary_logloss: 0.34703\n",
      "[8]\tvalid_0's binary_logloss: 0.332762\n",
      "[9]\tvalid_0's binary_logloss: 0.319522\n",
      "[10]\tvalid_0's binary_logloss: 0.308399\n",
      "[11]\tvalid_0's binary_logloss: 0.29828\n",
      "[12]\tvalid_0's binary_logloss: 0.289166\n",
      "[13]\tvalid_0's binary_logloss: 0.281762\n",
      "[14]\tvalid_0's binary_logloss: 0.274237\n",
      "[15]\tvalid_0's binary_logloss: 0.267521\n",
      "[16]\tvalid_0's binary_logloss: 0.261811\n",
      "[17]\tvalid_0's binary_logloss: 0.257102\n",
      "[18]\tvalid_0's binary_logloss: 0.252645\n",
      "[19]\tvalid_0's binary_logloss: 0.24865\n",
      "[20]\tvalid_0's binary_logloss: 0.245267\n",
      "[21]\tvalid_0's binary_logloss: 0.241969\n",
      "[22]\tvalid_0's binary_logloss: 0.2392\n",
      "[23]\tvalid_0's binary_logloss: 0.237005\n",
      "[24]\tvalid_0's binary_logloss: 0.234682\n",
      "[25]\tvalid_0's binary_logloss: 0.232421\n",
      "[26]\tvalid_0's binary_logloss: 0.230699\n",
      "[27]\tvalid_0's binary_logloss: 0.229386\n",
      "[28]\tvalid_0's binary_logloss: 0.228132\n",
      "[29]\tvalid_0's binary_logloss: 0.227374\n",
      "[30]\tvalid_0's binary_logloss: 0.225651\n",
      "[31]\tvalid_0's binary_logloss: 0.225013\n",
      "[32]\tvalid_0's binary_logloss: 0.223291\n",
      "[33]\tvalid_0's binary_logloss: 0.222394\n",
      "[34]\tvalid_0's binary_logloss: 0.221695\n",
      "[35]\tvalid_0's binary_logloss: 0.221016\n",
      "[36]\tvalid_0's binary_logloss: 0.220787\n",
      "[37]\tvalid_0's binary_logloss: 0.2209\n",
      "[38]\tvalid_0's binary_logloss: 0.220554\n",
      "[39]\tvalid_0's binary_logloss: 0.220233\n",
      "[40]\tvalid_0's binary_logloss: 0.22009\n",
      "[41]\tvalid_0's binary_logloss: 0.222089\n",
      "[42]\tvalid_0's binary_logloss: 0.221927\n",
      "[43]\tvalid_0's binary_logloss: 0.221658\n",
      "[44]\tvalid_0's binary_logloss: 0.221086\n",
      "[45]\tvalid_0's binary_logloss: 0.22077\n",
      "[46]\tvalid_0's binary_logloss: 0.220315\n",
      "[47]\tvalid_0's binary_logloss: 0.21975\n",
      "[48]\tvalid_0's binary_logloss: 0.220531\n",
      "[49]\tvalid_0's binary_logloss: 0.220367\n",
      "[50]\tvalid_0's binary_logloss: 0.220662\n",
      "[51]\tvalid_0's binary_logloss: 0.220837\n",
      "[52]\tvalid_0's binary_logloss: 0.220435\n",
      "[53]\tvalid_0's binary_logloss: 0.220552\n",
      "[54]\tvalid_0's binary_logloss: 0.220445\n",
      "[55]\tvalid_0's binary_logloss: 0.220583\n",
      "[56]\tvalid_0's binary_logloss: 0.220525\n",
      "[57]\tvalid_0's binary_logloss: 0.219954\n",
      "[58]\tvalid_0's binary_logloss: 0.219401\n",
      "[59]\tvalid_0's binary_logloss: 0.219185\n",
      "[60]\tvalid_0's binary_logloss: 0.219115\n",
      "[61]\tvalid_0's binary_logloss: 0.219545\n",
      "[62]\tvalid_0's binary_logloss: 0.219799\n",
      "[63]\tvalid_0's binary_logloss: 0.219685\n",
      "[64]\tvalid_0's binary_logloss: 0.219773\n",
      "[65]\tvalid_0's binary_logloss: 0.22\n",
      "[66]\tvalid_0's binary_logloss: 0.220303\n",
      "[67]\tvalid_0's binary_logloss: 0.220236\n",
      "[68]\tvalid_0's binary_logloss: 0.220512\n",
      "[69]\tvalid_0's binary_logloss: 0.220251\n",
      "[70]\tvalid_0's binary_logloss: 0.220273\n",
      "[71]\tvalid_0's binary_logloss: 0.220286\n",
      "[72]\tvalid_0's binary_logloss: 0.220139\n",
      "[73]\tvalid_0's binary_logloss: 0.220178\n",
      "[74]\tvalid_0's binary_logloss: 0.220701\n",
      "[75]\tvalid_0's binary_logloss: 0.220966\n",
      "[76]\tvalid_0's binary_logloss: 0.221152\n",
      "[77]\tvalid_0's binary_logloss: 0.221207\n",
      "[78]\tvalid_0's binary_logloss: 0.220866\n",
      "[79]\tvalid_0's binary_logloss: 0.221031\n",
      "[80]\tvalid_0's binary_logloss: 0.220691\n",
      "evaluating on the training set...\n",
      "fitting HMM smoother...\n",
      "fitting forward-backward smoother...\n"
     ]
    },
    {
     "name": "stderr",
     "output_type": "stream",
     "text": [
      "/home/roton/miniconda3/envs/mars/lib/python3.7/site-packages/sklearn/utils/validation.py:70: FutureWarning: Pass threshold=0.5 as keyword args. From version 0.25 passing these as positional arguments will result in an error\n",
      "  FutureWarning)\n"
     ]
    },
    {
     "name": "stdout",
     "output_type": "stream",
     "text": [
      "HMM label smoothing training took 0.10 mins\n",
      "performance on training set:\n",
      "P: 0.9164, R: 0.9097, F1: 0.9131    investigation\n",
      "done training!\n",
      "complete training took 4.55 mins\n",
      "loading test data...\n"
     ]
    },
    {
     "name": "stderr",
     "output_type": "stream",
     "text": [
      "Filtering sequence 0/27    0% --  [Elapsed Time: 0:00:00] |  | (ETA:  --:--:--) \r"
     ]
    },
    {
     "name": "stdout",
     "output_type": "stream",
     "text": [
      "sorting features and applying filters...\n"
     ]
    },
    {
     "name": "stderr",
     "output_type": "stream",
     "text": [
      "Filtering sequence 27/27  100% --  [Elapsed Time: 0:05:01] |##| (Time: 0:05:01) \n"
     ]
    },
    {
     "name": "stdout",
     "output_type": "stream",
     "text": [
      "done!\n",
      "\n",
      "loaded test data: 364826 X 3408 - ['investigation'] \n",
      "loading classifiers from /media/storage/ryan/mabe_challenge/behavior/trained_classifiers/mabe_challenge_lgt_es20_wnd/\n",
      "n_classes = 4\n",
      "{'attack': 0, 'investigation': 1, 'mount': 2, 'other': 3}\n",
      "predicting investigation...\n",
      "inference took 54.93 sec\n",
      " \n",
      "Classifier performance:\n"
     ]
    },
    {
     "name": "stderr",
     "output_type": "stream",
     "text": [
      "/home/roton/miniconda3/envs/mars/lib/python3.7/site-packages/sklearn/metrics/_classification.py:1221: UndefinedMetricWarning: Precision and F-score are ill-defined and being set to 0.0 in labels with no predicted samples. Use `zero_division` parameter to control this behavior.\n",
      "  _warn_prf(average, modifier, msg_start, len(result))\n",
      "/home/roton/miniconda3/envs/mars/lib/python3.7/site-packages/sklearn/metrics/_classification.py:1221: UndefinedMetricWarning: Recall and F-score are ill-defined and being set to 0.0 in labels with no true samples. Use `zero_division` parameter to control this behavior.\n",
      "  _warn_prf(average, modifier, msg_start, len(result))\n"
     ]
    },
    {
     "name": "stdout",
     "output_type": "stream",
     "text": [
      "              attack   investigation   other    \n",
      "  Precision:    0.0      0.85       0.0     \n",
      "     Recall:    0.0      0.798      0.0     \n",
      "   F1 Score:    0.0      0.823      0.0     \n",
      "Loop: 9\n",
      "val set size: 42438\n",
      "training set size: 263884.0\n",
      "loading training data...\n"
     ]
    },
    {
     "name": "stderr",
     "output_type": "stream",
     "text": [
      "Filtering sequence 0/37    0% --  [Elapsed Time: 0:00:00] |  | (ETA:  --:--:--) \r"
     ]
    },
    {
     "name": "stdout",
     "output_type": "stream",
     "text": [
      "sorting features and applying filters...\n"
     ]
    },
    {
     "name": "stderr",
     "output_type": "stream",
     "text": [
      "Filtering sequence 37/37  100% --  [Elapsed Time: 0:03:34] |##| (Time: 0:03:34) \n"
     ]
    },
    {
     "name": "stdout",
     "output_type": "stream",
     "text": [
      "done!\n",
      "\n",
      "loading validation data...\n"
     ]
    },
    {
     "name": "stderr",
     "output_type": "stream",
     "text": [
      "Filtering sequence 0/6    0% --  [Elapsed Time: 0:00:00] |   | (ETA:  --:--:--) \r"
     ]
    },
    {
     "name": "stdout",
     "output_type": "stream",
     "text": [
      "sorting features and applying filters...\n"
     ]
    },
    {
     "name": "stderr",
     "output_type": "stream",
     "text": [
      "Filtering sequence 6/6  100% --  [Elapsed Time: 0:00:33] |####| (Time: 0:00:33) \n"
     ]
    },
    {
     "name": "stdout",
     "output_type": "stream",
     "text": [
      "done!\n",
      "\n",
      "loaded training data: 263884 X 3408 - ['investigation'] \n",
      "Training classifier: MABE_CHALLENGE_LGT_ES20_WND/\n",
      "######################### investigation #########################\n",
      "training using 68648 positive frames (1011 bouts)\n",
      "fitting preprocessing parameters...\n",
      "fitting clf for investigation\n",
      "    training set: 68648 positive / 263884 total (26 %)\n",
      "    eval set: 9349 positive / 42438 total (22 %)\n",
      "  + early stopping\n"
     ]
    },
    {
     "name": "stderr",
     "output_type": "stream",
     "text": [
      "/home/roton/miniconda3/envs/mars/lib/python3.7/site-packages/lightgbm/sklearn.py:726: UserWarning: 'early_stopping_rounds' argument is deprecated and will be removed in a future release of LightGBM. Pass 'early_stopping()' callback via 'callbacks' argument instead.\n",
      "  _log_warning(\"'early_stopping_rounds' argument is deprecated and will be removed in a future release of LightGBM. \"\n",
      "/home/roton/miniconda3/envs/mars/lib/python3.7/site-packages/lightgbm/sklearn.py:736: UserWarning: 'verbose' argument is deprecated and will be removed in a future release of LightGBM. Pass 'log_evaluation()' callback via 'callbacks' argument instead.\n",
      "  _log_warning(\"'verbose' argument is deprecated and will be removed in a future release of LightGBM. \"\n"
     ]
    },
    {
     "name": "stdout",
     "output_type": "stream",
     "text": [
      "[1]\tvalid_0's binary_logloss: 0.481124\n",
      "[2]\tvalid_0's binary_logloss: 0.441588\n",
      "[3]\tvalid_0's binary_logloss: 0.410782\n",
      "[4]\tvalid_0's binary_logloss: 0.385396\n",
      "[5]\tvalid_0's binary_logloss: 0.362876\n",
      "[6]\tvalid_0's binary_logloss: 0.344208\n",
      "[7]\tvalid_0's binary_logloss: 0.32856\n",
      "[8]\tvalid_0's binary_logloss: 0.315513\n",
      "[9]\tvalid_0's binary_logloss: 0.303818\n",
      "[10]\tvalid_0's binary_logloss: 0.294079\n",
      "[11]\tvalid_0's binary_logloss: 0.285305\n",
      "[12]\tvalid_0's binary_logloss: 0.277598\n",
      "[13]\tvalid_0's binary_logloss: 0.271351\n",
      "[14]\tvalid_0's binary_logloss: 0.265605\n",
      "[15]\tvalid_0's binary_logloss: 0.259407\n",
      "[16]\tvalid_0's binary_logloss: 0.255301\n",
      "[17]\tvalid_0's binary_logloss: 0.250309\n",
      "[18]\tvalid_0's binary_logloss: 0.246551\n",
      "[19]\tvalid_0's binary_logloss: 0.243952\n",
      "[20]\tvalid_0's binary_logloss: 0.240963\n",
      "[21]\tvalid_0's binary_logloss: 0.238018\n",
      "[22]\tvalid_0's binary_logloss: 0.235825\n",
      "[23]\tvalid_0's binary_logloss: 0.233463\n",
      "[24]\tvalid_0's binary_logloss: 0.231829\n",
      "[25]\tvalid_0's binary_logloss: 0.229947\n",
      "[26]\tvalid_0's binary_logloss: 0.22842\n",
      "[27]\tvalid_0's binary_logloss: 0.226745\n",
      "[28]\tvalid_0's binary_logloss: 0.226273\n",
      "[29]\tvalid_0's binary_logloss: 0.225068\n",
      "[30]\tvalid_0's binary_logloss: 0.224202\n",
      "[31]\tvalid_0's binary_logloss: 0.2237\n",
      "[32]\tvalid_0's binary_logloss: 0.223159\n",
      "[33]\tvalid_0's binary_logloss: 0.222895\n",
      "[34]\tvalid_0's binary_logloss: 0.222288\n",
      "[35]\tvalid_0's binary_logloss: 0.22227\n",
      "[36]\tvalid_0's binary_logloss: 0.221971\n",
      "[37]\tvalid_0's binary_logloss: 0.222238\n",
      "[38]\tvalid_0's binary_logloss: 0.221497\n",
      "[39]\tvalid_0's binary_logloss: 0.221414\n",
      "[40]\tvalid_0's binary_logloss: 0.221352\n",
      "[41]\tvalid_0's binary_logloss: 0.221555\n",
      "[42]\tvalid_0's binary_logloss: 0.222071\n",
      "[43]\tvalid_0's binary_logloss: 0.22246\n",
      "[44]\tvalid_0's binary_logloss: 0.222462\n",
      "[45]\tvalid_0's binary_logloss: 0.222652\n",
      "[46]\tvalid_0's binary_logloss: 0.222562\n",
      "[47]\tvalid_0's binary_logloss: 0.226501\n",
      "[48]\tvalid_0's binary_logloss: 0.226577\n",
      "[49]\tvalid_0's binary_logloss: 0.226356\n",
      "[50]\tvalid_0's binary_logloss: 0.226136\n",
      "[51]\tvalid_0's binary_logloss: 0.225487\n",
      "[52]\tvalid_0's binary_logloss: 0.225323\n",
      "[53]\tvalid_0's binary_logloss: 0.225379\n",
      "[54]\tvalid_0's binary_logloss: 0.225604\n",
      "[55]\tvalid_0's binary_logloss: 0.225695\n",
      "[56]\tvalid_0's binary_logloss: 0.225492\n",
      "[57]\tvalid_0's binary_logloss: 0.225029\n",
      "[58]\tvalid_0's binary_logloss: 0.224977\n",
      "[59]\tvalid_0's binary_logloss: 0.225083\n",
      "[60]\tvalid_0's binary_logloss: 0.224662\n",
      "evaluating on the training set...\n",
      "fitting HMM smoother...\n",
      "fitting forward-backward smoother...\n"
     ]
    },
    {
     "name": "stderr",
     "output_type": "stream",
     "text": [
      "/home/roton/miniconda3/envs/mars/lib/python3.7/site-packages/sklearn/utils/validation.py:70: FutureWarning: Pass threshold=0.5 as keyword args. From version 0.25 passing these as positional arguments will result in an error\n",
      "  FutureWarning)\n"
     ]
    },
    {
     "name": "stdout",
     "output_type": "stream",
     "text": [
      "HMM label smoothing training took 0.12 mins\n",
      "performance on training set:\n",
      "P: 0.8847, R: 0.8859, F1: 0.8853    investigation\n",
      "done training!\n",
      "complete training took 4.39 mins\n",
      "loading test data...\n"
     ]
    },
    {
     "name": "stderr",
     "output_type": "stream",
     "text": [
      "Filtering sequence 0/27    0% --  [Elapsed Time: 0:00:00] |  | (ETA:  --:--:--) \r"
     ]
    },
    {
     "name": "stdout",
     "output_type": "stream",
     "text": [
      "sorting features and applying filters...\n"
     ]
    },
    {
     "name": "stderr",
     "output_type": "stream",
     "text": [
      "Filtering sequence 27/27  100% --  [Elapsed Time: 0:04:57] |##| (Time: 0:04:57) \n"
     ]
    },
    {
     "name": "stdout",
     "output_type": "stream",
     "text": [
      "done!\n",
      "\n",
      "loaded test data: 364826 X 3408 - ['investigation'] \n",
      "loading classifiers from /media/storage/ryan/mabe_challenge/behavior/trained_classifiers/mabe_challenge_lgt_es20_wnd/\n",
      "n_classes = 4\n",
      "{'attack': 0, 'investigation': 1, 'mount': 2, 'other': 3}\n",
      "predicting investigation...\n",
      "inference took 50.65 sec\n",
      " \n",
      "Classifier performance:\n",
      "              attack   investigation   other    \n",
      "  Precision:    0.0      0.837      0.0     \n",
      "     Recall:    0.0      0.842      0.0     \n",
      "   F1 Score:    0.0      0.839      0.0     \n"
     ]
    },
    {
     "name": "stderr",
     "output_type": "stream",
     "text": [
      "/home/roton/miniconda3/envs/mars/lib/python3.7/site-packages/sklearn/metrics/_classification.py:1221: UndefinedMetricWarning: Precision and F-score are ill-defined and being set to 0.0 in labels with no predicted samples. Use `zero_division` parameter to control this behavior.\n",
      "  _warn_prf(average, modifier, msg_start, len(result))\n",
      "/home/roton/miniconda3/envs/mars/lib/python3.7/site-packages/sklearn/metrics/_classification.py:1221: UndefinedMetricWarning: Recall and F-score are ill-defined and being set to 0.0 in labels with no true samples. Use `zero_division` parameter to control this behavior.\n",
      "  _warn_prf(average, modifier, msg_start, len(result))\n"
     ]
    },
    {
     "name": "stdout",
     "output_type": "stream",
     "text": [
      "Loop: 10\n",
      "val set size: 42438\n",
      "training set size: 317125.0\n",
      "loading training data...\n"
     ]
    },
    {
     "name": "stderr",
     "output_type": "stream",
     "text": [
      "Filtering sequence 0/47    0% --  [Elapsed Time: 0:00:00] |  | (ETA:  --:--:--) \r"
     ]
    },
    {
     "name": "stdout",
     "output_type": "stream",
     "text": [
      "sorting features and applying filters...\n"
     ]
    },
    {
     "name": "stderr",
     "output_type": "stream",
     "text": [
      "Filtering sequence 47/47  100% --  [Elapsed Time: 0:04:19] |##| (Time: 0:04:19) \n"
     ]
    },
    {
     "name": "stdout",
     "output_type": "stream",
     "text": [
      "done!\n",
      "\n",
      "loading validation data...\n"
     ]
    },
    {
     "name": "stderr",
     "output_type": "stream",
     "text": [
      "Filtering sequence 0/6    0% --  [Elapsed Time: 0:00:00] |   | (ETA:  --:--:--) \r"
     ]
    },
    {
     "name": "stdout",
     "output_type": "stream",
     "text": [
      "sorting features and applying filters...\n"
     ]
    },
    {
     "name": "stderr",
     "output_type": "stream",
     "text": [
      "Filtering sequence 6/6  100% --  [Elapsed Time: 0:00:34] |####| (Time: 0:00:34) \n"
     ]
    },
    {
     "name": "stdout",
     "output_type": "stream",
     "text": [
      "done!\n",
      "\n",
      "loaded training data: 317125 X 3408 - ['investigation'] \n",
      "Training classifier: MABE_CHALLENGE_LGT_ES20_WND/\n",
      "######################### investigation #########################\n",
      "training using 83075 positive frames (1187 bouts)\n",
      "fitting preprocessing parameters...\n",
      "fitting clf for investigation\n",
      "    training set: 83075 positive / 317125 total (26 %)\n",
      "    eval set: 9349 positive / 42438 total (22 %)\n",
      "  + early stopping\n"
     ]
    },
    {
     "name": "stderr",
     "output_type": "stream",
     "text": [
      "/home/roton/miniconda3/envs/mars/lib/python3.7/site-packages/lightgbm/sklearn.py:726: UserWarning: 'early_stopping_rounds' argument is deprecated and will be removed in a future release of LightGBM. Pass 'early_stopping()' callback via 'callbacks' argument instead.\n",
      "  _log_warning(\"'early_stopping_rounds' argument is deprecated and will be removed in a future release of LightGBM. \"\n",
      "/home/roton/miniconda3/envs/mars/lib/python3.7/site-packages/lightgbm/sklearn.py:736: UserWarning: 'verbose' argument is deprecated and will be removed in a future release of LightGBM. Pass 'log_evaluation()' callback via 'callbacks' argument instead.\n",
      "  _log_warning(\"'verbose' argument is deprecated and will be removed in a future release of LightGBM. \"\n"
     ]
    },
    {
     "name": "stdout",
     "output_type": "stream",
     "text": [
      "[1]\tvalid_0's binary_logloss: 0.48182\n",
      "[2]\tvalid_0's binary_logloss: 0.443066\n",
      "[3]\tvalid_0's binary_logloss: 0.412672\n",
      "[4]\tvalid_0's binary_logloss: 0.387428\n",
      "[5]\tvalid_0's binary_logloss: 0.366129\n",
      "[6]\tvalid_0's binary_logloss: 0.347034\n",
      "[7]\tvalid_0's binary_logloss: 0.332299\n",
      "[8]\tvalid_0's binary_logloss: 0.318522\n",
      "[9]\tvalid_0's binary_logloss: 0.307006\n",
      "[10]\tvalid_0's binary_logloss: 0.297395\n",
      "[11]\tvalid_0's binary_logloss: 0.288377\n",
      "[12]\tvalid_0's binary_logloss: 0.280335\n",
      "[13]\tvalid_0's binary_logloss: 0.273116\n",
      "[14]\tvalid_0's binary_logloss: 0.267258\n",
      "[15]\tvalid_0's binary_logloss: 0.262074\n",
      "[16]\tvalid_0's binary_logloss: 0.257145\n",
      "[17]\tvalid_0's binary_logloss: 0.252679\n",
      "[18]\tvalid_0's binary_logloss: 0.248888\n",
      "[19]\tvalid_0's binary_logloss: 0.244579\n",
      "[20]\tvalid_0's binary_logloss: 0.241244\n",
      "[21]\tvalid_0's binary_logloss: 0.239061\n",
      "[22]\tvalid_0's binary_logloss: 0.237777\n",
      "[23]\tvalid_0's binary_logloss: 0.235294\n",
      "[24]\tvalid_0's binary_logloss: 0.233215\n",
      "[25]\tvalid_0's binary_logloss: 0.23128\n",
      "[26]\tvalid_0's binary_logloss: 0.229818\n",
      "[27]\tvalid_0's binary_logloss: 0.228224\n",
      "[28]\tvalid_0's binary_logloss: 0.227117\n",
      "[29]\tvalid_0's binary_logloss: 0.22678\n",
      "[30]\tvalid_0's binary_logloss: 0.226023\n",
      "[31]\tvalid_0's binary_logloss: 0.225447\n",
      "[32]\tvalid_0's binary_logloss: 0.224932\n",
      "[33]\tvalid_0's binary_logloss: 0.224036\n",
      "[34]\tvalid_0's binary_logloss: 0.223047\n",
      "[35]\tvalid_0's binary_logloss: 0.222411\n",
      "[36]\tvalid_0's binary_logloss: 0.222221\n",
      "[37]\tvalid_0's binary_logloss: 0.22124\n",
      "[38]\tvalid_0's binary_logloss: 0.221423\n",
      "[39]\tvalid_0's binary_logloss: 0.221307\n",
      "[40]\tvalid_0's binary_logloss: 0.220441\n",
      "[41]\tvalid_0's binary_logloss: 0.220562\n",
      "[42]\tvalid_0's binary_logloss: 0.219699\n",
      "[43]\tvalid_0's binary_logloss: 0.219425\n",
      "[44]\tvalid_0's binary_logloss: 0.219476\n",
      "[45]\tvalid_0's binary_logloss: 0.220649\n",
      "[46]\tvalid_0's binary_logloss: 0.22026\n",
      "[47]\tvalid_0's binary_logloss: 0.220291\n",
      "[48]\tvalid_0's binary_logloss: 0.22013\n",
      "[49]\tvalid_0's binary_logloss: 0.219612\n",
      "[50]\tvalid_0's binary_logloss: 0.21912\n",
      "[51]\tvalid_0's binary_logloss: 0.218607\n",
      "[52]\tvalid_0's binary_logloss: 0.218303\n",
      "[53]\tvalid_0's binary_logloss: 0.218265\n",
      "[54]\tvalid_0's binary_logloss: 0.218687\n",
      "[55]\tvalid_0's binary_logloss: 0.218111\n",
      "[56]\tvalid_0's binary_logloss: 0.218154\n",
      "[57]\tvalid_0's binary_logloss: 0.217721\n",
      "[58]\tvalid_0's binary_logloss: 0.217588\n",
      "[59]\tvalid_0's binary_logloss: 0.217064\n",
      "[60]\tvalid_0's binary_logloss: 0.217046\n",
      "[61]\tvalid_0's binary_logloss: 0.217029\n",
      "[62]\tvalid_0's binary_logloss: 0.216771\n",
      "[63]\tvalid_0's binary_logloss: 0.217032\n",
      "[64]\tvalid_0's binary_logloss: 0.215035\n",
      "[65]\tvalid_0's binary_logloss: 0.215217\n",
      "[66]\tvalid_0's binary_logloss: 0.215623\n",
      "[67]\tvalid_0's binary_logloss: 0.215657\n",
      "[68]\tvalid_0's binary_logloss: 0.216113\n",
      "[69]\tvalid_0's binary_logloss: 0.216397\n",
      "[70]\tvalid_0's binary_logloss: 0.216382\n",
      "[71]\tvalid_0's binary_logloss: 0.216341\n",
      "[72]\tvalid_0's binary_logloss: 0.216116\n",
      "[73]\tvalid_0's binary_logloss: 0.216033\n",
      "[74]\tvalid_0's binary_logloss: 0.215986\n",
      "[75]\tvalid_0's binary_logloss: 0.216296\n",
      "[76]\tvalid_0's binary_logloss: 0.215824\n",
      "[77]\tvalid_0's binary_logloss: 0.215776\n",
      "[78]\tvalid_0's binary_logloss: 0.215926\n",
      "[79]\tvalid_0's binary_logloss: 0.215485\n",
      "[80]\tvalid_0's binary_logloss: 0.215355\n",
      "[81]\tvalid_0's binary_logloss: 0.21572\n",
      "[82]\tvalid_0's binary_logloss: 0.215829\n",
      "[83]\tvalid_0's binary_logloss: 0.215988\n",
      "[84]\tvalid_0's binary_logloss: 0.21603\n",
      "evaluating on the training set...\n",
      "fitting HMM smoother...\n",
      "fitting forward-backward smoother...\n"
     ]
    },
    {
     "name": "stderr",
     "output_type": "stream",
     "text": [
      "/home/roton/miniconda3/envs/mars/lib/python3.7/site-packages/sklearn/utils/validation.py:70: FutureWarning: Pass threshold=0.5 as keyword args. From version 0.25 passing these as positional arguments will result in an error\n",
      "  FutureWarning)\n"
     ]
    },
    {
     "name": "stdout",
     "output_type": "stream",
     "text": [
      "HMM label smoothing training took 0.16 mins\n",
      "performance on training set:\n",
      "P: 0.8900, R: 0.8968, F1: 0.8934    investigation\n",
      "done training!\n",
      "complete training took 4.94 mins\n",
      "loading test data...\n"
     ]
    },
    {
     "name": "stderr",
     "output_type": "stream",
     "text": [
      "Filtering sequence 0/27    0% --  [Elapsed Time: 0:00:00] |  | (ETA:  --:--:--) \r"
     ]
    },
    {
     "name": "stdout",
     "output_type": "stream",
     "text": [
      "sorting features and applying filters...\n"
     ]
    },
    {
     "name": "stderr",
     "output_type": "stream",
     "text": [
      "Filtering sequence 27/27  100% --  [Elapsed Time: 0:04:51] |##| (Time: 0:04:51) \n"
     ]
    },
    {
     "name": "stdout",
     "output_type": "stream",
     "text": [
      "done!\n",
      "\n",
      "loaded test data: 364826 X 3408 - ['investigation'] \n",
      "loading classifiers from /media/storage/ryan/mabe_challenge/behavior/trained_classifiers/mabe_challenge_lgt_es20_wnd/\n",
      "n_classes = 4\n",
      "{'attack': 0, 'investigation': 1, 'mount': 2, 'other': 3}\n",
      "predicting investigation...\n",
      "inference took 58.56 sec\n",
      " \n",
      "Classifier performance:\n"
     ]
    },
    {
     "name": "stderr",
     "output_type": "stream",
     "text": [
      "/home/roton/miniconda3/envs/mars/lib/python3.7/site-packages/sklearn/metrics/_classification.py:1221: UndefinedMetricWarning: Precision and F-score are ill-defined and being set to 0.0 in labels with no predicted samples. Use `zero_division` parameter to control this behavior.\n",
      "  _warn_prf(average, modifier, msg_start, len(result))\n",
      "/home/roton/miniconda3/envs/mars/lib/python3.7/site-packages/sklearn/metrics/_classification.py:1221: UndefinedMetricWarning: Recall and F-score are ill-defined and being set to 0.0 in labels with no true samples. Use `zero_division` parameter to control this behavior.\n",
      "  _warn_prf(average, modifier, msg_start, len(result))\n"
     ]
    },
    {
     "name": "stdout",
     "output_type": "stream",
     "text": [
      "              attack   investigation   other    \n",
      "  Precision:    0.0      0.83       0.0     \n",
      "     Recall:    0.0      0.845      0.0     \n",
      "   F1 Score:    0.0      0.837      0.0     \n",
      "Loop: 11\n",
      "val set size: 42438\n",
      "training set size: 379455.0\n",
      "loading training data...\n"
     ]
    },
    {
     "name": "stderr",
     "output_type": "stream",
     "text": [
      "Filtering sequence 0/55    0% --  [Elapsed Time: 0:00:00] |  | (ETA:  --:--:--) \r"
     ]
    },
    {
     "name": "stdout",
     "output_type": "stream",
     "text": [
      "sorting features and applying filters...\n"
     ]
    },
    {
     "name": "stderr",
     "output_type": "stream",
     "text": [
      "Filtering sequence 55/55  100% --  [Elapsed Time: 0:05:03] |##| (Time: 0:05:03) \n"
     ]
    },
    {
     "name": "stdout",
     "output_type": "stream",
     "text": [
      "done!\n",
      "\n",
      "loading validation data...\n"
     ]
    },
    {
     "name": "stderr",
     "output_type": "stream",
     "text": [
      "Filtering sequence 0/6    0% --  [Elapsed Time: 0:00:00] |   | (ETA:  --:--:--) \r"
     ]
    },
    {
     "name": "stdout",
     "output_type": "stream",
     "text": [
      "sorting features and applying filters...\n"
     ]
    },
    {
     "name": "stderr",
     "output_type": "stream",
     "text": [
      "Filtering sequence 6/6  100% --  [Elapsed Time: 0:00:32] |####| (Time: 0:00:32) \n"
     ]
    },
    {
     "name": "stdout",
     "output_type": "stream",
     "text": [
      "done!\n",
      "\n",
      "loaded training data: 379455 X 3408 - ['investigation'] \n",
      "Training classifier: MABE_CHALLENGE_LGT_ES20_WND/\n",
      "######################### investigation #########################\n",
      "training using 109115 positive frames (1411 bouts)\n",
      "fitting preprocessing parameters...\n",
      "fitting clf for investigation\n",
      "    training set: 109115 positive / 379455 total (28 %)\n",
      "    eval set: 9349 positive / 42438 total (22 %)\n",
      "  + early stopping\n"
     ]
    },
    {
     "name": "stderr",
     "output_type": "stream",
     "text": [
      "/home/roton/miniconda3/envs/mars/lib/python3.7/site-packages/lightgbm/sklearn.py:726: UserWarning: 'early_stopping_rounds' argument is deprecated and will be removed in a future release of LightGBM. Pass 'early_stopping()' callback via 'callbacks' argument instead.\n",
      "  _log_warning(\"'early_stopping_rounds' argument is deprecated and will be removed in a future release of LightGBM. \"\n",
      "/home/roton/miniconda3/envs/mars/lib/python3.7/site-packages/lightgbm/sklearn.py:736: UserWarning: 'verbose' argument is deprecated and will be removed in a future release of LightGBM. Pass 'log_evaluation()' callback via 'callbacks' argument instead.\n",
      "  _log_warning(\"'verbose' argument is deprecated and will be removed in a future release of LightGBM. \"\n"
     ]
    },
    {
     "name": "stdout",
     "output_type": "stream",
     "text": [
      "[1]\tvalid_0's binary_logloss: 0.489954\n",
      "[2]\tvalid_0's binary_logloss: 0.45067\n",
      "[3]\tvalid_0's binary_logloss: 0.419618\n",
      "[4]\tvalid_0's binary_logloss: 0.393865\n",
      "[5]\tvalid_0's binary_logloss: 0.372503\n",
      "[6]\tvalid_0's binary_logloss: 0.35424\n",
      "[7]\tvalid_0's binary_logloss: 0.337791\n",
      "[8]\tvalid_0's binary_logloss: 0.324155\n",
      "[9]\tvalid_0's binary_logloss: 0.311795\n",
      "[10]\tvalid_0's binary_logloss: 0.301336\n",
      "[11]\tvalid_0's binary_logloss: 0.291506\n",
      "[12]\tvalid_0's binary_logloss: 0.283612\n",
      "[13]\tvalid_0's binary_logloss: 0.275952\n",
      "[14]\tvalid_0's binary_logloss: 0.270186\n",
      "[15]\tvalid_0's binary_logloss: 0.265256\n",
      "[16]\tvalid_0's binary_logloss: 0.26068\n",
      "[17]\tvalid_0's binary_logloss: 0.25689\n",
      "[18]\tvalid_0's binary_logloss: 0.252713\n",
      "[19]\tvalid_0's binary_logloss: 0.249692\n",
      "[20]\tvalid_0's binary_logloss: 0.246717\n",
      "[21]\tvalid_0's binary_logloss: 0.24506\n",
      "[22]\tvalid_0's binary_logloss: 0.242924\n",
      "[23]\tvalid_0's binary_logloss: 0.24007\n",
      "[24]\tvalid_0's binary_logloss: 0.237654\n",
      "[25]\tvalid_0's binary_logloss: 0.235352\n",
      "[26]\tvalid_0's binary_logloss: 0.234318\n",
      "[27]\tvalid_0's binary_logloss: 0.233093\n",
      "[28]\tvalid_0's binary_logloss: 0.231697\n",
      "[29]\tvalid_0's binary_logloss: 0.230321\n",
      "[30]\tvalid_0's binary_logloss: 0.229377\n",
      "[31]\tvalid_0's binary_logloss: 0.228444\n",
      "[32]\tvalid_0's binary_logloss: 0.22789\n",
      "[33]\tvalid_0's binary_logloss: 0.22778\n",
      "[34]\tvalid_0's binary_logloss: 0.227858\n",
      "[35]\tvalid_0's binary_logloss: 0.227357\n",
      "[36]\tvalid_0's binary_logloss: 0.226974\n",
      "[37]\tvalid_0's binary_logloss: 0.227035\n",
      "[38]\tvalid_0's binary_logloss: 0.226094\n",
      "[39]\tvalid_0's binary_logloss: 0.226763\n",
      "[40]\tvalid_0's binary_logloss: 0.226014\n",
      "[41]\tvalid_0's binary_logloss: 0.225125\n",
      "[42]\tvalid_0's binary_logloss: 0.225288\n",
      "[43]\tvalid_0's binary_logloss: 0.225028\n",
      "[44]\tvalid_0's binary_logloss: 0.225252\n",
      "[45]\tvalid_0's binary_logloss: 0.224648\n",
      "[46]\tvalid_0's binary_logloss: 0.224636\n",
      "[47]\tvalid_0's binary_logloss: 0.22416\n",
      "[48]\tvalid_0's binary_logloss: 0.225098\n",
      "[49]\tvalid_0's binary_logloss: 0.22524\n",
      "[50]\tvalid_0's binary_logloss: 0.225402\n",
      "[51]\tvalid_0's binary_logloss: 0.225695\n",
      "[52]\tvalid_0's binary_logloss: 0.22523\n",
      "[53]\tvalid_0's binary_logloss: 0.225306\n",
      "[54]\tvalid_0's binary_logloss: 0.225424\n",
      "[55]\tvalid_0's binary_logloss: 0.225614\n",
      "[56]\tvalid_0's binary_logloss: 0.22565\n",
      "[57]\tvalid_0's binary_logloss: 0.226753\n",
      "[58]\tvalid_0's binary_logloss: 0.226591\n",
      "[59]\tvalid_0's binary_logloss: 0.225402\n",
      "[60]\tvalid_0's binary_logloss: 0.225562\n",
      "[61]\tvalid_0's binary_logloss: 0.225758\n",
      "[62]\tvalid_0's binary_logloss: 0.226308\n",
      "[63]\tvalid_0's binary_logloss: 0.226363\n",
      "[64]\tvalid_0's binary_logloss: 0.226192\n",
      "[65]\tvalid_0's binary_logloss: 0.227979\n",
      "[66]\tvalid_0's binary_logloss: 0.226423\n",
      "[67]\tvalid_0's binary_logloss: 0.226668\n",
      "evaluating on the training set...\n",
      "fitting HMM smoother...\n",
      "fitting forward-backward smoother...\n"
     ]
    },
    {
     "name": "stderr",
     "output_type": "stream",
     "text": [
      "/home/roton/miniconda3/envs/mars/lib/python3.7/site-packages/sklearn/utils/validation.py:70: FutureWarning: Pass threshold=0.5 as keyword args. From version 0.25 passing these as positional arguments will result in an error\n",
      "  FutureWarning)\n"
     ]
    },
    {
     "name": "stdout",
     "output_type": "stream",
     "text": [
      "HMM label smoothing training took 0.14 mins\n",
      "performance on training set:\n",
      "P: 0.8831, R: 0.8954, F1: 0.8893    investigation\n",
      "done training!\n",
      "complete training took 5.14 mins\n",
      "loading test data...\n"
     ]
    },
    {
     "name": "stderr",
     "output_type": "stream",
     "text": [
      "Filtering sequence 0/27    0% --  [Elapsed Time: 0:00:00] |  | (ETA:  --:--:--) \r"
     ]
    },
    {
     "name": "stdout",
     "output_type": "stream",
     "text": [
      "sorting features and applying filters...\n"
     ]
    },
    {
     "name": "stderr",
     "output_type": "stream",
     "text": [
      "Filtering sequence 27/27  100% --  [Elapsed Time: 0:04:52] |##| (Time: 0:04:52) \n"
     ]
    },
    {
     "name": "stdout",
     "output_type": "stream",
     "text": [
      "done!\n",
      "\n",
      "loaded test data: 364826 X 3408 - ['investigation'] \n",
      "loading classifiers from /media/storage/ryan/mabe_challenge/behavior/trained_classifiers/mabe_challenge_lgt_es20_wnd/\n",
      "n_classes = 4\n",
      "{'attack': 0, 'investigation': 1, 'mount': 2, 'other': 3}\n",
      "predicting investigation...\n",
      "inference took 57.40 sec\n",
      " \n",
      "Classifier performance:\n"
     ]
    },
    {
     "name": "stderr",
     "output_type": "stream",
     "text": [
      "/home/roton/miniconda3/envs/mars/lib/python3.7/site-packages/sklearn/metrics/_classification.py:1221: UndefinedMetricWarning: Precision and F-score are ill-defined and being set to 0.0 in labels with no predicted samples. Use `zero_division` parameter to control this behavior.\n",
      "  _warn_prf(average, modifier, msg_start, len(result))\n",
      "/home/roton/miniconda3/envs/mars/lib/python3.7/site-packages/sklearn/metrics/_classification.py:1221: UndefinedMetricWarning: Recall and F-score are ill-defined and being set to 0.0 in labels with no true samples. Use `zero_division` parameter to control this behavior.\n",
      "  _warn_prf(average, modifier, msg_start, len(result))\n"
     ]
    },
    {
     "name": "stdout",
     "output_type": "stream",
     "text": [
      "              attack   investigation   other    \n",
      "  Precision:    0.0      0.828      0.0     \n",
      "     Recall:    0.0      0.838      0.0     \n",
      "   F1 Score:    0.0      0.833      0.0     \n",
      "Loop: 12\n",
      "val set size: 51104\n",
      "training set size: 421562.0\n",
      "loading training data...\n"
     ]
    },
    {
     "name": "stderr",
     "output_type": "stream",
     "text": [
      "Filtering sequence 0/59    0% --  [Elapsed Time: 0:00:00] |  | (ETA:  --:--:--) \r"
     ]
    },
    {
     "name": "stdout",
     "output_type": "stream",
     "text": [
      "sorting features and applying filters...\n"
     ]
    },
    {
     "name": "stderr",
     "output_type": "stream",
     "text": [
      "Filtering sequence 59/59  100% --  [Elapsed Time: 0:05:37] |##| (Time: 0:05:37) \n"
     ]
    },
    {
     "name": "stdout",
     "output_type": "stream",
     "text": [
      "done!\n",
      "\n",
      "loading validation data...\n"
     ]
    },
    {
     "name": "stderr",
     "output_type": "stream",
     "text": [
      "Filtering sequence 0/7    0% --  [Elapsed Time: 0:00:00] |   | (ETA:  --:--:--) \r"
     ]
    },
    {
     "name": "stdout",
     "output_type": "stream",
     "text": [
      "sorting features and applying filters...\n"
     ]
    },
    {
     "name": "stderr",
     "output_type": "stream",
     "text": [
      "Filtering sequence 7/7  100% --  [Elapsed Time: 0:00:39] |####| (Time: 0:00:39) \n"
     ]
    },
    {
     "name": "stdout",
     "output_type": "stream",
     "text": [
      "done!\n",
      "\n",
      "loaded training data: 421562 X 3408 - ['investigation'] \n",
      "Training classifier: MABE_CHALLENGE_LGT_ES20_WND/\n",
      "######################### investigation #########################\n",
      "training using 119782 positive frames (1557 bouts)\n",
      "fitting preprocessing parameters...\n",
      "fitting clf for investigation\n",
      "    training set: 119782 positive / 421562 total (28 %)\n",
      "    eval set: 12639 positive / 51104 total (24 %)\n",
      "  + early stopping\n"
     ]
    },
    {
     "name": "stderr",
     "output_type": "stream",
     "text": [
      "/home/roton/miniconda3/envs/mars/lib/python3.7/site-packages/lightgbm/sklearn.py:726: UserWarning: 'early_stopping_rounds' argument is deprecated and will be removed in a future release of LightGBM. Pass 'early_stopping()' callback via 'callbacks' argument instead.\n",
      "  _log_warning(\"'early_stopping_rounds' argument is deprecated and will be removed in a future release of LightGBM. \"\n",
      "/home/roton/miniconda3/envs/mars/lib/python3.7/site-packages/lightgbm/sklearn.py:736: UserWarning: 'verbose' argument is deprecated and will be removed in a future release of LightGBM. Pass 'log_evaluation()' callback via 'callbacks' argument instead.\n",
      "  _log_warning(\"'verbose' argument is deprecated and will be removed in a future release of LightGBM. \"\n"
     ]
    },
    {
     "name": "stdout",
     "output_type": "stream",
     "text": [
      "[1]\tvalid_0's binary_logloss: 0.508268\n",
      "[2]\tvalid_0's binary_logloss: 0.465403\n",
      "[3]\tvalid_0's binary_logloss: 0.431355\n",
      "[4]\tvalid_0's binary_logloss: 0.402719\n",
      "[5]\tvalid_0's binary_logloss: 0.378651\n",
      "[6]\tvalid_0's binary_logloss: 0.35904\n",
      "[7]\tvalid_0's binary_logloss: 0.341196\n",
      "[8]\tvalid_0's binary_logloss: 0.327422\n",
      "[9]\tvalid_0's binary_logloss: 0.313416\n",
      "[10]\tvalid_0's binary_logloss: 0.301735\n",
      "[11]\tvalid_0's binary_logloss: 0.291591\n",
      "[12]\tvalid_0's binary_logloss: 0.282734\n",
      "[13]\tvalid_0's binary_logloss: 0.275035\n",
      "[14]\tvalid_0's binary_logloss: 0.268282\n",
      "[15]\tvalid_0's binary_logloss: 0.262178\n",
      "[16]\tvalid_0's binary_logloss: 0.256993\n",
      "[17]\tvalid_0's binary_logloss: 0.252161\n",
      "[18]\tvalid_0's binary_logloss: 0.248298\n",
      "[19]\tvalid_0's binary_logloss: 0.244763\n",
      "[20]\tvalid_0's binary_logloss: 0.241542\n",
      "[21]\tvalid_0's binary_logloss: 0.238924\n",
      "[22]\tvalid_0's binary_logloss: 0.235472\n",
      "[23]\tvalid_0's binary_logloss: 0.233589\n",
      "[24]\tvalid_0's binary_logloss: 0.231475\n",
      "[25]\tvalid_0's binary_logloss: 0.229844\n",
      "[26]\tvalid_0's binary_logloss: 0.227916\n",
      "[27]\tvalid_0's binary_logloss: 0.226906\n",
      "[28]\tvalid_0's binary_logloss: 0.225699\n",
      "[29]\tvalid_0's binary_logloss: 0.224257\n",
      "[30]\tvalid_0's binary_logloss: 0.223617\n",
      "[31]\tvalid_0's binary_logloss: 0.222753\n",
      "[32]\tvalid_0's binary_logloss: 0.221198\n",
      "[33]\tvalid_0's binary_logloss: 0.222293\n",
      "[34]\tvalid_0's binary_logloss: 0.221666\n",
      "[35]\tvalid_0's binary_logloss: 0.220649\n",
      "[36]\tvalid_0's binary_logloss: 0.220252\n",
      "[37]\tvalid_0's binary_logloss: 0.219545\n",
      "[38]\tvalid_0's binary_logloss: 0.218823\n",
      "[39]\tvalid_0's binary_logloss: 0.218671\n",
      "[40]\tvalid_0's binary_logloss: 0.218905\n",
      "[41]\tvalid_0's binary_logloss: 0.21875\n",
      "[42]\tvalid_0's binary_logloss: 0.218112\n",
      "[43]\tvalid_0's binary_logloss: 0.21767\n",
      "[44]\tvalid_0's binary_logloss: 0.217731\n",
      "[45]\tvalid_0's binary_logloss: 0.217617\n",
      "[46]\tvalid_0's binary_logloss: 0.217207\n",
      "[47]\tvalid_0's binary_logloss: 0.217247\n",
      "[48]\tvalid_0's binary_logloss: 0.217608\n",
      "[49]\tvalid_0's binary_logloss: 0.217659\n",
      "[50]\tvalid_0's binary_logloss: 0.218844\n",
      "[51]\tvalid_0's binary_logloss: 0.218791\n",
      "[52]\tvalid_0's binary_logloss: 0.219211\n",
      "[53]\tvalid_0's binary_logloss: 0.218973\n",
      "[54]\tvalid_0's binary_logloss: 0.218885\n",
      "[55]\tvalid_0's binary_logloss: 0.218767\n",
      "[56]\tvalid_0's binary_logloss: 0.21844\n",
      "[57]\tvalid_0's binary_logloss: 0.218795\n",
      "[58]\tvalid_0's binary_logloss: 0.21872\n",
      "[59]\tvalid_0's binary_logloss: 0.218383\n",
      "[60]\tvalid_0's binary_logloss: 0.218562\n",
      "[61]\tvalid_0's binary_logloss: 0.219362\n",
      "[62]\tvalid_0's binary_logloss: 0.219337\n",
      "[63]\tvalid_0's binary_logloss: 0.219645\n",
      "[64]\tvalid_0's binary_logloss: 0.219661\n",
      "[65]\tvalid_0's binary_logloss: 0.219749\n",
      "[66]\tvalid_0's binary_logloss: 0.219821\n",
      "evaluating on the training set...\n",
      "fitting HMM smoother...\n",
      "fitting forward-backward smoother...\n"
     ]
    },
    {
     "name": "stderr",
     "output_type": "stream",
     "text": [
      "/home/roton/miniconda3/envs/mars/lib/python3.7/site-packages/sklearn/utils/validation.py:70: FutureWarning: Pass threshold=0.5 as keyword args. From version 0.25 passing these as positional arguments will result in an error\n",
      "  FutureWarning)\n"
     ]
    },
    {
     "name": "stdout",
     "output_type": "stream",
     "text": [
      "HMM label smoothing training took 0.20 mins\n",
      "performance on training set:\n",
      "P: 0.8849, R: 0.8960, F1: 0.8904    investigation\n",
      "done training!\n",
      "complete training took 5.58 mins\n",
      "loading test data...\n"
     ]
    },
    {
     "name": "stderr",
     "output_type": "stream",
     "text": [
      "Filtering sequence 0/27    0% --  [Elapsed Time: 0:00:00] |  | (ETA:  --:--:--) \r"
     ]
    },
    {
     "name": "stdout",
     "output_type": "stream",
     "text": [
      "sorting features and applying filters...\n"
     ]
    },
    {
     "name": "stderr",
     "output_type": "stream",
     "text": [
      "Filtering sequence 27/27  100% --  [Elapsed Time: 0:05:01] |##| (Time: 0:05:01) \n"
     ]
    },
    {
     "name": "stdout",
     "output_type": "stream",
     "text": [
      "done!\n",
      "\n",
      "loaded test data: 364826 X 3408 - ['investigation'] \n",
      "loading classifiers from /media/storage/ryan/mabe_challenge/behavior/trained_classifiers/mabe_challenge_lgt_es20_wnd/\n",
      "n_classes = 4\n",
      "{'attack': 0, 'investigation': 1, 'mount': 2, 'other': 3}\n",
      "predicting investigation...\n",
      "inference took 58.84 sec\n",
      " \n",
      "Classifier performance:\n"
     ]
    },
    {
     "name": "stderr",
     "output_type": "stream",
     "text": [
      "/home/roton/miniconda3/envs/mars/lib/python3.7/site-packages/sklearn/metrics/_classification.py:1221: UndefinedMetricWarning: Precision and F-score are ill-defined and being set to 0.0 in labels with no predicted samples. Use `zero_division` parameter to control this behavior.\n",
      "  _warn_prf(average, modifier, msg_start, len(result))\n",
      "/home/roton/miniconda3/envs/mars/lib/python3.7/site-packages/sklearn/metrics/_classification.py:1221: UndefinedMetricWarning: Recall and F-score are ill-defined and being set to 0.0 in labels with no true samples. Use `zero_division` parameter to control this behavior.\n",
      "  _warn_prf(average, modifier, msg_start, len(result))\n"
     ]
    },
    {
     "name": "stdout",
     "output_type": "stream",
     "text": [
      "              attack   investigation   other    \n",
      "  Precision:    0.0      0.849      0.0     \n",
      "     Recall:    0.0      0.842      0.0     \n",
      "   F1 Score:    0.0      0.845      0.0     \n",
      "Loop: 13\n",
      "val set size: 51104\n",
      "training set size: 456634.0\n",
      "loading training data...\n"
     ]
    },
    {
     "name": "stderr",
     "output_type": "stream",
     "text": [
      "Filtering sequence 0/63    0% --  [Elapsed Time: 0:00:00] |  | (ETA:  --:--:--) \r"
     ]
    },
    {
     "name": "stdout",
     "output_type": "stream",
     "text": [
      "sorting features and applying filters...\n"
     ]
    },
    {
     "name": "stderr",
     "output_type": "stream",
     "text": [
      "Filtering sequence 63/63  100% --  [Elapsed Time: 0:06:13] |##| (Time: 0:06:13) \n"
     ]
    },
    {
     "name": "stdout",
     "output_type": "stream",
     "text": [
      "done!\n",
      "\n",
      "loading validation data...\n"
     ]
    },
    {
     "name": "stderr",
     "output_type": "stream",
     "text": [
      "Filtering sequence 0/7    0% --  [Elapsed Time: 0:00:00] |   | (ETA:  --:--:--) \r"
     ]
    },
    {
     "name": "stdout",
     "output_type": "stream",
     "text": [
      "sorting features and applying filters...\n"
     ]
    },
    {
     "name": "stderr",
     "output_type": "stream",
     "text": [
      "Filtering sequence 7/7  100% --  [Elapsed Time: 0:00:42] |####| (Time: 0:00:42) \n"
     ]
    },
    {
     "name": "stdout",
     "output_type": "stream",
     "text": [
      "done!\n",
      "\n",
      "loaded training data: 456634 X 3408 - ['investigation'] \n",
      "Training classifier: MABE_CHALLENGE_LGT_ES20_WND/\n",
      "######################### investigation #########################\n",
      "training using 133984 positive frames (1689 bouts)\n",
      "fitting preprocessing parameters...\n",
      "fitting clf for investigation\n",
      "    training set: 133984 positive / 456634 total (29 %)\n",
      "    eval set: 12639 positive / 51104 total (24 %)\n",
      "  + early stopping\n"
     ]
    },
    {
     "name": "stderr",
     "output_type": "stream",
     "text": [
      "/home/roton/miniconda3/envs/mars/lib/python3.7/site-packages/lightgbm/sklearn.py:726: UserWarning: 'early_stopping_rounds' argument is deprecated and will be removed in a future release of LightGBM. Pass 'early_stopping()' callback via 'callbacks' argument instead.\n",
      "  _log_warning(\"'early_stopping_rounds' argument is deprecated and will be removed in a future release of LightGBM. \"\n",
      "/home/roton/miniconda3/envs/mars/lib/python3.7/site-packages/lightgbm/sklearn.py:736: UserWarning: 'verbose' argument is deprecated and will be removed in a future release of LightGBM. Pass 'log_evaluation()' callback via 'callbacks' argument instead.\n",
      "  _log_warning(\"'verbose' argument is deprecated and will be removed in a future release of LightGBM. \"\n"
     ]
    },
    {
     "name": "stdout",
     "output_type": "stream",
     "text": [
      "[1]\tvalid_0's binary_logloss: 0.510889\n",
      "[2]\tvalid_0's binary_logloss: 0.46792\n",
      "[3]\tvalid_0's binary_logloss: 0.43374\n",
      "[4]\tvalid_0's binary_logloss: 0.405811\n",
      "[5]\tvalid_0's binary_logloss: 0.38102\n",
      "[6]\tvalid_0's binary_logloss: 0.360046\n",
      "[7]\tvalid_0's binary_logloss: 0.342389\n",
      "[8]\tvalid_0's binary_logloss: 0.326995\n",
      "[9]\tvalid_0's binary_logloss: 0.313199\n",
      "[10]\tvalid_0's binary_logloss: 0.301519\n",
      "[11]\tvalid_0's binary_logloss: 0.291628\n",
      "[12]\tvalid_0's binary_logloss: 0.282553\n",
      "[13]\tvalid_0's binary_logloss: 0.274538\n",
      "[14]\tvalid_0's binary_logloss: 0.26736\n",
      "[15]\tvalid_0's binary_logloss: 0.26157\n",
      "[16]\tvalid_0's binary_logloss: 0.256203\n",
      "[17]\tvalid_0's binary_logloss: 0.251458\n",
      "[18]\tvalid_0's binary_logloss: 0.24761\n",
      "[19]\tvalid_0's binary_logloss: 0.244349\n",
      "[20]\tvalid_0's binary_logloss: 0.241332\n",
      "[21]\tvalid_0's binary_logloss: 0.238007\n",
      "[22]\tvalid_0's binary_logloss: 0.235684\n",
      "[23]\tvalid_0's binary_logloss: 0.233624\n",
      "[24]\tvalid_0's binary_logloss: 0.231054\n",
      "[25]\tvalid_0's binary_logloss: 0.229137\n",
      "[26]\tvalid_0's binary_logloss: 0.226686\n",
      "[27]\tvalid_0's binary_logloss: 0.225239\n",
      "[28]\tvalid_0's binary_logloss: 0.223613\n",
      "[29]\tvalid_0's binary_logloss: 0.22213\n",
      "[30]\tvalid_0's binary_logloss: 0.221124\n",
      "[31]\tvalid_0's binary_logloss: 0.220388\n",
      "[32]\tvalid_0's binary_logloss: 0.219662\n",
      "[33]\tvalid_0's binary_logloss: 0.218469\n",
      "[34]\tvalid_0's binary_logloss: 0.218068\n",
      "[35]\tvalid_0's binary_logloss: 0.217613\n",
      "[36]\tvalid_0's binary_logloss: 0.217194\n",
      "[37]\tvalid_0's binary_logloss: 0.217461\n",
      "[38]\tvalid_0's binary_logloss: 0.217582\n",
      "[39]\tvalid_0's binary_logloss: 0.216655\n",
      "[40]\tvalid_0's binary_logloss: 0.21612\n",
      "[41]\tvalid_0's binary_logloss: 0.215859\n",
      "[42]\tvalid_0's binary_logloss: 0.216047\n",
      "[43]\tvalid_0's binary_logloss: 0.216236\n",
      "[44]\tvalid_0's binary_logloss: 0.215828\n",
      "[45]\tvalid_0's binary_logloss: 0.215438\n",
      "[46]\tvalid_0's binary_logloss: 0.21583\n",
      "[47]\tvalid_0's binary_logloss: 0.215983\n",
      "[48]\tvalid_0's binary_logloss: 0.215606\n",
      "[49]\tvalid_0's binary_logloss: 0.215807\n",
      "[50]\tvalid_0's binary_logloss: 0.215219\n",
      "[51]\tvalid_0's binary_logloss: 0.215081\n",
      "[52]\tvalid_0's binary_logloss: 0.214714\n",
      "[53]\tvalid_0's binary_logloss: 0.214456\n",
      "[54]\tvalid_0's binary_logloss: 0.214242\n",
      "[55]\tvalid_0's binary_logloss: 0.214186\n",
      "[56]\tvalid_0's binary_logloss: 0.214349\n",
      "[57]\tvalid_0's binary_logloss: 0.214464\n",
      "[58]\tvalid_0's binary_logloss: 0.214697\n",
      "[59]\tvalid_0's binary_logloss: 0.214693\n",
      "[60]\tvalid_0's binary_logloss: 0.214921\n",
      "[61]\tvalid_0's binary_logloss: 0.214775\n",
      "[62]\tvalid_0's binary_logloss: 0.214914\n",
      "[63]\tvalid_0's binary_logloss: 0.214834\n",
      "[64]\tvalid_0's binary_logloss: 0.214864\n",
      "[65]\tvalid_0's binary_logloss: 0.215\n",
      "[66]\tvalid_0's binary_logloss: 0.215003\n",
      "[67]\tvalid_0's binary_logloss: 0.215578\n",
      "[68]\tvalid_0's binary_logloss: 0.215741\n",
      "[69]\tvalid_0's binary_logloss: 0.215778\n",
      "[70]\tvalid_0's binary_logloss: 0.216748\n",
      "[71]\tvalid_0's binary_logloss: 0.216684\n",
      "[72]\tvalid_0's binary_logloss: 0.216362\n",
      "[73]\tvalid_0's binary_logloss: 0.216895\n",
      "[74]\tvalid_0's binary_logloss: 0.217066\n",
      "[75]\tvalid_0's binary_logloss: 0.217299\n",
      "evaluating on the training set...\n",
      "fitting HMM smoother...\n",
      "fitting forward-backward smoother...\n"
     ]
    },
    {
     "name": "stderr",
     "output_type": "stream",
     "text": [
      "/home/roton/miniconda3/envs/mars/lib/python3.7/site-packages/sklearn/utils/validation.py:70: FutureWarning: Pass threshold=0.5 as keyword args. From version 0.25 passing these as positional arguments will result in an error\n",
      "  FutureWarning)\n"
     ]
    },
    {
     "name": "stdout",
     "output_type": "stream",
     "text": [
      "HMM label smoothing training took 0.23 mins\n",
      "performance on training set:\n",
      "P: 0.8925, R: 0.9062, F1: 0.8993    investigation\n",
      "done training!\n",
      "complete training took 5.85 mins\n",
      "loading test data...\n"
     ]
    },
    {
     "name": "stderr",
     "output_type": "stream",
     "text": [
      "Filtering sequence 0/27    0% --  [Elapsed Time: 0:00:00] |  | (ETA:  --:--:--) \r"
     ]
    },
    {
     "name": "stdout",
     "output_type": "stream",
     "text": [
      "sorting features and applying filters...\n"
     ]
    },
    {
     "name": "stderr",
     "output_type": "stream",
     "text": [
      "Filtering sequence 27/27  100% --  [Elapsed Time: 0:05:01] |##| (Time: 0:05:01) \n"
     ]
    },
    {
     "name": "stdout",
     "output_type": "stream",
     "text": [
      "done!\n",
      "\n",
      "loaded test data: 364826 X 3408 - ['investigation'] \n",
      "loading classifiers from /media/storage/ryan/mabe_challenge/behavior/trained_classifiers/mabe_challenge_lgt_es20_wnd/\n",
      "n_classes = 4\n",
      "{'attack': 0, 'investigation': 1, 'mount': 2, 'other': 3}\n",
      "predicting investigation...\n",
      "inference took 59.28 sec\n",
      " \n",
      "Classifier performance:\n",
      "              attack   investigation   other    \n",
      "  Precision:    0.0      0.85       0.0     \n",
      "     Recall:    0.0      0.84       0.0     \n",
      "   F1 Score:    0.0      0.845      0.0     \n"
     ]
    },
    {
     "name": "stderr",
     "output_type": "stream",
     "text": [
      "/home/roton/miniconda3/envs/mars/lib/python3.7/site-packages/sklearn/metrics/_classification.py:1221: UndefinedMetricWarning: Precision and F-score are ill-defined and being set to 0.0 in labels with no predicted samples. Use `zero_division` parameter to control this behavior.\n",
      "  _warn_prf(average, modifier, msg_start, len(result))\n",
      "/home/roton/miniconda3/envs/mars/lib/python3.7/site-packages/sklearn/metrics/_classification.py:1221: UndefinedMetricWarning: Recall and F-score are ill-defined and being set to 0.0 in labels with no true samples. Use `zero_division` parameter to control this behavior.\n",
      "  _warn_prf(average, modifier, msg_start, len(result))\n"
     ]
    },
    {
     "name": "stdout",
     "output_type": "stream",
     "text": [
      "Shuffle: 1\n",
      "Loop: 0\n",
      "val set size: 96\n",
      "training set size: 19343.0\n",
      "loading training data...\n"
     ]
    },
    {
     "name": "stderr",
     "output_type": "stream",
     "text": [
      "Filtering sequence 0/1    0% --  [Elapsed Time: 0:00:00] |   | (ETA:  --:--:--) \r"
     ]
    },
    {
     "name": "stdout",
     "output_type": "stream",
     "text": [
      "sorting features and applying filters...\n"
     ]
    },
    {
     "name": "stderr",
     "output_type": "stream",
     "text": [
      "Filtering sequence 1/1  100% --  [Elapsed Time: 0:00:16] |####| (Time: 0:00:16) \n",
      "Filtering sequence 0/1    0% --  [Elapsed Time: 0:00:00] |   | (ETA:  --:--:--) \r"
     ]
    },
    {
     "name": "stdout",
     "output_type": "stream",
     "text": [
      "done!\n",
      "\n",
      "loading validation data...\n",
      "sorting features and applying filters...\n"
     ]
    },
    {
     "name": "stderr",
     "output_type": "stream",
     "text": [
      "Filtering sequence 1/1  100% --  [Elapsed Time: 0:00:00] |####| (Time: 0:00:00) \n"
     ]
    },
    {
     "name": "stdout",
     "output_type": "stream",
     "text": [
      "done!\n",
      "\n",
      "loaded training data: 19343 X 3408 - ['investigation'] \n",
      "Training classifier: MABE_CHALLENGE_LGT_ES20_WND/\n",
      "######################### investigation #########################\n",
      "training using 4402 positive frames (125 bouts)\n",
      "fitting preprocessing parameters...\n",
      "fitting clf for investigation\n",
      "    training set: 4402 positive / 19343 total (22 %)\n",
      "    eval set: 0 positive / 96 total (0 %)\n",
      "  + early stopping\n"
     ]
    },
    {
     "name": "stderr",
     "output_type": "stream",
     "text": [
      "/home/roton/miniconda3/envs/mars/lib/python3.7/site-packages/lightgbm/sklearn.py:726: UserWarning: 'early_stopping_rounds' argument is deprecated and will be removed in a future release of LightGBM. Pass 'early_stopping()' callback via 'callbacks' argument instead.\n",
      "  _log_warning(\"'early_stopping_rounds' argument is deprecated and will be removed in a future release of LightGBM. \"\n",
      "/home/roton/miniconda3/envs/mars/lib/python3.7/site-packages/lightgbm/sklearn.py:736: UserWarning: 'verbose' argument is deprecated and will be removed in a future release of LightGBM. Pass 'log_evaluation()' callback via 'callbacks' argument instead.\n",
      "  _log_warning(\"'verbose' argument is deprecated and will be removed in a future release of LightGBM. \"\n"
     ]
    },
    {
     "name": "stdout",
     "output_type": "stream",
     "text": [
      "[1]\tvalid_0's binary_logloss: 0.245684\n",
      "[2]\tvalid_0's binary_logloss: 0.228354\n",
      "[3]\tvalid_0's binary_logloss: 0.222759\n",
      "[4]\tvalid_0's binary_logloss: 0.210372\n",
      "[5]\tvalid_0's binary_logloss: 0.19184\n",
      "[6]\tvalid_0's binary_logloss: 0.181723\n",
      "[7]\tvalid_0's binary_logloss: 0.169734\n",
      "[8]\tvalid_0's binary_logloss: 0.160232\n",
      "[9]\tvalid_0's binary_logloss: 0.158807\n",
      "[10]\tvalid_0's binary_logloss: 0.147021\n",
      "[11]\tvalid_0's binary_logloss: 0.140692\n",
      "[12]\tvalid_0's binary_logloss: 0.139707\n",
      "[13]\tvalid_0's binary_logloss: 0.129045\n",
      "[14]\tvalid_0's binary_logloss: 0.133169\n",
      "[15]\tvalid_0's binary_logloss: 0.129275\n",
      "[16]\tvalid_0's binary_logloss: 0.124024\n",
      "[17]\tvalid_0's binary_logloss: 0.114535\n",
      "[18]\tvalid_0's binary_logloss: 0.10898\n",
      "[19]\tvalid_0's binary_logloss: 0.104392\n",
      "[20]\tvalid_0's binary_logloss: 0.102008\n",
      "[21]\tvalid_0's binary_logloss: 0.100705\n",
      "[22]\tvalid_0's binary_logloss: 0.105887\n",
      "[23]\tvalid_0's binary_logloss: 0.102623\n",
      "[24]\tvalid_0's binary_logloss: 0.102229\n",
      "[25]\tvalid_0's binary_logloss: 0.0981589\n",
      "[26]\tvalid_0's binary_logloss: 0.101441\n",
      "[27]\tvalid_0's binary_logloss: 0.101302\n",
      "[28]\tvalid_0's binary_logloss: 0.101013\n",
      "[29]\tvalid_0's binary_logloss: 0.100045\n",
      "[30]\tvalid_0's binary_logloss: 0.103832\n",
      "[31]\tvalid_0's binary_logloss: 0.102045\n",
      "[32]\tvalid_0's binary_logloss: 0.0997301\n",
      "[33]\tvalid_0's binary_logloss: 0.102919\n",
      "[34]\tvalid_0's binary_logloss: 0.107034\n",
      "[35]\tvalid_0's binary_logloss: 0.102935\n",
      "[36]\tvalid_0's binary_logloss: 0.101691\n",
      "[37]\tvalid_0's binary_logloss: 0.101638\n",
      "[38]\tvalid_0's binary_logloss: 0.101869\n",
      "[39]\tvalid_0's binary_logloss: 0.101239\n",
      "[40]\tvalid_0's binary_logloss: 0.0999542\n",
      "[41]\tvalid_0's binary_logloss: 0.0995414\n",
      "[42]\tvalid_0's binary_logloss: 0.0994349\n",
      "[43]\tvalid_0's binary_logloss: 0.100781\n",
      "[44]\tvalid_0's binary_logloss: 0.107218\n",
      "[45]\tvalid_0's binary_logloss: 0.107452\n",
      "evaluating on the training set...\n",
      "fitting HMM smoother...\n",
      "fitting forward-backward smoother...\n",
      "HMM label smoothing training took 0.01 mins\n",
      "performance on training set:\n",
      "P: 0.9887, R: 0.9505, F1: 0.9692    investigation\n"
     ]
    },
    {
     "name": "stderr",
     "output_type": "stream",
     "text": [
      "/home/roton/miniconda3/envs/mars/lib/python3.7/site-packages/sklearn/utils/validation.py:70: FutureWarning: Pass threshold=0.5 as keyword args. From version 0.25 passing these as positional arguments will result in an error\n",
      "  FutureWarning)\n"
     ]
    },
    {
     "name": "stdout",
     "output_type": "stream",
     "text": [
      "done training!\n",
      "complete training took 1.57 mins\n",
      "loading test data...\n"
     ]
    },
    {
     "name": "stderr",
     "output_type": "stream",
     "text": [
      "Filtering sequence 0/27    0% --  [Elapsed Time: 0:00:00] |  | (ETA:  --:--:--) \r"
     ]
    },
    {
     "name": "stdout",
     "output_type": "stream",
     "text": [
      "sorting features and applying filters...\n"
     ]
    },
    {
     "name": "stderr",
     "output_type": "stream",
     "text": [
      "Filtering sequence 27/27  100% --  [Elapsed Time: 0:04:58] |##| (Time: 0:04:58) \n"
     ]
    },
    {
     "name": "stdout",
     "output_type": "stream",
     "text": [
      "done!\n",
      "\n",
      "loaded test data: 364826 X 3408 - ['investigation'] \n",
      "loading classifiers from /media/storage/ryan/mabe_challenge/behavior/trained_classifiers/mabe_challenge_lgt_es20_wnd/\n",
      "n_classes = 4\n",
      "{'attack': 0, 'investigation': 1, 'mount': 2, 'other': 3}\n",
      "predicting investigation...\n",
      "inference took 59.20 sec\n",
      " \n",
      "Classifier performance:\n"
     ]
    },
    {
     "name": "stderr",
     "output_type": "stream",
     "text": [
      "/home/roton/miniconda3/envs/mars/lib/python3.7/site-packages/sklearn/metrics/_classification.py:1221: UndefinedMetricWarning: Precision and F-score are ill-defined and being set to 0.0 in labels with no predicted samples. Use `zero_division` parameter to control this behavior.\n",
      "  _warn_prf(average, modifier, msg_start, len(result))\n",
      "/home/roton/miniconda3/envs/mars/lib/python3.7/site-packages/sklearn/metrics/_classification.py:1221: UndefinedMetricWarning: Recall and F-score are ill-defined and being set to 0.0 in labels with no true samples. Use `zero_division` parameter to control this behavior.\n",
      "  _warn_prf(average, modifier, msg_start, len(result))\n"
     ]
    },
    {
     "name": "stdout",
     "output_type": "stream",
     "text": [
      "              attack   investigation   other    \n",
      "  Precision:    0.0      0.571      0.0     \n",
      "     Recall:    0.0      0.868      0.0     \n",
      "   F1 Score:    0.0      0.689      0.0     \n",
      "Loop: 1\n",
      "val set size: 3692\n",
      "training set size: 19343.0\n",
      "loading training data...\n"
     ]
    },
    {
     "name": "stderr",
     "output_type": "stream",
     "text": [
      "Filtering sequence 0/1    0% --  [Elapsed Time: 0:00:00] |   | (ETA:  --:--:--) \r"
     ]
    },
    {
     "name": "stdout",
     "output_type": "stream",
     "text": [
      "sorting features and applying filters...\n"
     ]
    },
    {
     "name": "stderr",
     "output_type": "stream",
     "text": [
      "Filtering sequence 1/1  100% --  [Elapsed Time: 0:00:16] |####| (Time: 0:00:16) \n"
     ]
    },
    {
     "name": "stdout",
     "output_type": "stream",
     "text": [
      "done!\n",
      "\n",
      "loading validation data...\n"
     ]
    },
    {
     "name": "stderr",
     "output_type": "stream",
     "text": [
      "Filtering sequence 0/1    0% --  [Elapsed Time: 0:00:00] |   | (ETA:  --:--:--) \r"
     ]
    },
    {
     "name": "stdout",
     "output_type": "stream",
     "text": [
      "sorting features and applying filters...\n"
     ]
    },
    {
     "name": "stderr",
     "output_type": "stream",
     "text": [
      "Filtering sequence 1/1  100% --  [Elapsed Time: 0:00:03] |####| (Time: 0:00:03) \n"
     ]
    },
    {
     "name": "stdout",
     "output_type": "stream",
     "text": [
      "done!\n",
      "\n",
      "loaded training data: 19343 X 3408 - ['investigation'] \n",
      "Training classifier: MABE_CHALLENGE_LGT_ES20_WND/\n",
      "######################### investigation #########################\n",
      "training using 4402 positive frames (125 bouts)\n",
      "fitting preprocessing parameters...\n",
      "fitting clf for investigation\n",
      "    training set: 4402 positive / 19343 total (22 %)\n",
      "    eval set: 1066 positive / 3692 total (28 %)\n",
      "  + early stopping\n"
     ]
    },
    {
     "name": "stderr",
     "output_type": "stream",
     "text": [
      "/home/roton/miniconda3/envs/mars/lib/python3.7/site-packages/lightgbm/sklearn.py:726: UserWarning: 'early_stopping_rounds' argument is deprecated and will be removed in a future release of LightGBM. Pass 'early_stopping()' callback via 'callbacks' argument instead.\n",
      "  _log_warning(\"'early_stopping_rounds' argument is deprecated and will be removed in a future release of LightGBM. \"\n",
      "/home/roton/miniconda3/envs/mars/lib/python3.7/site-packages/lightgbm/sklearn.py:736: UserWarning: 'verbose' argument is deprecated and will be removed in a future release of LightGBM. Pass 'log_evaluation()' callback via 'callbacks' argument instead.\n",
      "  _log_warning(\"'verbose' argument is deprecated and will be removed in a future release of LightGBM. \"\n"
     ]
    },
    {
     "name": "stdout",
     "output_type": "stream",
     "text": [
      "[1]\tvalid_0's binary_logloss: 0.547187\n",
      "[2]\tvalid_0's binary_logloss: 0.519547\n",
      "[3]\tvalid_0's binary_logloss: 0.489329\n",
      "[4]\tvalid_0's binary_logloss: 0.46968\n",
      "[5]\tvalid_0's binary_logloss: 0.452504\n",
      "[6]\tvalid_0's binary_logloss: 0.439797\n",
      "[7]\tvalid_0's binary_logloss: 0.432793\n",
      "[8]\tvalid_0's binary_logloss: 0.427935\n",
      "[9]\tvalid_0's binary_logloss: 0.426646\n",
      "[10]\tvalid_0's binary_logloss: 0.419433\n",
      "[11]\tvalid_0's binary_logloss: 0.41822\n",
      "[12]\tvalid_0's binary_logloss: 0.418049\n",
      "[13]\tvalid_0's binary_logloss: 0.420263\n",
      "[14]\tvalid_0's binary_logloss: 0.417779\n",
      "[15]\tvalid_0's binary_logloss: 0.416126\n",
      "[16]\tvalid_0's binary_logloss: 0.416862\n",
      "[17]\tvalid_0's binary_logloss: 0.415557\n",
      "[18]\tvalid_0's binary_logloss: 0.417979\n",
      "[19]\tvalid_0's binary_logloss: 0.417712\n",
      "[20]\tvalid_0's binary_logloss: 0.419772\n",
      "[21]\tvalid_0's binary_logloss: 0.421159\n",
      "[22]\tvalid_0's binary_logloss: 0.421949\n",
      "[23]\tvalid_0's binary_logloss: 0.425199\n",
      "[24]\tvalid_0's binary_logloss: 0.425807\n",
      "[25]\tvalid_0's binary_logloss: 0.429515\n",
      "[26]\tvalid_0's binary_logloss: 0.4318\n",
      "[27]\tvalid_0's binary_logloss: 0.434761\n",
      "[28]\tvalid_0's binary_logloss: 0.440984\n",
      "[29]\tvalid_0's binary_logloss: 0.443806\n",
      "[30]\tvalid_0's binary_logloss: 0.444742\n",
      "[31]\tvalid_0's binary_logloss: 0.450687\n",
      "[32]\tvalid_0's binary_logloss: 0.456757\n",
      "[33]\tvalid_0's binary_logloss: 0.459215\n",
      "[34]\tvalid_0's binary_logloss: 0.462548\n",
      "[35]\tvalid_0's binary_logloss: 0.468765\n",
      "[36]\tvalid_0's binary_logloss: 0.474148\n",
      "[37]\tvalid_0's binary_logloss: 0.481092\n",
      "evaluating on the training set...\n",
      "fitting HMM smoother...\n",
      "fitting forward-backward smoother...\n",
      "HMM label smoothing training took 0.01 mins\n",
      "performance on training set:\n",
      "P: 0.9848, R: 0.9409, F1: 0.9624    investigation\n"
     ]
    },
    {
     "name": "stderr",
     "output_type": "stream",
     "text": [
      "/home/roton/miniconda3/envs/mars/lib/python3.7/site-packages/sklearn/utils/validation.py:70: FutureWarning: Pass threshold=0.5 as keyword args. From version 0.25 passing these as positional arguments will result in an error\n",
      "  FutureWarning)\n"
     ]
    },
    {
     "name": "stdout",
     "output_type": "stream",
     "text": [
      "done training!\n",
      "complete training took 0.51 mins\n",
      "loading test data...\n"
     ]
    },
    {
     "name": "stderr",
     "output_type": "stream",
     "text": [
      "Filtering sequence 0/27    0% --  [Elapsed Time: 0:00:00] |  | (ETA:  --:--:--) \r"
     ]
    },
    {
     "name": "stdout",
     "output_type": "stream",
     "text": [
      "sorting features and applying filters...\n"
     ]
    },
    {
     "name": "stderr",
     "output_type": "stream",
     "text": [
      "Filtering sequence 27/27  100% --  [Elapsed Time: 0:04:55] |##| (Time: 0:04:55) \n"
     ]
    },
    {
     "name": "stdout",
     "output_type": "stream",
     "text": [
      "done!\n",
      "\n",
      "loaded test data: 364826 X 3408 - ['investigation'] \n",
      "loading classifiers from /media/storage/ryan/mabe_challenge/behavior/trained_classifiers/mabe_challenge_lgt_es20_wnd/\n",
      "n_classes = 4\n",
      "{'attack': 0, 'investigation': 1, 'mount': 2, 'other': 3}\n",
      "predicting investigation...\n",
      "inference took 59.16 sec\n",
      " \n",
      "Classifier performance:\n"
     ]
    },
    {
     "name": "stderr",
     "output_type": "stream",
     "text": [
      "/home/roton/miniconda3/envs/mars/lib/python3.7/site-packages/sklearn/metrics/_classification.py:1221: UndefinedMetricWarning: Precision and F-score are ill-defined and being set to 0.0 in labels with no predicted samples. Use `zero_division` parameter to control this behavior.\n",
      "  _warn_prf(average, modifier, msg_start, len(result))\n",
      "/home/roton/miniconda3/envs/mars/lib/python3.7/site-packages/sklearn/metrics/_classification.py:1221: UndefinedMetricWarning: Recall and F-score are ill-defined and being set to 0.0 in labels with no true samples. Use `zero_division` parameter to control this behavior.\n",
      "  _warn_prf(average, modifier, msg_start, len(result))\n"
     ]
    },
    {
     "name": "stdout",
     "output_type": "stream",
     "text": [
      "              attack   investigation   other    \n",
      "  Precision:    0.0      0.576      0.0     \n",
      "     Recall:    0.0      0.84       0.0     \n",
      "   F1 Score:    0.0      0.683      0.0     \n",
      "Loop: 2\n",
      "val set size: 19343\n",
      "training set size: 18617.0\n",
      "loading training data...\n"
     ]
    },
    {
     "name": "stderr",
     "output_type": "stream",
     "text": [
      "Filtering sequence 0/1    0% --  [Elapsed Time: 0:00:00] |   | (ETA:  --:--:--) \r"
     ]
    },
    {
     "name": "stdout",
     "output_type": "stream",
     "text": [
      "sorting features and applying filters...\n"
     ]
    },
    {
     "name": "stderr",
     "output_type": "stream",
     "text": [
      "Filtering sequence 1/1  100% --  [Elapsed Time: 0:00:15] |####| (Time: 0:00:15) \n"
     ]
    },
    {
     "name": "stdout",
     "output_type": "stream",
     "text": [
      "done!\n",
      "\n",
      "loading validation data...\n"
     ]
    },
    {
     "name": "stderr",
     "output_type": "stream",
     "text": [
      "Filtering sequence 0/1    0% --  [Elapsed Time: 0:00:00] |   | (ETA:  --:--:--) \r"
     ]
    },
    {
     "name": "stdout",
     "output_type": "stream",
     "text": [
      "sorting features and applying filters...\n"
     ]
    },
    {
     "name": "stderr",
     "output_type": "stream",
     "text": [
      "Filtering sequence 1/1  100% --  [Elapsed Time: 0:00:15] |####| (Time: 0:00:15) \n"
     ]
    },
    {
     "name": "stdout",
     "output_type": "stream",
     "text": [
      "done!\n",
      "\n",
      "loaded training data: 18617 X 3408 - ['investigation'] \n",
      "Training classifier: MABE_CHALLENGE_LGT_ES20_WND/\n",
      "######################### investigation #########################\n",
      "training using 5534 positive frames (59 bouts)\n",
      "fitting preprocessing parameters...\n",
      "fitting clf for investigation\n",
      "    training set: 5534 positive / 18617 total (29 %)\n",
      "    eval set: 4402 positive / 19343 total (22 %)\n",
      "  + early stopping\n"
     ]
    },
    {
     "name": "stderr",
     "output_type": "stream",
     "text": [
      "/home/roton/miniconda3/envs/mars/lib/python3.7/site-packages/lightgbm/sklearn.py:726: UserWarning: 'early_stopping_rounds' argument is deprecated and will be removed in a future release of LightGBM. Pass 'early_stopping()' callback via 'callbacks' argument instead.\n",
      "  _log_warning(\"'early_stopping_rounds' argument is deprecated and will be removed in a future release of LightGBM. \"\n",
      "/home/roton/miniconda3/envs/mars/lib/python3.7/site-packages/lightgbm/sklearn.py:736: UserWarning: 'verbose' argument is deprecated and will be removed in a future release of LightGBM. Pass 'log_evaluation()' callback via 'callbacks' argument instead.\n",
      "  _log_warning(\"'verbose' argument is deprecated and will be removed in a future release of LightGBM. \"\n"
     ]
    },
    {
     "name": "stdout",
     "output_type": "stream",
     "text": [
      "[1]\tvalid_0's binary_logloss: 0.509704\n",
      "[2]\tvalid_0's binary_logloss: 0.4673\n",
      "[3]\tvalid_0's binary_logloss: 0.444314\n",
      "[4]\tvalid_0's binary_logloss: 0.420433\n",
      "[5]\tvalid_0's binary_logloss: 0.39554\n",
      "[6]\tvalid_0's binary_logloss: 0.374727\n",
      "[7]\tvalid_0's binary_logloss: 0.356898\n",
      "[8]\tvalid_0's binary_logloss: 0.342976\n",
      "[9]\tvalid_0's binary_logloss: 0.332101\n",
      "[10]\tvalid_0's binary_logloss: 0.32865\n",
      "[11]\tvalid_0's binary_logloss: 0.32097\n",
      "[12]\tvalid_0's binary_logloss: 0.315584\n",
      "[13]\tvalid_0's binary_logloss: 0.309286\n",
      "[14]\tvalid_0's binary_logloss: 0.30492\n",
      "[15]\tvalid_0's binary_logloss: 0.300449\n",
      "[16]\tvalid_0's binary_logloss: 0.296588\n",
      "[17]\tvalid_0's binary_logloss: 0.294615\n",
      "[18]\tvalid_0's binary_logloss: 0.295682\n",
      "[19]\tvalid_0's binary_logloss: 0.294146\n",
      "[20]\tvalid_0's binary_logloss: 0.293355\n",
      "[21]\tvalid_0's binary_logloss: 0.293089\n",
      "[22]\tvalid_0's binary_logloss: 0.293501\n",
      "[23]\tvalid_0's binary_logloss: 0.29327\n",
      "[24]\tvalid_0's binary_logloss: 0.296094\n",
      "[25]\tvalid_0's binary_logloss: 0.299838\n",
      "[26]\tvalid_0's binary_logloss: 0.302917\n",
      "[27]\tvalid_0's binary_logloss: 0.305025\n",
      "[28]\tvalid_0's binary_logloss: 0.30772\n",
      "[29]\tvalid_0's binary_logloss: 0.309411\n",
      "[30]\tvalid_0's binary_logloss: 0.311746\n",
      "[31]\tvalid_0's binary_logloss: 0.315385\n",
      "[32]\tvalid_0's binary_logloss: 0.319074\n",
      "[33]\tvalid_0's binary_logloss: 0.323816\n",
      "[34]\tvalid_0's binary_logloss: 0.327777\n",
      "[35]\tvalid_0's binary_logloss: 0.330156\n",
      "[36]\tvalid_0's binary_logloss: 0.335574\n",
      "[37]\tvalid_0's binary_logloss: 0.338517\n",
      "[38]\tvalid_0's binary_logloss: 0.34372\n",
      "[39]\tvalid_0's binary_logloss: 0.349751\n",
      "[40]\tvalid_0's binary_logloss: 0.355209\n",
      "[41]\tvalid_0's binary_logloss: 0.360683\n",
      "evaluating on the training set...\n",
      "fitting HMM smoother...\n",
      "fitting forward-backward smoother...\n",
      "HMM label smoothing training took 0.01 mins\n",
      "performance on training set:\n",
      "P: 0.9957, R: 0.9975, F1: 0.9966    investigation\n"
     ]
    },
    {
     "name": "stderr",
     "output_type": "stream",
     "text": [
      "/home/roton/miniconda3/envs/mars/lib/python3.7/site-packages/sklearn/utils/validation.py:70: FutureWarning: Pass threshold=0.5 as keyword args. From version 0.25 passing these as positional arguments will result in an error\n",
      "  FutureWarning)\n"
     ]
    },
    {
     "name": "stdout",
     "output_type": "stream",
     "text": [
      "done training!\n",
      "complete training took 0.34 mins\n",
      "loading test data...\n"
     ]
    },
    {
     "name": "stderr",
     "output_type": "stream",
     "text": [
      "Filtering sequence 0/27    0% --  [Elapsed Time: 0:00:00] |  | (ETA:  --:--:--) \r"
     ]
    },
    {
     "name": "stdout",
     "output_type": "stream",
     "text": [
      "sorting features and applying filters...\n"
     ]
    },
    {
     "name": "stderr",
     "output_type": "stream",
     "text": [
      "Filtering sequence 27/27  100% --  [Elapsed Time: 0:04:57] |##| (Time: 0:04:57) \n"
     ]
    },
    {
     "name": "stdout",
     "output_type": "stream",
     "text": [
      "done!\n",
      "\n",
      "loaded test data: 364826 X 3408 - ['investigation'] \n",
      "loading classifiers from /media/storage/ryan/mabe_challenge/behavior/trained_classifiers/mabe_challenge_lgt_es20_wnd/\n",
      "n_classes = 4\n",
      "{'attack': 0, 'investigation': 1, 'mount': 2, 'other': 3}\n",
      "predicting investigation...\n",
      "inference took 59.65 sec\n",
      " \n",
      "Classifier performance:\n"
     ]
    },
    {
     "name": "stderr",
     "output_type": "stream",
     "text": [
      "/home/roton/miniconda3/envs/mars/lib/python3.7/site-packages/sklearn/metrics/_classification.py:1221: UndefinedMetricWarning: Precision and F-score are ill-defined and being set to 0.0 in labels with no predicted samples. Use `zero_division` parameter to control this behavior.\n",
      "  _warn_prf(average, modifier, msg_start, len(result))\n",
      "/home/roton/miniconda3/envs/mars/lib/python3.7/site-packages/sklearn/metrics/_classification.py:1221: UndefinedMetricWarning: Recall and F-score are ill-defined and being set to 0.0 in labels with no true samples. Use `zero_division` parameter to control this behavior.\n",
      "  _warn_prf(average, modifier, msg_start, len(result))\n"
     ]
    },
    {
     "name": "stdout",
     "output_type": "stream",
     "text": [
      "              attack   investigation   other    \n",
      "  Precision:    0.0      0.589      0.0     \n",
      "     Recall:    0.0      0.903      0.0     \n",
      "   F1 Score:    0.0      0.713      0.0     \n",
      "Loop: 3\n",
      "val set size: 19343\n",
      "training set size: 21658.0\n",
      "loading training data...\n"
     ]
    },
    {
     "name": "stderr",
     "output_type": "stream",
     "text": [
      "Filtering sequence 0/2    0% --  [Elapsed Time: 0:00:00] |   | (ETA:  --:--:--) \r"
     ]
    },
    {
     "name": "stdout",
     "output_type": "stream",
     "text": [
      "sorting features and applying filters...\n"
     ]
    },
    {
     "name": "stderr",
     "output_type": "stream",
     "text": [
      "Filtering sequence 2/2  100% --  [Elapsed Time: 0:00:16] |####| (Time: 0:00:16) \n"
     ]
    },
    {
     "name": "stdout",
     "output_type": "stream",
     "text": [
      "done!\n",
      "\n",
      "loading validation data...\n"
     ]
    },
    {
     "name": "stderr",
     "output_type": "stream",
     "text": [
      "Filtering sequence 0/1    0% --  [Elapsed Time: 0:00:00] |   | (ETA:  --:--:--) \r"
     ]
    },
    {
     "name": "stdout",
     "output_type": "stream",
     "text": [
      "sorting features and applying filters...\n"
     ]
    },
    {
     "name": "stderr",
     "output_type": "stream",
     "text": [
      "Filtering sequence 1/1  100% --  [Elapsed Time: 0:00:14] |####| (Time: 0:00:14) \n"
     ]
    },
    {
     "name": "stdout",
     "output_type": "stream",
     "text": [
      "done!\n",
      "\n",
      "loaded training data: 21658 X 3408 - ['investigation'] \n",
      "Training classifier: MABE_CHALLENGE_LGT_ES20_WND/\n",
      "######################### investigation #########################\n",
      "training using 5961 positive frames (68 bouts)\n",
      "fitting preprocessing parameters...\n",
      "fitting clf for investigation\n",
      "    training set: 5961 positive / 21658 total (27 %)\n",
      "    eval set: 4402 positive / 19343 total (22 %)\n",
      "  + early stopping\n"
     ]
    },
    {
     "name": "stderr",
     "output_type": "stream",
     "text": [
      "/home/roton/miniconda3/envs/mars/lib/python3.7/site-packages/lightgbm/sklearn.py:726: UserWarning: 'early_stopping_rounds' argument is deprecated and will be removed in a future release of LightGBM. Pass 'early_stopping()' callback via 'callbacks' argument instead.\n",
      "  _log_warning(\"'early_stopping_rounds' argument is deprecated and will be removed in a future release of LightGBM. \"\n",
      "/home/roton/miniconda3/envs/mars/lib/python3.7/site-packages/lightgbm/sklearn.py:736: UserWarning: 'verbose' argument is deprecated and will be removed in a future release of LightGBM. Pass 'log_evaluation()' callback via 'callbacks' argument instead.\n",
      "  _log_warning(\"'verbose' argument is deprecated and will be removed in a future release of LightGBM. \"\n"
     ]
    },
    {
     "name": "stdout",
     "output_type": "stream",
     "text": [
      "[1]\tvalid_0's binary_logloss: 0.488767\n",
      "[2]\tvalid_0's binary_logloss: 0.459746\n",
      "[3]\tvalid_0's binary_logloss: 0.427419\n",
      "[4]\tvalid_0's binary_logloss: 0.400996\n",
      "[5]\tvalid_0's binary_logloss: 0.380264\n",
      "[6]\tvalid_0's binary_logloss: 0.363953\n",
      "[7]\tvalid_0's binary_logloss: 0.349882\n",
      "[8]\tvalid_0's binary_logloss: 0.337635\n",
      "[9]\tvalid_0's binary_logloss: 0.3287\n",
      "[10]\tvalid_0's binary_logloss: 0.320558\n",
      "[11]\tvalid_0's binary_logloss: 0.31591\n",
      "[12]\tvalid_0's binary_logloss: 0.311394\n",
      "[13]\tvalid_0's binary_logloss: 0.309535\n",
      "[14]\tvalid_0's binary_logloss: 0.304891\n",
      "[15]\tvalid_0's binary_logloss: 0.305092\n",
      "[16]\tvalid_0's binary_logloss: 0.302954\n",
      "[17]\tvalid_0's binary_logloss: 0.302417\n",
      "[18]\tvalid_0's binary_logloss: 0.300124\n",
      "[19]\tvalid_0's binary_logloss: 0.299685\n",
      "[20]\tvalid_0's binary_logloss: 0.302181\n",
      "[21]\tvalid_0's binary_logloss: 0.30297\n",
      "[22]\tvalid_0's binary_logloss: 0.304769\n",
      "[23]\tvalid_0's binary_logloss: 0.306386\n",
      "[24]\tvalid_0's binary_logloss: 0.307194\n",
      "[25]\tvalid_0's binary_logloss: 0.309941\n",
      "[26]\tvalid_0's binary_logloss: 0.31301\n",
      "[27]\tvalid_0's binary_logloss: 0.314005\n",
      "[28]\tvalid_0's binary_logloss: 0.316969\n",
      "[29]\tvalid_0's binary_logloss: 0.320348\n",
      "[30]\tvalid_0's binary_logloss: 0.324161\n",
      "[31]\tvalid_0's binary_logloss: 0.32819\n",
      "[32]\tvalid_0's binary_logloss: 0.331573\n",
      "[33]\tvalid_0's binary_logloss: 0.335619\n",
      "[34]\tvalid_0's binary_logloss: 0.338535\n",
      "[35]\tvalid_0's binary_logloss: 0.342837\n",
      "[36]\tvalid_0's binary_logloss: 0.347407\n",
      "[37]\tvalid_0's binary_logloss: 0.351715\n",
      "[38]\tvalid_0's binary_logloss: 0.356961\n",
      "[39]\tvalid_0's binary_logloss: 0.361378\n",
      "evaluating on the training set...\n",
      "fitting HMM smoother...\n",
      "fitting forward-backward smoother...\n",
      "HMM label smoothing training took 0.01 mins\n",
      "performance on training set:\n",
      "P: 0.9913, R: 0.9923, F1: 0.9918    investigation\n"
     ]
    },
    {
     "name": "stderr",
     "output_type": "stream",
     "text": [
      "/home/roton/miniconda3/envs/mars/lib/python3.7/site-packages/sklearn/utils/validation.py:70: FutureWarning: Pass threshold=0.5 as keyword args. From version 0.25 passing these as positional arguments will result in an error\n",
      "  FutureWarning)\n"
     ]
    },
    {
     "name": "stdout",
     "output_type": "stream",
     "text": [
      "done training!\n",
      "complete training took 1.51 mins\n",
      "loading test data...\n"
     ]
    },
    {
     "name": "stderr",
     "output_type": "stream",
     "text": [
      "Filtering sequence 0/27    0% --  [Elapsed Time: 0:00:00] |  | (ETA:  --:--:--) \r"
     ]
    },
    {
     "name": "stdout",
     "output_type": "stream",
     "text": [
      "sorting features and applying filters...\n"
     ]
    },
    {
     "name": "stderr",
     "output_type": "stream",
     "text": [
      "Filtering sequence 27/27  100% --  [Elapsed Time: 0:04:54] |##| (Time: 0:04:54) \n"
     ]
    },
    {
     "name": "stdout",
     "output_type": "stream",
     "text": [
      "done!\n",
      "\n",
      "loaded test data: 364826 X 3408 - ['investigation'] \n",
      "loading classifiers from /media/storage/ryan/mabe_challenge/behavior/trained_classifiers/mabe_challenge_lgt_es20_wnd/\n",
      "n_classes = 4\n",
      "{'attack': 0, 'investigation': 1, 'mount': 2, 'other': 3}\n",
      "predicting investigation...\n",
      "inference took 58.45 sec\n",
      " \n",
      "Classifier performance:\n"
     ]
    },
    {
     "name": "stderr",
     "output_type": "stream",
     "text": [
      "/home/roton/miniconda3/envs/mars/lib/python3.7/site-packages/sklearn/metrics/_classification.py:1221: UndefinedMetricWarning: Precision and F-score are ill-defined and being set to 0.0 in labels with no predicted samples. Use `zero_division` parameter to control this behavior.\n",
      "  _warn_prf(average, modifier, msg_start, len(result))\n",
      "/home/roton/miniconda3/envs/mars/lib/python3.7/site-packages/sklearn/metrics/_classification.py:1221: UndefinedMetricWarning: Recall and F-score are ill-defined and being set to 0.0 in labels with no true samples. Use `zero_division` parameter to control this behavior.\n",
      "  _warn_prf(average, modifier, msg_start, len(result))\n"
     ]
    },
    {
     "name": "stdout",
     "output_type": "stream",
     "text": [
      "              attack   investigation   other    \n",
      "  Precision:    0.0      0.723      0.0     \n",
      "     Recall:    0.0      0.855      0.0     \n",
      "   F1 Score:    0.0      0.784      0.0     \n",
      "Loop: 4\n",
      "val set size: 19343\n",
      "training set size: 31840.0\n",
      "loading training data...\n"
     ]
    },
    {
     "name": "stderr",
     "output_type": "stream",
     "text": [
      "Filtering sequence 0/4    0% --  [Elapsed Time: 0:00:00] |   | (ETA:  --:--:--) \r"
     ]
    },
    {
     "name": "stdout",
     "output_type": "stream",
     "text": [
      "sorting features and applying filters...\n"
     ]
    },
    {
     "name": "stderr",
     "output_type": "stream",
     "text": [
      "Filtering sequence 4/4  100% --  [Elapsed Time: 0:00:26] |####| (Time: 0:00:26) \n"
     ]
    },
    {
     "name": "stdout",
     "output_type": "stream",
     "text": [
      "done!\n",
      "\n",
      "loading validation data...\n"
     ]
    },
    {
     "name": "stderr",
     "output_type": "stream",
     "text": [
      "Filtering sequence 0/1    0% --  [Elapsed Time: 0:00:00] |   | (ETA:  --:--:--) \r"
     ]
    },
    {
     "name": "stdout",
     "output_type": "stream",
     "text": [
      "sorting features and applying filters...\n"
     ]
    },
    {
     "name": "stderr",
     "output_type": "stream",
     "text": [
      "Filtering sequence 1/1  100% --  [Elapsed Time: 0:00:16] |####| (Time: 0:00:16) \n"
     ]
    },
    {
     "name": "stdout",
     "output_type": "stream",
     "text": [
      "done!\n",
      "\n",
      "loaded training data: 31840 X 3408 - ['investigation'] \n",
      "Training classifier: MABE_CHALLENGE_LGT_ES20_WND/\n",
      "######################### investigation #########################\n",
      "training using 9481 positive frames (89 bouts)\n",
      "fitting preprocessing parameters...\n",
      "fitting clf for investigation\n",
      "    training set: 9481 positive / 31840 total (29 %)\n",
      "    eval set: 4402 positive / 19343 total (22 %)\n",
      "  + early stopping\n"
     ]
    },
    {
     "name": "stderr",
     "output_type": "stream",
     "text": [
      "/home/roton/miniconda3/envs/mars/lib/python3.7/site-packages/lightgbm/sklearn.py:726: UserWarning: 'early_stopping_rounds' argument is deprecated and will be removed in a future release of LightGBM. Pass 'early_stopping()' callback via 'callbacks' argument instead.\n",
      "  _log_warning(\"'early_stopping_rounds' argument is deprecated and will be removed in a future release of LightGBM. \"\n",
      "/home/roton/miniconda3/envs/mars/lib/python3.7/site-packages/lightgbm/sklearn.py:736: UserWarning: 'verbose' argument is deprecated and will be removed in a future release of LightGBM. Pass 'log_evaluation()' callback via 'callbacks' argument instead.\n",
      "  _log_warning(\"'verbose' argument is deprecated and will be removed in a future release of LightGBM. \"\n"
     ]
    },
    {
     "name": "stdout",
     "output_type": "stream",
     "text": [
      "[1]\tvalid_0's binary_logloss: 0.505777\n",
      "[2]\tvalid_0's binary_logloss: 0.472507\n",
      "[3]\tvalid_0's binary_logloss: 0.443816\n",
      "[4]\tvalid_0's binary_logloss: 0.417916\n",
      "[5]\tvalid_0's binary_logloss: 0.398836\n",
      "[6]\tvalid_0's binary_logloss: 0.378641\n",
      "[7]\tvalid_0's binary_logloss: 0.362377\n",
      "[8]\tvalid_0's binary_logloss: 0.349615\n",
      "[9]\tvalid_0's binary_logloss: 0.340678\n",
      "[10]\tvalid_0's binary_logloss: 0.330842\n",
      "[11]\tvalid_0's binary_logloss: 0.322811\n",
      "[12]\tvalid_0's binary_logloss: 0.317449\n",
      "[13]\tvalid_0's binary_logloss: 0.312643\n",
      "[14]\tvalid_0's binary_logloss: 0.308363\n",
      "[15]\tvalid_0's binary_logloss: 0.305368\n",
      "[16]\tvalid_0's binary_logloss: 0.3011\n",
      "[17]\tvalid_0's binary_logloss: 0.297582\n",
      "[18]\tvalid_0's binary_logloss: 0.294622\n",
      "[19]\tvalid_0's binary_logloss: 0.293041\n",
      "[20]\tvalid_0's binary_logloss: 0.293331\n",
      "[21]\tvalid_0's binary_logloss: 0.290828\n",
      "[22]\tvalid_0's binary_logloss: 0.290115\n",
      "[23]\tvalid_0's binary_logloss: 0.288609\n",
      "[24]\tvalid_0's binary_logloss: 0.288126\n",
      "[25]\tvalid_0's binary_logloss: 0.288084\n",
      "[26]\tvalid_0's binary_logloss: 0.287731\n",
      "[27]\tvalid_0's binary_logloss: 0.2881\n",
      "[28]\tvalid_0's binary_logloss: 0.287335\n",
      "[29]\tvalid_0's binary_logloss: 0.287813\n",
      "[30]\tvalid_0's binary_logloss: 0.285312\n",
      "[31]\tvalid_0's binary_logloss: 0.288025\n",
      "[32]\tvalid_0's binary_logloss: 0.288801\n",
      "[33]\tvalid_0's binary_logloss: 0.293769\n",
      "[34]\tvalid_0's binary_logloss: 0.293313\n",
      "[35]\tvalid_0's binary_logloss: 0.294005\n",
      "[36]\tvalid_0's binary_logloss: 0.295942\n",
      "[37]\tvalid_0's binary_logloss: 0.29659\n",
      "[38]\tvalid_0's binary_logloss: 0.297537\n",
      "[39]\tvalid_0's binary_logloss: 0.299764\n",
      "[40]\tvalid_0's binary_logloss: 0.300323\n",
      "[41]\tvalid_0's binary_logloss: 0.30149\n",
      "[42]\tvalid_0's binary_logloss: 0.305597\n",
      "[43]\tvalid_0's binary_logloss: 0.308645\n",
      "[44]\tvalid_0's binary_logloss: 0.309826\n",
      "[45]\tvalid_0's binary_logloss: 0.312182\n",
      "[46]\tvalid_0's binary_logloss: 0.315554\n",
      "[47]\tvalid_0's binary_logloss: 0.317978\n",
      "[48]\tvalid_0's binary_logloss: 0.319857\n",
      "[49]\tvalid_0's binary_logloss: 0.322203\n",
      "[50]\tvalid_0's binary_logloss: 0.324422\n",
      "evaluating on the training set...\n",
      "fitting HMM smoother...\n",
      "fitting forward-backward smoother...\n",
      "HMM label smoothing training took 0.01 mins\n",
      "performance on training set:\n",
      "P: 0.9897, R: 0.9879, F1: 0.9888    investigation\n"
     ]
    },
    {
     "name": "stderr",
     "output_type": "stream",
     "text": [
      "/home/roton/miniconda3/envs/mars/lib/python3.7/site-packages/sklearn/utils/validation.py:70: FutureWarning: Pass threshold=0.5 as keyword args. From version 0.25 passing these as positional arguments will result in an error\n",
      "  FutureWarning)\n"
     ]
    },
    {
     "name": "stdout",
     "output_type": "stream",
     "text": [
      "done training!\n",
      "complete training took 0.71 mins\n",
      "loading test data...\n"
     ]
    },
    {
     "name": "stderr",
     "output_type": "stream",
     "text": [
      "Filtering sequence 0/27    0% --  [Elapsed Time: 0:00:00] |  | (ETA:  --:--:--) \r"
     ]
    },
    {
     "name": "stdout",
     "output_type": "stream",
     "text": [
      "sorting features and applying filters...\n"
     ]
    },
    {
     "name": "stderr",
     "output_type": "stream",
     "text": [
      "Filtering sequence 27/27  100% --  [Elapsed Time: 0:04:58] |##| (Time: 0:04:58) \n"
     ]
    },
    {
     "name": "stdout",
     "output_type": "stream",
     "text": [
      "done!\n",
      "\n",
      "loaded test data: 364826 X 3408 - ['investigation'] \n",
      "loading classifiers from /media/storage/ryan/mabe_challenge/behavior/trained_classifiers/mabe_challenge_lgt_es20_wnd/\n",
      "n_classes = 4\n",
      "{'attack': 0, 'investigation': 1, 'mount': 2, 'other': 3}\n",
      "predicting investigation...\n",
      "inference took 57.62 sec\n",
      " \n",
      "Classifier performance:\n"
     ]
    },
    {
     "name": "stderr",
     "output_type": "stream",
     "text": [
      "/home/roton/miniconda3/envs/mars/lib/python3.7/site-packages/sklearn/metrics/_classification.py:1221: UndefinedMetricWarning: Precision and F-score are ill-defined and being set to 0.0 in labels with no predicted samples. Use `zero_division` parameter to control this behavior.\n",
      "  _warn_prf(average, modifier, msg_start, len(result))\n",
      "/home/roton/miniconda3/envs/mars/lib/python3.7/site-packages/sklearn/metrics/_classification.py:1221: UndefinedMetricWarning: Recall and F-score are ill-defined and being set to 0.0 in labels with no true samples. Use `zero_division` parameter to control this behavior.\n",
      "  _warn_prf(average, modifier, msg_start, len(result))\n"
     ]
    },
    {
     "name": "stdout",
     "output_type": "stream",
     "text": [
      "              attack   investigation   other    \n",
      "  Precision:    0.0      0.696      0.0     \n",
      "     Recall:    0.0      0.716      0.0     \n",
      "   F1 Score:    0.0      0.706      0.0     \n",
      "Loop: 5\n",
      "val set size: 19343\n",
      "training set size: 92691.0\n",
      "loading training data...\n"
     ]
    },
    {
     "name": "stderr",
     "output_type": "stream",
     "text": [
      "Filtering sequence 0/10    0% --  [Elapsed Time: 0:00:00] |  | (ETA:  --:--:--) \r"
     ]
    },
    {
     "name": "stdout",
     "output_type": "stream",
     "text": [
      "sorting features and applying filters...\n"
     ]
    },
    {
     "name": "stderr",
     "output_type": "stream",
     "text": [
      "Filtering sequence 10/10  100% --  [Elapsed Time: 0:01:10] |##| (Time: 0:01:10) \n"
     ]
    },
    {
     "name": "stdout",
     "output_type": "stream",
     "text": [
      "done!\n",
      "\n",
      "loading validation data...\n"
     ]
    },
    {
     "name": "stderr",
     "output_type": "stream",
     "text": [
      "Filtering sequence 0/1    0% --  [Elapsed Time: 0:00:00] |   | (ETA:  --:--:--) \r"
     ]
    },
    {
     "name": "stdout",
     "output_type": "stream",
     "text": [
      "sorting features and applying filters...\n"
     ]
    },
    {
     "name": "stderr",
     "output_type": "stream",
     "text": [
      "Filtering sequence 1/1  100% --  [Elapsed Time: 0:00:14] |####| (Time: 0:00:14) \n"
     ]
    },
    {
     "name": "stdout",
     "output_type": "stream",
     "text": [
      "done!\n",
      "\n",
      "loaded training data: 92691 X 3408 - ['investigation'] \n",
      "Training classifier: MABE_CHALLENGE_LGT_ES20_WND/\n",
      "######################### investigation #########################\n",
      "training using 34412 positive frames (361 bouts)\n",
      "fitting preprocessing parameters...\n",
      "fitting clf for investigation\n",
      "    training set: 34412 positive / 92691 total (37 %)\n",
      "    eval set: 4402 positive / 19343 total (22 %)\n",
      "  + early stopping\n"
     ]
    },
    {
     "name": "stderr",
     "output_type": "stream",
     "text": [
      "/home/roton/miniconda3/envs/mars/lib/python3.7/site-packages/lightgbm/sklearn.py:726: UserWarning: 'early_stopping_rounds' argument is deprecated and will be removed in a future release of LightGBM. Pass 'early_stopping()' callback via 'callbacks' argument instead.\n",
      "  _log_warning(\"'early_stopping_rounds' argument is deprecated and will be removed in a future release of LightGBM. \"\n",
      "/home/roton/miniconda3/envs/mars/lib/python3.7/site-packages/lightgbm/sklearn.py:736: UserWarning: 'verbose' argument is deprecated and will be removed in a future release of LightGBM. Pass 'log_evaluation()' callback via 'callbacks' argument instead.\n",
      "  _log_warning(\"'verbose' argument is deprecated and will be removed in a future release of LightGBM. \"\n"
     ]
    },
    {
     "name": "stdout",
     "output_type": "stream",
     "text": [
      "[1]\tvalid_0's binary_logloss: 0.533961\n",
      "[2]\tvalid_0's binary_logloss: 0.491672\n",
      "[3]\tvalid_0's binary_logloss: 0.457628\n",
      "[4]\tvalid_0's binary_logloss: 0.429095\n",
      "[5]\tvalid_0's binary_logloss: 0.404325\n",
      "[6]\tvalid_0's binary_logloss: 0.382274\n",
      "[7]\tvalid_0's binary_logloss: 0.365458\n",
      "[8]\tvalid_0's binary_logloss: 0.349328\n",
      "[9]\tvalid_0's binary_logloss: 0.334607\n",
      "[10]\tvalid_0's binary_logloss: 0.32087\n",
      "[11]\tvalid_0's binary_logloss: 0.309941\n",
      "[12]\tvalid_0's binary_logloss: 0.300181\n",
      "[13]\tvalid_0's binary_logloss: 0.291266\n",
      "[14]\tvalid_0's binary_logloss: 0.284555\n",
      "[15]\tvalid_0's binary_logloss: 0.278974\n",
      "[16]\tvalid_0's binary_logloss: 0.274718\n",
      "[17]\tvalid_0's binary_logloss: 0.271588\n",
      "[18]\tvalid_0's binary_logloss: 0.269708\n",
      "[19]\tvalid_0's binary_logloss: 0.266193\n",
      "[20]\tvalid_0's binary_logloss: 0.263942\n",
      "[21]\tvalid_0's binary_logloss: 0.261215\n",
      "[22]\tvalid_0's binary_logloss: 0.258316\n",
      "[23]\tvalid_0's binary_logloss: 0.257749\n",
      "[24]\tvalid_0's binary_logloss: 0.25643\n",
      "[25]\tvalid_0's binary_logloss: 0.255162\n",
      "[26]\tvalid_0's binary_logloss: 0.255145\n",
      "[27]\tvalid_0's binary_logloss: 0.255196\n",
      "[28]\tvalid_0's binary_logloss: 0.254157\n",
      "[29]\tvalid_0's binary_logloss: 0.254134\n",
      "[30]\tvalid_0's binary_logloss: 0.253514\n",
      "[31]\tvalid_0's binary_logloss: 0.25367\n",
      "[32]\tvalid_0's binary_logloss: 0.253981\n",
      "[33]\tvalid_0's binary_logloss: 0.253197\n",
      "[34]\tvalid_0's binary_logloss: 0.255265\n",
      "[35]\tvalid_0's binary_logloss: 0.256491\n",
      "[36]\tvalid_0's binary_logloss: 0.258125\n",
      "[37]\tvalid_0's binary_logloss: 0.26035\n",
      "[38]\tvalid_0's binary_logloss: 0.260573\n",
      "[39]\tvalid_0's binary_logloss: 0.261985\n",
      "[40]\tvalid_0's binary_logloss: 0.263039\n",
      "[41]\tvalid_0's binary_logloss: 0.263405\n",
      "[42]\tvalid_0's binary_logloss: 0.264739\n",
      "[43]\tvalid_0's binary_logloss: 0.266667\n",
      "[44]\tvalid_0's binary_logloss: 0.266918\n",
      "[45]\tvalid_0's binary_logloss: 0.268475\n",
      "[46]\tvalid_0's binary_logloss: 0.27054\n",
      "[47]\tvalid_0's binary_logloss: 0.270971\n",
      "[48]\tvalid_0's binary_logloss: 0.271695\n",
      "[49]\tvalid_0's binary_logloss: 0.273511\n",
      "[50]\tvalid_0's binary_logloss: 0.274579\n",
      "[51]\tvalid_0's binary_logloss: 0.274601\n",
      "[52]\tvalid_0's binary_logloss: 0.276357\n",
      "[53]\tvalid_0's binary_logloss: 0.277741\n",
      "evaluating on the training set...\n",
      "fitting HMM smoother...\n",
      "fitting forward-backward smoother...\n"
     ]
    },
    {
     "name": "stderr",
     "output_type": "stream",
     "text": [
      "/home/roton/miniconda3/envs/mars/lib/python3.7/site-packages/sklearn/utils/validation.py:70: FutureWarning: Pass threshold=0.5 as keyword args. From version 0.25 passing these as positional arguments will result in an error\n",
      "  FutureWarning)\n"
     ]
    },
    {
     "name": "stdout",
     "output_type": "stream",
     "text": [
      "HMM label smoothing training took 0.05 mins\n",
      "performance on training set:\n",
      "P: 0.9370, R: 0.9517, F1: 0.9443    investigation\n",
      "done training!\n",
      "complete training took 1.99 mins\n",
      "loading test data...\n"
     ]
    },
    {
     "name": "stderr",
     "output_type": "stream",
     "text": [
      "Filtering sequence 0/27    0% --  [Elapsed Time: 0:00:00] |  | (ETA:  --:--:--) \r"
     ]
    },
    {
     "name": "stdout",
     "output_type": "stream",
     "text": [
      "sorting features and applying filters...\n"
     ]
    },
    {
     "name": "stderr",
     "output_type": "stream",
     "text": [
      "Filtering sequence 27/27  100% --  [Elapsed Time: 0:05:00] |##| (Time: 0:05:00) \n"
     ]
    },
    {
     "name": "stdout",
     "output_type": "stream",
     "text": [
      "done!\n",
      "\n",
      "loaded test data: 364826 X 3408 - ['investigation'] \n",
      "loading classifiers from /media/storage/ryan/mabe_challenge/behavior/trained_classifiers/mabe_challenge_lgt_es20_wnd/\n",
      "n_classes = 4\n",
      "{'attack': 0, 'investigation': 1, 'mount': 2, 'other': 3}\n",
      "predicting investigation...\n",
      "inference took 59.34 sec\n",
      " \n",
      "Classifier performance:\n"
     ]
    },
    {
     "name": "stderr",
     "output_type": "stream",
     "text": [
      "/home/roton/miniconda3/envs/mars/lib/python3.7/site-packages/sklearn/metrics/_classification.py:1221: UndefinedMetricWarning: Precision and F-score are ill-defined and being set to 0.0 in labels with no predicted samples. Use `zero_division` parameter to control this behavior.\n",
      "  _warn_prf(average, modifier, msg_start, len(result))\n",
      "/home/roton/miniconda3/envs/mars/lib/python3.7/site-packages/sklearn/metrics/_classification.py:1221: UndefinedMetricWarning: Recall and F-score are ill-defined and being set to 0.0 in labels with no true samples. Use `zero_division` parameter to control this behavior.\n",
      "  _warn_prf(average, modifier, msg_start, len(result))\n"
     ]
    },
    {
     "name": "stdout",
     "output_type": "stream",
     "text": [
      "              attack   investigation   other    \n",
      "  Precision:    0.0      0.71       0.0     \n",
      "     Recall:    0.0      0.797      0.0     \n",
      "   F1 Score:    0.0      0.751      0.0     \n",
      "Loop: 6\n",
      "val set size: 19343\n",
      "training set size: 148407.0\n",
      "loading training data...\n"
     ]
    },
    {
     "name": "stderr",
     "output_type": "stream",
     "text": [
      "Filtering sequence 0/16    0% --  [Elapsed Time: 0:00:00] |  | (ETA:  --:--:--) \r"
     ]
    },
    {
     "name": "stdout",
     "output_type": "stream",
     "text": [
      "sorting features and applying filters...\n"
     ]
    },
    {
     "name": "stderr",
     "output_type": "stream",
     "text": [
      "Filtering sequence 16/16  100% --  [Elapsed Time: 0:02:01] |##| (Time: 0:02:01) \n"
     ]
    },
    {
     "name": "stdout",
     "output_type": "stream",
     "text": [
      "done!\n",
      "\n",
      "loading validation data...\n"
     ]
    },
    {
     "name": "stderr",
     "output_type": "stream",
     "text": [
      "Filtering sequence 0/1    0% --  [Elapsed Time: 0:00:00] |   | (ETA:  --:--:--) \r"
     ]
    },
    {
     "name": "stdout",
     "output_type": "stream",
     "text": [
      "sorting features and applying filters...\n"
     ]
    },
    {
     "name": "stderr",
     "output_type": "stream",
     "text": [
      "Filtering sequence 1/1  100% --  [Elapsed Time: 0:00:15] |####| (Time: 0:00:15) \n"
     ]
    },
    {
     "name": "stdout",
     "output_type": "stream",
     "text": [
      "done!\n",
      "\n",
      "loaded training data: 148407 X 3408 - ['investigation'] \n",
      "Training classifier: MABE_CHALLENGE_LGT_ES20_WND/\n",
      "######################### investigation #########################\n",
      "training using 51255 positive frames (550 bouts)\n",
      "fitting preprocessing parameters...\n",
      "fitting clf for investigation\n",
      "    training set: 51255 positive / 148407 total (34 %)\n",
      "    eval set: 4402 positive / 19343 total (22 %)\n",
      "  + early stopping\n"
     ]
    },
    {
     "name": "stderr",
     "output_type": "stream",
     "text": [
      "/home/roton/miniconda3/envs/mars/lib/python3.7/site-packages/lightgbm/sklearn.py:726: UserWarning: 'early_stopping_rounds' argument is deprecated and will be removed in a future release of LightGBM. Pass 'early_stopping()' callback via 'callbacks' argument instead.\n",
      "  _log_warning(\"'early_stopping_rounds' argument is deprecated and will be removed in a future release of LightGBM. \"\n",
      "/home/roton/miniconda3/envs/mars/lib/python3.7/site-packages/lightgbm/sklearn.py:736: UserWarning: 'verbose' argument is deprecated and will be removed in a future release of LightGBM. Pass 'log_evaluation()' callback via 'callbacks' argument instead.\n",
      "  _log_warning(\"'verbose' argument is deprecated and will be removed in a future release of LightGBM. \"\n"
     ]
    },
    {
     "name": "stdout",
     "output_type": "stream",
     "text": [
      "[1]\tvalid_0's binary_logloss: 0.519671\n",
      "[2]\tvalid_0's binary_logloss: 0.478194\n",
      "[3]\tvalid_0's binary_logloss: 0.44468\n",
      "[4]\tvalid_0's binary_logloss: 0.41596\n",
      "[5]\tvalid_0's binary_logloss: 0.392019\n",
      "[6]\tvalid_0's binary_logloss: 0.370424\n",
      "[7]\tvalid_0's binary_logloss: 0.351544\n",
      "[8]\tvalid_0's binary_logloss: 0.335232\n",
      "[9]\tvalid_0's binary_logloss: 0.321805\n",
      "[10]\tvalid_0's binary_logloss: 0.309397\n",
      "[11]\tvalid_0's binary_logloss: 0.298708\n",
      "[12]\tvalid_0's binary_logloss: 0.290448\n",
      "[13]\tvalid_0's binary_logloss: 0.282661\n",
      "[14]\tvalid_0's binary_logloss: 0.275636\n",
      "[15]\tvalid_0's binary_logloss: 0.269722\n",
      "[16]\tvalid_0's binary_logloss: 0.265381\n",
      "[17]\tvalid_0's binary_logloss: 0.263136\n",
      "[18]\tvalid_0's binary_logloss: 0.260038\n",
      "[19]\tvalid_0's binary_logloss: 0.258922\n",
      "[20]\tvalid_0's binary_logloss: 0.255735\n",
      "[21]\tvalid_0's binary_logloss: 0.254139\n",
      "[22]\tvalid_0's binary_logloss: 0.253208\n",
      "[23]\tvalid_0's binary_logloss: 0.25155\n",
      "[24]\tvalid_0's binary_logloss: 0.250325\n",
      "[25]\tvalid_0's binary_logloss: 0.250374\n",
      "[26]\tvalid_0's binary_logloss: 0.249138\n",
      "[27]\tvalid_0's binary_logloss: 0.248086\n",
      "[28]\tvalid_0's binary_logloss: 0.247846\n",
      "[29]\tvalid_0's binary_logloss: 0.248198\n",
      "[30]\tvalid_0's binary_logloss: 0.249992\n",
      "[31]\tvalid_0's binary_logloss: 0.250865\n",
      "[32]\tvalid_0's binary_logloss: 0.250412\n",
      "[33]\tvalid_0's binary_logloss: 0.250524\n",
      "[34]\tvalid_0's binary_logloss: 0.253397\n",
      "[35]\tvalid_0's binary_logloss: 0.252464\n",
      "[36]\tvalid_0's binary_logloss: 0.25482\n",
      "[37]\tvalid_0's binary_logloss: 0.254387\n",
      "[38]\tvalid_0's binary_logloss: 0.254635\n",
      "[39]\tvalid_0's binary_logloss: 0.256208\n",
      "[40]\tvalid_0's binary_logloss: 0.257229\n",
      "[41]\tvalid_0's binary_logloss: 0.258337\n",
      "[42]\tvalid_0's binary_logloss: 0.259883\n",
      "[43]\tvalid_0's binary_logloss: 0.260734\n",
      "[44]\tvalid_0's binary_logloss: 0.263231\n",
      "[45]\tvalid_0's binary_logloss: 0.263583\n",
      "[46]\tvalid_0's binary_logloss: 0.265559\n",
      "[47]\tvalid_0's binary_logloss: 0.265948\n",
      "[48]\tvalid_0's binary_logloss: 0.267453\n",
      "evaluating on the training set...\n",
      "fitting HMM smoother...\n",
      "fitting forward-backward smoother...\n"
     ]
    },
    {
     "name": "stderr",
     "output_type": "stream",
     "text": [
      "/home/roton/miniconda3/envs/mars/lib/python3.7/site-packages/sklearn/utils/validation.py:70: FutureWarning: Pass threshold=0.5 as keyword args. From version 0.25 passing these as positional arguments will result in an error\n",
      "  FutureWarning)\n"
     ]
    },
    {
     "name": "stdout",
     "output_type": "stream",
     "text": [
      "HMM label smoothing training took 0.07 mins\n",
      "performance on training set:\n",
      "P: 0.9141, R: 0.9371, F1: 0.9254    investigation\n",
      "done training!\n",
      "complete training took 2.01 mins\n",
      "loading test data...\n"
     ]
    },
    {
     "name": "stderr",
     "output_type": "stream",
     "text": [
      "Filtering sequence 0/27    0% --  [Elapsed Time: 0:00:00] |  | (ETA:  --:--:--) \r"
     ]
    },
    {
     "name": "stdout",
     "output_type": "stream",
     "text": [
      "sorting features and applying filters...\n"
     ]
    },
    {
     "name": "stderr",
     "output_type": "stream",
     "text": [
      "Filtering sequence 27/27  100% --  [Elapsed Time: 0:04:57] |##| (Time: 0:04:57) \n"
     ]
    },
    {
     "name": "stdout",
     "output_type": "stream",
     "text": [
      "done!\n",
      "\n",
      "loaded test data: 364826 X 3408 - ['investigation'] \n",
      "loading classifiers from /media/storage/ryan/mabe_challenge/behavior/trained_classifiers/mabe_challenge_lgt_es20_wnd/\n",
      "n_classes = 4\n",
      "{'attack': 0, 'investigation': 1, 'mount': 2, 'other': 3}\n",
      "predicting investigation...\n",
      "inference took 60.24 sec\n",
      " \n",
      "Classifier performance:\n"
     ]
    },
    {
     "name": "stderr",
     "output_type": "stream",
     "text": [
      "/home/roton/miniconda3/envs/mars/lib/python3.7/site-packages/sklearn/metrics/_classification.py:1221: UndefinedMetricWarning: Precision and F-score are ill-defined and being set to 0.0 in labels with no predicted samples. Use `zero_division` parameter to control this behavior.\n",
      "  _warn_prf(average, modifier, msg_start, len(result))\n",
      "/home/roton/miniconda3/envs/mars/lib/python3.7/site-packages/sklearn/metrics/_classification.py:1221: UndefinedMetricWarning: Recall and F-score are ill-defined and being set to 0.0 in labels with no true samples. Use `zero_division` parameter to control this behavior.\n",
      "  _warn_prf(average, modifier, msg_start, len(result))\n"
     ]
    },
    {
     "name": "stdout",
     "output_type": "stream",
     "text": [
      "              attack   investigation   other    \n",
      "  Precision:    0.0      0.768      0.0     \n",
      "     Recall:    0.0      0.813      0.0     \n",
      "   F1 Score:    0.0      0.789      0.0     \n",
      "Loop: 7\n",
      "val set size: 37960\n",
      "training set size: 169059.0\n",
      "loading training data...\n"
     ]
    },
    {
     "name": "stderr",
     "output_type": "stream",
     "text": [
      "Filtering sequence 0/19    0% --  [Elapsed Time: 0:00:00] |  | (ETA:  --:--:--) \r"
     ]
    },
    {
     "name": "stdout",
     "output_type": "stream",
     "text": [
      "sorting features and applying filters...\n"
     ]
    },
    {
     "name": "stderr",
     "output_type": "stream",
     "text": [
      "Filtering sequence 19/19  100% --  [Elapsed Time: 0:02:19] |##| (Time: 0:02:19) \n"
     ]
    },
    {
     "name": "stdout",
     "output_type": "stream",
     "text": [
      "done!\n",
      "\n",
      "loading validation data...\n"
     ]
    },
    {
     "name": "stderr",
     "output_type": "stream",
     "text": [
      "Filtering sequence 0/2    0% --  [Elapsed Time: 0:00:00] |   | (ETA:  --:--:--) \r"
     ]
    },
    {
     "name": "stdout",
     "output_type": "stream",
     "text": [
      "sorting features and applying filters...\n"
     ]
    },
    {
     "name": "stderr",
     "output_type": "stream",
     "text": [
      "Filtering sequence 2/2  100% --  [Elapsed Time: 0:00:31] |####| (Time: 0:00:31) \n"
     ]
    },
    {
     "name": "stdout",
     "output_type": "stream",
     "text": [
      "done!\n",
      "\n",
      "loaded training data: 169059 X 3408 - ['investigation'] \n",
      "Training classifier: MABE_CHALLENGE_LGT_ES20_WND/\n",
      "######################### investigation #########################\n",
      "training using 52066 positive frames (613 bouts)\n",
      "fitting preprocessing parameters...\n",
      "fitting clf for investigation\n",
      "    training set: 52066 positive / 169059 total (30 %)\n",
      "    eval set: 9936 positive / 37960 total (26 %)\n",
      "  + early stopping\n"
     ]
    },
    {
     "name": "stderr",
     "output_type": "stream",
     "text": [
      "/home/roton/miniconda3/envs/mars/lib/python3.7/site-packages/lightgbm/sklearn.py:726: UserWarning: 'early_stopping_rounds' argument is deprecated and will be removed in a future release of LightGBM. Pass 'early_stopping()' callback via 'callbacks' argument instead.\n",
      "  _log_warning(\"'early_stopping_rounds' argument is deprecated and will be removed in a future release of LightGBM. \"\n",
      "/home/roton/miniconda3/envs/mars/lib/python3.7/site-packages/lightgbm/sklearn.py:736: UserWarning: 'verbose' argument is deprecated and will be removed in a future release of LightGBM. Pass 'log_evaluation()' callback via 'callbacks' argument instead.\n",
      "  _log_warning(\"'verbose' argument is deprecated and will be removed in a future release of LightGBM. \"\n"
     ]
    },
    {
     "name": "stdout",
     "output_type": "stream",
     "text": [
      "[1]\tvalid_0's binary_logloss: 0.522515\n",
      "[2]\tvalid_0's binary_logloss: 0.477135\n",
      "[3]\tvalid_0's binary_logloss: 0.439864\n",
      "[4]\tvalid_0's binary_logloss: 0.406841\n",
      "[5]\tvalid_0's binary_logloss: 0.378634\n",
      "[6]\tvalid_0's binary_logloss: 0.354151\n",
      "[7]\tvalid_0's binary_logloss: 0.332713\n",
      "[8]\tvalid_0's binary_logloss: 0.315504\n",
      "[9]\tvalid_0's binary_logloss: 0.300239\n",
      "[10]\tvalid_0's binary_logloss: 0.286973\n",
      "[11]\tvalid_0's binary_logloss: 0.274942\n",
      "[12]\tvalid_0's binary_logloss: 0.265765\n",
      "[13]\tvalid_0's binary_logloss: 0.255935\n",
      "[14]\tvalid_0's binary_logloss: 0.248649\n",
      "[15]\tvalid_0's binary_logloss: 0.241115\n",
      "[16]\tvalid_0's binary_logloss: 0.234627\n",
      "[17]\tvalid_0's binary_logloss: 0.229082\n",
      "[18]\tvalid_0's binary_logloss: 0.223543\n",
      "[19]\tvalid_0's binary_logloss: 0.218355\n",
      "[20]\tvalid_0's binary_logloss: 0.213626\n",
      "[21]\tvalid_0's binary_logloss: 0.209416\n",
      "[22]\tvalid_0's binary_logloss: 0.206215\n",
      "[23]\tvalid_0's binary_logloss: 0.203368\n",
      "[24]\tvalid_0's binary_logloss: 0.201153\n",
      "[25]\tvalid_0's binary_logloss: 0.199215\n",
      "[26]\tvalid_0's binary_logloss: 0.196942\n",
      "[27]\tvalid_0's binary_logloss: 0.195524\n",
      "[28]\tvalid_0's binary_logloss: 0.193894\n",
      "[29]\tvalid_0's binary_logloss: 0.192287\n",
      "[30]\tvalid_0's binary_logloss: 0.191862\n",
      "[31]\tvalid_0's binary_logloss: 0.191002\n",
      "[32]\tvalid_0's binary_logloss: 0.189794\n",
      "[33]\tvalid_0's binary_logloss: 0.189325\n",
      "[34]\tvalid_0's binary_logloss: 0.189847\n",
      "[35]\tvalid_0's binary_logloss: 0.189059\n",
      "[36]\tvalid_0's binary_logloss: 0.188167\n",
      "[37]\tvalid_0's binary_logloss: 0.187467\n",
      "[38]\tvalid_0's binary_logloss: 0.187547\n",
      "[39]\tvalid_0's binary_logloss: 0.187094\n",
      "[40]\tvalid_0's binary_logloss: 0.187189\n",
      "[41]\tvalid_0's binary_logloss: 0.187041\n",
      "[42]\tvalid_0's binary_logloss: 0.187101\n",
      "[43]\tvalid_0's binary_logloss: 0.18736\n",
      "[44]\tvalid_0's binary_logloss: 0.187053\n",
      "[45]\tvalid_0's binary_logloss: 0.187411\n",
      "[46]\tvalid_0's binary_logloss: 0.18801\n",
      "[47]\tvalid_0's binary_logloss: 0.18819\n",
      "[48]\tvalid_0's binary_logloss: 0.188586\n",
      "[49]\tvalid_0's binary_logloss: 0.188355\n",
      "[50]\tvalid_0's binary_logloss: 0.188236\n",
      "[51]\tvalid_0's binary_logloss: 0.189337\n",
      "[52]\tvalid_0's binary_logloss: 0.188661\n",
      "[53]\tvalid_0's binary_logloss: 0.18924\n",
      "[54]\tvalid_0's binary_logloss: 0.189414\n",
      "[55]\tvalid_0's binary_logloss: 0.189979\n",
      "[56]\tvalid_0's binary_logloss: 0.190302\n",
      "[57]\tvalid_0's binary_logloss: 0.190168\n",
      "[58]\tvalid_0's binary_logloss: 0.190891\n",
      "[59]\tvalid_0's binary_logloss: 0.191039\n",
      "[60]\tvalid_0's binary_logloss: 0.191322\n",
      "[61]\tvalid_0's binary_logloss: 0.191431\n",
      "evaluating on the training set...\n",
      "fitting HMM smoother...\n",
      "fitting forward-backward smoother...\n"
     ]
    },
    {
     "name": "stderr",
     "output_type": "stream",
     "text": [
      "/home/roton/miniconda3/envs/mars/lib/python3.7/site-packages/sklearn/utils/validation.py:70: FutureWarning: Pass threshold=0.5 as keyword args. From version 0.25 passing these as positional arguments will result in an error\n",
      "  FutureWarning)\n"
     ]
    },
    {
     "name": "stdout",
     "output_type": "stream",
     "text": [
      "HMM label smoothing training took 0.08 mins\n",
      "performance on training set:\n",
      "P: 0.9189, R: 0.9350, F1: 0.9269    investigation\n",
      "done training!\n",
      "complete training took 2.24 mins\n",
      "loading test data...\n"
     ]
    },
    {
     "name": "stderr",
     "output_type": "stream",
     "text": [
      "Filtering sequence 0/27    0% --  [Elapsed Time: 0:00:00] |  | (ETA:  --:--:--) \r"
     ]
    },
    {
     "name": "stdout",
     "output_type": "stream",
     "text": [
      "sorting features and applying filters...\n"
     ]
    },
    {
     "name": "stderr",
     "output_type": "stream",
     "text": [
      "Filtering sequence 27/27  100% --  [Elapsed Time: 0:04:59] |##| (Time: 0:04:59) \n"
     ]
    },
    {
     "name": "stdout",
     "output_type": "stream",
     "text": [
      "done!\n",
      "\n",
      "loaded test data: 364826 X 3408 - ['investigation'] \n",
      "loading classifiers from /media/storage/ryan/mabe_challenge/behavior/trained_classifiers/mabe_challenge_lgt_es20_wnd/\n",
      "n_classes = 4\n",
      "{'attack': 0, 'investigation': 1, 'mount': 2, 'other': 3}\n",
      "predicting investigation...\n",
      "inference took 59.28 sec\n",
      " \n",
      "Classifier performance:\n"
     ]
    },
    {
     "name": "stderr",
     "output_type": "stream",
     "text": [
      "/home/roton/miniconda3/envs/mars/lib/python3.7/site-packages/sklearn/metrics/_classification.py:1221: UndefinedMetricWarning: Precision and F-score are ill-defined and being set to 0.0 in labels with no predicted samples. Use `zero_division` parameter to control this behavior.\n",
      "  _warn_prf(average, modifier, msg_start, len(result))\n",
      "/home/roton/miniconda3/envs/mars/lib/python3.7/site-packages/sklearn/metrics/_classification.py:1221: UndefinedMetricWarning: Recall and F-score are ill-defined and being set to 0.0 in labels with no true samples. Use `zero_division` parameter to control this behavior.\n",
      "  _warn_prf(average, modifier, msg_start, len(result))\n"
     ]
    },
    {
     "name": "stdout",
     "output_type": "stream",
     "text": [
      "              attack   investigation   other    \n",
      "  Precision:    0.0      0.834      0.0     \n",
      "     Recall:    0.0      0.806      0.0     \n",
      "   F1 Score:    0.0      0.82       0.0     \n",
      "Loop: 8\n",
      "val set size: 37960\n",
      "training set size: 225772.0\n",
      "loading training data...\n"
     ]
    },
    {
     "name": "stderr",
     "output_type": "stream",
     "text": [
      "Filtering sequence 0/30    0% --  [Elapsed Time: 0:00:00] |  | (ETA:  --:--:--) \r"
     ]
    },
    {
     "name": "stdout",
     "output_type": "stream",
     "text": [
      "sorting features and applying filters...\n"
     ]
    },
    {
     "name": "stderr",
     "output_type": "stream",
     "text": [
      "Filtering sequence 30/30  100% --  [Elapsed Time: 0:03:03] |##| (Time: 0:03:03) \n"
     ]
    },
    {
     "name": "stdout",
     "output_type": "stream",
     "text": [
      "done!\n",
      "\n",
      "loading validation data...\n"
     ]
    },
    {
     "name": "stderr",
     "output_type": "stream",
     "text": [
      "Filtering sequence 0/2    0% --  [Elapsed Time: 0:00:00] |   | (ETA:  --:--:--) \r"
     ]
    },
    {
     "name": "stdout",
     "output_type": "stream",
     "text": [
      "sorting features and applying filters...\n"
     ]
    },
    {
     "name": "stderr",
     "output_type": "stream",
     "text": [
      "Filtering sequence 2/2  100% --  [Elapsed Time: 0:00:30] |####| (Time: 0:00:30) \n"
     ]
    },
    {
     "name": "stdout",
     "output_type": "stream",
     "text": [
      "done!\n",
      "\n",
      "loaded training data: 225772 X 3408 - ['investigation'] \n",
      "Training classifier: MABE_CHALLENGE_LGT_ES20_WND/\n",
      "######################### investigation #########################\n",
      "training using 66381 positive frames (831 bouts)\n",
      "fitting preprocessing parameters...\n",
      "fitting clf for investigation\n",
      "    training set: 66381 positive / 225772 total (29 %)\n",
      "    eval set: 9936 positive / 37960 total (26 %)\n",
      "  + early stopping\n"
     ]
    },
    {
     "name": "stderr",
     "output_type": "stream",
     "text": [
      "/home/roton/miniconda3/envs/mars/lib/python3.7/site-packages/lightgbm/sklearn.py:726: UserWarning: 'early_stopping_rounds' argument is deprecated and will be removed in a future release of LightGBM. Pass 'early_stopping()' callback via 'callbacks' argument instead.\n",
      "  _log_warning(\"'early_stopping_rounds' argument is deprecated and will be removed in a future release of LightGBM. \"\n",
      "/home/roton/miniconda3/envs/mars/lib/python3.7/site-packages/lightgbm/sklearn.py:736: UserWarning: 'verbose' argument is deprecated and will be removed in a future release of LightGBM. Pass 'log_evaluation()' callback via 'callbacks' argument instead.\n",
      "  _log_warning(\"'verbose' argument is deprecated and will be removed in a future release of LightGBM. \"\n"
     ]
    },
    {
     "name": "stdout",
     "output_type": "stream",
     "text": [
      "[1]\tvalid_0's binary_logloss: 0.521334\n",
      "[2]\tvalid_0's binary_logloss: 0.475072\n",
      "[3]\tvalid_0's binary_logloss: 0.437863\n",
      "[4]\tvalid_0's binary_logloss: 0.405813\n",
      "[5]\tvalid_0's binary_logloss: 0.379161\n",
      "[6]\tvalid_0's binary_logloss: 0.355404\n",
      "[7]\tvalid_0's binary_logloss: 0.335471\n",
      "[8]\tvalid_0's binary_logloss: 0.317706\n",
      "[9]\tvalid_0's binary_logloss: 0.303799\n",
      "[10]\tvalid_0's binary_logloss: 0.290458\n",
      "[11]\tvalid_0's binary_logloss: 0.279511\n",
      "[12]\tvalid_0's binary_logloss: 0.269469\n",
      "[13]\tvalid_0's binary_logloss: 0.260336\n",
      "[14]\tvalid_0's binary_logloss: 0.252461\n",
      "[15]\tvalid_0's binary_logloss: 0.245114\n",
      "[16]\tvalid_0's binary_logloss: 0.237887\n",
      "[17]\tvalid_0's binary_logloss: 0.231762\n",
      "[18]\tvalid_0's binary_logloss: 0.226019\n",
      "[19]\tvalid_0's binary_logloss: 0.220887\n",
      "[20]\tvalid_0's binary_logloss: 0.217216\n",
      "[21]\tvalid_0's binary_logloss: 0.213187\n",
      "[22]\tvalid_0's binary_logloss: 0.209932\n",
      "[23]\tvalid_0's binary_logloss: 0.206703\n",
      "[24]\tvalid_0's binary_logloss: 0.205352\n",
      "[25]\tvalid_0's binary_logloss: 0.203345\n",
      "[26]\tvalid_0's binary_logloss: 0.201251\n",
      "[27]\tvalid_0's binary_logloss: 0.200681\n",
      "[28]\tvalid_0's binary_logloss: 0.199314\n",
      "[29]\tvalid_0's binary_logloss: 0.19763\n",
      "[30]\tvalid_0's binary_logloss: 0.195694\n",
      "[31]\tvalid_0's binary_logloss: 0.194644\n",
      "[32]\tvalid_0's binary_logloss: 0.193764\n",
      "[33]\tvalid_0's binary_logloss: 0.193818\n",
      "[34]\tvalid_0's binary_logloss: 0.192927\n",
      "[35]\tvalid_0's binary_logloss: 0.192243\n",
      "[36]\tvalid_0's binary_logloss: 0.19185\n",
      "[37]\tvalid_0's binary_logloss: 0.192342\n",
      "[38]\tvalid_0's binary_logloss: 0.191611\n",
      "[39]\tvalid_0's binary_logloss: 0.191951\n",
      "[40]\tvalid_0's binary_logloss: 0.192487\n",
      "[41]\tvalid_0's binary_logloss: 0.192505\n",
      "[42]\tvalid_0's binary_logloss: 0.192669\n",
      "[43]\tvalid_0's binary_logloss: 0.192304\n",
      "[44]\tvalid_0's binary_logloss: 0.197411\n",
      "[45]\tvalid_0's binary_logloss: 0.197986\n",
      "[46]\tvalid_0's binary_logloss: 0.199304\n",
      "[47]\tvalid_0's binary_logloss: 0.2001\n",
      "[48]\tvalid_0's binary_logloss: 0.200364\n",
      "[49]\tvalid_0's binary_logloss: 0.201335\n",
      "[50]\tvalid_0's binary_logloss: 0.201847\n",
      "[51]\tvalid_0's binary_logloss: 0.202068\n",
      "[52]\tvalid_0's binary_logloss: 0.201853\n",
      "[53]\tvalid_0's binary_logloss: 0.202807\n",
      "[54]\tvalid_0's binary_logloss: 0.202804\n",
      "[55]\tvalid_0's binary_logloss: 0.203033\n",
      "[56]\tvalid_0's binary_logloss: 0.20303\n",
      "[57]\tvalid_0's binary_logloss: 0.203139\n",
      "[58]\tvalid_0's binary_logloss: 0.202937\n",
      "evaluating on the training set...\n",
      "fitting HMM smoother...\n",
      "fitting forward-backward smoother...\n"
     ]
    },
    {
     "name": "stderr",
     "output_type": "stream",
     "text": [
      "/home/roton/miniconda3/envs/mars/lib/python3.7/site-packages/sklearn/utils/validation.py:70: FutureWarning: Pass threshold=0.5 as keyword args. From version 0.25 passing these as positional arguments will result in an error\n",
      "  FutureWarning)\n"
     ]
    },
    {
     "name": "stdout",
     "output_type": "stream",
     "text": [
      "HMM label smoothing training took 0.10 mins\n",
      "performance on training set:\n",
      "P: 0.8955, R: 0.9108, F1: 0.9031    investigation\n",
      "done training!\n",
      "complete training took 2.53 mins\n",
      "loading test data...\n"
     ]
    },
    {
     "name": "stderr",
     "output_type": "stream",
     "text": [
      "Filtering sequence 0/27    0% --  [Elapsed Time: 0:00:00] |  | (ETA:  --:--:--) \r"
     ]
    },
    {
     "name": "stdout",
     "output_type": "stream",
     "text": [
      "sorting features and applying filters...\n"
     ]
    },
    {
     "name": "stderr",
     "output_type": "stream",
     "text": [
      "Filtering sequence 27/27  100% --  [Elapsed Time: 0:04:56] |##| (Time: 0:04:56) \n"
     ]
    },
    {
     "name": "stdout",
     "output_type": "stream",
     "text": [
      "done!\n",
      "\n",
      "loaded test data: 364826 X 3408 - ['investigation'] \n",
      "loading classifiers from /media/storage/ryan/mabe_challenge/behavior/trained_classifiers/mabe_challenge_lgt_es20_wnd/\n",
      "n_classes = 4\n",
      "{'attack': 0, 'investigation': 1, 'mount': 2, 'other': 3}\n",
      "predicting investigation...\n",
      "inference took 57.53 sec\n",
      " \n",
      "Classifier performance:\n"
     ]
    },
    {
     "name": "stderr",
     "output_type": "stream",
     "text": [
      "/home/roton/miniconda3/envs/mars/lib/python3.7/site-packages/sklearn/metrics/_classification.py:1221: UndefinedMetricWarning: Precision and F-score are ill-defined and being set to 0.0 in labels with no predicted samples. Use `zero_division` parameter to control this behavior.\n",
      "  _warn_prf(average, modifier, msg_start, len(result))\n",
      "/home/roton/miniconda3/envs/mars/lib/python3.7/site-packages/sklearn/metrics/_classification.py:1221: UndefinedMetricWarning: Recall and F-score are ill-defined and being set to 0.0 in labels with no true samples. Use `zero_division` parameter to control this behavior.\n",
      "  _warn_prf(average, modifier, msg_start, len(result))\n"
     ]
    },
    {
     "name": "stdout",
     "output_type": "stream",
     "text": [
      "              attack   investigation   other    \n",
      "  Precision:    0.0      0.847      0.0     \n",
      "     Recall:    0.0      0.798      0.0     \n",
      "   F1 Score:    0.0      0.822      0.0     \n",
      "Loop: 9\n",
      "val set size: 37960\n",
      "training set size: 271967.0\n",
      "loading training data...\n"
     ]
    },
    {
     "name": "stderr",
     "output_type": "stream",
     "text": [
      "Filtering sequence 0/36    0% --  [Elapsed Time: 0:00:00] |  | (ETA:  --:--:--) \r"
     ]
    },
    {
     "name": "stdout",
     "output_type": "stream",
     "text": [
      "sorting features and applying filters...\n"
     ]
    },
    {
     "name": "stderr",
     "output_type": "stream",
     "text": [
      "Filtering sequence 36/36  100% --  [Elapsed Time: 0:03:42] |##| (Time: 0:03:42) \n"
     ]
    },
    {
     "name": "stdout",
     "output_type": "stream",
     "text": [
      "done!\n",
      "\n",
      "loading validation data...\n"
     ]
    },
    {
     "name": "stderr",
     "output_type": "stream",
     "text": [
      "Filtering sequence 0/2    0% --  [Elapsed Time: 0:00:00] |   | (ETA:  --:--:--) \r"
     ]
    },
    {
     "name": "stdout",
     "output_type": "stream",
     "text": [
      "sorting features and applying filters...\n"
     ]
    },
    {
     "name": "stderr",
     "output_type": "stream",
     "text": [
      "Filtering sequence 2/2  100% --  [Elapsed Time: 0:00:32] |####| (Time: 0:00:32) \n"
     ]
    },
    {
     "name": "stdout",
     "output_type": "stream",
     "text": [
      "done!\n",
      "\n",
      "loaded training data: 271967 X 3408 - ['investigation'] \n",
      "Training classifier: MABE_CHALLENGE_LGT_ES20_WND/\n",
      "######################### investigation #########################\n",
      "training using 82517 positive frames (1002 bouts)\n",
      "fitting preprocessing parameters...\n",
      "fitting clf for investigation\n",
      "    training set: 82517 positive / 271967 total (30 %)\n",
      "    eval set: 9936 positive / 37960 total (26 %)\n",
      "  + early stopping\n"
     ]
    },
    {
     "name": "stderr",
     "output_type": "stream",
     "text": [
      "/home/roton/miniconda3/envs/mars/lib/python3.7/site-packages/lightgbm/sklearn.py:726: UserWarning: 'early_stopping_rounds' argument is deprecated and will be removed in a future release of LightGBM. Pass 'early_stopping()' callback via 'callbacks' argument instead.\n",
      "  _log_warning(\"'early_stopping_rounds' argument is deprecated and will be removed in a future release of LightGBM. \"\n",
      "/home/roton/miniconda3/envs/mars/lib/python3.7/site-packages/lightgbm/sklearn.py:736: UserWarning: 'verbose' argument is deprecated and will be removed in a future release of LightGBM. Pass 'log_evaluation()' callback via 'callbacks' argument instead.\n",
      "  _log_warning(\"'verbose' argument is deprecated and will be removed in a future release of LightGBM. \"\n"
     ]
    },
    {
     "name": "stdout",
     "output_type": "stream",
     "text": [
      "[1]\tvalid_0's binary_logloss: 0.52161\n",
      "[2]\tvalid_0's binary_logloss: 0.476467\n",
      "[3]\tvalid_0's binary_logloss: 0.43843\n",
      "[4]\tvalid_0's binary_logloss: 0.407792\n",
      "[5]\tvalid_0's binary_logloss: 0.38036\n",
      "[6]\tvalid_0's binary_logloss: 0.357103\n",
      "[7]\tvalid_0's binary_logloss: 0.336069\n",
      "[8]\tvalid_0's binary_logloss: 0.318069\n",
      "[9]\tvalid_0's binary_logloss: 0.303651\n",
      "[10]\tvalid_0's binary_logloss: 0.290577\n",
      "[11]\tvalid_0's binary_logloss: 0.279414\n",
      "[12]\tvalid_0's binary_logloss: 0.269358\n",
      "[13]\tvalid_0's binary_logloss: 0.260838\n",
      "[14]\tvalid_0's binary_logloss: 0.252987\n",
      "[15]\tvalid_0's binary_logloss: 0.245351\n",
      "[16]\tvalid_0's binary_logloss: 0.238563\n",
      "[17]\tvalid_0's binary_logloss: 0.234616\n",
      "[18]\tvalid_0's binary_logloss: 0.228997\n",
      "[19]\tvalid_0's binary_logloss: 0.22484\n",
      "[20]\tvalid_0's binary_logloss: 0.220583\n",
      "[21]\tvalid_0's binary_logloss: 0.217326\n",
      "[22]\tvalid_0's binary_logloss: 0.213594\n",
      "[23]\tvalid_0's binary_logloss: 0.211179\n",
      "[24]\tvalid_0's binary_logloss: 0.20816\n",
      "[25]\tvalid_0's binary_logloss: 0.206284\n",
      "[26]\tvalid_0's binary_logloss: 0.204129\n",
      "[27]\tvalid_0's binary_logloss: 0.203309\n",
      "[28]\tvalid_0's binary_logloss: 0.201919\n",
      "[29]\tvalid_0's binary_logloss: 0.201211\n",
      "[30]\tvalid_0's binary_logloss: 0.199746\n",
      "[31]\tvalid_0's binary_logloss: 0.198967\n",
      "[32]\tvalid_0's binary_logloss: 0.197647\n",
      "[33]\tvalid_0's binary_logloss: 0.196738\n",
      "[34]\tvalid_0's binary_logloss: 0.196335\n",
      "[35]\tvalid_0's binary_logloss: 0.196632\n",
      "[36]\tvalid_0's binary_logloss: 0.196473\n",
      "[37]\tvalid_0's binary_logloss: 0.196625\n",
      "[38]\tvalid_0's binary_logloss: 0.195486\n",
      "[39]\tvalid_0's binary_logloss: 0.195168\n",
      "[40]\tvalid_0's binary_logloss: 0.195366\n",
      "[41]\tvalid_0's binary_logloss: 0.195031\n",
      "[42]\tvalid_0's binary_logloss: 0.194871\n",
      "[43]\tvalid_0's binary_logloss: 0.194554\n",
      "[44]\tvalid_0's binary_logloss: 0.19466\n",
      "[45]\tvalid_0's binary_logloss: 0.195245\n",
      "[46]\tvalid_0's binary_logloss: 0.195515\n",
      "[47]\tvalid_0's binary_logloss: 0.19557\n",
      "[48]\tvalid_0's binary_logloss: 0.195713\n",
      "[49]\tvalid_0's binary_logloss: 0.196334\n",
      "[50]\tvalid_0's binary_logloss: 0.197221\n",
      "[51]\tvalid_0's binary_logloss: 0.196763\n",
      "[52]\tvalid_0's binary_logloss: 0.197555\n",
      "[53]\tvalid_0's binary_logloss: 0.197933\n",
      "[54]\tvalid_0's binary_logloss: 0.198164\n",
      "[55]\tvalid_0's binary_logloss: 0.19851\n",
      "[56]\tvalid_0's binary_logloss: 0.19826\n",
      "[57]\tvalid_0's binary_logloss: 0.198692\n",
      "[58]\tvalid_0's binary_logloss: 0.198535\n",
      "[59]\tvalid_0's binary_logloss: 0.199053\n",
      "[60]\tvalid_0's binary_logloss: 0.198897\n",
      "[61]\tvalid_0's binary_logloss: 0.198679\n",
      "[62]\tvalid_0's binary_logloss: 0.198817\n",
      "[63]\tvalid_0's binary_logloss: 0.198849\n",
      "evaluating on the training set...\n",
      "fitting HMM smoother...\n",
      "fitting forward-backward smoother...\n"
     ]
    },
    {
     "name": "stderr",
     "output_type": "stream",
     "text": [
      "/home/roton/miniconda3/envs/mars/lib/python3.7/site-packages/sklearn/utils/validation.py:70: FutureWarning: Pass threshold=0.5 as keyword args. From version 0.25 passing these as positional arguments will result in an error\n",
      "  FutureWarning)\n"
     ]
    },
    {
     "name": "stdout",
     "output_type": "stream",
     "text": [
      "HMM label smoothing training took 0.12 mins\n",
      "performance on training set:\n",
      "P: 0.8950, R: 0.9112, F1: 0.9031    investigation\n",
      "done training!\n",
      "complete training took 3.31 mins\n",
      "loading test data...\n"
     ]
    },
    {
     "name": "stderr",
     "output_type": "stream",
     "text": [
      "Filtering sequence 0/27    0% --  [Elapsed Time: 0:00:00] |  | (ETA:  --:--:--) \r"
     ]
    },
    {
     "name": "stdout",
     "output_type": "stream",
     "text": [
      "sorting features and applying filters...\n"
     ]
    },
    {
     "name": "stderr",
     "output_type": "stream",
     "text": [
      "Filtering sequence 27/27  100% --  [Elapsed Time: 0:04:55] |##| (Time: 0:04:55) \n"
     ]
    },
    {
     "name": "stdout",
     "output_type": "stream",
     "text": [
      "done!\n",
      "\n",
      "loaded test data: 364826 X 3408 - ['investigation'] \n",
      "loading classifiers from /media/storage/ryan/mabe_challenge/behavior/trained_classifiers/mabe_challenge_lgt_es20_wnd/\n",
      "n_classes = 4\n",
      "{'attack': 0, 'investigation': 1, 'mount': 2, 'other': 3}\n",
      "predicting investigation...\n",
      "inference took 57.63 sec\n",
      " \n",
      "Classifier performance:\n"
     ]
    },
    {
     "name": "stderr",
     "output_type": "stream",
     "text": [
      "/home/roton/miniconda3/envs/mars/lib/python3.7/site-packages/sklearn/metrics/_classification.py:1221: UndefinedMetricWarning: Precision and F-score are ill-defined and being set to 0.0 in labels with no predicted samples. Use `zero_division` parameter to control this behavior.\n",
      "  _warn_prf(average, modifier, msg_start, len(result))\n",
      "/home/roton/miniconda3/envs/mars/lib/python3.7/site-packages/sklearn/metrics/_classification.py:1221: UndefinedMetricWarning: Recall and F-score are ill-defined and being set to 0.0 in labels with no true samples. Use `zero_division` parameter to control this behavior.\n",
      "  _warn_prf(average, modifier, msg_start, len(result))\n"
     ]
    },
    {
     "name": "stdout",
     "output_type": "stream",
     "text": [
      "              attack   investigation   other    \n",
      "  Precision:    0.0      0.85       0.0     \n",
      "     Recall:    0.0      0.784      0.0     \n",
      "   F1 Score:    0.0      0.816      0.0     \n",
      "Loop: 10\n",
      "val set size: 37960\n",
      "training set size: 325914.0\n",
      "loading training data...\n"
     ]
    },
    {
     "name": "stderr",
     "output_type": "stream",
     "text": [
      "Filtering sequence 0/44    0% --  [Elapsed Time: 0:00:00] |  | (ETA:  --:--:--) \r"
     ]
    },
    {
     "name": "stdout",
     "output_type": "stream",
     "text": [
      "sorting features and applying filters...\n"
     ]
    },
    {
     "name": "stderr",
     "output_type": "stream",
     "text": [
      "Filtering sequence 44/44  100% --  [Elapsed Time: 0:04:22] |##| (Time: 0:04:22) \n"
     ]
    },
    {
     "name": "stdout",
     "output_type": "stream",
     "text": [
      "done!\n",
      "\n",
      "loading validation data...\n"
     ]
    },
    {
     "name": "stderr",
     "output_type": "stream",
     "text": [
      "Filtering sequence 0/2    0% --  [Elapsed Time: 0:00:00] |   | (ETA:  --:--:--) \r"
     ]
    },
    {
     "name": "stdout",
     "output_type": "stream",
     "text": [
      "sorting features and applying filters...\n"
     ]
    },
    {
     "name": "stderr",
     "output_type": "stream",
     "text": [
      "Filtering sequence 2/2  100% --  [Elapsed Time: 0:00:31] |####| (Time: 0:00:31) \n"
     ]
    },
    {
     "name": "stdout",
     "output_type": "stream",
     "text": [
      "done!\n",
      "\n",
      "loaded training data: 325914 X 3408 - ['investigation'] \n",
      "Training classifier: MABE_CHALLENGE_LGT_ES20_WND/\n",
      "######################### investigation #########################\n",
      "training using 92580 positive frames (1151 bouts)\n",
      "fitting preprocessing parameters...\n",
      "fitting clf for investigation\n",
      "    training set: 92580 positive / 325914 total (28 %)\n",
      "    eval set: 9936 positive / 37960 total (26 %)\n",
      "  + early stopping\n"
     ]
    },
    {
     "name": "stderr",
     "output_type": "stream",
     "text": [
      "/home/roton/miniconda3/envs/mars/lib/python3.7/site-packages/lightgbm/sklearn.py:726: UserWarning: 'early_stopping_rounds' argument is deprecated and will be removed in a future release of LightGBM. Pass 'early_stopping()' callback via 'callbacks' argument instead.\n",
      "  _log_warning(\"'early_stopping_rounds' argument is deprecated and will be removed in a future release of LightGBM. \"\n",
      "/home/roton/miniconda3/envs/mars/lib/python3.7/site-packages/lightgbm/sklearn.py:736: UserWarning: 'verbose' argument is deprecated and will be removed in a future release of LightGBM. Pass 'log_evaluation()' callback via 'callbacks' argument instead.\n",
      "  _log_warning(\"'verbose' argument is deprecated and will be removed in a future release of LightGBM. \"\n"
     ]
    },
    {
     "name": "stdout",
     "output_type": "stream",
     "text": [
      "[1]\tvalid_0's binary_logloss: 0.518476\n",
      "[2]\tvalid_0's binary_logloss: 0.472899\n",
      "[3]\tvalid_0's binary_logloss: 0.435894\n",
      "[4]\tvalid_0's binary_logloss: 0.404822\n",
      "[5]\tvalid_0's binary_logloss: 0.377562\n",
      "[6]\tvalid_0's binary_logloss: 0.353708\n",
      "[7]\tvalid_0's binary_logloss: 0.334395\n",
      "[8]\tvalid_0's binary_logloss: 0.317099\n",
      "[9]\tvalid_0's binary_logloss: 0.302644\n",
      "[10]\tvalid_0's binary_logloss: 0.29053\n",
      "[11]\tvalid_0's binary_logloss: 0.279251\n",
      "[12]\tvalid_0's binary_logloss: 0.269033\n",
      "[13]\tvalid_0's binary_logloss: 0.259242\n",
      "[14]\tvalid_0's binary_logloss: 0.251321\n",
      "[15]\tvalid_0's binary_logloss: 0.243694\n",
      "[16]\tvalid_0's binary_logloss: 0.237941\n",
      "[17]\tvalid_0's binary_logloss: 0.232295\n",
      "[18]\tvalid_0's binary_logloss: 0.226804\n",
      "[19]\tvalid_0's binary_logloss: 0.222414\n",
      "[20]\tvalid_0's binary_logloss: 0.217746\n",
      "[21]\tvalid_0's binary_logloss: 0.214188\n",
      "[22]\tvalid_0's binary_logloss: 0.211408\n",
      "[23]\tvalid_0's binary_logloss: 0.208268\n",
      "[24]\tvalid_0's binary_logloss: 0.20601\n",
      "[25]\tvalid_0's binary_logloss: 0.203724\n",
      "[26]\tvalid_0's binary_logloss: 0.201298\n",
      "[27]\tvalid_0's binary_logloss: 0.199928\n",
      "[28]\tvalid_0's binary_logloss: 0.198169\n",
      "[29]\tvalid_0's binary_logloss: 0.196828\n",
      "[30]\tvalid_0's binary_logloss: 0.195322\n",
      "[31]\tvalid_0's binary_logloss: 0.194793\n",
      "[32]\tvalid_0's binary_logloss: 0.193868\n",
      "[33]\tvalid_0's binary_logloss: 0.193478\n",
      "[34]\tvalid_0's binary_logloss: 0.193088\n",
      "[35]\tvalid_0's binary_logloss: 0.192236\n",
      "[36]\tvalid_0's binary_logloss: 0.191665\n",
      "[37]\tvalid_0's binary_logloss: 0.191356\n",
      "[38]\tvalid_0's binary_logloss: 0.190603\n",
      "[39]\tvalid_0's binary_logloss: 0.189952\n",
      "[40]\tvalid_0's binary_logloss: 0.189205\n",
      "[41]\tvalid_0's binary_logloss: 0.189556\n",
      "[42]\tvalid_0's binary_logloss: 0.189597\n",
      "[43]\tvalid_0's binary_logloss: 0.189119\n",
      "[44]\tvalid_0's binary_logloss: 0.188745\n",
      "[45]\tvalid_0's binary_logloss: 0.188575\n",
      "[46]\tvalid_0's binary_logloss: 0.188683\n",
      "[47]\tvalid_0's binary_logloss: 0.188016\n",
      "[48]\tvalid_0's binary_logloss: 0.188213\n",
      "[49]\tvalid_0's binary_logloss: 0.188422\n",
      "[50]\tvalid_0's binary_logloss: 0.188512\n",
      "[51]\tvalid_0's binary_logloss: 0.188776\n",
      "[52]\tvalid_0's binary_logloss: 0.189356\n",
      "[53]\tvalid_0's binary_logloss: 0.189372\n",
      "[54]\tvalid_0's binary_logloss: 0.189904\n",
      "[55]\tvalid_0's binary_logloss: 0.189962\n",
      "[56]\tvalid_0's binary_logloss: 0.189966\n",
      "[57]\tvalid_0's binary_logloss: 0.190437\n",
      "[58]\tvalid_0's binary_logloss: 0.19012\n",
      "[59]\tvalid_0's binary_logloss: 0.189851\n",
      "[60]\tvalid_0's binary_logloss: 0.18978\n",
      "[61]\tvalid_0's binary_logloss: 0.189958\n",
      "[62]\tvalid_0's binary_logloss: 0.190265\n",
      "[63]\tvalid_0's binary_logloss: 0.190289\n",
      "[64]\tvalid_0's binary_logloss: 0.190439\n",
      "[65]\tvalid_0's binary_logloss: 0.190563\n",
      "[66]\tvalid_0's binary_logloss: 0.190765\n",
      "[67]\tvalid_0's binary_logloss: 0.190897\n",
      "evaluating on the training set...\n",
      "fitting HMM smoother...\n",
      "fitting forward-backward smoother...\n"
     ]
    },
    {
     "name": "stderr",
     "output_type": "stream",
     "text": [
      "/home/roton/miniconda3/envs/mars/lib/python3.7/site-packages/sklearn/utils/validation.py:70: FutureWarning: Pass threshold=0.5 as keyword args. From version 0.25 passing these as positional arguments will result in an error\n",
      "  FutureWarning)\n"
     ]
    },
    {
     "name": "stdout",
     "output_type": "stream",
     "text": [
      "HMM label smoothing training took 0.18 mins\n",
      "performance on training set:\n",
      "P: 0.8900, R: 0.8968, F1: 0.8934    investigation\n",
      "done training!\n",
      "complete training took 4.62 mins\n",
      "loading test data...\n"
     ]
    },
    {
     "name": "stderr",
     "output_type": "stream",
     "text": [
      "Filtering sequence 0/27    0% --  [Elapsed Time: 0:00:00] |  | (ETA:  --:--:--) \r"
     ]
    },
    {
     "name": "stdout",
     "output_type": "stream",
     "text": [
      "sorting features and applying filters...\n"
     ]
    },
    {
     "name": "stderr",
     "output_type": "stream",
     "text": [
      "Filtering sequence 27/27  100% --  [Elapsed Time: 0:05:02] |##| (Time: 0:05:02) \n"
     ]
    },
    {
     "name": "stdout",
     "output_type": "stream",
     "text": [
      "done!\n",
      "\n",
      "loaded test data: 364826 X 3408 - ['investigation'] \n",
      "loading classifiers from /media/storage/ryan/mabe_challenge/behavior/trained_classifiers/mabe_challenge_lgt_es20_wnd/\n",
      "n_classes = 4\n",
      "{'attack': 0, 'investigation': 1, 'mount': 2, 'other': 3}\n",
      "predicting investigation...\n",
      "inference took 60.03 sec\n",
      " \n",
      "Classifier performance:\n"
     ]
    },
    {
     "name": "stderr",
     "output_type": "stream",
     "text": [
      "/home/roton/miniconda3/envs/mars/lib/python3.7/site-packages/sklearn/metrics/_classification.py:1221: UndefinedMetricWarning: Precision and F-score are ill-defined and being set to 0.0 in labels with no predicted samples. Use `zero_division` parameter to control this behavior.\n",
      "  _warn_prf(average, modifier, msg_start, len(result))\n",
      "/home/roton/miniconda3/envs/mars/lib/python3.7/site-packages/sklearn/metrics/_classification.py:1221: UndefinedMetricWarning: Recall and F-score are ill-defined and being set to 0.0 in labels with no true samples. Use `zero_division` parameter to control this behavior.\n",
      "  _warn_prf(average, modifier, msg_start, len(result))\n"
     ]
    },
    {
     "name": "stdout",
     "output_type": "stream",
     "text": [
      "              attack   investigation   other    \n",
      "  Precision:    0.0      0.864      0.0     \n",
      "     Recall:    0.0      0.79       0.0     \n",
      "   F1 Score:    0.0      0.826      0.0     \n",
      "Loop: 11\n",
      "val set size: 41001\n",
      "training set size: 368990.0\n",
      "loading training data...\n"
     ]
    },
    {
     "name": "stderr",
     "output_type": "stream",
     "text": [
      "Filtering sequence 0/51    0% --  [Elapsed Time: 0:00:00] |  | (ETA:  --:--:--) \r"
     ]
    },
    {
     "name": "stdout",
     "output_type": "stream",
     "text": [
      "sorting features and applying filters...\n"
     ]
    },
    {
     "name": "stderr",
     "output_type": "stream",
     "text": [
      "Filtering sequence 51/51  100% --  [Elapsed Time: 0:05:04] |##| (Time: 0:05:04) \n"
     ]
    },
    {
     "name": "stdout",
     "output_type": "stream",
     "text": [
      "done!\n",
      "\n",
      "loading validation data...\n"
     ]
    },
    {
     "name": "stderr",
     "output_type": "stream",
     "text": [
      "Filtering sequence 0/3    0% --  [Elapsed Time: 0:00:00] |   | (ETA:  --:--:--) \r"
     ]
    },
    {
     "name": "stdout",
     "output_type": "stream",
     "text": [
      "sorting features and applying filters...\n"
     ]
    },
    {
     "name": "stderr",
     "output_type": "stream",
     "text": [
      "Filtering sequence 3/3  100% --  [Elapsed Time: 0:00:33] |####| (Time: 0:00:33) \n"
     ]
    },
    {
     "name": "stdout",
     "output_type": "stream",
     "text": [
      "done!\n",
      "\n",
      "loaded training data: 368990 X 3408 - ['investigation'] \n",
      "Training classifier: MABE_CHALLENGE_LGT_ES20_WND/\n",
      "######################### investigation #########################\n",
      "training using 110532 positive frames (1304 bouts)\n",
      "fitting preprocessing parameters...\n",
      "fitting clf for investigation\n",
      "    training set: 110532 positive / 368990 total (29 %)\n",
      "    eval set: 10363 positive / 41001 total (25 %)\n",
      "  + early stopping\n"
     ]
    },
    {
     "name": "stderr",
     "output_type": "stream",
     "text": [
      "/home/roton/miniconda3/envs/mars/lib/python3.7/site-packages/lightgbm/sklearn.py:726: UserWarning: 'early_stopping_rounds' argument is deprecated and will be removed in a future release of LightGBM. Pass 'early_stopping()' callback via 'callbacks' argument instead.\n",
      "  _log_warning(\"'early_stopping_rounds' argument is deprecated and will be removed in a future release of LightGBM. \"\n",
      "/home/roton/miniconda3/envs/mars/lib/python3.7/site-packages/lightgbm/sklearn.py:736: UserWarning: 'verbose' argument is deprecated and will be removed in a future release of LightGBM. Pass 'log_evaluation()' callback via 'callbacks' argument instead.\n",
      "  _log_warning(\"'verbose' argument is deprecated and will be removed in a future release of LightGBM. \"\n"
     ]
    },
    {
     "name": "stdout",
     "output_type": "stream",
     "text": [
      "[1]\tvalid_0's binary_logloss: 0.513911\n",
      "[2]\tvalid_0's binary_logloss: 0.468739\n",
      "[3]\tvalid_0's binary_logloss: 0.432165\n",
      "[4]\tvalid_0's binary_logloss: 0.400518\n",
      "[5]\tvalid_0's binary_logloss: 0.37362\n",
      "[6]\tvalid_0's binary_logloss: 0.35173\n",
      "[7]\tvalid_0's binary_logloss: 0.332016\n",
      "[8]\tvalid_0's binary_logloss: 0.314109\n",
      "[9]\tvalid_0's binary_logloss: 0.298831\n",
      "[10]\tvalid_0's binary_logloss: 0.285547\n",
      "[11]\tvalid_0's binary_logloss: 0.27431\n",
      "[12]\tvalid_0's binary_logloss: 0.264753\n",
      "[13]\tvalid_0's binary_logloss: 0.255298\n",
      "[14]\tvalid_0's binary_logloss: 0.247331\n",
      "[15]\tvalid_0's binary_logloss: 0.240102\n",
      "[16]\tvalid_0's binary_logloss: 0.233735\n",
      "[17]\tvalid_0's binary_logloss: 0.228789\n",
      "[18]\tvalid_0's binary_logloss: 0.223739\n",
      "[19]\tvalid_0's binary_logloss: 0.219919\n",
      "[20]\tvalid_0's binary_logloss: 0.215289\n",
      "[21]\tvalid_0's binary_logloss: 0.21195\n",
      "[22]\tvalid_0's binary_logloss: 0.208211\n",
      "[23]\tvalid_0's binary_logloss: 0.206388\n",
      "[24]\tvalid_0's binary_logloss: 0.203444\n",
      "[25]\tvalid_0's binary_logloss: 0.201229\n",
      "[26]\tvalid_0's binary_logloss: 0.200498\n",
      "[27]\tvalid_0's binary_logloss: 0.198632\n",
      "[28]\tvalid_0's binary_logloss: 0.19695\n",
      "[29]\tvalid_0's binary_logloss: 0.195444\n",
      "[30]\tvalid_0's binary_logloss: 0.19374\n",
      "[31]\tvalid_0's binary_logloss: 0.191951\n",
      "[32]\tvalid_0's binary_logloss: 0.190556\n",
      "[33]\tvalid_0's binary_logloss: 0.19014\n",
      "[34]\tvalid_0's binary_logloss: 0.189388\n",
      "[35]\tvalid_0's binary_logloss: 0.189015\n",
      "[36]\tvalid_0's binary_logloss: 0.189043\n",
      "[37]\tvalid_0's binary_logloss: 0.188639\n",
      "[38]\tvalid_0's binary_logloss: 0.188311\n",
      "[39]\tvalid_0's binary_logloss: 0.187998\n",
      "[40]\tvalid_0's binary_logloss: 0.187823\n",
      "[41]\tvalid_0's binary_logloss: 0.187474\n",
      "[42]\tvalid_0's binary_logloss: 0.187084\n",
      "[43]\tvalid_0's binary_logloss: 0.187361\n",
      "[44]\tvalid_0's binary_logloss: 0.187185\n",
      "[45]\tvalid_0's binary_logloss: 0.187198\n",
      "[46]\tvalid_0's binary_logloss: 0.186895\n",
      "[47]\tvalid_0's binary_logloss: 0.186915\n",
      "[48]\tvalid_0's binary_logloss: 0.186744\n",
      "[49]\tvalid_0's binary_logloss: 0.186798\n",
      "[50]\tvalid_0's binary_logloss: 0.186363\n",
      "[51]\tvalid_0's binary_logloss: 0.186443\n",
      "[52]\tvalid_0's binary_logloss: 0.187189\n",
      "[53]\tvalid_0's binary_logloss: 0.187211\n",
      "[54]\tvalid_0's binary_logloss: 0.187011\n",
      "[55]\tvalid_0's binary_logloss: 0.187773\n",
      "[56]\tvalid_0's binary_logloss: 0.188325\n",
      "[57]\tvalid_0's binary_logloss: 0.188382\n",
      "[58]\tvalid_0's binary_logloss: 0.189247\n",
      "[59]\tvalid_0's binary_logloss: 0.189567\n",
      "[60]\tvalid_0's binary_logloss: 0.189385\n",
      "[61]\tvalid_0's binary_logloss: 0.189225\n",
      "[62]\tvalid_0's binary_logloss: 0.189137\n",
      "[63]\tvalid_0's binary_logloss: 0.188634\n",
      "[64]\tvalid_0's binary_logloss: 0.188864\n",
      "[65]\tvalid_0's binary_logloss: 0.18849\n",
      "[66]\tvalid_0's binary_logloss: 0.188944\n",
      "[67]\tvalid_0's binary_logloss: 0.188923\n",
      "[68]\tvalid_0's binary_logloss: 0.188387\n",
      "[69]\tvalid_0's binary_logloss: 0.188426\n",
      "[70]\tvalid_0's binary_logloss: 0.188323\n",
      "evaluating on the training set...\n",
      "fitting HMM smoother...\n",
      "fitting forward-backward smoother...\n"
     ]
    },
    {
     "name": "stderr",
     "output_type": "stream",
     "text": [
      "/home/roton/miniconda3/envs/mars/lib/python3.7/site-packages/sklearn/utils/validation.py:70: FutureWarning: Pass threshold=0.5 as keyword args. From version 0.25 passing these as positional arguments will result in an error\n",
      "  FutureWarning)\n"
     ]
    },
    {
     "name": "stdout",
     "output_type": "stream",
     "text": [
      "HMM label smoothing training took 0.23 mins\n",
      "performance on training set:\n",
      "P: 0.8933, R: 0.9052, F1: 0.8992    investigation\n",
      "done training!\n",
      "complete training took 5.25 mins\n",
      "loading test data...\n"
     ]
    },
    {
     "name": "stderr",
     "output_type": "stream",
     "text": [
      "Filtering sequence 0/27    0% --  [Elapsed Time: 0:00:00] |  | (ETA:  --:--:--) \r"
     ]
    },
    {
     "name": "stdout",
     "output_type": "stream",
     "text": [
      "sorting features and applying filters...\n"
     ]
    },
    {
     "name": "stderr",
     "output_type": "stream",
     "text": [
      "Filtering sequence 27/27  100% --  [Elapsed Time: 0:05:00] |##| (Time: 0:05:00) \n"
     ]
    },
    {
     "name": "stdout",
     "output_type": "stream",
     "text": [
      "done!\n",
      "\n",
      "loaded test data: 364826 X 3408 - ['investigation'] \n",
      "loading classifiers from /media/storage/ryan/mabe_challenge/behavior/trained_classifiers/mabe_challenge_lgt_es20_wnd/\n",
      "n_classes = 4\n",
      "{'attack': 0, 'investigation': 1, 'mount': 2, 'other': 3}\n",
      "predicting investigation...\n",
      "inference took 58.08 sec\n",
      " \n",
      "Classifier performance:\n"
     ]
    },
    {
     "name": "stderr",
     "output_type": "stream",
     "text": [
      "/home/roton/miniconda3/envs/mars/lib/python3.7/site-packages/sklearn/metrics/_classification.py:1221: UndefinedMetricWarning: Precision and F-score are ill-defined and being set to 0.0 in labels with no predicted samples. Use `zero_division` parameter to control this behavior.\n",
      "  _warn_prf(average, modifier, msg_start, len(result))\n",
      "/home/roton/miniconda3/envs/mars/lib/python3.7/site-packages/sklearn/metrics/_classification.py:1221: UndefinedMetricWarning: Recall and F-score are ill-defined and being set to 0.0 in labels with no true samples. Use `zero_division` parameter to control this behavior.\n",
      "  _warn_prf(average, modifier, msg_start, len(result))\n"
     ]
    },
    {
     "name": "stdout",
     "output_type": "stream",
     "text": [
      "              attack   investigation   other    \n",
      "  Precision:    0.0      0.862      0.0     \n",
      "     Recall:    0.0      0.79       0.0     \n",
      "   F1 Score:    0.0      0.825      0.0     \n",
      "Loop: 12\n",
      "val set size: 49900\n",
      "training set size: 412740.0\n",
      "loading training data...\n"
     ]
    },
    {
     "name": "stderr",
     "output_type": "stream",
     "text": [
      "Filtering sequence 0/57    0% --  [Elapsed Time: 0:00:00] |  | (ETA:  --:--:--) \r"
     ]
    },
    {
     "name": "stdout",
     "output_type": "stream",
     "text": [
      "sorting features and applying filters...\n"
     ]
    },
    {
     "name": "stderr",
     "output_type": "stream",
     "text": [
      "Filtering sequence 57/57  100% --  [Elapsed Time: 0:05:35] |##| (Time: 0:05:35) \n"
     ]
    },
    {
     "name": "stdout",
     "output_type": "stream",
     "text": [
      "done!\n",
      "\n",
      "loading validation data...\n"
     ]
    },
    {
     "name": "stderr",
     "output_type": "stream",
     "text": [
      "Filtering sequence 0/4    0% --  [Elapsed Time: 0:00:00] |   | (ETA:  --:--:--) \r"
     ]
    },
    {
     "name": "stdout",
     "output_type": "stream",
     "text": [
      "sorting features and applying filters...\n"
     ]
    },
    {
     "name": "stderr",
     "output_type": "stream",
     "text": [
      "Filtering sequence 4/4  100% --  [Elapsed Time: 0:00:40] |####| (Time: 0:00:40) \n"
     ]
    },
    {
     "name": "stdout",
     "output_type": "stream",
     "text": [
      "done!\n",
      "\n",
      "loaded training data: 412740 X 3408 - ['investigation'] \n",
      "Training classifier: MABE_CHALLENGE_LGT_ES20_WND/\n",
      "######################### investigation #########################\n",
      "training using 120371 positive frames (1496 bouts)\n",
      "fitting preprocessing parameters...\n",
      "fitting clf for investigation\n",
      "    training set: 120371 positive / 412740 total (29 %)\n",
      "    eval set: 13829 positive / 49900 total (27 %)\n",
      "  + early stopping\n"
     ]
    },
    {
     "name": "stderr",
     "output_type": "stream",
     "text": [
      "/home/roton/miniconda3/envs/mars/lib/python3.7/site-packages/lightgbm/sklearn.py:726: UserWarning: 'early_stopping_rounds' argument is deprecated and will be removed in a future release of LightGBM. Pass 'early_stopping()' callback via 'callbacks' argument instead.\n",
      "  _log_warning(\"'early_stopping_rounds' argument is deprecated and will be removed in a future release of LightGBM. \"\n",
      "/home/roton/miniconda3/envs/mars/lib/python3.7/site-packages/lightgbm/sklearn.py:736: UserWarning: 'verbose' argument is deprecated and will be removed in a future release of LightGBM. Pass 'log_evaluation()' callback via 'callbacks' argument instead.\n",
      "  _log_warning(\"'verbose' argument is deprecated and will be removed in a future release of LightGBM. \"\n"
     ]
    },
    {
     "name": "stdout",
     "output_type": "stream",
     "text": [
      "[1]\tvalid_0's binary_logloss: 0.535532\n",
      "[2]\tvalid_0's binary_logloss: 0.492831\n",
      "[3]\tvalid_0's binary_logloss: 0.456639\n",
      "[4]\tvalid_0's binary_logloss: 0.426682\n",
      "[5]\tvalid_0's binary_logloss: 0.400938\n",
      "[6]\tvalid_0's binary_logloss: 0.380113\n",
      "[7]\tvalid_0's binary_logloss: 0.361111\n",
      "[8]\tvalid_0's binary_logloss: 0.344652\n",
      "[9]\tvalid_0's binary_logloss: 0.329941\n",
      "[10]\tvalid_0's binary_logloss: 0.317723\n",
      "[11]\tvalid_0's binary_logloss: 0.306878\n",
      "[12]\tvalid_0's binary_logloss: 0.297337\n",
      "[13]\tvalid_0's binary_logloss: 0.288044\n",
      "[14]\tvalid_0's binary_logloss: 0.280199\n",
      "[15]\tvalid_0's binary_logloss: 0.274551\n",
      "[16]\tvalid_0's binary_logloss: 0.268627\n",
      "[17]\tvalid_0's binary_logloss: 0.263359\n",
      "[18]\tvalid_0's binary_logloss: 0.258741\n",
      "[19]\tvalid_0's binary_logloss: 0.254006\n",
      "[20]\tvalid_0's binary_logloss: 0.250448\n",
      "[21]\tvalid_0's binary_logloss: 0.246699\n",
      "[22]\tvalid_0's binary_logloss: 0.244434\n",
      "[23]\tvalid_0's binary_logloss: 0.241638\n",
      "[24]\tvalid_0's binary_logloss: 0.239248\n",
      "[25]\tvalid_0's binary_logloss: 0.23685\n",
      "[26]\tvalid_0's binary_logloss: 0.234667\n",
      "[27]\tvalid_0's binary_logloss: 0.232811\n",
      "[28]\tvalid_0's binary_logloss: 0.231288\n",
      "[29]\tvalid_0's binary_logloss: 0.228708\n",
      "[30]\tvalid_0's binary_logloss: 0.227713\n",
      "[31]\tvalid_0's binary_logloss: 0.226601\n",
      "[32]\tvalid_0's binary_logloss: 0.225792\n",
      "[33]\tvalid_0's binary_logloss: 0.224635\n",
      "[34]\tvalid_0's binary_logloss: 0.223744\n",
      "[35]\tvalid_0's binary_logloss: 0.222565\n",
      "[36]\tvalid_0's binary_logloss: 0.220874\n",
      "[37]\tvalid_0's binary_logloss: 0.220272\n",
      "[38]\tvalid_0's binary_logloss: 0.219249\n",
      "[39]\tvalid_0's binary_logloss: 0.219193\n",
      "[40]\tvalid_0's binary_logloss: 0.218851\n",
      "[41]\tvalid_0's binary_logloss: 0.218997\n",
      "[42]\tvalid_0's binary_logloss: 0.218558\n",
      "[43]\tvalid_0's binary_logloss: 0.218139\n",
      "[44]\tvalid_0's binary_logloss: 0.217769\n",
      "[45]\tvalid_0's binary_logloss: 0.2174\n",
      "[46]\tvalid_0's binary_logloss: 0.217817\n",
      "[47]\tvalid_0's binary_logloss: 0.217994\n",
      "[48]\tvalid_0's binary_logloss: 0.218343\n",
      "[49]\tvalid_0's binary_logloss: 0.217867\n",
      "[50]\tvalid_0's binary_logloss: 0.21806\n",
      "[51]\tvalid_0's binary_logloss: 0.218296\n",
      "[52]\tvalid_0's binary_logloss: 0.218452\n",
      "[53]\tvalid_0's binary_logloss: 0.218434\n",
      "[54]\tvalid_0's binary_logloss: 0.218872\n",
      "[55]\tvalid_0's binary_logloss: 0.218798\n",
      "[56]\tvalid_0's binary_logloss: 0.218772\n",
      "[57]\tvalid_0's binary_logloss: 0.219317\n",
      "[58]\tvalid_0's binary_logloss: 0.21907\n",
      "[59]\tvalid_0's binary_logloss: 0.2188\n",
      "[60]\tvalid_0's binary_logloss: 0.218692\n",
      "[61]\tvalid_0's binary_logloss: 0.219234\n",
      "[62]\tvalid_0's binary_logloss: 0.219377\n",
      "[63]\tvalid_0's binary_logloss: 0.219284\n",
      "[64]\tvalid_0's binary_logloss: 0.219354\n",
      "[65]\tvalid_0's binary_logloss: 0.219471\n",
      "evaluating on the training set...\n",
      "fitting HMM smoother...\n",
      "fitting forward-backward smoother...\n"
     ]
    },
    {
     "name": "stderr",
     "output_type": "stream",
     "text": [
      "/home/roton/miniconda3/envs/mars/lib/python3.7/site-packages/sklearn/utils/validation.py:70: FutureWarning: Pass threshold=0.5 as keyword args. From version 0.25 passing these as positional arguments will result in an error\n",
      "  FutureWarning)\n"
     ]
    },
    {
     "name": "stdout",
     "output_type": "stream",
     "text": [
      "HMM label smoothing training took 0.23 mins\n",
      "performance on training set:\n",
      "P: 0.8870, R: 0.8959, F1: 0.8914    investigation\n",
      "done training!\n",
      "complete training took 5.40 mins\n",
      "loading test data...\n"
     ]
    },
    {
     "name": "stderr",
     "output_type": "stream",
     "text": [
      "Filtering sequence 0/27    0% --  [Elapsed Time: 0:00:00] |  | (ETA:  --:--:--) \r"
     ]
    },
    {
     "name": "stdout",
     "output_type": "stream",
     "text": [
      "sorting features and applying filters...\n"
     ]
    },
    {
     "name": "stderr",
     "output_type": "stream",
     "text": [
      "Filtering sequence 27/27  100% --  [Elapsed Time: 0:04:55] |##| (Time: 0:04:55) \n"
     ]
    },
    {
     "name": "stdout",
     "output_type": "stream",
     "text": [
      "done!\n",
      "\n",
      "loaded test data: 364826 X 3408 - ['investigation'] \n",
      "loading classifiers from /media/storage/ryan/mabe_challenge/behavior/trained_classifiers/mabe_challenge_lgt_es20_wnd/\n",
      "n_classes = 4\n",
      "{'attack': 0, 'investigation': 1, 'mount': 2, 'other': 3}\n",
      "predicting investigation...\n",
      "inference took 59.97 sec\n",
      " \n",
      "Classifier performance:\n",
      "              attack   investigation   other    \n",
      "  Precision:    0.0      0.857      0.0     \n",
      "     Recall:    0.0      0.801      0.0     \n",
      "   F1 Score:    0.0      0.828      0.0     \n"
     ]
    },
    {
     "name": "stderr",
     "output_type": "stream",
     "text": [
      "/home/roton/miniconda3/envs/mars/lib/python3.7/site-packages/sklearn/metrics/_classification.py:1221: UndefinedMetricWarning: Precision and F-score are ill-defined and being set to 0.0 in labels with no predicted samples. Use `zero_division` parameter to control this behavior.\n",
      "  _warn_prf(average, modifier, msg_start, len(result))\n",
      "/home/roton/miniconda3/envs/mars/lib/python3.7/site-packages/sklearn/metrics/_classification.py:1221: UndefinedMetricWarning: Recall and F-score are ill-defined and being set to 0.0 in labels with no true samples. Use `zero_division` parameter to control this behavior.\n",
      "  _warn_prf(average, modifier, msg_start, len(result))\n"
     ]
    },
    {
     "name": "stdout",
     "output_type": "stream",
     "text": [
      "Loop: 13\n",
      "val set size: 51183\n",
      "training set size: 456555.0\n",
      "loading training data...\n"
     ]
    },
    {
     "name": "stderr",
     "output_type": "stream",
     "text": [
      "Filtering sequence 0/65    0% --  [Elapsed Time: 0:00:00] |  | (ETA:  --:--:--) \r"
     ]
    },
    {
     "name": "stdout",
     "output_type": "stream",
     "text": [
      "sorting features and applying filters...\n"
     ]
    },
    {
     "name": "stderr",
     "output_type": "stream",
     "text": [
      "Filtering sequence 65/65  100% --  [Elapsed Time: 0:06:10] |##| (Time: 0:06:10) \n"
     ]
    },
    {
     "name": "stdout",
     "output_type": "stream",
     "text": [
      "done!\n",
      "\n",
      "loading validation data...\n"
     ]
    },
    {
     "name": "stderr",
     "output_type": "stream",
     "text": [
      "Filtering sequence 0/5    0% --  [Elapsed Time: 0:00:00] |   | (ETA:  --:--:--) \r"
     ]
    },
    {
     "name": "stdout",
     "output_type": "stream",
     "text": [
      "sorting features and applying filters...\n"
     ]
    },
    {
     "name": "stderr",
     "output_type": "stream",
     "text": [
      "Filtering sequence 5/5  100% --  [Elapsed Time: 0:00:42] |####| (Time: 0:00:42) \n"
     ]
    },
    {
     "name": "stdout",
     "output_type": "stream",
     "text": [
      "done!\n",
      "\n",
      "loaded training data: 456555 X 3408 - ['investigation'] \n",
      "Training classifier: MABE_CHALLENGE_LGT_ES20_WND/\n",
      "######################### investigation #########################\n",
      "training using 132740 positive frames (1649 bouts)\n",
      "fitting preprocessing parameters...\n",
      "fitting clf for investigation\n",
      "    training set: 132740 positive / 456555 total (29 %)\n",
      "    eval set: 13883 positive / 51183 total (27 %)\n",
      "  + early stopping\n"
     ]
    },
    {
     "name": "stderr",
     "output_type": "stream",
     "text": [
      "/home/roton/miniconda3/envs/mars/lib/python3.7/site-packages/lightgbm/sklearn.py:726: UserWarning: 'early_stopping_rounds' argument is deprecated and will be removed in a future release of LightGBM. Pass 'early_stopping()' callback via 'callbacks' argument instead.\n",
      "  _log_warning(\"'early_stopping_rounds' argument is deprecated and will be removed in a future release of LightGBM. \"\n",
      "/home/roton/miniconda3/envs/mars/lib/python3.7/site-packages/lightgbm/sklearn.py:736: UserWarning: 'verbose' argument is deprecated and will be removed in a future release of LightGBM. Pass 'log_evaluation()' callback via 'callbacks' argument instead.\n",
      "  _log_warning(\"'verbose' argument is deprecated and will be removed in a future release of LightGBM. \"\n"
     ]
    },
    {
     "name": "stdout",
     "output_type": "stream",
     "text": [
      "[1]\tvalid_0's binary_logloss: 0.532261\n",
      "[2]\tvalid_0's binary_logloss: 0.489757\n",
      "[3]\tvalid_0's binary_logloss: 0.455992\n",
      "[4]\tvalid_0's binary_logloss: 0.426174\n",
      "[5]\tvalid_0's binary_logloss: 0.401069\n",
      "[6]\tvalid_0's binary_logloss: 0.381455\n",
      "[7]\tvalid_0's binary_logloss: 0.363456\n",
      "[8]\tvalid_0's binary_logloss: 0.347698\n",
      "[9]\tvalid_0's binary_logloss: 0.334133\n",
      "[10]\tvalid_0's binary_logloss: 0.321703\n",
      "[11]\tvalid_0's binary_logloss: 0.310594\n",
      "[12]\tvalid_0's binary_logloss: 0.30167\n",
      "[13]\tvalid_0's binary_logloss: 0.293796\n",
      "[14]\tvalid_0's binary_logloss: 0.286745\n",
      "[15]\tvalid_0's binary_logloss: 0.280327\n",
      "[16]\tvalid_0's binary_logloss: 0.274441\n",
      "[17]\tvalid_0's binary_logloss: 0.269472\n",
      "[18]\tvalid_0's binary_logloss: 0.26552\n",
      "[19]\tvalid_0's binary_logloss: 0.260756\n",
      "[20]\tvalid_0's binary_logloss: 0.257369\n",
      "[21]\tvalid_0's binary_logloss: 0.253373\n",
      "[22]\tvalid_0's binary_logloss: 0.250524\n",
      "[23]\tvalid_0's binary_logloss: 0.247813\n",
      "[24]\tvalid_0's binary_logloss: 0.246019\n",
      "[25]\tvalid_0's binary_logloss: 0.243702\n",
      "[26]\tvalid_0's binary_logloss: 0.241796\n",
      "[27]\tvalid_0's binary_logloss: 0.239921\n",
      "[28]\tvalid_0's binary_logloss: 0.238538\n",
      "[29]\tvalid_0's binary_logloss: 0.237337\n",
      "[30]\tvalid_0's binary_logloss: 0.236348\n",
      "[31]\tvalid_0's binary_logloss: 0.235299\n",
      "[32]\tvalid_0's binary_logloss: 0.234236\n",
      "[33]\tvalid_0's binary_logloss: 0.232799\n",
      "[34]\tvalid_0's binary_logloss: 0.231597\n",
      "[35]\tvalid_0's binary_logloss: 0.231266\n",
      "[36]\tvalid_0's binary_logloss: 0.230901\n",
      "[37]\tvalid_0's binary_logloss: 0.230097\n",
      "[38]\tvalid_0's binary_logloss: 0.229311\n",
      "[39]\tvalid_0's binary_logloss: 0.228634\n",
      "[40]\tvalid_0's binary_logloss: 0.227909\n",
      "[41]\tvalid_0's binary_logloss: 0.228283\n",
      "[42]\tvalid_0's binary_logloss: 0.228169\n",
      "[43]\tvalid_0's binary_logloss: 0.228072\n",
      "[44]\tvalid_0's binary_logloss: 0.228074\n",
      "[45]\tvalid_0's binary_logloss: 0.22722\n",
      "[46]\tvalid_0's binary_logloss: 0.226767\n",
      "[47]\tvalid_0's binary_logloss: 0.226819\n",
      "[48]\tvalid_0's binary_logloss: 0.226022\n",
      "[49]\tvalid_0's binary_logloss: 0.225611\n",
      "[50]\tvalid_0's binary_logloss: 0.226047\n",
      "[51]\tvalid_0's binary_logloss: 0.22582\n",
      "[52]\tvalid_0's binary_logloss: 0.226022\n",
      "[53]\tvalid_0's binary_logloss: 0.225931\n",
      "[54]\tvalid_0's binary_logloss: 0.226209\n",
      "[55]\tvalid_0's binary_logloss: 0.226244\n",
      "[56]\tvalid_0's binary_logloss: 0.225915\n",
      "[57]\tvalid_0's binary_logloss: 0.226069\n",
      "[58]\tvalid_0's binary_logloss: 0.227386\n",
      "[59]\tvalid_0's binary_logloss: 0.227196\n",
      "[60]\tvalid_0's binary_logloss: 0.227291\n",
      "[61]\tvalid_0's binary_logloss: 0.227527\n",
      "[62]\tvalid_0's binary_logloss: 0.227903\n",
      "[63]\tvalid_0's binary_logloss: 0.227922\n",
      "[64]\tvalid_0's binary_logloss: 0.227439\n",
      "[65]\tvalid_0's binary_logloss: 0.226993\n",
      "[66]\tvalid_0's binary_logloss: 0.227274\n",
      "[67]\tvalid_0's binary_logloss: 0.227351\n",
      "[68]\tvalid_0's binary_logloss: 0.226639\n",
      "[69]\tvalid_0's binary_logloss: 0.227007\n",
      "evaluating on the training set...\n",
      "fitting HMM smoother...\n",
      "fitting forward-backward smoother...\n"
     ]
    },
    {
     "name": "stderr",
     "output_type": "stream",
     "text": [
      "/home/roton/miniconda3/envs/mars/lib/python3.7/site-packages/sklearn/utils/validation.py:70: FutureWarning: Pass threshold=0.5 as keyword args. From version 0.25 passing these as positional arguments will result in an error\n",
      "  FutureWarning)\n"
     ]
    },
    {
     "name": "stdout",
     "output_type": "stream",
     "text": [
      "HMM label smoothing training took 0.27 mins\n",
      "performance on training set:\n",
      "P: 0.8875, R: 0.8989, F1: 0.8932    investigation\n",
      "done training!\n",
      "complete training took 5.28 mins\n",
      "loading test data...\n"
     ]
    },
    {
     "name": "stderr",
     "output_type": "stream",
     "text": [
      "Filtering sequence 0/27    0% --  [Elapsed Time: 0:00:00] |  | (ETA:  --:--:--) \r"
     ]
    },
    {
     "name": "stdout",
     "output_type": "stream",
     "text": [
      "sorting features and applying filters...\n"
     ]
    },
    {
     "name": "stderr",
     "output_type": "stream",
     "text": [
      "Filtering sequence 27/27  100% --  [Elapsed Time: 0:04:56] |##| (Time: 0:04:56) \n"
     ]
    },
    {
     "name": "stdout",
     "output_type": "stream",
     "text": [
      "done!\n",
      "\n",
      "loaded test data: 364826 X 3408 - ['investigation'] \n",
      "loading classifiers from /media/storage/ryan/mabe_challenge/behavior/trained_classifiers/mabe_challenge_lgt_es20_wnd/\n",
      "n_classes = 4\n",
      "{'attack': 0, 'investigation': 1, 'mount': 2, 'other': 3}\n",
      "predicting investigation...\n",
      "inference took 59.48 sec\n",
      " \n",
      "Classifier performance:\n",
      "              attack   investigation   other    \n",
      "  Precision:    0.0      0.854      0.0     \n",
      "     Recall:    0.0      0.805      0.0     \n",
      "   F1 Score:    0.0      0.828      0.0     \n"
     ]
    },
    {
     "name": "stderr",
     "output_type": "stream",
     "text": [
      "/home/roton/miniconda3/envs/mars/lib/python3.7/site-packages/sklearn/metrics/_classification.py:1221: UndefinedMetricWarning: Precision and F-score are ill-defined and being set to 0.0 in labels with no predicted samples. Use `zero_division` parameter to control this behavior.\n",
      "  _warn_prf(average, modifier, msg_start, len(result))\n",
      "/home/roton/miniconda3/envs/mars/lib/python3.7/site-packages/sklearn/metrics/_classification.py:1221: UndefinedMetricWarning: Recall and F-score are ill-defined and being set to 0.0 in labels with no true samples. Use `zero_division` parameter to control this behavior.\n",
      "  _warn_prf(average, modifier, msg_start, len(result))\n"
     ]
    },
    {
     "name": "stdout",
     "output_type": "stream",
     "text": [
      "Shuffle: 2\n",
      "Loop: 0\n",
      "val set size: 3394\n",
      "training set size: 18423.0\n",
      "loading training data...\n"
     ]
    },
    {
     "name": "stderr",
     "output_type": "stream",
     "text": [
      "Filtering sequence 0/1    0% --  [Elapsed Time: 0:00:00] |   | (ETA:  --:--:--) \r"
     ]
    },
    {
     "name": "stdout",
     "output_type": "stream",
     "text": [
      "sorting features and applying filters...\n"
     ]
    },
    {
     "name": "stderr",
     "output_type": "stream",
     "text": [
      "Filtering sequence 1/1  100% --  [Elapsed Time: 0:00:14] |####| (Time: 0:00:14) \n"
     ]
    },
    {
     "name": "stdout",
     "output_type": "stream",
     "text": [
      "done!\n",
      "\n",
      "loading validation data...\n"
     ]
    },
    {
     "name": "stderr",
     "output_type": "stream",
     "text": [
      "Filtering sequence 0/1    0% --  [Elapsed Time: 0:00:00] |   | (ETA:  --:--:--) \r"
     ]
    },
    {
     "name": "stdout",
     "output_type": "stream",
     "text": [
      "sorting features and applying filters...\n"
     ]
    },
    {
     "name": "stderr",
     "output_type": "stream",
     "text": [
      "Filtering sequence 1/1  100% --  [Elapsed Time: 0:00:02] |####| (Time: 0:00:02) \n"
     ]
    },
    {
     "name": "stdout",
     "output_type": "stream",
     "text": [
      "done!\n",
      "\n",
      "loaded training data: 18423 X 3408 - ['investigation'] \n",
      "Training classifier: MABE_CHALLENGE_LGT_ES20_WND/\n",
      "######################### investigation #########################\n",
      "training using 9742 positive frames (80 bouts)\n",
      "fitting preprocessing parameters...\n",
      "fitting clf for investigation\n",
      "    training set: 9742 positive / 18423 total (52 %)\n",
      "    eval set: 310 positive / 3394 total (9 %)\n",
      "  + early stopping\n"
     ]
    },
    {
     "name": "stderr",
     "output_type": "stream",
     "text": [
      "/home/roton/miniconda3/envs/mars/lib/python3.7/site-packages/lightgbm/sklearn.py:726: UserWarning: 'early_stopping_rounds' argument is deprecated and will be removed in a future release of LightGBM. Pass 'early_stopping()' callback via 'callbacks' argument instead.\n",
      "  _log_warning(\"'early_stopping_rounds' argument is deprecated and will be removed in a future release of LightGBM. \"\n",
      "/home/roton/miniconda3/envs/mars/lib/python3.7/site-packages/lightgbm/sklearn.py:736: UserWarning: 'verbose' argument is deprecated and will be removed in a future release of LightGBM. Pass 'log_evaluation()' callback via 'callbacks' argument instead.\n",
      "  _log_warning(\"'verbose' argument is deprecated and will be removed in a future release of LightGBM. \"\n"
     ]
    },
    {
     "name": "stdout",
     "output_type": "stream",
     "text": [
      "[1]\tvalid_0's binary_logloss: 0.705378\n",
      "[2]\tvalid_0's binary_logloss: 0.679105\n",
      "[3]\tvalid_0's binary_logloss: 0.657235\n",
      "[4]\tvalid_0's binary_logloss: 0.64246\n",
      "[5]\tvalid_0's binary_logloss: 0.636309\n",
      "[6]\tvalid_0's binary_logloss: 0.63629\n",
      "[7]\tvalid_0's binary_logloss: 0.636286\n",
      "[8]\tvalid_0's binary_logloss: 0.639098\n",
      "[9]\tvalid_0's binary_logloss: 0.643458\n",
      "[10]\tvalid_0's binary_logloss: 0.650325\n",
      "[11]\tvalid_0's binary_logloss: 0.657651\n",
      "[12]\tvalid_0's binary_logloss: 0.666001\n",
      "[13]\tvalid_0's binary_logloss: 0.675939\n",
      "[14]\tvalid_0's binary_logloss: 0.686143\n",
      "[15]\tvalid_0's binary_logloss: 0.700365\n",
      "[16]\tvalid_0's binary_logloss: 0.710603\n",
      "[17]\tvalid_0's binary_logloss: 0.726146\n",
      "[18]\tvalid_0's binary_logloss: 0.742067\n",
      "[19]\tvalid_0's binary_logloss: 0.752017\n",
      "[20]\tvalid_0's binary_logloss: 0.763415\n",
      "[21]\tvalid_0's binary_logloss: 0.779389\n",
      "[22]\tvalid_0's binary_logloss: 0.794166\n",
      "[23]\tvalid_0's binary_logloss: 0.807625\n",
      "[24]\tvalid_0's binary_logloss: 0.821692\n",
      "[25]\tvalid_0's binary_logloss: 0.836908\n",
      "[26]\tvalid_0's binary_logloss: 0.855844\n",
      "[27]\tvalid_0's binary_logloss: 0.871901\n",
      "evaluating on the training set...\n",
      "fitting HMM smoother...\n",
      "fitting forward-backward smoother...\n",
      "HMM label smoothing training took 0.01 mins\n",
      "performance on training set:\n",
      "P: 0.9789, R: 0.9893, F1: 0.9841    investigation\n",
      "done training!\n",
      "complete training took 0.20 mins\n",
      "loading test data...\n"
     ]
    },
    {
     "name": "stderr",
     "output_type": "stream",
     "text": [
      "/home/roton/miniconda3/envs/mars/lib/python3.7/site-packages/sklearn/utils/validation.py:70: FutureWarning: Pass threshold=0.5 as keyword args. From version 0.25 passing these as positional arguments will result in an error\n",
      "  FutureWarning)\n",
      "Filtering sequence 0/27    0% --  [Elapsed Time: 0:00:00] |  | (ETA:  --:--:--) \r"
     ]
    },
    {
     "name": "stdout",
     "output_type": "stream",
     "text": [
      "sorting features and applying filters...\n"
     ]
    },
    {
     "name": "stderr",
     "output_type": "stream",
     "text": [
      "Filtering sequence 27/27  100% --  [Elapsed Time: 0:04:57] |##| (Time: 0:04:57) \n"
     ]
    },
    {
     "name": "stdout",
     "output_type": "stream",
     "text": [
      "done!\n",
      "\n",
      "loaded test data: 364826 X 3408 - ['investigation'] \n",
      "loading classifiers from /media/storage/ryan/mabe_challenge/behavior/trained_classifiers/mabe_challenge_lgt_es20_wnd/\n",
      "n_classes = 4\n",
      "{'attack': 0, 'investigation': 1, 'mount': 2, 'other': 3}\n",
      "predicting investigation...\n",
      "inference took 61.33 sec\n",
      " \n",
      "Classifier performance:\n"
     ]
    },
    {
     "name": "stderr",
     "output_type": "stream",
     "text": [
      "/home/roton/miniconda3/envs/mars/lib/python3.7/site-packages/sklearn/metrics/_classification.py:1221: UndefinedMetricWarning: Precision and F-score are ill-defined and being set to 0.0 in labels with no predicted samples. Use `zero_division` parameter to control this behavior.\n",
      "  _warn_prf(average, modifier, msg_start, len(result))\n",
      "/home/roton/miniconda3/envs/mars/lib/python3.7/site-packages/sklearn/metrics/_classification.py:1221: UndefinedMetricWarning: Recall and F-score are ill-defined and being set to 0.0 in labels with no true samples. Use `zero_division` parameter to control this behavior.\n",
      "  _warn_prf(average, modifier, msg_start, len(result))\n"
     ]
    },
    {
     "name": "stdout",
     "output_type": "stream",
     "text": [
      "              attack   investigation   other    \n",
      "  Precision:    0.0      0.523      0.0     \n",
      "     Recall:    0.0      0.882      0.0     \n",
      "   F1 Score:    0.0      0.656      0.0     \n",
      "Loop: 1\n",
      "val set size: 3714\n",
      "training set size: 18423.0\n",
      "loading training data...\n"
     ]
    },
    {
     "name": "stderr",
     "output_type": "stream",
     "text": [
      "Filtering sequence 0/1    0% --  [Elapsed Time: 0:00:00] |   | (ETA:  --:--:--) \r"
     ]
    },
    {
     "name": "stdout",
     "output_type": "stream",
     "text": [
      "sorting features and applying filters...\n"
     ]
    },
    {
     "name": "stderr",
     "output_type": "stream",
     "text": [
      "Filtering sequence 1/1  100% --  [Elapsed Time: 0:00:15] |####| (Time: 0:00:15) \n"
     ]
    },
    {
     "name": "stdout",
     "output_type": "stream",
     "text": [
      "done!\n",
      "\n",
      "loading validation data...\n"
     ]
    },
    {
     "name": "stderr",
     "output_type": "stream",
     "text": [
      "Filtering sequence 0/1    0% --  [Elapsed Time: 0:00:00] |   | (ETA:  --:--:--) \r"
     ]
    },
    {
     "name": "stdout",
     "output_type": "stream",
     "text": [
      "sorting features and applying filters...\n"
     ]
    },
    {
     "name": "stderr",
     "output_type": "stream",
     "text": [
      "Filtering sequence 1/1  100% --  [Elapsed Time: 0:00:03] |####| (Time: 0:00:03) \n"
     ]
    },
    {
     "name": "stdout",
     "output_type": "stream",
     "text": [
      "done!\n",
      "\n",
      "loaded training data: 18423 X 3408 - ['investigation'] \n",
      "Training classifier: MABE_CHALLENGE_LGT_ES20_WND/\n",
      "######################### investigation #########################\n",
      "training using 9742 positive frames (80 bouts)\n",
      "fitting preprocessing parameters...\n",
      "fitting clf for investigation\n",
      "    training set: 9742 positive / 18423 total (52 %)\n",
      "    eval set: 228 positive / 3714 total (6 %)\n",
      "  + early stopping\n"
     ]
    },
    {
     "name": "stderr",
     "output_type": "stream",
     "text": [
      "/home/roton/miniconda3/envs/mars/lib/python3.7/site-packages/lightgbm/sklearn.py:726: UserWarning: 'early_stopping_rounds' argument is deprecated and will be removed in a future release of LightGBM. Pass 'early_stopping()' callback via 'callbacks' argument instead.\n",
      "  _log_warning(\"'early_stopping_rounds' argument is deprecated and will be removed in a future release of LightGBM. \"\n",
      "/home/roton/miniconda3/envs/mars/lib/python3.7/site-packages/lightgbm/sklearn.py:736: UserWarning: 'verbose' argument is deprecated and will be removed in a future release of LightGBM. Pass 'log_evaluation()' callback via 'callbacks' argument instead.\n",
      "  _log_warning(\"'verbose' argument is deprecated and will be removed in a future release of LightGBM. \"\n"
     ]
    },
    {
     "name": "stdout",
     "output_type": "stream",
     "text": [
      "[1]\tvalid_0's binary_logloss: 0.647687\n",
      "[2]\tvalid_0's binary_logloss: 0.567756\n",
      "[3]\tvalid_0's binary_logloss: 0.500656\n",
      "[4]\tvalid_0's binary_logloss: 0.444227\n",
      "[5]\tvalid_0's binary_logloss: 0.39594\n",
      "[6]\tvalid_0's binary_logloss: 0.354282\n",
      "[7]\tvalid_0's binary_logloss: 0.318545\n",
      "[8]\tvalid_0's binary_logloss: 0.287499\n",
      "[9]\tvalid_0's binary_logloss: 0.259782\n",
      "[10]\tvalid_0's binary_logloss: 0.23549\n",
      "[11]\tvalid_0's binary_logloss: 0.213046\n",
      "[12]\tvalid_0's binary_logloss: 0.194144\n",
      "[13]\tvalid_0's binary_logloss: 0.176825\n",
      "[14]\tvalid_0's binary_logloss: 0.161489\n",
      "[15]\tvalid_0's binary_logloss: 0.148256\n",
      "[16]\tvalid_0's binary_logloss: 0.136246\n",
      "[17]\tvalid_0's binary_logloss: 0.125408\n",
      "[18]\tvalid_0's binary_logloss: 0.115566\n",
      "[19]\tvalid_0's binary_logloss: 0.106578\n",
      "[20]\tvalid_0's binary_logloss: 0.0990053\n",
      "[21]\tvalid_0's binary_logloss: 0.0918788\n",
      "[22]\tvalid_0's binary_logloss: 0.0857285\n",
      "[23]\tvalid_0's binary_logloss: 0.0800521\n",
      "[24]\tvalid_0's binary_logloss: 0.0747086\n",
      "[25]\tvalid_0's binary_logloss: 0.0705928\n",
      "[26]\tvalid_0's binary_logloss: 0.0667974\n",
      "[27]\tvalid_0's binary_logloss: 0.0631593\n",
      "[28]\tvalid_0's binary_logloss: 0.0598412\n",
      "[29]\tvalid_0's binary_logloss: 0.0565103\n",
      "[30]\tvalid_0's binary_logloss: 0.054271\n",
      "[31]\tvalid_0's binary_logloss: 0.0520383\n",
      "[32]\tvalid_0's binary_logloss: 0.0496901\n",
      "[33]\tvalid_0's binary_logloss: 0.0474496\n",
      "[34]\tvalid_0's binary_logloss: 0.045614\n",
      "[35]\tvalid_0's binary_logloss: 0.0440617\n",
      "[36]\tvalid_0's binary_logloss: 0.0424886\n",
      "[37]\tvalid_0's binary_logloss: 0.0412668\n",
      "[38]\tvalid_0's binary_logloss: 0.0401528\n",
      "[39]\tvalid_0's binary_logloss: 0.0385786\n",
      "[40]\tvalid_0's binary_logloss: 0.0375244\n",
      "[41]\tvalid_0's binary_logloss: 0.0364881\n",
      "[42]\tvalid_0's binary_logloss: 0.0359323\n",
      "[43]\tvalid_0's binary_logloss: 0.0347854\n",
      "[44]\tvalid_0's binary_logloss: 0.0343215\n",
      "[45]\tvalid_0's binary_logloss: 0.0334899\n",
      "[46]\tvalid_0's binary_logloss: 0.0328411\n",
      "[47]\tvalid_0's binary_logloss: 0.0322061\n",
      "[48]\tvalid_0's binary_logloss: 0.0316941\n",
      "[49]\tvalid_0's binary_logloss: 0.0312888\n",
      "[50]\tvalid_0's binary_logloss: 0.030729\n",
      "[51]\tvalid_0's binary_logloss: 0.0305083\n",
      "[52]\tvalid_0's binary_logloss: 0.0301164\n",
      "[53]\tvalid_0's binary_logloss: 0.0299097\n",
      "[54]\tvalid_0's binary_logloss: 0.0292571\n",
      "[55]\tvalid_0's binary_logloss: 0.0294267\n",
      "[56]\tvalid_0's binary_logloss: 0.0296029\n",
      "[57]\tvalid_0's binary_logloss: 0.0291287\n",
      "[58]\tvalid_0's binary_logloss: 0.0288707\n",
      "[59]\tvalid_0's binary_logloss: 0.0287313\n",
      "[60]\tvalid_0's binary_logloss: 0.0284796\n",
      "[61]\tvalid_0's binary_logloss: 0.0284507\n",
      "[62]\tvalid_0's binary_logloss: 0.0282964\n",
      "[63]\tvalid_0's binary_logloss: 0.0283025\n",
      "[64]\tvalid_0's binary_logloss: 0.0280304\n",
      "[65]\tvalid_0's binary_logloss: 0.0281081\n",
      "[66]\tvalid_0's binary_logloss: 0.0277483\n",
      "[67]\tvalid_0's binary_logloss: 0.0276407\n",
      "[68]\tvalid_0's binary_logloss: 0.027344\n",
      "[69]\tvalid_0's binary_logloss: 0.0273109\n",
      "[70]\tvalid_0's binary_logloss: 0.027297\n",
      "[71]\tvalid_0's binary_logloss: 0.0274474\n",
      "[72]\tvalid_0's binary_logloss: 0.0270622\n",
      "[73]\tvalid_0's binary_logloss: 0.0272573\n",
      "[74]\tvalid_0's binary_logloss: 0.0272093\n",
      "[75]\tvalid_0's binary_logloss: 0.0273028\n",
      "[76]\tvalid_0's binary_logloss: 0.0268856\n",
      "[77]\tvalid_0's binary_logloss: 0.0264318\n",
      "[78]\tvalid_0's binary_logloss: 0.0264871\n",
      "[79]\tvalid_0's binary_logloss: 0.0263448\n",
      "[80]\tvalid_0's binary_logloss: 0.0265935\n",
      "[81]\tvalid_0's binary_logloss: 0.0266851\n",
      "[82]\tvalid_0's binary_logloss: 0.0268675\n",
      "[83]\tvalid_0's binary_logloss: 0.0271731\n",
      "[84]\tvalid_0's binary_logloss: 0.0274532\n",
      "[85]\tvalid_0's binary_logloss: 0.0280214\n",
      "[86]\tvalid_0's binary_logloss: 0.0279355\n",
      "[87]\tvalid_0's binary_logloss: 0.0285781\n",
      "[88]\tvalid_0's binary_logloss: 0.0286741\n",
      "[89]\tvalid_0's binary_logloss: 0.0284135\n",
      "[90]\tvalid_0's binary_logloss: 0.028377\n",
      "[91]\tvalid_0's binary_logloss: 0.0285888\n",
      "[92]\tvalid_0's binary_logloss: 0.028606\n",
      "[93]\tvalid_0's binary_logloss: 0.0284289\n",
      "[94]\tvalid_0's binary_logloss: 0.0282569\n",
      "[95]\tvalid_0's binary_logloss: 0.0283934\n",
      "[96]\tvalid_0's binary_logloss: 0.0283309\n",
      "[97]\tvalid_0's binary_logloss: 0.0284595\n",
      "[98]\tvalid_0's binary_logloss: 0.0279997\n",
      "[99]\tvalid_0's binary_logloss: 0.0283293\n",
      "evaluating on the training set...\n",
      "fitting HMM smoother...\n",
      "fitting forward-backward smoother...\n",
      "HMM label smoothing training took 0.01 mins\n",
      "performance on training set:\n",
      "P: 0.9999, R: 0.9977, F1: 0.9988    investigation\n"
     ]
    },
    {
     "name": "stderr",
     "output_type": "stream",
     "text": [
      "/home/roton/miniconda3/envs/mars/lib/python3.7/site-packages/sklearn/utils/validation.py:70: FutureWarning: Pass threshold=0.5 as keyword args. From version 0.25 passing these as positional arguments will result in an error\n",
      "  FutureWarning)\n"
     ]
    },
    {
     "name": "stdout",
     "output_type": "stream",
     "text": [
      "done training!\n",
      "complete training took 1.97 mins\n",
      "loading test data...\n"
     ]
    },
    {
     "name": "stderr",
     "output_type": "stream",
     "text": [
      "Filtering sequence 0/27    0% --  [Elapsed Time: 0:00:00] |  | (ETA:  --:--:--) \r"
     ]
    },
    {
     "name": "stdout",
     "output_type": "stream",
     "text": [
      "sorting features and applying filters...\n"
     ]
    },
    {
     "name": "stderr",
     "output_type": "stream",
     "text": [
      "Filtering sequence 27/27  100% --  [Elapsed Time: 0:05:00] |##| (Time: 0:05:00) \n"
     ]
    },
    {
     "name": "stdout",
     "output_type": "stream",
     "text": [
      "done!\n",
      "\n",
      "loaded test data: 364826 X 3408 - ['investigation'] \n",
      "loading classifiers from /media/storage/ryan/mabe_challenge/behavior/trained_classifiers/mabe_challenge_lgt_es20_wnd/\n",
      "n_classes = 4\n",
      "{'attack': 0, 'investigation': 1, 'mount': 2, 'other': 3}\n",
      "predicting investigation...\n",
      "inference took 58.84 sec\n",
      " \n",
      "Classifier performance:\n"
     ]
    },
    {
     "name": "stderr",
     "output_type": "stream",
     "text": [
      "/home/roton/miniconda3/envs/mars/lib/python3.7/site-packages/sklearn/metrics/_classification.py:1221: UndefinedMetricWarning: Precision and F-score are ill-defined and being set to 0.0 in labels with no predicted samples. Use `zero_division` parameter to control this behavior.\n",
      "  _warn_prf(average, modifier, msg_start, len(result))\n",
      "/home/roton/miniconda3/envs/mars/lib/python3.7/site-packages/sklearn/metrics/_classification.py:1221: UndefinedMetricWarning: Recall and F-score are ill-defined and being set to 0.0 in labels with no true samples. Use `zero_division` parameter to control this behavior.\n",
      "  _warn_prf(average, modifier, msg_start, len(result))\n"
     ]
    },
    {
     "name": "stdout",
     "output_type": "stream",
     "text": [
      "              attack   investigation   other    \n",
      "  Precision:    0.0      0.524      0.0     \n",
      "     Recall:    0.0      0.893      0.0     \n",
      "   F1 Score:    0.0      0.661      0.0     \n",
      "Loop: 2\n",
      "val set size: 18423\n",
      "training set size: 7904.0\n",
      "loading training data...\n"
     ]
    },
    {
     "name": "stderr",
     "output_type": "stream",
     "text": [
      "Filtering sequence 0/2    0% --  [Elapsed Time: 0:00:00] |   | (ETA:  --:--:--) \r"
     ]
    },
    {
     "name": "stdout",
     "output_type": "stream",
     "text": [
      "sorting features and applying filters...\n"
     ]
    },
    {
     "name": "stderr",
     "output_type": "stream",
     "text": [
      "Filtering sequence 2/2  100% --  [Elapsed Time: 0:00:07] |####| (Time: 0:00:07) \n",
      "Filtering sequence 0/1    0% --  [Elapsed Time: 0:00:00] |   | (ETA:  --:--:--) \r"
     ]
    },
    {
     "name": "stdout",
     "output_type": "stream",
     "text": [
      "done!\n",
      "\n",
      "loading validation data...\n",
      "sorting features and applying filters...\n"
     ]
    },
    {
     "name": "stderr",
     "output_type": "stream",
     "text": [
      "Filtering sequence 1/1  100% --  [Elapsed Time: 0:00:16] |####| (Time: 0:00:16) \n"
     ]
    },
    {
     "name": "stdout",
     "output_type": "stream",
     "text": [
      "done!\n",
      "\n",
      "loaded training data: 7904 X 3408 - ['investigation'] \n",
      "Training classifier: MABE_CHALLENGE_LGT_ES20_WND/\n",
      "######################### investigation #########################\n",
      "training using 1805 positive frames (20 bouts)\n",
      "fitting preprocessing parameters...\n",
      "fitting clf for investigation\n",
      "    training set: 1805 positive / 7904 total (22 %)\n",
      "    eval set: 9742 positive / 18423 total (52 %)\n",
      "  + early stopping\n"
     ]
    },
    {
     "name": "stderr",
     "output_type": "stream",
     "text": [
      "/home/roton/miniconda3/envs/mars/lib/python3.7/site-packages/lightgbm/sklearn.py:726: UserWarning: 'early_stopping_rounds' argument is deprecated and will be removed in a future release of LightGBM. Pass 'early_stopping()' callback via 'callbacks' argument instead.\n",
      "  _log_warning(\"'early_stopping_rounds' argument is deprecated and will be removed in a future release of LightGBM. \"\n",
      "/home/roton/miniconda3/envs/mars/lib/python3.7/site-packages/lightgbm/sklearn.py:736: UserWarning: 'verbose' argument is deprecated and will be removed in a future release of LightGBM. Pass 'log_evaluation()' callback via 'callbacks' argument instead.\n",
      "  _log_warning(\"'verbose' argument is deprecated and will be removed in a future release of LightGBM. \"\n"
     ]
    },
    {
     "name": "stdout",
     "output_type": "stream",
     "text": [
      "[1]\tvalid_0's binary_logloss: 0.790004\n",
      "[2]\tvalid_0's binary_logloss: 0.720372\n",
      "[3]\tvalid_0's binary_logloss: 0.676101\n",
      "[4]\tvalid_0's binary_logloss: 0.648258\n",
      "[5]\tvalid_0's binary_logloss: 0.619743\n",
      "[6]\tvalid_0's binary_logloss: 0.594008\n",
      "[7]\tvalid_0's binary_logloss: 0.573204\n",
      "[8]\tvalid_0's binary_logloss: 0.552142\n",
      "[9]\tvalid_0's binary_logloss: 0.543956\n",
      "[10]\tvalid_0's binary_logloss: 0.528835\n",
      "[11]\tvalid_0's binary_logloss: 0.515516\n",
      "[12]\tvalid_0's binary_logloss: 0.503303\n",
      "[13]\tvalid_0's binary_logloss: 0.494315\n",
      "[14]\tvalid_0's binary_logloss: 0.486657\n",
      "[15]\tvalid_0's binary_logloss: 0.481047\n",
      "[16]\tvalid_0's binary_logloss: 0.472251\n",
      "[17]\tvalid_0's binary_logloss: 0.468209\n",
      "[18]\tvalid_0's binary_logloss: 0.466306\n",
      "[19]\tvalid_0's binary_logloss: 0.464253\n",
      "[20]\tvalid_0's binary_logloss: 0.457989\n",
      "[21]\tvalid_0's binary_logloss: 0.452314\n",
      "[22]\tvalid_0's binary_logloss: 0.447964\n",
      "[23]\tvalid_0's binary_logloss: 0.44646\n",
      "[24]\tvalid_0's binary_logloss: 0.443735\n",
      "[25]\tvalid_0's binary_logloss: 0.443321\n",
      "[26]\tvalid_0's binary_logloss: 0.442365\n",
      "[27]\tvalid_0's binary_logloss: 0.44553\n",
      "[28]\tvalid_0's binary_logloss: 0.4439\n",
      "[29]\tvalid_0's binary_logloss: 0.443419\n",
      "[30]\tvalid_0's binary_logloss: 0.443737\n",
      "[31]\tvalid_0's binary_logloss: 0.446785\n",
      "[32]\tvalid_0's binary_logloss: 0.448262\n",
      "[33]\tvalid_0's binary_logloss: 0.449207\n",
      "[34]\tvalid_0's binary_logloss: 0.450761\n",
      "[35]\tvalid_0's binary_logloss: 0.45114\n",
      "[36]\tvalid_0's binary_logloss: 0.449436\n",
      "[37]\tvalid_0's binary_logloss: 0.449266\n",
      "[38]\tvalid_0's binary_logloss: 0.450987\n",
      "[39]\tvalid_0's binary_logloss: 0.452083\n",
      "[40]\tvalid_0's binary_logloss: 0.453493\n",
      "[41]\tvalid_0's binary_logloss: 0.454868\n",
      "[42]\tvalid_0's binary_logloss: 0.453736\n",
      "[43]\tvalid_0's binary_logloss: 0.456995\n",
      "[44]\tvalid_0's binary_logloss: 0.458516\n",
      "[45]\tvalid_0's binary_logloss: 0.463679\n",
      "[46]\tvalid_0's binary_logloss: 0.469627\n",
      "evaluating on the training set...\n",
      "fitting HMM smoother...\n",
      "fitting forward-backward smoother...\n",
      "HMM label smoothing training took 0.00 mins\n",
      "performance on training set:\n",
      "P: 0.9989, R: 0.9972, F1: 0.9981    investigation\n"
     ]
    },
    {
     "name": "stderr",
     "output_type": "stream",
     "text": [
      "/home/roton/miniconda3/envs/mars/lib/python3.7/site-packages/sklearn/utils/validation.py:70: FutureWarning: Pass threshold=0.5 as keyword args. From version 0.25 passing these as positional arguments will result in an error\n",
      "  FutureWarning)\n"
     ]
    },
    {
     "name": "stdout",
     "output_type": "stream",
     "text": [
      "done training!\n",
      "complete training took 0.82 mins\n",
      "loading test data...\n"
     ]
    },
    {
     "name": "stderr",
     "output_type": "stream",
     "text": [
      "Filtering sequence 0/27    0% --  [Elapsed Time: 0:00:00] |  | (ETA:  --:--:--) \r"
     ]
    },
    {
     "name": "stdout",
     "output_type": "stream",
     "text": [
      "sorting features and applying filters...\n"
     ]
    },
    {
     "name": "stderr",
     "output_type": "stream",
     "text": [
      "Filtering sequence 27/27  100% --  [Elapsed Time: 0:04:54] |##| (Time: 0:04:54) \n"
     ]
    },
    {
     "name": "stdout",
     "output_type": "stream",
     "text": [
      "done!\n",
      "\n",
      "loaded test data: 364826 X 3408 - ['investigation'] \n",
      "loading classifiers from /media/storage/ryan/mabe_challenge/behavior/trained_classifiers/mabe_challenge_lgt_es20_wnd/\n",
      "n_classes = 4\n",
      "{'attack': 0, 'investigation': 1, 'mount': 2, 'other': 3}\n",
      "predicting investigation...\n",
      "inference took 62.09 sec\n",
      " \n",
      "Classifier performance:\n",
      "              attack   investigation   other    \n",
      "  Precision:    0.0      0.759      0.0     \n",
      "     Recall:    0.0      0.499      0.0     \n",
      "   F1 Score:    0.0      0.602      0.0     \n"
     ]
    },
    {
     "name": "stderr",
     "output_type": "stream",
     "text": [
      "/home/roton/miniconda3/envs/mars/lib/python3.7/site-packages/sklearn/metrics/_classification.py:1221: UndefinedMetricWarning: Precision and F-score are ill-defined and being set to 0.0 in labels with no predicted samples. Use `zero_division` parameter to control this behavior.\n",
      "  _warn_prf(average, modifier, msg_start, len(result))\n",
      "/home/roton/miniconda3/envs/mars/lib/python3.7/site-packages/sklearn/metrics/_classification.py:1221: UndefinedMetricWarning: Recall and F-score are ill-defined and being set to 0.0 in labels with no true samples. Use `zero_division` parameter to control this behavior.\n",
      "  _warn_prf(average, modifier, msg_start, len(result))\n"
     ]
    },
    {
     "name": "stdout",
     "output_type": "stream",
     "text": [
      "Loop: 3\n",
      "val set size: 18423\n",
      "training set size: 22048.0\n",
      "loading training data...\n"
     ]
    },
    {
     "name": "stderr",
     "output_type": "stream",
     "text": [
      "Filtering sequence 0/4    0% --  [Elapsed Time: 0:00:00] |   | (ETA:  --:--:--) \r"
     ]
    },
    {
     "name": "stdout",
     "output_type": "stream",
     "text": [
      "sorting features and applying filters...\n"
     ]
    },
    {
     "name": "stderr",
     "output_type": "stream",
     "text": [
      "Filtering sequence 4/4  100% --  [Elapsed Time: 0:00:18] |####| (Time: 0:00:18) \n"
     ]
    },
    {
     "name": "stdout",
     "output_type": "stream",
     "text": [
      "done!\n",
      "\n",
      "loading validation data...\n",
      "sorting features and applying filters...\n"
     ]
    },
    {
     "name": "stderr",
     "output_type": "stream",
     "text": [
      "Filtering sequence 1/1  100% --  [Elapsed Time: 0:00:15] |####| (Time: 0:00:15) \n"
     ]
    },
    {
     "name": "stdout",
     "output_type": "stream",
     "text": [
      "done!\n",
      "\n",
      "loaded training data: 22048 X 3408 - ['investigation'] \n",
      "Training classifier: MABE_CHALLENGE_LGT_ES20_WND/\n",
      "######################### investigation #########################\n",
      "training using 3788 positive frames (75 bouts)\n",
      "fitting preprocessing parameters...\n",
      "fitting clf for investigation\n",
      "    training set: 3788 positive / 22048 total (17 %)\n",
      "    eval set: 9742 positive / 18423 total (52 %)\n",
      "  + early stopping\n"
     ]
    },
    {
     "name": "stderr",
     "output_type": "stream",
     "text": [
      "/home/roton/miniconda3/envs/mars/lib/python3.7/site-packages/lightgbm/sklearn.py:726: UserWarning: 'early_stopping_rounds' argument is deprecated and will be removed in a future release of LightGBM. Pass 'early_stopping()' callback via 'callbacks' argument instead.\n",
      "  _log_warning(\"'early_stopping_rounds' argument is deprecated and will be removed in a future release of LightGBM. \"\n",
      "/home/roton/miniconda3/envs/mars/lib/python3.7/site-packages/lightgbm/sklearn.py:736: UserWarning: 'verbose' argument is deprecated and will be removed in a future release of LightGBM. Pass 'log_evaluation()' callback via 'callbacks' argument instead.\n",
      "  _log_warning(\"'verbose' argument is deprecated and will be removed in a future release of LightGBM. \"\n"
     ]
    },
    {
     "name": "stdout",
     "output_type": "stream",
     "text": [
      "[1]\tvalid_0's binary_logloss: 0.843231\n",
      "[2]\tvalid_0's binary_logloss: 0.746178\n",
      "[3]\tvalid_0's binary_logloss: 0.673824\n",
      "[4]\tvalid_0's binary_logloss: 0.610341\n",
      "[5]\tvalid_0's binary_logloss: 0.566905\n",
      "[6]\tvalid_0's binary_logloss: 0.533586\n",
      "[7]\tvalid_0's binary_logloss: 0.510679\n",
      "[8]\tvalid_0's binary_logloss: 0.497101\n",
      "[9]\tvalid_0's binary_logloss: 0.483293\n",
      "[10]\tvalid_0's binary_logloss: 0.469324\n",
      "[11]\tvalid_0's binary_logloss: 0.455735\n",
      "[12]\tvalid_0's binary_logloss: 0.44525\n",
      "[13]\tvalid_0's binary_logloss: 0.433783\n",
      "[14]\tvalid_0's binary_logloss: 0.426958\n",
      "[15]\tvalid_0's binary_logloss: 0.418385\n",
      "[16]\tvalid_0's binary_logloss: 0.411405\n",
      "[17]\tvalid_0's binary_logloss: 0.404367\n",
      "[18]\tvalid_0's binary_logloss: 0.397659\n",
      "[19]\tvalid_0's binary_logloss: 0.391999\n",
      "[20]\tvalid_0's binary_logloss: 0.388624\n",
      "[21]\tvalid_0's binary_logloss: 0.385714\n",
      "[22]\tvalid_0's binary_logloss: 0.381949\n",
      "[23]\tvalid_0's binary_logloss: 0.380053\n",
      "[24]\tvalid_0's binary_logloss: 0.376407\n",
      "[25]\tvalid_0's binary_logloss: 0.375438\n",
      "[26]\tvalid_0's binary_logloss: 0.378081\n",
      "[27]\tvalid_0's binary_logloss: 0.373926\n",
      "[28]\tvalid_0's binary_logloss: 0.370034\n",
      "[29]\tvalid_0's binary_logloss: 0.3665\n",
      "[30]\tvalid_0's binary_logloss: 0.361411\n",
      "[31]\tvalid_0's binary_logloss: 0.36105\n",
      "[32]\tvalid_0's binary_logloss: 0.360889\n",
      "[33]\tvalid_0's binary_logloss: 0.360496\n",
      "[34]\tvalid_0's binary_logloss: 0.3599\n",
      "[35]\tvalid_0's binary_logloss: 0.359115\n",
      "[36]\tvalid_0's binary_logloss: 0.359245\n",
      "[37]\tvalid_0's binary_logloss: 0.36012\n",
      "[38]\tvalid_0's binary_logloss: 0.361627\n",
      "[39]\tvalid_0's binary_logloss: 0.359127\n",
      "[40]\tvalid_0's binary_logloss: 0.357019\n",
      "[41]\tvalid_0's binary_logloss: 0.357368\n",
      "[42]\tvalid_0's binary_logloss: 0.355137\n",
      "[43]\tvalid_0's binary_logloss: 0.35708\n",
      "[44]\tvalid_0's binary_logloss: 0.356588\n",
      "[45]\tvalid_0's binary_logloss: 0.353692\n",
      "[46]\tvalid_0's binary_logloss: 0.352503\n",
      "[47]\tvalid_0's binary_logloss: 0.350952\n",
      "[48]\tvalid_0's binary_logloss: 0.349199\n",
      "[49]\tvalid_0's binary_logloss: 0.346919\n",
      "[50]\tvalid_0's binary_logloss: 0.347302\n",
      "[51]\tvalid_0's binary_logloss: 0.348078\n",
      "[52]\tvalid_0's binary_logloss: 0.345278\n",
      "[53]\tvalid_0's binary_logloss: 0.344643\n",
      "[54]\tvalid_0's binary_logloss: 0.344234\n",
      "[55]\tvalid_0's binary_logloss: 0.344575\n",
      "[56]\tvalid_0's binary_logloss: 0.343789\n",
      "[57]\tvalid_0's binary_logloss: 0.343335\n",
      "[58]\tvalid_0's binary_logloss: 0.343606\n",
      "[59]\tvalid_0's binary_logloss: 0.341649\n",
      "[60]\tvalid_0's binary_logloss: 0.340669\n",
      "[61]\tvalid_0's binary_logloss: 0.341384\n",
      "[62]\tvalid_0's binary_logloss: 0.341987\n",
      "[63]\tvalid_0's binary_logloss: 0.342278\n",
      "[64]\tvalid_0's binary_logloss: 0.341723\n",
      "[65]\tvalid_0's binary_logloss: 0.340292\n",
      "[66]\tvalid_0's binary_logloss: 0.339115\n",
      "[67]\tvalid_0's binary_logloss: 0.3385\n",
      "[68]\tvalid_0's binary_logloss: 0.340633\n",
      "[69]\tvalid_0's binary_logloss: 0.340074\n",
      "[70]\tvalid_0's binary_logloss: 0.341715\n",
      "[71]\tvalid_0's binary_logloss: 0.344397\n",
      "[72]\tvalid_0's binary_logloss: 0.3471\n",
      "[73]\tvalid_0's binary_logloss: 0.346726\n",
      "[74]\tvalid_0's binary_logloss: 0.347424\n",
      "[75]\tvalid_0's binary_logloss: 0.346531\n",
      "[76]\tvalid_0's binary_logloss: 0.346648\n",
      "[77]\tvalid_0's binary_logloss: 0.346528\n",
      "[78]\tvalid_0's binary_logloss: 0.347612\n",
      "[79]\tvalid_0's binary_logloss: 0.34882\n",
      "[80]\tvalid_0's binary_logloss: 0.349753\n",
      "[81]\tvalid_0's binary_logloss: 0.35061\n",
      "[82]\tvalid_0's binary_logloss: 0.350337\n",
      "[83]\tvalid_0's binary_logloss: 0.349839\n",
      "[84]\tvalid_0's binary_logloss: 0.349487\n",
      "[85]\tvalid_0's binary_logloss: 0.349729\n",
      "[86]\tvalid_0's binary_logloss: 0.351643\n",
      "[87]\tvalid_0's binary_logloss: 0.351791\n",
      "evaluating on the training set...\n",
      "fitting HMM smoother...\n",
      "fitting forward-backward smoother...\n",
      "HMM label smoothing training took 0.01 mins\n",
      "performance on training set:\n",
      "P: 0.9995, R: 0.9865, F1: 0.9930    investigation\n"
     ]
    },
    {
     "name": "stderr",
     "output_type": "stream",
     "text": [
      "/home/roton/miniconda3/envs/mars/lib/python3.7/site-packages/sklearn/utils/validation.py:70: FutureWarning: Pass threshold=0.5 as keyword args. From version 0.25 passing these as positional arguments will result in an error\n",
      "  FutureWarning)\n"
     ]
    },
    {
     "name": "stdout",
     "output_type": "stream",
     "text": [
      "done training!\n",
      "complete training took 1.26 mins\n",
      "loading test data...\n"
     ]
    },
    {
     "name": "stderr",
     "output_type": "stream",
     "text": [
      "Filtering sequence 0/27    0% --  [Elapsed Time: 0:00:00] |  | (ETA:  --:--:--) \r"
     ]
    },
    {
     "name": "stdout",
     "output_type": "stream",
     "text": [
      "sorting features and applying filters...\n"
     ]
    },
    {
     "name": "stderr",
     "output_type": "stream",
     "text": [
      "Filtering sequence 27/27  100% --  [Elapsed Time: 0:04:54] |##| (Time: 0:04:54) \n"
     ]
    },
    {
     "name": "stdout",
     "output_type": "stream",
     "text": [
      "done!\n",
      "\n",
      "loaded test data: 364826 X 3408 - ['investigation'] \n",
      "loading classifiers from /media/storage/ryan/mabe_challenge/behavior/trained_classifiers/mabe_challenge_lgt_es20_wnd/\n",
      "n_classes = 4\n",
      "{'attack': 0, 'investigation': 1, 'mount': 2, 'other': 3}\n",
      "predicting investigation...\n",
      "inference took 60.39 sec\n",
      " \n",
      "Classifier performance:\n"
     ]
    },
    {
     "name": "stderr",
     "output_type": "stream",
     "text": [
      "/home/roton/miniconda3/envs/mars/lib/python3.7/site-packages/sklearn/metrics/_classification.py:1221: UndefinedMetricWarning: Precision and F-score are ill-defined and being set to 0.0 in labels with no predicted samples. Use `zero_division` parameter to control this behavior.\n",
      "  _warn_prf(average, modifier, msg_start, len(result))\n",
      "/home/roton/miniconda3/envs/mars/lib/python3.7/site-packages/sklearn/metrics/_classification.py:1221: UndefinedMetricWarning: Recall and F-score are ill-defined and being set to 0.0 in labels with no true samples. Use `zero_division` parameter to control this behavior.\n",
      "  _warn_prf(average, modifier, msg_start, len(result))\n"
     ]
    },
    {
     "name": "stdout",
     "output_type": "stream",
     "text": [
      "              attack   investigation   other    \n",
      "  Precision:    0.0      0.629      0.0     \n",
      "     Recall:    0.0      0.666      0.0     \n",
      "   F1 Score:    0.0      0.647      0.0     \n",
      "Loop: 4\n",
      "val set size: 18423\n",
      "training set size: 46585.0\n",
      "loading training data...\n"
     ]
    },
    {
     "name": "stderr",
     "output_type": "stream",
     "text": [
      "Filtering sequence 0/7    0% --  [Elapsed Time: 0:00:00] |   | (ETA:  --:--:--) \r"
     ]
    },
    {
     "name": "stdout",
     "output_type": "stream",
     "text": [
      "sorting features and applying filters...\n"
     ]
    },
    {
     "name": "stderr",
     "output_type": "stream",
     "text": [
      "Filtering sequence 7/7  100% --  [Elapsed Time: 0:00:38] |####| (Time: 0:00:38) \n"
     ]
    },
    {
     "name": "stdout",
     "output_type": "stream",
     "text": [
      "done!\n",
      "\n",
      "loading validation data...\n"
     ]
    },
    {
     "name": "stderr",
     "output_type": "stream",
     "text": [
      "Filtering sequence 0/1    0% --  [Elapsed Time: 0:00:00] |   | (ETA:  --:--:--) \r"
     ]
    },
    {
     "name": "stdout",
     "output_type": "stream",
     "text": [
      "sorting features and applying filters...\n"
     ]
    },
    {
     "name": "stderr",
     "output_type": "stream",
     "text": [
      "Filtering sequence 1/1  100% --  [Elapsed Time: 0:00:16] |####| (Time: 0:00:16) \n"
     ]
    },
    {
     "name": "stdout",
     "output_type": "stream",
     "text": [
      "done!\n",
      "\n",
      "loaded training data: 46585 X 3408 - ['investigation'] \n",
      "Training classifier: MABE_CHALLENGE_LGT_ES20_WND/\n",
      "######################### investigation #########################\n",
      "training using 7929 positive frames (162 bouts)\n",
      "fitting preprocessing parameters...\n",
      "fitting clf for investigation\n",
      "    training set: 7929 positive / 46585 total (17 %)\n",
      "    eval set: 9742 positive / 18423 total (52 %)\n",
      "  + early stopping\n"
     ]
    },
    {
     "name": "stderr",
     "output_type": "stream",
     "text": [
      "/home/roton/miniconda3/envs/mars/lib/python3.7/site-packages/lightgbm/sklearn.py:726: UserWarning: 'early_stopping_rounds' argument is deprecated and will be removed in a future release of LightGBM. Pass 'early_stopping()' callback via 'callbacks' argument instead.\n",
      "  _log_warning(\"'early_stopping_rounds' argument is deprecated and will be removed in a future release of LightGBM. \"\n",
      "/home/roton/miniconda3/envs/mars/lib/python3.7/site-packages/lightgbm/sklearn.py:736: UserWarning: 'verbose' argument is deprecated and will be removed in a future release of LightGBM. Pass 'log_evaluation()' callback via 'callbacks' argument instead.\n",
      "  _log_warning(\"'verbose' argument is deprecated and will be removed in a future release of LightGBM. \"\n"
     ]
    },
    {
     "name": "stdout",
     "output_type": "stream",
     "text": [
      "[1]\tvalid_0's binary_logloss: 0.830619\n",
      "[2]\tvalid_0's binary_logloss: 0.719066\n",
      "[3]\tvalid_0's binary_logloss: 0.645039\n",
      "[4]\tvalid_0's binary_logloss: 0.586625\n",
      "[5]\tvalid_0's binary_logloss: 0.539601\n",
      "[6]\tvalid_0's binary_logloss: 0.503289\n",
      "[7]\tvalid_0's binary_logloss: 0.472902\n",
      "[8]\tvalid_0's binary_logloss: 0.443971\n",
      "[9]\tvalid_0's binary_logloss: 0.419073\n",
      "[10]\tvalid_0's binary_logloss: 0.397066\n",
      "[11]\tvalid_0's binary_logloss: 0.379017\n",
      "[12]\tvalid_0's binary_logloss: 0.363851\n",
      "[13]\tvalid_0's binary_logloss: 0.349062\n",
      "[14]\tvalid_0's binary_logloss: 0.33677\n",
      "[15]\tvalid_0's binary_logloss: 0.325773\n",
      "[16]\tvalid_0's binary_logloss: 0.317925\n",
      "[17]\tvalid_0's binary_logloss: 0.308329\n",
      "[18]\tvalid_0's binary_logloss: 0.298641\n",
      "[19]\tvalid_0's binary_logloss: 0.290483\n",
      "[20]\tvalid_0's binary_logloss: 0.283274\n",
      "[21]\tvalid_0's binary_logloss: 0.27686\n",
      "[22]\tvalid_0's binary_logloss: 0.271485\n",
      "[23]\tvalid_0's binary_logloss: 0.267062\n",
      "[24]\tvalid_0's binary_logloss: 0.264085\n",
      "[25]\tvalid_0's binary_logloss: 0.261439\n",
      "[26]\tvalid_0's binary_logloss: 0.258931\n",
      "[27]\tvalid_0's binary_logloss: 0.25561\n",
      "[28]\tvalid_0's binary_logloss: 0.253925\n",
      "[29]\tvalid_0's binary_logloss: 0.251687\n",
      "[30]\tvalid_0's binary_logloss: 0.248778\n",
      "[31]\tvalid_0's binary_logloss: 0.245962\n",
      "[32]\tvalid_0's binary_logloss: 0.24384\n",
      "[33]\tvalid_0's binary_logloss: 0.243321\n",
      "[34]\tvalid_0's binary_logloss: 0.242155\n",
      "[35]\tvalid_0's binary_logloss: 0.242105\n",
      "[36]\tvalid_0's binary_logloss: 0.241692\n",
      "[37]\tvalid_0's binary_logloss: 0.241679\n",
      "[38]\tvalid_0's binary_logloss: 0.240379\n",
      "[39]\tvalid_0's binary_logloss: 0.239808\n",
      "[40]\tvalid_0's binary_logloss: 0.239355\n",
      "[41]\tvalid_0's binary_logloss: 0.239027\n",
      "[42]\tvalid_0's binary_logloss: 0.238349\n",
      "[43]\tvalid_0's binary_logloss: 0.237672\n",
      "[44]\tvalid_0's binary_logloss: 0.238154\n",
      "[45]\tvalid_0's binary_logloss: 0.237726\n",
      "[46]\tvalid_0's binary_logloss: 0.236452\n",
      "[47]\tvalid_0's binary_logloss: 0.236403\n",
      "[48]\tvalid_0's binary_logloss: 0.236314\n",
      "[49]\tvalid_0's binary_logloss: 0.235176\n",
      "[50]\tvalid_0's binary_logloss: 0.234302\n",
      "[51]\tvalid_0's binary_logloss: 0.233984\n",
      "[52]\tvalid_0's binary_logloss: 0.234935\n",
      "[53]\tvalid_0's binary_logloss: 0.234309\n",
      "[54]\tvalid_0's binary_logloss: 0.235406\n",
      "[55]\tvalid_0's binary_logloss: 0.235596\n",
      "[56]\tvalid_0's binary_logloss: 0.235475\n",
      "[57]\tvalid_0's binary_logloss: 0.23501\n",
      "[58]\tvalid_0's binary_logloss: 0.235869\n",
      "[59]\tvalid_0's binary_logloss: 0.236466\n",
      "[60]\tvalid_0's binary_logloss: 0.236641\n",
      "[61]\tvalid_0's binary_logloss: 0.23665\n",
      "[62]\tvalid_0's binary_logloss: 0.237057\n",
      "[63]\tvalid_0's binary_logloss: 0.238642\n",
      "[64]\tvalid_0's binary_logloss: 0.239623\n",
      "[65]\tvalid_0's binary_logloss: 0.239281\n",
      "[66]\tvalid_0's binary_logloss: 0.239144\n",
      "[67]\tvalid_0's binary_logloss: 0.239303\n",
      "[68]\tvalid_0's binary_logloss: 0.238701\n",
      "[69]\tvalid_0's binary_logloss: 0.23925\n",
      "[70]\tvalid_0's binary_logloss: 0.240396\n",
      "[71]\tvalid_0's binary_logloss: 0.240688\n",
      "evaluating on the training set...\n",
      "fitting HMM smoother...\n",
      "fitting forward-backward smoother...\n",
      "HMM label smoothing training took 0.02 mins\n",
      "performance on training set:\n",
      "P: 0.9935, R: 0.9793, F1: 0.9863    investigation\n"
     ]
    },
    {
     "name": "stderr",
     "output_type": "stream",
     "text": [
      "/home/roton/miniconda3/envs/mars/lib/python3.7/site-packages/sklearn/utils/validation.py:70: FutureWarning: Pass threshold=0.5 as keyword args. From version 0.25 passing these as positional arguments will result in an error\n",
      "  FutureWarning)\n"
     ]
    },
    {
     "name": "stdout",
     "output_type": "stream",
     "text": [
      "done training!\n",
      "complete training took 0.95 mins\n",
      "loading test data...\n"
     ]
    },
    {
     "name": "stderr",
     "output_type": "stream",
     "text": [
      "Filtering sequence 0/27    0% --  [Elapsed Time: 0:00:00] |  | (ETA:  --:--:--) \r"
     ]
    },
    {
     "name": "stdout",
     "output_type": "stream",
     "text": [
      "sorting features and applying filters...\n"
     ]
    },
    {
     "name": "stderr",
     "output_type": "stream",
     "text": [
      "Filtering sequence 27/27  100% --  [Elapsed Time: 0:04:55] |##| (Time: 0:04:55) \n"
     ]
    },
    {
     "name": "stdout",
     "output_type": "stream",
     "text": [
      "done!\n",
      "\n",
      "loaded test data: 364826 X 3408 - ['investigation'] \n",
      "loading classifiers from /media/storage/ryan/mabe_challenge/behavior/trained_classifiers/mabe_challenge_lgt_es20_wnd/\n",
      "n_classes = 4\n",
      "{'attack': 0, 'investigation': 1, 'mount': 2, 'other': 3}\n",
      "predicting investigation...\n",
      "inference took 60.70 sec\n",
      " \n",
      "Classifier performance:\n"
     ]
    },
    {
     "name": "stderr",
     "output_type": "stream",
     "text": [
      "/home/roton/miniconda3/envs/mars/lib/python3.7/site-packages/sklearn/metrics/_classification.py:1221: UndefinedMetricWarning: Precision and F-score are ill-defined and being set to 0.0 in labels with no predicted samples. Use `zero_division` parameter to control this behavior.\n",
      "  _warn_prf(average, modifier, msg_start, len(result))\n",
      "/home/roton/miniconda3/envs/mars/lib/python3.7/site-packages/sklearn/metrics/_classification.py:1221: UndefinedMetricWarning: Recall and F-score are ill-defined and being set to 0.0 in labels with no true samples. Use `zero_division` parameter to control this behavior.\n",
      "  _warn_prf(average, modifier, msg_start, len(result))\n"
     ]
    },
    {
     "name": "stdout",
     "output_type": "stream",
     "text": [
      "              attack   investigation   other    \n",
      "  Precision:    0.0      0.774      0.0     \n",
      "     Recall:    0.0      0.798      0.0     \n",
      "   F1 Score:    0.0      0.785      0.0     \n",
      "Loop: 5\n",
      "val set size: 18423\n",
      "training set size: 84032.0\n",
      "loading training data...\n"
     ]
    },
    {
     "name": "stderr",
     "output_type": "stream",
     "text": [
      "Filtering sequence 0/14    0% --  [Elapsed Time: 0:00:00] |  | (ETA:  --:--:--) \r"
     ]
    },
    {
     "name": "stdout",
     "output_type": "stream",
     "text": [
      "sorting features and applying filters...\n"
     ]
    },
    {
     "name": "stderr",
     "output_type": "stream",
     "text": [
      "Filtering sequence 14/14  100% --  [Elapsed Time: 0:01:09] |##| (Time: 0:01:09) \n"
     ]
    },
    {
     "name": "stdout",
     "output_type": "stream",
     "text": [
      "done!\n",
      "\n",
      "loading validation data...\n"
     ]
    },
    {
     "name": "stderr",
     "output_type": "stream",
     "text": [
      "Filtering sequence 0/1    0% --  [Elapsed Time: 0:00:00] |   | (ETA:  --:--:--) \r"
     ]
    },
    {
     "name": "stdout",
     "output_type": "stream",
     "text": [
      "sorting features and applying filters...\n"
     ]
    },
    {
     "name": "stderr",
     "output_type": "stream",
     "text": [
      "Filtering sequence 1/1  100% --  [Elapsed Time: 0:00:15] |####| (Time: 0:00:15) \n"
     ]
    },
    {
     "name": "stdout",
     "output_type": "stream",
     "text": [
      "done!\n",
      "\n",
      "loaded training data: 84032 X 3408 - ['investigation'] \n",
      "Training classifier: MABE_CHALLENGE_LGT_ES20_WND/\n",
      "######################### investigation #########################\n",
      "training using 18624 positive frames (318 bouts)\n",
      "fitting preprocessing parameters...\n",
      "fitting clf for investigation\n",
      "    training set: 18624 positive / 84032 total (22 %)\n",
      "    eval set: 9742 positive / 18423 total (52 %)\n",
      "  + early stopping\n"
     ]
    },
    {
     "name": "stderr",
     "output_type": "stream",
     "text": [
      "/home/roton/miniconda3/envs/mars/lib/python3.7/site-packages/lightgbm/sklearn.py:726: UserWarning: 'early_stopping_rounds' argument is deprecated and will be removed in a future release of LightGBM. Pass 'early_stopping()' callback via 'callbacks' argument instead.\n",
      "  _log_warning(\"'early_stopping_rounds' argument is deprecated and will be removed in a future release of LightGBM. \"\n",
      "/home/roton/miniconda3/envs/mars/lib/python3.7/site-packages/lightgbm/sklearn.py:736: UserWarning: 'verbose' argument is deprecated and will be removed in a future release of LightGBM. Pass 'log_evaluation()' callback via 'callbacks' argument instead.\n",
      "  _log_warning(\"'verbose' argument is deprecated and will be removed in a future release of LightGBM. \"\n"
     ]
    },
    {
     "name": "stdout",
     "output_type": "stream",
     "text": [
      "[1]\tvalid_0's binary_logloss: 0.788871\n",
      "[2]\tvalid_0's binary_logloss: 0.698777\n",
      "[3]\tvalid_0's binary_logloss: 0.629086\n",
      "[4]\tvalid_0's binary_logloss: 0.576258\n",
      "[5]\tvalid_0's binary_logloss: 0.533417\n",
      "[6]\tvalid_0's binary_logloss: 0.493729\n",
      "[7]\tvalid_0's binary_logloss: 0.458494\n",
      "[8]\tvalid_0's binary_logloss: 0.429704\n",
      "[9]\tvalid_0's binary_logloss: 0.40427\n",
      "[10]\tvalid_0's binary_logloss: 0.383436\n",
      "[11]\tvalid_0's binary_logloss: 0.365797\n",
      "[12]\tvalid_0's binary_logloss: 0.35183\n",
      "[13]\tvalid_0's binary_logloss: 0.338667\n",
      "[14]\tvalid_0's binary_logloss: 0.327255\n",
      "[15]\tvalid_0's binary_logloss: 0.316878\n",
      "[16]\tvalid_0's binary_logloss: 0.30569\n",
      "[17]\tvalid_0's binary_logloss: 0.295793\n",
      "[18]\tvalid_0's binary_logloss: 0.287862\n",
      "[19]\tvalid_0's binary_logloss: 0.281337\n",
      "[20]\tvalid_0's binary_logloss: 0.274656\n",
      "[21]\tvalid_0's binary_logloss: 0.26791\n",
      "[22]\tvalid_0's binary_logloss: 0.263123\n",
      "[23]\tvalid_0's binary_logloss: 0.256667\n",
      "[24]\tvalid_0's binary_logloss: 0.253181\n",
      "[25]\tvalid_0's binary_logloss: 0.24985\n",
      "[26]\tvalid_0's binary_logloss: 0.246862\n",
      "[27]\tvalid_0's binary_logloss: 0.244117\n",
      "[28]\tvalid_0's binary_logloss: 0.241127\n",
      "[29]\tvalid_0's binary_logloss: 0.239193\n",
      "[30]\tvalid_0's binary_logloss: 0.235228\n",
      "[31]\tvalid_0's binary_logloss: 0.233108\n",
      "[32]\tvalid_0's binary_logloss: 0.230593\n",
      "[33]\tvalid_0's binary_logloss: 0.228902\n",
      "[34]\tvalid_0's binary_logloss: 0.226548\n",
      "[35]\tvalid_0's binary_logloss: 0.225709\n",
      "[36]\tvalid_0's binary_logloss: 0.224346\n",
      "[37]\tvalid_0's binary_logloss: 0.222424\n",
      "[38]\tvalid_0's binary_logloss: 0.221903\n",
      "[39]\tvalid_0's binary_logloss: 0.220588\n",
      "[40]\tvalid_0's binary_logloss: 0.220246\n",
      "[41]\tvalid_0's binary_logloss: 0.219732\n",
      "[42]\tvalid_0's binary_logloss: 0.21801\n",
      "[43]\tvalid_0's binary_logloss: 0.217645\n",
      "[44]\tvalid_0's binary_logloss: 0.216749\n",
      "[45]\tvalid_0's binary_logloss: 0.215285\n",
      "[46]\tvalid_0's binary_logloss: 0.215079\n",
      "[47]\tvalid_0's binary_logloss: 0.214987\n",
      "[48]\tvalid_0's binary_logloss: 0.214468\n",
      "[49]\tvalid_0's binary_logloss: 0.214457\n",
      "[50]\tvalid_0's binary_logloss: 0.213939\n",
      "[51]\tvalid_0's binary_logloss: 0.213414\n",
      "[52]\tvalid_0's binary_logloss: 0.212959\n",
      "[53]\tvalid_0's binary_logloss: 0.212874\n",
      "[54]\tvalid_0's binary_logloss: 0.21214\n",
      "[55]\tvalid_0's binary_logloss: 0.212226\n",
      "[56]\tvalid_0's binary_logloss: 0.211383\n",
      "[57]\tvalid_0's binary_logloss: 0.210953\n",
      "[58]\tvalid_0's binary_logloss: 0.210728\n",
      "[59]\tvalid_0's binary_logloss: 0.210133\n",
      "[60]\tvalid_0's binary_logloss: 0.210965\n",
      "[61]\tvalid_0's binary_logloss: 0.211519\n",
      "[62]\tvalid_0's binary_logloss: 0.211292\n",
      "[63]\tvalid_0's binary_logloss: 0.210735\n",
      "[64]\tvalid_0's binary_logloss: 0.210522\n",
      "[65]\tvalid_0's binary_logloss: 0.210103\n",
      "[66]\tvalid_0's binary_logloss: 0.209965\n",
      "[67]\tvalid_0's binary_logloss: 0.20961\n",
      "[68]\tvalid_0's binary_logloss: 0.209107\n",
      "[69]\tvalid_0's binary_logloss: 0.209085\n",
      "[70]\tvalid_0's binary_logloss: 0.20865\n",
      "[71]\tvalid_0's binary_logloss: 0.208307\n",
      "[72]\tvalid_0's binary_logloss: 0.207615\n",
      "[73]\tvalid_0's binary_logloss: 0.207332\n",
      "[74]\tvalid_0's binary_logloss: 0.207196\n",
      "[75]\tvalid_0's binary_logloss: 0.207772\n",
      "[76]\tvalid_0's binary_logloss: 0.207794\n",
      "[77]\tvalid_0's binary_logloss: 0.208079\n",
      "[78]\tvalid_0's binary_logloss: 0.20852\n",
      "[79]\tvalid_0's binary_logloss: 0.208425\n",
      "[80]\tvalid_0's binary_logloss: 0.207827\n",
      "[81]\tvalid_0's binary_logloss: 0.207671\n",
      "[82]\tvalid_0's binary_logloss: 0.207453\n",
      "[83]\tvalid_0's binary_logloss: 0.207581\n",
      "[84]\tvalid_0's binary_logloss: 0.207873\n",
      "[85]\tvalid_0's binary_logloss: 0.208007\n",
      "[86]\tvalid_0's binary_logloss: 0.208143\n",
      "[87]\tvalid_0's binary_logloss: 0.208504\n",
      "[88]\tvalid_0's binary_logloss: 0.208648\n",
      "[89]\tvalid_0's binary_logloss: 0.208174\n",
      "[90]\tvalid_0's binary_logloss: 0.20833\n",
      "[91]\tvalid_0's binary_logloss: 0.20918\n",
      "[92]\tvalid_0's binary_logloss: 0.209594\n",
      "[93]\tvalid_0's binary_logloss: 0.209767\n",
      "[94]\tvalid_0's binary_logloss: 0.209691\n",
      "evaluating on the training set...\n",
      "fitting HMM smoother...\n",
      "fitting forward-backward smoother...\n"
     ]
    },
    {
     "name": "stderr",
     "output_type": "stream",
     "text": [
      "/home/roton/miniconda3/envs/mars/lib/python3.7/site-packages/sklearn/utils/validation.py:70: FutureWarning: Pass threshold=0.5 as keyword args. From version 0.25 passing these as positional arguments will result in an error\n",
      "  FutureWarning)\n"
     ]
    },
    {
     "name": "stdout",
     "output_type": "stream",
     "text": [
      "HMM label smoothing training took 0.04 mins\n",
      "performance on training set:\n",
      "P: 0.9773, R: 0.9719, F1: 0.9746    investigation\n",
      "done training!\n",
      "complete training took 2.60 mins\n",
      "loading test data...\n"
     ]
    },
    {
     "name": "stderr",
     "output_type": "stream",
     "text": [
      "Filtering sequence 0/27    0% --  [Elapsed Time: 0:00:00] |  | (ETA:  --:--:--) \r"
     ]
    },
    {
     "name": "stdout",
     "output_type": "stream",
     "text": [
      "sorting features and applying filters...\n"
     ]
    },
    {
     "name": "stderr",
     "output_type": "stream",
     "text": [
      "Filtering sequence 27/27  100% --  [Elapsed Time: 0:04:54] |##| (Time: 0:04:54) \n"
     ]
    },
    {
     "name": "stdout",
     "output_type": "stream",
     "text": [
      "done!\n",
      "\n",
      "loaded test data: 364826 X 3408 - ['investigation'] \n",
      "loading classifiers from /media/storage/ryan/mabe_challenge/behavior/trained_classifiers/mabe_challenge_lgt_es20_wnd/\n",
      "n_classes = 4\n",
      "{'attack': 0, 'investigation': 1, 'mount': 2, 'other': 3}\n",
      "predicting investigation...\n",
      "inference took 58.49 sec\n",
      " \n",
      "Classifier performance:\n"
     ]
    },
    {
     "name": "stderr",
     "output_type": "stream",
     "text": [
      "/home/roton/miniconda3/envs/mars/lib/python3.7/site-packages/sklearn/metrics/_classification.py:1221: UndefinedMetricWarning: Precision and F-score are ill-defined and being set to 0.0 in labels with no predicted samples. Use `zero_division` parameter to control this behavior.\n",
      "  _warn_prf(average, modifier, msg_start, len(result))\n",
      "/home/roton/miniconda3/envs/mars/lib/python3.7/site-packages/sklearn/metrics/_classification.py:1221: UndefinedMetricWarning: Recall and F-score are ill-defined and being set to 0.0 in labels with no true samples. Use `zero_division` parameter to control this behavior.\n",
      "  _warn_prf(average, modifier, msg_start, len(result))\n"
     ]
    },
    {
     "name": "stdout",
     "output_type": "stream",
     "text": [
      "              attack   investigation   other    \n",
      "  Precision:    0.0      0.833      0.0     \n",
      "     Recall:    0.0      0.78       0.0     \n",
      "   F1 Score:    0.0      0.805      0.0     \n",
      "Loop: 6\n",
      "val set size: 18423\n",
      "training set size: 142302.0\n",
      "loading training data...\n"
     ]
    },
    {
     "name": "stderr",
     "output_type": "stream",
     "text": [
      "Filtering sequence 0/22    0% --  [Elapsed Time: 0:00:00] |  | (ETA:  --:--:--) \r"
     ]
    },
    {
     "name": "stdout",
     "output_type": "stream",
     "text": [
      "sorting features and applying filters...\n"
     ]
    },
    {
     "name": "stderr",
     "output_type": "stream",
     "text": [
      "Filtering sequence 22/22  100% --  [Elapsed Time: 0:01:54] |##| (Time: 0:01:54) \n"
     ]
    },
    {
     "name": "stdout",
     "output_type": "stream",
     "text": [
      "done!\n",
      "\n",
      "loading validation data...\n"
     ]
    },
    {
     "name": "stderr",
     "output_type": "stream",
     "text": [
      "Filtering sequence 0/1    0% --  [Elapsed Time: 0:00:00] |   | (ETA:  --:--:--) \r"
     ]
    },
    {
     "name": "stdout",
     "output_type": "stream",
     "text": [
      "sorting features and applying filters...\n"
     ]
    },
    {
     "name": "stderr",
     "output_type": "stream",
     "text": [
      "Filtering sequence 1/1  100% --  [Elapsed Time: 0:00:15] |####| (Time: 0:00:15) \n"
     ]
    },
    {
     "name": "stdout",
     "output_type": "stream",
     "text": [
      "done!\n",
      "\n",
      "loaded training data: 142302 X 3408 - ['investigation'] \n",
      "Training classifier: MABE_CHALLENGE_LGT_ES20_WND/\n",
      "######################### investigation #########################\n",
      "training using 34148 positive frames (525 bouts)\n",
      "fitting preprocessing parameters...\n",
      "fitting clf for investigation\n",
      "    training set: 34148 positive / 142302 total (23 %)\n",
      "    eval set: 9742 positive / 18423 total (52 %)\n",
      "  + early stopping\n"
     ]
    },
    {
     "name": "stderr",
     "output_type": "stream",
     "text": [
      "/home/roton/miniconda3/envs/mars/lib/python3.7/site-packages/lightgbm/sklearn.py:726: UserWarning: 'early_stopping_rounds' argument is deprecated and will be removed in a future release of LightGBM. Pass 'early_stopping()' callback via 'callbacks' argument instead.\n",
      "  _log_warning(\"'early_stopping_rounds' argument is deprecated and will be removed in a future release of LightGBM. \"\n",
      "/home/roton/miniconda3/envs/mars/lib/python3.7/site-packages/lightgbm/sklearn.py:736: UserWarning: 'verbose' argument is deprecated and will be removed in a future release of LightGBM. Pass 'log_evaluation()' callback via 'callbacks' argument instead.\n",
      "  _log_warning(\"'verbose' argument is deprecated and will be removed in a future release of LightGBM. \"\n"
     ]
    },
    {
     "name": "stdout",
     "output_type": "stream",
     "text": [
      "[1]\tvalid_0's binary_logloss: 0.759982\n",
      "[2]\tvalid_0's binary_logloss: 0.673713\n",
      "[3]\tvalid_0's binary_logloss: 0.607694\n",
      "[4]\tvalid_0's binary_logloss: 0.553322\n",
      "[5]\tvalid_0's binary_logloss: 0.50764\n",
      "[6]\tvalid_0's binary_logloss: 0.469119\n",
      "[7]\tvalid_0's binary_logloss: 0.440045\n",
      "[8]\tvalid_0's binary_logloss: 0.413422\n",
      "[9]\tvalid_0's binary_logloss: 0.393063\n",
      "[10]\tvalid_0's binary_logloss: 0.370621\n",
      "[11]\tvalid_0's binary_logloss: 0.354945\n",
      "[12]\tvalid_0's binary_logloss: 0.340452\n",
      "[13]\tvalid_0's binary_logloss: 0.327479\n",
      "[14]\tvalid_0's binary_logloss: 0.316489\n",
      "[15]\tvalid_0's binary_logloss: 0.308571\n",
      "[16]\tvalid_0's binary_logloss: 0.299178\n",
      "[17]\tvalid_0's binary_logloss: 0.290756\n",
      "[18]\tvalid_0's binary_logloss: 0.283548\n",
      "[19]\tvalid_0's binary_logloss: 0.278888\n",
      "[20]\tvalid_0's binary_logloss: 0.273671\n",
      "[21]\tvalid_0's binary_logloss: 0.26855\n",
      "[22]\tvalid_0's binary_logloss: 0.263642\n",
      "[23]\tvalid_0's binary_logloss: 0.259099\n",
      "[24]\tvalid_0's binary_logloss: 0.254861\n",
      "[25]\tvalid_0's binary_logloss: 0.252157\n",
      "[26]\tvalid_0's binary_logloss: 0.249888\n",
      "[27]\tvalid_0's binary_logloss: 0.246791\n",
      "[28]\tvalid_0's binary_logloss: 0.244432\n",
      "[29]\tvalid_0's binary_logloss: 0.241304\n",
      "[30]\tvalid_0's binary_logloss: 0.239042\n",
      "[31]\tvalid_0's binary_logloss: 0.237546\n",
      "[32]\tvalid_0's binary_logloss: 0.235023\n",
      "[33]\tvalid_0's binary_logloss: 0.232994\n",
      "[34]\tvalid_0's binary_logloss: 0.232156\n",
      "[35]\tvalid_0's binary_logloss: 0.23049\n",
      "[36]\tvalid_0's binary_logloss: 0.229439\n",
      "[37]\tvalid_0's binary_logloss: 0.228036\n",
      "[38]\tvalid_0's binary_logloss: 0.225806\n",
      "[39]\tvalid_0's binary_logloss: 0.225023\n",
      "[40]\tvalid_0's binary_logloss: 0.224681\n",
      "[41]\tvalid_0's binary_logloss: 0.223674\n",
      "[42]\tvalid_0's binary_logloss: 0.22216\n",
      "[43]\tvalid_0's binary_logloss: 0.221417\n",
      "[44]\tvalid_0's binary_logloss: 0.220646\n",
      "[45]\tvalid_0's binary_logloss: 0.219791\n",
      "[46]\tvalid_0's binary_logloss: 0.219282\n",
      "[47]\tvalid_0's binary_logloss: 0.218938\n",
      "[48]\tvalid_0's binary_logloss: 0.218764\n",
      "[49]\tvalid_0's binary_logloss: 0.218231\n",
      "[50]\tvalid_0's binary_logloss: 0.217765\n",
      "[51]\tvalid_0's binary_logloss: 0.21847\n",
      "[52]\tvalid_0's binary_logloss: 0.218766\n",
      "[53]\tvalid_0's binary_logloss: 0.218103\n",
      "[54]\tvalid_0's binary_logloss: 0.218057\n",
      "[55]\tvalid_0's binary_logloss: 0.218333\n",
      "[56]\tvalid_0's binary_logloss: 0.21804\n",
      "[57]\tvalid_0's binary_logloss: 0.217651\n",
      "[58]\tvalid_0's binary_logloss: 0.217809\n",
      "[59]\tvalid_0's binary_logloss: 0.217859\n",
      "[60]\tvalid_0's binary_logloss: 0.21785\n",
      "[61]\tvalid_0's binary_logloss: 0.217369\n",
      "[62]\tvalid_0's binary_logloss: 0.216687\n",
      "[63]\tvalid_0's binary_logloss: 0.215947\n",
      "[64]\tvalid_0's binary_logloss: 0.216422\n",
      "[65]\tvalid_0's binary_logloss: 0.216077\n",
      "[66]\tvalid_0's binary_logloss: 0.216308\n",
      "[67]\tvalid_0's binary_logloss: 0.215143\n",
      "[68]\tvalid_0's binary_logloss: 0.215181\n",
      "[69]\tvalid_0's binary_logloss: 0.214613\n",
      "[70]\tvalid_0's binary_logloss: 0.214735\n",
      "[71]\tvalid_0's binary_logloss: 0.214054\n",
      "[72]\tvalid_0's binary_logloss: 0.213706\n",
      "[73]\tvalid_0's binary_logloss: 0.213524\n",
      "[74]\tvalid_0's binary_logloss: 0.213679\n",
      "[75]\tvalid_0's binary_logloss: 0.213643\n",
      "[76]\tvalid_0's binary_logloss: 0.214092\n",
      "[77]\tvalid_0's binary_logloss: 0.213362\n",
      "[78]\tvalid_0's binary_logloss: 0.213409\n",
      "[79]\tvalid_0's binary_logloss: 0.212888\n",
      "[80]\tvalid_0's binary_logloss: 0.213357\n",
      "[81]\tvalid_0's binary_logloss: 0.214354\n",
      "[82]\tvalid_0's binary_logloss: 0.214023\n",
      "[83]\tvalid_0's binary_logloss: 0.213476\n",
      "[84]\tvalid_0's binary_logloss: 0.213567\n",
      "[85]\tvalid_0's binary_logloss: 0.21378\n",
      "[86]\tvalid_0's binary_logloss: 0.214007\n",
      "[87]\tvalid_0's binary_logloss: 0.213725\n",
      "[88]\tvalid_0's binary_logloss: 0.214215\n",
      "[89]\tvalid_0's binary_logloss: 0.213567\n",
      "[90]\tvalid_0's binary_logloss: 0.213238\n",
      "[91]\tvalid_0's binary_logloss: 0.21343\n",
      "[92]\tvalid_0's binary_logloss: 0.213548\n",
      "[93]\tvalid_0's binary_logloss: 0.213546\n",
      "[94]\tvalid_0's binary_logloss: 0.213077\n",
      "[95]\tvalid_0's binary_logloss: 0.212721\n",
      "[96]\tvalid_0's binary_logloss: 0.212837\n",
      "[97]\tvalid_0's binary_logloss: 0.212941\n",
      "[98]\tvalid_0's binary_logloss: 0.213172\n",
      "[99]\tvalid_0's binary_logloss: 0.212893\n",
      "[100]\tvalid_0's binary_logloss: 0.21322\n",
      "[101]\tvalid_0's binary_logloss: 0.213274\n",
      "[102]\tvalid_0's binary_logloss: 0.213323\n",
      "[103]\tvalid_0's binary_logloss: 0.214279\n",
      "[104]\tvalid_0's binary_logloss: 0.214108\n",
      "[105]\tvalid_0's binary_logloss: 0.214074\n",
      "[106]\tvalid_0's binary_logloss: 0.213902\n",
      "[107]\tvalid_0's binary_logloss: 0.213872\n",
      "[108]\tvalid_0's binary_logloss: 0.214072\n",
      "[109]\tvalid_0's binary_logloss: 0.213786\n",
      "[110]\tvalid_0's binary_logloss: 0.213484\n",
      "[111]\tvalid_0's binary_logloss: 0.213046\n",
      "[112]\tvalid_0's binary_logloss: 0.213052\n",
      "[113]\tvalid_0's binary_logloss: 0.213073\n",
      "[114]\tvalid_0's binary_logloss: 0.213394\n",
      "[115]\tvalid_0's binary_logloss: 0.213558\n",
      "evaluating on the training set...\n",
      "fitting HMM smoother...\n",
      "fitting forward-backward smoother...\n"
     ]
    },
    {
     "name": "stderr",
     "output_type": "stream",
     "text": [
      "/home/roton/miniconda3/envs/mars/lib/python3.7/site-packages/sklearn/utils/validation.py:70: FutureWarning: Pass threshold=0.5 as keyword args. From version 0.25 passing these as positional arguments will result in an error\n",
      "  FutureWarning)\n"
     ]
    },
    {
     "name": "stdout",
     "output_type": "stream",
     "text": [
      "HMM label smoothing training took 0.07 mins\n",
      "performance on training set:\n",
      "P: 0.9700, R: 0.9689, F1: 0.9695    investigation\n",
      "done training!\n",
      "complete training took 2.39 mins\n",
      "loading test data...\n"
     ]
    },
    {
     "name": "stderr",
     "output_type": "stream",
     "text": [
      "Filtering sequence 0/27    0% --  [Elapsed Time: 0:00:00] |  | (ETA:  --:--:--) \r"
     ]
    },
    {
     "name": "stdout",
     "output_type": "stream",
     "text": [
      "sorting features and applying filters...\n"
     ]
    },
    {
     "name": "stderr",
     "output_type": "stream",
     "text": [
      "Filtering sequence 27/27  100% --  [Elapsed Time: 0:04:54] |##| (Time: 0:04:54) \n"
     ]
    },
    {
     "name": "stdout",
     "output_type": "stream",
     "text": [
      "done!\n",
      "\n",
      "loaded test data: 364826 X 3408 - ['investigation'] \n",
      "loading classifiers from /media/storage/ryan/mabe_challenge/behavior/trained_classifiers/mabe_challenge_lgt_es20_wnd/\n",
      "n_classes = 4\n",
      "{'attack': 0, 'investigation': 1, 'mount': 2, 'other': 3}\n",
      "predicting investigation...\n",
      "inference took 62.01 sec\n",
      " \n",
      "Classifier performance:\n"
     ]
    },
    {
     "name": "stderr",
     "output_type": "stream",
     "text": [
      "/home/roton/miniconda3/envs/mars/lib/python3.7/site-packages/sklearn/metrics/_classification.py:1221: UndefinedMetricWarning: Precision and F-score are ill-defined and being set to 0.0 in labels with no predicted samples. Use `zero_division` parameter to control this behavior.\n",
      "  _warn_prf(average, modifier, msg_start, len(result))\n",
      "/home/roton/miniconda3/envs/mars/lib/python3.7/site-packages/sklearn/metrics/_classification.py:1221: UndefinedMetricWarning: Recall and F-score are ill-defined and being set to 0.0 in labels with no true samples. Use `zero_division` parameter to control this behavior.\n",
      "  _warn_prf(average, modifier, msg_start, len(result))\n"
     ]
    },
    {
     "name": "stdout",
     "output_type": "stream",
     "text": [
      "              attack   investigation   other    \n",
      "  Precision:    0.0      0.852      0.0     \n",
      "     Recall:    0.0      0.792      0.0     \n",
      "   F1 Score:    0.0      0.821      0.0     \n",
      "Loop: 7\n",
      "val set size: 26327\n",
      "training set size: 180703.0\n",
      "loading training data...\n"
     ]
    },
    {
     "name": "stderr",
     "output_type": "stream",
     "text": [
      "Filtering sequence 0/27    0% --  [Elapsed Time: 0:00:00] |  | (ETA:  --:--:--) \r"
     ]
    },
    {
     "name": "stdout",
     "output_type": "stream",
     "text": [
      "sorting features and applying filters...\n"
     ]
    },
    {
     "name": "stderr",
     "output_type": "stream",
     "text": [
      "Filtering sequence 27/27  100% --  [Elapsed Time: 0:02:26] |##| (Time: 0:02:26) \n"
     ]
    },
    {
     "name": "stdout",
     "output_type": "stream",
     "text": [
      "done!\n",
      "\n",
      "loading validation data...\n"
     ]
    },
    {
     "name": "stderr",
     "output_type": "stream",
     "text": [
      "Filtering sequence 0/3    0% --  [Elapsed Time: 0:00:00] |   | (ETA:  --:--:--) \r"
     ]
    },
    {
     "name": "stdout",
     "output_type": "stream",
     "text": [
      "sorting features and applying filters...\n"
     ]
    },
    {
     "name": "stderr",
     "output_type": "stream",
     "text": [
      "Filtering sequence 3/3  100% --  [Elapsed Time: 0:00:23] |####| (Time: 0:00:23) \n"
     ]
    },
    {
     "name": "stdout",
     "output_type": "stream",
     "text": [
      "done!\n",
      "\n",
      "loaded training data: 180703 X 3408 - ['investigation'] \n",
      "Training classifier: MABE_CHALLENGE_LGT_ES20_WND/\n",
      "######################### investigation #########################\n",
      "training using 44510 positive frames (717 bouts)\n",
      "fitting preprocessing parameters...\n",
      "fitting clf for investigation\n",
      "    training set: 44510 positive / 180703 total (24 %)\n",
      "    eval set: 11547 positive / 26327 total (43 %)\n",
      "  + early stopping\n"
     ]
    },
    {
     "name": "stderr",
     "output_type": "stream",
     "text": [
      "/home/roton/miniconda3/envs/mars/lib/python3.7/site-packages/lightgbm/sklearn.py:726: UserWarning: 'early_stopping_rounds' argument is deprecated and will be removed in a future release of LightGBM. Pass 'early_stopping()' callback via 'callbacks' argument instead.\n",
      "  _log_warning(\"'early_stopping_rounds' argument is deprecated and will be removed in a future release of LightGBM. \"\n",
      "/home/roton/miniconda3/envs/mars/lib/python3.7/site-packages/lightgbm/sklearn.py:736: UserWarning: 'verbose' argument is deprecated and will be removed in a future release of LightGBM. Pass 'log_evaluation()' callback via 'callbacks' argument instead.\n",
      "  _log_warning(\"'verbose' argument is deprecated and will be removed in a future release of LightGBM. \"\n"
     ]
    },
    {
     "name": "stdout",
     "output_type": "stream",
     "text": [
      "[1]\tvalid_0's binary_logloss: 0.675305\n",
      "[2]\tvalid_0's binary_logloss: 0.603306\n",
      "[3]\tvalid_0's binary_logloss: 0.546672\n",
      "[4]\tvalid_0's binary_logloss: 0.502789\n",
      "[5]\tvalid_0's binary_logloss: 0.466358\n",
      "[6]\tvalid_0's binary_logloss: 0.435234\n",
      "[7]\tvalid_0's binary_logloss: 0.410508\n",
      "[8]\tvalid_0's binary_logloss: 0.388764\n",
      "[9]\tvalid_0's binary_logloss: 0.368099\n",
      "[10]\tvalid_0's binary_logloss: 0.35062\n",
      "[11]\tvalid_0's binary_logloss: 0.33558\n",
      "[12]\tvalid_0's binary_logloss: 0.324014\n",
      "[13]\tvalid_0's binary_logloss: 0.311238\n",
      "[14]\tvalid_0's binary_logloss: 0.301082\n",
      "[15]\tvalid_0's binary_logloss: 0.292786\n",
      "[16]\tvalid_0's binary_logloss: 0.286776\n",
      "[17]\tvalid_0's binary_logloss: 0.280403\n",
      "[18]\tvalid_0's binary_logloss: 0.275253\n",
      "[19]\tvalid_0's binary_logloss: 0.269384\n",
      "[20]\tvalid_0's binary_logloss: 0.26519\n",
      "[21]\tvalid_0's binary_logloss: 0.260226\n",
      "[22]\tvalid_0's binary_logloss: 0.256453\n",
      "[23]\tvalid_0's binary_logloss: 0.253704\n",
      "[24]\tvalid_0's binary_logloss: 0.250816\n",
      "[25]\tvalid_0's binary_logloss: 0.247525\n",
      "[26]\tvalid_0's binary_logloss: 0.244984\n",
      "[27]\tvalid_0's binary_logloss: 0.243003\n",
      "[28]\tvalid_0's binary_logloss: 0.241723\n",
      "[29]\tvalid_0's binary_logloss: 0.239557\n",
      "[30]\tvalid_0's binary_logloss: 0.238307\n",
      "[31]\tvalid_0's binary_logloss: 0.236778\n",
      "[32]\tvalid_0's binary_logloss: 0.236545\n",
      "[33]\tvalid_0's binary_logloss: 0.235398\n",
      "[34]\tvalid_0's binary_logloss: 0.234616\n",
      "[35]\tvalid_0's binary_logloss: 0.234738\n",
      "[36]\tvalid_0's binary_logloss: 0.234087\n",
      "[37]\tvalid_0's binary_logloss: 0.233584\n",
      "[38]\tvalid_0's binary_logloss: 0.232926\n",
      "[39]\tvalid_0's binary_logloss: 0.233386\n",
      "[40]\tvalid_0's binary_logloss: 0.232651\n",
      "[41]\tvalid_0's binary_logloss: 0.232155\n",
      "[42]\tvalid_0's binary_logloss: 0.23198\n",
      "[43]\tvalid_0's binary_logloss: 0.231947\n",
      "[44]\tvalid_0's binary_logloss: 0.232042\n",
      "[45]\tvalid_0's binary_logloss: 0.231928\n",
      "[46]\tvalid_0's binary_logloss: 0.231981\n",
      "[47]\tvalid_0's binary_logloss: 0.231411\n",
      "[48]\tvalid_0's binary_logloss: 0.231205\n",
      "[49]\tvalid_0's binary_logloss: 0.230656\n",
      "[50]\tvalid_0's binary_logloss: 0.229487\n",
      "[51]\tvalid_0's binary_logloss: 0.229251\n",
      "[52]\tvalid_0's binary_logloss: 0.229983\n",
      "[53]\tvalid_0's binary_logloss: 0.22942\n",
      "[54]\tvalid_0's binary_logloss: 0.229726\n",
      "[55]\tvalid_0's binary_logloss: 0.229351\n",
      "[56]\tvalid_0's binary_logloss: 0.229287\n",
      "[57]\tvalid_0's binary_logloss: 0.229318\n",
      "[58]\tvalid_0's binary_logloss: 0.229075\n",
      "[59]\tvalid_0's binary_logloss: 0.228683\n",
      "[60]\tvalid_0's binary_logloss: 0.228964\n",
      "[61]\tvalid_0's binary_logloss: 0.228999\n",
      "[62]\tvalid_0's binary_logloss: 0.229022\n",
      "[63]\tvalid_0's binary_logloss: 0.22829\n",
      "[64]\tvalid_0's binary_logloss: 0.228647\n",
      "[65]\tvalid_0's binary_logloss: 0.228116\n",
      "[66]\tvalid_0's binary_logloss: 0.228217\n",
      "[67]\tvalid_0's binary_logloss: 0.227762\n",
      "[68]\tvalid_0's binary_logloss: 0.228374\n",
      "[69]\tvalid_0's binary_logloss: 0.228529\n",
      "[70]\tvalid_0's binary_logloss: 0.228151\n",
      "[71]\tvalid_0's binary_logloss: 0.228028\n",
      "[72]\tvalid_0's binary_logloss: 0.228094\n",
      "[73]\tvalid_0's binary_logloss: 0.228146\n",
      "[74]\tvalid_0's binary_logloss: 0.22826\n",
      "[75]\tvalid_0's binary_logloss: 0.227368\n",
      "[76]\tvalid_0's binary_logloss: 0.227802\n",
      "[77]\tvalid_0's binary_logloss: 0.227662\n",
      "[78]\tvalid_0's binary_logloss: 0.227193\n",
      "[79]\tvalid_0's binary_logloss: 0.227804\n",
      "[80]\tvalid_0's binary_logloss: 0.228359\n",
      "[81]\tvalid_0's binary_logloss: 0.228052\n",
      "[82]\tvalid_0's binary_logloss: 0.227972\n",
      "[83]\tvalid_0's binary_logloss: 0.228101\n",
      "[84]\tvalid_0's binary_logloss: 0.227948\n",
      "[85]\tvalid_0's binary_logloss: 0.22779\n",
      "[86]\tvalid_0's binary_logloss: 0.227412\n",
      "[87]\tvalid_0's binary_logloss: 0.227618\n",
      "[88]\tvalid_0's binary_logloss: 0.227358\n",
      "[89]\tvalid_0's binary_logloss: 0.227111\n",
      "[90]\tvalid_0's binary_logloss: 0.226639\n",
      "[91]\tvalid_0's binary_logloss: 0.226899\n",
      "[92]\tvalid_0's binary_logloss: 0.226964\n",
      "[93]\tvalid_0's binary_logloss: 0.226905\n",
      "[94]\tvalid_0's binary_logloss: 0.227118\n",
      "[95]\tvalid_0's binary_logloss: 0.227816\n",
      "[96]\tvalid_0's binary_logloss: 0.227499\n",
      "[97]\tvalid_0's binary_logloss: 0.227459\n",
      "[98]\tvalid_0's binary_logloss: 0.227328\n",
      "[99]\tvalid_0's binary_logloss: 0.227511\n",
      "[100]\tvalid_0's binary_logloss: 0.227055\n",
      "[101]\tvalid_0's binary_logloss: 0.227286\n",
      "[102]\tvalid_0's binary_logloss: 0.227354\n",
      "[103]\tvalid_0's binary_logloss: 0.226875\n",
      "[104]\tvalid_0's binary_logloss: 0.22697\n",
      "[105]\tvalid_0's binary_logloss: 0.227067\n",
      "[106]\tvalid_0's binary_logloss: 0.226611\n",
      "[107]\tvalid_0's binary_logloss: 0.226424\n",
      "[108]\tvalid_0's binary_logloss: 0.226534\n",
      "[109]\tvalid_0's binary_logloss: 0.226929\n",
      "[110]\tvalid_0's binary_logloss: 0.226869\n",
      "[111]\tvalid_0's binary_logloss: 0.227116\n",
      "[112]\tvalid_0's binary_logloss: 0.227241\n",
      "[113]\tvalid_0's binary_logloss: 0.227358\n",
      "[114]\tvalid_0's binary_logloss: 0.227388\n",
      "[115]\tvalid_0's binary_logloss: 0.226671\n",
      "[116]\tvalid_0's binary_logloss: 0.226645\n",
      "[117]\tvalid_0's binary_logloss: 0.226929\n",
      "[118]\tvalid_0's binary_logloss: 0.226942\n",
      "[119]\tvalid_0's binary_logloss: 0.226497\n",
      "[120]\tvalid_0's binary_logloss: 0.226198\n",
      "[121]\tvalid_0's binary_logloss: 0.22639\n",
      "[122]\tvalid_0's binary_logloss: 0.22644\n",
      "[123]\tvalid_0's binary_logloss: 0.226539\n",
      "[124]\tvalid_0's binary_logloss: 0.226103\n",
      "[125]\tvalid_0's binary_logloss: 0.226292\n",
      "[126]\tvalid_0's binary_logloss: 0.226053\n",
      "[127]\tvalid_0's binary_logloss: 0.226277\n",
      "[128]\tvalid_0's binary_logloss: 0.226311\n",
      "[129]\tvalid_0's binary_logloss: 0.226475\n",
      "[130]\tvalid_0's binary_logloss: 0.226993\n",
      "[131]\tvalid_0's binary_logloss: 0.226836\n",
      "[132]\tvalid_0's binary_logloss: 0.226666\n",
      "[133]\tvalid_0's binary_logloss: 0.226598\n",
      "[134]\tvalid_0's binary_logloss: 0.226744\n",
      "[135]\tvalid_0's binary_logloss: 0.226861\n",
      "[136]\tvalid_0's binary_logloss: 0.226948\n",
      "[137]\tvalid_0's binary_logloss: 0.227163\n",
      "[138]\tvalid_0's binary_logloss: 0.227638\n",
      "[139]\tvalid_0's binary_logloss: 0.227484\n",
      "[140]\tvalid_0's binary_logloss: 0.227738\n",
      "[141]\tvalid_0's binary_logloss: 0.22767\n",
      "[142]\tvalid_0's binary_logloss: 0.227566\n",
      "[143]\tvalid_0's binary_logloss: 0.227728\n",
      "[144]\tvalid_0's binary_logloss: 0.228121\n",
      "[145]\tvalid_0's binary_logloss: 0.228211\n",
      "[146]\tvalid_0's binary_logloss: 0.227782\n",
      "evaluating on the training set...\n",
      "fitting HMM smoother...\n",
      "fitting forward-backward smoother...\n"
     ]
    },
    {
     "name": "stderr",
     "output_type": "stream",
     "text": [
      "/home/roton/miniconda3/envs/mars/lib/python3.7/site-packages/sklearn/utils/validation.py:70: FutureWarning: Pass threshold=0.5 as keyword args. From version 0.25 passing these as positional arguments will result in an error\n",
      "  FutureWarning)\n"
     ]
    },
    {
     "name": "stdout",
     "output_type": "stream",
     "text": [
      "HMM label smoothing training took 0.08 mins\n",
      "performance on training set:\n",
      "P: 0.9688, R: 0.9666, F1: 0.9677    investigation\n",
      "done training!\n",
      "complete training took 3.50 mins\n",
      "loading test data...\n"
     ]
    },
    {
     "name": "stderr",
     "output_type": "stream",
     "text": [
      "Filtering sequence 0/27    0% --  [Elapsed Time: 0:00:00] |  | (ETA:  --:--:--) \r"
     ]
    },
    {
     "name": "stdout",
     "output_type": "stream",
     "text": [
      "sorting features and applying filters...\n"
     ]
    },
    {
     "name": "stderr",
     "output_type": "stream",
     "text": [
      "Filtering sequence 27/27  100% --  [Elapsed Time: 0:04:53] |##| (Time: 0:04:53) \n"
     ]
    },
    {
     "name": "stdout",
     "output_type": "stream",
     "text": [
      "done!\n",
      "\n",
      "loaded test data: 364826 X 3408 - ['investigation'] \n",
      "loading classifiers from /media/storage/ryan/mabe_challenge/behavior/trained_classifiers/mabe_challenge_lgt_es20_wnd/\n",
      "n_classes = 4\n",
      "{'attack': 0, 'investigation': 1, 'mount': 2, 'other': 3}\n",
      "predicting investigation...\n",
      "inference took 61.99 sec\n",
      " \n",
      "Classifier performance:\n"
     ]
    },
    {
     "name": "stderr",
     "output_type": "stream",
     "text": [
      "/home/roton/miniconda3/envs/mars/lib/python3.7/site-packages/sklearn/metrics/_classification.py:1221: UndefinedMetricWarning: Precision and F-score are ill-defined and being set to 0.0 in labels with no predicted samples. Use `zero_division` parameter to control this behavior.\n",
      "  _warn_prf(average, modifier, msg_start, len(result))\n",
      "/home/roton/miniconda3/envs/mars/lib/python3.7/site-packages/sklearn/metrics/_classification.py:1221: UndefinedMetricWarning: Recall and F-score are ill-defined and being set to 0.0 in labels with no true samples. Use `zero_division` parameter to control this behavior.\n",
      "  _warn_prf(average, modifier, msg_start, len(result))\n"
     ]
    },
    {
     "name": "stdout",
     "output_type": "stream",
     "text": [
      "              attack   investigation   other    \n",
      "  Precision:    0.0      0.854      0.0     \n",
      "     Recall:    0.0      0.843      0.0     \n",
      "   F1 Score:    0.0      0.848      0.0     \n",
      "Loop: 8\n",
      "val set size: 27301\n",
      "training set size: 237719.0\n",
      "loading training data...\n"
     ]
    },
    {
     "name": "stderr",
     "output_type": "stream",
     "text": [
      "Filtering sequence 0/31    0% --  [Elapsed Time: 0:00:00] |  | (ETA:  --:--:--) \r"
     ]
    },
    {
     "name": "stdout",
     "output_type": "stream",
     "text": [
      "sorting features and applying filters...\n"
     ]
    },
    {
     "name": "stderr",
     "output_type": "stream",
     "text": [
      "Filtering sequence 31/31  100% --  [Elapsed Time: 0:03:13] |##| (Time: 0:03:13) \n"
     ]
    },
    {
     "name": "stdout",
     "output_type": "stream",
     "text": [
      "done!\n",
      "\n",
      "loading validation data...\n"
     ]
    },
    {
     "name": "stderr",
     "output_type": "stream",
     "text": [
      "Filtering sequence 0/4    0% --  [Elapsed Time: 0:00:00] |   | (ETA:  --:--:--) \r"
     ]
    },
    {
     "name": "stdout",
     "output_type": "stream",
     "text": [
      "sorting features and applying filters...\n"
     ]
    },
    {
     "name": "stderr",
     "output_type": "stream",
     "text": [
      "Filtering sequence 4/4  100% --  [Elapsed Time: 0:00:22] |####| (Time: 0:00:22) \n"
     ]
    },
    {
     "name": "stdout",
     "output_type": "stream",
     "text": [
      "done!\n",
      "\n",
      "loaded training data: 237719 X 3408 - ['investigation'] \n",
      "Training classifier: MABE_CHALLENGE_LGT_ES20_WND/\n",
      "######################### investigation #########################\n",
      "training using 68706 positive frames (942 bouts)\n",
      "fitting preprocessing parameters...\n",
      "fitting clf for investigation\n",
      "    training set: 68706 positive / 237719 total (28 %)\n",
      "    eval set: 11610 positive / 27301 total (42 %)\n",
      "  + early stopping\n"
     ]
    },
    {
     "name": "stderr",
     "output_type": "stream",
     "text": [
      "/home/roton/miniconda3/envs/mars/lib/python3.7/site-packages/lightgbm/sklearn.py:726: UserWarning: 'early_stopping_rounds' argument is deprecated and will be removed in a future release of LightGBM. Pass 'early_stopping()' callback via 'callbacks' argument instead.\n",
      "  _log_warning(\"'early_stopping_rounds' argument is deprecated and will be removed in a future release of LightGBM. \"\n",
      "/home/roton/miniconda3/envs/mars/lib/python3.7/site-packages/lightgbm/sklearn.py:736: UserWarning: 'verbose' argument is deprecated and will be removed in a future release of LightGBM. Pass 'log_evaluation()' callback via 'callbacks' argument instead.\n",
      "  _log_warning(\"'verbose' argument is deprecated and will be removed in a future release of LightGBM. \"\n"
     ]
    },
    {
     "name": "stdout",
     "output_type": "stream",
     "text": [
      "[1]\tvalid_0's binary_logloss: 0.641925\n",
      "[2]\tvalid_0's binary_logloss: 0.579989\n",
      "[3]\tvalid_0's binary_logloss: 0.530039\n",
      "[4]\tvalid_0's binary_logloss: 0.490616\n",
      "[5]\tvalid_0's binary_logloss: 0.457322\n",
      "[6]\tvalid_0's binary_logloss: 0.427448\n",
      "[7]\tvalid_0's binary_logloss: 0.404081\n",
      "[8]\tvalid_0's binary_logloss: 0.381207\n",
      "[9]\tvalid_0's binary_logloss: 0.363547\n",
      "[10]\tvalid_0's binary_logloss: 0.34687\n",
      "[11]\tvalid_0's binary_logloss: 0.334196\n",
      "[12]\tvalid_0's binary_logloss: 0.321724\n",
      "[13]\tvalid_0's binary_logloss: 0.310693\n",
      "[14]\tvalid_0's binary_logloss: 0.301823\n",
      "[15]\tvalid_0's binary_logloss: 0.293599\n",
      "[16]\tvalid_0's binary_logloss: 0.286262\n",
      "[17]\tvalid_0's binary_logloss: 0.278798\n",
      "[18]\tvalid_0's binary_logloss: 0.272633\n",
      "[19]\tvalid_0's binary_logloss: 0.2669\n",
      "[20]\tvalid_0's binary_logloss: 0.26112\n",
      "[21]\tvalid_0's binary_logloss: 0.258403\n",
      "[22]\tvalid_0's binary_logloss: 0.254735\n",
      "[23]\tvalid_0's binary_logloss: 0.251218\n",
      "[24]\tvalid_0's binary_logloss: 0.248163\n",
      "[25]\tvalid_0's binary_logloss: 0.244902\n",
      "[26]\tvalid_0's binary_logloss: 0.24273\n",
      "[27]\tvalid_0's binary_logloss: 0.239749\n",
      "[28]\tvalid_0's binary_logloss: 0.237887\n",
      "[29]\tvalid_0's binary_logloss: 0.236038\n",
      "[30]\tvalid_0's binary_logloss: 0.234772\n",
      "[31]\tvalid_0's binary_logloss: 0.233185\n",
      "[32]\tvalid_0's binary_logloss: 0.232139\n",
      "[33]\tvalid_0's binary_logloss: 0.230776\n",
      "[34]\tvalid_0's binary_logloss: 0.228712\n",
      "[35]\tvalid_0's binary_logloss: 0.228355\n",
      "[36]\tvalid_0's binary_logloss: 0.228164\n",
      "[37]\tvalid_0's binary_logloss: 0.227231\n",
      "[38]\tvalid_0's binary_logloss: 0.225715\n",
      "[39]\tvalid_0's binary_logloss: 0.224411\n",
      "[40]\tvalid_0's binary_logloss: 0.223816\n",
      "[41]\tvalid_0's binary_logloss: 0.223109\n",
      "[42]\tvalid_0's binary_logloss: 0.222682\n",
      "[43]\tvalid_0's binary_logloss: 0.22238\n",
      "[44]\tvalid_0's binary_logloss: 0.221937\n",
      "[45]\tvalid_0's binary_logloss: 0.221746\n",
      "[46]\tvalid_0's binary_logloss: 0.221326\n",
      "[47]\tvalid_0's binary_logloss: 0.220856\n",
      "[48]\tvalid_0's binary_logloss: 0.22083\n",
      "[49]\tvalid_0's binary_logloss: 0.220219\n",
      "[50]\tvalid_0's binary_logloss: 0.219958\n",
      "[51]\tvalid_0's binary_logloss: 0.219636\n",
      "[52]\tvalid_0's binary_logloss: 0.219622\n",
      "[53]\tvalid_0's binary_logloss: 0.21948\n",
      "[54]\tvalid_0's binary_logloss: 0.219621\n",
      "[55]\tvalid_0's binary_logloss: 0.219139\n",
      "[56]\tvalid_0's binary_logloss: 0.218971\n",
      "[57]\tvalid_0's binary_logloss: 0.218748\n",
      "[58]\tvalid_0's binary_logloss: 0.218275\n",
      "[59]\tvalid_0's binary_logloss: 0.218487\n",
      "[60]\tvalid_0's binary_logloss: 0.218811\n",
      "[61]\tvalid_0's binary_logloss: 0.218661\n",
      "[62]\tvalid_0's binary_logloss: 0.218599\n",
      "[63]\tvalid_0's binary_logloss: 0.2188\n",
      "[64]\tvalid_0's binary_logloss: 0.21869\n",
      "[65]\tvalid_0's binary_logloss: 0.218628\n",
      "[66]\tvalid_0's binary_logloss: 0.218851\n",
      "[67]\tvalid_0's binary_logloss: 0.218539\n",
      "[68]\tvalid_0's binary_logloss: 0.218372\n",
      "[69]\tvalid_0's binary_logloss: 0.218475\n",
      "[70]\tvalid_0's binary_logloss: 0.218529\n",
      "[71]\tvalid_0's binary_logloss: 0.218896\n",
      "[72]\tvalid_0's binary_logloss: 0.219044\n",
      "[73]\tvalid_0's binary_logloss: 0.219243\n",
      "[74]\tvalid_0's binary_logloss: 0.219429\n",
      "[75]\tvalid_0's binary_logloss: 0.219468\n",
      "[76]\tvalid_0's binary_logloss: 0.219494\n",
      "[77]\tvalid_0's binary_logloss: 0.219266\n",
      "[78]\tvalid_0's binary_logloss: 0.219326\n",
      "evaluating on the training set...\n",
      "fitting HMM smoother...\n",
      "fitting forward-backward smoother...\n"
     ]
    },
    {
     "name": "stderr",
     "output_type": "stream",
     "text": [
      "/home/roton/miniconda3/envs/mars/lib/python3.7/site-packages/sklearn/utils/validation.py:70: FutureWarning: Pass threshold=0.5 as keyword args. From version 0.25 passing these as positional arguments will result in an error\n",
      "  FutureWarning)\n"
     ]
    },
    {
     "name": "stdout",
     "output_type": "stream",
     "text": [
      "HMM label smoothing training took 0.11 mins\n",
      "performance on training set:\n",
      "P: 0.9163, R: 0.9285, F1: 0.9223    investigation\n",
      "done training!\n",
      "complete training took 3.74 mins\n",
      "loading test data...\n"
     ]
    },
    {
     "name": "stderr",
     "output_type": "stream",
     "text": [
      "Filtering sequence 0/27    0% --  [Elapsed Time: 0:00:00] |  | (ETA:  --:--:--) \r"
     ]
    },
    {
     "name": "stdout",
     "output_type": "stream",
     "text": [
      "sorting features and applying filters...\n"
     ]
    },
    {
     "name": "stderr",
     "output_type": "stream",
     "text": [
      "Filtering sequence 27/27  100% --  [Elapsed Time: 0:04:57] |##| (Time: 0:04:57) \n"
     ]
    },
    {
     "name": "stdout",
     "output_type": "stream",
     "text": [
      "done!\n",
      "\n",
      "loaded test data: 364826 X 3408 - ['investigation'] \n",
      "loading classifiers from /media/storage/ryan/mabe_challenge/behavior/trained_classifiers/mabe_challenge_lgt_es20_wnd/\n",
      "n_classes = 4\n",
      "{'attack': 0, 'investigation': 1, 'mount': 2, 'other': 3}\n",
      "predicting investigation...\n",
      "inference took 62.58 sec\n",
      " \n",
      "Classifier performance:\n"
     ]
    },
    {
     "name": "stderr",
     "output_type": "stream",
     "text": [
      "/home/roton/miniconda3/envs/mars/lib/python3.7/site-packages/sklearn/metrics/_classification.py:1221: UndefinedMetricWarning: Precision and F-score are ill-defined and being set to 0.0 in labels with no predicted samples. Use `zero_division` parameter to control this behavior.\n",
      "  _warn_prf(average, modifier, msg_start, len(result))\n",
      "/home/roton/miniconda3/envs/mars/lib/python3.7/site-packages/sklearn/metrics/_classification.py:1221: UndefinedMetricWarning: Recall and F-score are ill-defined and being set to 0.0 in labels with no true samples. Use `zero_division` parameter to control this behavior.\n",
      "  _warn_prf(average, modifier, msg_start, len(result))\n"
     ]
    },
    {
     "name": "stdout",
     "output_type": "stream",
     "text": [
      "              attack   investigation   other    \n",
      "  Precision:    0.0      0.846      0.0     \n",
      "     Recall:    0.0      0.852      0.0     \n",
      "   F1 Score:    0.0      0.849      0.0     \n",
      "Loop: 9\n",
      "val set size: 40471\n",
      "training set size: 264818.0\n",
      "loading training data...\n"
     ]
    },
    {
     "name": "stderr",
     "output_type": "stream",
     "text": [
      "Filtering sequence 0/34    0% --  [Elapsed Time: 0:00:00] |  | (ETA:  --:--:--) \r"
     ]
    },
    {
     "name": "stdout",
     "output_type": "stream",
     "text": [
      "sorting features and applying filters...\n"
     ]
    },
    {
     "name": "stderr",
     "output_type": "stream",
     "text": [
      "Filtering sequence 34/34  100% --  [Elapsed Time: 0:03:36] |##| (Time: 0:03:36) \n"
     ]
    },
    {
     "name": "stdout",
     "output_type": "stream",
     "text": [
      "done!\n",
      "\n",
      "loading validation data...\n"
     ]
    },
    {
     "name": "stderr",
     "output_type": "stream",
     "text": [
      "Filtering sequence 0/5    0% --  [Elapsed Time: 0:00:00] |   | (ETA:  --:--:--) \r"
     ]
    },
    {
     "name": "stdout",
     "output_type": "stream",
     "text": [
      "sorting features and applying filters...\n"
     ]
    },
    {
     "name": "stderr",
     "output_type": "stream",
     "text": [
      "Filtering sequence 5/5  100% --  [Elapsed Time: 0:00:31] |####| (Time: 0:00:31) \n"
     ]
    },
    {
     "name": "stdout",
     "output_type": "stream",
     "text": [
      "done!\n",
      "\n",
      "loaded training data: 264818 X 3408 - ['investigation'] \n",
      "Training classifier: MABE_CHALLENGE_LGT_ES20_WND/\n",
      "######################### investigation #########################\n",
      "training using 82280 positive frames (1042 bouts)\n",
      "fitting preprocessing parameters...\n",
      "fitting clf for investigation\n",
      "    training set: 82280 positive / 264818 total (31 %)\n",
      "    eval set: 13530 positive / 40471 total (33 %)\n",
      "  + early stopping\n"
     ]
    },
    {
     "name": "stderr",
     "output_type": "stream",
     "text": [
      "/home/roton/miniconda3/envs/mars/lib/python3.7/site-packages/lightgbm/sklearn.py:726: UserWarning: 'early_stopping_rounds' argument is deprecated and will be removed in a future release of LightGBM. Pass 'early_stopping()' callback via 'callbacks' argument instead.\n",
      "  _log_warning(\"'early_stopping_rounds' argument is deprecated and will be removed in a future release of LightGBM. \"\n",
      "/home/roton/miniconda3/envs/mars/lib/python3.7/site-packages/lightgbm/sklearn.py:736: UserWarning: 'verbose' argument is deprecated and will be removed in a future release of LightGBM. Pass 'log_evaluation()' callback via 'callbacks' argument instead.\n",
      "  _log_warning(\"'verbose' argument is deprecated and will be removed in a future release of LightGBM. \"\n"
     ]
    },
    {
     "name": "stdout",
     "output_type": "stream",
     "text": [
      "[1]\tvalid_0's binary_logloss: 0.568881\n",
      "[2]\tvalid_0's binary_logloss: 0.514722\n",
      "[3]\tvalid_0's binary_logloss: 0.470381\n",
      "[4]\tvalid_0's binary_logloss: 0.434144\n",
      "[5]\tvalid_0's binary_logloss: 0.402004\n",
      "[6]\tvalid_0's binary_logloss: 0.375716\n",
      "[7]\tvalid_0's binary_logloss: 0.351901\n",
      "[8]\tvalid_0's binary_logloss: 0.331344\n",
      "[9]\tvalid_0's binary_logloss: 0.314844\n",
      "[10]\tvalid_0's binary_logloss: 0.300098\n",
      "[11]\tvalid_0's binary_logloss: 0.28661\n",
      "[12]\tvalid_0's binary_logloss: 0.274409\n",
      "[13]\tvalid_0's binary_logloss: 0.264483\n",
      "[14]\tvalid_0's binary_logloss: 0.255407\n",
      "[15]\tvalid_0's binary_logloss: 0.246998\n",
      "[16]\tvalid_0's binary_logloss: 0.239647\n",
      "[17]\tvalid_0's binary_logloss: 0.233375\n",
      "[18]\tvalid_0's binary_logloss: 0.227152\n",
      "[19]\tvalid_0's binary_logloss: 0.221745\n",
      "[20]\tvalid_0's binary_logloss: 0.217016\n",
      "[21]\tvalid_0's binary_logloss: 0.213366\n",
      "[22]\tvalid_0's binary_logloss: 0.209457\n",
      "[23]\tvalid_0's binary_logloss: 0.206214\n",
      "[24]\tvalid_0's binary_logloss: 0.203205\n",
      "[25]\tvalid_0's binary_logloss: 0.200417\n",
      "[26]\tvalid_0's binary_logloss: 0.19766\n",
      "[27]\tvalid_0's binary_logloss: 0.195111\n",
      "[28]\tvalid_0's binary_logloss: 0.193239\n",
      "[29]\tvalid_0's binary_logloss: 0.191655\n",
      "[30]\tvalid_0's binary_logloss: 0.190196\n",
      "[31]\tvalid_0's binary_logloss: 0.188342\n",
      "[32]\tvalid_0's binary_logloss: 0.186757\n",
      "[33]\tvalid_0's binary_logloss: 0.185294\n",
      "[34]\tvalid_0's binary_logloss: 0.184364\n",
      "[35]\tvalid_0's binary_logloss: 0.183452\n",
      "[36]\tvalid_0's binary_logloss: 0.183298\n",
      "[37]\tvalid_0's binary_logloss: 0.182115\n",
      "[38]\tvalid_0's binary_logloss: 0.181059\n",
      "[39]\tvalid_0's binary_logloss: 0.180027\n",
      "[40]\tvalid_0's binary_logloss: 0.179292\n",
      "[41]\tvalid_0's binary_logloss: 0.178924\n",
      "[42]\tvalid_0's binary_logloss: 0.178087\n",
      "[43]\tvalid_0's binary_logloss: 0.177485\n",
      "[44]\tvalid_0's binary_logloss: 0.176596\n",
      "[45]\tvalid_0's binary_logloss: 0.176228\n",
      "[46]\tvalid_0's binary_logloss: 0.175582\n",
      "[47]\tvalid_0's binary_logloss: 0.174668\n",
      "[48]\tvalid_0's binary_logloss: 0.173768\n",
      "[49]\tvalid_0's binary_logloss: 0.173336\n",
      "[50]\tvalid_0's binary_logloss: 0.173154\n",
      "[51]\tvalid_0's binary_logloss: 0.173008\n",
      "[52]\tvalid_0's binary_logloss: 0.172757\n",
      "[53]\tvalid_0's binary_logloss: 0.172322\n",
      "[54]\tvalid_0's binary_logloss: 0.172314\n",
      "[55]\tvalid_0's binary_logloss: 0.17216\n",
      "[56]\tvalid_0's binary_logloss: 0.171815\n",
      "[57]\tvalid_0's binary_logloss: 0.171391\n",
      "[58]\tvalid_0's binary_logloss: 0.170972\n",
      "[59]\tvalid_0's binary_logloss: 0.170835\n",
      "[60]\tvalid_0's binary_logloss: 0.170676\n",
      "[61]\tvalid_0's binary_logloss: 0.170673\n",
      "[62]\tvalid_0's binary_logloss: 0.171215\n",
      "[63]\tvalid_0's binary_logloss: 0.1713\n",
      "[64]\tvalid_0's binary_logloss: 0.171048\n",
      "[65]\tvalid_0's binary_logloss: 0.170909\n",
      "[66]\tvalid_0's binary_logloss: 0.171246\n",
      "[67]\tvalid_0's binary_logloss: 0.170816\n",
      "[68]\tvalid_0's binary_logloss: 0.170977\n",
      "[69]\tvalid_0's binary_logloss: 0.170697\n",
      "[70]\tvalid_0's binary_logloss: 0.170717\n",
      "[71]\tvalid_0's binary_logloss: 0.170352\n",
      "[72]\tvalid_0's binary_logloss: 0.170038\n",
      "[73]\tvalid_0's binary_logloss: 0.169799\n",
      "[74]\tvalid_0's binary_logloss: 0.169908\n",
      "[75]\tvalid_0's binary_logloss: 0.169752\n",
      "[76]\tvalid_0's binary_logloss: 0.169859\n",
      "[77]\tvalid_0's binary_logloss: 0.16962\n",
      "[78]\tvalid_0's binary_logloss: 0.16983\n",
      "[79]\tvalid_0's binary_logloss: 0.169751\n",
      "[80]\tvalid_0's binary_logloss: 0.169367\n",
      "[81]\tvalid_0's binary_logloss: 0.169462\n",
      "[82]\tvalid_0's binary_logloss: 0.16952\n",
      "[83]\tvalid_0's binary_logloss: 0.169206\n",
      "[84]\tvalid_0's binary_logloss: 0.169305\n",
      "[85]\tvalid_0's binary_logloss: 0.169306\n",
      "[86]\tvalid_0's binary_logloss: 0.169205\n",
      "[87]\tvalid_0's binary_logloss: 0.169487\n",
      "[88]\tvalid_0's binary_logloss: 0.169476\n",
      "[89]\tvalid_0's binary_logloss: 0.169431\n",
      "[90]\tvalid_0's binary_logloss: 0.169423\n",
      "[91]\tvalid_0's binary_logloss: 0.169314\n",
      "[92]\tvalid_0's binary_logloss: 0.169354\n",
      "[93]\tvalid_0's binary_logloss: 0.169372\n",
      "[94]\tvalid_0's binary_logloss: 0.169565\n",
      "[95]\tvalid_0's binary_logloss: 0.169475\n",
      "[96]\tvalid_0's binary_logloss: 0.169344\n",
      "[97]\tvalid_0's binary_logloss: 0.169469\n",
      "[98]\tvalid_0's binary_logloss: 0.169464\n",
      "[99]\tvalid_0's binary_logloss: 0.169523\n",
      "[100]\tvalid_0's binary_logloss: 0.16967\n",
      "[101]\tvalid_0's binary_logloss: 0.16954\n",
      "[102]\tvalid_0's binary_logloss: 0.169552\n",
      "[103]\tvalid_0's binary_logloss: 0.169535\n",
      "[104]\tvalid_0's binary_logloss: 0.169543\n",
      "[105]\tvalid_0's binary_logloss: 0.169269\n",
      "[106]\tvalid_0's binary_logloss: 0.169078\n",
      "[107]\tvalid_0's binary_logloss: 0.168899\n",
      "[108]\tvalid_0's binary_logloss: 0.168757\n",
      "[109]\tvalid_0's binary_logloss: 0.168752\n",
      "[110]\tvalid_0's binary_logloss: 0.168607\n",
      "[111]\tvalid_0's binary_logloss: 0.168673\n",
      "[112]\tvalid_0's binary_logloss: 0.168807\n",
      "[113]\tvalid_0's binary_logloss: 0.168759\n",
      "[114]\tvalid_0's binary_logloss: 0.168902\n",
      "[115]\tvalid_0's binary_logloss: 0.169189\n",
      "[116]\tvalid_0's binary_logloss: 0.169281\n",
      "[117]\tvalid_0's binary_logloss: 0.169371\n",
      "[118]\tvalid_0's binary_logloss: 0.17014\n",
      "[119]\tvalid_0's binary_logloss: 0.170005\n",
      "[120]\tvalid_0's binary_logloss: 0.169911\n",
      "[121]\tvalid_0's binary_logloss: 0.169727\n",
      "[122]\tvalid_0's binary_logloss: 0.169605\n",
      "[123]\tvalid_0's binary_logloss: 0.169713\n",
      "[124]\tvalid_0's binary_logloss: 0.169445\n",
      "[125]\tvalid_0's binary_logloss: 0.169533\n",
      "[126]\tvalid_0's binary_logloss: 0.169822\n",
      "[127]\tvalid_0's binary_logloss: 0.169778\n",
      "[128]\tvalid_0's binary_logloss: 0.169616\n",
      "[129]\tvalid_0's binary_logloss: 0.169652\n",
      "[130]\tvalid_0's binary_logloss: 0.169528\n",
      "evaluating on the training set...\n",
      "fitting HMM smoother...\n",
      "fitting forward-backward smoother...\n"
     ]
    },
    {
     "name": "stderr",
     "output_type": "stream",
     "text": [
      "/home/roton/miniconda3/envs/mars/lib/python3.7/site-packages/sklearn/utils/validation.py:70: FutureWarning: Pass threshold=0.5 as keyword args. From version 0.25 passing these as positional arguments will result in an error\n",
      "  FutureWarning)\n"
     ]
    },
    {
     "name": "stdout",
     "output_type": "stream",
     "text": [
      "HMM label smoothing training took 0.14 mins\n",
      "performance on training set:\n",
      "P: 0.9474, R: 0.9551, F1: 0.9512    investigation\n",
      "done training!\n",
      "complete training took 5.14 mins\n",
      "loading test data...\n"
     ]
    },
    {
     "name": "stderr",
     "output_type": "stream",
     "text": [
      "Filtering sequence 0/27    0% --  [Elapsed Time: 0:00:00] |  | (ETA:  --:--:--) \r"
     ]
    },
    {
     "name": "stdout",
     "output_type": "stream",
     "text": [
      "sorting features and applying filters...\n"
     ]
    },
    {
     "name": "stderr",
     "output_type": "stream",
     "text": [
      "Filtering sequence 27/27  100% --  [Elapsed Time: 0:04:57] |##| (Time: 0:04:57) \n"
     ]
    },
    {
     "name": "stdout",
     "output_type": "stream",
     "text": [
      "done!\n",
      "\n",
      "loaded test data: 364826 X 3408 - ['investigation'] \n",
      "loading classifiers from /media/storage/ryan/mabe_challenge/behavior/trained_classifiers/mabe_challenge_lgt_es20_wnd/\n",
      "n_classes = 4\n",
      "{'attack': 0, 'investigation': 1, 'mount': 2, 'other': 3}\n",
      "predicting investigation...\n",
      "inference took 58.07 sec\n",
      " \n",
      "Classifier performance:\n"
     ]
    },
    {
     "name": "stderr",
     "output_type": "stream",
     "text": [
      "/home/roton/miniconda3/envs/mars/lib/python3.7/site-packages/sklearn/metrics/_classification.py:1221: UndefinedMetricWarning: Precision and F-score are ill-defined and being set to 0.0 in labels with no predicted samples. Use `zero_division` parameter to control this behavior.\n",
      "  _warn_prf(average, modifier, msg_start, len(result))\n",
      "/home/roton/miniconda3/envs/mars/lib/python3.7/site-packages/sklearn/metrics/_classification.py:1221: UndefinedMetricWarning: Recall and F-score are ill-defined and being set to 0.0 in labels with no true samples. Use `zero_division` parameter to control this behavior.\n",
      "  _warn_prf(average, modifier, msg_start, len(result))\n"
     ]
    },
    {
     "name": "stdout",
     "output_type": "stream",
     "text": [
      "              attack   investigation   other    \n",
      "  Precision:    0.0      0.845      0.0     \n",
      "     Recall:    0.0      0.847      0.0     \n",
      "   F1 Score:    0.0      0.846      0.0     \n",
      "Loop: 10\n",
      "val set size: 40471\n",
      "training set size: 330759.0\n",
      "loading training data...\n"
     ]
    },
    {
     "name": "stderr",
     "output_type": "stream",
     "text": [
      "Filtering sequence 0/42    0% --  [Elapsed Time: 0:00:00] |  | (ETA:  --:--:--) \r"
     ]
    },
    {
     "name": "stdout",
     "output_type": "stream",
     "text": [
      "sorting features and applying filters...\n"
     ]
    },
    {
     "name": "stderr",
     "output_type": "stream",
     "text": [
      "Filtering sequence 42/42  100% --  [Elapsed Time: 0:04:27] |##| (Time: 0:04:27) \n"
     ]
    },
    {
     "name": "stdout",
     "output_type": "stream",
     "text": [
      "done!\n",
      "\n",
      "loading validation data...\n"
     ]
    },
    {
     "name": "stderr",
     "output_type": "stream",
     "text": [
      "Filtering sequence 0/5    0% --  [Elapsed Time: 0:00:00] |   | (ETA:  --:--:--) \r"
     ]
    },
    {
     "name": "stdout",
     "output_type": "stream",
     "text": [
      "sorting features and applying filters...\n"
     ]
    },
    {
     "name": "stderr",
     "output_type": "stream",
     "text": [
      "Filtering sequence 5/5  100% --  [Elapsed Time: 0:00:34] |####| (Time: 0:00:34) \n"
     ]
    },
    {
     "name": "stdout",
     "output_type": "stream",
     "text": [
      "done!\n",
      "\n",
      "loaded training data: 330759 X 3408 - ['investigation'] \n",
      "Training classifier: MABE_CHALLENGE_LGT_ES20_WND/\n",
      "######################### investigation #########################\n",
      "training using 101735 positive frames (1249 bouts)\n",
      "fitting preprocessing parameters...\n",
      "fitting clf for investigation\n",
      "    training set: 101735 positive / 330759 total (30 %)\n",
      "    eval set: 13530 positive / 40471 total (33 %)\n",
      "  + early stopping\n"
     ]
    },
    {
     "name": "stderr",
     "output_type": "stream",
     "text": [
      "/home/roton/miniconda3/envs/mars/lib/python3.7/site-packages/lightgbm/sklearn.py:726: UserWarning: 'early_stopping_rounds' argument is deprecated and will be removed in a future release of LightGBM. Pass 'early_stopping()' callback via 'callbacks' argument instead.\n",
      "  _log_warning(\"'early_stopping_rounds' argument is deprecated and will be removed in a future release of LightGBM. \"\n",
      "/home/roton/miniconda3/envs/mars/lib/python3.7/site-packages/lightgbm/sklearn.py:736: UserWarning: 'verbose' argument is deprecated and will be removed in a future release of LightGBM. Pass 'log_evaluation()' callback via 'callbacks' argument instead.\n",
      "  _log_warning(\"'verbose' argument is deprecated and will be removed in a future release of LightGBM. \"\n"
     ]
    },
    {
     "name": "stdout",
     "output_type": "stream",
     "text": [
      "[1]\tvalid_0's binary_logloss: 0.56872\n",
      "[2]\tvalid_0's binary_logloss: 0.515517\n",
      "[3]\tvalid_0's binary_logloss: 0.472842\n",
      "[4]\tvalid_0's binary_logloss: 0.437917\n",
      "[5]\tvalid_0's binary_logloss: 0.406782\n",
      "[6]\tvalid_0's binary_logloss: 0.378097\n",
      "[7]\tvalid_0's binary_logloss: 0.355323\n",
      "[8]\tvalid_0's binary_logloss: 0.33402\n",
      "[9]\tvalid_0's binary_logloss: 0.316661\n",
      "[10]\tvalid_0's binary_logloss: 0.301468\n",
      "[11]\tvalid_0's binary_logloss: 0.28774\n",
      "[12]\tvalid_0's binary_logloss: 0.275904\n",
      "[13]\tvalid_0's binary_logloss: 0.264914\n",
      "[14]\tvalid_0's binary_logloss: 0.255412\n",
      "[15]\tvalid_0's binary_logloss: 0.24719\n",
      "[16]\tvalid_0's binary_logloss: 0.240468\n",
      "[17]\tvalid_0's binary_logloss: 0.233765\n",
      "[18]\tvalid_0's binary_logloss: 0.227609\n",
      "[19]\tvalid_0's binary_logloss: 0.222397\n",
      "[20]\tvalid_0's binary_logloss: 0.217852\n",
      "[21]\tvalid_0's binary_logloss: 0.213481\n",
      "[22]\tvalid_0's binary_logloss: 0.210117\n",
      "[23]\tvalid_0's binary_logloss: 0.206366\n",
      "[24]\tvalid_0's binary_logloss: 0.20342\n",
      "[25]\tvalid_0's binary_logloss: 0.20098\n",
      "[26]\tvalid_0's binary_logloss: 0.198237\n",
      "[27]\tvalid_0's binary_logloss: 0.194967\n",
      "[28]\tvalid_0's binary_logloss: 0.192892\n",
      "[29]\tvalid_0's binary_logloss: 0.190824\n",
      "[30]\tvalid_0's binary_logloss: 0.189478\n",
      "[31]\tvalid_0's binary_logloss: 0.187273\n",
      "[32]\tvalid_0's binary_logloss: 0.18611\n",
      "[33]\tvalid_0's binary_logloss: 0.184896\n",
      "[34]\tvalid_0's binary_logloss: 0.183944\n",
      "[35]\tvalid_0's binary_logloss: 0.182825\n",
      "[36]\tvalid_0's binary_logloss: 0.181735\n",
      "[37]\tvalid_0's binary_logloss: 0.1807\n",
      "[38]\tvalid_0's binary_logloss: 0.179926\n",
      "[39]\tvalid_0's binary_logloss: 0.179579\n",
      "[40]\tvalid_0's binary_logloss: 0.178796\n",
      "[41]\tvalid_0's binary_logloss: 0.178153\n",
      "[42]\tvalid_0's binary_logloss: 0.178019\n",
      "[43]\tvalid_0's binary_logloss: 0.177432\n",
      "[44]\tvalid_0's binary_logloss: 0.176865\n",
      "[45]\tvalid_0's binary_logloss: 0.176262\n",
      "[46]\tvalid_0's binary_logloss: 0.176085\n",
      "[47]\tvalid_0's binary_logloss: 0.175599\n",
      "[48]\tvalid_0's binary_logloss: 0.175321\n",
      "[49]\tvalid_0's binary_logloss: 0.175201\n",
      "[50]\tvalid_0's binary_logloss: 0.174721\n",
      "[51]\tvalid_0's binary_logloss: 0.174714\n",
      "[52]\tvalid_0's binary_logloss: 0.174082\n",
      "[53]\tvalid_0's binary_logloss: 0.173836\n",
      "[54]\tvalid_0's binary_logloss: 0.17355\n",
      "[55]\tvalid_0's binary_logloss: 0.173251\n",
      "[56]\tvalid_0's binary_logloss: 0.172911\n",
      "[57]\tvalid_0's binary_logloss: 0.172824\n",
      "[58]\tvalid_0's binary_logloss: 0.172516\n",
      "[59]\tvalid_0's binary_logloss: 0.171974\n",
      "[60]\tvalid_0's binary_logloss: 0.171524\n",
      "[61]\tvalid_0's binary_logloss: 0.171461\n",
      "[62]\tvalid_0's binary_logloss: 0.170988\n",
      "[63]\tvalid_0's binary_logloss: 0.170833\n",
      "[64]\tvalid_0's binary_logloss: 0.170804\n",
      "[65]\tvalid_0's binary_logloss: 0.170384\n",
      "[66]\tvalid_0's binary_logloss: 0.170544\n",
      "[67]\tvalid_0's binary_logloss: 0.170252\n",
      "[68]\tvalid_0's binary_logloss: 0.169797\n",
      "[69]\tvalid_0's binary_logloss: 0.169506\n",
      "[70]\tvalid_0's binary_logloss: 0.169498\n",
      "[71]\tvalid_0's binary_logloss: 0.169103\n",
      "[72]\tvalid_0's binary_logloss: 0.168893\n",
      "[73]\tvalid_0's binary_logloss: 0.169189\n",
      "[74]\tvalid_0's binary_logloss: 0.168952\n",
      "[75]\tvalid_0's binary_logloss: 0.169098\n",
      "[76]\tvalid_0's binary_logloss: 0.169234\n",
      "[77]\tvalid_0's binary_logloss: 0.169142\n",
      "[78]\tvalid_0's binary_logloss: 0.169369\n",
      "[79]\tvalid_0's binary_logloss: 0.169618\n",
      "[80]\tvalid_0's binary_logloss: 0.169362\n",
      "[81]\tvalid_0's binary_logloss: 0.169767\n",
      "[82]\tvalid_0's binary_logloss: 0.169785\n",
      "[83]\tvalid_0's binary_logloss: 0.169766\n",
      "[84]\tvalid_0's binary_logloss: 0.169747\n",
      "[85]\tvalid_0's binary_logloss: 0.169711\n",
      "[86]\tvalid_0's binary_logloss: 0.169574\n",
      "[87]\tvalid_0's binary_logloss: 0.169534\n",
      "[88]\tvalid_0's binary_logloss: 0.169342\n",
      "[89]\tvalid_0's binary_logloss: 0.168868\n",
      "[90]\tvalid_0's binary_logloss: 0.168714\n",
      "[91]\tvalid_0's binary_logloss: 0.168699\n",
      "[92]\tvalid_0's binary_logloss: 0.168609\n",
      "[93]\tvalid_0's binary_logloss: 0.168371\n",
      "[94]\tvalid_0's binary_logloss: 0.168497\n",
      "[95]\tvalid_0's binary_logloss: 0.168518\n",
      "[96]\tvalid_0's binary_logloss: 0.16847\n",
      "[97]\tvalid_0's binary_logloss: 0.168401\n",
      "[98]\tvalid_0's binary_logloss: 0.168439\n",
      "[99]\tvalid_0's binary_logloss: 0.168193\n",
      "[100]\tvalid_0's binary_logloss: 0.168316\n",
      "[101]\tvalid_0's binary_logloss: 0.168194\n",
      "[102]\tvalid_0's binary_logloss: 0.168096\n",
      "[103]\tvalid_0's binary_logloss: 0.167992\n",
      "[104]\tvalid_0's binary_logloss: 0.167563\n",
      "[105]\tvalid_0's binary_logloss: 0.167785\n",
      "[106]\tvalid_0's binary_logloss: 0.167653\n",
      "[107]\tvalid_0's binary_logloss: 0.167672\n",
      "[108]\tvalid_0's binary_logloss: 0.167716\n",
      "[109]\tvalid_0's binary_logloss: 0.167617\n",
      "[110]\tvalid_0's binary_logloss: 0.167714\n",
      "[111]\tvalid_0's binary_logloss: 0.167627\n",
      "[112]\tvalid_0's binary_logloss: 0.167528\n",
      "[113]\tvalid_0's binary_logloss: 0.167721\n",
      "[114]\tvalid_0's binary_logloss: 0.167855\n",
      "[115]\tvalid_0's binary_logloss: 0.167851\n",
      "[116]\tvalid_0's binary_logloss: 0.167896\n",
      "[117]\tvalid_0's binary_logloss: 0.168132\n",
      "[118]\tvalid_0's binary_logloss: 0.168135\n",
      "[119]\tvalid_0's binary_logloss: 0.167899\n",
      "[120]\tvalid_0's binary_logloss: 0.167774\n",
      "[121]\tvalid_0's binary_logloss: 0.167832\n",
      "[122]\tvalid_0's binary_logloss: 0.168146\n",
      "[123]\tvalid_0's binary_logloss: 0.168202\n",
      "[124]\tvalid_0's binary_logloss: 0.167958\n",
      "[125]\tvalid_0's binary_logloss: 0.167927\n",
      "[126]\tvalid_0's binary_logloss: 0.168204\n",
      "[127]\tvalid_0's binary_logloss: 0.168113\n",
      "[128]\tvalid_0's binary_logloss: 0.168096\n",
      "[129]\tvalid_0's binary_logloss: 0.167833\n",
      "[130]\tvalid_0's binary_logloss: 0.167807\n",
      "[131]\tvalid_0's binary_logloss: 0.167595\n",
      "[132]\tvalid_0's binary_logloss: 0.16756\n",
      "evaluating on the training set...\n",
      "fitting HMM smoother...\n",
      "fitting forward-backward smoother...\n"
     ]
    },
    {
     "name": "stderr",
     "output_type": "stream",
     "text": [
      "/home/roton/miniconda3/envs/mars/lib/python3.7/site-packages/sklearn/utils/validation.py:70: FutureWarning: Pass threshold=0.5 as keyword args. From version 0.25 passing these as positional arguments will result in an error\n",
      "  FutureWarning)\n"
     ]
    },
    {
     "name": "stdout",
     "output_type": "stream",
     "text": [
      "HMM label smoothing training took 0.16 mins\n",
      "performance on training set:\n",
      "P: 0.9386, R: 0.9464, F1: 0.9425    investigation\n",
      "done training!\n",
      "complete training took 5.67 mins\n",
      "loading test data...\n"
     ]
    },
    {
     "name": "stderr",
     "output_type": "stream",
     "text": [
      "Filtering sequence 0/27    0% --  [Elapsed Time: 0:00:00] |  | (ETA:  --:--:--) \r"
     ]
    },
    {
     "name": "stdout",
     "output_type": "stream",
     "text": [
      "sorting features and applying filters...\n"
     ]
    },
    {
     "name": "stderr",
     "output_type": "stream",
     "text": [
      "Filtering sequence 27/27  100% --  [Elapsed Time: 0:04:56] |##| (Time: 0:04:56) \n"
     ]
    },
    {
     "name": "stdout",
     "output_type": "stream",
     "text": [
      "done!\n",
      "\n",
      "loaded test data: 364826 X 3408 - ['investigation'] \n",
      "loading classifiers from /media/storage/ryan/mabe_challenge/behavior/trained_classifiers/mabe_challenge_lgt_es20_wnd/\n",
      "n_classes = 4\n",
      "{'attack': 0, 'investigation': 1, 'mount': 2, 'other': 3}\n",
      "predicting investigation...\n",
      "inference took 60.58 sec\n",
      " \n",
      "Classifier performance:\n"
     ]
    },
    {
     "name": "stderr",
     "output_type": "stream",
     "text": [
      "/home/roton/miniconda3/envs/mars/lib/python3.7/site-packages/sklearn/metrics/_classification.py:1221: UndefinedMetricWarning: Precision and F-score are ill-defined and being set to 0.0 in labels with no predicted samples. Use `zero_division` parameter to control this behavior.\n",
      "  _warn_prf(average, modifier, msg_start, len(result))\n",
      "/home/roton/miniconda3/envs/mars/lib/python3.7/site-packages/sklearn/metrics/_classification.py:1221: UndefinedMetricWarning: Recall and F-score are ill-defined and being set to 0.0 in labels with no true samples. Use `zero_division` parameter to control this behavior.\n",
      "  _warn_prf(average, modifier, msg_start, len(result))\n"
     ]
    },
    {
     "name": "stdout",
     "output_type": "stream",
     "text": [
      "              attack   investigation   other    \n",
      "  Precision:    0.0      0.844      0.0     \n",
      "     Recall:    0.0      0.847      0.0     \n",
      "   F1 Score:    0.0      0.845      0.0     \n",
      "Loop: 11\n",
      "val set size: 43822\n",
      "training set size: 367561.0\n",
      "loading training data...\n"
     ]
    },
    {
     "name": "stderr",
     "output_type": "stream",
     "text": [
      "Filtering sequence 0/49    0% --  [Elapsed Time: 0:00:00] |  | (ETA:  --:--:--) \r"
     ]
    },
    {
     "name": "stdout",
     "output_type": "stream",
     "text": [
      "sorting features and applying filters...\n"
     ]
    },
    {
     "name": "stderr",
     "output_type": "stream",
     "text": [
      "Filtering sequence 49/49  100% --  [Elapsed Time: 0:04:55] |##| (Time: 0:04:55) \n"
     ]
    },
    {
     "name": "stdout",
     "output_type": "stream",
     "text": [
      "done!\n",
      "\n",
      "loading validation data...\n"
     ]
    },
    {
     "name": "stderr",
     "output_type": "stream",
     "text": [
      "Filtering sequence 0/6    0% --  [Elapsed Time: 0:00:00] |   | (ETA:  --:--:--) \r"
     ]
    },
    {
     "name": "stdout",
     "output_type": "stream",
     "text": [
      "sorting features and applying filters...\n"
     ]
    },
    {
     "name": "stderr",
     "output_type": "stream",
     "text": [
      "Filtering sequence 6/6  100% --  [Elapsed Time: 0:00:35] |####| (Time: 0:00:35) \n"
     ]
    },
    {
     "name": "stdout",
     "output_type": "stream",
     "text": [
      "done!\n",
      "\n",
      "loaded training data: 367561 X 3408 - ['investigation'] \n",
      "Training classifier: MABE_CHALLENGE_LGT_ES20_WND/\n",
      "######################### investigation #########################\n",
      "training using 107617 positive frames (1369 bouts)\n",
      "fitting preprocessing parameters...\n",
      "fitting clf for investigation\n",
      "    training set: 107617 positive / 367561 total (29 %)\n",
      "    eval set: 14303 positive / 43822 total (32 %)\n",
      "  + early stopping\n"
     ]
    },
    {
     "name": "stderr",
     "output_type": "stream",
     "text": [
      "/home/roton/miniconda3/envs/mars/lib/python3.7/site-packages/lightgbm/sklearn.py:726: UserWarning: 'early_stopping_rounds' argument is deprecated and will be removed in a future release of LightGBM. Pass 'early_stopping()' callback via 'callbacks' argument instead.\n",
      "  _log_warning(\"'early_stopping_rounds' argument is deprecated and will be removed in a future release of LightGBM. \"\n",
      "/home/roton/miniconda3/envs/mars/lib/python3.7/site-packages/lightgbm/sklearn.py:736: UserWarning: 'verbose' argument is deprecated and will be removed in a future release of LightGBM. Pass 'log_evaluation()' callback via 'callbacks' argument instead.\n",
      "  _log_warning(\"'verbose' argument is deprecated and will be removed in a future release of LightGBM. \"\n"
     ]
    },
    {
     "name": "stdout",
     "output_type": "stream",
     "text": [
      "[1]\tvalid_0's binary_logloss: 0.564997\n",
      "[2]\tvalid_0's binary_logloss: 0.510747\n",
      "[3]\tvalid_0's binary_logloss: 0.468436\n",
      "[4]\tvalid_0's binary_logloss: 0.432795\n",
      "[5]\tvalid_0's binary_logloss: 0.402428\n",
      "[6]\tvalid_0's binary_logloss: 0.375469\n",
      "[7]\tvalid_0's binary_logloss: 0.353913\n",
      "[8]\tvalid_0's binary_logloss: 0.335926\n",
      "[9]\tvalid_0's binary_logloss: 0.319035\n",
      "[10]\tvalid_0's binary_logloss: 0.303943\n",
      "[11]\tvalid_0's binary_logloss: 0.290288\n",
      "[12]\tvalid_0's binary_logloss: 0.278349\n",
      "[13]\tvalid_0's binary_logloss: 0.268611\n",
      "[14]\tvalid_0's binary_logloss: 0.260722\n",
      "[15]\tvalid_0's binary_logloss: 0.253114\n",
      "[16]\tvalid_0's binary_logloss: 0.246309\n",
      "[17]\tvalid_0's binary_logloss: 0.239815\n",
      "[18]\tvalid_0's binary_logloss: 0.233997\n",
      "[19]\tvalid_0's binary_logloss: 0.228748\n",
      "[20]\tvalid_0's binary_logloss: 0.224656\n",
      "[21]\tvalid_0's binary_logloss: 0.220548\n",
      "[22]\tvalid_0's binary_logloss: 0.216855\n",
      "[23]\tvalid_0's binary_logloss: 0.213282\n",
      "[24]\tvalid_0's binary_logloss: 0.209568\n",
      "[25]\tvalid_0's binary_logloss: 0.206318\n",
      "[26]\tvalid_0's binary_logloss: 0.2037\n",
      "[27]\tvalid_0's binary_logloss: 0.201667\n",
      "[28]\tvalid_0's binary_logloss: 0.199298\n",
      "[29]\tvalid_0's binary_logloss: 0.197152\n",
      "[30]\tvalid_0's binary_logloss: 0.195643\n",
      "[31]\tvalid_0's binary_logloss: 0.194109\n",
      "[32]\tvalid_0's binary_logloss: 0.192808\n",
      "[33]\tvalid_0's binary_logloss: 0.191238\n",
      "[34]\tvalid_0's binary_logloss: 0.189948\n",
      "[35]\tvalid_0's binary_logloss: 0.188649\n",
      "[36]\tvalid_0's binary_logloss: 0.187494\n",
      "[37]\tvalid_0's binary_logloss: 0.186604\n",
      "[38]\tvalid_0's binary_logloss: 0.185492\n",
      "[39]\tvalid_0's binary_logloss: 0.184983\n",
      "[40]\tvalid_0's binary_logloss: 0.184376\n",
      "[41]\tvalid_0's binary_logloss: 0.184066\n",
      "[42]\tvalid_0's binary_logloss: 0.183357\n",
      "[43]\tvalid_0's binary_logloss: 0.182697\n",
      "[44]\tvalid_0's binary_logloss: 0.182315\n",
      "[45]\tvalid_0's binary_logloss: 0.182308\n",
      "[46]\tvalid_0's binary_logloss: 0.182067\n",
      "[47]\tvalid_0's binary_logloss: 0.181695\n",
      "[48]\tvalid_0's binary_logloss: 0.181534\n",
      "[49]\tvalid_0's binary_logloss: 0.181114\n",
      "[50]\tvalid_0's binary_logloss: 0.180624\n",
      "[51]\tvalid_0's binary_logloss: 0.180092\n",
      "[52]\tvalid_0's binary_logloss: 0.180973\n",
      "[53]\tvalid_0's binary_logloss: 0.180589\n",
      "[54]\tvalid_0's binary_logloss: 0.180256\n",
      "[55]\tvalid_0's binary_logloss: 0.180108\n",
      "[56]\tvalid_0's binary_logloss: 0.179935\n",
      "[57]\tvalid_0's binary_logloss: 0.179556\n",
      "[58]\tvalid_0's binary_logloss: 0.178947\n",
      "[59]\tvalid_0's binary_logloss: 0.178482\n",
      "[60]\tvalid_0's binary_logloss: 0.178384\n",
      "[61]\tvalid_0's binary_logloss: 0.177994\n",
      "[62]\tvalid_0's binary_logloss: 0.179076\n",
      "[63]\tvalid_0's binary_logloss: 0.178975\n",
      "[64]\tvalid_0's binary_logloss: 0.179198\n",
      "[65]\tvalid_0's binary_logloss: 0.179043\n",
      "[66]\tvalid_0's binary_logloss: 0.17833\n",
      "[67]\tvalid_0's binary_logloss: 0.177788\n",
      "[68]\tvalid_0's binary_logloss: 0.177788\n",
      "[69]\tvalid_0's binary_logloss: 0.177403\n",
      "[70]\tvalid_0's binary_logloss: 0.177145\n",
      "[71]\tvalid_0's binary_logloss: 0.176826\n",
      "[72]\tvalid_0's binary_logloss: 0.176533\n",
      "[73]\tvalid_0's binary_logloss: 0.176445\n",
      "[74]\tvalid_0's binary_logloss: 0.176386\n",
      "[75]\tvalid_0's binary_logloss: 0.175912\n",
      "[76]\tvalid_0's binary_logloss: 0.175813\n",
      "[77]\tvalid_0's binary_logloss: 0.175711\n",
      "[78]\tvalid_0's binary_logloss: 0.175771\n",
      "[79]\tvalid_0's binary_logloss: 0.175764\n",
      "[80]\tvalid_0's binary_logloss: 0.175818\n",
      "[81]\tvalid_0's binary_logloss: 0.175769\n",
      "[82]\tvalid_0's binary_logloss: 0.175787\n",
      "[83]\tvalid_0's binary_logloss: 0.17578\n",
      "[84]\tvalid_0's binary_logloss: 0.175868\n",
      "[85]\tvalid_0's binary_logloss: 0.176036\n",
      "[86]\tvalid_0's binary_logloss: 0.176024\n",
      "[87]\tvalid_0's binary_logloss: 0.17613\n",
      "[88]\tvalid_0's binary_logloss: 0.175699\n",
      "[89]\tvalid_0's binary_logloss: 0.17587\n",
      "[90]\tvalid_0's binary_logloss: 0.175616\n",
      "[91]\tvalid_0's binary_logloss: 0.175255\n",
      "[92]\tvalid_0's binary_logloss: 0.175434\n",
      "[93]\tvalid_0's binary_logloss: 0.175417\n",
      "[94]\tvalid_0's binary_logloss: 0.175411\n",
      "[95]\tvalid_0's binary_logloss: 0.175479\n",
      "[96]\tvalid_0's binary_logloss: 0.175233\n",
      "[97]\tvalid_0's binary_logloss: 0.175235\n",
      "[98]\tvalid_0's binary_logloss: 0.175324\n",
      "[99]\tvalid_0's binary_logloss: 0.175417\n",
      "[100]\tvalid_0's binary_logloss: 0.175541\n",
      "[101]\tvalid_0's binary_logloss: 0.175418\n",
      "[102]\tvalid_0's binary_logloss: 0.175556\n",
      "[103]\tvalid_0's binary_logloss: 0.17556\n",
      "[104]\tvalid_0's binary_logloss: 0.175641\n",
      "[105]\tvalid_0's binary_logloss: 0.175423\n",
      "[106]\tvalid_0's binary_logloss: 0.17536\n",
      "[107]\tvalid_0's binary_logloss: 0.175132\n",
      "[108]\tvalid_0's binary_logloss: 0.175036\n",
      "[109]\tvalid_0's binary_logloss: 0.17484\n",
      "[110]\tvalid_0's binary_logloss: 0.174718\n",
      "[111]\tvalid_0's binary_logloss: 0.174394\n",
      "[112]\tvalid_0's binary_logloss: 0.174401\n",
      "[113]\tvalid_0's binary_logloss: 0.174305\n",
      "[114]\tvalid_0's binary_logloss: 0.174071\n",
      "[115]\tvalid_0's binary_logloss: 0.173941\n",
      "[116]\tvalid_0's binary_logloss: 0.173993\n",
      "[117]\tvalid_0's binary_logloss: 0.174051\n",
      "[118]\tvalid_0's binary_logloss: 0.173948\n",
      "[119]\tvalid_0's binary_logloss: 0.173958\n",
      "[120]\tvalid_0's binary_logloss: 0.173825\n",
      "[121]\tvalid_0's binary_logloss: 0.173832\n",
      "[122]\tvalid_0's binary_logloss: 0.173805\n",
      "[123]\tvalid_0's binary_logloss: 0.173775\n",
      "[124]\tvalid_0's binary_logloss: 0.173736\n",
      "[125]\tvalid_0's binary_logloss: 0.173754\n",
      "[126]\tvalid_0's binary_logloss: 0.173328\n",
      "[127]\tvalid_0's binary_logloss: 0.173383\n",
      "[128]\tvalid_0's binary_logloss: 0.173402\n",
      "[129]\tvalid_0's binary_logloss: 0.173291\n",
      "[130]\tvalid_0's binary_logloss: 0.172973\n",
      "[131]\tvalid_0's binary_logloss: 0.173033\n",
      "[132]\tvalid_0's binary_logloss: 0.172853\n",
      "[133]\tvalid_0's binary_logloss: 0.172921\n",
      "[134]\tvalid_0's binary_logloss: 0.172859\n",
      "[135]\tvalid_0's binary_logloss: 0.172754\n",
      "[136]\tvalid_0's binary_logloss: 0.172852\n",
      "[137]\tvalid_0's binary_logloss: 0.172524\n",
      "[138]\tvalid_0's binary_logloss: 0.172392\n",
      "[139]\tvalid_0's binary_logloss: 0.172331\n",
      "[140]\tvalid_0's binary_logloss: 0.172253\n",
      "[141]\tvalid_0's binary_logloss: 0.172184\n",
      "[142]\tvalid_0's binary_logloss: 0.172277\n",
      "[143]\tvalid_0's binary_logloss: 0.172179\n",
      "[144]\tvalid_0's binary_logloss: 0.17229\n",
      "[145]\tvalid_0's binary_logloss: 0.172416\n",
      "[146]\tvalid_0's binary_logloss: 0.172408\n",
      "[147]\tvalid_0's binary_logloss: 0.172465\n",
      "[148]\tvalid_0's binary_logloss: 0.172461\n",
      "[149]\tvalid_0's binary_logloss: 0.1725\n",
      "[150]\tvalid_0's binary_logloss: 0.172532\n",
      "[151]\tvalid_0's binary_logloss: 0.172487\n",
      "[152]\tvalid_0's binary_logloss: 0.172521\n",
      "[153]\tvalid_0's binary_logloss: 0.172585\n",
      "[154]\tvalid_0's binary_logloss: 0.172586\n",
      "[155]\tvalid_0's binary_logloss: 0.172475\n",
      "[156]\tvalid_0's binary_logloss: 0.172164\n",
      "[157]\tvalid_0's binary_logloss: 0.171962\n",
      "[158]\tvalid_0's binary_logloss: 0.17193\n",
      "[159]\tvalid_0's binary_logloss: 0.171919\n",
      "[160]\tvalid_0's binary_logloss: 0.171803\n",
      "[161]\tvalid_0's binary_logloss: 0.171776\n",
      "[162]\tvalid_0's binary_logloss: 0.171637\n",
      "[163]\tvalid_0's binary_logloss: 0.171583\n",
      "[164]\tvalid_0's binary_logloss: 0.171494\n",
      "[165]\tvalid_0's binary_logloss: 0.17145\n",
      "[166]\tvalid_0's binary_logloss: 0.171436\n",
      "[167]\tvalid_0's binary_logloss: 0.171366\n",
      "[168]\tvalid_0's binary_logloss: 0.17125\n",
      "[169]\tvalid_0's binary_logloss: 0.171199\n",
      "[170]\tvalid_0's binary_logloss: 0.170988\n",
      "[171]\tvalid_0's binary_logloss: 0.170904\n",
      "[172]\tvalid_0's binary_logloss: 0.171149\n",
      "[173]\tvalid_0's binary_logloss: 0.171105\n",
      "[174]\tvalid_0's binary_logloss: 0.171185\n",
      "[175]\tvalid_0's binary_logloss: 0.171275\n",
      "[176]\tvalid_0's binary_logloss: 0.170987\n",
      "[177]\tvalid_0's binary_logloss: 0.17097\n",
      "[178]\tvalid_0's binary_logloss: 0.171057\n",
      "[179]\tvalid_0's binary_logloss: 0.171135\n",
      "[180]\tvalid_0's binary_logloss: 0.171077\n",
      "[181]\tvalid_0's binary_logloss: 0.171155\n",
      "[182]\tvalid_0's binary_logloss: 0.171268\n",
      "[183]\tvalid_0's binary_logloss: 0.171095\n",
      "[184]\tvalid_0's binary_logloss: 0.171132\n",
      "[185]\tvalid_0's binary_logloss: 0.171086\n",
      "[186]\tvalid_0's binary_logloss: 0.171155\n",
      "[187]\tvalid_0's binary_logloss: 0.171121\n",
      "[188]\tvalid_0's binary_logloss: 0.171037\n",
      "[189]\tvalid_0's binary_logloss: 0.171073\n",
      "[190]\tvalid_0's binary_logloss: 0.170995\n",
      "[191]\tvalid_0's binary_logloss: 0.17116\n",
      "evaluating on the training set...\n",
      "fitting HMM smoother...\n",
      "fitting forward-backward smoother...\n"
     ]
    },
    {
     "name": "stderr",
     "output_type": "stream",
     "text": [
      "/home/roton/miniconda3/envs/mars/lib/python3.7/site-packages/sklearn/utils/validation.py:70: FutureWarning: Pass threshold=0.5 as keyword args. From version 0.25 passing these as positional arguments will result in an error\n",
      "  FutureWarning)\n"
     ]
    },
    {
     "name": "stdout",
     "output_type": "stream",
     "text": [
      "HMM label smoothing training took 0.22 mins\n",
      "performance on training set:\n",
      "P: 0.9515, R: 0.9515, F1: 0.9515    investigation\n",
      "done training!\n",
      "complete training took 7.25 mins\n",
      "loading test data...\n"
     ]
    },
    {
     "name": "stderr",
     "output_type": "stream",
     "text": [
      "Filtering sequence 0/27    0% --  [Elapsed Time: 0:00:00] |  | (ETA:  --:--:--) \r"
     ]
    },
    {
     "name": "stdout",
     "output_type": "stream",
     "text": [
      "sorting features and applying filters...\n"
     ]
    },
    {
     "name": "stderr",
     "output_type": "stream",
     "text": [
      "Filtering sequence 27/27  100% --  [Elapsed Time: 0:05:01] |##| (Time: 0:05:01) \n"
     ]
    },
    {
     "name": "stdout",
     "output_type": "stream",
     "text": [
      "done!\n",
      "\n",
      "loaded test data: 364826 X 3408 - ['investigation'] \n",
      "loading classifiers from /media/storage/ryan/mabe_challenge/behavior/trained_classifiers/mabe_challenge_lgt_es20_wnd/\n",
      "n_classes = 4\n",
      "{'attack': 0, 'investigation': 1, 'mount': 2, 'other': 3}\n",
      "predicting investigation...\n",
      "inference took 59.71 sec\n",
      " \n",
      "Classifier performance:\n"
     ]
    },
    {
     "name": "stderr",
     "output_type": "stream",
     "text": [
      "/home/roton/miniconda3/envs/mars/lib/python3.7/site-packages/sklearn/metrics/_classification.py:1221: UndefinedMetricWarning: Precision and F-score are ill-defined and being set to 0.0 in labels with no predicted samples. Use `zero_division` parameter to control this behavior.\n",
      "  _warn_prf(average, modifier, msg_start, len(result))\n",
      "/home/roton/miniconda3/envs/mars/lib/python3.7/site-packages/sklearn/metrics/_classification.py:1221: UndefinedMetricWarning: Recall and F-score are ill-defined and being set to 0.0 in labels with no true samples. Use `zero_division` parameter to control this behavior.\n",
      "  _warn_prf(average, modifier, msg_start, len(result))\n"
     ]
    },
    {
     "name": "stdout",
     "output_type": "stream",
     "text": [
      "              attack   investigation   other    \n",
      "  Precision:    0.0      0.853      0.0     \n",
      "     Recall:    0.0      0.84       0.0     \n",
      "   F1 Score:    0.0      0.846      0.0     \n",
      "Loop: 12\n",
      "val set size: 47536\n",
      "training set size: 411067.0\n",
      "loading training data...\n"
     ]
    },
    {
     "name": "stderr",
     "output_type": "stream",
     "text": [
      "Filtering sequence 0/57    0% --  [Elapsed Time: 0:00:00] |  | (ETA:  --:--:--) \r"
     ]
    },
    {
     "name": "stdout",
     "output_type": "stream",
     "text": [
      "sorting features and applying filters...\n"
     ]
    },
    {
     "name": "stderr",
     "output_type": "stream",
     "text": [
      "Filtering sequence 57/57  100% --  [Elapsed Time: 0:05:47] |##| (Time: 0:05:47) \n"
     ]
    },
    {
     "name": "stdout",
     "output_type": "stream",
     "text": [
      "done!\n",
      "\n",
      "loading validation data...\n"
     ]
    },
    {
     "name": "stderr",
     "output_type": "stream",
     "text": [
      "Filtering sequence 0/7    0% --  [Elapsed Time: 0:00:00] |   | (ETA:  --:--:--) \r"
     ]
    },
    {
     "name": "stdout",
     "output_type": "stream",
     "text": [
      "sorting features and applying filters...\n"
     ]
    },
    {
     "name": "stderr",
     "output_type": "stream",
     "text": [
      "Filtering sequence 7/7  100% --  [Elapsed Time: 0:00:40] |####| (Time: 0:00:40) \n"
     ]
    },
    {
     "name": "stdout",
     "output_type": "stream",
     "text": [
      "done!\n",
      "\n",
      "loaded training data: 411067 X 3408 - ['investigation'] \n",
      "Training classifier: MABE_CHALLENGE_LGT_ES20_WND/\n",
      "######################### investigation #########################\n",
      "training using 118265 positive frames (1503 bouts)\n",
      "fitting preprocessing parameters...\n",
      "fitting clf for investigation\n",
      "    training set: 118265 positive / 411067 total (28 %)\n",
      "    eval set: 14531 positive / 47536 total (30 %)\n",
      "  + early stopping\n"
     ]
    },
    {
     "name": "stderr",
     "output_type": "stream",
     "text": [
      "/home/roton/miniconda3/envs/mars/lib/python3.7/site-packages/lightgbm/sklearn.py:726: UserWarning: 'early_stopping_rounds' argument is deprecated and will be removed in a future release of LightGBM. Pass 'early_stopping()' callback via 'callbacks' argument instead.\n",
      "  _log_warning(\"'early_stopping_rounds' argument is deprecated and will be removed in a future release of LightGBM. \"\n",
      "/home/roton/miniconda3/envs/mars/lib/python3.7/site-packages/lightgbm/sklearn.py:736: UserWarning: 'verbose' argument is deprecated and will be removed in a future release of LightGBM. Pass 'log_evaluation()' callback via 'callbacks' argument instead.\n",
      "  _log_warning(\"'verbose' argument is deprecated and will be removed in a future release of LightGBM. \"\n"
     ]
    },
    {
     "name": "stdout",
     "output_type": "stream",
     "text": [
      "[1]\tvalid_0's binary_logloss: 0.547445\n",
      "[2]\tvalid_0's binary_logloss: 0.49335\n",
      "[3]\tvalid_0's binary_logloss: 0.451413\n",
      "[4]\tvalid_0's binary_logloss: 0.415684\n",
      "[5]\tvalid_0's binary_logloss: 0.386775\n",
      "[6]\tvalid_0's binary_logloss: 0.360361\n",
      "[7]\tvalid_0's binary_logloss: 0.336909\n",
      "[8]\tvalid_0's binary_logloss: 0.317979\n",
      "[9]\tvalid_0's binary_logloss: 0.30129\n",
      "[10]\tvalid_0's binary_logloss: 0.286954\n",
      "[11]\tvalid_0's binary_logloss: 0.273934\n",
      "[12]\tvalid_0's binary_logloss: 0.26265\n",
      "[13]\tvalid_0's binary_logloss: 0.252921\n",
      "[14]\tvalid_0's binary_logloss: 0.243749\n",
      "[15]\tvalid_0's binary_logloss: 0.23585\n",
      "[16]\tvalid_0's binary_logloss: 0.22891\n",
      "[17]\tvalid_0's binary_logloss: 0.222846\n",
      "[18]\tvalid_0's binary_logloss: 0.21687\n",
      "[19]\tvalid_0's binary_logloss: 0.211468\n",
      "[20]\tvalid_0's binary_logloss: 0.207285\n",
      "[21]\tvalid_0's binary_logloss: 0.203422\n",
      "[22]\tvalid_0's binary_logloss: 0.19915\n",
      "[23]\tvalid_0's binary_logloss: 0.1959\n",
      "[24]\tvalid_0's binary_logloss: 0.193267\n",
      "[25]\tvalid_0's binary_logloss: 0.190438\n",
      "[26]\tvalid_0's binary_logloss: 0.187852\n",
      "[27]\tvalid_0's binary_logloss: 0.185496\n",
      "[28]\tvalid_0's binary_logloss: 0.183075\n",
      "[29]\tvalid_0's binary_logloss: 0.181185\n",
      "[30]\tvalid_0's binary_logloss: 0.179546\n",
      "[31]\tvalid_0's binary_logloss: 0.178052\n",
      "[32]\tvalid_0's binary_logloss: 0.177231\n",
      "[33]\tvalid_0's binary_logloss: 0.176091\n",
      "[34]\tvalid_0's binary_logloss: 0.174889\n",
      "[35]\tvalid_0's binary_logloss: 0.173494\n",
      "[36]\tvalid_0's binary_logloss: 0.17268\n",
      "[37]\tvalid_0's binary_logloss: 0.171691\n",
      "[38]\tvalid_0's binary_logloss: 0.171127\n",
      "[39]\tvalid_0's binary_logloss: 0.170496\n",
      "[40]\tvalid_0's binary_logloss: 0.170068\n",
      "[41]\tvalid_0's binary_logloss: 0.16963\n",
      "[42]\tvalid_0's binary_logloss: 0.168811\n",
      "[43]\tvalid_0's binary_logloss: 0.16809\n",
      "[44]\tvalid_0's binary_logloss: 0.167827\n",
      "[45]\tvalid_0's binary_logloss: 0.167544\n",
      "[46]\tvalid_0's binary_logloss: 0.16687\n",
      "[47]\tvalid_0's binary_logloss: 0.166259\n",
      "[48]\tvalid_0's binary_logloss: 0.166231\n",
      "[49]\tvalid_0's binary_logloss: 0.16621\n",
      "[50]\tvalid_0's binary_logloss: 0.165821\n",
      "[51]\tvalid_0's binary_logloss: 0.165623\n",
      "[52]\tvalid_0's binary_logloss: 0.165463\n",
      "[53]\tvalid_0's binary_logloss: 0.165263\n",
      "[54]\tvalid_0's binary_logloss: 0.165339\n",
      "[55]\tvalid_0's binary_logloss: 0.165175\n",
      "[56]\tvalid_0's binary_logloss: 0.165099\n",
      "[57]\tvalid_0's binary_logloss: 0.16482\n",
      "[58]\tvalid_0's binary_logloss: 0.164807\n",
      "[59]\tvalid_0's binary_logloss: 0.164718\n",
      "[60]\tvalid_0's binary_logloss: 0.164876\n",
      "[61]\tvalid_0's binary_logloss: 0.164643\n",
      "[62]\tvalid_0's binary_logloss: 0.164489\n",
      "[63]\tvalid_0's binary_logloss: 0.164376\n",
      "[64]\tvalid_0's binary_logloss: 0.164153\n",
      "[65]\tvalid_0's binary_logloss: 0.164117\n",
      "[66]\tvalid_0's binary_logloss: 0.163813\n",
      "[67]\tvalid_0's binary_logloss: 0.163875\n",
      "[68]\tvalid_0's binary_logloss: 0.163825\n",
      "[69]\tvalid_0's binary_logloss: 0.163586\n",
      "[70]\tvalid_0's binary_logloss: 0.163336\n",
      "[71]\tvalid_0's binary_logloss: 0.163644\n",
      "[72]\tvalid_0's binary_logloss: 0.163721\n",
      "[73]\tvalid_0's binary_logloss: 0.163595\n",
      "[74]\tvalid_0's binary_logloss: 0.163436\n",
      "[75]\tvalid_0's binary_logloss: 0.163342\n",
      "[76]\tvalid_0's binary_logloss: 0.16335\n",
      "[77]\tvalid_0's binary_logloss: 0.163195\n",
      "[78]\tvalid_0's binary_logloss: 0.163125\n",
      "[79]\tvalid_0's binary_logloss: 0.162981\n",
      "[80]\tvalid_0's binary_logloss: 0.163056\n",
      "[81]\tvalid_0's binary_logloss: 0.162916\n",
      "[82]\tvalid_0's binary_logloss: 0.162945\n",
      "[83]\tvalid_0's binary_logloss: 0.162882\n",
      "[84]\tvalid_0's binary_logloss: 0.16285\n",
      "[85]\tvalid_0's binary_logloss: 0.162762\n",
      "[86]\tvalid_0's binary_logloss: 0.162846\n",
      "[87]\tvalid_0's binary_logloss: 0.162871\n",
      "[88]\tvalid_0's binary_logloss: 0.162721\n",
      "[89]\tvalid_0's binary_logloss: 0.162633\n",
      "[90]\tvalid_0's binary_logloss: 0.162609\n",
      "[91]\tvalid_0's binary_logloss: 0.162438\n",
      "[92]\tvalid_0's binary_logloss: 0.162128\n",
      "[93]\tvalid_0's binary_logloss: 0.162297\n",
      "[94]\tvalid_0's binary_logloss: 0.162486\n",
      "[95]\tvalid_0's binary_logloss: 0.162577\n",
      "[96]\tvalid_0's binary_logloss: 0.162458\n",
      "[97]\tvalid_0's binary_logloss: 0.162845\n",
      "[98]\tvalid_0's binary_logloss: 0.162876\n",
      "[99]\tvalid_0's binary_logloss: 0.162855\n",
      "[100]\tvalid_0's binary_logloss: 0.162819\n",
      "[101]\tvalid_0's binary_logloss: 0.1627\n",
      "[102]\tvalid_0's binary_logloss: 0.162754\n",
      "[103]\tvalid_0's binary_logloss: 0.162627\n",
      "[104]\tvalid_0's binary_logloss: 0.162613\n",
      "[105]\tvalid_0's binary_logloss: 0.162483\n",
      "[106]\tvalid_0's binary_logloss: 0.162327\n",
      "[107]\tvalid_0's binary_logloss: 0.162346\n",
      "[108]\tvalid_0's binary_logloss: 0.16232\n",
      "[109]\tvalid_0's binary_logloss: 0.162359\n",
      "[110]\tvalid_0's binary_logloss: 0.162574\n",
      "[111]\tvalid_0's binary_logloss: 0.162551\n",
      "[112]\tvalid_0's binary_logloss: 0.162237\n",
      "evaluating on the training set...\n",
      "fitting HMM smoother...\n",
      "fitting forward-backward smoother...\n"
     ]
    },
    {
     "name": "stderr",
     "output_type": "stream",
     "text": [
      "/home/roton/miniconda3/envs/mars/lib/python3.7/site-packages/sklearn/utils/validation.py:70: FutureWarning: Pass threshold=0.5 as keyword args. From version 0.25 passing these as positional arguments will result in an error\n",
      "  FutureWarning)\n"
     ]
    },
    {
     "name": "stdout",
     "output_type": "stream",
     "text": [
      "HMM label smoothing training took 0.26 mins\n",
      "performance on training set:\n",
      "P: 0.9136, R: 0.9181, F1: 0.9159    investigation\n",
      "done training!\n",
      "complete training took 8.09 mins\n",
      "loading test data...\n"
     ]
    },
    {
     "name": "stderr",
     "output_type": "stream",
     "text": [
      "Filtering sequence 0/27    0% --  [Elapsed Time: 0:00:00] |  | (ETA:  --:--:--) \r"
     ]
    },
    {
     "name": "stdout",
     "output_type": "stream",
     "text": [
      "sorting features and applying filters...\n"
     ]
    },
    {
     "name": "stderr",
     "output_type": "stream",
     "text": [
      "Filtering sequence 27/27  100% --  [Elapsed Time: 0:05:04] |##| (Time: 0:05:04) \n"
     ]
    },
    {
     "name": "stdout",
     "output_type": "stream",
     "text": [
      "done!\n",
      "\n",
      "loaded test data: 364826 X 3408 - ['investigation'] \n",
      "loading classifiers from /media/storage/ryan/mabe_challenge/behavior/trained_classifiers/mabe_challenge_lgt_es20_wnd/\n",
      "n_classes = 4\n",
      "{'attack': 0, 'investigation': 1, 'mount': 2, 'other': 3}\n",
      "predicting investigation...\n",
      "inference took 61.60 sec\n",
      " \n",
      "Classifier performance:\n"
     ]
    },
    {
     "name": "stderr",
     "output_type": "stream",
     "text": [
      "/home/roton/miniconda3/envs/mars/lib/python3.7/site-packages/sklearn/metrics/_classification.py:1221: UndefinedMetricWarning: Precision and F-score are ill-defined and being set to 0.0 in labels with no predicted samples. Use `zero_division` parameter to control this behavior.\n",
      "  _warn_prf(average, modifier, msg_start, len(result))\n",
      "/home/roton/miniconda3/envs/mars/lib/python3.7/site-packages/sklearn/metrics/_classification.py:1221: UndefinedMetricWarning: Recall and F-score are ill-defined and being set to 0.0 in labels with no true samples. Use `zero_division` parameter to control this behavior.\n",
      "  _warn_prf(average, modifier, msg_start, len(result))\n"
     ]
    },
    {
     "name": "stdout",
     "output_type": "stream",
     "text": [
      "              attack   investigation   other    \n",
      "  Precision:    0.0      0.853      0.0     \n",
      "     Recall:    0.0      0.839      0.0     \n",
      "   F1 Score:    0.0      0.846      0.0     \n",
      "Loop: 13\n",
      "val set size: 65008\n",
      "training set size: 442730.0\n",
      "loading training data...\n"
     ]
    },
    {
     "name": "stderr",
     "output_type": "stream",
     "text": [
      "Filtering sequence 0/62    0% --  [Elapsed Time: 0:00:00] |  | (ETA:  --:--:--) \r"
     ]
    },
    {
     "name": "stdout",
     "output_type": "stream",
     "text": [
      "sorting features and applying filters...\n"
     ]
    },
    {
     "name": "stderr",
     "output_type": "stream",
     "text": [
      "Filtering sequence 62/62  100% --  [Elapsed Time: 0:06:11] |##| (Time: 0:06:11) \n"
     ]
    },
    {
     "name": "stdout",
     "output_type": "stream",
     "text": [
      "done!\n",
      "\n",
      "loading validation data...\n"
     ]
    },
    {
     "name": "stderr",
     "output_type": "stream",
     "text": [
      "Filtering sequence 0/8    0% --  [Elapsed Time: 0:00:00] |   | (ETA:  --:--:--) \r"
     ]
    },
    {
     "name": "stdout",
     "output_type": "stream",
     "text": [
      "sorting features and applying filters...\n"
     ]
    },
    {
     "name": "stderr",
     "output_type": "stream",
     "text": [
      "Filtering sequence 8/8  100% --  [Elapsed Time: 0:00:53] |####| (Time: 0:00:53) \n"
     ]
    },
    {
     "name": "stdout",
     "output_type": "stream",
     "text": [
      "done!\n",
      "\n",
      "loaded training data: 442730 X 3408 - ['investigation'] \n",
      "Training classifier: MABE_CHALLENGE_LGT_ES20_WND/\n",
      "######################### investigation #########################\n",
      "training using 128952 positive frames (1625 bouts)\n",
      "fitting preprocessing parameters...\n",
      "fitting clf for investigation\n",
      "    training set: 128952 positive / 442730 total (29 %)\n",
      "    eval set: 17671 positive / 65008 total (27 %)\n",
      "  + early stopping\n"
     ]
    },
    {
     "name": "stderr",
     "output_type": "stream",
     "text": [
      "/home/roton/miniconda3/envs/mars/lib/python3.7/site-packages/lightgbm/sklearn.py:726: UserWarning: 'early_stopping_rounds' argument is deprecated and will be removed in a future release of LightGBM. Pass 'early_stopping()' callback via 'callbacks' argument instead.\n",
      "  _log_warning(\"'early_stopping_rounds' argument is deprecated and will be removed in a future release of LightGBM. \"\n",
      "/home/roton/miniconda3/envs/mars/lib/python3.7/site-packages/lightgbm/sklearn.py:736: UserWarning: 'verbose' argument is deprecated and will be removed in a future release of LightGBM. Pass 'log_evaluation()' callback via 'callbacks' argument instead.\n",
      "  _log_warning(\"'verbose' argument is deprecated and will be removed in a future release of LightGBM. \"\n"
     ]
    },
    {
     "name": "stdout",
     "output_type": "stream",
     "text": [
      "[1]\tvalid_0's binary_logloss: 0.521719\n",
      "[2]\tvalid_0's binary_logloss: 0.471752\n",
      "[3]\tvalid_0's binary_logloss: 0.430348\n",
      "[4]\tvalid_0's binary_logloss: 0.395958\n",
      "[5]\tvalid_0's binary_logloss: 0.367395\n",
      "[6]\tvalid_0's binary_logloss: 0.343204\n",
      "[7]\tvalid_0's binary_logloss: 0.321292\n",
      "[8]\tvalid_0's binary_logloss: 0.30269\n",
      "[9]\tvalid_0's binary_logloss: 0.286326\n",
      "[10]\tvalid_0's binary_logloss: 0.272166\n",
      "[11]\tvalid_0's binary_logloss: 0.259577\n",
      "[12]\tvalid_0's binary_logloss: 0.247574\n",
      "[13]\tvalid_0's binary_logloss: 0.23779\n",
      "[14]\tvalid_0's binary_logloss: 0.229175\n",
      "[15]\tvalid_0's binary_logloss: 0.221231\n",
      "[16]\tvalid_0's binary_logloss: 0.214137\n",
      "[17]\tvalid_0's binary_logloss: 0.208284\n",
      "[18]\tvalid_0's binary_logloss: 0.202632\n",
      "[19]\tvalid_0's binary_logloss: 0.197759\n",
      "[20]\tvalid_0's binary_logloss: 0.193473\n",
      "[21]\tvalid_0's binary_logloss: 0.189335\n",
      "[22]\tvalid_0's binary_logloss: 0.18581\n",
      "[23]\tvalid_0's binary_logloss: 0.182376\n",
      "[24]\tvalid_0's binary_logloss: 0.179514\n",
      "[25]\tvalid_0's binary_logloss: 0.176812\n",
      "[26]\tvalid_0's binary_logloss: 0.174336\n",
      "[27]\tvalid_0's binary_logloss: 0.171924\n",
      "[28]\tvalid_0's binary_logloss: 0.169689\n",
      "[29]\tvalid_0's binary_logloss: 0.167816\n",
      "[30]\tvalid_0's binary_logloss: 0.165928\n",
      "[31]\tvalid_0's binary_logloss: 0.164455\n",
      "[32]\tvalid_0's binary_logloss: 0.162884\n",
      "[33]\tvalid_0's binary_logloss: 0.161711\n",
      "[34]\tvalid_0's binary_logloss: 0.160422\n",
      "[35]\tvalid_0's binary_logloss: 0.159483\n",
      "[36]\tvalid_0's binary_logloss: 0.158809\n",
      "[37]\tvalid_0's binary_logloss: 0.158317\n",
      "[38]\tvalid_0's binary_logloss: 0.157668\n",
      "[39]\tvalid_0's binary_logloss: 0.156868\n",
      "[40]\tvalid_0's binary_logloss: 0.15593\n",
      "[41]\tvalid_0's binary_logloss: 0.155336\n",
      "[42]\tvalid_0's binary_logloss: 0.155476\n",
      "[43]\tvalid_0's binary_logloss: 0.154886\n",
      "[44]\tvalid_0's binary_logloss: 0.155247\n",
      "[45]\tvalid_0's binary_logloss: 0.154783\n",
      "[46]\tvalid_0's binary_logloss: 0.154191\n",
      "[47]\tvalid_0's binary_logloss: 0.153449\n",
      "[48]\tvalid_0's binary_logloss: 0.152722\n",
      "[49]\tvalid_0's binary_logloss: 0.1523\n",
      "[50]\tvalid_0's binary_logloss: 0.15204\n",
      "[51]\tvalid_0's binary_logloss: 0.151652\n",
      "[52]\tvalid_0's binary_logloss: 0.151354\n",
      "[53]\tvalid_0's binary_logloss: 0.150954\n",
      "[54]\tvalid_0's binary_logloss: 0.150479\n",
      "[55]\tvalid_0's binary_logloss: 0.150279\n",
      "[56]\tvalid_0's binary_logloss: 0.15006\n",
      "[57]\tvalid_0's binary_logloss: 0.149963\n",
      "[58]\tvalid_0's binary_logloss: 0.149624\n",
      "[59]\tvalid_0's binary_logloss: 0.150088\n",
      "[60]\tvalid_0's binary_logloss: 0.14986\n",
      "[61]\tvalid_0's binary_logloss: 0.149915\n",
      "[62]\tvalid_0's binary_logloss: 0.149578\n",
      "[63]\tvalid_0's binary_logloss: 0.149253\n",
      "[64]\tvalid_0's binary_logloss: 0.149006\n",
      "[65]\tvalid_0's binary_logloss: 0.14893\n",
      "[66]\tvalid_0's binary_logloss: 0.14889\n",
      "[67]\tvalid_0's binary_logloss: 0.148572\n",
      "[68]\tvalid_0's binary_logloss: 0.148322\n",
      "[69]\tvalid_0's binary_logloss: 0.148177\n",
      "[70]\tvalid_0's binary_logloss: 0.147843\n",
      "[71]\tvalid_0's binary_logloss: 0.147735\n",
      "[72]\tvalid_0's binary_logloss: 0.147405\n",
      "[73]\tvalid_0's binary_logloss: 0.147302\n",
      "[74]\tvalid_0's binary_logloss: 0.147264\n",
      "[75]\tvalid_0's binary_logloss: 0.147091\n",
      "[76]\tvalid_0's binary_logloss: 0.146652\n",
      "[77]\tvalid_0's binary_logloss: 0.146478\n",
      "[78]\tvalid_0's binary_logloss: 0.146174\n",
      "[79]\tvalid_0's binary_logloss: 0.145961\n",
      "[80]\tvalid_0's binary_logloss: 0.145693\n",
      "[81]\tvalid_0's binary_logloss: 0.145608\n",
      "[82]\tvalid_0's binary_logloss: 0.14565\n",
      "[83]\tvalid_0's binary_logloss: 0.145481\n",
      "[84]\tvalid_0's binary_logloss: 0.145363\n",
      "[85]\tvalid_0's binary_logloss: 0.145084\n",
      "[86]\tvalid_0's binary_logloss: 0.144933\n",
      "[87]\tvalid_0's binary_logloss: 0.144805\n",
      "[88]\tvalid_0's binary_logloss: 0.144744\n",
      "[89]\tvalid_0's binary_logloss: 0.144576\n",
      "[90]\tvalid_0's binary_logloss: 0.144567\n",
      "[91]\tvalid_0's binary_logloss: 0.150301\n",
      "[92]\tvalid_0's binary_logloss: 0.150235\n",
      "[93]\tvalid_0's binary_logloss: 0.14995\n",
      "[94]\tvalid_0's binary_logloss: 0.149992\n",
      "[95]\tvalid_0's binary_logloss: 0.149838\n",
      "[96]\tvalid_0's binary_logloss: 0.150125\n",
      "[97]\tvalid_0's binary_logloss: 0.150151\n",
      "[98]\tvalid_0's binary_logloss: 0.150073\n",
      "[99]\tvalid_0's binary_logloss: 0.149909\n",
      "[100]\tvalid_0's binary_logloss: 0.14977\n",
      "[101]\tvalid_0's binary_logloss: 0.149756\n",
      "[102]\tvalid_0's binary_logloss: 0.14956\n",
      "[103]\tvalid_0's binary_logloss: 0.149517\n",
      "[104]\tvalid_0's binary_logloss: 0.1494\n",
      "[105]\tvalid_0's binary_logloss: 0.149418\n",
      "[106]\tvalid_0's binary_logloss: 0.149419\n",
      "[107]\tvalid_0's binary_logloss: 0.149392\n",
      "[108]\tvalid_0's binary_logloss: 0.149317\n",
      "[109]\tvalid_0's binary_logloss: 0.149389\n",
      "[110]\tvalid_0's binary_logloss: 0.149296\n",
      "evaluating on the training set...\n",
      "fitting HMM smoother...\n",
      "fitting forward-backward smoother...\n"
     ]
    },
    {
     "name": "stderr",
     "output_type": "stream",
     "text": [
      "/home/roton/miniconda3/envs/mars/lib/python3.7/site-packages/sklearn/utils/validation.py:70: FutureWarning: Pass threshold=0.5 as keyword args. From version 0.25 passing these as positional arguments will result in an error\n",
      "  FutureWarning)\n"
     ]
    },
    {
     "name": "stdout",
     "output_type": "stream",
     "text": [
      "HMM label smoothing training took 0.23 mins\n",
      "performance on training set:\n",
      "P: 0.9066, R: 0.9137, F1: 0.9102    investigation\n",
      "done training!\n",
      "complete training took 8.24 mins\n",
      "loading test data...\n"
     ]
    },
    {
     "name": "stderr",
     "output_type": "stream",
     "text": [
      "Filtering sequence 0/27    0% --  [Elapsed Time: 0:00:00] |  | (ETA:  --:--:--) \r"
     ]
    },
    {
     "name": "stdout",
     "output_type": "stream",
     "text": [
      "sorting features and applying filters...\n"
     ]
    },
    {
     "name": "stderr",
     "output_type": "stream",
     "text": [
      "Filtering sequence 27/27  100% --  [Elapsed Time: 0:05:12] |##| (Time: 0:05:12) \n"
     ]
    },
    {
     "name": "stdout",
     "output_type": "stream",
     "text": [
      "done!\n",
      "\n",
      "loaded test data: 364826 X 3408 - ['investigation'] \n",
      "loading classifiers from /media/storage/ryan/mabe_challenge/behavior/trained_classifiers/mabe_challenge_lgt_es20_wnd/\n",
      "n_classes = 4\n",
      "{'attack': 0, 'investigation': 1, 'mount': 2, 'other': 3}\n",
      "predicting investigation...\n",
      "inference took 58.03 sec\n",
      " \n",
      "Classifier performance:\n",
      "              attack   investigation   other    \n",
      "  Precision:    0.0      0.853      0.0     \n",
      "     Recall:    0.0      0.833      0.0     \n",
      "   F1 Score:    0.0      0.843      0.0     \n"
     ]
    },
    {
     "name": "stderr",
     "output_type": "stream",
     "text": [
      "/home/roton/miniconda3/envs/mars/lib/python3.7/site-packages/sklearn/metrics/_classification.py:1221: UndefinedMetricWarning: Precision and F-score are ill-defined and being set to 0.0 in labels with no predicted samples. Use `zero_division` parameter to control this behavior.\n",
      "  _warn_prf(average, modifier, msg_start, len(result))\n",
      "/home/roton/miniconda3/envs/mars/lib/python3.7/site-packages/sklearn/metrics/_classification.py:1221: UndefinedMetricWarning: Recall and F-score are ill-defined and being set to 0.0 in labels with no true samples. Use `zero_division` parameter to control this behavior.\n",
      "  _warn_prf(average, modifier, msg_start, len(result))\n"
     ]
    },
    {
     "name": "stdout",
     "output_type": "stream",
     "text": [
      "Shuffle: 3\n",
      "Loop: 0\n",
      "val set size: 7190\n",
      "training set size: 9792.0\n",
      "loading training data...\n"
     ]
    },
    {
     "name": "stderr",
     "output_type": "stream",
     "text": [
      "Filtering sequence 0/1    0% --  [Elapsed Time: 0:00:00] |   | (ETA:  --:--:--) \r"
     ]
    },
    {
     "name": "stdout",
     "output_type": "stream",
     "text": [
      "sorting features and applying filters...\n"
     ]
    },
    {
     "name": "stderr",
     "output_type": "stream",
     "text": [
      "Filtering sequence 1/1  100% --  [Elapsed Time: 0:00:07] |####| (Time: 0:00:07) \n",
      "Filtering sequence 0/1    0% --  [Elapsed Time: 0:00:00] |   | (ETA:  --:--:--) \r"
     ]
    },
    {
     "name": "stdout",
     "output_type": "stream",
     "text": [
      "done!\n",
      "\n",
      "loading validation data...\n",
      "sorting features and applying filters...\n"
     ]
    },
    {
     "name": "stderr",
     "output_type": "stream",
     "text": [
      "Filtering sequence 1/1  100% --  [Elapsed Time: 0:00:06] |####| (Time: 0:00:06) \n"
     ]
    },
    {
     "name": "stdout",
     "output_type": "stream",
     "text": [
      "done!\n",
      "\n",
      "loaded training data: 9792 X 3408 - ['investigation'] \n",
      "Training classifier: MABE_CHALLENGE_LGT_ES20_WND/\n",
      "######################### investigation #########################\n",
      "training using 4178 positive frames (16 bouts)\n",
      "fitting preprocessing parameters...\n",
      "fitting clf for investigation\n",
      "    training set: 4178 positive / 9792 total (42 %)\n",
      "    eval set: 1486 positive / 7190 total (20 %)\n",
      "  + early stopping\n"
     ]
    },
    {
     "name": "stderr",
     "output_type": "stream",
     "text": [
      "/home/roton/miniconda3/envs/mars/lib/python3.7/site-packages/lightgbm/sklearn.py:726: UserWarning: 'early_stopping_rounds' argument is deprecated and will be removed in a future release of LightGBM. Pass 'early_stopping()' callback via 'callbacks' argument instead.\n",
      "  _log_warning(\"'early_stopping_rounds' argument is deprecated and will be removed in a future release of LightGBM. \"\n",
      "/home/roton/miniconda3/envs/mars/lib/python3.7/site-packages/lightgbm/sklearn.py:736: UserWarning: 'verbose' argument is deprecated and will be removed in a future release of LightGBM. Pass 'log_evaluation()' callback via 'callbacks' argument instead.\n",
      "  _log_warning(\"'verbose' argument is deprecated and will be removed in a future release of LightGBM. \"\n"
     ]
    },
    {
     "name": "stdout",
     "output_type": "stream",
     "text": [
      "[1]\tvalid_0's binary_logloss: 0.621908\n",
      "[2]\tvalid_0's binary_logloss: 0.62695\n",
      "[3]\tvalid_0's binary_logloss: 0.59811\n",
      "[4]\tvalid_0's binary_logloss: 0.59979\n",
      "[5]\tvalid_0's binary_logloss: 0.60106\n",
      "[6]\tvalid_0's binary_logloss: 0.585766\n",
      "[7]\tvalid_0's binary_logloss: 0.572123\n",
      "[8]\tvalid_0's binary_logloss: 0.559676\n",
      "[9]\tvalid_0's binary_logloss: 0.550134\n",
      "[10]\tvalid_0's binary_logloss: 0.544487\n",
      "[11]\tvalid_0's binary_logloss: 0.544602\n",
      "[12]\tvalid_0's binary_logloss: 0.542988\n",
      "[13]\tvalid_0's binary_logloss: 0.557821\n",
      "[14]\tvalid_0's binary_logloss: 0.555262\n",
      "[15]\tvalid_0's binary_logloss: 0.558648\n",
      "[16]\tvalid_0's binary_logloss: 0.562956\n",
      "[17]\tvalid_0's binary_logloss: 0.558874\n",
      "[18]\tvalid_0's binary_logloss: 0.560221\n",
      "[19]\tvalid_0's binary_logloss: 0.559768\n",
      "[20]\tvalid_0's binary_logloss: 0.561616\n",
      "[21]\tvalid_0's binary_logloss: 0.562004\n",
      "[22]\tvalid_0's binary_logloss: 0.562584\n",
      "[23]\tvalid_0's binary_logloss: 0.562217\n",
      "[24]\tvalid_0's binary_logloss: 0.565061\n",
      "[25]\tvalid_0's binary_logloss: 0.562657\n",
      "[26]\tvalid_0's binary_logloss: 0.567929\n",
      "[27]\tvalid_0's binary_logloss: 0.567679\n",
      "[28]\tvalid_0's binary_logloss: 0.56881\n",
      "[29]\tvalid_0's binary_logloss: 0.568248\n",
      "[30]\tvalid_0's binary_logloss: 0.564062\n",
      "[31]\tvalid_0's binary_logloss: 0.566555\n",
      "[32]\tvalid_0's binary_logloss: 0.571429\n",
      "evaluating on the training set...\n",
      "fitting HMM smoother...\n",
      "fitting forward-backward smoother...\n",
      "HMM label smoothing training took 0.01 mins\n",
      "performance on training set:\n",
      "P: 0.9988, R: 0.9976, F1: 0.9982    investigation\n"
     ]
    },
    {
     "name": "stderr",
     "output_type": "stream",
     "text": [
      "/home/roton/miniconda3/envs/mars/lib/python3.7/site-packages/sklearn/utils/validation.py:70: FutureWarning: Pass threshold=0.5 as keyword args. From version 0.25 passing these as positional arguments will result in an error\n",
      "  FutureWarning)\n"
     ]
    },
    {
     "name": "stdout",
     "output_type": "stream",
     "text": [
      "done training!\n",
      "complete training took 1.01 mins\n",
      "loading test data...\n"
     ]
    },
    {
     "name": "stderr",
     "output_type": "stream",
     "text": [
      "Filtering sequence 0/27    0% --  [Elapsed Time: 0:00:00] |  | (ETA:  --:--:--) \r"
     ]
    },
    {
     "name": "stdout",
     "output_type": "stream",
     "text": [
      "sorting features and applying filters...\n"
     ]
    },
    {
     "name": "stderr",
     "output_type": "stream",
     "text": [
      "Filtering sequence 27/27  100% --  [Elapsed Time: 0:04:59] |##| (Time: 0:04:59) \n"
     ]
    },
    {
     "name": "stdout",
     "output_type": "stream",
     "text": [
      "done!\n",
      "\n",
      "loaded test data: 364826 X 3408 - ['investigation'] \n",
      "loading classifiers from /media/storage/ryan/mabe_challenge/behavior/trained_classifiers/mabe_challenge_lgt_es20_wnd/\n",
      "n_classes = 4\n",
      "{'attack': 0, 'investigation': 1, 'mount': 2, 'other': 3}\n",
      "predicting investigation...\n",
      "inference took 60.28 sec\n",
      " \n",
      "Classifier performance:\n"
     ]
    },
    {
     "name": "stderr",
     "output_type": "stream",
     "text": [
      "/home/roton/miniconda3/envs/mars/lib/python3.7/site-packages/sklearn/metrics/_classification.py:1221: UndefinedMetricWarning: Precision and F-score are ill-defined and being set to 0.0 in labels with no predicted samples. Use `zero_division` parameter to control this behavior.\n",
      "  _warn_prf(average, modifier, msg_start, len(result))\n",
      "/home/roton/miniconda3/envs/mars/lib/python3.7/site-packages/sklearn/metrics/_classification.py:1221: UndefinedMetricWarning: Recall and F-score are ill-defined and being set to 0.0 in labels with no true samples. Use `zero_division` parameter to control this behavior.\n",
      "  _warn_prf(average, modifier, msg_start, len(result))\n"
     ]
    },
    {
     "name": "stdout",
     "output_type": "stream",
     "text": [
      "              attack   investigation   other    \n",
      "  Precision:    0.0      0.233      0.0     \n",
      "     Recall:    0.0      0.092      0.0     \n",
      "   F1 Score:    0.0      0.132      0.0     \n",
      "Loop: 1\n",
      "val set size: 9792\n",
      "training set size: 3710.0\n",
      "loading training data...\n"
     ]
    },
    {
     "name": "stderr",
     "output_type": "stream",
     "text": [
      "Filtering sequence 0/2    0% --  [Elapsed Time: 0:00:00] |   | (ETA:  --:--:--) \r"
     ]
    },
    {
     "name": "stdout",
     "output_type": "stream",
     "text": [
      "sorting features and applying filters...\n"
     ]
    },
    {
     "name": "stderr",
     "output_type": "stream",
     "text": [
      "Filtering sequence 2/2  100% --  [Elapsed Time: 0:00:03] |####| (Time: 0:00:03) \n"
     ]
    },
    {
     "name": "stdout",
     "output_type": "stream",
     "text": [
      "done!\n",
      "\n",
      "loading validation data...\n"
     ]
    },
    {
     "name": "stderr",
     "output_type": "stream",
     "text": [
      "Filtering sequence 0/1    0% --  [Elapsed Time: 0:00:00] |   | (ETA:  --:--:--) \r"
     ]
    },
    {
     "name": "stdout",
     "output_type": "stream",
     "text": [
      "sorting features and applying filters...\n"
     ]
    },
    {
     "name": "stderr",
     "output_type": "stream",
     "text": [
      "Filtering sequence 1/1  100% --  [Elapsed Time: 0:00:08] |####| (Time: 0:00:08) \n"
     ]
    },
    {
     "name": "stdout",
     "output_type": "stream",
     "text": [
      "done!\n",
      "\n",
      "loaded training data: 3710 X 3408 - ['investigation'] \n",
      "Training classifier: MABE_CHALLENGE_LGT_ES20_WND/\n",
      "######################### investigation #########################\n",
      "training using 440 positive frames (16 bouts)\n",
      "fitting preprocessing parameters...\n",
      "fitting clf for investigation\n",
      "    training set: 440 positive / 3710 total (11 %)\n",
      "    eval set: 4178 positive / 9792 total (42 %)\n",
      "  + early stopping\n"
     ]
    },
    {
     "name": "stderr",
     "output_type": "stream",
     "text": [
      "/home/roton/miniconda3/envs/mars/lib/python3.7/site-packages/lightgbm/sklearn.py:726: UserWarning: 'early_stopping_rounds' argument is deprecated and will be removed in a future release of LightGBM. Pass 'early_stopping()' callback via 'callbacks' argument instead.\n",
      "  _log_warning(\"'early_stopping_rounds' argument is deprecated and will be removed in a future release of LightGBM. \"\n",
      "/home/roton/miniconda3/envs/mars/lib/python3.7/site-packages/lightgbm/sklearn.py:736: UserWarning: 'verbose' argument is deprecated and will be removed in a future release of LightGBM. Pass 'log_evaluation()' callback via 'callbacks' argument instead.\n",
      "  _log_warning(\"'verbose' argument is deprecated and will be removed in a future release of LightGBM. \"\n"
     ]
    },
    {
     "name": "stdout",
     "output_type": "stream",
     "text": [
      "[1]\tvalid_0's binary_logloss: 0.969268\n",
      "[2]\tvalid_0's binary_logloss: 0.924933\n",
      "[3]\tvalid_0's binary_logloss: 0.914415\n",
      "[4]\tvalid_0's binary_logloss: 0.898717\n",
      "[5]\tvalid_0's binary_logloss: 0.902506\n",
      "[6]\tvalid_0's binary_logloss: 0.898684\n",
      "[7]\tvalid_0's binary_logloss: 0.905419\n",
      "[8]\tvalid_0's binary_logloss: 0.904881\n",
      "[9]\tvalid_0's binary_logloss: 0.922089\n",
      "[10]\tvalid_0's binary_logloss: 0.924953\n",
      "[11]\tvalid_0's binary_logloss: 0.931999\n",
      "[12]\tvalid_0's binary_logloss: 0.947805\n",
      "[13]\tvalid_0's binary_logloss: 0.963505\n",
      "[14]\tvalid_0's binary_logloss: 0.95939\n",
      "[15]\tvalid_0's binary_logloss: 0.948999\n",
      "[16]\tvalid_0's binary_logloss: 0.952255\n",
      "[17]\tvalid_0's binary_logloss: 0.949559\n",
      "[18]\tvalid_0's binary_logloss: 0.9543\n",
      "[19]\tvalid_0's binary_logloss: 0.960169\n",
      "[20]\tvalid_0's binary_logloss: 0.954605\n",
      "[21]\tvalid_0's binary_logloss: 0.957744\n",
      "[22]\tvalid_0's binary_logloss: 0.966984\n",
      "[23]\tvalid_0's binary_logloss: 0.9667\n",
      "[24]\tvalid_0's binary_logloss: 0.9754\n",
      "[25]\tvalid_0's binary_logloss: 0.984739\n",
      "[26]\tvalid_0's binary_logloss: 0.981542\n",
      "evaluating on the training set...\n",
      "fitting HMM smoother...\n",
      "fitting forward-backward smoother...\n",
      "HMM label smoothing training took 0.00 mins\n",
      "performance on training set:\n",
      "P: 1.0000, R: 0.7886, F1: 0.8818    investigation\n"
     ]
    },
    {
     "name": "stderr",
     "output_type": "stream",
     "text": [
      "/home/roton/miniconda3/envs/mars/lib/python3.7/site-packages/sklearn/utils/validation.py:70: FutureWarning: Pass threshold=0.5 as keyword args. From version 0.25 passing these as positional arguments will result in an error\n",
      "  FutureWarning)\n"
     ]
    },
    {
     "name": "stdout",
     "output_type": "stream",
     "text": [
      "done training!\n",
      "complete training took 0.84 mins\n",
      "loading test data...\n"
     ]
    },
    {
     "name": "stderr",
     "output_type": "stream",
     "text": [
      "Filtering sequence 0/27    0% --  [Elapsed Time: 0:00:00] |  | (ETA:  --:--:--) \r"
     ]
    },
    {
     "name": "stdout",
     "output_type": "stream",
     "text": [
      "sorting features and applying filters...\n"
     ]
    },
    {
     "name": "stderr",
     "output_type": "stream",
     "text": [
      "Filtering sequence 27/27  100% --  [Elapsed Time: 0:05:00] |##| (Time: 0:05:00) \n"
     ]
    },
    {
     "name": "stdout",
     "output_type": "stream",
     "text": [
      "done!\n",
      "\n",
      "loaded test data: 364826 X 3408 - ['investigation'] \n",
      "loading classifiers from /media/storage/ryan/mabe_challenge/behavior/trained_classifiers/mabe_challenge_lgt_es20_wnd/\n",
      "n_classes = 4\n",
      "{'attack': 0, 'investigation': 1, 'mount': 2, 'other': 3}\n",
      "predicting investigation...\n",
      "inference took 59.50 sec\n",
      " \n",
      "Classifier performance:\n"
     ]
    },
    {
     "name": "stderr",
     "output_type": "stream",
     "text": [
      "/home/roton/miniconda3/envs/mars/lib/python3.7/site-packages/sklearn/metrics/_classification.py:1221: UndefinedMetricWarning: Precision and F-score are ill-defined and being set to 0.0 in labels with no predicted samples. Use `zero_division` parameter to control this behavior.\n",
      "  _warn_prf(average, modifier, msg_start, len(result))\n",
      "/home/roton/miniconda3/envs/mars/lib/python3.7/site-packages/sklearn/metrics/_classification.py:1221: UndefinedMetricWarning: Recall and F-score are ill-defined and being set to 0.0 in labels with no true samples. Use `zero_division` parameter to control this behavior.\n",
      "  _warn_prf(average, modifier, msg_start, len(result))\n"
     ]
    },
    {
     "name": "stdout",
     "output_type": "stream",
     "text": [
      "              attack   investigation   other    \n",
      "  Precision:    0.0      0.629      0.0     \n",
      "     Recall:    0.0      0.011      0.0     \n",
      "   F1 Score:    0.0      0.022      0.0     \n",
      "Loop: 2\n",
      "val set size: 9792\n",
      "training set size: 23242.0\n",
      "loading training data...\n"
     ]
    },
    {
     "name": "stderr",
     "output_type": "stream",
     "text": [
      "Filtering sequence 0/5    0% --  [Elapsed Time: 0:00:00] |   | (ETA:  --:--:--) \r"
     ]
    },
    {
     "name": "stdout",
     "output_type": "stream",
     "text": [
      "sorting features and applying filters...\n"
     ]
    },
    {
     "name": "stderr",
     "output_type": "stream",
     "text": [
      "Filtering sequence 5/5  100% --  [Elapsed Time: 0:00:20] |####| (Time: 0:00:20) \n"
     ]
    },
    {
     "name": "stdout",
     "output_type": "stream",
     "text": [
      "done!\n",
      "\n",
      "loading validation data...\n",
      "sorting features and applying filters...\n"
     ]
    },
    {
     "name": "stderr",
     "output_type": "stream",
     "text": [
      "Filtering sequence 1/1  100% --  [Elapsed Time: 0:00:08] |####| (Time: 0:00:08) \n"
     ]
    },
    {
     "name": "stdout",
     "output_type": "stream",
     "text": [
      "done!\n",
      "\n",
      "loaded training data: 23242 X 3408 - ['investigation'] \n",
      "Training classifier: MABE_CHALLENGE_LGT_ES20_WND/\n",
      "######################### investigation #########################\n",
      "training using 4225 positive frames (95 bouts)\n",
      "fitting preprocessing parameters...\n",
      "fitting clf for investigation\n",
      "    training set: 4225 positive / 23242 total (18 %)\n",
      "    eval set: 4178 positive / 9792 total (42 %)\n",
      "  + early stopping\n"
     ]
    },
    {
     "name": "stderr",
     "output_type": "stream",
     "text": [
      "/home/roton/miniconda3/envs/mars/lib/python3.7/site-packages/lightgbm/sklearn.py:726: UserWarning: 'early_stopping_rounds' argument is deprecated and will be removed in a future release of LightGBM. Pass 'early_stopping()' callback via 'callbacks' argument instead.\n",
      "  _log_warning(\"'early_stopping_rounds' argument is deprecated and will be removed in a future release of LightGBM. \"\n",
      "/home/roton/miniconda3/envs/mars/lib/python3.7/site-packages/lightgbm/sklearn.py:736: UserWarning: 'verbose' argument is deprecated and will be removed in a future release of LightGBM. Pass 'log_evaluation()' callback via 'callbacks' argument instead.\n",
      "  _log_warning(\"'verbose' argument is deprecated and will be removed in a future release of LightGBM. \"\n"
     ]
    },
    {
     "name": "stdout",
     "output_type": "stream",
     "text": [
      "[1]\tvalid_0's binary_logloss: 0.748773\n",
      "[2]\tvalid_0's binary_logloss: 0.697724\n",
      "[3]\tvalid_0's binary_logloss: 0.677383\n",
      "[4]\tvalid_0's binary_logloss: 0.64227\n",
      "[5]\tvalid_0's binary_logloss: 0.627599\n",
      "[6]\tvalid_0's binary_logloss: 0.605585\n",
      "[7]\tvalid_0's binary_logloss: 0.59629\n",
      "[8]\tvalid_0's binary_logloss: 0.580201\n",
      "[9]\tvalid_0's binary_logloss: 0.560359\n",
      "[10]\tvalid_0's binary_logloss: 0.547209\n",
      "[11]\tvalid_0's binary_logloss: 0.532829\n",
      "[12]\tvalid_0's binary_logloss: 0.527989\n",
      "[13]\tvalid_0's binary_logloss: 0.522727\n",
      "[14]\tvalid_0's binary_logloss: 0.520159\n",
      "[15]\tvalid_0's binary_logloss: 0.527526\n",
      "[16]\tvalid_0's binary_logloss: 0.53547\n",
      "[17]\tvalid_0's binary_logloss: 0.536845\n",
      "[18]\tvalid_0's binary_logloss: 0.539114\n",
      "[19]\tvalid_0's binary_logloss: 0.539624\n",
      "[20]\tvalid_0's binary_logloss: 0.540045\n",
      "[21]\tvalid_0's binary_logloss: 0.543164\n",
      "[22]\tvalid_0's binary_logloss: 0.548735\n",
      "[23]\tvalid_0's binary_logloss: 0.556523\n",
      "[24]\tvalid_0's binary_logloss: 0.546914\n",
      "[25]\tvalid_0's binary_logloss: 0.548219\n",
      "[26]\tvalid_0's binary_logloss: 0.540818\n",
      "[27]\tvalid_0's binary_logloss: 0.538412\n",
      "[28]\tvalid_0's binary_logloss: 0.539363\n",
      "[29]\tvalid_0's binary_logloss: 0.54661\n",
      "[30]\tvalid_0's binary_logloss: 0.539913\n",
      "[31]\tvalid_0's binary_logloss: 0.537518\n",
      "[32]\tvalid_0's binary_logloss: 0.539264\n",
      "[33]\tvalid_0's binary_logloss: 0.537094\n",
      "[34]\tvalid_0's binary_logloss: 0.536366\n",
      "evaluating on the training set...\n",
      "fitting HMM smoother...\n",
      "fitting forward-backward smoother...\n",
      "HMM label smoothing training took 0.01 mins\n",
      "performance on training set:\n",
      "P: 0.9873, R: 0.9413, F1: 0.9638    investigation\n"
     ]
    },
    {
     "name": "stderr",
     "output_type": "stream",
     "text": [
      "/home/roton/miniconda3/envs/mars/lib/python3.7/site-packages/sklearn/utils/validation.py:70: FutureWarning: Pass threshold=0.5 as keyword args. From version 0.25 passing these as positional arguments will result in an error\n",
      "  FutureWarning)\n"
     ]
    },
    {
     "name": "stdout",
     "output_type": "stream",
     "text": [
      "done training!\n",
      "complete training took 1.26 mins\n",
      "loading test data...\n"
     ]
    },
    {
     "name": "stderr",
     "output_type": "stream",
     "text": [
      "Filtering sequence 0/27    0% --  [Elapsed Time: 0:00:00] |  | (ETA:  --:--:--) \r"
     ]
    },
    {
     "name": "stdout",
     "output_type": "stream",
     "text": [
      "sorting features and applying filters...\n"
     ]
    },
    {
     "name": "stderr",
     "output_type": "stream",
     "text": [
      "Filtering sequence 27/27  100% --  [Elapsed Time: 0:04:53] |##| (Time: 0:04:53) \n"
     ]
    },
    {
     "name": "stdout",
     "output_type": "stream",
     "text": [
      "done!\n",
      "\n",
      "loaded test data: 364826 X 3408 - ['investigation'] \n",
      "loading classifiers from /media/storage/ryan/mabe_challenge/behavior/trained_classifiers/mabe_challenge_lgt_es20_wnd/\n",
      "n_classes = 4\n",
      "{'attack': 0, 'investigation': 1, 'mount': 2, 'other': 3}\n",
      "predicting investigation...\n",
      "inference took 58.85 sec\n",
      " \n",
      "Classifier performance:\n"
     ]
    },
    {
     "name": "stderr",
     "output_type": "stream",
     "text": [
      "/home/roton/miniconda3/envs/mars/lib/python3.7/site-packages/sklearn/metrics/_classification.py:1221: UndefinedMetricWarning: Precision and F-score are ill-defined and being set to 0.0 in labels with no predicted samples. Use `zero_division` parameter to control this behavior.\n",
      "  _warn_prf(average, modifier, msg_start, len(result))\n",
      "/home/roton/miniconda3/envs/mars/lib/python3.7/site-packages/sklearn/metrics/_classification.py:1221: UndefinedMetricWarning: Recall and F-score are ill-defined and being set to 0.0 in labels with no true samples. Use `zero_division` parameter to control this behavior.\n",
      "  _warn_prf(average, modifier, msg_start, len(result))\n"
     ]
    },
    {
     "name": "stdout",
     "output_type": "stream",
     "text": [
      "              attack   investigation   other    \n",
      "  Precision:    0.0      0.872      0.0     \n",
      "     Recall:    0.0      0.491      0.0     \n",
      "   F1 Score:    0.0      0.628      0.0     \n",
      "Loop: 3\n",
      "val set size: 9792\n",
      "training set size: 30675.0\n",
      "loading training data...\n"
     ]
    },
    {
     "name": "stderr",
     "output_type": "stream",
     "text": [
      "Filtering sequence 0/6    0% --  [Elapsed Time: 0:00:00] |   | (ETA:  --:--:--) \r"
     ]
    },
    {
     "name": "stdout",
     "output_type": "stream",
     "text": [
      "sorting features and applying filters...\n"
     ]
    },
    {
     "name": "stderr",
     "output_type": "stream",
     "text": [
      "Filtering sequence 6/6  100% --  [Elapsed Time: 0:00:24] |####| (Time: 0:00:24) \n"
     ]
    },
    {
     "name": "stdout",
     "output_type": "stream",
     "text": [
      "done!\n",
      "\n",
      "loading validation data...\n"
     ]
    },
    {
     "name": "stderr",
     "output_type": "stream",
     "text": [
      "Filtering sequence 0/1    0% --  [Elapsed Time: 0:00:00] |   | (ETA:  --:--:--) \r"
     ]
    },
    {
     "name": "stdout",
     "output_type": "stream",
     "text": [
      "sorting features and applying filters...\n"
     ]
    },
    {
     "name": "stderr",
     "output_type": "stream",
     "text": [
      "Filtering sequence 1/1  100% --  [Elapsed Time: 0:00:08] |####| (Time: 0:00:08) \n"
     ]
    },
    {
     "name": "stdout",
     "output_type": "stream",
     "text": [
      "done!\n",
      "\n",
      "loaded training data: 30675 X 3408 - ['investigation'] \n",
      "Training classifier: MABE_CHALLENGE_LGT_ES20_WND/\n",
      "######################### investigation #########################\n",
      "training using 5447 positive frames (117 bouts)\n",
      "fitting preprocessing parameters...\n",
      "fitting clf for investigation\n",
      "    training set: 5447 positive / 30675 total (17 %)\n",
      "    eval set: 4178 positive / 9792 total (42 %)\n",
      "  + early stopping\n"
     ]
    },
    {
     "name": "stderr",
     "output_type": "stream",
     "text": [
      "/home/roton/miniconda3/envs/mars/lib/python3.7/site-packages/lightgbm/sklearn.py:726: UserWarning: 'early_stopping_rounds' argument is deprecated and will be removed in a future release of LightGBM. Pass 'early_stopping()' callback via 'callbacks' argument instead.\n",
      "  _log_warning(\"'early_stopping_rounds' argument is deprecated and will be removed in a future release of LightGBM. \"\n",
      "/home/roton/miniconda3/envs/mars/lib/python3.7/site-packages/lightgbm/sklearn.py:736: UserWarning: 'verbose' argument is deprecated and will be removed in a future release of LightGBM. Pass 'log_evaluation()' callback via 'callbacks' argument instead.\n",
      "  _log_warning(\"'verbose' argument is deprecated and will be removed in a future release of LightGBM. \"\n"
     ]
    },
    {
     "name": "stdout",
     "output_type": "stream",
     "text": [
      "[1]\tvalid_0's binary_logloss: 0.784485\n",
      "[2]\tvalid_0's binary_logloss: 0.721985\n",
      "[3]\tvalid_0's binary_logloss: 0.684094\n",
      "[4]\tvalid_0's binary_logloss: 0.651841\n",
      "[5]\tvalid_0's binary_logloss: 0.620139\n",
      "[6]\tvalid_0's binary_logloss: 0.585735\n",
      "[7]\tvalid_0's binary_logloss: 0.559271\n",
      "[8]\tvalid_0's binary_logloss: 0.540734\n",
      "[9]\tvalid_0's binary_logloss: 0.52885\n",
      "[10]\tvalid_0's binary_logloss: 0.512951\n",
      "[11]\tvalid_0's binary_logloss: 0.501966\n",
      "[12]\tvalid_0's binary_logloss: 0.499466\n",
      "[13]\tvalid_0's binary_logloss: 0.500411\n",
      "[14]\tvalid_0's binary_logloss: 0.503502\n",
      "[15]\tvalid_0's binary_logloss: 0.503827\n",
      "[16]\tvalid_0's binary_logloss: 0.497358\n",
      "[17]\tvalid_0's binary_logloss: 0.489705\n",
      "[18]\tvalid_0's binary_logloss: 0.497819\n",
      "[19]\tvalid_0's binary_logloss: 0.493741\n",
      "[20]\tvalid_0's binary_logloss: 0.485311\n",
      "[21]\tvalid_0's binary_logloss: 0.486329\n",
      "[22]\tvalid_0's binary_logloss: 0.483071\n",
      "[23]\tvalid_0's binary_logloss: 0.476886\n",
      "[24]\tvalid_0's binary_logloss: 0.475007\n",
      "[25]\tvalid_0's binary_logloss: 0.474855\n",
      "[26]\tvalid_0's binary_logloss: 0.465277\n",
      "[27]\tvalid_0's binary_logloss: 0.468879\n",
      "[28]\tvalid_0's binary_logloss: 0.468834\n",
      "[29]\tvalid_0's binary_logloss: 0.466181\n",
      "[30]\tvalid_0's binary_logloss: 0.468001\n",
      "[31]\tvalid_0's binary_logloss: 0.468803\n",
      "[32]\tvalid_0's binary_logloss: 0.466537\n",
      "[33]\tvalid_0's binary_logloss: 0.46418\n",
      "[34]\tvalid_0's binary_logloss: 0.466086\n",
      "[35]\tvalid_0's binary_logloss: 0.469\n",
      "[36]\tvalid_0's binary_logloss: 0.470154\n",
      "[37]\tvalid_0's binary_logloss: 0.47281\n",
      "[38]\tvalid_0's binary_logloss: 0.473295\n",
      "[39]\tvalid_0's binary_logloss: 0.464844\n",
      "[40]\tvalid_0's binary_logloss: 0.464665\n",
      "[41]\tvalid_0's binary_logloss: 0.4653\n",
      "[42]\tvalid_0's binary_logloss: 0.469167\n",
      "[43]\tvalid_0's binary_logloss: 0.47411\n",
      "[44]\tvalid_0's binary_logloss: 0.474503\n",
      "[45]\tvalid_0's binary_logloss: 0.478877\n",
      "[46]\tvalid_0's binary_logloss: 0.483272\n",
      "[47]\tvalid_0's binary_logloss: 0.483404\n",
      "[48]\tvalid_0's binary_logloss: 0.483769\n",
      "[49]\tvalid_0's binary_logloss: 0.486359\n",
      "[50]\tvalid_0's binary_logloss: 0.489164\n",
      "[51]\tvalid_0's binary_logloss: 0.491199\n",
      "[52]\tvalid_0's binary_logloss: 0.490538\n",
      "[53]\tvalid_0's binary_logloss: 0.494832\n",
      "evaluating on the training set...\n",
      "fitting HMM smoother...\n",
      "fitting forward-backward smoother...\n",
      "HMM label smoothing training took 0.01 mins\n",
      "performance on training set:\n",
      "P: 0.9853, R: 0.9747, F1: 0.9800    investigation\n"
     ]
    },
    {
     "name": "stderr",
     "output_type": "stream",
     "text": [
      "/home/roton/miniconda3/envs/mars/lib/python3.7/site-packages/sklearn/utils/validation.py:70: FutureWarning: Pass threshold=0.5 as keyword args. From version 0.25 passing these as positional arguments will result in an error\n",
      "  FutureWarning)\n"
     ]
    },
    {
     "name": "stdout",
     "output_type": "stream",
     "text": [
      "done training!\n",
      "complete training took 2.12 mins\n",
      "loading test data...\n"
     ]
    },
    {
     "name": "stderr",
     "output_type": "stream",
     "text": [
      "Filtering sequence 0/27    0% --  [Elapsed Time: 0:00:00] |  | (ETA:  --:--:--) \r"
     ]
    },
    {
     "name": "stdout",
     "output_type": "stream",
     "text": [
      "sorting features and applying filters...\n"
     ]
    },
    {
     "name": "stderr",
     "output_type": "stream",
     "text": [
      "Filtering sequence 27/27  100% --  [Elapsed Time: 0:05:03] |##| (Time: 0:05:03) \n"
     ]
    },
    {
     "name": "stdout",
     "output_type": "stream",
     "text": [
      "done!\n",
      "\n",
      "loaded test data: 364826 X 3408 - ['investigation'] \n",
      "loading classifiers from /media/storage/ryan/mabe_challenge/behavior/trained_classifiers/mabe_challenge_lgt_es20_wnd/\n",
      "n_classes = 4\n",
      "{'attack': 0, 'investigation': 1, 'mount': 2, 'other': 3}\n",
      "predicting investigation...\n",
      "inference took 59.23 sec\n",
      " \n",
      "Classifier performance:\n",
      "              attack   investigation   other    \n",
      "  Precision:    0.0      0.839      0.0     \n",
      "     Recall:    0.0      0.704      0.0     \n",
      "   F1 Score:    0.0      0.766      0.0     \n"
     ]
    },
    {
     "name": "stderr",
     "output_type": "stream",
     "text": [
      "/home/roton/miniconda3/envs/mars/lib/python3.7/site-packages/sklearn/metrics/_classification.py:1221: UndefinedMetricWarning: Precision and F-score are ill-defined and being set to 0.0 in labels with no predicted samples. Use `zero_division` parameter to control this behavior.\n",
      "  _warn_prf(average, modifier, msg_start, len(result))\n",
      "/home/roton/miniconda3/envs/mars/lib/python3.7/site-packages/sklearn/metrics/_classification.py:1221: UndefinedMetricWarning: Recall and F-score are ill-defined and being set to 0.0 in labels with no true samples. Use `zero_division` parameter to control this behavior.\n",
      "  _warn_prf(average, modifier, msg_start, len(result))\n"
     ]
    },
    {
     "name": "stdout",
     "output_type": "stream",
     "text": [
      "Loop: 4\n",
      "val set size: 9792\n",
      "training set size: 55080.0\n",
      "loading training data...\n"
     ]
    },
    {
     "name": "stderr",
     "output_type": "stream",
     "text": [
      "Filtering sequence 0/8    0% --  [Elapsed Time: 0:00:00] |   | (ETA:  --:--:--) \r"
     ]
    },
    {
     "name": "stdout",
     "output_type": "stream",
     "text": [
      "sorting features and applying filters...\n"
     ]
    },
    {
     "name": "stderr",
     "output_type": "stream",
     "text": [
      "Filtering sequence 8/8  100% --  [Elapsed Time: 0:00:46] |####| (Time: 0:00:46) \n"
     ]
    },
    {
     "name": "stdout",
     "output_type": "stream",
     "text": [
      "done!\n",
      "\n",
      "loading validation data...\n"
     ]
    },
    {
     "name": "stderr",
     "output_type": "stream",
     "text": [
      "Filtering sequence 0/1    0% --  [Elapsed Time: 0:00:00] |   | (ETA:  --:--:--) \r"
     ]
    },
    {
     "name": "stdout",
     "output_type": "stream",
     "text": [
      "sorting features and applying filters...\n"
     ]
    },
    {
     "name": "stderr",
     "output_type": "stream",
     "text": [
      "Filtering sequence 1/1  100% --  [Elapsed Time: 0:00:08] |####| (Time: 0:00:08) \n"
     ]
    },
    {
     "name": "stdout",
     "output_type": "stream",
     "text": [
      "done!\n",
      "\n",
      "loaded training data: 55080 X 3408 - ['investigation'] \n",
      "Training classifier: MABE_CHALLENGE_LGT_ES20_WND/\n",
      "######################### investigation #########################\n",
      "training using 9247 positive frames (186 bouts)\n",
      "fitting preprocessing parameters...\n",
      "fitting clf for investigation\n",
      "    training set: 9247 positive / 55080 total (16 %)\n",
      "    eval set: 4178 positive / 9792 total (42 %)\n",
      "  + early stopping\n"
     ]
    },
    {
     "name": "stderr",
     "output_type": "stream",
     "text": [
      "/home/roton/miniconda3/envs/mars/lib/python3.7/site-packages/lightgbm/sklearn.py:726: UserWarning: 'early_stopping_rounds' argument is deprecated and will be removed in a future release of LightGBM. Pass 'early_stopping()' callback via 'callbacks' argument instead.\n",
      "  _log_warning(\"'early_stopping_rounds' argument is deprecated and will be removed in a future release of LightGBM. \"\n",
      "/home/roton/miniconda3/envs/mars/lib/python3.7/site-packages/lightgbm/sklearn.py:736: UserWarning: 'verbose' argument is deprecated and will be removed in a future release of LightGBM. Pass 'log_evaluation()' callback via 'callbacks' argument instead.\n",
      "  _log_warning(\"'verbose' argument is deprecated and will be removed in a future release of LightGBM. \"\n"
     ]
    },
    {
     "name": "stdout",
     "output_type": "stream",
     "text": [
      "[1]\tvalid_0's binary_logloss: 0.817356\n",
      "[2]\tvalid_0's binary_logloss: 0.772775\n",
      "[3]\tvalid_0's binary_logloss: 0.734988\n",
      "[4]\tvalid_0's binary_logloss: 0.717459\n",
      "[5]\tvalid_0's binary_logloss: 0.700473\n",
      "[6]\tvalid_0's binary_logloss: 0.675968\n",
      "[7]\tvalid_0's binary_logloss: 0.667807\n",
      "[8]\tvalid_0's binary_logloss: 0.662222\n",
      "[9]\tvalid_0's binary_logloss: 0.644826\n",
      "[10]\tvalid_0's binary_logloss: 0.634818\n",
      "[11]\tvalid_0's binary_logloss: 0.616487\n",
      "[12]\tvalid_0's binary_logloss: 0.611305\n",
      "[13]\tvalid_0's binary_logloss: 0.611706\n",
      "[14]\tvalid_0's binary_logloss: 0.618687\n",
      "[15]\tvalid_0's binary_logloss: 0.622157\n",
      "[16]\tvalid_0's binary_logloss: 0.628377\n",
      "[17]\tvalid_0's binary_logloss: 0.632013\n",
      "[18]\tvalid_0's binary_logloss: 0.624932\n",
      "[19]\tvalid_0's binary_logloss: 0.627324\n",
      "[20]\tvalid_0's binary_logloss: 0.626654\n",
      "[21]\tvalid_0's binary_logloss: 0.637384\n",
      "[22]\tvalid_0's binary_logloss: 0.634842\n",
      "[23]\tvalid_0's binary_logloss: 0.626055\n",
      "[24]\tvalid_0's binary_logloss: 0.619438\n",
      "[25]\tvalid_0's binary_logloss: 0.623894\n",
      "[26]\tvalid_0's binary_logloss: 0.62202\n",
      "[27]\tvalid_0's binary_logloss: 0.631105\n",
      "[28]\tvalid_0's binary_logloss: 0.64848\n",
      "[29]\tvalid_0's binary_logloss: 0.645161\n",
      "[30]\tvalid_0's binary_logloss: 0.650496\n",
      "[31]\tvalid_0's binary_logloss: 0.647774\n",
      "[32]\tvalid_0's binary_logloss: 0.648809\n",
      "evaluating on the training set...\n",
      "fitting HMM smoother...\n",
      "fitting forward-backward smoother...\n"
     ]
    },
    {
     "name": "stderr",
     "output_type": "stream",
     "text": [
      "/home/roton/miniconda3/envs/mars/lib/python3.7/site-packages/sklearn/utils/validation.py:70: FutureWarning: Pass threshold=0.5 as keyword args. From version 0.25 passing these as positional arguments will result in an error\n",
      "  FutureWarning)\n"
     ]
    },
    {
     "name": "stdout",
     "output_type": "stream",
     "text": [
      "HMM label smoothing training took 0.03 mins\n",
      "performance on training set:\n",
      "P: 0.9569, R: 0.8792, F1: 0.9164    investigation\n",
      "done training!\n",
      "complete training took 1.17 mins\n",
      "loading test data...\n"
     ]
    },
    {
     "name": "stderr",
     "output_type": "stream",
     "text": [
      "Filtering sequence 0/27    0% --  [Elapsed Time: 0:00:00] |  | (ETA:  --:--:--) \r"
     ]
    },
    {
     "name": "stdout",
     "output_type": "stream",
     "text": [
      "sorting features and applying filters...\n"
     ]
    },
    {
     "name": "stderr",
     "output_type": "stream",
     "text": [
      "Filtering sequence 27/27  100% --  [Elapsed Time: 0:05:03] |##| (Time: 0:05:03) \n"
     ]
    },
    {
     "name": "stdout",
     "output_type": "stream",
     "text": [
      "done!\n",
      "\n",
      "loaded test data: 364826 X 3408 - ['investigation'] \n",
      "loading classifiers from /media/storage/ryan/mabe_challenge/behavior/trained_classifiers/mabe_challenge_lgt_es20_wnd/\n",
      "n_classes = 4\n",
      "{'attack': 0, 'investigation': 1, 'mount': 2, 'other': 3}\n",
      "predicting investigation...\n",
      "inference took 60.63 sec\n",
      " \n",
      "Classifier performance:\n"
     ]
    },
    {
     "name": "stderr",
     "output_type": "stream",
     "text": [
      "/home/roton/miniconda3/envs/mars/lib/python3.7/site-packages/sklearn/metrics/_classification.py:1221: UndefinedMetricWarning: Precision and F-score are ill-defined and being set to 0.0 in labels with no predicted samples. Use `zero_division` parameter to control this behavior.\n",
      "  _warn_prf(average, modifier, msg_start, len(result))\n",
      "/home/roton/miniconda3/envs/mars/lib/python3.7/site-packages/sklearn/metrics/_classification.py:1221: UndefinedMetricWarning: Recall and F-score are ill-defined and being set to 0.0 in labels with no true samples. Use `zero_division` parameter to control this behavior.\n",
      "  _warn_prf(average, modifier, msg_start, len(result))\n"
     ]
    },
    {
     "name": "stdout",
     "output_type": "stream",
     "text": [
      "              attack   investigation   other    \n",
      "  Precision:    0.0      0.888      0.0     \n",
      "     Recall:    0.0      0.658      0.0     \n",
      "   F1 Score:    0.0      0.756      0.0     \n",
      "Loop: 5\n",
      "val set size: 11005\n",
      "training set size: 93083.0\n",
      "loading training data...\n"
     ]
    },
    {
     "name": "stderr",
     "output_type": "stream",
     "text": [
      "Filtering sequence 0/14    0% --  [Elapsed Time: 0:00:00] |  | (ETA:  --:--:--) \r"
     ]
    },
    {
     "name": "stdout",
     "output_type": "stream",
     "text": [
      "sorting features and applying filters...\n"
     ]
    },
    {
     "name": "stderr",
     "output_type": "stream",
     "text": [
      "Filtering sequence 14/14  100% --  [Elapsed Time: 0:01:15] |##| (Time: 0:01:15) \n"
     ]
    },
    {
     "name": "stdout",
     "output_type": "stream",
     "text": [
      "done!\n",
      "\n",
      "loading validation data...\n"
     ]
    },
    {
     "name": "stderr",
     "output_type": "stream",
     "text": [
      "Filtering sequence 0/2    0% --  [Elapsed Time: 0:00:00] |   | (ETA:  --:--:--) \r"
     ]
    },
    {
     "name": "stdout",
     "output_type": "stream",
     "text": [
      "sorting features and applying filters...\n"
     ]
    },
    {
     "name": "stderr",
     "output_type": "stream",
     "text": [
      "Filtering sequence 2/2  100% --  [Elapsed Time: 0:00:09] |####| (Time: 0:00:09) \n"
     ]
    },
    {
     "name": "stdout",
     "output_type": "stream",
     "text": [
      "done!\n",
      "\n",
      "loaded training data: 93083 X 3408 - ['investigation'] \n",
      "Training classifier: MABE_CHALLENGE_LGT_ES20_WND/\n",
      "######################### investigation #########################\n",
      "training using 16048 positive frames (344 bouts)\n",
      "fitting preprocessing parameters...\n",
      "fitting clf for investigation\n",
      "    training set: 16048 positive / 93083 total (17 %)\n",
      "    eval set: 4444 positive / 11005 total (40 %)\n",
      "  + early stopping\n"
     ]
    },
    {
     "name": "stderr",
     "output_type": "stream",
     "text": [
      "/home/roton/miniconda3/envs/mars/lib/python3.7/site-packages/lightgbm/sklearn.py:726: UserWarning: 'early_stopping_rounds' argument is deprecated and will be removed in a future release of LightGBM. Pass 'early_stopping()' callback via 'callbacks' argument instead.\n",
      "  _log_warning(\"'early_stopping_rounds' argument is deprecated and will be removed in a future release of LightGBM. \"\n",
      "/home/roton/miniconda3/envs/mars/lib/python3.7/site-packages/lightgbm/sklearn.py:736: UserWarning: 'verbose' argument is deprecated and will be removed in a future release of LightGBM. Pass 'log_evaluation()' callback via 'callbacks' argument instead.\n",
      "  _log_warning(\"'verbose' argument is deprecated and will be removed in a future release of LightGBM. \"\n"
     ]
    },
    {
     "name": "stdout",
     "output_type": "stream",
     "text": [
      "[1]\tvalid_0's binary_logloss: 0.734987\n",
      "[2]\tvalid_0's binary_logloss: 0.686072\n",
      "[3]\tvalid_0's binary_logloss: 0.650021\n",
      "[4]\tvalid_0's binary_logloss: 0.622184\n",
      "[5]\tvalid_0's binary_logloss: 0.608019\n",
      "[6]\tvalid_0's binary_logloss: 0.57891\n",
      "[7]\tvalid_0's binary_logloss: 0.555653\n",
      "[8]\tvalid_0's binary_logloss: 0.546057\n",
      "[9]\tvalid_0's binary_logloss: 0.529155\n",
      "[10]\tvalid_0's binary_logloss: 0.526108\n",
      "[11]\tvalid_0's binary_logloss: 0.512726\n",
      "[12]\tvalid_0's binary_logloss: 0.510175\n",
      "[13]\tvalid_0's binary_logloss: 0.503261\n",
      "[14]\tvalid_0's binary_logloss: 0.497816\n",
      "[15]\tvalid_0's binary_logloss: 0.490965\n",
      "[16]\tvalid_0's binary_logloss: 0.490309\n",
      "[17]\tvalid_0's binary_logloss: 0.48571\n",
      "[18]\tvalid_0's binary_logloss: 0.483424\n",
      "[19]\tvalid_0's binary_logloss: 0.479647\n",
      "[20]\tvalid_0's binary_logloss: 0.477471\n",
      "[21]\tvalid_0's binary_logloss: 0.477468\n",
      "[22]\tvalid_0's binary_logloss: 0.470541\n",
      "[23]\tvalid_0's binary_logloss: 0.469508\n",
      "[24]\tvalid_0's binary_logloss: 0.468387\n",
      "[25]\tvalid_0's binary_logloss: 0.468898\n",
      "[26]\tvalid_0's binary_logloss: 0.467567\n",
      "[27]\tvalid_0's binary_logloss: 0.471145\n",
      "[28]\tvalid_0's binary_logloss: 0.46771\n",
      "[29]\tvalid_0's binary_logloss: 0.469408\n",
      "[30]\tvalid_0's binary_logloss: 0.467714\n",
      "[31]\tvalid_0's binary_logloss: 0.465618\n",
      "[32]\tvalid_0's binary_logloss: 0.462105\n",
      "[33]\tvalid_0's binary_logloss: 0.462521\n",
      "[34]\tvalid_0's binary_logloss: 0.465649\n",
      "[35]\tvalid_0's binary_logloss: 0.463863\n",
      "[36]\tvalid_0's binary_logloss: 0.462552\n",
      "[37]\tvalid_0's binary_logloss: 0.461795\n",
      "[38]\tvalid_0's binary_logloss: 0.464616\n",
      "[39]\tvalid_0's binary_logloss: 0.463213\n",
      "[40]\tvalid_0's binary_logloss: 0.46237\n",
      "[41]\tvalid_0's binary_logloss: 0.464725\n",
      "[42]\tvalid_0's binary_logloss: 0.465166\n",
      "[43]\tvalid_0's binary_logloss: 0.464886\n",
      "[44]\tvalid_0's binary_logloss: 0.464711\n",
      "[45]\tvalid_0's binary_logloss: 0.466497\n",
      "[46]\tvalid_0's binary_logloss: 0.466597\n",
      "[47]\tvalid_0's binary_logloss: 0.46706\n",
      "[48]\tvalid_0's binary_logloss: 0.47021\n",
      "[49]\tvalid_0's binary_logloss: 0.470812\n",
      "[50]\tvalid_0's binary_logloss: 0.469597\n",
      "[51]\tvalid_0's binary_logloss: 0.470905\n",
      "[52]\tvalid_0's binary_logloss: 0.470115\n",
      "[53]\tvalid_0's binary_logloss: 0.471762\n",
      "[54]\tvalid_0's binary_logloss: 0.47207\n",
      "[55]\tvalid_0's binary_logloss: 0.471031\n",
      "[56]\tvalid_0's binary_logloss: 0.470443\n",
      "[57]\tvalid_0's binary_logloss: 0.473507\n",
      "evaluating on the training set...\n",
      "fitting HMM smoother...\n",
      "fitting forward-backward smoother...\n",
      "HMM label smoothing training took 0.05 mins\n",
      "performance on training set:\n",
      "P: 0.9270, R: 0.9210, F1: 0.9240    investigation\n"
     ]
    },
    {
     "name": "stderr",
     "output_type": "stream",
     "text": [
      "/home/roton/miniconda3/envs/mars/lib/python3.7/site-packages/sklearn/utils/validation.py:70: FutureWarning: Pass threshold=0.5 as keyword args. From version 0.25 passing these as positional arguments will result in an error\n",
      "  FutureWarning)\n"
     ]
    },
    {
     "name": "stdout",
     "output_type": "stream",
     "text": [
      "done training!\n",
      "complete training took 2.10 mins\n",
      "loading test data...\n"
     ]
    },
    {
     "name": "stderr",
     "output_type": "stream",
     "text": [
      "Filtering sequence 0/27    0% --  [Elapsed Time: 0:00:00] |  | (ETA:  --:--:--) \r"
     ]
    },
    {
     "name": "stdout",
     "output_type": "stream",
     "text": [
      "sorting features and applying filters...\n"
     ]
    },
    {
     "name": "stderr",
     "output_type": "stream",
     "text": [
      "Filtering sequence 27/27  100% --  [Elapsed Time: 0:05:01] |##| (Time: 0:05:01) \n"
     ]
    },
    {
     "name": "stdout",
     "output_type": "stream",
     "text": [
      "done!\n",
      "\n",
      "loaded test data: 364826 X 3408 - ['investigation'] \n",
      "loading classifiers from /media/storage/ryan/mabe_challenge/behavior/trained_classifiers/mabe_challenge_lgt_es20_wnd/\n",
      "n_classes = 4\n",
      "{'attack': 0, 'investigation': 1, 'mount': 2, 'other': 3}\n",
      "predicting investigation...\n",
      "inference took 60.05 sec\n",
      " \n",
      "Classifier performance:\n"
     ]
    },
    {
     "name": "stderr",
     "output_type": "stream",
     "text": [
      "/home/roton/miniconda3/envs/mars/lib/python3.7/site-packages/sklearn/metrics/_classification.py:1221: UndefinedMetricWarning: Precision and F-score are ill-defined and being set to 0.0 in labels with no predicted samples. Use `zero_division` parameter to control this behavior.\n",
      "  _warn_prf(average, modifier, msg_start, len(result))\n",
      "/home/roton/miniconda3/envs/mars/lib/python3.7/site-packages/sklearn/metrics/_classification.py:1221: UndefinedMetricWarning: Recall and F-score are ill-defined and being set to 0.0 in labels with no true samples. Use `zero_division` parameter to control this behavior.\n",
      "  _warn_prf(average, modifier, msg_start, len(result))\n"
     ]
    },
    {
     "name": "stdout",
     "output_type": "stream",
     "text": [
      "              attack   investigation   other    \n",
      "  Precision:    0.0      0.861      0.0     \n",
      "     Recall:    0.0      0.786      0.0     \n",
      "   F1 Score:    0.0      0.822      0.0     \n",
      "Loop: 6\n",
      "val set size: 18257\n",
      "training set size: 136517.0\n",
      "loading training data...\n"
     ]
    },
    {
     "name": "stderr",
     "output_type": "stream",
     "text": [
      "Filtering sequence 0/19    0% --  [Elapsed Time: 0:00:00] |  | (ETA:  --:--:--) \r"
     ]
    },
    {
     "name": "stdout",
     "output_type": "stream",
     "text": [
      "sorting features and applying filters...\n"
     ]
    },
    {
     "name": "stderr",
     "output_type": "stream",
     "text": [
      "Filtering sequence 19/19  100% --  [Elapsed Time: 0:01:51] |##| (Time: 0:01:51) \n"
     ]
    },
    {
     "name": "stdout",
     "output_type": "stream",
     "text": [
      "done!\n",
      "\n",
      "loading validation data...\n"
     ]
    },
    {
     "name": "stderr",
     "output_type": "stream",
     "text": [
      "Filtering sequence 0/4    0% --  [Elapsed Time: 0:00:00] |   | (ETA:  --:--:--) \r"
     ]
    },
    {
     "name": "stdout",
     "output_type": "stream",
     "text": [
      "sorting features and applying filters...\n"
     ]
    },
    {
     "name": "stderr",
     "output_type": "stream",
     "text": [
      "Filtering sequence 4/4  100% --  [Elapsed Time: 0:00:14] |####| (Time: 0:00:14) \n"
     ]
    },
    {
     "name": "stdout",
     "output_type": "stream",
     "text": [
      "done!\n",
      "\n",
      "loaded training data: 136517 X 3408 - ['investigation'] \n",
      "Training classifier: MABE_CHALLENGE_LGT_ES20_WND/\n",
      "######################### investigation #########################\n",
      "training using 33698 positive frames (503 bouts)\n",
      "fitting preprocessing parameters...\n",
      "fitting clf for investigation\n",
      "    training set: 33698 positive / 136517 total (24 %)\n",
      "    eval set: 6300 positive / 18257 total (34 %)\n",
      "  + early stopping\n"
     ]
    },
    {
     "name": "stderr",
     "output_type": "stream",
     "text": [
      "/home/roton/miniconda3/envs/mars/lib/python3.7/site-packages/lightgbm/sklearn.py:726: UserWarning: 'early_stopping_rounds' argument is deprecated and will be removed in a future release of LightGBM. Pass 'early_stopping()' callback via 'callbacks' argument instead.\n",
      "  _log_warning(\"'early_stopping_rounds' argument is deprecated and will be removed in a future release of LightGBM. \"\n",
      "/home/roton/miniconda3/envs/mars/lib/python3.7/site-packages/lightgbm/sklearn.py:736: UserWarning: 'verbose' argument is deprecated and will be removed in a future release of LightGBM. Pass 'log_evaluation()' callback via 'callbacks' argument instead.\n",
      "  _log_warning(\"'verbose' argument is deprecated and will be removed in a future release of LightGBM. \"\n"
     ]
    },
    {
     "name": "stdout",
     "output_type": "stream",
     "text": [
      "[1]\tvalid_0's binary_logloss: 0.600805\n",
      "[2]\tvalid_0's binary_logloss: 0.553772\n",
      "[3]\tvalid_0's binary_logloss: 0.508213\n",
      "[4]\tvalid_0's binary_logloss: 0.475352\n",
      "[5]\tvalid_0's binary_logloss: 0.446464\n",
      "[6]\tvalid_0's binary_logloss: 0.425234\n",
      "[7]\tvalid_0's binary_logloss: 0.405976\n",
      "[8]\tvalid_0's binary_logloss: 0.387732\n",
      "[9]\tvalid_0's binary_logloss: 0.372376\n",
      "[10]\tvalid_0's binary_logloss: 0.35888\n",
      "[11]\tvalid_0's binary_logloss: 0.348669\n",
      "[12]\tvalid_0's binary_logloss: 0.337327\n",
      "[13]\tvalid_0's binary_logloss: 0.328532\n",
      "[14]\tvalid_0's binary_logloss: 0.3217\n",
      "[15]\tvalid_0's binary_logloss: 0.314588\n",
      "[16]\tvalid_0's binary_logloss: 0.308329\n",
      "[17]\tvalid_0's binary_logloss: 0.303898\n",
      "[18]\tvalid_0's binary_logloss: 0.298192\n",
      "[19]\tvalid_0's binary_logloss: 0.293888\n",
      "[20]\tvalid_0's binary_logloss: 0.290218\n",
      "[21]\tvalid_0's binary_logloss: 0.284903\n",
      "[22]\tvalid_0's binary_logloss: 0.282094\n",
      "[23]\tvalid_0's binary_logloss: 0.277545\n",
      "[24]\tvalid_0's binary_logloss: 0.274991\n",
      "[25]\tvalid_0's binary_logloss: 0.273585\n",
      "[26]\tvalid_0's binary_logloss: 0.270481\n",
      "[27]\tvalid_0's binary_logloss: 0.26869\n",
      "[28]\tvalid_0's binary_logloss: 0.26666\n",
      "[29]\tvalid_0's binary_logloss: 0.264764\n",
      "[30]\tvalid_0's binary_logloss: 0.262464\n",
      "[31]\tvalid_0's binary_logloss: 0.260583\n",
      "[32]\tvalid_0's binary_logloss: 0.259154\n",
      "[33]\tvalid_0's binary_logloss: 0.258635\n",
      "[34]\tvalid_0's binary_logloss: 0.259046\n",
      "[35]\tvalid_0's binary_logloss: 0.258356\n",
      "[36]\tvalid_0's binary_logloss: 0.257307\n",
      "[37]\tvalid_0's binary_logloss: 0.257688\n",
      "[38]\tvalid_0's binary_logloss: 0.256561\n",
      "[39]\tvalid_0's binary_logloss: 0.255459\n",
      "[40]\tvalid_0's binary_logloss: 0.254588\n",
      "[41]\tvalid_0's binary_logloss: 0.254072\n",
      "[42]\tvalid_0's binary_logloss: 0.253203\n",
      "[43]\tvalid_0's binary_logloss: 0.253451\n",
      "[44]\tvalid_0's binary_logloss: 0.252714\n",
      "[45]\tvalid_0's binary_logloss: 0.252375\n",
      "[46]\tvalid_0's binary_logloss: 0.252301\n",
      "[47]\tvalid_0's binary_logloss: 0.25126\n",
      "[48]\tvalid_0's binary_logloss: 0.250973\n",
      "[49]\tvalid_0's binary_logloss: 0.251005\n",
      "[50]\tvalid_0's binary_logloss: 0.250567\n",
      "[51]\tvalid_0's binary_logloss: 0.250015\n",
      "[52]\tvalid_0's binary_logloss: 0.249133\n",
      "[53]\tvalid_0's binary_logloss: 0.248996\n",
      "[54]\tvalid_0's binary_logloss: 0.249043\n",
      "[55]\tvalid_0's binary_logloss: 0.249269\n",
      "[56]\tvalid_0's binary_logloss: 0.248666\n",
      "[57]\tvalid_0's binary_logloss: 0.248352\n",
      "[58]\tvalid_0's binary_logloss: 0.248737\n",
      "[59]\tvalid_0's binary_logloss: 0.249288\n",
      "[60]\tvalid_0's binary_logloss: 0.249455\n",
      "[61]\tvalid_0's binary_logloss: 0.249219\n",
      "[62]\tvalid_0's binary_logloss: 0.24886\n",
      "[63]\tvalid_0's binary_logloss: 0.24896\n",
      "[64]\tvalid_0's binary_logloss: 0.249456\n",
      "[65]\tvalid_0's binary_logloss: 0.24903\n",
      "[66]\tvalid_0's binary_logloss: 0.250037\n",
      "[67]\tvalid_0's binary_logloss: 0.250262\n",
      "[68]\tvalid_0's binary_logloss: 0.250152\n",
      "[69]\tvalid_0's binary_logloss: 0.25055\n",
      "[70]\tvalid_0's binary_logloss: 0.249854\n",
      "[71]\tvalid_0's binary_logloss: 0.249567\n",
      "[72]\tvalid_0's binary_logloss: 0.248818\n",
      "[73]\tvalid_0's binary_logloss: 0.249005\n",
      "[74]\tvalid_0's binary_logloss: 0.247995\n",
      "[75]\tvalid_0's binary_logloss: 0.247705\n",
      "[76]\tvalid_0's binary_logloss: 0.247315\n",
      "[77]\tvalid_0's binary_logloss: 0.24734\n",
      "[78]\tvalid_0's binary_logloss: 0.247658\n",
      "[79]\tvalid_0's binary_logloss: 0.24785\n",
      "[80]\tvalid_0's binary_logloss: 0.247806\n",
      "[81]\tvalid_0's binary_logloss: 0.248114\n",
      "[82]\tvalid_0's binary_logloss: 0.24811\n",
      "[83]\tvalid_0's binary_logloss: 0.248003\n",
      "[84]\tvalid_0's binary_logloss: 0.247753\n",
      "[85]\tvalid_0's binary_logloss: 0.247759\n",
      "[86]\tvalid_0's binary_logloss: 0.24772\n",
      "[87]\tvalid_0's binary_logloss: 0.247266\n",
      "[88]\tvalid_0's binary_logloss: 0.247177\n",
      "[89]\tvalid_0's binary_logloss: 0.24682\n",
      "[90]\tvalid_0's binary_logloss: 0.246803\n",
      "[91]\tvalid_0's binary_logloss: 0.246642\n",
      "[92]\tvalid_0's binary_logloss: 0.246961\n",
      "[93]\tvalid_0's binary_logloss: 0.246344\n",
      "[94]\tvalid_0's binary_logloss: 0.246084\n",
      "[95]\tvalid_0's binary_logloss: 0.246001\n",
      "[96]\tvalid_0's binary_logloss: 0.246173\n",
      "[97]\tvalid_0's binary_logloss: 0.245829\n",
      "[98]\tvalid_0's binary_logloss: 0.246008\n",
      "[99]\tvalid_0's binary_logloss: 0.245894\n",
      "[100]\tvalid_0's binary_logloss: 0.245795\n",
      "[101]\tvalid_0's binary_logloss: 0.246006\n",
      "[102]\tvalid_0's binary_logloss: 0.245585\n",
      "[103]\tvalid_0's binary_logloss: 0.245399\n",
      "[104]\tvalid_0's binary_logloss: 0.245921\n",
      "[105]\tvalid_0's binary_logloss: 0.24651\n",
      "[106]\tvalid_0's binary_logloss: 0.246383\n",
      "[107]\tvalid_0's binary_logloss: 0.246624\n",
      "[108]\tvalid_0's binary_logloss: 0.246508\n",
      "[109]\tvalid_0's binary_logloss: 0.2466\n",
      "[110]\tvalid_0's binary_logloss: 0.246948\n",
      "[111]\tvalid_0's binary_logloss: 0.246257\n",
      "[112]\tvalid_0's binary_logloss: 0.246294\n",
      "[113]\tvalid_0's binary_logloss: 0.245854\n",
      "[114]\tvalid_0's binary_logloss: 0.245675\n",
      "[115]\tvalid_0's binary_logloss: 0.245738\n",
      "[116]\tvalid_0's binary_logloss: 0.245611\n",
      "[117]\tvalid_0's binary_logloss: 0.246103\n",
      "[118]\tvalid_0's binary_logloss: 0.245956\n",
      "[119]\tvalid_0's binary_logloss: 0.246062\n",
      "[120]\tvalid_0's binary_logloss: 0.245065\n",
      "[121]\tvalid_0's binary_logloss: 0.245764\n",
      "[122]\tvalid_0's binary_logloss: 0.245775\n",
      "[123]\tvalid_0's binary_logloss: 0.245578\n",
      "[124]\tvalid_0's binary_logloss: 0.245267\n",
      "[125]\tvalid_0's binary_logloss: 0.245736\n",
      "[126]\tvalid_0's binary_logloss: 0.245558\n",
      "[127]\tvalid_0's binary_logloss: 0.245345\n",
      "[128]\tvalid_0's binary_logloss: 0.24528\n",
      "[129]\tvalid_0's binary_logloss: 0.244534\n",
      "[130]\tvalid_0's binary_logloss: 0.244381\n",
      "[131]\tvalid_0's binary_logloss: 0.244653\n",
      "[132]\tvalid_0's binary_logloss: 0.24458\n",
      "[133]\tvalid_0's binary_logloss: 0.244595\n",
      "[134]\tvalid_0's binary_logloss: 0.244641\n",
      "[135]\tvalid_0's binary_logloss: 0.244433\n",
      "[136]\tvalid_0's binary_logloss: 0.244947\n",
      "[137]\tvalid_0's binary_logloss: 0.244658\n",
      "[138]\tvalid_0's binary_logloss: 0.244923\n",
      "[139]\tvalid_0's binary_logloss: 0.245609\n",
      "[140]\tvalid_0's binary_logloss: 0.246038\n",
      "[141]\tvalid_0's binary_logloss: 0.245888\n",
      "[142]\tvalid_0's binary_logloss: 0.246014\n",
      "[143]\tvalid_0's binary_logloss: 0.246431\n",
      "[144]\tvalid_0's binary_logloss: 0.246394\n",
      "[145]\tvalid_0's binary_logloss: 0.246875\n",
      "[146]\tvalid_0's binary_logloss: 0.246622\n",
      "[147]\tvalid_0's binary_logloss: 0.246529\n",
      "[148]\tvalid_0's binary_logloss: 0.246747\n",
      "[149]\tvalid_0's binary_logloss: 0.246659\n",
      "[150]\tvalid_0's binary_logloss: 0.246613\n",
      "evaluating on the training set...\n",
      "fitting HMM smoother...\n",
      "fitting forward-backward smoother...\n"
     ]
    },
    {
     "name": "stderr",
     "output_type": "stream",
     "text": [
      "/home/roton/miniconda3/envs/mars/lib/python3.7/site-packages/sklearn/utils/validation.py:70: FutureWarning: Pass threshold=0.5 as keyword args. From version 0.25 passing these as positional arguments will result in an error\n",
      "  FutureWarning)\n"
     ]
    },
    {
     "name": "stdout",
     "output_type": "stream",
     "text": [
      "HMM label smoothing training took 0.07 mins\n",
      "performance on training set:\n",
      "P: 0.9816, R: 0.9752, F1: 0.9784    investigation\n",
      "done training!\n",
      "complete training took 5.10 mins\n",
      "loading test data...\n"
     ]
    },
    {
     "name": "stderr",
     "output_type": "stream",
     "text": [
      "Filtering sequence 0/27    0% --  [Elapsed Time: 0:00:00] |  | (ETA:  --:--:--) \r"
     ]
    },
    {
     "name": "stdout",
     "output_type": "stream",
     "text": [
      "sorting features and applying filters...\n"
     ]
    },
    {
     "name": "stderr",
     "output_type": "stream",
     "text": [
      "Filtering sequence 27/27  100% --  [Elapsed Time: 0:05:10] |##| (Time: 0:05:10) \n"
     ]
    },
    {
     "name": "stdout",
     "output_type": "stream",
     "text": [
      "done!\n",
      "\n",
      "loaded test data: 364826 X 3408 - ['investigation'] \n",
      "loading classifiers from /media/storage/ryan/mabe_challenge/behavior/trained_classifiers/mabe_challenge_lgt_es20_wnd/\n",
      "n_classes = 4\n",
      "{'attack': 0, 'investigation': 1, 'mount': 2, 'other': 3}\n",
      "predicting investigation...\n",
      "inference took 58.80 sec\n",
      " \n",
      "Classifier performance:\n"
     ]
    },
    {
     "name": "stderr",
     "output_type": "stream",
     "text": [
      "/home/roton/miniconda3/envs/mars/lib/python3.7/site-packages/sklearn/metrics/_classification.py:1221: UndefinedMetricWarning: Precision and F-score are ill-defined and being set to 0.0 in labels with no predicted samples. Use `zero_division` parameter to control this behavior.\n",
      "  _warn_prf(average, modifier, msg_start, len(result))\n",
      "/home/roton/miniconda3/envs/mars/lib/python3.7/site-packages/sklearn/metrics/_classification.py:1221: UndefinedMetricWarning: Recall and F-score are ill-defined and being set to 0.0 in labels with no true samples. Use `zero_division` parameter to control this behavior.\n",
      "  _warn_prf(average, modifier, msg_start, len(result))\n"
     ]
    },
    {
     "name": "stdout",
     "output_type": "stream",
     "text": [
      "              attack   investigation   other    \n",
      "  Precision:    0.0      0.851      0.0     \n",
      "     Recall:    0.0      0.795      0.0     \n",
      "   F1 Score:    0.0      0.822      0.0     \n",
      "Loop: 7\n",
      "val set size: 33034\n",
      "training set size: 175155.0\n",
      "loading training data...\n"
     ]
    },
    {
     "name": "stderr",
     "output_type": "stream",
     "text": [
      "Filtering sequence 0/20    0% --  [Elapsed Time: 0:00:00] |  | (ETA:  --:--:--) \r"
     ]
    },
    {
     "name": "stdout",
     "output_type": "stream",
     "text": [
      "sorting features and applying filters...\n"
     ]
    },
    {
     "name": "stderr",
     "output_type": "stream",
     "text": [
      "Filtering sequence 20/20  100% --  [Elapsed Time: 0:02:23] |##| (Time: 0:02:23) \n"
     ]
    },
    {
     "name": "stdout",
     "output_type": "stream",
     "text": [
      "done!\n",
      "\n",
      "loading validation data...\n"
     ]
    },
    {
     "name": "stderr",
     "output_type": "stream",
     "text": [
      "Filtering sequence 0/6    0% --  [Elapsed Time: 0:00:00] |   | (ETA:  --:--:--) \r"
     ]
    },
    {
     "name": "stdout",
     "output_type": "stream",
     "text": [
      "sorting features and applying filters...\n"
     ]
    },
    {
     "name": "stderr",
     "output_type": "stream",
     "text": [
      "Filtering sequence 6/6  100% --  [Elapsed Time: 0:00:27] |####| (Time: 0:00:27) \n"
     ]
    },
    {
     "name": "stdout",
     "output_type": "stream",
     "text": [
      "done!\n",
      "\n",
      "loaded training data: 175155 X 3408 - ['investigation'] \n",
      "Training classifier: MABE_CHALLENGE_LGT_ES20_WND/\n",
      "######################### investigation #########################\n",
      "training using 46624 positive frames (650 bouts)\n",
      "fitting preprocessing parameters...\n",
      "fitting clf for investigation\n",
      "    training set: 46624 positive / 175155 total (26 %)\n",
      "    eval set: 8403 positive / 33034 total (25 %)\n",
      "  + early stopping\n"
     ]
    },
    {
     "name": "stderr",
     "output_type": "stream",
     "text": [
      "/home/roton/miniconda3/envs/mars/lib/python3.7/site-packages/lightgbm/sklearn.py:726: UserWarning: 'early_stopping_rounds' argument is deprecated and will be removed in a future release of LightGBM. Pass 'early_stopping()' callback via 'callbacks' argument instead.\n",
      "  _log_warning(\"'early_stopping_rounds' argument is deprecated and will be removed in a future release of LightGBM. \"\n",
      "/home/roton/miniconda3/envs/mars/lib/python3.7/site-packages/lightgbm/sklearn.py:736: UserWarning: 'verbose' argument is deprecated and will be removed in a future release of LightGBM. Pass 'log_evaluation()' callback via 'callbacks' argument instead.\n",
      "  _log_warning(\"'verbose' argument is deprecated and will be removed in a future release of LightGBM. \"\n"
     ]
    },
    {
     "name": "stdout",
     "output_type": "stream",
     "text": [
      "[1]\tvalid_0's binary_logloss: 0.512753\n",
      "[2]\tvalid_0's binary_logloss: 0.469014\n",
      "[3]\tvalid_0's binary_logloss: 0.433604\n",
      "[4]\tvalid_0's binary_logloss: 0.405693\n",
      "[5]\tvalid_0's binary_logloss: 0.382454\n",
      "[6]\tvalid_0's binary_logloss: 0.360315\n",
      "[7]\tvalid_0's binary_logloss: 0.343167\n",
      "[8]\tvalid_0's binary_logloss: 0.326499\n",
      "[9]\tvalid_0's binary_logloss: 0.311933\n",
      "[10]\tvalid_0's binary_logloss: 0.29975\n",
      "[11]\tvalid_0's binary_logloss: 0.289418\n",
      "[12]\tvalid_0's binary_logloss: 0.279212\n",
      "[13]\tvalid_0's binary_logloss: 0.270762\n",
      "[14]\tvalid_0's binary_logloss: 0.263759\n",
      "[15]\tvalid_0's binary_logloss: 0.257888\n",
      "[16]\tvalid_0's binary_logloss: 0.251875\n",
      "[17]\tvalid_0's binary_logloss: 0.246128\n",
      "[18]\tvalid_0's binary_logloss: 0.240937\n",
      "[19]\tvalid_0's binary_logloss: 0.236458\n",
      "[20]\tvalid_0's binary_logloss: 0.233093\n",
      "[21]\tvalid_0's binary_logloss: 0.229913\n",
      "[22]\tvalid_0's binary_logloss: 0.226276\n",
      "[23]\tvalid_0's binary_logloss: 0.223249\n",
      "[24]\tvalid_0's binary_logloss: 0.220981\n",
      "[25]\tvalid_0's binary_logloss: 0.21893\n",
      "[26]\tvalid_0's binary_logloss: 0.216754\n",
      "[27]\tvalid_0's binary_logloss: 0.214638\n",
      "[28]\tvalid_0's binary_logloss: 0.213277\n",
      "[29]\tvalid_0's binary_logloss: 0.211695\n",
      "[30]\tvalid_0's binary_logloss: 0.210109\n",
      "[31]\tvalid_0's binary_logloss: 0.208154\n",
      "[32]\tvalid_0's binary_logloss: 0.207632\n",
      "[33]\tvalid_0's binary_logloss: 0.206273\n",
      "[34]\tvalid_0's binary_logloss: 0.205013\n",
      "[35]\tvalid_0's binary_logloss: 0.203513\n",
      "[36]\tvalid_0's binary_logloss: 0.203874\n",
      "[37]\tvalid_0's binary_logloss: 0.202842\n",
      "[38]\tvalid_0's binary_logloss: 0.202544\n",
      "[39]\tvalid_0's binary_logloss: 0.201133\n",
      "[40]\tvalid_0's binary_logloss: 0.199856\n",
      "[41]\tvalid_0's binary_logloss: 0.199741\n",
      "[42]\tvalid_0's binary_logloss: 0.199354\n",
      "[43]\tvalid_0's binary_logloss: 0.199285\n",
      "[44]\tvalid_0's binary_logloss: 0.199169\n",
      "[45]\tvalid_0's binary_logloss: 0.19862\n",
      "[46]\tvalid_0's binary_logloss: 0.198587\n",
      "[47]\tvalid_0's binary_logloss: 0.198329\n",
      "[48]\tvalid_0's binary_logloss: 0.197459\n",
      "[49]\tvalid_0's binary_logloss: 0.196976\n",
      "[50]\tvalid_0's binary_logloss: 0.196571\n",
      "[51]\tvalid_0's binary_logloss: 0.195899\n",
      "[52]\tvalid_0's binary_logloss: 0.195443\n",
      "[53]\tvalid_0's binary_logloss: 0.196012\n",
      "[54]\tvalid_0's binary_logloss: 0.195895\n",
      "[55]\tvalid_0's binary_logloss: 0.195955\n",
      "[56]\tvalid_0's binary_logloss: 0.19587\n",
      "[57]\tvalid_0's binary_logloss: 0.19547\n",
      "[58]\tvalid_0's binary_logloss: 0.195672\n",
      "[59]\tvalid_0's binary_logloss: 0.195537\n",
      "[60]\tvalid_0's binary_logloss: 0.195088\n",
      "[61]\tvalid_0's binary_logloss: 0.195177\n",
      "[62]\tvalid_0's binary_logloss: 0.1949\n",
      "[63]\tvalid_0's binary_logloss: 0.194923\n",
      "[64]\tvalid_0's binary_logloss: 0.194833\n",
      "[65]\tvalid_0's binary_logloss: 0.194458\n",
      "[66]\tvalid_0's binary_logloss: 0.194219\n",
      "[67]\tvalid_0's binary_logloss: 0.194463\n",
      "[68]\tvalid_0's binary_logloss: 0.193698\n",
      "[69]\tvalid_0's binary_logloss: 0.193701\n",
      "[70]\tvalid_0's binary_logloss: 0.193929\n",
      "[71]\tvalid_0's binary_logloss: 0.193838\n",
      "[72]\tvalid_0's binary_logloss: 0.193622\n",
      "[73]\tvalid_0's binary_logloss: 0.19364\n",
      "[74]\tvalid_0's binary_logloss: 0.193594\n",
      "[75]\tvalid_0's binary_logloss: 0.19374\n",
      "[76]\tvalid_0's binary_logloss: 0.193595\n",
      "[77]\tvalid_0's binary_logloss: 0.193655\n",
      "[78]\tvalid_0's binary_logloss: 0.194145\n",
      "[79]\tvalid_0's binary_logloss: 0.194116\n",
      "[80]\tvalid_0's binary_logloss: 0.194719\n",
      "[81]\tvalid_0's binary_logloss: 0.195041\n",
      "[82]\tvalid_0's binary_logloss: 0.195531\n",
      "[83]\tvalid_0's binary_logloss: 0.195856\n",
      "[84]\tvalid_0's binary_logloss: 0.195665\n",
      "[85]\tvalid_0's binary_logloss: 0.195706\n",
      "[86]\tvalid_0's binary_logloss: 0.195408\n",
      "[87]\tvalid_0's binary_logloss: 0.19475\n",
      "[88]\tvalid_0's binary_logloss: 0.194463\n",
      "[89]\tvalid_0's binary_logloss: 0.194337\n",
      "[90]\tvalid_0's binary_logloss: 0.194504\n",
      "[91]\tvalid_0's binary_logloss: 0.194496\n",
      "[92]\tvalid_0's binary_logloss: 0.194345\n",
      "[93]\tvalid_0's binary_logloss: 0.194291\n",
      "[94]\tvalid_0's binary_logloss: 0.194142\n",
      "evaluating on the training set...\n",
      "fitting HMM smoother...\n",
      "fitting forward-backward smoother...\n"
     ]
    },
    {
     "name": "stderr",
     "output_type": "stream",
     "text": [
      "/home/roton/miniconda3/envs/mars/lib/python3.7/site-packages/sklearn/utils/validation.py:70: FutureWarning: Pass threshold=0.5 as keyword args. From version 0.25 passing these as positional arguments will result in an error\n",
      "  FutureWarning)\n"
     ]
    },
    {
     "name": "stdout",
     "output_type": "stream",
     "text": [
      "HMM label smoothing training took 0.29 mins\n",
      "performance on training set:\n",
      "P: 0.9505, R: 0.9470, F1: 0.9488    investigation\n",
      "done training!\n",
      "complete training took 4.65 mins\n",
      "loading test data...\n"
     ]
    },
    {
     "name": "stderr",
     "output_type": "stream",
     "text": [
      "Filtering sequence 0/27    0% --  [Elapsed Time: 0:00:00] |  | (ETA:  --:--:--) \r"
     ]
    },
    {
     "name": "stdout",
     "output_type": "stream",
     "text": [
      "sorting features and applying filters...\n"
     ]
    },
    {
     "name": "stderr",
     "output_type": "stream",
     "text": [
      "Filtering sequence 27/27  100% --  [Elapsed Time: 0:05:24] |##| (Time: 0:05:24) \n"
     ]
    },
    {
     "name": "stdout",
     "output_type": "stream",
     "text": [
      "done!\n",
      "\n",
      "loaded test data: 364826 X 3408 - ['investigation'] \n",
      "loading classifiers from /media/storage/ryan/mabe_challenge/behavior/trained_classifiers/mabe_challenge_lgt_es20_wnd/\n",
      "n_classes = 4\n",
      "{'attack': 0, 'investigation': 1, 'mount': 2, 'other': 3}\n",
      "predicting investigation...\n",
      "inference took 60.17 sec\n",
      " \n",
      "Classifier performance:\n"
     ]
    },
    {
     "name": "stderr",
     "output_type": "stream",
     "text": [
      "/home/roton/miniconda3/envs/mars/lib/python3.7/site-packages/sklearn/metrics/_classification.py:1221: UndefinedMetricWarning: Precision and F-score are ill-defined and being set to 0.0 in labels with no predicted samples. Use `zero_division` parameter to control this behavior.\n",
      "  _warn_prf(average, modifier, msg_start, len(result))\n",
      "/home/roton/miniconda3/envs/mars/lib/python3.7/site-packages/sklearn/metrics/_classification.py:1221: UndefinedMetricWarning: Recall and F-score are ill-defined and being set to 0.0 in labels with no true samples. Use `zero_division` parameter to control this behavior.\n",
      "  _warn_prf(average, modifier, msg_start, len(result))\n"
     ]
    },
    {
     "name": "stdout",
     "output_type": "stream",
     "text": [
      "              attack   investigation   other    \n",
      "  Precision:    0.0      0.851      0.0     \n",
      "     Recall:    0.0      0.807      0.0     \n",
      "   F1 Score:    0.0      0.828      0.0     \n",
      "Loop: 8\n",
      "val set size: 33034\n",
      "training set size: 223308.0\n",
      "loading training data...\n"
     ]
    },
    {
     "name": "stderr",
     "output_type": "stream",
     "text": [
      "Filtering sequence 0/25    0% --  [Elapsed Time: 0:00:00] |  | (ETA:  --:--:--) \r"
     ]
    },
    {
     "name": "stdout",
     "output_type": "stream",
     "text": [
      "sorting features and applying filters...\n"
     ]
    },
    {
     "name": "stderr",
     "output_type": "stream",
     "text": [
      "Filtering sequence 25/25  100% --  [Elapsed Time: 0:03:02] |##| (Time: 0:03:02) \n"
     ]
    },
    {
     "name": "stdout",
     "output_type": "stream",
     "text": [
      "done!\n",
      "\n",
      "loading validation data...\n"
     ]
    },
    {
     "name": "stderr",
     "output_type": "stream",
     "text": [
      "Filtering sequence 0/6    0% --  [Elapsed Time: 0:00:00] |   | (ETA:  --:--:--) \r"
     ]
    },
    {
     "name": "stdout",
     "output_type": "stream",
     "text": [
      "sorting features and applying filters...\n"
     ]
    },
    {
     "name": "stderr",
     "output_type": "stream",
     "text": [
      "Filtering sequence 6/6  100% --  [Elapsed Time: 0:00:27] |####| (Time: 0:00:27) \n"
     ]
    },
    {
     "name": "stdout",
     "output_type": "stream",
     "text": [
      "done!\n",
      "\n",
      "loaded training data: 223308 X 3408 - ['investigation'] \n",
      "Training classifier: MABE_CHALLENGE_LGT_ES20_WND/\n",
      "######################### investigation #########################\n",
      "training using 60104 positive frames (871 bouts)\n",
      "fitting preprocessing parameters...\n",
      "fitting clf for investigation\n",
      "    training set: 60104 positive / 223308 total (26 %)\n",
      "    eval set: 8403 positive / 33034 total (25 %)\n",
      "  + early stopping\n"
     ]
    },
    {
     "name": "stderr",
     "output_type": "stream",
     "text": [
      "/home/roton/miniconda3/envs/mars/lib/python3.7/site-packages/lightgbm/sklearn.py:726: UserWarning: 'early_stopping_rounds' argument is deprecated and will be removed in a future release of LightGBM. Pass 'early_stopping()' callback via 'callbacks' argument instead.\n",
      "  _log_warning(\"'early_stopping_rounds' argument is deprecated and will be removed in a future release of LightGBM. \"\n",
      "/home/roton/miniconda3/envs/mars/lib/python3.7/site-packages/lightgbm/sklearn.py:736: UserWarning: 'verbose' argument is deprecated and will be removed in a future release of LightGBM. Pass 'log_evaluation()' callback via 'callbacks' argument instead.\n",
      "  _log_warning(\"'verbose' argument is deprecated and will be removed in a future release of LightGBM. \"\n"
     ]
    },
    {
     "name": "stdout",
     "output_type": "stream",
     "text": [
      "[1]\tvalid_0's binary_logloss: 0.513938\n",
      "[2]\tvalid_0's binary_logloss: 0.471213\n",
      "[3]\tvalid_0's binary_logloss: 0.434977\n",
      "[4]\tvalid_0's binary_logloss: 0.407741\n",
      "[5]\tvalid_0's binary_logloss: 0.383634\n",
      "[6]\tvalid_0's binary_logloss: 0.361232\n",
      "[7]\tvalid_0's binary_logloss: 0.343224\n",
      "[8]\tvalid_0's binary_logloss: 0.326926\n",
      "[9]\tvalid_0's binary_logloss: 0.31377\n",
      "[10]\tvalid_0's binary_logloss: 0.301192\n",
      "[11]\tvalid_0's binary_logloss: 0.290185\n",
      "[12]\tvalid_0's binary_logloss: 0.280947\n",
      "[13]\tvalid_0's binary_logloss: 0.272774\n",
      "[14]\tvalid_0's binary_logloss: 0.265737\n",
      "[15]\tvalid_0's binary_logloss: 0.260162\n",
      "[16]\tvalid_0's binary_logloss: 0.253557\n",
      "[17]\tvalid_0's binary_logloss: 0.248167\n",
      "[18]\tvalid_0's binary_logloss: 0.24316\n",
      "[19]\tvalid_0's binary_logloss: 0.238553\n",
      "[20]\tvalid_0's binary_logloss: 0.23518\n",
      "[21]\tvalid_0's binary_logloss: 0.232494\n",
      "[22]\tvalid_0's binary_logloss: 0.228632\n",
      "[23]\tvalid_0's binary_logloss: 0.225261\n",
      "[24]\tvalid_0's binary_logloss: 0.223583\n",
      "[25]\tvalid_0's binary_logloss: 0.222539\n",
      "[26]\tvalid_0's binary_logloss: 0.220965\n",
      "[27]\tvalid_0's binary_logloss: 0.218889\n",
      "[28]\tvalid_0's binary_logloss: 0.21691\n",
      "[29]\tvalid_0's binary_logloss: 0.21547\n",
      "[30]\tvalid_0's binary_logloss: 0.214477\n",
      "[31]\tvalid_0's binary_logloss: 0.214421\n",
      "[32]\tvalid_0's binary_logloss: 0.212637\n",
      "[33]\tvalid_0's binary_logloss: 0.211594\n",
      "[34]\tvalid_0's binary_logloss: 0.209695\n",
      "[35]\tvalid_0's binary_logloss: 0.208358\n",
      "[36]\tvalid_0's binary_logloss: 0.207551\n",
      "[37]\tvalid_0's binary_logloss: 0.206484\n",
      "[38]\tvalid_0's binary_logloss: 0.205566\n",
      "[39]\tvalid_0's binary_logloss: 0.205236\n",
      "[40]\tvalid_0's binary_logloss: 0.204269\n",
      "[41]\tvalid_0's binary_logloss: 0.204268\n",
      "[42]\tvalid_0's binary_logloss: 0.203872\n",
      "[43]\tvalid_0's binary_logloss: 0.203585\n",
      "[44]\tvalid_0's binary_logloss: 0.20329\n",
      "[45]\tvalid_0's binary_logloss: 0.202747\n",
      "[46]\tvalid_0's binary_logloss: 0.202676\n",
      "[47]\tvalid_0's binary_logloss: 0.20337\n",
      "[48]\tvalid_0's binary_logloss: 0.20366\n",
      "[49]\tvalid_0's binary_logloss: 0.202874\n",
      "[50]\tvalid_0's binary_logloss: 0.203072\n",
      "[51]\tvalid_0's binary_logloss: 0.202397\n",
      "[52]\tvalid_0's binary_logloss: 0.202006\n",
      "[53]\tvalid_0's binary_logloss: 0.201149\n",
      "[54]\tvalid_0's binary_logloss: 0.200762\n",
      "[55]\tvalid_0's binary_logloss: 0.200844\n",
      "[56]\tvalid_0's binary_logloss: 0.200665\n",
      "[57]\tvalid_0's binary_logloss: 0.199978\n",
      "[58]\tvalid_0's binary_logloss: 0.199439\n",
      "[59]\tvalid_0's binary_logloss: 0.199207\n",
      "[60]\tvalid_0's binary_logloss: 0.199064\n",
      "[61]\tvalid_0's binary_logloss: 0.199278\n",
      "[62]\tvalid_0's binary_logloss: 0.198971\n",
      "[63]\tvalid_0's binary_logloss: 0.198396\n",
      "[64]\tvalid_0's binary_logloss: 0.198228\n",
      "[65]\tvalid_0's binary_logloss: 0.198156\n",
      "[66]\tvalid_0's binary_logloss: 0.197708\n",
      "[67]\tvalid_0's binary_logloss: 0.197643\n",
      "[68]\tvalid_0's binary_logloss: 0.197706\n",
      "[69]\tvalid_0's binary_logloss: 0.197762\n",
      "[70]\tvalid_0's binary_logloss: 0.197545\n",
      "[71]\tvalid_0's binary_logloss: 0.197471\n",
      "[72]\tvalid_0's binary_logloss: 0.197064\n",
      "[73]\tvalid_0's binary_logloss: 0.197219\n",
      "[74]\tvalid_0's binary_logloss: 0.197544\n",
      "[75]\tvalid_0's binary_logloss: 0.197407\n",
      "[76]\tvalid_0's binary_logloss: 0.197063\n",
      "[77]\tvalid_0's binary_logloss: 0.196963\n",
      "[78]\tvalid_0's binary_logloss: 0.19704\n",
      "[79]\tvalid_0's binary_logloss: 0.197007\n",
      "[80]\tvalid_0's binary_logloss: 0.19688\n",
      "[81]\tvalid_0's binary_logloss: 0.197532\n",
      "[82]\tvalid_0's binary_logloss: 0.197599\n",
      "[83]\tvalid_0's binary_logloss: 0.197894\n",
      "[84]\tvalid_0's binary_logloss: 0.196789\n",
      "[85]\tvalid_0's binary_logloss: 0.196832\n",
      "[86]\tvalid_0's binary_logloss: 0.197152\n",
      "[87]\tvalid_0's binary_logloss: 0.197086\n",
      "[88]\tvalid_0's binary_logloss: 0.197253\n",
      "[89]\tvalid_0's binary_logloss: 0.196937\n",
      "[90]\tvalid_0's binary_logloss: 0.1965\n",
      "[91]\tvalid_0's binary_logloss: 0.196616\n",
      "[92]\tvalid_0's binary_logloss: 0.196769\n",
      "[93]\tvalid_0's binary_logloss: 0.196959\n",
      "[94]\tvalid_0's binary_logloss: 0.196872\n",
      "[95]\tvalid_0's binary_logloss: 0.196364\n",
      "[96]\tvalid_0's binary_logloss: 0.196667\n",
      "[97]\tvalid_0's binary_logloss: 0.196506\n",
      "[98]\tvalid_0's binary_logloss: 0.196651\n",
      "[99]\tvalid_0's binary_logloss: 0.196742\n",
      "[100]\tvalid_0's binary_logloss: 0.196802\n",
      "[101]\tvalid_0's binary_logloss: 0.19655\n",
      "[102]\tvalid_0's binary_logloss: 0.196421\n",
      "[103]\tvalid_0's binary_logloss: 0.195887\n",
      "[104]\tvalid_0's binary_logloss: 0.195932\n",
      "[105]\tvalid_0's binary_logloss: 0.195625\n",
      "[106]\tvalid_0's binary_logloss: 0.196013\n",
      "[107]\tvalid_0's binary_logloss: 0.196011\n",
      "[108]\tvalid_0's binary_logloss: 0.196537\n",
      "[109]\tvalid_0's binary_logloss: 0.196495\n",
      "[110]\tvalid_0's binary_logloss: 0.196736\n",
      "[111]\tvalid_0's binary_logloss: 0.19676\n",
      "[112]\tvalid_0's binary_logloss: 0.196636\n",
      "[113]\tvalid_0's binary_logloss: 0.196465\n",
      "[114]\tvalid_0's binary_logloss: 0.196325\n",
      "[115]\tvalid_0's binary_logloss: 0.196019\n",
      "[116]\tvalid_0's binary_logloss: 0.195956\n",
      "[117]\tvalid_0's binary_logloss: 0.195677\n",
      "[118]\tvalid_0's binary_logloss: 0.195431\n",
      "[119]\tvalid_0's binary_logloss: 0.195392\n",
      "[120]\tvalid_0's binary_logloss: 0.195328\n",
      "[121]\tvalid_0's binary_logloss: 0.195387\n",
      "[122]\tvalid_0's binary_logloss: 0.19538\n",
      "[123]\tvalid_0's binary_logloss: 0.195433\n",
      "[124]\tvalid_0's binary_logloss: 0.195361\n",
      "[125]\tvalid_0's binary_logloss: 0.195463\n",
      "[126]\tvalid_0's binary_logloss: 0.195303\n",
      "[127]\tvalid_0's binary_logloss: 0.19511\n",
      "[128]\tvalid_0's binary_logloss: 0.195056\n",
      "[129]\tvalid_0's binary_logloss: 0.195474\n",
      "[130]\tvalid_0's binary_logloss: 0.195096\n",
      "[131]\tvalid_0's binary_logloss: 0.195431\n",
      "[132]\tvalid_0's binary_logloss: 0.195673\n",
      "[133]\tvalid_0's binary_logloss: 0.195494\n",
      "[134]\tvalid_0's binary_logloss: 0.195483\n",
      "[135]\tvalid_0's binary_logloss: 0.195299\n",
      "[136]\tvalid_0's binary_logloss: 0.195655\n",
      "[137]\tvalid_0's binary_logloss: 0.195594\n",
      "[138]\tvalid_0's binary_logloss: 0.195881\n",
      "[139]\tvalid_0's binary_logloss: 0.195778\n",
      "[140]\tvalid_0's binary_logloss: 0.195638\n",
      "[141]\tvalid_0's binary_logloss: 0.195734\n",
      "[142]\tvalid_0's binary_logloss: 0.195793\n",
      "[143]\tvalid_0's binary_logloss: 0.195526\n",
      "[144]\tvalid_0's binary_logloss: 0.195692\n",
      "[145]\tvalid_0's binary_logloss: 0.195539\n",
      "[146]\tvalid_0's binary_logloss: 0.195358\n",
      "[147]\tvalid_0's binary_logloss: 0.19548\n",
      "[148]\tvalid_0's binary_logloss: 0.195713\n",
      "evaluating on the training set...\n",
      "fitting HMM smoother...\n",
      "fitting forward-backward smoother...\n"
     ]
    },
    {
     "name": "stderr",
     "output_type": "stream",
     "text": [
      "/home/roton/miniconda3/envs/mars/lib/python3.7/site-packages/sklearn/utils/validation.py:70: FutureWarning: Pass threshold=0.5 as keyword args. From version 0.25 passing these as positional arguments will result in an error\n",
      "  FutureWarning)\n"
     ]
    },
    {
     "name": "stdout",
     "output_type": "stream",
     "text": [
      "HMM label smoothing training took 0.33 mins\n",
      "performance on training set:\n",
      "P: 0.9658, R: 0.9613, F1: 0.9635    investigation\n",
      "done training!\n",
      "complete training took 7.09 mins\n",
      "loading test data...\n"
     ]
    },
    {
     "name": "stderr",
     "output_type": "stream",
     "text": [
      "Filtering sequence 0/27    0% --  [Elapsed Time: 0:00:00] |  | (ETA:  --:--:--) \r"
     ]
    },
    {
     "name": "stdout",
     "output_type": "stream",
     "text": [
      "sorting features and applying filters...\n"
     ]
    },
    {
     "name": "stderr",
     "output_type": "stream",
     "text": [
      "Filtering sequence 27/27  100% --  [Elapsed Time: 0:05:06] |##| (Time: 0:05:06) \n"
     ]
    },
    {
     "name": "stdout",
     "output_type": "stream",
     "text": [
      "done!\n",
      "\n",
      "loaded test data: 364826 X 3408 - ['investigation'] \n",
      "loading classifiers from /media/storage/ryan/mabe_challenge/behavior/trained_classifiers/mabe_challenge_lgt_es20_wnd/\n",
      "n_classes = 4\n",
      "{'attack': 0, 'investigation': 1, 'mount': 2, 'other': 3}\n",
      "predicting investigation...\n",
      "inference took 60.86 sec\n",
      " \n",
      "Classifier performance:\n"
     ]
    },
    {
     "name": "stderr",
     "output_type": "stream",
     "text": [
      "/home/roton/miniconda3/envs/mars/lib/python3.7/site-packages/sklearn/metrics/_classification.py:1221: UndefinedMetricWarning: Precision and F-score are ill-defined and being set to 0.0 in labels with no predicted samples. Use `zero_division` parameter to control this behavior.\n",
      "  _warn_prf(average, modifier, msg_start, len(result))\n",
      "/home/roton/miniconda3/envs/mars/lib/python3.7/site-packages/sklearn/metrics/_classification.py:1221: UndefinedMetricWarning: Recall and F-score are ill-defined and being set to 0.0 in labels with no true samples. Use `zero_division` parameter to control this behavior.\n",
      "  _warn_prf(average, modifier, msg_start, len(result))\n"
     ]
    },
    {
     "name": "stdout",
     "output_type": "stream",
     "text": [
      "              attack   investigation   other    \n",
      "  Precision:    0.0      0.847      0.0     \n",
      "     Recall:    0.0      0.846      0.0     \n",
      "   F1 Score:    0.0      0.846      0.0     \n",
      "Loop: 9\n",
      "val set size: 33034\n",
      "training set size: 273846.0\n",
      "loading training data...\n"
     ]
    },
    {
     "name": "stderr",
     "output_type": "stream",
     "text": [
      "Filtering sequence 0/34    0% --  [Elapsed Time: 0:00:00] |  | (ETA:  --:--:--) \r"
     ]
    },
    {
     "name": "stdout",
     "output_type": "stream",
     "text": [
      "sorting features and applying filters...\n"
     ]
    },
    {
     "name": "stderr",
     "output_type": "stream",
     "text": [
      "Filtering sequence 34/34  100% --  [Elapsed Time: 0:03:46] |##| (Time: 0:03:46) \n"
     ]
    },
    {
     "name": "stdout",
     "output_type": "stream",
     "text": [
      "done!\n",
      "\n",
      "loading validation data...\n"
     ]
    },
    {
     "name": "stderr",
     "output_type": "stream",
     "text": [
      "Filtering sequence 0/6    0% --  [Elapsed Time: 0:00:00] |   | (ETA:  --:--:--) \r"
     ]
    },
    {
     "name": "stdout",
     "output_type": "stream",
     "text": [
      "sorting features and applying filters...\n"
     ]
    },
    {
     "name": "stderr",
     "output_type": "stream",
     "text": [
      "Filtering sequence 6/6  100% --  [Elapsed Time: 0:00:27] |####| (Time: 0:00:27) \n"
     ]
    },
    {
     "name": "stdout",
     "output_type": "stream",
     "text": [
      "done!\n",
      "\n",
      "loaded training data: 273846 X 3408 - ['investigation'] \n",
      "Training classifier: MABE_CHALLENGE_LGT_ES20_WND/\n",
      "######################### investigation #########################\n",
      "training using 79380 positive frames (1045 bouts)\n",
      "fitting preprocessing parameters...\n",
      "fitting clf for investigation\n",
      "    training set: 79380 positive / 273846 total (28 %)\n",
      "    eval set: 8403 positive / 33034 total (25 %)\n",
      "  + early stopping\n"
     ]
    },
    {
     "name": "stderr",
     "output_type": "stream",
     "text": [
      "/home/roton/miniconda3/envs/mars/lib/python3.7/site-packages/lightgbm/sklearn.py:726: UserWarning: 'early_stopping_rounds' argument is deprecated and will be removed in a future release of LightGBM. Pass 'early_stopping()' callback via 'callbacks' argument instead.\n",
      "  _log_warning(\"'early_stopping_rounds' argument is deprecated and will be removed in a future release of LightGBM. \"\n",
      "/home/roton/miniconda3/envs/mars/lib/python3.7/site-packages/lightgbm/sklearn.py:736: UserWarning: 'verbose' argument is deprecated and will be removed in a future release of LightGBM. Pass 'log_evaluation()' callback via 'callbacks' argument instead.\n",
      "  _log_warning(\"'verbose' argument is deprecated and will be removed in a future release of LightGBM. \"\n"
     ]
    },
    {
     "name": "stdout",
     "output_type": "stream",
     "text": [
      "[1]\tvalid_0's binary_logloss: 0.51852\n",
      "[2]\tvalid_0's binary_logloss: 0.477087\n",
      "[3]\tvalid_0's binary_logloss: 0.442341\n",
      "[4]\tvalid_0's binary_logloss: 0.412068\n",
      "[5]\tvalid_0's binary_logloss: 0.388427\n",
      "[6]\tvalid_0's binary_logloss: 0.36721\n",
      "[7]\tvalid_0's binary_logloss: 0.347402\n",
      "[8]\tvalid_0's binary_logloss: 0.332223\n",
      "[9]\tvalid_0's binary_logloss: 0.318235\n",
      "[10]\tvalid_0's binary_logloss: 0.30609\n",
      "[11]\tvalid_0's binary_logloss: 0.294784\n",
      "[12]\tvalid_0's binary_logloss: 0.284563\n",
      "[13]\tvalid_0's binary_logloss: 0.274419\n",
      "[14]\tvalid_0's binary_logloss: 0.266107\n",
      "[15]\tvalid_0's binary_logloss: 0.258542\n",
      "[16]\tvalid_0's binary_logloss: 0.252424\n",
      "[17]\tvalid_0's binary_logloss: 0.246879\n",
      "[18]\tvalid_0's binary_logloss: 0.24197\n",
      "[19]\tvalid_0's binary_logloss: 0.237665\n",
      "[20]\tvalid_0's binary_logloss: 0.234581\n",
      "[21]\tvalid_0's binary_logloss: 0.230463\n",
      "[22]\tvalid_0's binary_logloss: 0.227357\n",
      "[23]\tvalid_0's binary_logloss: 0.224511\n",
      "[24]\tvalid_0's binary_logloss: 0.221792\n",
      "[25]\tvalid_0's binary_logloss: 0.219253\n",
      "[26]\tvalid_0's binary_logloss: 0.216309\n",
      "[27]\tvalid_0's binary_logloss: 0.21427\n",
      "[28]\tvalid_0's binary_logloss: 0.212688\n",
      "[29]\tvalid_0's binary_logloss: 0.210833\n",
      "[30]\tvalid_0's binary_logloss: 0.209115\n",
      "[31]\tvalid_0's binary_logloss: 0.206907\n",
      "[32]\tvalid_0's binary_logloss: 0.205578\n",
      "[33]\tvalid_0's binary_logloss: 0.204334\n",
      "[34]\tvalid_0's binary_logloss: 0.203001\n",
      "[35]\tvalid_0's binary_logloss: 0.202699\n",
      "[36]\tvalid_0's binary_logloss: 0.20117\n",
      "[37]\tvalid_0's binary_logloss: 0.200515\n",
      "[38]\tvalid_0's binary_logloss: 0.199712\n",
      "[39]\tvalid_0's binary_logloss: 0.19877\n",
      "[40]\tvalid_0's binary_logloss: 0.197762\n",
      "[41]\tvalid_0's binary_logloss: 0.196788\n",
      "[42]\tvalid_0's binary_logloss: 0.196212\n",
      "[43]\tvalid_0's binary_logloss: 0.196175\n",
      "[44]\tvalid_0's binary_logloss: 0.195727\n",
      "[45]\tvalid_0's binary_logloss: 0.195621\n",
      "[46]\tvalid_0's binary_logloss: 0.19524\n",
      "[47]\tvalid_0's binary_logloss: 0.195005\n",
      "[48]\tvalid_0's binary_logloss: 0.194379\n",
      "[49]\tvalid_0's binary_logloss: 0.197\n",
      "[50]\tvalid_0's binary_logloss: 0.197217\n",
      "[51]\tvalid_0's binary_logloss: 0.197246\n",
      "[52]\tvalid_0's binary_logloss: 0.196969\n",
      "[53]\tvalid_0's binary_logloss: 0.196746\n",
      "[54]\tvalid_0's binary_logloss: 0.196796\n",
      "[55]\tvalid_0's binary_logloss: 0.196278\n",
      "[56]\tvalid_0's binary_logloss: 0.195682\n",
      "[57]\tvalid_0's binary_logloss: 0.195223\n",
      "[58]\tvalid_0's binary_logloss: 0.195283\n",
      "[59]\tvalid_0's binary_logloss: 0.195156\n",
      "[60]\tvalid_0's binary_logloss: 0.195917\n",
      "[61]\tvalid_0's binary_logloss: 0.195637\n",
      "[62]\tvalid_0's binary_logloss: 0.195713\n",
      "[63]\tvalid_0's binary_logloss: 0.195271\n",
      "[64]\tvalid_0's binary_logloss: 0.19613\n",
      "[65]\tvalid_0's binary_logloss: 0.196378\n",
      "[66]\tvalid_0's binary_logloss: 0.196164\n",
      "[67]\tvalid_0's binary_logloss: 0.196782\n",
      "[68]\tvalid_0's binary_logloss: 0.196515\n",
      "evaluating on the training set...\n",
      "fitting HMM smoother...\n",
      "fitting forward-backward smoother...\n"
     ]
    },
    {
     "name": "stderr",
     "output_type": "stream",
     "text": [
      "/home/roton/miniconda3/envs/mars/lib/python3.7/site-packages/sklearn/utils/validation.py:70: FutureWarning: Pass threshold=0.5 as keyword args. From version 0.25 passing these as positional arguments will result in an error\n",
      "  FutureWarning)\n"
     ]
    },
    {
     "name": "stdout",
     "output_type": "stream",
     "text": [
      "HMM label smoothing training took 0.21 mins\n",
      "performance on training set:\n",
      "P: 0.9033, R: 0.9066, F1: 0.9049    investigation\n",
      "done training!\n",
      "complete training took 5.27 mins\n",
      "loading test data...\n"
     ]
    },
    {
     "name": "stderr",
     "output_type": "stream",
     "text": [
      "Filtering sequence 0/27    0% --  [Elapsed Time: 0:00:00] |  | (ETA:  --:--:--) \r"
     ]
    },
    {
     "name": "stdout",
     "output_type": "stream",
     "text": [
      "sorting features and applying filters...\n"
     ]
    },
    {
     "name": "stderr",
     "output_type": "stream",
     "text": [
      "Filtering sequence 27/27  100% --  [Elapsed Time: 0:05:16] |##| (Time: 0:05:16) \n"
     ]
    },
    {
     "name": "stdout",
     "output_type": "stream",
     "text": [
      "done!\n",
      "\n",
      "loaded test data: 364826 X 3408 - ['investigation'] \n",
      "loading classifiers from /media/storage/ryan/mabe_challenge/behavior/trained_classifiers/mabe_challenge_lgt_es20_wnd/\n",
      "n_classes = 4\n",
      "{'attack': 0, 'investigation': 1, 'mount': 2, 'other': 3}\n",
      "predicting investigation...\n",
      "inference took 58.91 sec\n",
      " \n",
      "Classifier performance:\n"
     ]
    },
    {
     "name": "stderr",
     "output_type": "stream",
     "text": [
      "/home/roton/miniconda3/envs/mars/lib/python3.7/site-packages/sklearn/metrics/_classification.py:1221: UndefinedMetricWarning: Precision and F-score are ill-defined and being set to 0.0 in labels with no predicted samples. Use `zero_division` parameter to control this behavior.\n",
      "  _warn_prf(average, modifier, msg_start, len(result))\n",
      "/home/roton/miniconda3/envs/mars/lib/python3.7/site-packages/sklearn/metrics/_classification.py:1221: UndefinedMetricWarning: Recall and F-score are ill-defined and being set to 0.0 in labels with no true samples. Use `zero_division` parameter to control this behavior.\n",
      "  _warn_prf(average, modifier, msg_start, len(result))\n"
     ]
    },
    {
     "name": "stdout",
     "output_type": "stream",
     "text": [
      "              attack   investigation   other    \n",
      "  Precision:    0.0      0.845      0.0     \n",
      "     Recall:    0.0      0.837      0.0     \n",
      "   F1 Score:    0.0      0.841      0.0     \n",
      "Loop: 10\n",
      "val set size: 40467\n",
      "training set size: 316969.0\n",
      "loading training data...\n"
     ]
    },
    {
     "name": "stderr",
     "output_type": "stream",
     "text": [
      "Filtering sequence 0/40    0% --  [Elapsed Time: 0:00:00] |  | (ETA:  --:--:--) \r"
     ]
    },
    {
     "name": "stdout",
     "output_type": "stream",
     "text": [
      "sorting features and applying filters...\n"
     ]
    },
    {
     "name": "stderr",
     "output_type": "stream",
     "text": [
      "Filtering sequence 40/40  100% --  [Elapsed Time: 0:04:17] |##| (Time: 0:04:17) \n"
     ]
    },
    {
     "name": "stdout",
     "output_type": "stream",
     "text": [
      "done!\n",
      "\n",
      "loading validation data...\n"
     ]
    },
    {
     "name": "stderr",
     "output_type": "stream",
     "text": [
      "Filtering sequence 0/7    0% --  [Elapsed Time: 0:00:00] |   | (ETA:  --:--:--) \r"
     ]
    },
    {
     "name": "stdout",
     "output_type": "stream",
     "text": [
      "sorting features and applying filters...\n"
     ]
    },
    {
     "name": "stderr",
     "output_type": "stream",
     "text": [
      "Filtering sequence 7/7  100% --  [Elapsed Time: 0:00:34] |####| (Time: 0:00:34) \n"
     ]
    },
    {
     "name": "stdout",
     "output_type": "stream",
     "text": [
      "done!\n",
      "\n",
      "loaded training data: 316969 X 3408 - ['investigation'] \n",
      "Training classifier: MABE_CHALLENGE_LGT_ES20_WND/\n",
      "######################### investigation #########################\n",
      "training using 93620 positive frames (1205 bouts)\n",
      "fitting preprocessing parameters...\n",
      "fitting clf for investigation\n",
      "    training set: 93620 positive / 316969 total (29 %)\n",
      "    eval set: 9625 positive / 40467 total (23 %)\n",
      "  + early stopping\n"
     ]
    },
    {
     "name": "stderr",
     "output_type": "stream",
     "text": [
      "/home/roton/miniconda3/envs/mars/lib/python3.7/site-packages/lightgbm/sklearn.py:726: UserWarning: 'early_stopping_rounds' argument is deprecated and will be removed in a future release of LightGBM. Pass 'early_stopping()' callback via 'callbacks' argument instead.\n",
      "  _log_warning(\"'early_stopping_rounds' argument is deprecated and will be removed in a future release of LightGBM. \"\n",
      "/home/roton/miniconda3/envs/mars/lib/python3.7/site-packages/lightgbm/sklearn.py:736: UserWarning: 'verbose' argument is deprecated and will be removed in a future release of LightGBM. Pass 'log_evaluation()' callback via 'callbacks' argument instead.\n",
      "  _log_warning(\"'verbose' argument is deprecated and will be removed in a future release of LightGBM. \"\n"
     ]
    },
    {
     "name": "stdout",
     "output_type": "stream",
     "text": [
      "[1]\tvalid_0's binary_logloss: 0.505815\n",
      "[2]\tvalid_0's binary_logloss: 0.465389\n",
      "[3]\tvalid_0's binary_logloss: 0.431661\n",
      "[4]\tvalid_0's binary_logloss: 0.404194\n",
      "[5]\tvalid_0's binary_logloss: 0.379703\n",
      "[6]\tvalid_0's binary_logloss: 0.358693\n",
      "[7]\tvalid_0's binary_logloss: 0.34003\n",
      "[8]\tvalid_0's binary_logloss: 0.324418\n",
      "[9]\tvalid_0's binary_logloss: 0.310789\n",
      "[10]\tvalid_0's binary_logloss: 0.298127\n",
      "[11]\tvalid_0's binary_logloss: 0.287741\n",
      "[12]\tvalid_0's binary_logloss: 0.278365\n",
      "[13]\tvalid_0's binary_logloss: 0.269728\n",
      "[14]\tvalid_0's binary_logloss: 0.262102\n",
      "[15]\tvalid_0's binary_logloss: 0.255515\n",
      "[16]\tvalid_0's binary_logloss: 0.248701\n",
      "[17]\tvalid_0's binary_logloss: 0.243285\n",
      "[18]\tvalid_0's binary_logloss: 0.237932\n",
      "[19]\tvalid_0's binary_logloss: 0.233898\n",
      "[20]\tvalid_0's binary_logloss: 0.229615\n",
      "[21]\tvalid_0's binary_logloss: 0.226312\n",
      "[22]\tvalid_0's binary_logloss: 0.222713\n",
      "[23]\tvalid_0's binary_logloss: 0.21996\n",
      "[24]\tvalid_0's binary_logloss: 0.217333\n",
      "[25]\tvalid_0's binary_logloss: 0.215031\n",
      "[26]\tvalid_0's binary_logloss: 0.2127\n",
      "[27]\tvalid_0's binary_logloss: 0.211241\n",
      "[28]\tvalid_0's binary_logloss: 0.209206\n",
      "[29]\tvalid_0's binary_logloss: 0.207627\n",
      "[30]\tvalid_0's binary_logloss: 0.205676\n",
      "[31]\tvalid_0's binary_logloss: 0.204859\n",
      "[32]\tvalid_0's binary_logloss: 0.203842\n",
      "[33]\tvalid_0's binary_logloss: 0.202447\n",
      "[34]\tvalid_0's binary_logloss: 0.201468\n",
      "[35]\tvalid_0's binary_logloss: 0.200512\n",
      "[36]\tvalid_0's binary_logloss: 0.199408\n",
      "[37]\tvalid_0's binary_logloss: 0.19878\n",
      "[38]\tvalid_0's binary_logloss: 0.19854\n",
      "[39]\tvalid_0's binary_logloss: 0.197784\n",
      "[40]\tvalid_0's binary_logloss: 0.197339\n",
      "[41]\tvalid_0's binary_logloss: 0.196748\n",
      "[42]\tvalid_0's binary_logloss: 0.196153\n",
      "[43]\tvalid_0's binary_logloss: 0.19547\n",
      "[44]\tvalid_0's binary_logloss: 0.195153\n",
      "[45]\tvalid_0's binary_logloss: 0.195201\n",
      "[46]\tvalid_0's binary_logloss: 0.195007\n",
      "[47]\tvalid_0's binary_logloss: 0.195024\n",
      "[48]\tvalid_0's binary_logloss: 0.195108\n",
      "[49]\tvalid_0's binary_logloss: 0.194708\n",
      "[50]\tvalid_0's binary_logloss: 0.194325\n",
      "[51]\tvalid_0's binary_logloss: 0.19433\n",
      "[52]\tvalid_0's binary_logloss: 0.194133\n",
      "[53]\tvalid_0's binary_logloss: 0.194355\n",
      "[54]\tvalid_0's binary_logloss: 0.194182\n",
      "[55]\tvalid_0's binary_logloss: 0.193687\n",
      "[56]\tvalid_0's binary_logloss: 0.193247\n",
      "[57]\tvalid_0's binary_logloss: 0.192929\n",
      "[58]\tvalid_0's binary_logloss: 0.193077\n",
      "[59]\tvalid_0's binary_logloss: 0.193163\n",
      "[60]\tvalid_0's binary_logloss: 0.193259\n",
      "[61]\tvalid_0's binary_logloss: 0.193193\n",
      "[62]\tvalid_0's binary_logloss: 0.192802\n",
      "[63]\tvalid_0's binary_logloss: 0.192458\n",
      "[64]\tvalid_0's binary_logloss: 0.192088\n",
      "[65]\tvalid_0's binary_logloss: 0.192243\n",
      "[66]\tvalid_0's binary_logloss: 0.192188\n",
      "[67]\tvalid_0's binary_logloss: 0.192085\n",
      "[68]\tvalid_0's binary_logloss: 0.192488\n",
      "[69]\tvalid_0's binary_logloss: 0.192806\n",
      "[70]\tvalid_0's binary_logloss: 0.192657\n",
      "[71]\tvalid_0's binary_logloss: 0.192731\n",
      "[72]\tvalid_0's binary_logloss: 0.192808\n",
      "[73]\tvalid_0's binary_logloss: 0.192605\n",
      "[74]\tvalid_0's binary_logloss: 0.192515\n",
      "[75]\tvalid_0's binary_logloss: 0.192651\n",
      "[76]\tvalid_0's binary_logloss: 0.193185\n",
      "[77]\tvalid_0's binary_logloss: 0.192975\n",
      "[78]\tvalid_0's binary_logloss: 0.192766\n",
      "[79]\tvalid_0's binary_logloss: 0.193122\n",
      "[80]\tvalid_0's binary_logloss: 0.193355\n",
      "[81]\tvalid_0's binary_logloss: 0.193357\n",
      "[82]\tvalid_0's binary_logloss: 0.193189\n",
      "[83]\tvalid_0's binary_logloss: 0.193545\n",
      "[84]\tvalid_0's binary_logloss: 0.193534\n",
      "[85]\tvalid_0's binary_logloss: 0.193127\n",
      "[86]\tvalid_0's binary_logloss: 0.19303\n",
      "[87]\tvalid_0's binary_logloss: 0.193101\n",
      "evaluating on the training set...\n",
      "fitting HMM smoother...\n",
      "fitting forward-backward smoother...\n"
     ]
    },
    {
     "name": "stderr",
     "output_type": "stream",
     "text": [
      "/home/roton/miniconda3/envs/mars/lib/python3.7/site-packages/sklearn/utils/validation.py:70: FutureWarning: Pass threshold=0.5 as keyword args. From version 0.25 passing these as positional arguments will result in an error\n",
      "  FutureWarning)\n"
     ]
    },
    {
     "name": "stdout",
     "output_type": "stream",
     "text": [
      "HMM label smoothing training took 0.18 mins\n",
      "performance on training set:\n",
      "P: 0.9104, R: 0.9188, F1: 0.9146    investigation\n",
      "done training!\n",
      "complete training took 6.01 mins\n",
      "loading test data...\n"
     ]
    },
    {
     "name": "stderr",
     "output_type": "stream",
     "text": [
      "Filtering sequence 0/27    0% --  [Elapsed Time: 0:00:00] |  | (ETA:  --:--:--) \r"
     ]
    },
    {
     "name": "stdout",
     "output_type": "stream",
     "text": [
      "sorting features and applying filters...\n"
     ]
    },
    {
     "name": "stderr",
     "output_type": "stream",
     "text": [
      "Filtering sequence 27/27  100% --  [Elapsed Time: 0:05:19] |##| (Time: 0:05:19) \n"
     ]
    },
    {
     "name": "stdout",
     "output_type": "stream",
     "text": [
      "done!\n",
      "\n",
      "loaded test data: 364826 X 3408 - ['investigation'] \n",
      "loading classifiers from /media/storage/ryan/mabe_challenge/behavior/trained_classifiers/mabe_challenge_lgt_es20_wnd/\n",
      "n_classes = 4\n",
      "{'attack': 0, 'investigation': 1, 'mount': 2, 'other': 3}\n",
      "predicting investigation...\n",
      "inference took 57.62 sec\n",
      " \n",
      "Classifier performance:\n"
     ]
    },
    {
     "name": "stderr",
     "output_type": "stream",
     "text": [
      "/home/roton/miniconda3/envs/mars/lib/python3.7/site-packages/sklearn/metrics/_classification.py:1221: UndefinedMetricWarning: Precision and F-score are ill-defined and being set to 0.0 in labels with no predicted samples. Use `zero_division` parameter to control this behavior.\n",
      "  _warn_prf(average, modifier, msg_start, len(result))\n",
      "/home/roton/miniconda3/envs/mars/lib/python3.7/site-packages/sklearn/metrics/_classification.py:1221: UndefinedMetricWarning: Recall and F-score are ill-defined and being set to 0.0 in labels with no true samples. Use `zero_division` parameter to control this behavior.\n",
      "  _warn_prf(average, modifier, msg_start, len(result))\n"
     ]
    },
    {
     "name": "stdout",
     "output_type": "stream",
     "text": [
      "              attack   investigation   other    \n",
      "  Precision:    0.0      0.845      0.0     \n",
      "     Recall:    0.0      0.839      0.0     \n",
      "   F1 Score:    0.0      0.842      0.0     \n",
      "Loop: 11\n",
      "val set size: 43508\n",
      "training set size: 363173.0\n",
      "loading training data...\n"
     ]
    },
    {
     "name": "stderr",
     "output_type": "stream",
     "text": [
      "Filtering sequence 0/47    0% --  [Elapsed Time: 0:00:00] |  | (ETA:  --:--:--) \r"
     ]
    },
    {
     "name": "stdout",
     "output_type": "stream",
     "text": [
      "sorting features and applying filters...\n"
     ]
    },
    {
     "name": "stderr",
     "output_type": "stream",
     "text": [
      "Filtering sequence 47/47  100% --  [Elapsed Time: 0:05:01] |##| (Time: 0:05:01) \n"
     ]
    },
    {
     "name": "stdout",
     "output_type": "stream",
     "text": [
      "done!\n",
      "\n",
      "loading validation data...\n"
     ]
    },
    {
     "name": "stderr",
     "output_type": "stream",
     "text": [
      "Filtering sequence 0/8    0% --  [Elapsed Time: 0:00:00] |   | (ETA:  --:--:--) \r"
     ]
    },
    {
     "name": "stdout",
     "output_type": "stream",
     "text": [
      "sorting features and applying filters...\n"
     ]
    },
    {
     "name": "stderr",
     "output_type": "stream",
     "text": [
      "Filtering sequence 8/8  100% --  [Elapsed Time: 0:00:37] |####| (Time: 0:00:37) \n"
     ]
    },
    {
     "name": "stdout",
     "output_type": "stream",
     "text": [
      "done!\n",
      "\n",
      "loaded training data: 363173 X 3408 - ['investigation'] \n",
      "Training classifier: MABE_CHALLENGE_LGT_ES20_WND/\n",
      "######################### investigation #########################\n",
      "training using 105499 positive frames (1390 bouts)\n",
      "fitting preprocessing parameters...\n",
      "fitting clf for investigation\n",
      "    training set: 105499 positive / 363173 total (29 %)\n",
      "    eval set: 10052 positive / 43508 total (23 %)\n",
      "  + early stopping\n"
     ]
    },
    {
     "name": "stderr",
     "output_type": "stream",
     "text": [
      "/home/roton/miniconda3/envs/mars/lib/python3.7/site-packages/lightgbm/sklearn.py:726: UserWarning: 'early_stopping_rounds' argument is deprecated and will be removed in a future release of LightGBM. Pass 'early_stopping()' callback via 'callbacks' argument instead.\n",
      "  _log_warning(\"'early_stopping_rounds' argument is deprecated and will be removed in a future release of LightGBM. \"\n",
      "/home/roton/miniconda3/envs/mars/lib/python3.7/site-packages/lightgbm/sklearn.py:736: UserWarning: 'verbose' argument is deprecated and will be removed in a future release of LightGBM. Pass 'log_evaluation()' callback via 'callbacks' argument instead.\n",
      "  _log_warning(\"'verbose' argument is deprecated and will be removed in a future release of LightGBM. \"\n"
     ]
    },
    {
     "name": "stdout",
     "output_type": "stream",
     "text": [
      "[1]\tvalid_0's binary_logloss: 0.498799\n",
      "[2]\tvalid_0's binary_logloss: 0.459668\n",
      "[3]\tvalid_0's binary_logloss: 0.426409\n",
      "[4]\tvalid_0's binary_logloss: 0.397983\n",
      "[5]\tvalid_0's binary_logloss: 0.373442\n",
      "[6]\tvalid_0's binary_logloss: 0.353234\n",
      "[7]\tvalid_0's binary_logloss: 0.334949\n",
      "[8]\tvalid_0's binary_logloss: 0.319294\n",
      "[9]\tvalid_0's binary_logloss: 0.305201\n",
      "[10]\tvalid_0's binary_logloss: 0.293256\n",
      "[11]\tvalid_0's binary_logloss: 0.282631\n",
      "[12]\tvalid_0's binary_logloss: 0.272847\n",
      "[13]\tvalid_0's binary_logloss: 0.26449\n",
      "[14]\tvalid_0's binary_logloss: 0.257165\n",
      "[15]\tvalid_0's binary_logloss: 0.250326\n",
      "[16]\tvalid_0's binary_logloss: 0.244576\n",
      "[17]\tvalid_0's binary_logloss: 0.239327\n",
      "[18]\tvalid_0's binary_logloss: 0.234652\n",
      "[19]\tvalid_0's binary_logloss: 0.230751\n",
      "[20]\tvalid_0's binary_logloss: 0.226459\n",
      "[21]\tvalid_0's binary_logloss: 0.222897\n",
      "[22]\tvalid_0's binary_logloss: 0.219412\n",
      "[23]\tvalid_0's binary_logloss: 0.216683\n",
      "[24]\tvalid_0's binary_logloss: 0.214549\n",
      "[25]\tvalid_0's binary_logloss: 0.21216\n",
      "[26]\tvalid_0's binary_logloss: 0.210076\n",
      "[27]\tvalid_0's binary_logloss: 0.208521\n",
      "[28]\tvalid_0's binary_logloss: 0.206396\n",
      "[29]\tvalid_0's binary_logloss: 0.205113\n",
      "[30]\tvalid_0's binary_logloss: 0.20313\n",
      "[31]\tvalid_0's binary_logloss: 0.201857\n",
      "[32]\tvalid_0's binary_logloss: 0.200786\n",
      "[33]\tvalid_0's binary_logloss: 0.199738\n",
      "[34]\tvalid_0's binary_logloss: 0.199055\n",
      "[35]\tvalid_0's binary_logloss: 0.197948\n",
      "[36]\tvalid_0's binary_logloss: 0.197355\n",
      "[37]\tvalid_0's binary_logloss: 0.196943\n",
      "[38]\tvalid_0's binary_logloss: 0.196284\n",
      "[39]\tvalid_0's binary_logloss: 0.19666\n",
      "[40]\tvalid_0's binary_logloss: 0.195979\n",
      "[41]\tvalid_0's binary_logloss: 0.195417\n",
      "[42]\tvalid_0's binary_logloss: 0.195725\n",
      "[43]\tvalid_0's binary_logloss: 0.195118\n",
      "[44]\tvalid_0's binary_logloss: 0.194569\n",
      "[45]\tvalid_0's binary_logloss: 0.194184\n",
      "[46]\tvalid_0's binary_logloss: 0.193324\n",
      "[47]\tvalid_0's binary_logloss: 0.192747\n",
      "[48]\tvalid_0's binary_logloss: 0.192544\n",
      "[49]\tvalid_0's binary_logloss: 0.192967\n",
      "[50]\tvalid_0's binary_logloss: 0.192755\n",
      "[51]\tvalid_0's binary_logloss: 0.19219\n",
      "[52]\tvalid_0's binary_logloss: 0.192364\n",
      "[53]\tvalid_0's binary_logloss: 0.192266\n",
      "[54]\tvalid_0's binary_logloss: 0.192362\n",
      "[55]\tvalid_0's binary_logloss: 0.192412\n",
      "[56]\tvalid_0's binary_logloss: 0.192221\n",
      "[57]\tvalid_0's binary_logloss: 0.191966\n",
      "[58]\tvalid_0's binary_logloss: 0.191658\n",
      "[59]\tvalid_0's binary_logloss: 0.191857\n",
      "[60]\tvalid_0's binary_logloss: 0.191737\n",
      "[61]\tvalid_0's binary_logloss: 0.191622\n",
      "[62]\tvalid_0's binary_logloss: 0.1912\n",
      "[63]\tvalid_0's binary_logloss: 0.191248\n",
      "[64]\tvalid_0's binary_logloss: 0.191535\n",
      "[65]\tvalid_0's binary_logloss: 0.191758\n",
      "[66]\tvalid_0's binary_logloss: 0.191473\n",
      "[67]\tvalid_0's binary_logloss: 0.191335\n",
      "[68]\tvalid_0's binary_logloss: 0.190984\n",
      "[69]\tvalid_0's binary_logloss: 0.190811\n",
      "[70]\tvalid_0's binary_logloss: 0.190761\n",
      "[71]\tvalid_0's binary_logloss: 0.190768\n",
      "[72]\tvalid_0's binary_logloss: 0.191161\n",
      "[73]\tvalid_0's binary_logloss: 0.191341\n",
      "[74]\tvalid_0's binary_logloss: 0.190659\n",
      "[75]\tvalid_0's binary_logloss: 0.190621\n",
      "[76]\tvalid_0's binary_logloss: 0.190663\n",
      "[77]\tvalid_0's binary_logloss: 0.190717\n",
      "[78]\tvalid_0's binary_logloss: 0.190661\n",
      "[79]\tvalid_0's binary_logloss: 0.190773\n",
      "[80]\tvalid_0's binary_logloss: 0.190906\n",
      "[81]\tvalid_0's binary_logloss: 0.19085\n",
      "[82]\tvalid_0's binary_logloss: 0.190983\n",
      "[83]\tvalid_0's binary_logloss: 0.190995\n",
      "[84]\tvalid_0's binary_logloss: 0.191019\n",
      "[85]\tvalid_0's binary_logloss: 0.190814\n",
      "[86]\tvalid_0's binary_logloss: 0.190781\n",
      "[87]\tvalid_0's binary_logloss: 0.190784\n",
      "[88]\tvalid_0's binary_logloss: 0.190935\n",
      "[89]\tvalid_0's binary_logloss: 0.190741\n",
      "[90]\tvalid_0's binary_logloss: 0.190924\n",
      "[91]\tvalid_0's binary_logloss: 0.190786\n",
      "[92]\tvalid_0's binary_logloss: 0.190798\n",
      "[93]\tvalid_0's binary_logloss: 0.190714\n",
      "[94]\tvalid_0's binary_logloss: 0.190824\n",
      "[95]\tvalid_0's binary_logloss: 0.190718\n",
      "evaluating on the training set...\n",
      "fitting HMM smoother...\n",
      "fitting forward-backward smoother...\n"
     ]
    },
    {
     "name": "stderr",
     "output_type": "stream",
     "text": [
      "/home/roton/miniconda3/envs/mars/lib/python3.7/site-packages/sklearn/utils/validation.py:70: FutureWarning: Pass threshold=0.5 as keyword args. From version 0.25 passing these as positional arguments will result in an error\n",
      "  FutureWarning)\n"
     ]
    },
    {
     "name": "stdout",
     "output_type": "stream",
     "text": [
      "HMM label smoothing training took 0.58 mins\n",
      "performance on training set:\n",
      "P: 0.9086, R: 0.9176, F1: 0.9131    investigation\n",
      "done training!\n",
      "complete training took 7.47 mins\n",
      "loading test data...\n"
     ]
    },
    {
     "name": "stderr",
     "output_type": "stream",
     "text": [
      "Filtering sequence 0/27    0% --  [Elapsed Time: 0:00:00] |  | (ETA:  --:--:--) \r"
     ]
    },
    {
     "name": "stdout",
     "output_type": "stream",
     "text": [
      "sorting features and applying filters...\n"
     ]
    },
    {
     "name": "stderr",
     "output_type": "stream",
     "text": [
      "Filtering sequence 27/27  100% --  [Elapsed Time: 0:05:23] |##| (Time: 0:05:23) \n"
     ]
    },
    {
     "name": "stdout",
     "output_type": "stream",
     "text": [
      "done!\n",
      "\n",
      "loaded test data: 364826 X 3408 - ['investigation'] \n",
      "loading classifiers from /media/storage/ryan/mabe_challenge/behavior/trained_classifiers/mabe_challenge_lgt_es20_wnd/\n",
      "n_classes = 4\n",
      "{'attack': 0, 'investigation': 1, 'mount': 2, 'other': 3}\n",
      "predicting investigation...\n",
      "inference took 62.78 sec\n",
      " \n",
      "Classifier performance:\n"
     ]
    },
    {
     "name": "stderr",
     "output_type": "stream",
     "text": [
      "/home/roton/miniconda3/envs/mars/lib/python3.7/site-packages/sklearn/metrics/_classification.py:1221: UndefinedMetricWarning: Precision and F-score are ill-defined and being set to 0.0 in labels with no predicted samples. Use `zero_division` parameter to control this behavior.\n",
      "  _warn_prf(average, modifier, msg_start, len(result))\n",
      "/home/roton/miniconda3/envs/mars/lib/python3.7/site-packages/sklearn/metrics/_classification.py:1221: UndefinedMetricWarning: Recall and F-score are ill-defined and being set to 0.0 in labels with no true samples. Use `zero_division` parameter to control this behavior.\n",
      "  _warn_prf(average, modifier, msg_start, len(result))\n"
     ]
    },
    {
     "name": "stdout",
     "output_type": "stream",
     "text": [
      "              attack   investigation   other    \n",
      "  Precision:    0.0      0.849      0.0     \n",
      "     Recall:    0.0      0.845      0.0     \n",
      "   F1 Score:    0.0      0.847      0.0     \n",
      "Loop: 12\n",
      "val set size: 64872\n",
      "training set size: 398073.0\n",
      "loading training data...\n"
     ]
    },
    {
     "name": "stderr",
     "output_type": "stream",
     "text": [
      "Filtering sequence 0/56    0% --  [Elapsed Time: 0:00:00] |  | (ETA:  --:--:--) \r"
     ]
    },
    {
     "name": "stdout",
     "output_type": "stream",
     "text": [
      "sorting features and applying filters...\n"
     ]
    },
    {
     "name": "stderr",
     "output_type": "stream",
     "text": [
      "Filtering sequence 56/56  100% --  [Elapsed Time: 0:05:44] |##| (Time: 0:05:44) \n"
     ]
    },
    {
     "name": "stdout",
     "output_type": "stream",
     "text": [
      "done!\n",
      "\n",
      "loading validation data...\n"
     ]
    },
    {
     "name": "stderr",
     "output_type": "stream",
     "text": [
      "Filtering sequence 0/9    0% --  [Elapsed Time: 0:00:00] |   | (ETA:  --:--:--) \r"
     ]
    },
    {
     "name": "stdout",
     "output_type": "stream",
     "text": [
      "sorting features and applying filters...\n"
     ]
    },
    {
     "name": "stderr",
     "output_type": "stream",
     "text": [
      "Filtering sequence 9/9  100% --  [Elapsed Time: 0:00:53] |####| (Time: 0:00:53) \n"
     ]
    },
    {
     "name": "stdout",
     "output_type": "stream",
     "text": [
      "done!\n",
      "\n",
      "loaded training data: 398073 X 3408 - ['investigation'] \n",
      "Training classifier: MABE_CHALLENGE_LGT_ES20_WND/\n",
      "######################### investigation #########################\n",
      "training using 123317 positive frames (1530 bouts)\n",
      "fitting preprocessing parameters...\n",
      "fitting clf for investigation\n",
      "    training set: 123317 positive / 398073 total (30 %)\n",
      "    eval set: 13425 positive / 64872 total (20 %)\n",
      "  + early stopping\n"
     ]
    },
    {
     "name": "stderr",
     "output_type": "stream",
     "text": [
      "/home/roton/miniconda3/envs/mars/lib/python3.7/site-packages/lightgbm/sklearn.py:726: UserWarning: 'early_stopping_rounds' argument is deprecated and will be removed in a future release of LightGBM. Pass 'early_stopping()' callback via 'callbacks' argument instead.\n",
      "  _log_warning(\"'early_stopping_rounds' argument is deprecated and will be removed in a future release of LightGBM. \"\n",
      "/home/roton/miniconda3/envs/mars/lib/python3.7/site-packages/lightgbm/sklearn.py:736: UserWarning: 'verbose' argument is deprecated and will be removed in a future release of LightGBM. Pass 'log_evaluation()' callback via 'callbacks' argument instead.\n",
      "  _log_warning(\"'verbose' argument is deprecated and will be removed in a future release of LightGBM. \"\n"
     ]
    },
    {
     "name": "stdout",
     "output_type": "stream",
     "text": [
      "[1]\tvalid_0's binary_logloss: 0.487889\n",
      "[2]\tvalid_0's binary_logloss: 0.448947\n",
      "[3]\tvalid_0's binary_logloss: 0.415542\n",
      "[4]\tvalid_0's binary_logloss: 0.387007\n",
      "[5]\tvalid_0's binary_logloss: 0.363129\n",
      "[6]\tvalid_0's binary_logloss: 0.341528\n",
      "[7]\tvalid_0's binary_logloss: 0.32301\n",
      "[8]\tvalid_0's binary_logloss: 0.306073\n",
      "[9]\tvalid_0's binary_logloss: 0.292767\n",
      "[10]\tvalid_0's binary_logloss: 0.281883\n",
      "[11]\tvalid_0's binary_logloss: 0.270895\n",
      "[12]\tvalid_0's binary_logloss: 0.262854\n",
      "[13]\tvalid_0's binary_logloss: 0.25397\n",
      "[14]\tvalid_0's binary_logloss: 0.245795\n",
      "[15]\tvalid_0's binary_logloss: 0.239833\n",
      "[16]\tvalid_0's binary_logloss: 0.233895\n",
      "[17]\tvalid_0's binary_logloss: 0.227847\n",
      "[18]\tvalid_0's binary_logloss: 0.222661\n",
      "[19]\tvalid_0's binary_logloss: 0.21869\n",
      "[20]\tvalid_0's binary_logloss: 0.214887\n",
      "[21]\tvalid_0's binary_logloss: 0.211337\n",
      "[22]\tvalid_0's binary_logloss: 0.207961\n",
      "[23]\tvalid_0's binary_logloss: 0.204641\n",
      "[24]\tvalid_0's binary_logloss: 0.201842\n",
      "[25]\tvalid_0's binary_logloss: 0.199651\n",
      "[26]\tvalid_0's binary_logloss: 0.198082\n",
      "[27]\tvalid_0's binary_logloss: 0.19629\n",
      "[28]\tvalid_0's binary_logloss: 0.194609\n",
      "[29]\tvalid_0's binary_logloss: 0.192723\n",
      "[30]\tvalid_0's binary_logloss: 0.190554\n",
      "[31]\tvalid_0's binary_logloss: 0.18976\n",
      "[32]\tvalid_0's binary_logloss: 0.188261\n",
      "[33]\tvalid_0's binary_logloss: 0.186776\n",
      "[34]\tvalid_0's binary_logloss: 0.186176\n",
      "[35]\tvalid_0's binary_logloss: 0.185188\n",
      "[36]\tvalid_0's binary_logloss: 0.184812\n",
      "[37]\tvalid_0's binary_logloss: 0.183913\n",
      "[38]\tvalid_0's binary_logloss: 0.183163\n",
      "[39]\tvalid_0's binary_logloss: 0.182766\n",
      "[40]\tvalid_0's binary_logloss: 0.181728\n",
      "[41]\tvalid_0's binary_logloss: 0.180926\n",
      "[42]\tvalid_0's binary_logloss: 0.180438\n",
      "[43]\tvalid_0's binary_logloss: 0.180221\n",
      "[44]\tvalid_0's binary_logloss: 0.179653\n",
      "[45]\tvalid_0's binary_logloss: 0.178861\n",
      "[46]\tvalid_0's binary_logloss: 0.178757\n",
      "[47]\tvalid_0's binary_logloss: 0.178373\n",
      "[48]\tvalid_0's binary_logloss: 0.17799\n",
      "[49]\tvalid_0's binary_logloss: 0.177381\n",
      "[50]\tvalid_0's binary_logloss: 0.17721\n",
      "[51]\tvalid_0's binary_logloss: 0.177536\n",
      "[52]\tvalid_0's binary_logloss: 0.17763\n",
      "[53]\tvalid_0's binary_logloss: 0.177188\n",
      "[54]\tvalid_0's binary_logloss: 0.177168\n",
      "[55]\tvalid_0's binary_logloss: 0.176401\n",
      "[56]\tvalid_0's binary_logloss: 0.17631\n",
      "[57]\tvalid_0's binary_logloss: 0.175818\n",
      "[58]\tvalid_0's binary_logloss: 0.183601\n",
      "[59]\tvalid_0's binary_logloss: 0.183191\n",
      "[60]\tvalid_0's binary_logloss: 0.182626\n",
      "[61]\tvalid_0's binary_logloss: 0.182242\n",
      "[62]\tvalid_0's binary_logloss: 0.18185\n",
      "[63]\tvalid_0's binary_logloss: 0.181234\n",
      "[64]\tvalid_0's binary_logloss: 0.181079\n",
      "[65]\tvalid_0's binary_logloss: 0.18121\n",
      "[66]\tvalid_0's binary_logloss: 0.180809\n",
      "[67]\tvalid_0's binary_logloss: 0.180623\n",
      "[68]\tvalid_0's binary_logloss: 0.179982\n",
      "[69]\tvalid_0's binary_logloss: 0.179743\n",
      "[70]\tvalid_0's binary_logloss: 0.180073\n",
      "[71]\tvalid_0's binary_logloss: 0.180112\n",
      "[72]\tvalid_0's binary_logloss: 0.180065\n",
      "[73]\tvalid_0's binary_logloss: 0.179516\n",
      "[74]\tvalid_0's binary_logloss: 0.179496\n",
      "[75]\tvalid_0's binary_logloss: 0.179796\n",
      "[76]\tvalid_0's binary_logloss: 0.179216\n",
      "[77]\tvalid_0's binary_logloss: 0.179049\n",
      "evaluating on the training set...\n",
      "fitting HMM smoother...\n",
      "fitting forward-backward smoother...\n"
     ]
    },
    {
     "name": "stderr",
     "output_type": "stream",
     "text": [
      "/home/roton/miniconda3/envs/mars/lib/python3.7/site-packages/sklearn/utils/validation.py:70: FutureWarning: Pass threshold=0.5 as keyword args. From version 0.25 passing these as positional arguments will result in an error\n",
      "  FutureWarning)\n"
     ]
    },
    {
     "name": "stdout",
     "output_type": "stream",
     "text": [
      "HMM label smoothing training took 0.39 mins\n",
      "performance on training set:\n",
      "P: 0.8963, R: 0.9058, F1: 0.9010    investigation\n",
      "done training!\n",
      "complete training took 6.99 mins\n",
      "loading test data...\n"
     ]
    },
    {
     "name": "stderr",
     "output_type": "stream",
     "text": [
      "Filtering sequence 0/27    0% --  [Elapsed Time: 0:00:00] |  | (ETA:  --:--:--) \r"
     ]
    },
    {
     "name": "stdout",
     "output_type": "stream",
     "text": [
      "sorting features and applying filters...\n"
     ]
    },
    {
     "name": "stderr",
     "output_type": "stream",
     "text": [
      "Filtering sequence 27/27  100% --  [Elapsed Time: 0:05:31] |##| (Time: 0:05:31) \n"
     ]
    },
    {
     "name": "stdout",
     "output_type": "stream",
     "text": [
      "done!\n",
      "\n",
      "loaded test data: 364826 X 3408 - ['investigation'] \n",
      "loading classifiers from /media/storage/ryan/mabe_challenge/behavior/trained_classifiers/mabe_challenge_lgt_es20_wnd/\n",
      "n_classes = 4\n",
      "{'attack': 0, 'investigation': 1, 'mount': 2, 'other': 3}\n",
      "predicting investigation...\n",
      "inference took 59.43 sec\n",
      " \n",
      "Classifier performance:\n"
     ]
    },
    {
     "name": "stderr",
     "output_type": "stream",
     "text": [
      "/home/roton/miniconda3/envs/mars/lib/python3.7/site-packages/sklearn/metrics/_classification.py:1221: UndefinedMetricWarning: Precision and F-score are ill-defined and being set to 0.0 in labels with no predicted samples. Use `zero_division` parameter to control this behavior.\n",
      "  _warn_prf(average, modifier, msg_start, len(result))\n",
      "/home/roton/miniconda3/envs/mars/lib/python3.7/site-packages/sklearn/metrics/_classification.py:1221: UndefinedMetricWarning: Recall and F-score are ill-defined and being set to 0.0 in labels with no true samples. Use `zero_division` parameter to control this behavior.\n",
      "  _warn_prf(average, modifier, msg_start, len(result))\n"
     ]
    },
    {
     "name": "stdout",
     "output_type": "stream",
     "text": [
      "              attack   investigation   other    \n",
      "  Precision:    0.0      0.842      0.0     \n",
      "     Recall:    0.0      0.837      0.0     \n",
      "   F1 Score:    0.0      0.839      0.0     \n",
      "Loop: 13\n",
      "val set size: 64872\n",
      "training set size: 442866.0\n",
      "loading training data...\n"
     ]
    },
    {
     "name": "stderr",
     "output_type": "stream",
     "text": [
      "Filtering sequence 0/61    0% --  [Elapsed Time: 0:00:00] |  | (ETA:  --:--:--) \r"
     ]
    },
    {
     "name": "stdout",
     "output_type": "stream",
     "text": [
      "sorting features and applying filters...\n"
     ]
    },
    {
     "name": "stderr",
     "output_type": "stream",
     "text": [
      "Filtering sequence 61/61  100% --  [Elapsed Time: 0:06:21] |##| (Time: 0:06:21) \n"
     ]
    },
    {
     "name": "stdout",
     "output_type": "stream",
     "text": [
      "done!\n",
      "\n",
      "loading validation data...\n"
     ]
    },
    {
     "name": "stderr",
     "output_type": "stream",
     "text": [
      "Filtering sequence 0/9    0% --  [Elapsed Time: 0:00:00] |   | (ETA:  --:--:--) \r"
     ]
    },
    {
     "name": "stdout",
     "output_type": "stream",
     "text": [
      "sorting features and applying filters...\n"
     ]
    },
    {
     "name": "stderr",
     "output_type": "stream",
     "text": [
      "Filtering sequence 9/9  100% --  [Elapsed Time: 0:00:53] |####| (Time: 0:00:53) \n"
     ]
    },
    {
     "name": "stdout",
     "output_type": "stream",
     "text": [
      "done!\n",
      "\n",
      "loaded training data: 442866 X 3408 - ['investigation'] \n",
      "Training classifier: MABE_CHALLENGE_LGT_ES20_WND/\n",
      "######################### investigation #########################\n",
      "training using 133198 positive frames (1660 bouts)\n",
      "fitting preprocessing parameters...\n",
      "fitting clf for investigation\n",
      "    training set: 133198 positive / 442866 total (30 %)\n",
      "    eval set: 13425 positive / 64872 total (20 %)\n",
      "  + early stopping\n"
     ]
    },
    {
     "name": "stderr",
     "output_type": "stream",
     "text": [
      "/home/roton/miniconda3/envs/mars/lib/python3.7/site-packages/lightgbm/sklearn.py:726: UserWarning: 'early_stopping_rounds' argument is deprecated and will be removed in a future release of LightGBM. Pass 'early_stopping()' callback via 'callbacks' argument instead.\n",
      "  _log_warning(\"'early_stopping_rounds' argument is deprecated and will be removed in a future release of LightGBM. \"\n",
      "/home/roton/miniconda3/envs/mars/lib/python3.7/site-packages/lightgbm/sklearn.py:736: UserWarning: 'verbose' argument is deprecated and will be removed in a future release of LightGBM. Pass 'log_evaluation()' callback via 'callbacks' argument instead.\n",
      "  _log_warning(\"'verbose' argument is deprecated and will be removed in a future release of LightGBM. \"\n"
     ]
    },
    {
     "name": "stdout",
     "output_type": "stream",
     "text": [
      "[1]\tvalid_0's binary_logloss: 0.482396\n",
      "[2]\tvalid_0's binary_logloss: 0.442323\n",
      "[3]\tvalid_0's binary_logloss: 0.410046\n",
      "[4]\tvalid_0's binary_logloss: 0.382625\n",
      "[5]\tvalid_0's binary_logloss: 0.357912\n",
      "[6]\tvalid_0's binary_logloss: 0.33753\n",
      "[7]\tvalid_0's binary_logloss: 0.319117\n",
      "[8]\tvalid_0's binary_logloss: 0.302431\n",
      "[9]\tvalid_0's binary_logloss: 0.288282\n",
      "[10]\tvalid_0's binary_logloss: 0.274946\n",
      "[11]\tvalid_0's binary_logloss: 0.264136\n",
      "[12]\tvalid_0's binary_logloss: 0.254366\n",
      "[13]\tvalid_0's binary_logloss: 0.245721\n",
      "[14]\tvalid_0's binary_logloss: 0.238353\n",
      "[15]\tvalid_0's binary_logloss: 0.231455\n",
      "[16]\tvalid_0's binary_logloss: 0.225583\n",
      "[17]\tvalid_0's binary_logloss: 0.220617\n",
      "[18]\tvalid_0's binary_logloss: 0.215547\n",
      "[19]\tvalid_0's binary_logloss: 0.211975\n",
      "[20]\tvalid_0's binary_logloss: 0.207964\n",
      "[21]\tvalid_0's binary_logloss: 0.203899\n",
      "[22]\tvalid_0's binary_logloss: 0.20058\n",
      "[23]\tvalid_0's binary_logloss: 0.197762\n",
      "[24]\tvalid_0's binary_logloss: 0.194888\n",
      "[25]\tvalid_0's binary_logloss: 0.192869\n",
      "[26]\tvalid_0's binary_logloss: 0.191328\n",
      "[27]\tvalid_0's binary_logloss: 0.189489\n",
      "[28]\tvalid_0's binary_logloss: 0.187688\n",
      "[29]\tvalid_0's binary_logloss: 0.185723\n",
      "[30]\tvalid_0's binary_logloss: 0.183562\n",
      "[31]\tvalid_0's binary_logloss: 0.182874\n",
      "[32]\tvalid_0's binary_logloss: 0.181858\n",
      "[33]\tvalid_0's binary_logloss: 0.180496\n",
      "[34]\tvalid_0's binary_logloss: 0.179153\n",
      "[35]\tvalid_0's binary_logloss: 0.177871\n",
      "[36]\tvalid_0's binary_logloss: 0.176685\n",
      "[37]\tvalid_0's binary_logloss: 0.176332\n",
      "[38]\tvalid_0's binary_logloss: 0.175607\n",
      "[39]\tvalid_0's binary_logloss: 0.17618\n",
      "[40]\tvalid_0's binary_logloss: 0.175133\n",
      "[41]\tvalid_0's binary_logloss: 0.174179\n",
      "[42]\tvalid_0's binary_logloss: 0.173858\n",
      "[43]\tvalid_0's binary_logloss: 0.172976\n",
      "[44]\tvalid_0's binary_logloss: 0.172507\n",
      "[45]\tvalid_0's binary_logloss: 0.172086\n",
      "[46]\tvalid_0's binary_logloss: 0.171884\n",
      "[47]\tvalid_0's binary_logloss: 0.171366\n",
      "[48]\tvalid_0's binary_logloss: 0.171127\n",
      "[49]\tvalid_0's binary_logloss: 0.170675\n",
      "[50]\tvalid_0's binary_logloss: 0.169929\n",
      "[51]\tvalid_0's binary_logloss: 0.169123\n",
      "[52]\tvalid_0's binary_logloss: 0.168732\n",
      "[53]\tvalid_0's binary_logloss: 0.168637\n",
      "[54]\tvalid_0's binary_logloss: 0.168692\n",
      "[55]\tvalid_0's binary_logloss: 0.168383\n",
      "[56]\tvalid_0's binary_logloss: 0.167838\n",
      "[57]\tvalid_0's binary_logloss: 0.167913\n",
      "[58]\tvalid_0's binary_logloss: 0.167501\n",
      "[59]\tvalid_0's binary_logloss: 0.167609\n",
      "[60]\tvalid_0's binary_logloss: 0.167484\n",
      "[61]\tvalid_0's binary_logloss: 0.16781\n",
      "[62]\tvalid_0's binary_logloss: 0.167427\n",
      "[63]\tvalid_0's binary_logloss: 0.167418\n",
      "[64]\tvalid_0's binary_logloss: 0.167142\n",
      "[65]\tvalid_0's binary_logloss: 0.166762\n",
      "[66]\tvalid_0's binary_logloss: 0.16672\n",
      "[67]\tvalid_0's binary_logloss: 0.166589\n",
      "[68]\tvalid_0's binary_logloss: 0.166886\n",
      "[69]\tvalid_0's binary_logloss: 0.166778\n",
      "[70]\tvalid_0's binary_logloss: 0.166387\n",
      "[71]\tvalid_0's binary_logloss: 0.166753\n",
      "[72]\tvalid_0's binary_logloss: 0.166595\n",
      "[73]\tvalid_0's binary_logloss: 0.166993\n",
      "[74]\tvalid_0's binary_logloss: 0.167012\n",
      "[75]\tvalid_0's binary_logloss: 0.166989\n",
      "[76]\tvalid_0's binary_logloss: 0.167022\n",
      "[77]\tvalid_0's binary_logloss: 0.166826\n",
      "[78]\tvalid_0's binary_logloss: 0.166632\n",
      "[79]\tvalid_0's binary_logloss: 0.166654\n",
      "[80]\tvalid_0's binary_logloss: 0.166654\n",
      "[81]\tvalid_0's binary_logloss: 0.166627\n",
      "[82]\tvalid_0's binary_logloss: 0.166657\n",
      "[83]\tvalid_0's binary_logloss: 0.166508\n",
      "[84]\tvalid_0's binary_logloss: 0.166647\n",
      "[85]\tvalid_0's binary_logloss: 0.166957\n",
      "[86]\tvalid_0's binary_logloss: 0.16673\n",
      "[87]\tvalid_0's binary_logloss: 0.166599\n",
      "[88]\tvalid_0's binary_logloss: 0.166637\n",
      "[89]\tvalid_0's binary_logloss: 0.166578\n",
      "[90]\tvalid_0's binary_logloss: 0.166439\n",
      "evaluating on the training set...\n",
      "fitting HMM smoother...\n",
      "fitting forward-backward smoother...\n"
     ]
    },
    {
     "name": "stderr",
     "output_type": "stream",
     "text": [
      "/home/roton/miniconda3/envs/mars/lib/python3.7/site-packages/sklearn/utils/validation.py:70: FutureWarning: Pass threshold=0.5 as keyword args. From version 0.25 passing these as positional arguments will result in an error\n",
      "  FutureWarning)\n"
     ]
    },
    {
     "name": "stdout",
     "output_type": "stream",
     "text": [
      "HMM label smoothing training took 0.29 mins\n",
      "performance on training set:\n",
      "P: 0.8992, R: 0.9088, F1: 0.9040    investigation\n",
      "done training!\n",
      "complete training took 7.21 mins\n",
      "loading test data...\n"
     ]
    },
    {
     "name": "stderr",
     "output_type": "stream",
     "text": [
      "Filtering sequence 0/27    0% --  [Elapsed Time: 0:00:00] |  | (ETA:  --:--:--) \r"
     ]
    },
    {
     "name": "stdout",
     "output_type": "stream",
     "text": [
      "sorting features and applying filters...\n"
     ]
    },
    {
     "name": "stderr",
     "output_type": "stream",
     "text": [
      "Filtering sequence 27/27  100% --  [Elapsed Time: 0:05:22] |##| (Time: 0:05:22) \n"
     ]
    },
    {
     "name": "stdout",
     "output_type": "stream",
     "text": [
      "done!\n",
      "\n",
      "loaded test data: 364826 X 3408 - ['investigation'] \n",
      "loading classifiers from /media/storage/ryan/mabe_challenge/behavior/trained_classifiers/mabe_challenge_lgt_es20_wnd/\n",
      "n_classes = 4\n",
      "{'attack': 0, 'investigation': 1, 'mount': 2, 'other': 3}\n",
      "predicting investigation...\n",
      "inference took 62.83 sec\n",
      " \n",
      "Classifier performance:\n"
     ]
    },
    {
     "name": "stderr",
     "output_type": "stream",
     "text": [
      "/home/roton/miniconda3/envs/mars/lib/python3.7/site-packages/sklearn/metrics/_classification.py:1221: UndefinedMetricWarning: Precision and F-score are ill-defined and being set to 0.0 in labels with no predicted samples. Use `zero_division` parameter to control this behavior.\n",
      "  _warn_prf(average, modifier, msg_start, len(result))\n",
      "/home/roton/miniconda3/envs/mars/lib/python3.7/site-packages/sklearn/metrics/_classification.py:1221: UndefinedMetricWarning: Recall and F-score are ill-defined and being set to 0.0 in labels with no true samples. Use `zero_division` parameter to control this behavior.\n",
      "  _warn_prf(average, modifier, msg_start, len(result))\n"
     ]
    },
    {
     "name": "stdout",
     "output_type": "stream",
     "text": [
      "              attack   investigation   other    \n",
      "  Precision:    0.0      0.841      0.0     \n",
      "     Recall:    0.0      0.842      0.0     \n",
      "   F1 Score:    0.0      0.841      0.0     \n",
      "Shuffle: 4\n",
      "Loop: 0\n",
      "val set size: 3714\n",
      "training set size: 5096.0\n",
      "loading training data...\n"
     ]
    },
    {
     "name": "stderr",
     "output_type": "stream",
     "text": [
      "Filtering sequence 0/1    0% --  [Elapsed Time: 0:00:00] |   | (ETA:  --:--:--) \r"
     ]
    },
    {
     "name": "stdout",
     "output_type": "stream",
     "text": [
      "sorting features and applying filters...\n"
     ]
    },
    {
     "name": "stderr",
     "output_type": "stream",
     "text": [
      "Filtering sequence 1/1  100% --  [Elapsed Time: 0:00:04] |####| (Time: 0:00:04) \n"
     ]
    },
    {
     "name": "stdout",
     "output_type": "stream",
     "text": [
      "done!\n",
      "\n",
      "loading validation data...\n"
     ]
    },
    {
     "name": "stderr",
     "output_type": "stream",
     "text": [
      "Filtering sequence 0/1    0% --  [Elapsed Time: 0:00:00] |   | (ETA:  --:--:--) \r"
     ]
    },
    {
     "name": "stdout",
     "output_type": "stream",
     "text": [
      "sorting features and applying filters...\n"
     ]
    },
    {
     "name": "stderr",
     "output_type": "stream",
     "text": [
      "Filtering sequence 1/1  100% --  [Elapsed Time: 0:00:03] |####| (Time: 0:00:03) \n"
     ]
    },
    {
     "name": "stdout",
     "output_type": "stream",
     "text": [
      "done!\n",
      "\n",
      "loaded training data: 5096 X 3408 - ['investigation'] \n",
      "Training classifier: MABE_CHALLENGE_LGT_ES20_WND/\n",
      "######################### investigation #########################\n",
      "training using 780 positive frames (15 bouts)\n",
      "fitting preprocessing parameters...\n",
      "fitting clf for investigation\n",
      "    training set: 780 positive / 5096 total (15 %)\n",
      "    eval set: 228 positive / 3714 total (6 %)\n",
      "  + early stopping\n"
     ]
    },
    {
     "name": "stderr",
     "output_type": "stream",
     "text": [
      "/home/roton/miniconda3/envs/mars/lib/python3.7/site-packages/lightgbm/sklearn.py:726: UserWarning: 'early_stopping_rounds' argument is deprecated and will be removed in a future release of LightGBM. Pass 'early_stopping()' callback via 'callbacks' argument instead.\n",
      "  _log_warning(\"'early_stopping_rounds' argument is deprecated and will be removed in a future release of LightGBM. \"\n",
      "/home/roton/miniconda3/envs/mars/lib/python3.7/site-packages/lightgbm/sklearn.py:736: UserWarning: 'verbose' argument is deprecated and will be removed in a future release of LightGBM. Pass 'log_evaluation()' callback via 'callbacks' argument instead.\n",
      "  _log_warning(\"'verbose' argument is deprecated and will be removed in a future release of LightGBM. \"\n"
     ]
    },
    {
     "name": "stdout",
     "output_type": "stream",
     "text": [
      "[1]\tvalid_0's binary_logloss: 0.275375\n",
      "[2]\tvalid_0's binary_logloss: 0.260713\n",
      "[3]\tvalid_0's binary_logloss: 0.274797\n",
      "[4]\tvalid_0's binary_logloss: 0.254957\n",
      "[5]\tvalid_0's binary_logloss: 0.235402\n",
      "[6]\tvalid_0's binary_logloss: 0.226554\n",
      "[7]\tvalid_0's binary_logloss: 0.213846\n",
      "[8]\tvalid_0's binary_logloss: 0.205007\n",
      "[9]\tvalid_0's binary_logloss: 0.194121\n",
      "[10]\tvalid_0's binary_logloss: 0.186178\n",
      "[11]\tvalid_0's binary_logloss: 0.175025\n",
      "[12]\tvalid_0's binary_logloss: 0.166427\n",
      "[13]\tvalid_0's binary_logloss: 0.160884\n",
      "[14]\tvalid_0's binary_logloss: 0.155571\n",
      "[15]\tvalid_0's binary_logloss: 0.151887\n",
      "[16]\tvalid_0's binary_logloss: 0.147448\n",
      "[17]\tvalid_0's binary_logloss: 0.142521\n",
      "[18]\tvalid_0's binary_logloss: 0.137207\n",
      "[19]\tvalid_0's binary_logloss: 0.133014\n",
      "[20]\tvalid_0's binary_logloss: 0.129355\n",
      "[21]\tvalid_0's binary_logloss: 0.124309\n",
      "[22]\tvalid_0's binary_logloss: 0.120922\n",
      "[23]\tvalid_0's binary_logloss: 0.121031\n",
      "[24]\tvalid_0's binary_logloss: 0.117662\n",
      "[25]\tvalid_0's binary_logloss: 0.118221\n",
      "[26]\tvalid_0's binary_logloss: 0.114153\n",
      "[27]\tvalid_0's binary_logloss: 0.111782\n",
      "[28]\tvalid_0's binary_logloss: 0.111134\n",
      "[29]\tvalid_0's binary_logloss: 0.112165\n",
      "[30]\tvalid_0's binary_logloss: 0.11246\n",
      "[31]\tvalid_0's binary_logloss: 0.113729\n",
      "[32]\tvalid_0's binary_logloss: 0.112849\n",
      "[33]\tvalid_0's binary_logloss: 0.111491\n",
      "[34]\tvalid_0's binary_logloss: 0.110848\n",
      "[35]\tvalid_0's binary_logloss: 0.107151\n",
      "[36]\tvalid_0's binary_logloss: 0.105411\n",
      "[37]\tvalid_0's binary_logloss: 0.105015\n",
      "[38]\tvalid_0's binary_logloss: 0.102893\n",
      "[39]\tvalid_0's binary_logloss: 0.0997559\n",
      "[40]\tvalid_0's binary_logloss: 0.097545\n",
      "[41]\tvalid_0's binary_logloss: 0.0964925\n",
      "[42]\tvalid_0's binary_logloss: 0.0956879\n",
      "[43]\tvalid_0's binary_logloss: 0.0949877\n",
      "[44]\tvalid_0's binary_logloss: 0.0930336\n",
      "[45]\tvalid_0's binary_logloss: 0.0903558\n",
      "[46]\tvalid_0's binary_logloss: 0.0903973\n",
      "[47]\tvalid_0's binary_logloss: 0.0903709\n",
      "[48]\tvalid_0's binary_logloss: 0.089689\n",
      "[49]\tvalid_0's binary_logloss: 0.0879806\n",
      "[50]\tvalid_0's binary_logloss: 0.0888176\n",
      "[51]\tvalid_0's binary_logloss: 0.0889299\n",
      "[52]\tvalid_0's binary_logloss: 0.0891364\n",
      "[53]\tvalid_0's binary_logloss: 0.0893554\n",
      "[54]\tvalid_0's binary_logloss: 0.0911203\n",
      "[55]\tvalid_0's binary_logloss: 0.0908358\n",
      "[56]\tvalid_0's binary_logloss: 0.0906109\n",
      "[57]\tvalid_0's binary_logloss: 0.0911886\n",
      "[58]\tvalid_0's binary_logloss: 0.0928465\n",
      "[59]\tvalid_0's binary_logloss: 0.0949472\n",
      "[60]\tvalid_0's binary_logloss: 0.0960448\n",
      "[61]\tvalid_0's binary_logloss: 0.0980874\n",
      "[62]\tvalid_0's binary_logloss: 0.0993048\n",
      "[63]\tvalid_0's binary_logloss: 0.101254\n",
      "[64]\tvalid_0's binary_logloss: 0.10269\n",
      "[65]\tvalid_0's binary_logloss: 0.100779\n",
      "[66]\tvalid_0's binary_logloss: 0.102036\n",
      "[67]\tvalid_0's binary_logloss: 0.102389\n",
      "[68]\tvalid_0's binary_logloss: 0.101206\n",
      "[69]\tvalid_0's binary_logloss: 0.101781\n",
      "evaluating on the training set...\n",
      "fitting HMM smoother...\n",
      "fitting forward-backward smoother...\n",
      "HMM label smoothing training took 0.00 mins\n",
      "performance on training set:\n",
      "P: 0.9936, R: 1.0000, F1: 0.9968    investigation\n"
     ]
    },
    {
     "name": "stderr",
     "output_type": "stream",
     "text": [
      "/home/roton/miniconda3/envs/mars/lib/python3.7/site-packages/sklearn/utils/validation.py:70: FutureWarning: Pass threshold=0.5 as keyword args. From version 0.25 passing these as positional arguments will result in an error\n",
      "  FutureWarning)\n"
     ]
    },
    {
     "name": "stdout",
     "output_type": "stream",
     "text": [
      "done training!\n",
      "complete training took 1.51 mins\n",
      "loading test data...\n"
     ]
    },
    {
     "name": "stderr",
     "output_type": "stream",
     "text": [
      "Filtering sequence 0/27    0% --  [Elapsed Time: 0:00:00] |  | (ETA:  --:--:--) \r"
     ]
    },
    {
     "name": "stdout",
     "output_type": "stream",
     "text": [
      "sorting features and applying filters...\n"
     ]
    },
    {
     "name": "stderr",
     "output_type": "stream",
     "text": [
      "Filtering sequence 27/27  100% --  [Elapsed Time: 0:05:17] |##| (Time: 0:05:17) \n"
     ]
    },
    {
     "name": "stdout",
     "output_type": "stream",
     "text": [
      "done!\n",
      "\n",
      "loaded test data: 364826 X 3408 - ['investigation'] \n",
      "loading classifiers from /media/storage/ryan/mabe_challenge/behavior/trained_classifiers/mabe_challenge_lgt_es20_wnd/\n",
      "n_classes = 4\n",
      "{'attack': 0, 'investigation': 1, 'mount': 2, 'other': 3}\n",
      "predicting investigation...\n",
      "inference took 52.23 sec\n",
      " \n",
      "Classifier performance:\n"
     ]
    },
    {
     "name": "stderr",
     "output_type": "stream",
     "text": [
      "/home/roton/miniconda3/envs/mars/lib/python3.7/site-packages/sklearn/metrics/_classification.py:1221: UndefinedMetricWarning: Precision and F-score are ill-defined and being set to 0.0 in labels with no predicted samples. Use `zero_division` parameter to control this behavior.\n",
      "  _warn_prf(average, modifier, msg_start, len(result))\n",
      "/home/roton/miniconda3/envs/mars/lib/python3.7/site-packages/sklearn/metrics/_classification.py:1221: UndefinedMetricWarning: Recall and F-score are ill-defined and being set to 0.0 in labels with no true samples. Use `zero_division` parameter to control this behavior.\n",
      "  _warn_prf(average, modifier, msg_start, len(result))\n"
     ]
    },
    {
     "name": "stdout",
     "output_type": "stream",
     "text": [
      "              attack   investigation   other    \n",
      "  Precision:    0.0      0.755      0.0     \n",
      "     Recall:    0.0      0.582      0.0     \n",
      "   F1 Score:    0.0      0.657      0.0     \n",
      "Loop: 1\n",
      "val set size: 5096\n",
      "training set size: 17977.0\n",
      "loading training data...\n"
     ]
    },
    {
     "name": "stderr",
     "output_type": "stream",
     "text": [
      "Filtering sequence 0/2    0% --  [Elapsed Time: 0:00:00] |   | (ETA:  --:--:--) \r"
     ]
    },
    {
     "name": "stdout",
     "output_type": "stream",
     "text": [
      "sorting features and applying filters...\n"
     ]
    },
    {
     "name": "stderr",
     "output_type": "stream",
     "text": [
      "Filtering sequence 2/2  100% --  [Elapsed Time: 0:00:15] |####| (Time: 0:00:15) \n"
     ]
    },
    {
     "name": "stdout",
     "output_type": "stream",
     "text": [
      "done!\n",
      "\n",
      "loading validation data...\n"
     ]
    },
    {
     "name": "stderr",
     "output_type": "stream",
     "text": [
      "Filtering sequence 0/1    0% --  [Elapsed Time: 0:00:00] |   | (ETA:  --:--:--) \r"
     ]
    },
    {
     "name": "stdout",
     "output_type": "stream",
     "text": [
      "sorting features and applying filters...\n"
     ]
    },
    {
     "name": "stderr",
     "output_type": "stream",
     "text": [
      "Filtering sequence 1/1  100% --  [Elapsed Time: 0:00:04] |####| (Time: 0:00:04) \n"
     ]
    },
    {
     "name": "stdout",
     "output_type": "stream",
     "text": [
      "done!\n",
      "\n",
      "loaded training data: 17977 X 3408 - ['investigation'] \n",
      "Training classifier: MABE_CHALLENGE_LGT_ES20_WND/\n",
      "######################### investigation #########################\n",
      "training using 3501 positive frames (60 bouts)\n",
      "fitting preprocessing parameters...\n",
      "fitting clf for investigation\n",
      "    training set: 3501 positive / 17977 total (19 %)\n",
      "    eval set: 780 positive / 5096 total (15 %)\n",
      "  + early stopping\n"
     ]
    },
    {
     "name": "stderr",
     "output_type": "stream",
     "text": [
      "/home/roton/miniconda3/envs/mars/lib/python3.7/site-packages/lightgbm/sklearn.py:726: UserWarning: 'early_stopping_rounds' argument is deprecated and will be removed in a future release of LightGBM. Pass 'early_stopping()' callback via 'callbacks' argument instead.\n",
      "  _log_warning(\"'early_stopping_rounds' argument is deprecated and will be removed in a future release of LightGBM. \"\n",
      "/home/roton/miniconda3/envs/mars/lib/python3.7/site-packages/lightgbm/sklearn.py:736: UserWarning: 'verbose' argument is deprecated and will be removed in a future release of LightGBM. Pass 'log_evaluation()' callback via 'callbacks' argument instead.\n",
      "  _log_warning(\"'verbose' argument is deprecated and will be removed in a future release of LightGBM. \"\n"
     ]
    },
    {
     "name": "stdout",
     "output_type": "stream",
     "text": [
      "[1]\tvalid_0's binary_logloss: 0.389132\n",
      "[2]\tvalid_0's binary_logloss: 0.356969\n",
      "[3]\tvalid_0's binary_logloss: 0.330697\n",
      "[4]\tvalid_0's binary_logloss: 0.312427\n",
      "[5]\tvalid_0's binary_logloss: 0.295997\n",
      "[6]\tvalid_0's binary_logloss: 0.283433\n",
      "[7]\tvalid_0's binary_logloss: 0.273013\n",
      "[8]\tvalid_0's binary_logloss: 0.266809\n",
      "[9]\tvalid_0's binary_logloss: 0.25699\n",
      "[10]\tvalid_0's binary_logloss: 0.248299\n",
      "[11]\tvalid_0's binary_logloss: 0.24279\n",
      "[12]\tvalid_0's binary_logloss: 0.238263\n",
      "[13]\tvalid_0's binary_logloss: 0.236126\n",
      "[14]\tvalid_0's binary_logloss: 0.231564\n",
      "[15]\tvalid_0's binary_logloss: 0.229944\n",
      "[16]\tvalid_0's binary_logloss: 0.22686\n",
      "[17]\tvalid_0's binary_logloss: 0.224189\n",
      "[18]\tvalid_0's binary_logloss: 0.221029\n",
      "[19]\tvalid_0's binary_logloss: 0.219786\n",
      "[20]\tvalid_0's binary_logloss: 0.220641\n",
      "[21]\tvalid_0's binary_logloss: 0.219282\n",
      "[22]\tvalid_0's binary_logloss: 0.216496\n",
      "[23]\tvalid_0's binary_logloss: 0.216238\n",
      "[24]\tvalid_0's binary_logloss: 0.215839\n",
      "[25]\tvalid_0's binary_logloss: 0.215854\n",
      "[26]\tvalid_0's binary_logloss: 0.216766\n",
      "[27]\tvalid_0's binary_logloss: 0.217951\n",
      "[28]\tvalid_0's binary_logloss: 0.217232\n",
      "[29]\tvalid_0's binary_logloss: 0.218088\n",
      "[30]\tvalid_0's binary_logloss: 0.220051\n",
      "[31]\tvalid_0's binary_logloss: 0.22193\n",
      "[32]\tvalid_0's binary_logloss: 0.224026\n",
      "[33]\tvalid_0's binary_logloss: 0.226281\n",
      "[34]\tvalid_0's binary_logloss: 0.229337\n",
      "[35]\tvalid_0's binary_logloss: 0.230177\n",
      "[36]\tvalid_0's binary_logloss: 0.229872\n",
      "[37]\tvalid_0's binary_logloss: 0.230625\n",
      "[38]\tvalid_0's binary_logloss: 0.230932\n",
      "[39]\tvalid_0's binary_logloss: 0.234687\n",
      "[40]\tvalid_0's binary_logloss: 0.232945\n",
      "[41]\tvalid_0's binary_logloss: 0.234251\n",
      "[42]\tvalid_0's binary_logloss: 0.233559\n",
      "[43]\tvalid_0's binary_logloss: 0.236088\n",
      "[44]\tvalid_0's binary_logloss: 0.23715\n",
      "evaluating on the training set...\n",
      "fitting HMM smoother...\n",
      "fitting forward-backward smoother...\n",
      "HMM label smoothing training took 0.01 mins\n",
      "performance on training set:\n",
      "P: 0.9942, R: 0.9877, F1: 0.9910    investigation\n"
     ]
    },
    {
     "name": "stderr",
     "output_type": "stream",
     "text": [
      "/home/roton/miniconda3/envs/mars/lib/python3.7/site-packages/sklearn/utils/validation.py:70: FutureWarning: Pass threshold=0.5 as keyword args. From version 0.25 passing these as positional arguments will result in an error\n",
      "  FutureWarning)\n"
     ]
    },
    {
     "name": "stdout",
     "output_type": "stream",
     "text": [
      "done training!\n",
      "complete training took 1.20 mins\n",
      "loading test data...\n"
     ]
    },
    {
     "name": "stderr",
     "output_type": "stream",
     "text": [
      "Filtering sequence 0/27    0% --  [Elapsed Time: 0:00:00] |  | (ETA:  --:--:--) \r"
     ]
    },
    {
     "name": "stdout",
     "output_type": "stream",
     "text": [
      "sorting features and applying filters...\n"
     ]
    },
    {
     "name": "stderr",
     "output_type": "stream",
     "text": [
      "Filtering sequence 27/27  100% --  [Elapsed Time: 0:05:18] |##| (Time: 0:05:18) \n"
     ]
    },
    {
     "name": "stdout",
     "output_type": "stream",
     "text": [
      "done!\n",
      "\n",
      "loaded test data: 364826 X 3408 - ['investigation'] \n",
      "loading classifiers from /media/storage/ryan/mabe_challenge/behavior/trained_classifiers/mabe_challenge_lgt_es20_wnd/\n",
      "n_classes = 4\n",
      "{'attack': 0, 'investigation': 1, 'mount': 2, 'other': 3}\n",
      "predicting investigation...\n",
      "inference took 58.93 sec\n",
      " \n",
      "Classifier performance:\n"
     ]
    },
    {
     "name": "stderr",
     "output_type": "stream",
     "text": [
      "/home/roton/miniconda3/envs/mars/lib/python3.7/site-packages/sklearn/metrics/_classification.py:1221: UndefinedMetricWarning: Precision and F-score are ill-defined and being set to 0.0 in labels with no predicted samples. Use `zero_division` parameter to control this behavior.\n",
      "  _warn_prf(average, modifier, msg_start, len(result))\n",
      "/home/roton/miniconda3/envs/mars/lib/python3.7/site-packages/sklearn/metrics/_classification.py:1221: UndefinedMetricWarning: Recall and F-score are ill-defined and being set to 0.0 in labels with no true samples. Use `zero_division` parameter to control this behavior.\n",
      "  _warn_prf(average, modifier, msg_start, len(result))\n"
     ]
    },
    {
     "name": "stdout",
     "output_type": "stream",
     "text": [
      "              attack   investigation   other    \n",
      "  Precision:    0.0      0.801      0.0     \n",
      "     Recall:    0.0      0.637      0.0     \n",
      "   F1 Score:    0.0      0.71       0.0     \n",
      "Loop: 2\n",
      "val set size: 5096\n",
      "training set size: 23618.0\n",
      "loading training data...\n"
     ]
    },
    {
     "name": "stderr",
     "output_type": "stream",
     "text": [
      "Filtering sequence 0/3    0% --  [Elapsed Time: 0:00:00] |   | (ETA:  --:--:--) \r"
     ]
    },
    {
     "name": "stdout",
     "output_type": "stream",
     "text": [
      "sorting features and applying filters...\n"
     ]
    },
    {
     "name": "stderr",
     "output_type": "stream",
     "text": [
      "Filtering sequence 3/3  100% --  [Elapsed Time: 0:00:18] |####| (Time: 0:00:18) \n"
     ]
    },
    {
     "name": "stdout",
     "output_type": "stream",
     "text": [
      "done!\n",
      "\n",
      "loading validation data...\n"
     ]
    },
    {
     "name": "stderr",
     "output_type": "stream",
     "text": [
      "Filtering sequence 0/1    0% --  [Elapsed Time: 0:00:00] |   | (ETA:  --:--:--) \r"
     ]
    },
    {
     "name": "stdout",
     "output_type": "stream",
     "text": [
      "sorting features and applying filters...\n"
     ]
    },
    {
     "name": "stderr",
     "output_type": "stream",
     "text": [
      "Filtering sequence 1/1  100% --  [Elapsed Time: 0:00:04] |####| (Time: 0:00:04) \n"
     ]
    },
    {
     "name": "stdout",
     "output_type": "stream",
     "text": [
      "done!\n",
      "\n",
      "loaded training data: 23618 X 3408 - ['investigation'] \n",
      "Training classifier: MABE_CHALLENGE_LGT_ES20_WND/\n",
      "######################### investigation #########################\n",
      "training using 4269 positive frames (77 bouts)\n",
      "fitting preprocessing parameters...\n",
      "fitting clf for investigation\n",
      "    training set: 4269 positive / 23618 total (18 %)\n",
      "    eval set: 780 positive / 5096 total (15 %)\n",
      "  + early stopping\n"
     ]
    },
    {
     "name": "stderr",
     "output_type": "stream",
     "text": [
      "/home/roton/miniconda3/envs/mars/lib/python3.7/site-packages/lightgbm/sklearn.py:726: UserWarning: 'early_stopping_rounds' argument is deprecated and will be removed in a future release of LightGBM. Pass 'early_stopping()' callback via 'callbacks' argument instead.\n",
      "  _log_warning(\"'early_stopping_rounds' argument is deprecated and will be removed in a future release of LightGBM. \"\n",
      "/home/roton/miniconda3/envs/mars/lib/python3.7/site-packages/lightgbm/sklearn.py:736: UserWarning: 'verbose' argument is deprecated and will be removed in a future release of LightGBM. Pass 'log_evaluation()' callback via 'callbacks' argument instead.\n",
      "  _log_warning(\"'verbose' argument is deprecated and will be removed in a future release of LightGBM. \"\n"
     ]
    },
    {
     "name": "stdout",
     "output_type": "stream",
     "text": [
      "[1]\tvalid_0's binary_logloss: 0.38811\n",
      "[2]\tvalid_0's binary_logloss: 0.356574\n",
      "[3]\tvalid_0's binary_logloss: 0.331904\n",
      "[4]\tvalid_0's binary_logloss: 0.308419\n",
      "[5]\tvalid_0's binary_logloss: 0.294341\n",
      "[6]\tvalid_0's binary_logloss: 0.279783\n",
      "[7]\tvalid_0's binary_logloss: 0.265304\n",
      "[8]\tvalid_0's binary_logloss: 0.256781\n",
      "[9]\tvalid_0's binary_logloss: 0.247495\n",
      "[10]\tvalid_0's binary_logloss: 0.238126\n",
      "[11]\tvalid_0's binary_logloss: 0.231024\n",
      "[12]\tvalid_0's binary_logloss: 0.222995\n",
      "[13]\tvalid_0's binary_logloss: 0.217855\n",
      "[14]\tvalid_0's binary_logloss: 0.210079\n",
      "[15]\tvalid_0's binary_logloss: 0.206667\n",
      "[16]\tvalid_0's binary_logloss: 0.205123\n",
      "[17]\tvalid_0's binary_logloss: 0.201276\n",
      "[18]\tvalid_0's binary_logloss: 0.198225\n",
      "[19]\tvalid_0's binary_logloss: 0.194889\n",
      "[20]\tvalid_0's binary_logloss: 0.191556\n",
      "[21]\tvalid_0's binary_logloss: 0.18962\n",
      "[22]\tvalid_0's binary_logloss: 0.186418\n",
      "[23]\tvalid_0's binary_logloss: 0.185121\n",
      "[24]\tvalid_0's binary_logloss: 0.182936\n",
      "[25]\tvalid_0's binary_logloss: 0.181423\n",
      "[26]\tvalid_0's binary_logloss: 0.179501\n",
      "[27]\tvalid_0's binary_logloss: 0.178835\n",
      "[28]\tvalid_0's binary_logloss: 0.177931\n",
      "[29]\tvalid_0's binary_logloss: 0.177755\n",
      "[30]\tvalid_0's binary_logloss: 0.177377\n",
      "[31]\tvalid_0's binary_logloss: 0.175925\n",
      "[32]\tvalid_0's binary_logloss: 0.176245\n",
      "[33]\tvalid_0's binary_logloss: 0.175321\n",
      "[34]\tvalid_0's binary_logloss: 0.174672\n",
      "[35]\tvalid_0's binary_logloss: 0.175934\n",
      "[36]\tvalid_0's binary_logloss: 0.176405\n",
      "[37]\tvalid_0's binary_logloss: 0.177201\n",
      "[38]\tvalid_0's binary_logloss: 0.17773\n",
      "[39]\tvalid_0's binary_logloss: 0.177779\n",
      "[40]\tvalid_0's binary_logloss: 0.17773\n",
      "[41]\tvalid_0's binary_logloss: 0.177833\n",
      "[42]\tvalid_0's binary_logloss: 0.178323\n",
      "[43]\tvalid_0's binary_logloss: 0.178317\n",
      "[44]\tvalid_0's binary_logloss: 0.179007\n",
      "[45]\tvalid_0's binary_logloss: 0.179613\n",
      "[46]\tvalid_0's binary_logloss: 0.180483\n",
      "[47]\tvalid_0's binary_logloss: 0.181004\n",
      "[48]\tvalid_0's binary_logloss: 0.182209\n",
      "[49]\tvalid_0's binary_logloss: 0.182912\n",
      "[50]\tvalid_0's binary_logloss: 0.183012\n",
      "[51]\tvalid_0's binary_logloss: 0.184381\n",
      "[52]\tvalid_0's binary_logloss: 0.185329\n",
      "[53]\tvalid_0's binary_logloss: 0.185478\n",
      "[54]\tvalid_0's binary_logloss: 0.185648\n",
      "evaluating on the training set...\n",
      "fitting HMM smoother...\n",
      "fitting forward-backward smoother...\n",
      "HMM label smoothing training took 0.01 mins\n",
      "performance on training set:\n",
      "P: 0.9953, R: 0.9855, F1: 0.9903    investigation\n"
     ]
    },
    {
     "name": "stderr",
     "output_type": "stream",
     "text": [
      "/home/roton/miniconda3/envs/mars/lib/python3.7/site-packages/sklearn/utils/validation.py:70: FutureWarning: Pass threshold=0.5 as keyword args. From version 0.25 passing these as positional arguments will result in an error\n",
      "  FutureWarning)\n"
     ]
    },
    {
     "name": "stdout",
     "output_type": "stream",
     "text": [
      "done training!\n",
      "complete training took 2.11 mins\n",
      "loading test data...\n"
     ]
    },
    {
     "name": "stderr",
     "output_type": "stream",
     "text": [
      "Filtering sequence 0/27    0% --  [Elapsed Time: 0:00:00] |  | (ETA:  --:--:--) \r"
     ]
    },
    {
     "name": "stdout",
     "output_type": "stream",
     "text": [
      "sorting features and applying filters...\n"
     ]
    },
    {
     "name": "stderr",
     "output_type": "stream",
     "text": [
      "Filtering sequence 27/27  100% --  [Elapsed Time: 0:05:23] |##| (Time: 0:05:23) \n"
     ]
    },
    {
     "name": "stdout",
     "output_type": "stream",
     "text": [
      "done!\n",
      "\n",
      "loaded test data: 364826 X 3408 - ['investigation'] \n",
      "loading classifiers from /media/storage/ryan/mabe_challenge/behavior/trained_classifiers/mabe_challenge_lgt_es20_wnd/\n",
      "n_classes = 4\n",
      "{'attack': 0, 'investigation': 1, 'mount': 2, 'other': 3}\n",
      "predicting investigation...\n",
      "inference took 59.16 sec\n",
      " \n",
      "Classifier performance:\n"
     ]
    },
    {
     "name": "stderr",
     "output_type": "stream",
     "text": [
      "/home/roton/miniconda3/envs/mars/lib/python3.7/site-packages/sklearn/metrics/_classification.py:1221: UndefinedMetricWarning: Precision and F-score are ill-defined and being set to 0.0 in labels with no predicted samples. Use `zero_division` parameter to control this behavior.\n",
      "  _warn_prf(average, modifier, msg_start, len(result))\n",
      "/home/roton/miniconda3/envs/mars/lib/python3.7/site-packages/sklearn/metrics/_classification.py:1221: UndefinedMetricWarning: Recall and F-score are ill-defined and being set to 0.0 in labels with no true samples. Use `zero_division` parameter to control this behavior.\n",
      "  _warn_prf(average, modifier, msg_start, len(result))\n"
     ]
    },
    {
     "name": "stdout",
     "output_type": "stream",
     "text": [
      "              attack   investigation   other    \n",
      "  Precision:    0.0      0.852      0.0     \n",
      "     Recall:    0.0      0.636      0.0     \n",
      "   F1 Score:    0.0      0.728      0.0     \n",
      "Loop: 3\n",
      "val set size: 5096\n",
      "training set size: 33410.0\n",
      "loading training data...\n"
     ]
    },
    {
     "name": "stderr",
     "output_type": "stream",
     "text": [
      "Filtering sequence 0/4    0% --  [Elapsed Time: 0:00:00] |   | (ETA:  --:--:--) \r"
     ]
    },
    {
     "name": "stdout",
     "output_type": "stream",
     "text": [
      "sorting features and applying filters...\n"
     ]
    },
    {
     "name": "stderr",
     "output_type": "stream",
     "text": [
      "Filtering sequence 4/4  100% --  [Elapsed Time: 0:00:27] |####| (Time: 0:00:27) \n"
     ]
    },
    {
     "name": "stdout",
     "output_type": "stream",
     "text": [
      "done!\n",
      "\n",
      "loading validation data...\n"
     ]
    },
    {
     "name": "stderr",
     "output_type": "stream",
     "text": [
      "Filtering sequence 0/1    0% --  [Elapsed Time: 0:00:00] |   | (ETA:  --:--:--) \r"
     ]
    },
    {
     "name": "stdout",
     "output_type": "stream",
     "text": [
      "sorting features and applying filters...\n"
     ]
    },
    {
     "name": "stderr",
     "output_type": "stream",
     "text": [
      "Filtering sequence 1/1  100% --  [Elapsed Time: 0:00:03] |####| (Time: 0:00:03) \n"
     ]
    },
    {
     "name": "stdout",
     "output_type": "stream",
     "text": [
      "done!\n",
      "\n",
      "loaded training data: 33410 X 3408 - ['investigation'] \n",
      "Training classifier: MABE_CHALLENGE_LGT_ES20_WND/\n",
      "######################### investigation #########################\n",
      "training using 8447 positive frames (93 bouts)\n",
      "fitting preprocessing parameters...\n",
      "fitting clf for investigation\n",
      "    training set: 8447 positive / 33410 total (25 %)\n",
      "    eval set: 780 positive / 5096 total (15 %)\n",
      "  + early stopping\n"
     ]
    },
    {
     "name": "stderr",
     "output_type": "stream",
     "text": [
      "/home/roton/miniconda3/envs/mars/lib/python3.7/site-packages/lightgbm/sklearn.py:726: UserWarning: 'early_stopping_rounds' argument is deprecated and will be removed in a future release of LightGBM. Pass 'early_stopping()' callback via 'callbacks' argument instead.\n",
      "  _log_warning(\"'early_stopping_rounds' argument is deprecated and will be removed in a future release of LightGBM. \"\n",
      "/home/roton/miniconda3/envs/mars/lib/python3.7/site-packages/lightgbm/sklearn.py:736: UserWarning: 'verbose' argument is deprecated and will be removed in a future release of LightGBM. Pass 'log_evaluation()' callback via 'callbacks' argument instead.\n",
      "  _log_warning(\"'verbose' argument is deprecated and will be removed in a future release of LightGBM. \"\n"
     ]
    },
    {
     "name": "stdout",
     "output_type": "stream",
     "text": [
      "[1]\tvalid_0's binary_logloss: 0.421652\n",
      "[2]\tvalid_0's binary_logloss: 0.397605\n",
      "[3]\tvalid_0's binary_logloss: 0.371567\n",
      "[4]\tvalid_0's binary_logloss: 0.352823\n",
      "[5]\tvalid_0's binary_logloss: 0.33496\n",
      "[6]\tvalid_0's binary_logloss: 0.323268\n",
      "[7]\tvalid_0's binary_logloss: 0.31348\n",
      "[8]\tvalid_0's binary_logloss: 0.299829\n",
      "[9]\tvalid_0's binary_logloss: 0.290547\n",
      "[10]\tvalid_0's binary_logloss: 0.283607\n",
      "[11]\tvalid_0's binary_logloss: 0.273141\n",
      "[12]\tvalid_0's binary_logloss: 0.267932\n",
      "[13]\tvalid_0's binary_logloss: 0.260689\n",
      "[14]\tvalid_0's binary_logloss: 0.254426\n",
      "[15]\tvalid_0's binary_logloss: 0.248808\n",
      "[16]\tvalid_0's binary_logloss: 0.242837\n",
      "[17]\tvalid_0's binary_logloss: 0.238436\n",
      "[18]\tvalid_0's binary_logloss: 0.233241\n",
      "[19]\tvalid_0's binary_logloss: 0.230434\n",
      "[20]\tvalid_0's binary_logloss: 0.229669\n",
      "[21]\tvalid_0's binary_logloss: 0.227032\n",
      "[22]\tvalid_0's binary_logloss: 0.225753\n",
      "[23]\tvalid_0's binary_logloss: 0.225649\n",
      "[24]\tvalid_0's binary_logloss: 0.225905\n",
      "[25]\tvalid_0's binary_logloss: 0.223533\n",
      "[26]\tvalid_0's binary_logloss: 0.222643\n",
      "[27]\tvalid_0's binary_logloss: 0.223309\n",
      "[28]\tvalid_0's binary_logloss: 0.221196\n",
      "[29]\tvalid_0's binary_logloss: 0.220132\n",
      "[30]\tvalid_0's binary_logloss: 0.217346\n",
      "[31]\tvalid_0's binary_logloss: 0.218045\n",
      "[32]\tvalid_0's binary_logloss: 0.216157\n",
      "[33]\tvalid_0's binary_logloss: 0.215203\n",
      "[34]\tvalid_0's binary_logloss: 0.216162\n",
      "[35]\tvalid_0's binary_logloss: 0.213642\n",
      "[36]\tvalid_0's binary_logloss: 0.213808\n",
      "[37]\tvalid_0's binary_logloss: 0.216277\n",
      "[38]\tvalid_0's binary_logloss: 0.21607\n",
      "[39]\tvalid_0's binary_logloss: 0.217224\n",
      "[40]\tvalid_0's binary_logloss: 0.220773\n",
      "[41]\tvalid_0's binary_logloss: 0.219762\n",
      "[42]\tvalid_0's binary_logloss: 0.220819\n",
      "[43]\tvalid_0's binary_logloss: 0.220884\n",
      "[44]\tvalid_0's binary_logloss: 0.221091\n",
      "[45]\tvalid_0's binary_logloss: 0.218459\n",
      "[46]\tvalid_0's binary_logloss: 0.215999\n",
      "[47]\tvalid_0's binary_logloss: 0.218754\n",
      "[48]\tvalid_0's binary_logloss: 0.219792\n",
      "[49]\tvalid_0's binary_logloss: 0.220224\n",
      "[50]\tvalid_0's binary_logloss: 0.218294\n",
      "[51]\tvalid_0's binary_logloss: 0.218413\n",
      "[52]\tvalid_0's binary_logloss: 0.216771\n",
      "[53]\tvalid_0's binary_logloss: 0.217171\n",
      "[54]\tvalid_0's binary_logloss: 0.216778\n",
      "[55]\tvalid_0's binary_logloss: 0.216255\n",
      "evaluating on the training set...\n",
      "fitting HMM smoother...\n",
      "fitting forward-backward smoother...\n",
      "HMM label smoothing training took 0.01 mins\n",
      "performance on training set:\n",
      "P: 0.9911, R: 0.9838, F1: 0.9874    investigation\n"
     ]
    },
    {
     "name": "stderr",
     "output_type": "stream",
     "text": [
      "/home/roton/miniconda3/envs/mars/lib/python3.7/site-packages/sklearn/utils/validation.py:70: FutureWarning: Pass threshold=0.5 as keyword args. From version 0.25 passing these as positional arguments will result in an error\n",
      "  FutureWarning)\n"
     ]
    },
    {
     "name": "stdout",
     "output_type": "stream",
     "text": [
      "done training!\n",
      "complete training took 1.05 mins\n",
      "loading test data...\n"
     ]
    },
    {
     "name": "stderr",
     "output_type": "stream",
     "text": [
      "Filtering sequence 0/27    0% --  [Elapsed Time: 0:00:00] |  | (ETA:  --:--:--) \r"
     ]
    },
    {
     "name": "stdout",
     "output_type": "stream",
     "text": [
      "sorting features and applying filters...\n"
     ]
    },
    {
     "name": "stderr",
     "output_type": "stream",
     "text": [
      "Filtering sequence 27/27  100% --  [Elapsed Time: 0:05:19] |##| (Time: 0:05:19) \n"
     ]
    },
    {
     "name": "stdout",
     "output_type": "stream",
     "text": [
      "done!\n",
      "\n",
      "loaded test data: 364826 X 3408 - ['investigation'] \n",
      "loading classifiers from /media/storage/ryan/mabe_challenge/behavior/trained_classifiers/mabe_challenge_lgt_es20_wnd/\n",
      "n_classes = 4\n",
      "{'attack': 0, 'investigation': 1, 'mount': 2, 'other': 3}\n",
      "predicting investigation...\n",
      "inference took 62.61 sec\n",
      " \n",
      "Classifier performance:\n"
     ]
    },
    {
     "name": "stderr",
     "output_type": "stream",
     "text": [
      "/home/roton/miniconda3/envs/mars/lib/python3.7/site-packages/sklearn/metrics/_classification.py:1221: UndefinedMetricWarning: Precision and F-score are ill-defined and being set to 0.0 in labels with no predicted samples. Use `zero_division` parameter to control this behavior.\n",
      "  _warn_prf(average, modifier, msg_start, len(result))\n",
      "/home/roton/miniconda3/envs/mars/lib/python3.7/site-packages/sklearn/metrics/_classification.py:1221: UndefinedMetricWarning: Recall and F-score are ill-defined and being set to 0.0 in labels with no true samples. Use `zero_division` parameter to control this behavior.\n",
      "  _warn_prf(average, modifier, msg_start, len(result))\n"
     ]
    },
    {
     "name": "stdout",
     "output_type": "stream",
     "text": [
      "              attack   investigation   other    \n",
      "  Precision:    0.0      0.793      0.0     \n",
      "     Recall:    0.0      0.672      0.0     \n",
      "   F1 Score:    0.0      0.728      0.0     \n",
      "Loop: 4\n",
      "val set size: 9851\n",
      "training set size: 41758.0\n",
      "loading training data...\n"
     ]
    },
    {
     "name": "stderr",
     "output_type": "stream",
     "text": [
      "Filtering sequence 0/6    0% --  [Elapsed Time: 0:00:00] |   | (ETA:  --:--:--) \r"
     ]
    },
    {
     "name": "stdout",
     "output_type": "stream",
     "text": [
      "sorting features and applying filters...\n"
     ]
    },
    {
     "name": "stderr",
     "output_type": "stream",
     "text": [
      "Filtering sequence 6/6  100% --  [Elapsed Time: 0:00:35] |####| (Time: 0:00:35) \n"
     ]
    },
    {
     "name": "stdout",
     "output_type": "stream",
     "text": [
      "done!\n",
      "\n",
      "loading validation data...\n"
     ]
    },
    {
     "name": "stderr",
     "output_type": "stream",
     "text": [
      "Filtering sequence 0/2    0% --  [Elapsed Time: 0:00:00] |   | (ETA:  --:--:--) \r"
     ]
    },
    {
     "name": "stdout",
     "output_type": "stream",
     "text": [
      "sorting features and applying filters...\n"
     ]
    },
    {
     "name": "stderr",
     "output_type": "stream",
     "text": [
      "Filtering sequence 2/2  100% --  [Elapsed Time: 0:00:08] |####| (Time: 0:00:08) \n"
     ]
    },
    {
     "name": "stdout",
     "output_type": "stream",
     "text": [
      "done!\n",
      "\n",
      "loaded training data: 41758 X 3408 - ['investigation'] \n",
      "Training classifier: MABE_CHALLENGE_LGT_ES20_WND/\n",
      "######################### investigation #########################\n",
      "training using 9138 positive frames (105 bouts)\n",
      "fitting preprocessing parameters...\n",
      "fitting clf for investigation\n",
      "    training set: 9138 positive / 41758 total (21 %)\n",
      "    eval set: 2462 positive / 9851 total (24 %)\n",
      "  + early stopping\n"
     ]
    },
    {
     "name": "stderr",
     "output_type": "stream",
     "text": [
      "/home/roton/miniconda3/envs/mars/lib/python3.7/site-packages/lightgbm/sklearn.py:726: UserWarning: 'early_stopping_rounds' argument is deprecated and will be removed in a future release of LightGBM. Pass 'early_stopping()' callback via 'callbacks' argument instead.\n",
      "  _log_warning(\"'early_stopping_rounds' argument is deprecated and will be removed in a future release of LightGBM. \"\n",
      "/home/roton/miniconda3/envs/mars/lib/python3.7/site-packages/lightgbm/sklearn.py:736: UserWarning: 'verbose' argument is deprecated and will be removed in a future release of LightGBM. Pass 'log_evaluation()' callback via 'callbacks' argument instead.\n",
      "  _log_warning(\"'verbose' argument is deprecated and will be removed in a future release of LightGBM. \"\n"
     ]
    },
    {
     "name": "stdout",
     "output_type": "stream",
     "text": [
      "[1]\tvalid_0's binary_logloss: 0.507078\n",
      "[2]\tvalid_0's binary_logloss: 0.465291\n",
      "[3]\tvalid_0's binary_logloss: 0.430835\n",
      "[4]\tvalid_0's binary_logloss: 0.410254\n",
      "[5]\tvalid_0's binary_logloss: 0.387272\n",
      "[6]\tvalid_0's binary_logloss: 0.366149\n",
      "[7]\tvalid_0's binary_logloss: 0.348363\n",
      "[8]\tvalid_0's binary_logloss: 0.335379\n",
      "[9]\tvalid_0's binary_logloss: 0.322061\n",
      "[10]\tvalid_0's binary_logloss: 0.312233\n",
      "[11]\tvalid_0's binary_logloss: 0.300801\n",
      "[12]\tvalid_0's binary_logloss: 0.291799\n",
      "[13]\tvalid_0's binary_logloss: 0.284396\n",
      "[14]\tvalid_0's binary_logloss: 0.275128\n",
      "[15]\tvalid_0's binary_logloss: 0.268546\n",
      "[16]\tvalid_0's binary_logloss: 0.262565\n",
      "[17]\tvalid_0's binary_logloss: 0.25702\n",
      "[18]\tvalid_0's binary_logloss: 0.250527\n",
      "[19]\tvalid_0's binary_logloss: 0.246943\n",
      "[20]\tvalid_0's binary_logloss: 0.242563\n",
      "[21]\tvalid_0's binary_logloss: 0.239782\n",
      "[22]\tvalid_0's binary_logloss: 0.237606\n",
      "[23]\tvalid_0's binary_logloss: 0.234728\n",
      "[24]\tvalid_0's binary_logloss: 0.232957\n",
      "[25]\tvalid_0's binary_logloss: 0.23032\n",
      "[26]\tvalid_0's binary_logloss: 0.227946\n",
      "[27]\tvalid_0's binary_logloss: 0.227039\n",
      "[28]\tvalid_0's binary_logloss: 0.226483\n",
      "[29]\tvalid_0's binary_logloss: 0.225128\n",
      "[30]\tvalid_0's binary_logloss: 0.223606\n",
      "[31]\tvalid_0's binary_logloss: 0.221039\n",
      "[32]\tvalid_0's binary_logloss: 0.218899\n",
      "[33]\tvalid_0's binary_logloss: 0.218116\n",
      "[34]\tvalid_0's binary_logloss: 0.217017\n",
      "[35]\tvalid_0's binary_logloss: 0.21698\n",
      "[36]\tvalid_0's binary_logloss: 0.215235\n",
      "[37]\tvalid_0's binary_logloss: 0.212488\n",
      "[38]\tvalid_0's binary_logloss: 0.211591\n",
      "[39]\tvalid_0's binary_logloss: 0.211598\n",
      "[40]\tvalid_0's binary_logloss: 0.212617\n",
      "[41]\tvalid_0's binary_logloss: 0.21295\n",
      "[42]\tvalid_0's binary_logloss: 0.212023\n",
      "[43]\tvalid_0's binary_logloss: 0.211788\n",
      "[44]\tvalid_0's binary_logloss: 0.212517\n",
      "[45]\tvalid_0's binary_logloss: 0.212892\n",
      "[46]\tvalid_0's binary_logloss: 0.212371\n",
      "[47]\tvalid_0's binary_logloss: 0.215131\n",
      "[48]\tvalid_0's binary_logloss: 0.214073\n",
      "[49]\tvalid_0's binary_logloss: 0.214704\n",
      "[50]\tvalid_0's binary_logloss: 0.21426\n",
      "[51]\tvalid_0's binary_logloss: 0.213293\n",
      "[52]\tvalid_0's binary_logloss: 0.214136\n",
      "[53]\tvalid_0's binary_logloss: 0.214583\n",
      "[54]\tvalid_0's binary_logloss: 0.214906\n",
      "[55]\tvalid_0's binary_logloss: 0.214504\n",
      "[56]\tvalid_0's binary_logloss: 0.21457\n",
      "[57]\tvalid_0's binary_logloss: 0.215739\n",
      "[58]\tvalid_0's binary_logloss: 0.216039\n",
      "evaluating on the training set...\n",
      "fitting HMM smoother...\n",
      "fitting forward-backward smoother...\n",
      "HMM label smoothing training took 0.02 mins\n",
      "performance on training set:\n",
      "P: 0.9855, R: 0.9749, F1: 0.9802    investigation\n",
      "done training!\n",
      "complete training took 1.75 mins\n"
     ]
    },
    {
     "name": "stderr",
     "output_type": "stream",
     "text": [
      "/home/roton/miniconda3/envs/mars/lib/python3.7/site-packages/sklearn/utils/validation.py:70: FutureWarning: Pass threshold=0.5 as keyword args. From version 0.25 passing these as positional arguments will result in an error\n",
      "  FutureWarning)\n"
     ]
    },
    {
     "name": "stdout",
     "output_type": "stream",
     "text": [
      "loading test data...\n"
     ]
    },
    {
     "name": "stderr",
     "output_type": "stream",
     "text": [
      "Filtering sequence 0/27    0% --  [Elapsed Time: 0:00:00] |  | (ETA:  --:--:--) \r"
     ]
    },
    {
     "name": "stdout",
     "output_type": "stream",
     "text": [
      "sorting features and applying filters...\n"
     ]
    },
    {
     "name": "stderr",
     "output_type": "stream",
     "text": [
      "Filtering sequence 27/27  100% --  [Elapsed Time: 0:05:47] |##| (Time: 0:05:47) \n"
     ]
    },
    {
     "name": "stdout",
     "output_type": "stream",
     "text": [
      "done!\n",
      "\n",
      "loaded test data: 364826 X 3408 - ['investigation'] \n",
      "loading classifiers from /media/storage/ryan/mabe_challenge/behavior/trained_classifiers/mabe_challenge_lgt_es20_wnd/\n",
      "n_classes = 4\n",
      "{'attack': 0, 'investigation': 1, 'mount': 2, 'other': 3}\n",
      "predicting investigation...\n",
      "inference took 50.20 sec\n",
      " \n",
      "Classifier performance:\n"
     ]
    },
    {
     "name": "stderr",
     "output_type": "stream",
     "text": [
      "/home/roton/miniconda3/envs/mars/lib/python3.7/site-packages/sklearn/metrics/_classification.py:1221: UndefinedMetricWarning: Precision and F-score are ill-defined and being set to 0.0 in labels with no predicted samples. Use `zero_division` parameter to control this behavior.\n",
      "  _warn_prf(average, modifier, msg_start, len(result))\n",
      "/home/roton/miniconda3/envs/mars/lib/python3.7/site-packages/sklearn/metrics/_classification.py:1221: UndefinedMetricWarning: Recall and F-score are ill-defined and being set to 0.0 in labels with no true samples. Use `zero_division` parameter to control this behavior.\n",
      "  _warn_prf(average, modifier, msg_start, len(result))\n"
     ]
    },
    {
     "name": "stdout",
     "output_type": "stream",
     "text": [
      "              attack   investigation   other    \n",
      "  Precision:    0.0      0.833      0.0     \n",
      "     Recall:    0.0      0.575      0.0     \n",
      "   F1 Score:    0.0      0.68       0.0     \n",
      "Loop: 5\n",
      "val set size: 23073\n",
      "training set size: 79991.0\n",
      "loading training data...\n"
     ]
    },
    {
     "name": "stderr",
     "output_type": "stream",
     "text": [
      "Filtering sequence 0/10    0% --  [Elapsed Time: 0:00:00] |  | (ETA:  --:--:--) \r"
     ]
    },
    {
     "name": "stdout",
     "output_type": "stream",
     "text": [
      "sorting features and applying filters...\n"
     ]
    },
    {
     "name": "stderr",
     "output_type": "stream",
     "text": [
      "Filtering sequence 10/10  100% --  [Elapsed Time: 0:01:06] |##| (Time: 0:01:06) \n"
     ]
    },
    {
     "name": "stdout",
     "output_type": "stream",
     "text": [
      "done!\n",
      "\n",
      "loading validation data...\n"
     ]
    },
    {
     "name": "stderr",
     "output_type": "stream",
     "text": [
      "Filtering sequence 0/3    0% --  [Elapsed Time: 0:00:00] |   | (ETA:  --:--:--) \r"
     ]
    },
    {
     "name": "stdout",
     "output_type": "stream",
     "text": [
      "sorting features and applying filters...\n"
     ]
    },
    {
     "name": "stderr",
     "output_type": "stream",
     "text": [
      "Filtering sequence 3/3  100% --  [Elapsed Time: 0:00:18] |####| (Time: 0:00:18) \n"
     ]
    },
    {
     "name": "stdout",
     "output_type": "stream",
     "text": [
      "done!\n",
      "\n",
      "loaded training data: 79991 X 3408 - ['investigation'] \n",
      "Training classifier: MABE_CHALLENGE_LGT_ES20_WND/\n",
      "######################### investigation #########################\n",
      "training using 25916 positive frames (250 bouts)\n",
      "fitting preprocessing parameters...\n",
      "fitting clf for investigation\n",
      "    training set: 25916 positive / 79991 total (32 %)\n",
      "    eval set: 4281 positive / 23073 total (18 %)\n",
      "  + early stopping\n"
     ]
    },
    {
     "name": "stderr",
     "output_type": "stream",
     "text": [
      "/home/roton/miniconda3/envs/mars/lib/python3.7/site-packages/lightgbm/sklearn.py:726: UserWarning: 'early_stopping_rounds' argument is deprecated and will be removed in a future release of LightGBM. Pass 'early_stopping()' callback via 'callbacks' argument instead.\n",
      "  _log_warning(\"'early_stopping_rounds' argument is deprecated and will be removed in a future release of LightGBM. \"\n",
      "/home/roton/miniconda3/envs/mars/lib/python3.7/site-packages/lightgbm/sklearn.py:736: UserWarning: 'verbose' argument is deprecated and will be removed in a future release of LightGBM. Pass 'log_evaluation()' callback via 'callbacks' argument instead.\n",
      "  _log_warning(\"'verbose' argument is deprecated and will be removed in a future release of LightGBM. \"\n"
     ]
    },
    {
     "name": "stdout",
     "output_type": "stream",
     "text": [
      "[1]\tvalid_0's binary_logloss: 0.486049\n",
      "[2]\tvalid_0's binary_logloss: 0.452342\n",
      "[3]\tvalid_0's binary_logloss: 0.426792\n",
      "[4]\tvalid_0's binary_logloss: 0.403611\n",
      "[5]\tvalid_0's binary_logloss: 0.381104\n",
      "[6]\tvalid_0's binary_logloss: 0.36385\n",
      "[7]\tvalid_0's binary_logloss: 0.349511\n",
      "[8]\tvalid_0's binary_logloss: 0.337781\n",
      "[9]\tvalid_0's binary_logloss: 0.326518\n",
      "[10]\tvalid_0's binary_logloss: 0.315797\n",
      "[11]\tvalid_0's binary_logloss: 0.307933\n",
      "[12]\tvalid_0's binary_logloss: 0.301725\n",
      "[13]\tvalid_0's binary_logloss: 0.297624\n",
      "[14]\tvalid_0's binary_logloss: 0.290959\n",
      "[15]\tvalid_0's binary_logloss: 0.285881\n",
      "[16]\tvalid_0's binary_logloss: 0.280263\n",
      "[17]\tvalid_0's binary_logloss: 0.275497\n",
      "[18]\tvalid_0's binary_logloss: 0.27471\n",
      "[19]\tvalid_0's binary_logloss: 0.272612\n",
      "[20]\tvalid_0's binary_logloss: 0.268485\n",
      "[21]\tvalid_0's binary_logloss: 0.267635\n",
      "[22]\tvalid_0's binary_logloss: 0.26661\n",
      "[23]\tvalid_0's binary_logloss: 0.265668\n",
      "[24]\tvalid_0's binary_logloss: 0.264065\n",
      "[25]\tvalid_0's binary_logloss: 0.260899\n",
      "[26]\tvalid_0's binary_logloss: 0.258696\n",
      "[27]\tvalid_0's binary_logloss: 0.258919\n",
      "[28]\tvalid_0's binary_logloss: 0.257645\n",
      "[29]\tvalid_0's binary_logloss: 0.257735\n",
      "[30]\tvalid_0's binary_logloss: 0.258687\n",
      "[31]\tvalid_0's binary_logloss: 0.256808\n",
      "[32]\tvalid_0's binary_logloss: 0.258293\n",
      "[33]\tvalid_0's binary_logloss: 0.259792\n",
      "[34]\tvalid_0's binary_logloss: 0.260861\n",
      "[35]\tvalid_0's binary_logloss: 0.260625\n",
      "[36]\tvalid_0's binary_logloss: 0.258677\n",
      "[37]\tvalid_0's binary_logloss: 0.260361\n",
      "[38]\tvalid_0's binary_logloss: 0.260744\n",
      "[39]\tvalid_0's binary_logloss: 0.259932\n",
      "[40]\tvalid_0's binary_logloss: 0.257825\n",
      "[41]\tvalid_0's binary_logloss: 0.259061\n",
      "[42]\tvalid_0's binary_logloss: 0.25941\n",
      "[43]\tvalid_0's binary_logloss: 0.257824\n",
      "[44]\tvalid_0's binary_logloss: 0.256862\n",
      "[45]\tvalid_0's binary_logloss: 0.256679\n",
      "[46]\tvalid_0's binary_logloss: 0.257273\n",
      "[47]\tvalid_0's binary_logloss: 0.256228\n",
      "[48]\tvalid_0's binary_logloss: 0.25599\n",
      "[49]\tvalid_0's binary_logloss: 0.257195\n",
      "[50]\tvalid_0's binary_logloss: 0.257982\n",
      "[51]\tvalid_0's binary_logloss: 0.258965\n",
      "[52]\tvalid_0's binary_logloss: 0.259847\n",
      "[53]\tvalid_0's binary_logloss: 0.259233\n",
      "[54]\tvalid_0's binary_logloss: 0.259062\n",
      "[55]\tvalid_0's binary_logloss: 0.257476\n",
      "[56]\tvalid_0's binary_logloss: 0.257791\n",
      "[57]\tvalid_0's binary_logloss: 0.257447\n",
      "[58]\tvalid_0's binary_logloss: 0.25777\n",
      "[59]\tvalid_0's binary_logloss: 0.258652\n",
      "[60]\tvalid_0's binary_logloss: 0.25936\n",
      "[61]\tvalid_0's binary_logloss: 0.259776\n",
      "[62]\tvalid_0's binary_logloss: 0.260609\n",
      "[63]\tvalid_0's binary_logloss: 0.261372\n",
      "[64]\tvalid_0's binary_logloss: 0.261376\n",
      "[65]\tvalid_0's binary_logloss: 0.26223\n",
      "[66]\tvalid_0's binary_logloss: 0.262879\n",
      "[67]\tvalid_0's binary_logloss: 0.264723\n",
      "[68]\tvalid_0's binary_logloss: 0.263755\n",
      "evaluating on the training set...\n",
      "fitting HMM smoother...\n",
      "fitting forward-backward smoother...\n"
     ]
    },
    {
     "name": "stderr",
     "output_type": "stream",
     "text": [
      "/home/roton/miniconda3/envs/mars/lib/python3.7/site-packages/sklearn/utils/validation.py:70: FutureWarning: Pass threshold=0.5 as keyword args. From version 0.25 passing these as positional arguments will result in an error\n",
      "  FutureWarning)\n"
     ]
    },
    {
     "name": "stdout",
     "output_type": "stream",
     "text": [
      "HMM label smoothing training took 0.04 mins\n",
      "performance on training set:\n",
      "P: 0.9640, R: 0.9701, F1: 0.9671    investigation\n",
      "done training!\n",
      "complete training took 1.61 mins\n",
      "loading test data...\n"
     ]
    },
    {
     "name": "stderr",
     "output_type": "stream",
     "text": [
      "Filtering sequence 0/27    0% --  [Elapsed Time: 0:00:00] |  | (ETA:  --:--:--) \r"
     ]
    },
    {
     "name": "stdout",
     "output_type": "stream",
     "text": [
      "sorting features and applying filters...\n"
     ]
    },
    {
     "name": "stderr",
     "output_type": "stream",
     "text": [
      "Filtering sequence 27/27  100% --  [Elapsed Time: 0:05:15] |##| (Time: 0:05:15) \n"
     ]
    },
    {
     "name": "stdout",
     "output_type": "stream",
     "text": [
      "done!\n",
      "\n",
      "loaded test data: 364826 X 3408 - ['investigation'] \n",
      "loading classifiers from /media/storage/ryan/mabe_challenge/behavior/trained_classifiers/mabe_challenge_lgt_es20_wnd/\n",
      "n_classes = 4\n",
      "{'attack': 0, 'investigation': 1, 'mount': 2, 'other': 3}\n",
      "predicting investigation...\n",
      "inference took 53.04 sec\n",
      " \n",
      "Classifier performance:\n"
     ]
    },
    {
     "name": "stderr",
     "output_type": "stream",
     "text": [
      "/home/roton/miniconda3/envs/mars/lib/python3.7/site-packages/sklearn/metrics/_classification.py:1221: UndefinedMetricWarning: Precision and F-score are ill-defined and being set to 0.0 in labels with no predicted samples. Use `zero_division` parameter to control this behavior.\n",
      "  _warn_prf(average, modifier, msg_start, len(result))\n",
      "/home/roton/miniconda3/envs/mars/lib/python3.7/site-packages/sklearn/metrics/_classification.py:1221: UndefinedMetricWarning: Recall and F-score are ill-defined and being set to 0.0 in labels with no true samples. Use `zero_division` parameter to control this behavior.\n",
      "  _warn_prf(average, modifier, msg_start, len(result))\n"
     ]
    },
    {
     "name": "stdout",
     "output_type": "stream",
     "text": [
      "              attack   investigation   other    \n",
      "  Precision:    0.0      0.792      0.0     \n",
      "     Recall:    0.0      0.796      0.0     \n",
      "   F1 Score:    0.0      0.794      0.0     \n",
      "Loop: 6\n",
      "val set size: 23073\n",
      "training set size: 132983.0\n",
      "loading training data...\n"
     ]
    },
    {
     "name": "stderr",
     "output_type": "stream",
     "text": [
      "Filtering sequence 0/18    0% --  [Elapsed Time: 0:00:00] |  | (ETA:  --:--:--) \r"
     ]
    },
    {
     "name": "stdout",
     "output_type": "stream",
     "text": [
      "sorting features and applying filters...\n"
     ]
    },
    {
     "name": "stderr",
     "output_type": "stream",
     "text": [
      "Filtering sequence 18/18  100% --  [Elapsed Time: 0:01:46] |##| (Time: 0:01:46) \n"
     ]
    },
    {
     "name": "stdout",
     "output_type": "stream",
     "text": [
      "done!\n",
      "\n",
      "loading validation data...\n"
     ]
    },
    {
     "name": "stderr",
     "output_type": "stream",
     "text": [
      "Filtering sequence 0/3    0% --  [Elapsed Time: 0:00:00] |   | (ETA:  --:--:--) \r"
     ]
    },
    {
     "name": "stdout",
     "output_type": "stream",
     "text": [
      "sorting features and applying filters...\n"
     ]
    },
    {
     "name": "stderr",
     "output_type": "stream",
     "text": [
      "Filtering sequence 3/3  100% --  [Elapsed Time: 0:00:18] |####| (Time: 0:00:18) \n"
     ]
    },
    {
     "name": "stdout",
     "output_type": "stream",
     "text": [
      "done!\n",
      "\n",
      "loaded training data: 132983 X 3408 - ['investigation'] \n",
      "Training classifier: MABE_CHALLENGE_LGT_ES20_WND/\n",
      "######################### investigation #########################\n",
      "training using 36951 positive frames (439 bouts)\n",
      "fitting preprocessing parameters...\n",
      "fitting clf for investigation\n",
      "    training set: 36951 positive / 132983 total (27 %)\n",
      "    eval set: 4281 positive / 23073 total (18 %)\n",
      "  + early stopping\n"
     ]
    },
    {
     "name": "stderr",
     "output_type": "stream",
     "text": [
      "/home/roton/miniconda3/envs/mars/lib/python3.7/site-packages/lightgbm/sklearn.py:726: UserWarning: 'early_stopping_rounds' argument is deprecated and will be removed in a future release of LightGBM. Pass 'early_stopping()' callback via 'callbacks' argument instead.\n",
      "  _log_warning(\"'early_stopping_rounds' argument is deprecated and will be removed in a future release of LightGBM. \"\n",
      "/home/roton/miniconda3/envs/mars/lib/python3.7/site-packages/lightgbm/sklearn.py:736: UserWarning: 'verbose' argument is deprecated and will be removed in a future release of LightGBM. Pass 'log_evaluation()' callback via 'callbacks' argument instead.\n",
      "  _log_warning(\"'verbose' argument is deprecated and will be removed in a future release of LightGBM. \"\n"
     ]
    },
    {
     "name": "stdout",
     "output_type": "stream",
     "text": [
      "[1]\tvalid_0's binary_logloss: 0.459101\n",
      "[2]\tvalid_0's binary_logloss: 0.424777\n",
      "[3]\tvalid_0's binary_logloss: 0.397715\n",
      "[4]\tvalid_0's binary_logloss: 0.375423\n",
      "[5]\tvalid_0's binary_logloss: 0.356549\n",
      "[6]\tvalid_0's binary_logloss: 0.341837\n",
      "[7]\tvalid_0's binary_logloss: 0.329924\n",
      "[8]\tvalid_0's binary_logloss: 0.320092\n",
      "[9]\tvalid_0's binary_logloss: 0.310343\n",
      "[10]\tvalid_0's binary_logloss: 0.299446\n",
      "[11]\tvalid_0's binary_logloss: 0.293825\n",
      "[12]\tvalid_0's binary_logloss: 0.285491\n",
      "[13]\tvalid_0's binary_logloss: 0.278848\n",
      "[14]\tvalid_0's binary_logloss: 0.274513\n",
      "[15]\tvalid_0's binary_logloss: 0.270608\n",
      "[16]\tvalid_0's binary_logloss: 0.265966\n",
      "[17]\tvalid_0's binary_logloss: 0.264934\n",
      "[18]\tvalid_0's binary_logloss: 0.260191\n",
      "[19]\tvalid_0's binary_logloss: 0.256473\n",
      "[20]\tvalid_0's binary_logloss: 0.254483\n",
      "[21]\tvalid_0's binary_logloss: 0.252312\n",
      "[22]\tvalid_0's binary_logloss: 0.251848\n",
      "[23]\tvalid_0's binary_logloss: 0.252885\n",
      "[24]\tvalid_0's binary_logloss: 0.253667\n",
      "[25]\tvalid_0's binary_logloss: 0.251717\n",
      "[26]\tvalid_0's binary_logloss: 0.249385\n",
      "[27]\tvalid_0's binary_logloss: 0.250174\n",
      "[28]\tvalid_0's binary_logloss: 0.248049\n",
      "[29]\tvalid_0's binary_logloss: 0.24726\n",
      "[30]\tvalid_0's binary_logloss: 0.246507\n",
      "[31]\tvalid_0's binary_logloss: 0.246641\n",
      "[32]\tvalid_0's binary_logloss: 0.246364\n",
      "[33]\tvalid_0's binary_logloss: 0.245274\n",
      "[34]\tvalid_0's binary_logloss: 0.245092\n",
      "[35]\tvalid_0's binary_logloss: 0.243228\n",
      "[36]\tvalid_0's binary_logloss: 0.244007\n",
      "[37]\tvalid_0's binary_logloss: 0.243973\n",
      "[38]\tvalid_0's binary_logloss: 0.242909\n",
      "[39]\tvalid_0's binary_logloss: 0.244172\n",
      "[40]\tvalid_0's binary_logloss: 0.244316\n",
      "[41]\tvalid_0's binary_logloss: 0.243557\n",
      "[42]\tvalid_0's binary_logloss: 0.243253\n",
      "[43]\tvalid_0's binary_logloss: 0.242334\n",
      "[44]\tvalid_0's binary_logloss: 0.244026\n",
      "[45]\tvalid_0's binary_logloss: 0.244408\n",
      "[46]\tvalid_0's binary_logloss: 0.242982\n",
      "[47]\tvalid_0's binary_logloss: 0.242516\n",
      "[48]\tvalid_0's binary_logloss: 0.242286\n",
      "[49]\tvalid_0's binary_logloss: 0.241302\n",
      "[50]\tvalid_0's binary_logloss: 0.241883\n",
      "[51]\tvalid_0's binary_logloss: 0.242865\n",
      "[52]\tvalid_0's binary_logloss: 0.242273\n",
      "[53]\tvalid_0's binary_logloss: 0.242214\n",
      "[54]\tvalid_0's binary_logloss: 0.243741\n",
      "[55]\tvalid_0's binary_logloss: 0.243723\n",
      "[56]\tvalid_0's binary_logloss: 0.243136\n",
      "[57]\tvalid_0's binary_logloss: 0.242423\n",
      "[58]\tvalid_0's binary_logloss: 0.243447\n",
      "[59]\tvalid_0's binary_logloss: 0.245229\n",
      "[60]\tvalid_0's binary_logloss: 0.244452\n",
      "[61]\tvalid_0's binary_logloss: 0.246191\n",
      "[62]\tvalid_0's binary_logloss: 0.244384\n",
      "[63]\tvalid_0's binary_logloss: 0.24411\n",
      "[64]\tvalid_0's binary_logloss: 0.245067\n",
      "[65]\tvalid_0's binary_logloss: 0.245523\n",
      "[66]\tvalid_0's binary_logloss: 0.246279\n",
      "[67]\tvalid_0's binary_logloss: 0.24502\n",
      "[68]\tvalid_0's binary_logloss: 0.245551\n",
      "[69]\tvalid_0's binary_logloss: 0.244702\n",
      "evaluating on the training set...\n",
      "fitting HMM smoother...\n",
      "fitting forward-backward smoother...\n",
      "HMM label smoothing training took 0.07 mins\n",
      "performance on training set:\n",
      "P: 0.9399, R: 0.9417, F1: 0.9408    investigation\n"
     ]
    },
    {
     "name": "stderr",
     "output_type": "stream",
     "text": [
      "/home/roton/miniconda3/envs/mars/lib/python3.7/site-packages/sklearn/utils/validation.py:70: FutureWarning: Pass threshold=0.5 as keyword args. From version 0.25 passing these as positional arguments will result in an error\n",
      "  FutureWarning)\n"
     ]
    },
    {
     "name": "stdout",
     "output_type": "stream",
     "text": [
      "done training!\n",
      "complete training took 3.17 mins\n",
      "loading test data...\n"
     ]
    },
    {
     "name": "stderr",
     "output_type": "stream",
     "text": [
      "Filtering sequence 0/27    0% --  [Elapsed Time: 0:00:00] |  | (ETA:  --:--:--) \r"
     ]
    },
    {
     "name": "stdout",
     "output_type": "stream",
     "text": [
      "sorting features and applying filters...\n"
     ]
    },
    {
     "name": "stderr",
     "output_type": "stream",
     "text": [
      "Filtering sequence 27/27  100% --  [Elapsed Time: 0:05:18] |##| (Time: 0:05:18) \n"
     ]
    },
    {
     "name": "stdout",
     "output_type": "stream",
     "text": [
      "done!\n",
      "\n",
      "loaded test data: 364826 X 3408 - ['investigation'] \n",
      "loading classifiers from /media/storage/ryan/mabe_challenge/behavior/trained_classifiers/mabe_challenge_lgt_es20_wnd/\n",
      "n_classes = 4\n",
      "{'attack': 0, 'investigation': 1, 'mount': 2, 'other': 3}\n",
      "predicting investigation...\n",
      "inference took 51.08 sec\n",
      " \n",
      "Classifier performance:\n"
     ]
    },
    {
     "name": "stderr",
     "output_type": "stream",
     "text": [
      "/home/roton/miniconda3/envs/mars/lib/python3.7/site-packages/sklearn/metrics/_classification.py:1221: UndefinedMetricWarning: Precision and F-score are ill-defined and being set to 0.0 in labels with no predicted samples. Use `zero_division` parameter to control this behavior.\n",
      "  _warn_prf(average, modifier, msg_start, len(result))\n",
      "/home/roton/miniconda3/envs/mars/lib/python3.7/site-packages/sklearn/metrics/_classification.py:1221: UndefinedMetricWarning: Recall and F-score are ill-defined and being set to 0.0 in labels with no true samples. Use `zero_division` parameter to control this behavior.\n",
      "  _warn_prf(average, modifier, msg_start, len(result))\n"
     ]
    },
    {
     "name": "stdout",
     "output_type": "stream",
     "text": [
      "              attack   investigation   other    \n",
      "  Precision:    0.0      0.793      0.0     \n",
      "     Recall:    0.0      0.786      0.0     \n",
      "   F1 Score:    0.0      0.789      0.0     \n",
      "Loop: 7\n",
      "val set size: 23073\n",
      "training set size: 183213.0\n",
      "loading training data...\n"
     ]
    },
    {
     "name": "stderr",
     "output_type": "stream",
     "text": [
      "Filtering sequence 0/27    0% --  [Elapsed Time: 0:00:00] |  | (ETA:  --:--:--) \r"
     ]
    },
    {
     "name": "stdout",
     "output_type": "stream",
     "text": [
      "sorting features and applying filters...\n"
     ]
    },
    {
     "name": "stderr",
     "output_type": "stream",
     "text": [
      "Filtering sequence 27/27  100% --  [Elapsed Time: 0:02:32] |##| (Time: 0:02:32) \n"
     ]
    },
    {
     "name": "stdout",
     "output_type": "stream",
     "text": [
      "done!\n",
      "\n",
      "loading validation data...\n"
     ]
    },
    {
     "name": "stderr",
     "output_type": "stream",
     "text": [
      "Filtering sequence 0/3    0% --  [Elapsed Time: 0:00:00] |   | (ETA:  --:--:--) \r"
     ]
    },
    {
     "name": "stdout",
     "output_type": "stream",
     "text": [
      "sorting features and applying filters...\n"
     ]
    },
    {
     "name": "stderr",
     "output_type": "stream",
     "text": [
      "Filtering sequence 3/3  100% --  [Elapsed Time: 0:00:20] |####| (Time: 0:00:20) \n"
     ]
    },
    {
     "name": "stdout",
     "output_type": "stream",
     "text": [
      "done!\n",
      "\n",
      "loaded training data: 183213 X 3408 - ['investigation'] \n",
      "Training classifier: MABE_CHALLENGE_LGT_ES20_WND/\n",
      "######################### investigation #########################\n",
      "training using 51936 positive frames (639 bouts)\n",
      "fitting preprocessing parameters...\n",
      "fitting clf for investigation\n",
      "    training set: 51936 positive / 183213 total (28 %)\n",
      "    eval set: 4281 positive / 23073 total (18 %)\n",
      "  + early stopping\n"
     ]
    },
    {
     "name": "stderr",
     "output_type": "stream",
     "text": [
      "/home/roton/miniconda3/envs/mars/lib/python3.7/site-packages/lightgbm/sklearn.py:726: UserWarning: 'early_stopping_rounds' argument is deprecated and will be removed in a future release of LightGBM. Pass 'early_stopping()' callback via 'callbacks' argument instead.\n",
      "  _log_warning(\"'early_stopping_rounds' argument is deprecated and will be removed in a future release of LightGBM. \"\n",
      "/home/roton/miniconda3/envs/mars/lib/python3.7/site-packages/lightgbm/sklearn.py:736: UserWarning: 'verbose' argument is deprecated and will be removed in a future release of LightGBM. Pass 'log_evaluation()' callback via 'callbacks' argument instead.\n",
      "  _log_warning(\"'verbose' argument is deprecated and will be removed in a future release of LightGBM. \"\n"
     ]
    },
    {
     "name": "stdout",
     "output_type": "stream",
     "text": [
      "[1]\tvalid_0's binary_logloss: 0.459189\n",
      "[2]\tvalid_0's binary_logloss: 0.423471\n",
      "[3]\tvalid_0's binary_logloss: 0.392501\n",
      "[4]\tvalid_0's binary_logloss: 0.367664\n",
      "[5]\tvalid_0's binary_logloss: 0.34667\n",
      "[6]\tvalid_0's binary_logloss: 0.329653\n",
      "[7]\tvalid_0's binary_logloss: 0.313937\n",
      "[8]\tvalid_0's binary_logloss: 0.300156\n",
      "[9]\tvalid_0's binary_logloss: 0.289878\n",
      "[10]\tvalid_0's binary_logloss: 0.281483\n",
      "[11]\tvalid_0's binary_logloss: 0.272419\n",
      "[12]\tvalid_0's binary_logloss: 0.263864\n",
      "[13]\tvalid_0's binary_logloss: 0.257184\n",
      "[14]\tvalid_0's binary_logloss: 0.251643\n",
      "[15]\tvalid_0's binary_logloss: 0.247417\n",
      "[16]\tvalid_0's binary_logloss: 0.242238\n",
      "[17]\tvalid_0's binary_logloss: 0.237649\n",
      "[18]\tvalid_0's binary_logloss: 0.232766\n",
      "[19]\tvalid_0's binary_logloss: 0.229906\n",
      "[20]\tvalid_0's binary_logloss: 0.227549\n",
      "[21]\tvalid_0's binary_logloss: 0.226242\n",
      "[22]\tvalid_0's binary_logloss: 0.223096\n",
      "[23]\tvalid_0's binary_logloss: 0.221558\n",
      "[24]\tvalid_0's binary_logloss: 0.218842\n",
      "[25]\tvalid_0's binary_logloss: 0.217094\n",
      "[26]\tvalid_0's binary_logloss: 0.215945\n",
      "[27]\tvalid_0's binary_logloss: 0.213739\n",
      "[28]\tvalid_0's binary_logloss: 0.213414\n",
      "[29]\tvalid_0's binary_logloss: 0.211494\n",
      "[30]\tvalid_0's binary_logloss: 0.20958\n",
      "[31]\tvalid_0's binary_logloss: 0.208823\n",
      "[32]\tvalid_0's binary_logloss: 0.207542\n",
      "[33]\tvalid_0's binary_logloss: 0.21016\n",
      "[34]\tvalid_0's binary_logloss: 0.209942\n",
      "[35]\tvalid_0's binary_logloss: 0.209285\n",
      "[36]\tvalid_0's binary_logloss: 0.209749\n",
      "[37]\tvalid_0's binary_logloss: 0.209278\n",
      "[38]\tvalid_0's binary_logloss: 0.208806\n",
      "[39]\tvalid_0's binary_logloss: 0.208953\n",
      "[40]\tvalid_0's binary_logloss: 0.208592\n",
      "[41]\tvalid_0's binary_logloss: 0.207799\n",
      "[42]\tvalid_0's binary_logloss: 0.207013\n",
      "[43]\tvalid_0's binary_logloss: 0.207151\n",
      "[44]\tvalid_0's binary_logloss: 0.207006\n",
      "[45]\tvalid_0's binary_logloss: 0.206719\n",
      "[46]\tvalid_0's binary_logloss: 0.205869\n",
      "[47]\tvalid_0's binary_logloss: 0.205751\n",
      "[48]\tvalid_0's binary_logloss: 0.205514\n",
      "[49]\tvalid_0's binary_logloss: 0.204647\n",
      "[50]\tvalid_0's binary_logloss: 0.202936\n",
      "[51]\tvalid_0's binary_logloss: 0.202873\n",
      "[52]\tvalid_0's binary_logloss: 0.201401\n",
      "[53]\tvalid_0's binary_logloss: 0.202637\n",
      "[54]\tvalid_0's binary_logloss: 0.202564\n",
      "[55]\tvalid_0's binary_logloss: 0.20156\n",
      "[56]\tvalid_0's binary_logloss: 0.202013\n",
      "[57]\tvalid_0's binary_logloss: 0.20126\n",
      "[58]\tvalid_0's binary_logloss: 0.201694\n",
      "[59]\tvalid_0's binary_logloss: 0.200543\n",
      "[60]\tvalid_0's binary_logloss: 0.200648\n",
      "[61]\tvalid_0's binary_logloss: 0.199726\n",
      "[62]\tvalid_0's binary_logloss: 0.200115\n",
      "[63]\tvalid_0's binary_logloss: 0.199539\n",
      "[64]\tvalid_0's binary_logloss: 0.198725\n",
      "[65]\tvalid_0's binary_logloss: 0.198878\n",
      "[66]\tvalid_0's binary_logloss: 0.199515\n",
      "[67]\tvalid_0's binary_logloss: 0.19968\n",
      "[68]\tvalid_0's binary_logloss: 0.199212\n",
      "[69]\tvalid_0's binary_logloss: 0.198419\n",
      "[70]\tvalid_0's binary_logloss: 0.198711\n",
      "[71]\tvalid_0's binary_logloss: 0.198847\n",
      "[72]\tvalid_0's binary_logloss: 0.198096\n",
      "[73]\tvalid_0's binary_logloss: 0.197868\n",
      "[74]\tvalid_0's binary_logloss: 0.197694\n",
      "[75]\tvalid_0's binary_logloss: 0.197922\n",
      "[76]\tvalid_0's binary_logloss: 0.198929\n",
      "[77]\tvalid_0's binary_logloss: 0.198199\n",
      "[78]\tvalid_0's binary_logloss: 0.197986\n",
      "[79]\tvalid_0's binary_logloss: 0.1992\n",
      "[80]\tvalid_0's binary_logloss: 0.199152\n",
      "[81]\tvalid_0's binary_logloss: 0.199299\n",
      "[82]\tvalid_0's binary_logloss: 0.199689\n",
      "[83]\tvalid_0's binary_logloss: 0.200401\n",
      "[84]\tvalid_0's binary_logloss: 0.200119\n",
      "[85]\tvalid_0's binary_logloss: 0.201149\n",
      "[86]\tvalid_0's binary_logloss: 0.201415\n",
      "[87]\tvalid_0's binary_logloss: 0.201673\n",
      "[88]\tvalid_0's binary_logloss: 0.202124\n",
      "[89]\tvalid_0's binary_logloss: 0.201661\n",
      "[90]\tvalid_0's binary_logloss: 0.200486\n",
      "[91]\tvalid_0's binary_logloss: 0.200369\n",
      "[92]\tvalid_0's binary_logloss: 0.200492\n",
      "[93]\tvalid_0's binary_logloss: 0.199183\n",
      "[94]\tvalid_0's binary_logloss: 0.198726\n",
      "evaluating on the training set...\n",
      "fitting HMM smoother...\n",
      "fitting forward-backward smoother...\n"
     ]
    },
    {
     "name": "stderr",
     "output_type": "stream",
     "text": [
      "/home/roton/miniconda3/envs/mars/lib/python3.7/site-packages/sklearn/utils/validation.py:70: FutureWarning: Pass threshold=0.5 as keyword args. From version 0.25 passing these as positional arguments will result in an error\n",
      "  FutureWarning)\n"
     ]
    },
    {
     "name": "stdout",
     "output_type": "stream",
     "text": [
      "HMM label smoothing training took 0.32 mins\n",
      "performance on training set:\n",
      "P: 0.9434, R: 0.9505, F1: 0.9470    investigation\n",
      "done training!\n",
      "complete training took 4.89 mins\n",
      "loading test data...\n"
     ]
    },
    {
     "name": "stderr",
     "output_type": "stream",
     "text": [
      "Filtering sequence 0/27    0% --  [Elapsed Time: 0:00:00] |  | (ETA:  --:--:--) \r"
     ]
    },
    {
     "name": "stdout",
     "output_type": "stream",
     "text": [
      "sorting features and applying filters...\n"
     ]
    },
    {
     "name": "stderr",
     "output_type": "stream",
     "text": [
      "Filtering sequence 27/27  100% --  [Elapsed Time: 0:05:51] |##| (Time: 0:05:51) \n"
     ]
    },
    {
     "name": "stdout",
     "output_type": "stream",
     "text": [
      "done!\n",
      "\n",
      "loaded test data: 364826 X 3408 - ['investigation'] \n",
      "loading classifiers from /media/storage/ryan/mabe_challenge/behavior/trained_classifiers/mabe_challenge_lgt_es20_wnd/\n",
      "n_classes = 4\n",
      "{'attack': 0, 'investigation': 1, 'mount': 2, 'other': 3}\n",
      "predicting investigation...\n",
      "inference took 51.20 sec\n",
      " \n",
      "Classifier performance:\n"
     ]
    },
    {
     "name": "stderr",
     "output_type": "stream",
     "text": [
      "/home/roton/miniconda3/envs/mars/lib/python3.7/site-packages/sklearn/metrics/_classification.py:1221: UndefinedMetricWarning: Precision and F-score are ill-defined and being set to 0.0 in labels with no predicted samples. Use `zero_division` parameter to control this behavior.\n",
      "  _warn_prf(average, modifier, msg_start, len(result))\n",
      "/home/roton/miniconda3/envs/mars/lib/python3.7/site-packages/sklearn/metrics/_classification.py:1221: UndefinedMetricWarning: Recall and F-score are ill-defined and being set to 0.0 in labels with no true samples. Use `zero_division` parameter to control this behavior.\n",
      "  _warn_prf(average, modifier, msg_start, len(result))\n"
     ]
    },
    {
     "name": "stdout",
     "output_type": "stream",
     "text": [
      "              attack   investigation   other    \n",
      "  Precision:    0.0      0.825      0.0     \n",
      "     Recall:    0.0      0.786      0.0     \n",
      "   F1 Score:    0.0      0.805      0.0     \n",
      "Loop: 8\n",
      "val set size: 28714\n",
      "training set size: 225201.0\n",
      "loading training data...\n"
     ]
    },
    {
     "name": "stderr",
     "output_type": "stream",
     "text": [
      "Filtering sequence 0/31    0% --  [Elapsed Time: 0:00:00] |  | (ETA:  --:--:--) \r"
     ]
    },
    {
     "name": "stdout",
     "output_type": "stream",
     "text": [
      "sorting features and applying filters...\n"
     ]
    },
    {
     "name": "stderr",
     "output_type": "stream",
     "text": [
      "Filtering sequence 31/31  100% --  [Elapsed Time: 0:03:02] |##| (Time: 0:03:02) \n"
     ]
    },
    {
     "name": "stdout",
     "output_type": "stream",
     "text": [
      "done!\n",
      "\n",
      "loading validation data...\n"
     ]
    },
    {
     "name": "stderr",
     "output_type": "stream",
     "text": [
      "Filtering sequence 0/4    0% --  [Elapsed Time: 0:00:00] |   | (ETA:  --:--:--) \r"
     ]
    },
    {
     "name": "stdout",
     "output_type": "stream",
     "text": [
      "sorting features and applying filters...\n"
     ]
    },
    {
     "name": "stderr",
     "output_type": "stream",
     "text": [
      "Filtering sequence 4/4  100% --  [Elapsed Time: 0:00:24] |####| (Time: 0:00:24) \n"
     ]
    },
    {
     "name": "stdout",
     "output_type": "stream",
     "text": [
      "done!\n",
      "\n",
      "loaded training data: 225201 X 3408 - ['investigation'] \n",
      "Training classifier: MABE_CHALLENGE_LGT_ES20_WND/\n",
      "######################### investigation #########################\n",
      "training using 58953 positive frames (761 bouts)\n",
      "fitting preprocessing parameters...\n",
      "fitting clf for investigation\n",
      "    training set: 58953 positive / 225201 total (26 %)\n",
      "    eval set: 5049 positive / 28714 total (17 %)\n",
      "  + early stopping\n"
     ]
    },
    {
     "name": "stderr",
     "output_type": "stream",
     "text": [
      "/home/roton/miniconda3/envs/mars/lib/python3.7/site-packages/lightgbm/sklearn.py:726: UserWarning: 'early_stopping_rounds' argument is deprecated and will be removed in a future release of LightGBM. Pass 'early_stopping()' callback via 'callbacks' argument instead.\n",
      "  _log_warning(\"'early_stopping_rounds' argument is deprecated and will be removed in a future release of LightGBM. \"\n",
      "/home/roton/miniconda3/envs/mars/lib/python3.7/site-packages/lightgbm/sklearn.py:736: UserWarning: 'verbose' argument is deprecated and will be removed in a future release of LightGBM. Pass 'log_evaluation()' callback via 'callbacks' argument instead.\n",
      "  _log_warning(\"'verbose' argument is deprecated and will be removed in a future release of LightGBM. \"\n"
     ]
    },
    {
     "name": "stdout",
     "output_type": "stream",
     "text": [
      "[1]\tvalid_0's binary_logloss: 0.440737\n",
      "[2]\tvalid_0's binary_logloss: 0.405117\n",
      "[3]\tvalid_0's binary_logloss: 0.37651\n",
      "[4]\tvalid_0's binary_logloss: 0.351718\n",
      "[5]\tvalid_0's binary_logloss: 0.331151\n",
      "[6]\tvalid_0's binary_logloss: 0.315108\n",
      "[7]\tvalid_0's binary_logloss: 0.301254\n",
      "[8]\tvalid_0's binary_logloss: 0.288973\n",
      "[9]\tvalid_0's binary_logloss: 0.278676\n",
      "[10]\tvalid_0's binary_logloss: 0.26856\n",
      "[11]\tvalid_0's binary_logloss: 0.261627\n",
      "[12]\tvalid_0's binary_logloss: 0.254252\n",
      "[13]\tvalid_0's binary_logloss: 0.248071\n",
      "[14]\tvalid_0's binary_logloss: 0.242583\n",
      "[15]\tvalid_0's binary_logloss: 0.237468\n",
      "[16]\tvalid_0's binary_logloss: 0.232121\n",
      "[17]\tvalid_0's binary_logloss: 0.228436\n",
      "[18]\tvalid_0's binary_logloss: 0.224962\n",
      "[19]\tvalid_0's binary_logloss: 0.221531\n",
      "[20]\tvalid_0's binary_logloss: 0.219095\n",
      "[21]\tvalid_0's binary_logloss: 0.215452\n",
      "[22]\tvalid_0's binary_logloss: 0.213697\n",
      "[23]\tvalid_0's binary_logloss: 0.211991\n",
      "[24]\tvalid_0's binary_logloss: 0.209302\n",
      "[25]\tvalid_0's binary_logloss: 0.207664\n",
      "[26]\tvalid_0's binary_logloss: 0.206603\n",
      "[27]\tvalid_0's binary_logloss: 0.205195\n",
      "[28]\tvalid_0's binary_logloss: 0.203436\n",
      "[29]\tvalid_0's binary_logloss: 0.201425\n",
      "[30]\tvalid_0's binary_logloss: 0.199927\n",
      "[31]\tvalid_0's binary_logloss: 0.199084\n",
      "[32]\tvalid_0's binary_logloss: 0.197171\n",
      "[33]\tvalid_0's binary_logloss: 0.197164\n",
      "[34]\tvalid_0's binary_logloss: 0.196318\n",
      "[35]\tvalid_0's binary_logloss: 0.195098\n",
      "[36]\tvalid_0's binary_logloss: 0.194682\n",
      "[37]\tvalid_0's binary_logloss: 0.194586\n",
      "[38]\tvalid_0's binary_logloss: 0.194528\n",
      "[39]\tvalid_0's binary_logloss: 0.194072\n",
      "[40]\tvalid_0's binary_logloss: 0.193388\n",
      "[41]\tvalid_0's binary_logloss: 0.19311\n",
      "[42]\tvalid_0's binary_logloss: 0.193083\n",
      "[43]\tvalid_0's binary_logloss: 0.192122\n",
      "[44]\tvalid_0's binary_logloss: 0.192289\n",
      "[45]\tvalid_0's binary_logloss: 0.191825\n",
      "[46]\tvalid_0's binary_logloss: 0.191979\n",
      "[47]\tvalid_0's binary_logloss: 0.19174\n",
      "[48]\tvalid_0's binary_logloss: 0.191479\n",
      "[49]\tvalid_0's binary_logloss: 0.191587\n",
      "[50]\tvalid_0's binary_logloss: 0.191153\n",
      "[51]\tvalid_0's binary_logloss: 0.190518\n",
      "[52]\tvalid_0's binary_logloss: 0.189216\n",
      "[53]\tvalid_0's binary_logloss: 0.188647\n",
      "[54]\tvalid_0's binary_logloss: 0.188857\n",
      "[55]\tvalid_0's binary_logloss: 0.188528\n",
      "[56]\tvalid_0's binary_logloss: 0.187633\n",
      "[57]\tvalid_0's binary_logloss: 0.187076\n",
      "[58]\tvalid_0's binary_logloss: 0.187286\n",
      "[59]\tvalid_0's binary_logloss: 0.18698\n",
      "[60]\tvalid_0's binary_logloss: 0.186788\n",
      "[61]\tvalid_0's binary_logloss: 0.186518\n",
      "[62]\tvalid_0's binary_logloss: 0.18669\n",
      "[63]\tvalid_0's binary_logloss: 0.192498\n",
      "[64]\tvalid_0's binary_logloss: 0.18685\n",
      "[65]\tvalid_0's binary_logloss: 0.186851\n",
      "[66]\tvalid_0's binary_logloss: 0.187028\n",
      "[67]\tvalid_0's binary_logloss: 0.187128\n",
      "[68]\tvalid_0's binary_logloss: 0.186933\n",
      "[69]\tvalid_0's binary_logloss: 0.186489\n",
      "[70]\tvalid_0's binary_logloss: 0.186549\n",
      "[71]\tvalid_0's binary_logloss: 0.186464\n",
      "[72]\tvalid_0's binary_logloss: 0.186604\n",
      "[73]\tvalid_0's binary_logloss: 0.186772\n",
      "[74]\tvalid_0's binary_logloss: 0.186667\n",
      "[75]\tvalid_0's binary_logloss: 0.18588\n",
      "[76]\tvalid_0's binary_logloss: 0.185859\n",
      "[77]\tvalid_0's binary_logloss: 0.185792\n",
      "[78]\tvalid_0's binary_logloss: 0.185762\n",
      "[79]\tvalid_0's binary_logloss: 0.186353\n",
      "[80]\tvalid_0's binary_logloss: 0.186833\n",
      "[81]\tvalid_0's binary_logloss: 0.187367\n",
      "[82]\tvalid_0's binary_logloss: 0.18753\n",
      "[83]\tvalid_0's binary_logloss: 0.186925\n",
      "[84]\tvalid_0's binary_logloss: 0.187296\n",
      "[85]\tvalid_0's binary_logloss: 0.188116\n",
      "[86]\tvalid_0's binary_logloss: 0.187641\n",
      "[87]\tvalid_0's binary_logloss: 0.187059\n",
      "[88]\tvalid_0's binary_logloss: 0.187409\n",
      "[89]\tvalid_0's binary_logloss: 0.186864\n",
      "[90]\tvalid_0's binary_logloss: 0.186793\n",
      "[91]\tvalid_0's binary_logloss: 0.186799\n",
      "[92]\tvalid_0's binary_logloss: 0.187055\n",
      "[93]\tvalid_0's binary_logloss: 0.193822\n",
      "[94]\tvalid_0's binary_logloss: 0.193737\n",
      "[95]\tvalid_0's binary_logloss: 0.193595\n",
      "[96]\tvalid_0's binary_logloss: 0.193159\n",
      "[97]\tvalid_0's binary_logloss: 0.192879\n",
      "[98]\tvalid_0's binary_logloss: 0.19272\n",
      "evaluating on the training set...\n",
      "fitting HMM smoother...\n",
      "fitting forward-backward smoother...\n"
     ]
    },
    {
     "name": "stderr",
     "output_type": "stream",
     "text": [
      "/home/roton/miniconda3/envs/mars/lib/python3.7/site-packages/sklearn/utils/validation.py:70: FutureWarning: Pass threshold=0.5 as keyword args. From version 0.25 passing these as positional arguments will result in an error\n",
      "  FutureWarning)\n"
     ]
    },
    {
     "name": "stdout",
     "output_type": "stream",
     "text": [
      "HMM label smoothing training took 0.49 mins\n",
      "performance on training set:\n",
      "P: 0.9316, R: 0.9325, F1: 0.9320    investigation\n",
      "done training!\n",
      "complete training took 5.81 mins\n",
      "loading test data...\n"
     ]
    },
    {
     "name": "stderr",
     "output_type": "stream",
     "text": [
      "Filtering sequence 0/27    0% --  [Elapsed Time: 0:00:00] |  | (ETA:  --:--:--) \r"
     ]
    },
    {
     "name": "stdout",
     "output_type": "stream",
     "text": [
      "sorting features and applying filters...\n"
     ]
    },
    {
     "name": "stderr",
     "output_type": "stream",
     "text": [
      "Filtering sequence 27/27  100% --  [Elapsed Time: 0:06:31] |##| (Time: 0:06:31) \n"
     ]
    },
    {
     "name": "stdout",
     "output_type": "stream",
     "text": [
      "done!\n",
      "\n",
      "loaded test data: 364826 X 3408 - ['investigation'] \n",
      "loading classifiers from /media/storage/ryan/mabe_challenge/behavior/trained_classifiers/mabe_challenge_lgt_es20_wnd/\n",
      "n_classes = 4\n",
      "{'attack': 0, 'investigation': 1, 'mount': 2, 'other': 3}\n",
      "predicting investigation...\n",
      "inference took 50.46 sec\n",
      " \n",
      "Classifier performance:\n"
     ]
    },
    {
     "name": "stderr",
     "output_type": "stream",
     "text": [
      "/home/roton/miniconda3/envs/mars/lib/python3.7/site-packages/sklearn/metrics/_classification.py:1221: UndefinedMetricWarning: Precision and F-score are ill-defined and being set to 0.0 in labels with no predicted samples. Use `zero_division` parameter to control this behavior.\n",
      "  _warn_prf(average, modifier, msg_start, len(result))\n",
      "/home/roton/miniconda3/envs/mars/lib/python3.7/site-packages/sklearn/metrics/_classification.py:1221: UndefinedMetricWarning: Recall and F-score are ill-defined and being set to 0.0 in labels with no true samples. Use `zero_division` parameter to control this behavior.\n",
      "  _warn_prf(average, modifier, msg_start, len(result))\n"
     ]
    },
    {
     "name": "stdout",
     "output_type": "stream",
     "text": [
      "              attack   investigation   other    \n",
      "  Precision:    0.0      0.843      0.0     \n",
      "     Recall:    0.0      0.795      0.0     \n",
      "   F1 Score:    0.0      0.819      0.0     \n",
      "Loop: 9\n",
      "val set size: 38506\n",
      "training set size: 266236.0\n",
      "loading training data...\n"
     ]
    },
    {
     "name": "stderr",
     "output_type": "stream",
     "text": [
      "Filtering sequence 0/39    0% --  [Elapsed Time: 0:00:00] |  | (ETA:  --:--:--) \r"
     ]
    },
    {
     "name": "stdout",
     "output_type": "stream",
     "text": [
      "sorting features and applying filters...\n"
     ]
    },
    {
     "name": "stderr",
     "output_type": "stream",
     "text": [
      "Filtering sequence 39/39  100% --  [Elapsed Time: 0:03:51] |##| (Time: 0:03:51) \n"
     ]
    },
    {
     "name": "stdout",
     "output_type": "stream",
     "text": [
      "done!\n",
      "\n",
      "loading validation data...\n"
     ]
    },
    {
     "name": "stderr",
     "output_type": "stream",
     "text": [
      "Filtering sequence 0/5    0% --  [Elapsed Time: 0:00:00] |   | (ETA:  --:--:--) \r"
     ]
    },
    {
     "name": "stdout",
     "output_type": "stream",
     "text": [
      "sorting features and applying filters...\n"
     ]
    },
    {
     "name": "stderr",
     "output_type": "stream",
     "text": [
      "Filtering sequence 5/5  100% --  [Elapsed Time: 0:00:32] |####| (Time: 0:00:32) \n"
     ]
    },
    {
     "name": "stdout",
     "output_type": "stream",
     "text": [
      "done!\n",
      "\n",
      "loaded training data: 266236 X 3408 - ['investigation'] \n",
      "Training classifier: MABE_CHALLENGE_LGT_ES20_WND/\n",
      "######################### investigation #########################\n",
      "training using 68918 positive frames (923 bouts)\n",
      "fitting preprocessing parameters...\n",
      "fitting clf for investigation\n",
      "    training set: 68918 positive / 266236 total (25 %)\n",
      "    eval set: 9227 positive / 38506 total (23 %)\n",
      "  + early stopping\n"
     ]
    },
    {
     "name": "stderr",
     "output_type": "stream",
     "text": [
      "/home/roton/miniconda3/envs/mars/lib/python3.7/site-packages/lightgbm/sklearn.py:726: UserWarning: 'early_stopping_rounds' argument is deprecated and will be removed in a future release of LightGBM. Pass 'early_stopping()' callback via 'callbacks' argument instead.\n",
      "  _log_warning(\"'early_stopping_rounds' argument is deprecated and will be removed in a future release of LightGBM. \"\n",
      "/home/roton/miniconda3/envs/mars/lib/python3.7/site-packages/lightgbm/sklearn.py:736: UserWarning: 'verbose' argument is deprecated and will be removed in a future release of LightGBM. Pass 'log_evaluation()' callback via 'callbacks' argument instead.\n",
      "  _log_warning(\"'verbose' argument is deprecated and will be removed in a future release of LightGBM. \"\n"
     ]
    },
    {
     "name": "stdout",
     "output_type": "stream",
     "text": [
      "[1]\tvalid_0's binary_logloss: 0.498967\n",
      "[2]\tvalid_0's binary_logloss: 0.45872\n",
      "[3]\tvalid_0's binary_logloss: 0.425481\n",
      "[4]\tvalid_0's binary_logloss: 0.399567\n",
      "[5]\tvalid_0's binary_logloss: 0.375921\n",
      "[6]\tvalid_0's binary_logloss: 0.358363\n",
      "[7]\tvalid_0's binary_logloss: 0.341997\n",
      "[8]\tvalid_0's binary_logloss: 0.327777\n",
      "[9]\tvalid_0's binary_logloss: 0.315044\n",
      "[10]\tvalid_0's binary_logloss: 0.304294\n",
      "[11]\tvalid_0's binary_logloss: 0.294759\n",
      "[12]\tvalid_0's binary_logloss: 0.286577\n",
      "[13]\tvalid_0's binary_logloss: 0.278954\n",
      "[14]\tvalid_0's binary_logloss: 0.272308\n",
      "[15]\tvalid_0's binary_logloss: 0.266057\n",
      "[16]\tvalid_0's binary_logloss: 0.260196\n",
      "[17]\tvalid_0's binary_logloss: 0.256448\n",
      "[18]\tvalid_0's binary_logloss: 0.253048\n",
      "[19]\tvalid_0's binary_logloss: 0.249891\n",
      "[20]\tvalid_0's binary_logloss: 0.246654\n",
      "[21]\tvalid_0's binary_logloss: 0.244177\n",
      "[22]\tvalid_0's binary_logloss: 0.24007\n",
      "[23]\tvalid_0's binary_logloss: 0.236959\n",
      "[24]\tvalid_0's binary_logloss: 0.235335\n",
      "[25]\tvalid_0's binary_logloss: 0.233046\n",
      "[26]\tvalid_0's binary_logloss: 0.233326\n",
      "[27]\tvalid_0's binary_logloss: 0.232011\n",
      "[28]\tvalid_0's binary_logloss: 0.230349\n",
      "[29]\tvalid_0's binary_logloss: 0.228825\n",
      "[30]\tvalid_0's binary_logloss: 0.228122\n",
      "[31]\tvalid_0's binary_logloss: 0.227003\n",
      "[32]\tvalid_0's binary_logloss: 0.225516\n",
      "[33]\tvalid_0's binary_logloss: 0.224186\n",
      "[34]\tvalid_0's binary_logloss: 0.224524\n",
      "[35]\tvalid_0's binary_logloss: 0.223537\n",
      "[36]\tvalid_0's binary_logloss: 0.222668\n",
      "[37]\tvalid_0's binary_logloss: 0.222911\n",
      "[38]\tvalid_0's binary_logloss: 0.222011\n",
      "[39]\tvalid_0's binary_logloss: 0.220775\n",
      "[40]\tvalid_0's binary_logloss: 0.219775\n",
      "[41]\tvalid_0's binary_logloss: 0.21968\n",
      "[42]\tvalid_0's binary_logloss: 0.218895\n",
      "[43]\tvalid_0's binary_logloss: 0.218138\n",
      "[44]\tvalid_0's binary_logloss: 0.216814\n",
      "[45]\tvalid_0's binary_logloss: 0.216754\n",
      "[46]\tvalid_0's binary_logloss: 0.21699\n",
      "[47]\tvalid_0's binary_logloss: 0.216208\n",
      "[48]\tvalid_0's binary_logloss: 0.216069\n",
      "[49]\tvalid_0's binary_logloss: 0.216209\n",
      "[50]\tvalid_0's binary_logloss: 0.215764\n",
      "[51]\tvalid_0's binary_logloss: 0.215434\n",
      "[52]\tvalid_0's binary_logloss: 0.215213\n",
      "[53]\tvalid_0's binary_logloss: 0.214582\n",
      "[54]\tvalid_0's binary_logloss: 0.214646\n",
      "[55]\tvalid_0's binary_logloss: 0.214476\n",
      "[56]\tvalid_0's binary_logloss: 0.214016\n",
      "[57]\tvalid_0's binary_logloss: 0.21328\n",
      "[58]\tvalid_0's binary_logloss: 0.213065\n",
      "[59]\tvalid_0's binary_logloss: 0.213044\n",
      "[60]\tvalid_0's binary_logloss: 0.212923\n",
      "[61]\tvalid_0's binary_logloss: 0.212744\n",
      "[62]\tvalid_0's binary_logloss: 0.212176\n",
      "[63]\tvalid_0's binary_logloss: 0.212046\n",
      "[64]\tvalid_0's binary_logloss: 0.21209\n",
      "[65]\tvalid_0's binary_logloss: 0.212593\n",
      "[66]\tvalid_0's binary_logloss: 0.212322\n",
      "[67]\tvalid_0's binary_logloss: 0.211827\n",
      "[68]\tvalid_0's binary_logloss: 0.212078\n",
      "[69]\tvalid_0's binary_logloss: 0.212097\n",
      "[70]\tvalid_0's binary_logloss: 0.212649\n",
      "[71]\tvalid_0's binary_logloss: 0.212699\n",
      "[72]\tvalid_0's binary_logloss: 0.212959\n",
      "[73]\tvalid_0's binary_logloss: 0.213077\n",
      "[74]\tvalid_0's binary_logloss: 0.213023\n",
      "[75]\tvalid_0's binary_logloss: 0.213588\n",
      "[76]\tvalid_0's binary_logloss: 0.213546\n",
      "[77]\tvalid_0's binary_logloss: 0.21347\n",
      "[78]\tvalid_0's binary_logloss: 0.213284\n",
      "[79]\tvalid_0's binary_logloss: 0.213516\n",
      "[80]\tvalid_0's binary_logloss: 0.21336\n",
      "[81]\tvalid_0's binary_logloss: 0.214679\n",
      "[82]\tvalid_0's binary_logloss: 0.215004\n",
      "[83]\tvalid_0's binary_logloss: 0.214819\n",
      "[84]\tvalid_0's binary_logloss: 0.214376\n",
      "[85]\tvalid_0's binary_logloss: 0.214953\n",
      "[86]\tvalid_0's binary_logloss: 0.21504\n",
      "[87]\tvalid_0's binary_logloss: 0.214445\n",
      "evaluating on the training set...\n",
      "fitting HMM smoother...\n",
      "fitting forward-backward smoother...\n"
     ]
    },
    {
     "name": "stderr",
     "output_type": "stream",
     "text": [
      "/home/roton/miniconda3/envs/mars/lib/python3.7/site-packages/sklearn/utils/validation.py:70: FutureWarning: Pass threshold=0.5 as keyword args. From version 0.25 passing these as positional arguments will result in an error\n",
      "  FutureWarning)\n"
     ]
    },
    {
     "name": "stdout",
     "output_type": "stream",
     "text": [
      "HMM label smoothing training took 0.45 mins\n",
      "performance on training set:\n",
      "P: 0.9099, R: 0.9131, F1: 0.9115    investigation\n",
      "done training!\n",
      "complete training took 5.54 mins\n",
      "loading test data...\n"
     ]
    },
    {
     "name": "stderr",
     "output_type": "stream",
     "text": [
      "Filtering sequence 0/27    0% --  [Elapsed Time: 0:00:00] |  | (ETA:  --:--:--) \r"
     ]
    },
    {
     "name": "stdout",
     "output_type": "stream",
     "text": [
      "sorting features and applying filters...\n"
     ]
    },
    {
     "name": "stderr",
     "output_type": "stream",
     "text": [
      "Filtering sequence 27/27  100% --  [Elapsed Time: 0:05:17] |##| (Time: 0:05:17) \n"
     ]
    },
    {
     "name": "stdout",
     "output_type": "stream",
     "text": [
      "done!\n",
      "\n",
      "loaded test data: 364826 X 3408 - ['investigation'] \n",
      "loading classifiers from /media/storage/ryan/mabe_challenge/behavior/trained_classifiers/mabe_challenge_lgt_es20_wnd/\n",
      "n_classes = 4\n",
      "{'attack': 0, 'investigation': 1, 'mount': 2, 'other': 3}\n",
      "predicting investigation...\n",
      "inference took 51.86 sec\n",
      " \n",
      "Classifier performance:\n"
     ]
    },
    {
     "name": "stderr",
     "output_type": "stream",
     "text": [
      "/home/roton/miniconda3/envs/mars/lib/python3.7/site-packages/sklearn/metrics/_classification.py:1221: UndefinedMetricWarning: Precision and F-score are ill-defined and being set to 0.0 in labels with no predicted samples. Use `zero_division` parameter to control this behavior.\n",
      "  _warn_prf(average, modifier, msg_start, len(result))\n",
      "/home/roton/miniconda3/envs/mars/lib/python3.7/site-packages/sklearn/metrics/_classification.py:1221: UndefinedMetricWarning: Recall and F-score are ill-defined and being set to 0.0 in labels with no true samples. Use `zero_division` parameter to control this behavior.\n",
      "  _warn_prf(average, modifier, msg_start, len(result))\n"
     ]
    },
    {
     "name": "stdout",
     "output_type": "stream",
     "text": [
      "              attack   investigation   other    \n",
      "  Precision:    0.0      0.86       0.0     \n",
      "     Recall:    0.0      0.798      0.0     \n",
      "   F1 Score:    0.0      0.828      0.0     \n",
      "Loop: 10\n",
      "val set size: 38506\n",
      "training set size: 318137.0\n",
      "loading training data...\n"
     ]
    },
    {
     "name": "stderr",
     "output_type": "stream",
     "text": [
      "Filtering sequence 0/46    0% --  [Elapsed Time: 0:00:00] |  | (ETA:  --:--:--) \r"
     ]
    },
    {
     "name": "stdout",
     "output_type": "stream",
     "text": [
      "sorting features and applying filters...\n"
     ]
    },
    {
     "name": "stderr",
     "output_type": "stream",
     "text": [
      "Filtering sequence 46/46  100% --  [Elapsed Time: 0:04:25] |##| (Time: 0:04:25) \n"
     ]
    },
    {
     "name": "stdout",
     "output_type": "stream",
     "text": [
      "done!\n",
      "\n",
      "loading validation data...\n"
     ]
    },
    {
     "name": "stderr",
     "output_type": "stream",
     "text": [
      "Filtering sequence 0/5    0% --  [Elapsed Time: 0:00:00] |   | (ETA:  --:--:--) \r"
     ]
    },
    {
     "name": "stdout",
     "output_type": "stream",
     "text": [
      "sorting features and applying filters...\n"
     ]
    },
    {
     "name": "stderr",
     "output_type": "stream",
     "text": [
      "Filtering sequence 5/5  100% --  [Elapsed Time: 0:00:30] |####| (Time: 0:00:30) \n"
     ]
    },
    {
     "name": "stdout",
     "output_type": "stream",
     "text": [
      "done!\n",
      "\n",
      "loaded training data: 318137 X 3408 - ['investigation'] \n",
      "Training classifier: MABE_CHALLENGE_LGT_ES20_WND/\n",
      "######################### investigation #########################\n",
      "training using 93265 positive frames (1110 bouts)\n",
      "fitting preprocessing parameters...\n",
      "fitting clf for investigation\n",
      "    training set: 93265 positive / 318137 total (29 %)\n",
      "    eval set: 9227 positive / 38506 total (23 %)\n",
      "  + early stopping\n"
     ]
    },
    {
     "name": "stderr",
     "output_type": "stream",
     "text": [
      "/home/roton/miniconda3/envs/mars/lib/python3.7/site-packages/lightgbm/sklearn.py:726: UserWarning: 'early_stopping_rounds' argument is deprecated and will be removed in a future release of LightGBM. Pass 'early_stopping()' callback via 'callbacks' argument instead.\n",
      "  _log_warning(\"'early_stopping_rounds' argument is deprecated and will be removed in a future release of LightGBM. \"\n",
      "/home/roton/miniconda3/envs/mars/lib/python3.7/site-packages/lightgbm/sklearn.py:736: UserWarning: 'verbose' argument is deprecated and will be removed in a future release of LightGBM. Pass 'log_evaluation()' callback via 'callbacks' argument instead.\n",
      "  _log_warning(\"'verbose' argument is deprecated and will be removed in a future release of LightGBM. \"\n"
     ]
    },
    {
     "name": "stdout",
     "output_type": "stream",
     "text": [
      "[1]\tvalid_0's binary_logloss: 0.507222\n",
      "[2]\tvalid_0's binary_logloss: 0.468301\n",
      "[3]\tvalid_0's binary_logloss: 0.435479\n",
      "[4]\tvalid_0's binary_logloss: 0.406334\n",
      "[5]\tvalid_0's binary_logloss: 0.383249\n",
      "[6]\tvalid_0's binary_logloss: 0.362849\n",
      "[7]\tvalid_0's binary_logloss: 0.346631\n",
      "[8]\tvalid_0's binary_logloss: 0.33176\n",
      "[9]\tvalid_0's binary_logloss: 0.319117\n",
      "[10]\tvalid_0's binary_logloss: 0.307808\n",
      "[11]\tvalid_0's binary_logloss: 0.298456\n",
      "[12]\tvalid_0's binary_logloss: 0.289844\n",
      "[13]\tvalid_0's binary_logloss: 0.282418\n",
      "[14]\tvalid_0's binary_logloss: 0.275081\n",
      "[15]\tvalid_0's binary_logloss: 0.268926\n",
      "[16]\tvalid_0's binary_logloss: 0.263515\n",
      "[17]\tvalid_0's binary_logloss: 0.258861\n",
      "[18]\tvalid_0's binary_logloss: 0.254652\n",
      "[19]\tvalid_0's binary_logloss: 0.251011\n",
      "[20]\tvalid_0's binary_logloss: 0.247814\n",
      "[21]\tvalid_0's binary_logloss: 0.245151\n",
      "[22]\tvalid_0's binary_logloss: 0.243311\n",
      "[23]\tvalid_0's binary_logloss: 0.241238\n",
      "[24]\tvalid_0's binary_logloss: 0.239103\n",
      "[25]\tvalid_0's binary_logloss: 0.237534\n",
      "[26]\tvalid_0's binary_logloss: 0.235882\n",
      "[27]\tvalid_0's binary_logloss: 0.234647\n",
      "[28]\tvalid_0's binary_logloss: 0.233831\n",
      "[29]\tvalid_0's binary_logloss: 0.231722\n",
      "[30]\tvalid_0's binary_logloss: 0.22959\n",
      "[31]\tvalid_0's binary_logloss: 0.229134\n",
      "[32]\tvalid_0's binary_logloss: 0.229685\n",
      "[33]\tvalid_0's binary_logloss: 0.229359\n",
      "[34]\tvalid_0's binary_logloss: 0.227727\n",
      "[35]\tvalid_0's binary_logloss: 0.22741\n",
      "[36]\tvalid_0's binary_logloss: 0.227115\n",
      "[37]\tvalid_0's binary_logloss: 0.227045\n",
      "[38]\tvalid_0's binary_logloss: 0.228152\n",
      "[39]\tvalid_0's binary_logloss: 0.228139\n",
      "[40]\tvalid_0's binary_logloss: 0.226931\n",
      "[41]\tvalid_0's binary_logloss: 0.227087\n",
      "[42]\tvalid_0's binary_logloss: 0.226457\n",
      "[43]\tvalid_0's binary_logloss: 0.22593\n",
      "[44]\tvalid_0's binary_logloss: 0.226271\n",
      "[45]\tvalid_0's binary_logloss: 0.226293\n",
      "[46]\tvalid_0's binary_logloss: 0.22574\n",
      "[47]\tvalid_0's binary_logloss: 0.225089\n",
      "[48]\tvalid_0's binary_logloss: 0.224617\n",
      "[49]\tvalid_0's binary_logloss: 0.224574\n",
      "[50]\tvalid_0's binary_logloss: 0.224255\n",
      "[51]\tvalid_0's binary_logloss: 0.223694\n",
      "[52]\tvalid_0's binary_logloss: 0.224251\n",
      "[53]\tvalid_0's binary_logloss: 0.223883\n",
      "[54]\tvalid_0's binary_logloss: 0.225227\n",
      "[55]\tvalid_0's binary_logloss: 0.225509\n",
      "[56]\tvalid_0's binary_logloss: 0.225188\n",
      "[57]\tvalid_0's binary_logloss: 0.224427\n",
      "[58]\tvalid_0's binary_logloss: 0.225702\n",
      "[59]\tvalid_0's binary_logloss: 0.225923\n",
      "[60]\tvalid_0's binary_logloss: 0.227007\n",
      "[61]\tvalid_0's binary_logloss: 0.226554\n",
      "[62]\tvalid_0's binary_logloss: 0.226945\n",
      "[63]\tvalid_0's binary_logloss: 0.22755\n",
      "[64]\tvalid_0's binary_logloss: 0.227278\n",
      "[65]\tvalid_0's binary_logloss: 0.226311\n",
      "[66]\tvalid_0's binary_logloss: 0.226633\n",
      "[67]\tvalid_0's binary_logloss: 0.226578\n",
      "[68]\tvalid_0's binary_logloss: 0.22667\n",
      "[69]\tvalid_0's binary_logloss: 0.226703\n",
      "[70]\tvalid_0's binary_logloss: 0.226155\n",
      "[71]\tvalid_0's binary_logloss: 0.225941\n",
      "evaluating on the training set...\n",
      "fitting HMM smoother...\n",
      "fitting forward-backward smoother...\n"
     ]
    },
    {
     "name": "stderr",
     "output_type": "stream",
     "text": [
      "/home/roton/miniconda3/envs/mars/lib/python3.7/site-packages/sklearn/utils/validation.py:70: FutureWarning: Pass threshold=0.5 as keyword args. From version 0.25 passing these as positional arguments will result in an error\n",
      "  FutureWarning)\n"
     ]
    },
    {
     "name": "stdout",
     "output_type": "stream",
     "text": [
      "HMM label smoothing training took 0.50 mins\n",
      "performance on training set:\n",
      "P: 0.9054, R: 0.9081, F1: 0.9067    investigation\n",
      "done training!\n",
      "complete training took 6.09 mins\n",
      "loading test data...\n"
     ]
    },
    {
     "name": "stderr",
     "output_type": "stream",
     "text": [
      "Filtering sequence 0/27    0% --  [Elapsed Time: 0:00:00] |  | (ETA:  --:--:--) \r"
     ]
    },
    {
     "name": "stdout",
     "output_type": "stream",
     "text": [
      "sorting features and applying filters...\n"
     ]
    },
    {
     "name": "stderr",
     "output_type": "stream",
     "text": [
      "Filtering sequence 27/27  100% --  [Elapsed Time: 0:05:33] |##| (Time: 0:05:33) \n"
     ]
    },
    {
     "name": "stdout",
     "output_type": "stream",
     "text": [
      "done!\n",
      "\n",
      "loaded test data: 364826 X 3408 - ['investigation'] \n",
      "loading classifiers from /media/storage/ryan/mabe_challenge/behavior/trained_classifiers/mabe_challenge_lgt_es20_wnd/\n",
      "n_classes = 4\n",
      "{'attack': 0, 'investigation': 1, 'mount': 2, 'other': 3}\n",
      "predicting investigation...\n",
      "inference took 52.82 sec\n",
      " \n",
      "Classifier performance:\n"
     ]
    },
    {
     "name": "stderr",
     "output_type": "stream",
     "text": [
      "/home/roton/miniconda3/envs/mars/lib/python3.7/site-packages/sklearn/metrics/_classification.py:1221: UndefinedMetricWarning: Precision and F-score are ill-defined and being set to 0.0 in labels with no predicted samples. Use `zero_division` parameter to control this behavior.\n",
      "  _warn_prf(average, modifier, msg_start, len(result))\n",
      "/home/roton/miniconda3/envs/mars/lib/python3.7/site-packages/sklearn/metrics/_classification.py:1221: UndefinedMetricWarning: Recall and F-score are ill-defined and being set to 0.0 in labels with no true samples. Use `zero_division` parameter to control this behavior.\n",
      "  _warn_prf(average, modifier, msg_start, len(result))\n"
     ]
    },
    {
     "name": "stdout",
     "output_type": "stream",
     "text": [
      "              attack   investigation   other    \n",
      "  Precision:    0.0      0.861      0.0     \n",
      "     Recall:    0.0      0.788      0.0     \n",
      "   F1 Score:    0.0      0.823      0.0     \n",
      "Loop: 11\n",
      "val set size: 42766\n",
      "training set size: 372115.0\n",
      "loading training data...\n"
     ]
    },
    {
     "name": "stderr",
     "output_type": "stream",
     "text": [
      "Filtering sequence 0/56    0% --  [Elapsed Time: 0:00:00] |  | (ETA:  --:--:--) \r"
     ]
    },
    {
     "name": "stdout",
     "output_type": "stream",
     "text": [
      "sorting features and applying filters...\n"
     ]
    },
    {
     "name": "stderr",
     "output_type": "stream",
     "text": [
      "Filtering sequence 56/56  100% --  [Elapsed Time: 0:05:07] |##| (Time: 0:05:07) \n"
     ]
    },
    {
     "name": "stdout",
     "output_type": "stream",
     "text": [
      "done!\n",
      "\n",
      "loading validation data...\n"
     ]
    },
    {
     "name": "stderr",
     "output_type": "stream",
     "text": [
      "Filtering sequence 0/6    0% --  [Elapsed Time: 0:00:00] |   | (ETA:  --:--:--) \r"
     ]
    },
    {
     "name": "stdout",
     "output_type": "stream",
     "text": [
      "sorting features and applying filters...\n"
     ]
    },
    {
     "name": "stderr",
     "output_type": "stream",
     "text": [
      "Filtering sequence 6/6  100% --  [Elapsed Time: 0:00:36] |####| (Time: 0:00:36) \n"
     ]
    },
    {
     "name": "stdout",
     "output_type": "stream",
     "text": [
      "done!\n",
      "\n",
      "loaded training data: 372115 X 3408 - ['investigation'] \n",
      "Training classifier: MABE_CHALLENGE_LGT_ES20_WND/\n",
      "######################### investigation #########################\n",
      "training using 111131 positive frames (1286 bouts)\n",
      "fitting preprocessing parameters...\n",
      "fitting clf for investigation\n",
      "    training set: 111131 positive / 372115 total (29 %)\n",
      "    eval set: 10392 positive / 42766 total (24 %)\n",
      "  + early stopping\n"
     ]
    },
    {
     "name": "stderr",
     "output_type": "stream",
     "text": [
      "/home/roton/miniconda3/envs/mars/lib/python3.7/site-packages/lightgbm/sklearn.py:726: UserWarning: 'early_stopping_rounds' argument is deprecated and will be removed in a future release of LightGBM. Pass 'early_stopping()' callback via 'callbacks' argument instead.\n",
      "  _log_warning(\"'early_stopping_rounds' argument is deprecated and will be removed in a future release of LightGBM. \"\n",
      "/home/roton/miniconda3/envs/mars/lib/python3.7/site-packages/lightgbm/sklearn.py:736: UserWarning: 'verbose' argument is deprecated and will be removed in a future release of LightGBM. Pass 'log_evaluation()' callback via 'callbacks' argument instead.\n",
      "  _log_warning(\"'verbose' argument is deprecated and will be removed in a future release of LightGBM. \"\n"
     ]
    },
    {
     "name": "stdout",
     "output_type": "stream",
     "text": [
      "[1]\tvalid_0's binary_logloss: 0.512467\n",
      "[2]\tvalid_0's binary_logloss: 0.472766\n",
      "[3]\tvalid_0's binary_logloss: 0.439269\n",
      "[4]\tvalid_0's binary_logloss: 0.41239\n",
      "[5]\tvalid_0's binary_logloss: 0.389863\n",
      "[6]\tvalid_0's binary_logloss: 0.369447\n",
      "[7]\tvalid_0's binary_logloss: 0.352762\n",
      "[8]\tvalid_0's binary_logloss: 0.337362\n",
      "[9]\tvalid_0's binary_logloss: 0.323839\n",
      "[10]\tvalid_0's binary_logloss: 0.312729\n",
      "[11]\tvalid_0's binary_logloss: 0.302599\n",
      "[12]\tvalid_0's binary_logloss: 0.29397\n",
      "[13]\tvalid_0's binary_logloss: 0.286893\n",
      "[14]\tvalid_0's binary_logloss: 0.279789\n",
      "[15]\tvalid_0's binary_logloss: 0.274025\n",
      "[16]\tvalid_0's binary_logloss: 0.268818\n",
      "[17]\tvalid_0's binary_logloss: 0.264577\n",
      "[18]\tvalid_0's binary_logloss: 0.260033\n",
      "[19]\tvalid_0's binary_logloss: 0.256127\n",
      "[20]\tvalid_0's binary_logloss: 0.25344\n",
      "[21]\tvalid_0's binary_logloss: 0.250608\n",
      "[22]\tvalid_0's binary_logloss: 0.248485\n",
      "[23]\tvalid_0's binary_logloss: 0.245588\n",
      "[24]\tvalid_0's binary_logloss: 0.243802\n",
      "[25]\tvalid_0's binary_logloss: 0.241413\n",
      "[26]\tvalid_0's binary_logloss: 0.239601\n",
      "[27]\tvalid_0's binary_logloss: 0.238017\n",
      "[28]\tvalid_0's binary_logloss: 0.236222\n",
      "[29]\tvalid_0's binary_logloss: 0.235622\n",
      "[30]\tvalid_0's binary_logloss: 0.234802\n",
      "[31]\tvalid_0's binary_logloss: 0.233395\n",
      "[32]\tvalid_0's binary_logloss: 0.232508\n",
      "[33]\tvalid_0's binary_logloss: 0.231963\n",
      "[34]\tvalid_0's binary_logloss: 0.23135\n",
      "[35]\tvalid_0's binary_logloss: 0.23042\n",
      "[36]\tvalid_0's binary_logloss: 0.230009\n",
      "[37]\tvalid_0's binary_logloss: 0.229447\n",
      "[38]\tvalid_0's binary_logloss: 0.22748\n",
      "[39]\tvalid_0's binary_logloss: 0.226012\n",
      "[40]\tvalid_0's binary_logloss: 0.22565\n",
      "[41]\tvalid_0's binary_logloss: 0.22486\n",
      "[42]\tvalid_0's binary_logloss: 0.224092\n",
      "[43]\tvalid_0's binary_logloss: 0.223453\n",
      "[44]\tvalid_0's binary_logloss: 0.223828\n",
      "[45]\tvalid_0's binary_logloss: 0.223798\n",
      "[46]\tvalid_0's binary_logloss: 0.223569\n",
      "[47]\tvalid_0's binary_logloss: 0.223629\n",
      "[48]\tvalid_0's binary_logloss: 0.223314\n",
      "[49]\tvalid_0's binary_logloss: 0.223285\n",
      "[50]\tvalid_0's binary_logloss: 0.223038\n",
      "[51]\tvalid_0's binary_logloss: 0.222969\n",
      "[52]\tvalid_0's binary_logloss: 0.222719\n",
      "[53]\tvalid_0's binary_logloss: 0.222673\n",
      "[54]\tvalid_0's binary_logloss: 0.222329\n",
      "[55]\tvalid_0's binary_logloss: 0.222143\n",
      "[56]\tvalid_0's binary_logloss: 0.222382\n",
      "[57]\tvalid_0's binary_logloss: 0.222248\n",
      "[58]\tvalid_0's binary_logloss: 0.221853\n",
      "[59]\tvalid_0's binary_logloss: 0.222151\n",
      "[60]\tvalid_0's binary_logloss: 0.221426\n",
      "[61]\tvalid_0's binary_logloss: 0.221547\n",
      "[62]\tvalid_0's binary_logloss: 0.221828\n",
      "[63]\tvalid_0's binary_logloss: 0.222082\n",
      "[64]\tvalid_0's binary_logloss: 0.221985\n",
      "[65]\tvalid_0's binary_logloss: 0.222197\n",
      "[66]\tvalid_0's binary_logloss: 0.221435\n",
      "[67]\tvalid_0's binary_logloss: 0.221302\n",
      "[68]\tvalid_0's binary_logloss: 0.221433\n",
      "[69]\tvalid_0's binary_logloss: 0.22098\n",
      "[70]\tvalid_0's binary_logloss: 0.220652\n",
      "[71]\tvalid_0's binary_logloss: 0.220807\n",
      "[72]\tvalid_0's binary_logloss: 0.221202\n",
      "[73]\tvalid_0's binary_logloss: 0.221169\n",
      "[74]\tvalid_0's binary_logloss: 0.221\n",
      "[75]\tvalid_0's binary_logloss: 0.220505\n",
      "[76]\tvalid_0's binary_logloss: 0.219875\n",
      "[77]\tvalid_0's binary_logloss: 0.219824\n",
      "[78]\tvalid_0's binary_logloss: 0.219945\n",
      "[79]\tvalid_0's binary_logloss: 0.220148\n",
      "[80]\tvalid_0's binary_logloss: 0.219802\n",
      "[81]\tvalid_0's binary_logloss: 0.219604\n",
      "[82]\tvalid_0's binary_logloss: 0.219706\n",
      "[83]\tvalid_0's binary_logloss: 0.220059\n",
      "[84]\tvalid_0's binary_logloss: 0.220356\n",
      "[85]\tvalid_0's binary_logloss: 0.220511\n",
      "[86]\tvalid_0's binary_logloss: 0.221017\n",
      "[87]\tvalid_0's binary_logloss: 0.221407\n",
      "[88]\tvalid_0's binary_logloss: 0.221123\n",
      "[89]\tvalid_0's binary_logloss: 0.221277\n",
      "[90]\tvalid_0's binary_logloss: 0.221045\n",
      "[91]\tvalid_0's binary_logloss: 0.220872\n",
      "[92]\tvalid_0's binary_logloss: 0.220994\n",
      "[93]\tvalid_0's binary_logloss: 0.220832\n",
      "[94]\tvalid_0's binary_logloss: 0.220924\n",
      "[95]\tvalid_0's binary_logloss: 0.220909\n",
      "[96]\tvalid_0's binary_logloss: 0.221367\n",
      "[97]\tvalid_0's binary_logloss: 0.221218\n",
      "[98]\tvalid_0's binary_logloss: 0.221187\n",
      "[99]\tvalid_0's binary_logloss: 0.221217\n",
      "[100]\tvalid_0's binary_logloss: 0.221965\n",
      "[101]\tvalid_0's binary_logloss: 0.221802\n",
      "evaluating on the training set...\n",
      "fitting HMM smoother...\n",
      "fitting forward-backward smoother...\n"
     ]
    },
    {
     "name": "stderr",
     "output_type": "stream",
     "text": [
      "/home/roton/miniconda3/envs/mars/lib/python3.7/site-packages/sklearn/utils/validation.py:70: FutureWarning: Pass threshold=0.5 as keyword args. From version 0.25 passing these as positional arguments will result in an error\n",
      "  FutureWarning)\n"
     ]
    },
    {
     "name": "stdout",
     "output_type": "stream",
     "text": [
      "HMM label smoothing training took 0.32 mins\n",
      "performance on training set:\n",
      "P: 0.9154, R: 0.9211, F1: 0.9182    investigation\n",
      "done training!\n",
      "complete training took 7.70 mins\n",
      "loading test data...\n"
     ]
    },
    {
     "name": "stderr",
     "output_type": "stream",
     "text": [
      "Filtering sequence 0/27    0% --  [Elapsed Time: 0:00:00] |  | (ETA:  --:--:--) \r"
     ]
    },
    {
     "name": "stdout",
     "output_type": "stream",
     "text": [
      "sorting features and applying filters...\n"
     ]
    },
    {
     "name": "stderr",
     "output_type": "stream",
     "text": [
      "Filtering sequence 27/27  100% --  [Elapsed Time: 0:05:42] |##| (Time: 0:05:42) \n"
     ]
    },
    {
     "name": "stdout",
     "output_type": "stream",
     "text": [
      "done!\n",
      "\n",
      "loaded test data: 364826 X 3408 - ['investigation'] \n",
      "loading classifiers from /media/storage/ryan/mabe_challenge/behavior/trained_classifiers/mabe_challenge_lgt_es20_wnd/\n",
      "n_classes = 4\n",
      "{'attack': 0, 'investigation': 1, 'mount': 2, 'other': 3}\n",
      "predicting investigation...\n",
      "inference took 60.57 sec\n",
      " \n",
      "Classifier performance:\n"
     ]
    },
    {
     "name": "stderr",
     "output_type": "stream",
     "text": [
      "/home/roton/miniconda3/envs/mars/lib/python3.7/site-packages/sklearn/metrics/_classification.py:1221: UndefinedMetricWarning: Precision and F-score are ill-defined and being set to 0.0 in labels with no predicted samples. Use `zero_division` parameter to control this behavior.\n",
      "  _warn_prf(average, modifier, msg_start, len(result))\n",
      "/home/roton/miniconda3/envs/mars/lib/python3.7/site-packages/sklearn/metrics/_classification.py:1221: UndefinedMetricWarning: Recall and F-score are ill-defined and being set to 0.0 in labels with no true samples. Use `zero_division` parameter to control this behavior.\n",
      "  _warn_prf(average, modifier, msg_start, len(result))\n"
     ]
    },
    {
     "name": "stdout",
     "output_type": "stream",
     "text": [
      "              attack   investigation   other    \n",
      "  Precision:    0.0      0.858      0.0     \n",
      "     Recall:    0.0      0.794      0.0     \n",
      "   F1 Score:    0.0      0.824      0.0     \n",
      "Loop: 12\n",
      "val set size: 48966\n",
      "training set size: 422460.0\n",
      "loading training data...\n"
     ]
    },
    {
     "name": "stderr",
     "output_type": "stream",
     "text": [
      "Filtering sequence 0/59    0% --  [Elapsed Time: 0:00:00] |  | (ETA:  --:--:--) \r"
     ]
    },
    {
     "name": "stdout",
     "output_type": "stream",
     "text": [
      "sorting features and applying filters...\n"
     ]
    },
    {
     "name": "stderr",
     "output_type": "stream",
     "text": [
      "Filtering sequence 59/59  100% --  [Elapsed Time: 0:06:25] |##| (Time: 0:06:25) \n"
     ]
    },
    {
     "name": "stdout",
     "output_type": "stream",
     "text": [
      "done!\n",
      "\n",
      "loading validation data...\n"
     ]
    },
    {
     "name": "stderr",
     "output_type": "stream",
     "text": [
      "Filtering sequence 0/7    0% --  [Elapsed Time: 0:00:00] |   | (ETA:  --:--:--) \r"
     ]
    },
    {
     "name": "stdout",
     "output_type": "stream",
     "text": [
      "sorting features and applying filters...\n"
     ]
    },
    {
     "name": "stderr",
     "output_type": "stream",
     "text": [
      "Filtering sequence 7/7  100% --  [Elapsed Time: 0:00:39] |####| (Time: 0:00:39) \n"
     ]
    },
    {
     "name": "stdout",
     "output_type": "stream",
     "text": [
      "done!\n",
      "\n",
      "loaded training data: 422460 X 3408 - ['investigation'] \n",
      "Training classifier: MABE_CHALLENGE_LGT_ES20_WND/\n",
      "######################### investigation #########################\n",
      "training using 125675 positive frames (1514 bouts)\n",
      "fitting preprocessing parameters...\n",
      "fitting clf for investigation\n",
      "    training set: 125675 positive / 422460 total (29 %)\n",
      "    eval set: 11493 positive / 48966 total (23 %)\n",
      "  + early stopping\n"
     ]
    },
    {
     "name": "stderr",
     "output_type": "stream",
     "text": [
      "/home/roton/miniconda3/envs/mars/lib/python3.7/site-packages/lightgbm/sklearn.py:726: UserWarning: 'early_stopping_rounds' argument is deprecated and will be removed in a future release of LightGBM. Pass 'early_stopping()' callback via 'callbacks' argument instead.\n",
      "  _log_warning(\"'early_stopping_rounds' argument is deprecated and will be removed in a future release of LightGBM. \"\n",
      "/home/roton/miniconda3/envs/mars/lib/python3.7/site-packages/lightgbm/sklearn.py:736: UserWarning: 'verbose' argument is deprecated and will be removed in a future release of LightGBM. Pass 'log_evaluation()' callback via 'callbacks' argument instead.\n",
      "  _log_warning(\"'verbose' argument is deprecated and will be removed in a future release of LightGBM. \"\n"
     ]
    },
    {
     "name": "stdout",
     "output_type": "stream",
     "text": [
      "[1]\tvalid_0's binary_logloss: 0.507142\n",
      "[2]\tvalid_0's binary_logloss: 0.469115\n",
      "[3]\tvalid_0's binary_logloss: 0.437932\n",
      "[4]\tvalid_0's binary_logloss: 0.412232\n",
      "[5]\tvalid_0's binary_logloss: 0.390184\n",
      "[6]\tvalid_0's binary_logloss: 0.371206\n",
      "[7]\tvalid_0's binary_logloss: 0.354618\n",
      "[8]\tvalid_0's binary_logloss: 0.339468\n",
      "[9]\tvalid_0's binary_logloss: 0.326545\n",
      "[10]\tvalid_0's binary_logloss: 0.315837\n",
      "[11]\tvalid_0's binary_logloss: 0.30559\n",
      "[12]\tvalid_0's binary_logloss: 0.297566\n",
      "[13]\tvalid_0's binary_logloss: 0.290086\n",
      "[14]\tvalid_0's binary_logloss: 0.284872\n",
      "[15]\tvalid_0's binary_logloss: 0.279772\n",
      "[16]\tvalid_0's binary_logloss: 0.274483\n",
      "[17]\tvalid_0's binary_logloss: 0.270558\n",
      "[18]\tvalid_0's binary_logloss: 0.26682\n",
      "[19]\tvalid_0's binary_logloss: 0.263812\n",
      "[20]\tvalid_0's binary_logloss: 0.261448\n",
      "[21]\tvalid_0's binary_logloss: 0.258981\n",
      "[22]\tvalid_0's binary_logloss: 0.256087\n",
      "[23]\tvalid_0's binary_logloss: 0.254554\n",
      "[24]\tvalid_0's binary_logloss: 0.253097\n",
      "[25]\tvalid_0's binary_logloss: 0.251204\n",
      "[26]\tvalid_0's binary_logloss: 0.249686\n",
      "[27]\tvalid_0's binary_logloss: 0.24818\n",
      "[28]\tvalid_0's binary_logloss: 0.246854\n",
      "[29]\tvalid_0's binary_logloss: 0.245724\n",
      "[30]\tvalid_0's binary_logloss: 0.245557\n",
      "[31]\tvalid_0's binary_logloss: 0.245491\n",
      "[32]\tvalid_0's binary_logloss: 0.244445\n",
      "[33]\tvalid_0's binary_logloss: 0.243564\n",
      "[34]\tvalid_0's binary_logloss: 0.242527\n",
      "[35]\tvalid_0's binary_logloss: 0.24253\n",
      "[36]\tvalid_0's binary_logloss: 0.24249\n",
      "[37]\tvalid_0's binary_logloss: 0.242176\n",
      "[38]\tvalid_0's binary_logloss: 0.241996\n",
      "[39]\tvalid_0's binary_logloss: 0.241687\n",
      "[40]\tvalid_0's binary_logloss: 0.241628\n",
      "[41]\tvalid_0's binary_logloss: 0.241179\n",
      "[42]\tvalid_0's binary_logloss: 0.240691\n",
      "[43]\tvalid_0's binary_logloss: 0.240455\n",
      "[44]\tvalid_0's binary_logloss: 0.240634\n",
      "[45]\tvalid_0's binary_logloss: 0.241069\n",
      "[46]\tvalid_0's binary_logloss: 0.240965\n",
      "[47]\tvalid_0's binary_logloss: 0.24063\n",
      "[48]\tvalid_0's binary_logloss: 0.240587\n",
      "[49]\tvalid_0's binary_logloss: 0.240793\n",
      "[50]\tvalid_0's binary_logloss: 0.240915\n",
      "[51]\tvalid_0's binary_logloss: 0.241019\n",
      "[52]\tvalid_0's binary_logloss: 0.241399\n",
      "[53]\tvalid_0's binary_logloss: 0.241075\n",
      "[54]\tvalid_0's binary_logloss: 0.240921\n",
      "[55]\tvalid_0's binary_logloss: 0.241424\n",
      "[56]\tvalid_0's binary_logloss: 0.241267\n",
      "[57]\tvalid_0's binary_logloss: 0.241366\n",
      "[58]\tvalid_0's binary_logloss: 0.242283\n",
      "[59]\tvalid_0's binary_logloss: 0.242322\n",
      "[60]\tvalid_0's binary_logloss: 0.242386\n",
      "[61]\tvalid_0's binary_logloss: 0.242973\n",
      "[62]\tvalid_0's binary_logloss: 0.242742\n",
      "[63]\tvalid_0's binary_logloss: 0.241947\n",
      "evaluating on the training set...\n",
      "fitting HMM smoother...\n",
      "fitting forward-backward smoother...\n"
     ]
    },
    {
     "name": "stderr",
     "output_type": "stream",
     "text": [
      "/home/roton/miniconda3/envs/mars/lib/python3.7/site-packages/sklearn/utils/validation.py:70: FutureWarning: Pass threshold=0.5 as keyword args. From version 0.25 passing these as positional arguments will result in an error\n",
      "  FutureWarning)\n"
     ]
    },
    {
     "name": "stdout",
     "output_type": "stream",
     "text": [
      "HMM label smoothing training took 0.25 mins\n",
      "performance on training set:\n",
      "P: 0.8925, R: 0.9022, F1: 0.8973    investigation\n",
      "done training!\n",
      "complete training took 6.96 mins\n",
      "loading test data...\n"
     ]
    },
    {
     "name": "stderr",
     "output_type": "stream",
     "text": [
      "Filtering sequence 0/27    0% --  [Elapsed Time: 0:00:00] |  | (ETA:  --:--:--) \r"
     ]
    },
    {
     "name": "stdout",
     "output_type": "stream",
     "text": [
      "sorting features and applying filters...\n"
     ]
    },
    {
     "name": "stderr",
     "output_type": "stream",
     "text": [
      "Filtering sequence 27/27  100% --  [Elapsed Time: 0:05:37] |##| (Time: 0:05:37) \n"
     ]
    },
    {
     "name": "stdout",
     "output_type": "stream",
     "text": [
      "done!\n",
      "\n",
      "loaded test data: 364826 X 3408 - ['investigation'] \n",
      "loading classifiers from /media/storage/ryan/mabe_challenge/behavior/trained_classifiers/mabe_challenge_lgt_es20_wnd/\n",
      "n_classes = 4\n",
      "{'attack': 0, 'investigation': 1, 'mount': 2, 'other': 3}\n",
      "predicting investigation...\n",
      "inference took 60.49 sec\n",
      " \n",
      "Classifier performance:\n"
     ]
    },
    {
     "name": "stderr",
     "output_type": "stream",
     "text": [
      "/home/roton/miniconda3/envs/mars/lib/python3.7/site-packages/sklearn/metrics/_classification.py:1221: UndefinedMetricWarning: Precision and F-score are ill-defined and being set to 0.0 in labels with no predicted samples. Use `zero_division` parameter to control this behavior.\n",
      "  _warn_prf(average, modifier, msg_start, len(result))\n",
      "/home/roton/miniconda3/envs/mars/lib/python3.7/site-packages/sklearn/metrics/_classification.py:1221: UndefinedMetricWarning: Recall and F-score are ill-defined and being set to 0.0 in labels with no true samples. Use `zero_division` parameter to control this behavior.\n",
      "  _warn_prf(average, modifier, msg_start, len(result))\n"
     ]
    },
    {
     "name": "stdout",
     "output_type": "stream",
     "text": [
      "              attack   investigation   other    \n",
      "  Precision:    0.0      0.847      0.0     \n",
      "     Recall:    0.0      0.812      0.0     \n",
      "   F1 Score:    0.0      0.829      0.0     \n",
      "Loop: 13\n",
      "val set size: 51609\n",
      "training set size: 456129.0\n",
      "loading training data...\n"
     ]
    },
    {
     "name": "stderr",
     "output_type": "stream",
     "text": [
      "Filtering sequence 0/62    0% --  [Elapsed Time: 0:00:00] |  | (ETA:  --:--:--) \r"
     ]
    },
    {
     "name": "stdout",
     "output_type": "stream",
     "text": [
      "sorting features and applying filters...\n"
     ]
    },
    {
     "name": "stderr",
     "output_type": "stream",
     "text": [
      "Filtering sequence 62/62  100% --  [Elapsed Time: 0:06:54] |##| (Time: 0:06:54) \n"
     ]
    },
    {
     "name": "stdout",
     "output_type": "stream",
     "text": [
      "done!\n",
      "\n",
      "loading validation data...\n"
     ]
    },
    {
     "name": "stderr",
     "output_type": "stream",
     "text": [
      "Filtering sequence 0/8    0% --  [Elapsed Time: 0:00:00] |   | (ETA:  --:--:--) \r"
     ]
    },
    {
     "name": "stdout",
     "output_type": "stream",
     "text": [
      "sorting features and applying filters...\n"
     ]
    },
    {
     "name": "stderr",
     "output_type": "stream",
     "text": [
      "Filtering sequence 8/8  100% --  [Elapsed Time: 0:00:41] |####| (Time: 0:00:41) \n"
     ]
    },
    {
     "name": "stdout",
     "output_type": "stream",
     "text": [
      "done!\n",
      "\n",
      "loaded training data: 456129 X 3408 - ['investigation'] \n",
      "Training classifier: MABE_CHALLENGE_LGT_ES20_WND/\n",
      "######################### investigation #########################\n",
      "training using 135023 positive frames (1718 bouts)\n",
      "fitting preprocessing parameters...\n",
      "fitting clf for investigation\n",
      "    training set: 135023 positive / 456129 total (29 %)\n",
      "    eval set: 11600 positive / 51609 total (22 %)\n",
      "  + early stopping\n"
     ]
    },
    {
     "name": "stderr",
     "output_type": "stream",
     "text": [
      "/home/roton/miniconda3/envs/mars/lib/python3.7/site-packages/lightgbm/sklearn.py:726: UserWarning: 'early_stopping_rounds' argument is deprecated and will be removed in a future release of LightGBM. Pass 'early_stopping()' callback via 'callbacks' argument instead.\n",
      "  _log_warning(\"'early_stopping_rounds' argument is deprecated and will be removed in a future release of LightGBM. \"\n",
      "/home/roton/miniconda3/envs/mars/lib/python3.7/site-packages/lightgbm/sklearn.py:736: UserWarning: 'verbose' argument is deprecated and will be removed in a future release of LightGBM. Pass 'log_evaluation()' callback via 'callbacks' argument instead.\n",
      "  _log_warning(\"'verbose' argument is deprecated and will be removed in a future release of LightGBM. \"\n"
     ]
    },
    {
     "name": "stdout",
     "output_type": "stream",
     "text": [
      "[1]\tvalid_0's binary_logloss: 0.49795\n",
      "[2]\tvalid_0's binary_logloss: 0.460361\n",
      "[3]\tvalid_0's binary_logloss: 0.430362\n",
      "[4]\tvalid_0's binary_logloss: 0.404446\n",
      "[5]\tvalid_0's binary_logloss: 0.38208\n",
      "[6]\tvalid_0's binary_logloss: 0.362815\n",
      "[7]\tvalid_0's binary_logloss: 0.346706\n",
      "[8]\tvalid_0's binary_logloss: 0.332728\n",
      "[9]\tvalid_0's binary_logloss: 0.320028\n",
      "[10]\tvalid_0's binary_logloss: 0.30986\n",
      "[11]\tvalid_0's binary_logloss: 0.300859\n",
      "[12]\tvalid_0's binary_logloss: 0.292705\n",
      "[13]\tvalid_0's binary_logloss: 0.285334\n",
      "[14]\tvalid_0's binary_logloss: 0.279445\n",
      "[15]\tvalid_0's binary_logloss: 0.273868\n",
      "[16]\tvalid_0's binary_logloss: 0.268954\n",
      "[17]\tvalid_0's binary_logloss: 0.264933\n",
      "[18]\tvalid_0's binary_logloss: 0.261933\n",
      "[19]\tvalid_0's binary_logloss: 0.258467\n",
      "[20]\tvalid_0's binary_logloss: 0.255641\n",
      "[21]\tvalid_0's binary_logloss: 0.253981\n",
      "[22]\tvalid_0's binary_logloss: 0.251997\n",
      "[23]\tvalid_0's binary_logloss: 0.249532\n",
      "[24]\tvalid_0's binary_logloss: 0.247014\n",
      "[25]\tvalid_0's binary_logloss: 0.245598\n",
      "[26]\tvalid_0's binary_logloss: 0.244275\n",
      "[27]\tvalid_0's binary_logloss: 0.242775\n",
      "[28]\tvalid_0's binary_logloss: 0.241594\n",
      "[29]\tvalid_0's binary_logloss: 0.240161\n",
      "[30]\tvalid_0's binary_logloss: 0.238951\n",
      "[31]\tvalid_0's binary_logloss: 0.237902\n",
      "[32]\tvalid_0's binary_logloss: 0.237862\n",
      "[33]\tvalid_0's binary_logloss: 0.23712\n",
      "[34]\tvalid_0's binary_logloss: 0.236745\n",
      "[35]\tvalid_0's binary_logloss: 0.236587\n",
      "[36]\tvalid_0's binary_logloss: 0.235983\n",
      "[37]\tvalid_0's binary_logloss: 0.235472\n",
      "[38]\tvalid_0's binary_logloss: 0.234884\n",
      "[39]\tvalid_0's binary_logloss: 0.234473\n",
      "[40]\tvalid_0's binary_logloss: 0.234678\n",
      "[41]\tvalid_0's binary_logloss: 0.234647\n",
      "[42]\tvalid_0's binary_logloss: 0.234838\n",
      "[43]\tvalid_0's binary_logloss: 0.234736\n",
      "[44]\tvalid_0's binary_logloss: 0.234566\n",
      "[45]\tvalid_0's binary_logloss: 0.234939\n",
      "[46]\tvalid_0's binary_logloss: 0.235271\n",
      "[47]\tvalid_0's binary_logloss: 0.234362\n",
      "[48]\tvalid_0's binary_logloss: 0.234341\n",
      "[49]\tvalid_0's binary_logloss: 0.234623\n",
      "[50]\tvalid_0's binary_logloss: 0.234286\n",
      "[51]\tvalid_0's binary_logloss: 0.234266\n",
      "[52]\tvalid_0's binary_logloss: 0.23404\n",
      "[53]\tvalid_0's binary_logloss: 0.23439\n",
      "[54]\tvalid_0's binary_logloss: 0.234566\n",
      "[55]\tvalid_0's binary_logloss: 0.234822\n",
      "[56]\tvalid_0's binary_logloss: 0.234818\n",
      "[57]\tvalid_0's binary_logloss: 0.235218\n",
      "[58]\tvalid_0's binary_logloss: 0.23543\n",
      "[59]\tvalid_0's binary_logloss: 0.235598\n",
      "[60]\tvalid_0's binary_logloss: 0.236003\n",
      "[61]\tvalid_0's binary_logloss: 0.23579\n",
      "[62]\tvalid_0's binary_logloss: 0.235973\n",
      "[63]\tvalid_0's binary_logloss: 0.23571\n",
      "[64]\tvalid_0's binary_logloss: 0.235245\n",
      "[65]\tvalid_0's binary_logloss: 0.234796\n",
      "[66]\tvalid_0's binary_logloss: 0.234645\n",
      "[67]\tvalid_0's binary_logloss: 0.234642\n",
      "[68]\tvalid_0's binary_logloss: 0.234827\n",
      "[69]\tvalid_0's binary_logloss: 0.234771\n",
      "[70]\tvalid_0's binary_logloss: 0.234964\n",
      "[71]\tvalid_0's binary_logloss: 0.235065\n",
      "[72]\tvalid_0's binary_logloss: 0.235039\n",
      "evaluating on the training set...\n",
      "fitting HMM smoother...\n",
      "fitting forward-backward smoother...\n"
     ]
    },
    {
     "name": "stderr",
     "output_type": "stream",
     "text": [
      "/home/roton/miniconda3/envs/mars/lib/python3.7/site-packages/sklearn/utils/validation.py:70: FutureWarning: Pass threshold=0.5 as keyword args. From version 0.25 passing these as positional arguments will result in an error\n",
      "  FutureWarning)\n"
     ]
    },
    {
     "name": "stdout",
     "output_type": "stream",
     "text": [
      "HMM label smoothing training took 0.56 mins\n",
      "performance on training set:\n",
      "P: 0.8905, R: 0.9032, F1: 0.8968    investigation\n",
      "done training!\n",
      "complete training took 8.21 mins\n",
      "loading test data...\n"
     ]
    },
    {
     "name": "stderr",
     "output_type": "stream",
     "text": [
      "Filtering sequence 0/27    0% --  [Elapsed Time: 0:00:00] |  | (ETA:  --:--:--) \r"
     ]
    },
    {
     "name": "stdout",
     "output_type": "stream",
     "text": [
      "sorting features and applying filters...\n"
     ]
    },
    {
     "name": "stderr",
     "output_type": "stream",
     "text": [
      "Filtering sequence 27/27  100% --  [Elapsed Time: 0:05:37] |##| (Time: 0:05:37) \n"
     ]
    },
    {
     "name": "stdout",
     "output_type": "stream",
     "text": [
      "done!\n",
      "\n",
      "loaded test data: 364826 X 3408 - ['investigation'] \n",
      "loading classifiers from /media/storage/ryan/mabe_challenge/behavior/trained_classifiers/mabe_challenge_lgt_es20_wnd/\n",
      "n_classes = 4\n",
      "{'attack': 0, 'investigation': 1, 'mount': 2, 'other': 3}\n",
      "predicting investigation...\n",
      "inference took 60.82 sec\n",
      " \n",
      "Classifier performance:\n"
     ]
    },
    {
     "name": "stderr",
     "output_type": "stream",
     "text": [
      "/home/roton/miniconda3/envs/mars/lib/python3.7/site-packages/sklearn/metrics/_classification.py:1221: UndefinedMetricWarning: Precision and F-score are ill-defined and being set to 0.0 in labels with no predicted samples. Use `zero_division` parameter to control this behavior.\n",
      "  _warn_prf(average, modifier, msg_start, len(result))\n",
      "/home/roton/miniconda3/envs/mars/lib/python3.7/site-packages/sklearn/metrics/_classification.py:1221: UndefinedMetricWarning: Recall and F-score are ill-defined and being set to 0.0 in labels with no true samples. Use `zero_division` parameter to control this behavior.\n",
      "  _warn_prf(average, modifier, msg_start, len(result))\n"
     ]
    },
    {
     "name": "stdout",
     "output_type": "stream",
     "text": [
      "              attack   investigation   other    \n",
      "  Precision:    0.0      0.847      0.0     \n",
      "     Recall:    0.0      0.838      0.0     \n",
      "   F1 Score:    0.0      0.843      0.0     \n"
     ]
    }
   ],
   "source": [
    "## Loop over different training set sizes\n",
    "\n",
    "import json\n",
    "import numpy as np\n",
    "import copy\n",
    "import random\n",
    "from behavior_classification import MARS_train_test\n",
    "\n",
    "# investigation only!!\n",
    "\n",
    "n_shuffles = 5\n",
    "\n",
    "project_path = '/media/storage/ryan/mabe_challenge'\n",
    "\n",
    "with open(\"/media/storage/ryan/mabe_challenge/behavior/behavior_jsons/train_features_0.json\") as f:\n",
    "    complete_training_set = json.load(f)\n",
    "\n",
    "training_set_sizes = np.asarray([0.01, 0.025, 0.05, 0.075, 0.1, 0.2, 0.3, 0.4, 0.5, 0.6, 0.7, 0.8, 0.9, 1])\n",
    "training_set_sizes_frames = np.zeros((n_shuffles, len(training_set_sizes), 4))\n",
    "\n",
    "complete_training_set_total_frames = 0\n",
    "for seq_name in complete_training_set[\"sequences\"][\"mabe_challenge\"].keys():\n",
    "    complete_training_set_total_frames += len(complete_training_set[\"sequences\"][\"mabe_challenge\"][seq_name][0][\"annotations\"])\n",
    "\n",
    "complete_precision = []\n",
    "complete_recall = []\n",
    "complete_f1 = []\n",
    "    \n",
    "random.seed(42)\n",
    "\n",
    "for n_shuffle in range(n_shuffles):\n",
    "    print(\"Shuffle: {}\".format(n_shuffle))\n",
    "    \n",
    "    seq_names = list(complete_training_set[\"sequences\"][\"mabe_challenge\"].keys())\n",
    "    random.shuffle(seq_names)\n",
    "    \n",
    "\n",
    "    precision = []\n",
    "    recall = []\n",
    "    f1 = []\n",
    "\n",
    "\n",
    "    for iteration, training_set_size in enumerate(training_set_sizes):\n",
    "        print(\"Loop: {}\".format(iteration))\n",
    "\n",
    "        training_set_frames = 0\n",
    "\n",
    "        training_set = {}\n",
    "        training_set[\"vocabulary\"] = copy.deepcopy(complete_training_set[\"vocabulary\"])\n",
    "        training_set[\"feature_names\"] = copy.deepcopy(complete_training_set[\"feature_names\"])\n",
    "        training_set[\"sequences\"] = {}\n",
    "        training_set[\"sequences\"][\"mabe_challenge\"] = {}\n",
    "    \n",
    "        \n",
    "        available_seq_names = copy.deepcopy(seq_names)\n",
    "        \n",
    "        seq_index = 0\n",
    "\n",
    "\n",
    "        while(training_set_frames < training_set_size * complete_training_set_total_frames):\n",
    "            training_set[\"sequences\"][\"mabe_challenge\"][seq_names[seq_index]] = copy.deepcopy(complete_training_set[\"sequences\"][\"mabe_challenge\"][seq_names[seq_index]])\n",
    "            training_set_frames += len(training_set[\"sequences\"][\"mabe_challenge\"][seq_names[seq_index]][0][\"annotations\"])\n",
    "            available_seq_names.remove(seq_names[seq_index])\n",
    "            seq_index += 1\n",
    "\n",
    "\n",
    "        val_set_size = 0.1 #initial tests used 0.1\n",
    "        val_set_frames = 0\n",
    "\n",
    "        val_set = {}\n",
    "        val_set[\"vocabulary\"] = copy.deepcopy(training_set[\"vocabulary\"])\n",
    "        val_set[\"feature_names\"] = copy.deepcopy(training_set[\"feature_names\"])\n",
    "        val_set[\"sequences\"] = {}\n",
    "        val_set[\"sequences\"][\"mabe_challenge\"] = {}\n",
    "\n",
    "        seq_index = 0\n",
    "\n",
    "        if len(training_set[\"sequences\"][\"mabe_challenge\"].keys()) > 1:\n",
    "            while(val_set_frames < val_set_size * training_set_frames):\n",
    "                val_set[\"sequences\"][\"mabe_challenge\"][seq_names[seq_index]] = copy.deepcopy(training_set[\"sequences\"][\"mabe_challenge\"][seq_names[seq_index]])\n",
    "                training_set[\"sequences\"][\"mabe_challenge\"].pop(seq_names[seq_index])\n",
    "\n",
    "\n",
    "                val_set_frames += len(val_set[\"sequences\"][\"mabe_challenge\"][seq_names[seq_index]][0][\"annotations\"])\n",
    "                seq_index += 1\n",
    "        \n",
    "        if val_set_frames == 0:\n",
    "            random.shuffle(available_seq_names)\n",
    "            val_set[\"sequences\"][\"mabe_challenge\"][available_seq_names[0]] = copy.deepcopy(complete_training_set[\"sequences\"][\"mabe_challenge\"][available_seq_names[0]])\n",
    "            val_set_frames += len(val_set[\"sequences\"][\"mabe_challenge\"][available_seq_names[0]][0][\"annotations\"])\n",
    "            \n",
    "            \n",
    "\n",
    "\n",
    "        print(\"val set size: {}\".format(val_set_frames))\n",
    "\n",
    "        for training_set_seq_name in training_set[\"sequences\"][\"mabe_challenge\"].keys():\n",
    "            for behavior in range(4):\n",
    "                training_set_sizes_frames[n_shuffle, iteration, behavior] += np.sum(np.asarray(training_set[\"sequences\"][\"mabe_challenge\"][training_set_seq_name][0][\"annotations\"])==behavior)\n",
    "        print(\"training set size: {}\".format(np.sum(training_set_sizes_frames[n_shuffle, iteration])))\n",
    "\n",
    "\n",
    "        with open(\"/media/storage/ryan/mabe_challenge/behavior/behavior_jsons/val_features.json\", 'w') as f:\n",
    "            json.dump(val_set, f)\n",
    "\n",
    "        with open(\"/media/storage/ryan/mabe_challenge/behavior/behavior_jsons/train_features.json\", 'w') as f:\n",
    "            json.dump(training_set, f)\n",
    "\n",
    "        results = MARS_train_test.train_classifier(project_path, ['investigation'])\n",
    "        temp_precision, temp_recall, temp_f1 = MARS_train_test.test_classifier(project_path, ['investigation'])\n",
    "\n",
    "        precision.append(temp_precision)\n",
    "        recall.append(temp_recall)\n",
    "        f1.append(temp_f1)\n",
    "    \n",
    "    complete_precision.append(precision)\n",
    "    complete_recall.append(recall)\n",
    "    complete_f1.append(f1)"
   ]
  },
  {
   "cell_type": "code",
   "execution_count": 14,
   "id": "2fc9b21f",
   "metadata": {},
   "outputs": [
    {
     "data": {
      "text/plain": [
       "70"
      ]
     },
     "execution_count": 14,
     "metadata": {},
     "output_type": "execute_result"
    }
   ],
   "source": [
    "len(seq_names)"
   ]
  },
  {
   "cell_type": "code",
   "execution_count": 15,
   "id": "56c4cc53",
   "metadata": {},
   "outputs": [
    {
     "data": {
      "text/plain": [
       "68"
      ]
     },
     "execution_count": 15,
     "metadata": {},
     "output_type": "execute_result"
    }
   ],
   "source": [
    "len(available_seq_names)"
   ]
  },
  {
   "cell_type": "code",
   "execution_count": 56,
   "id": "c1c0a026",
   "metadata": {},
   "outputs": [
    {
     "data": {
      "text/plain": [
       "(5763, 284)"
      ]
     },
     "execution_count": 56,
     "metadata": {},
     "output_type": "execute_result"
    }
   ],
   "source": [
    "np.asarray(complete_training_set[\"sequences\"][\"mabe_challenge\"][seq_names[seq_index]][0]['features']).shape"
   ]
  },
  {
   "cell_type": "code",
   "execution_count": 19,
   "id": "09d99f9d",
   "metadata": {},
   "outputs": [],
   "source": [
    "import pickle\n",
    "with open(\"/media/storage/ryan/mabe_challenge/behavior/behavior_jsons/lgb_sweep_performance\", 'wb') as f:\n",
    "        pickle.dump((complete_precision, complete_recall, complete_f1), f)"
   ]
  },
  {
   "cell_type": "code",
   "execution_count": 40,
   "id": "27c2a5f5",
   "metadata": {},
   "outputs": [
    {
     "data": {
      "image/png": "[encoded data removed]",
      "text/plain": [
       "<Figure size 432x288 with 1 Axes>"
      ]
     },
     "metadata": {
      "needs_background": "light"
     },
     "output_type": "display_data"
    },
    {
     "data": {
      "image/png": "[encoded data removed]",
      "text/plain": [
       "<Figure size 432x288 with 1 Axes>"
      ]
     },
     "metadata": {
      "needs_background": "light"
     },
     "output_type": "display_data"
    },
    {
     "data": {
      "image/png": "[encoded data removed]",
      "text/plain": [
       "<Figure size 432x288 with 1 Axes>"
      ]
     },
     "metadata": {
      "needs_background": "light"
     },
     "output_type": "display_data"
    }
   ],
   "source": [
    "import pickle\n",
    "from matplotlib import pyplot as plt\n",
    "\n",
    "with open(\"/media/storage/ryan/mabe_challenge/behavior/behavior_jsons/light_gbm_performance\", 'rb') as f:\n",
    "    lgt_results = pickle.load(f)\n",
    "        \n",
    "with open(\"/media/storage/ryan/mabe_challenge/behavior/behavior_jsons/catboost_performance\", 'rb') as f:\n",
    "    cat_results = pickle.load(f)\n",
    "\n",
    "plt.figure()\n",
    "plt.plot(np.sum(training_set_sizes_frames, axis=1), np.mean(np.asarray(lgt_results[2])[:, 0:3], axis=1))\n",
    "plt.plot(np.sum(training_set_sizes_frames, axis=1), np.mean(np.asarray(cat_results[2])[:, 0:3], axis=1))\n",
    "plt.legend([\"Light GBM\", \"CatBoost\"])\n",
    "plt.ylabel(\"Macro-Average F1 Score\")\n",
    "plt.xlabel(\"Number of Training Frames\")\n",
    "plt.show()\n",
    "\n",
    "plt.figure()\n",
    "plt.plot(np.sum(training_set_sizes_frames, axis=1), np.mean(np.asarray(lgt_results[0])[:, 0:3], axis=1))\n",
    "plt.plot(np.sum(training_set_sizes_frames, axis=1), np.mean(np.asarray(cat_results[0])[:, 0:3], axis=1))\n",
    "plt.legend([\"Light GBM\", \"CatBoost\"])\n",
    "plt.ylabel(\"Macro-Average Precision\")\n",
    "plt.xlabel(\"Number of Training Frames\")\n",
    "plt.show()\n",
    "\n",
    "plt.figure()\n",
    "plt.plot(np.sum(training_set_sizes_frames, axis=1), np.mean(np.asarray(lgt_results[1])[:, 0:3], axis=1))\n",
    "plt.plot(np.sum(training_set_sizes_frames, axis=1), np.mean(np.asarray(cat_results[1])[:, 0:3], axis=1))\n",
    "plt.legend([\"Light GBM\", \"CatBoost\"])\n",
    "plt.ylabel(\"Macro-Average Recall\")\n",
    "plt.xlabel(\"Number of Training Frames\")\n",
    "plt.show()"
   ]
  },
  {
   "cell_type": "code",
   "execution_count": 46,
   "id": "073addf0",
   "metadata": {},
   "outputs": [
    {
     "data": {
      "image/png": "[encoded data removed]",
      "text/plain": [
       "<Figure size 432x288 with 1 Axes>"
      ]
     },
     "metadata": {
      "needs_background": "light"
     },
     "output_type": "display_data"
    },
    {
     "data": {
      "image/png": "[encoded data removed]",
      "text/plain": [
       "<Figure size 432x288 with 1 Axes>"
      ]
     },
     "metadata": {
      "needs_background": "light"
     },
     "output_type": "display_data"
    },
    {
     "data": {
      "image/png": "[encoded data removed]",
      "text/plain": [
       "<Figure size 432x288 with 1 Axes>"
      ]
     },
     "metadata": {
      "needs_background": "light"
     },
     "output_type": "display_data"
    }
   ],
   "source": [
    "import pickle\n",
    "from matplotlib import pyplot as plt\n",
    "\n",
    "with open(\"/media/storage/ryan/mabe_challenge/behavior/behavior_jsons/light_gbm_performance\", 'rb') as f:\n",
    "    lgt_results = pickle.load(f)\n",
    "        \n",
    "with open(\"/media/storage/ryan/mabe_challenge/behavior/behavior_jsons/catboost_performance\", 'rb') as f:\n",
    "    cat_results = pickle.load(f)\n",
    "\n",
    "plt.figure()\n",
    "plt.plot(training_set_sizes_frames[:, 0], np.asarray(lgt_results[2])[:, 0], color='blue',label='LGT attack')\n",
    "plt.plot(training_set_sizes_frames[:, 1], np.asarray(lgt_results[2])[:, 1], color='orange',label='LGT investigation')\n",
    "plt.plot(training_set_sizes_frames[:, 2], np.asarray(lgt_results[2])[:, 2], color='red',label='LGT mount')\n",
    "\n",
    "plt.plot(training_set_sizes_frames[:, 0], np.asarray(cat_results[2])[:, 0], ls='--', color='blue',label='CAT attack')\n",
    "plt.plot(training_set_sizes_frames[:, 1], np.asarray(cat_results[2])[:, 1], ls='--', color='orange',label='CAT investigation')\n",
    "plt.plot(training_set_sizes_frames[:, 2], np.asarray(cat_results[2])[:, 2], ls='--', color='red',label='CAT mount')\n",
    "plt.legend()\n",
    "plt.ylabel(\"F1 Score\")\n",
    "plt.xlabel(\"Number of Training Frames\")\n",
    "plt.xscale('log')\n",
    "plt.xlim([1000, 200000])\n",
    "plt.show()\n",
    "\n",
    "\n",
    "plt.figure()\n",
    "plt.plot(training_set_sizes_frames[:, 0], np.asarray(lgt_results[0])[:, 0], color='blue',label='LGT attack')\n",
    "plt.plot(training_set_sizes_frames[:, 1], np.asarray(lgt_results[0])[:, 1], color='orange',label='LGT investigation')\n",
    "plt.plot(training_set_sizes_frames[:, 2], np.asarray(lgt_results[0])[:, 2], color='red',label='LGT mount')\n",
    "\n",
    "plt.plot(training_set_sizes_frames[:, 0], np.asarray(cat_results[0])[:, 0], ls='--', color='blue',label='CAT attack')\n",
    "plt.plot(training_set_sizes_frames[:, 1], np.asarray(cat_results[0])[:, 1], ls='--', color='orange',label='CAT investigation')\n",
    "plt.plot(training_set_sizes_frames[:, 2], np.asarray(cat_results[0])[:, 2], ls='--', color='red',label='CAT mount')\n",
    "plt.legend()\n",
    "plt.ylabel(\"Precision\")\n",
    "plt.xlabel(\"Number of Training Frames\")\n",
    "plt.xscale('log')\n",
    "plt.xlim([1000, 200000])\n",
    "plt.show()\n",
    "\n",
    "\n",
    "plt.figure()\n",
    "plt.plot(training_set_sizes_frames[:, 0], np.asarray(lgt_results[1])[:, 0], color='blue',label='LGT attack')\n",
    "plt.plot(training_set_sizes_frames[:, 1], np.asarray(lgt_results[1])[:, 1], color='orange',label='LGT investigation')\n",
    "plt.plot(training_set_sizes_frames[:, 2], np.asarray(lgt_results[1])[:, 2], color='red',label='LGT mount')\n",
    "\n",
    "plt.plot(training_set_sizes_frames[:, 0], np.asarray(cat_results[1])[:, 0], ls='--', color='blue',label='CAT attack')\n",
    "plt.plot(training_set_sizes_frames[:, 1], np.asarray(cat_results[1])[:, 1], ls='--', color='orange',label='CAT investigation')\n",
    "plt.plot(training_set_sizes_frames[:, 2], np.asarray(cat_results[1])[:, 2], ls='--', color='red',label='CAT mount')\n",
    "plt.legend()\n",
    "plt.ylabel(\"Recall\")\n",
    "plt.xlabel(\"Number of Training Frames\")\n",
    "plt.xscale('log')\n",
    "plt.xlim([1000, 200000])\n",
    "plt.show()\n",
    "\n"
   ]
  },
  {
   "cell_type": "code",
   "execution_count": null,
   "id": "6eaf8f61",
   "metadata": {},
   "outputs": [],
   "source": [
    "# WIP CODE\n",
    "## Loop over different training set sizes\n",
    "##### WIP #####\n",
    "import json\n",
    "import numpy as np\n",
    "import copy\n",
    "import random\n",
    "from behavior_classification import MARS_train_test\n",
    "\n",
    "project_path = '/media/storage/ryan/mabe_challenge'\n",
    "\n",
    "with open(\"/media/storage/ryan/mabe_challenge/behavior/behavior_jsons/train_features_0.json\") as f:\n",
    "    complete_training_set = json.load(f)\n",
    "\n",
    "training_set_sizes = np.asarray([0.01])\n",
    "training_set_sizes_frames = np.zeros((len(training_set_sizes), 4))\n",
    "\n",
    "complete_training_set_total_frames = 0\n",
    "for seq_name in complete_training_set[\"sequences\"][\"mabe_challenge\"].keys():\n",
    "    complete_training_set_total_frames += len(complete_training_set[\"sequences\"][\"mabe_challenge\"][seq_name][0][\"annotations\"])\n",
    "\n",
    "random.seed(42)\n",
    "seq_names = list(complete_training_set[\"sequences\"][\"mabe_challenge\"].keys())\n",
    "random.shuffle(seq_names)\n",
    "\n",
    "precision = []\n",
    "recall = []\n",
    "f1 = []\n",
    "\n",
    "for iteration, training_set_size in enumerate(training_set_sizes):\n",
    "    print(\"Loop: {}\".format(iteration))\n",
    "    \n",
    "    training_set_frames = 0\n",
    "    \n",
    "    training_set = {}\n",
    "    training_set[\"vocabulary\"] = copy.deepcopy(complete_training_set[\"vocabulary\"])\n",
    "    training_set[\"feature_names\"] = copy.deepcopy(complete_training_set[\"feature_names\"])\n",
    "    training_set[\"sequences\"] = {}\n",
    "    training_set[\"sequences\"][\"mabe_challenge\"] = {}\n",
    "    \n",
    "    seq_index = 0\n",
    "    \n",
    "    \n",
    "    while(training_set_frames < training_set_size * complete_training_set_total_frames):\n",
    "        training_set[\"sequences\"][\"mabe_challenge\"][seq_names[seq_index]] = copy.deepcopy(complete_training_set[\"sequences\"][\"mabe_challenge\"][seq_names[seq_index]])\n",
    "    \n",
    "        training_set_frames += len(training_set[\"sequences\"][\"mabe_challenge\"][seq_names[seq_index]][0][\"annotations\"])\n",
    "        seq_index += 1\n",
    "    \n",
    "    # counts the number of frames for each behavior\n",
    "    temp_behavior_counter = np.zeros(4)\n",
    "    for training_set_seq_name in training_set[\"sequences\"][\"mabe_challenge\"].keys():\n",
    "        for behavior in range(4):\n",
    "            temp_behavior_counter[behavior] += np.sum(np.asarray(training_set[\"sequences\"][\"mabe_challenge\"][training_set_seq_name][0][\"annotations\"])==behavior)\n",
    "    \n",
    "    # if not all behaviors are included in the training set or the training set is less than one video long\n",
    "    if training_set_frames == 0 or np.any(temp_behavior_counter == 0):\n",
    "        secondary_shuffled_seq_names = random.shuffle(copy.deepcopy(seq_names))\n",
    "        target_training_set_size_frames = training_set_size * complete_training_set_total_frames\n",
    "        \n",
    "        \n",
    "        # loop through shuffled sequences for attack sequence\n",
    "        attack_sequence_found = False\n",
    "        for seq_index, seq_name in enumerate(secondary_shuffled_seq_names):\n",
    "            sequence_length = len(complete_training_set[\"sequences\"][\"mabe_challenge\"][secondary_shuffled_seq_names[[seq_index]]][0][\"annotations\"])\n",
    "            # look for attack sequence\n",
    "            for start_index in range(sequence_length - target_training_set_size_frames // 2):\n",
    "                temp_behavior_counter = np.zeros(4)\n",
    "                for behavior in range(4):\n",
    "                    temp_behavior_counter[behavior] += np.sum(np.asarray(complete_training_set[\"sequences\"][\"mabe_challenge\"][secondary_shuffled_seq_names[[seq_index]]][0][\"annotations\"])[start_index:start_index+target_training_set_size_frames // 2]==behavior)\n",
    "                if (temp_behavior_counter[[0,1,3]] > 0) == np.asarray([True, True, True]):\n",
    "                    training_set[\"sequences\"][\"mabe_challenge\"][seq_name] = copy.deepcopy(complete_training_set[\"sequences\"][\"mabe_challenge\"][seq_names])\n",
    "                    training_set[\"sequences\"][\"mabe_challenge\"][seq_name][0]['features'] = training_set[\"sequences\"][\"mabe_challenge\"][seq_name][0]['features'][start_index:start_index + target_training_set_size_frames // 2, :]\n",
    "                    training_set[\"sequences\"][\"mabe_challenge\"][seq_name][0]['features'] = training_set[\"sequences\"][\"mabe_challenge\"][seq_name][0]['features'][start_index:start_index + target_training_set_size_frames // 2, :]\n",
    "                    attack_sequence_found = True\n",
    "                    print(\"attack sequence found\")\n",
    "                    break\n",
    "        if attack_sequence_found == False:\n",
    "            print(\"suitable attack sequence not found, skipping\")\n",
    "            break\n",
    "        \n",
    "        secondary_shuffled_seq_names.remove(seq_name)\n",
    "        mount_sequence_found = False\n",
    "        for seq_index, seq_name in enumerate(secondary_shuffled_seq_names):\n",
    "            sequence_length = len(complete_training_set[\"sequences\"][\"mabe_challenge\"][secondary_shuffled_seq_names[[seq_index]]][0][\"annotations\"])\n",
    "            # look for attack sequence\n",
    "            for start_index in range(sequence_length - target_training_set_size_frames // 2):\n",
    "                temp_behavior_counter = np.zeros(4)\n",
    "                for behavior in range(4):\n",
    "                    temp_behavior_counter[behavior] += np.sum(np.asarray(complete_training_set[\"sequences\"][\"mabe_challenge\"][secondary_shuffled_seq_names[[seq_index]]][0][\"annotations\"])[start_index:start_index+sequence_length]==behavior)\n",
    "                if (temp_behavior_counter[[1,2,3]] > 0) == np.asarray([True, True, True]):\n",
    "                    mount_sequence_found = True\n",
    "                    print(\"mount sequence found\")\n",
    "                    break\n",
    "        if mount_sequence_found == False:\n",
    "            print(\"suitable mount sequence not found, skipping\")\n",
    "            break\n",
    "        \n",
    "            \n",
    "    val_set_size = 0.1 #initial tests used 0.1\n",
    "    val_set_frames = 0\n",
    "\n",
    "    val_set = {}\n",
    "    val_set[\"vocabulary\"] = copy.deepcopy(training_set[\"vocabulary\"])\n",
    "    val_set[\"feature_names\"] = copy.deepcopy(training_set[\"feature_names\"])\n",
    "    val_set[\"sequences\"] = {}\n",
    "    val_set[\"sequences\"][\"mabe_challenge\"] = {}\n",
    "\n",
    "    seq_index = 0\n",
    "\n",
    "    if len(training_set[\"sequences\"][\"mabe_challenge\"].keys()) > 1:\n",
    "        while(val_set_frames < val_set_size * training_set_frames):\n",
    "            val_set[\"sequences\"][\"mabe_challenge\"][seq_names[seq_index]] = copy.deepcopy(training_set[\"sequences\"][\"mabe_challenge\"][seq_names[seq_index]])\n",
    "            training_set[\"sequences\"][\"mabe_challenge\"].pop(seq_names[seq_index])\n",
    "\n",
    "\n",
    "            val_set_frames += len(val_set[\"sequences\"][\"mabe_challenge\"][seq_names[seq_index]][0][\"annotations\"])\n",
    "            seq_index += 1\n",
    "        \n",
    "    \n",
    "    # counts the number of frames for each behavior\n",
    "    temp_behavior_counter = np.zeros(4)\n",
    "    for val_set_sequence_name in val_set[\"sequences\"][\"mabe_challenge\"].keys():\n",
    "        for behavior in range(4):\n",
    "            temp_behavior_counter[behavior] += np.sum(np.asarray(val_set[\"sequences\"][\"mabe_challenge\"][val_set_sequence_name][0][\"annotations\"])==behavior)\n",
    "    \n",
    "    # if not all behaviors are included in the training set or the training set is less than one video long\n",
    "    if training_set_frames == 0 or np.any(temp_behavior_counter == 0):\n",
    "        secondary_shuffled_seq_names = random.shuffle(copy.deepcopy(seq_names))\n",
    "        target_training_set_size_frames = training_set_size * complete_training_set_total_frames\n",
    "        \n",
    "        \n",
    "        # loop through shuffled sequences for attack sequence\n",
    "        attack_sequence_found = False\n",
    "        for seq_index, seq_name in enumerate(secondary_shuffled_seq_names):\n",
    "            sequence_length = len(complete_training_set[\"sequences\"][\"mabe_challenge\"][secondary_shuffled_seq_names[[seq_index]]][0][\"annotations\"])\n",
    "            # look for attack sequence\n",
    "            for start_index in range(sequence_length - target_training_set_size_frames // 2):\n",
    "                temp_behavior_counter = np.zeros(4)\n",
    "                for behavior in range(4):\n",
    "                    temp_behavior_counter[behavior] += np.sum(np.asarray(complete_training_set[\"sequences\"][\"mabe_challenge\"][secondary_shuffled_seq_names[[seq_index]]][0][\"annotations\"])[start_index:start_index+sequence_length]==behavior)\n",
    "                if (temp_behavior_counter[[0,1,3]] > 0) == np.asarray([True, True, True]):\n",
    "                    attack_sequence_found = True\n",
    "                    print(\"attack sequence found\")\n",
    "                    break\n",
    "        if attack_sequence_found == False:\n",
    "            print(\"suitable attack sequence not found, skipping\")\n",
    "            break\n",
    "        \n",
    "        secondary_shuffled_seq_names.remove(seq_name)\n",
    "        mount_sequence_found = False\n",
    "        for seq_index, seq_name in enumerate(secondary_shuffled_seq_names):\n",
    "            sequence_length = len(complete_training_set[\"sequences\"][\"mabe_challenge\"][secondary_shuffled_seq_names[[seq_index]]][0][\"annotations\"])\n",
    "            # look for attack sequence\n",
    "            for start_index in range(sequence_length - target_training_set_size_frames // 2):\n",
    "                temp_behavior_counter = np.zeros(4)\n",
    "                for behavior in range(4):\n",
    "                    temp_behavior_counter[behavior] += np.sum(np.asarray(complete_training_set[\"sequences\"][\"mabe_challenge\"][secondary_shuffled_seq_names[[seq_index]]][0][\"annotations\"])[start_index:start_index+sequence_length]==behavior)\n",
    "                if (temp_behavior_counter[[1,2,3]] > 0) == np.asarray([True, True, True]):\n",
    "                    mount_sequence_found = True\n",
    "                    print(\"mount sequence found\")\n",
    "                    break\n",
    "        if mount_sequence_found == False:\n",
    "            print(\"suitable mount sequence not found, skipping\")\n",
    "            break\n",
    "    \n",
    "    print(\"val set size: {}\".format(val_set_frames))\n",
    "    \n",
    "    for training_set_seq_name in training_set[\"sequences\"][\"mabe_challenge\"].keys():\n",
    "        for behavior in range(4):\n",
    "            training_set_sizes_frames[iteration, behavior] += np.sum(np.asarray(training_set[\"sequences\"][\"mabe_challenge\"][training_set_seq_name][0][\"annotations\"])==behavior)\n",
    "    print(\"training set size: {}\".format(np.sum(training_set_sizes_frames[iteration])))\n",
    "\n",
    "        \n",
    "    with open(\"/media/storage/ryan/mabe_challenge/behavior/behavior_jsons/val_features.json\", 'w') as f:\n",
    "        json.dump(val_set, f)\n",
    "\n",
    "    with open(\"/media/storage/ryan/mabe_challenge/behavior/behavior_jsons/train_features.json\", 'w') as f:\n",
    "        json.dump(training_set, f)\n",
    "    \n",
    "    results = MARS_train_test.train_classifier(project_path, ['investigation'])\n",
    "    temp_precision, temp_recall, temp_f1 = MARS_train_test.test_classifier(project_path, ['investigation'])\n",
    "    \n",
    "    precision.append(temp_precision)\n",
    "    recall.append(temp_recall)\n",
    "    f1.append(temp_f1)"
   ]
  }
 ],
 "metadata": {
  "kernelspec": {
   "display_name": "Python 3 (ipykernel)",
   "language": "python",
   "name": "python3"
  },
  "language_info": {
   "codemirror_mode": {
    "name": "ipython",
    "version": 3
   },
   "file_extension": ".py",
   "mimetype": "text/x-python",
   "name": "python",
   "nbconvert_exporter": "python",
   "pygments_lexer": "ipython3",
   "version": "3.7.8"
  }
 },
 "nbformat": 4,
 "nbformat_minor": 5
}
