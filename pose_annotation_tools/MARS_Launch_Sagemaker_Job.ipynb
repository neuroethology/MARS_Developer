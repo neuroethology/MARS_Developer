{
 "cells": [
  {
   "cell_type": "markdown",
   "metadata": {},
   "source": [
    "### Running an annotation job on AWS\n",
    "\n",
    "**<font color=red>Important</font>: You should be running this notebook from a Sagemaker Notebook instance on AWS.** \n",
    "\n",
    "You can find detailed instructions for setting up AWS to run annotation jobs [here](docs/readme_groundTruthSetup.md). \n",
    "\n",
    "For this notebook, we will assume you've set up your Lambdas, uploaded your images and the annotation template to a bucket, and created a manifest file for that bucket."
   ]
  },
  {
   "cell_type": "code",
   "execution_count": null,
   "metadata": {},
   "outputs": [],
   "source": [
    "import MARS_AWS_helpers as mah\n",
    "import sagemaker\n",
    "import boto3\n",
    "import time"
   ]
  },
  {
   "cell_type": "code",
   "execution_count": null,
   "metadata": {},
   "outputs": [],
   "source": [
    "# name of the s3 bucket containing the data to be annotated.\n",
    "BUCKET = 'white-100'\n",
    "\n",
    "# name of the data manifest inside that bucket.\n",
    "MANIFEST = 'dataset-123456789'\n",
    "\n",
    "# path to the template for the annotation interface.\n",
    "UITEMPLATE = 's3://white-mouse-test/final_keypoint_unique_label_white.template'"
   ]
  },
  {
   "cell_type": "markdown",
   "metadata": {},
   "source": [
    "First you'll need to retrieve some Amazon Resource Names (ARNs). Think of these as codes that uniquely identify different resources on AWS.\n",
    "\n",
    "To find your `prehuman_arn`, ...\n",
    "\n",
    "To find your `acs_arn`, ...\n",
    "\n",
    "To find your `workteam_arn`, open the [AWS console](http://console.aws.amazon.com) and open SageMaker with the \"Find Services\" search bar. In the left-hand menu, click <kbd>Labeling workforces</kbd>.\n",
    "* If using a public workforce, find `Mechanical_turn_workforce_team` in the team summary, and copy the provided ARN.\n",
    "* If using a private workforce, click the <kbd>Private</kbd> tab at the top of the page, then scroll down to the list of private teams, and copy the ARN of the team you wish to use. Please refer to [this tutorial](docs/readme_privateWorkforce.md) to learn how to create and add users to your own private team."
   ]
  },
  {
   "cell_type": "code",
   "execution_count": null,
   "metadata": {},
   "outputs": [],
   "source": [
    "prehuman_arn = 'arn:aws:lambda:us-east-2:522254924758:function:serverlessrepo-aws-sagema-GtRecipePreHumanTaskFunc-xxxxxxxxxxxxx'\n",
    "acs_arn = 'arn:aws:lambda:us-east-1:919226420625:function:serverlessrepo-aws-sagema-GtRecipeAnnotationConsol-xxxxxxxxxxxxx'\n",
    "workteam_arn = 'arn:aws:sagemaker:us-east-2:394669845002:workteam/public-crowd/default'"
   ]
  },
  {
   "cell_type": "markdown",
   "metadata": {},
   "source": [
    "Next, we will package the task information. If you want to edit the number of annotations per image, the worker compensation, or the job description/keywords, do so here:"
   ]
  },
  {
   "cell_type": "code",
   "execution_count": null,
   "metadata": {},
   "outputs": [],
   "source": [
    "# info about the data to be annotated and the annotation interface.\n",
    "task = {'BUCKET': BUCKET,         \n",
    "        'MANIFEST': MANIFEST, \n",
    "        'UITEMPLATE': UITEMPLATE, }\n",
    "\n",
    "# additional task info/instructions for annotators.\n",
    "task['info'] = {'task_description': 'Please label each body part of interest',\n",
    "                'task_keywords': ['pose', 'keypoints','animal'],\n",
    "                'task_title': 'Please label each body part of interest',\n",
    "                'job_name': '{}-'.format(task['BUCKET']) + str(int(time.time())), }\n",
    "\n",
    "# Number of annotators per frame, and how much each annotator is paid per frame.\n",
    "# Check AWS documentation for permissable compensation values. More workers will make your annotations\n",
    "# more robust to outliers, while lower compensation often leads to noisier pose annotations.\n",
    "task['price'] = {'num_workers': 5,\n",
    "                 'dollars': 0,\n",
    "                 'cents': 9,\n",
    "                 'tenthcent': 0, }\n",
    "\n",
    "# Insert ARNs for resources needed to run an image classification job.\n",
    "task['arns'] = {'prehuman_arn': prehuman_arn,\n",
    "                'acs_arn': acs_arn,\n",
    "                'workteam_arn': workteam_arn, }"
   ]
  },
  {
   "cell_type": "markdown",
   "metadata": {},
   "source": [
    "Now we are ready to submit the annotation job to SageMaker!"
   ]
  },
  {
   "cell_type": "code",
   "execution_count": null,
   "metadata": {},
   "outputs": [],
   "source": [
    "# Connect to SageMaker\n",
    "role = sagemaker.get_execution_role()\n",
    "\n",
    "# Make sure the bucket is in the same region as this notebook.\n",
    "mah.check_bucket_region(role, task)\n",
    "\n",
    "# Package information/settings for the human workforce.\n",
    "human_task_config = mah.configure_workforce(task)\n",
    "\n",
    "# Format the task request.\n",
    "ground_truth_request = mah.configure_ground_truth(task, human_task_config, role)\n",
    "\n",
    "# Submit the task request.\n",
    "sagemaker_client = boto3.client('sagemaker')\n",
    "sagemaker_client.create_labeling_job(**ground_truth_request)"
   ]
  },
  {
   "cell_type": "markdown",
   "metadata": {},
   "source": [
    "In the SageMaker console, click <kbd>Ground Truth</kbd>-></kbd>Labeling Jobs</kbd>, and you should see a job with name `task['info']['job_name']` in progress."
   ]
  }
 ],
 "metadata": {
  "kernelspec": {
   "display_name": "dlc",
   "language": "python",
   "name": "dlc"
  },
  "language_info": {
   "codemirror_mode": {
    "name": "ipython",
    "version": 3
   },
   "file_extension": ".py",
   "mimetype": "text/x-python",
   "name": "python",
   "nbconvert_exporter": "python",
   "pygments_lexer": "ipython3",
   "version": "3.7.8"
  }
 },
 "nbformat": 4,
 "nbformat_minor": 2
}
